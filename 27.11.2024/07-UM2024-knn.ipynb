{
 "cells": [
  {
   "cell_type": "markdown",
   "id": "32aae90e",
   "metadata": {},
   "source": [
    "# Algorytm k najbliższych sąsiadów\n",
    "\n",
    "W ćwiczeniu wykorzystywany jest zbiór danych `donors.csv`, opracowany przez organizację weteranów, która zabiga o datki, kierując kampanie listowe do aktualnych i potencjalnych darczyńców z bazy danych. Zbiór danych zawiera informacje o cechach charakterystycznych klientów oraz o tym, czy zareagowali na kampanię testową. Zadaniem jest pomoc organizacji w przewidzeniu, którzy darczyńcy odpowiedzą na kampanię listową w oparciu o dane demograficzne, wcześniejszą historię datków oraz reakcję na poprzednie kampanie listowe.\n",
    "\n",
    "1. Zaimportuj dane i wyświetl ich podgląd (funkcje `read_csv` oraz `glimpse`. Pierwsze 12 zmiennych jest typu `numeric`, pozostałe 10 jest typu `factor`). Cecha klasy nosi nazwę `respondentMailing`."
   ]
  },
  {
   "cell_type": "code",
   "execution_count": 1,
   "id": "ed11bf9d",
   "metadata": {
    "tags": [
     "remove_cell"
    ],
    "vscode": {
     "languageId": "r"
    }
   },
   "outputs": [
    {
     "name": "stderr",
     "output_type": "stream",
     "text": [
      "── \u001b[1mAttaching core tidyverse packages\u001b[22m ──────────────────────── tidyverse 2.0.0 ──\n",
      "\u001b[32m✔\u001b[39m \u001b[34mdplyr    \u001b[39m 1.1.4     \u001b[32m✔\u001b[39m \u001b[34mreadr    \u001b[39m 2.1.5\n",
      "\u001b[32m✔\u001b[39m \u001b[34mforcats  \u001b[39m 1.0.0     \u001b[32m✔\u001b[39m \u001b[34mstringr  \u001b[39m 1.5.1\n",
      "\u001b[32m✔\u001b[39m \u001b[34mggplot2  \u001b[39m 3.5.1     \u001b[32m✔\u001b[39m \u001b[34mtibble   \u001b[39m 3.2.1\n",
      "\u001b[32m✔\u001b[39m \u001b[34mlubridate\u001b[39m 1.9.3     \u001b[32m✔\u001b[39m \u001b[34mtidyr    \u001b[39m 1.3.1\n",
      "\u001b[32m✔\u001b[39m \u001b[34mpurrr    \u001b[39m 1.0.2     \n",
      "── \u001b[1mConflicts\u001b[22m ────────────────────────────────────────── tidyverse_conflicts() ──\n",
      "\u001b[31m✖\u001b[39m \u001b[34mdplyr\u001b[39m::\u001b[32mfilter()\u001b[39m masks \u001b[34mstats\u001b[39m::filter()\n",
      "\u001b[31m✖\u001b[39m \u001b[34mdplyr\u001b[39m::\u001b[32mlag()\u001b[39m    masks \u001b[34mstats\u001b[39m::lag()\n",
      "\u001b[36mℹ\u001b[39m Use the conflicted package (\u001b[3m\u001b[34m<http://conflicted.r-lib.org/>\u001b[39m\u001b[23m) to force all conflicts to become errors\n"
     ]
    }
   ],
   "source": [
    "library(tidyverse)\n",
    "options(jupyter.rich_display = FALSE,\n",
    "        repr.plot.width = 15,\n",
    "        repr.plot.height = 8)"
   ]
  },
  {
   "cell_type": "code",
   "execution_count": 4,
   "id": "de21c1de",
   "metadata": {
    "vscode": {
     "languageId": "r"
    }
   },
   "outputs": [
    {
     "name": "stderr",
     "output_type": "stream",
     "text": [
      "\u001b[1mRows: \u001b[22m\u001b[34m95412\u001b[39m \u001b[1mColumns: \u001b[22m\u001b[34m22\u001b[39m\n",
      "\u001b[36m──\u001b[39m \u001b[1mColumn specification\u001b[22m \u001b[36m────────────────────────────────────────────────────────\u001b[39m\n",
      "\u001b[1mDelimiter:\u001b[22m \",\"\n",
      "\u001b[31mchr\u001b[39m  (4): state, urbanicity, socioEconomicStatus, gender\n",
      "\u001b[32mdbl\u001b[39m (12): age, numberChildren, incomeRating, wealthRating, mailOrderPurchase...\n",
      "\u001b[33mlgl\u001b[39m  (6): inHouseDonor, plannedGivingDonor, sweepstakesDonor, P3Donor, isHom...\n",
      "\n",
      "\u001b[36mℹ\u001b[39m Use `spec()` to retrieve the full column specification for this data.\n",
      "\u001b[36mℹ\u001b[39m Specify the column types or set `show_col_types = FALSE` to quiet this message.\n"
     ]
    }
   ],
   "source": [
    "df <- read_csv(\"data/donors.csv\")"
   ]
  },
  {
   "cell_type": "code",
   "execution_count": 5,
   "id": "18d7057b",
   "metadata": {
    "vscode": {
     "languageId": "r"
    }
   },
   "outputs": [
    {
     "data": {
      "text/plain": [
       "  age numberChildren incomeRating wealthRating mailOrderPurchases\n",
       "1 60  NA             NA           NA            0                \n",
       "2 46   1              6            9           16                \n",
       "3 NA  NA              3            1            2                \n",
       "4 70  NA              1            4            2                \n",
       "5 78   1              3            2           60                \n",
       "6 NA  NA             NA           NA            0                \n",
       "  totalGivingAmount numberGifts smallestGiftAmount largestGiftAmount\n",
       "1 240               31           5                 12               \n",
       "2  47                3          10                 25               \n",
       "3 202               27           2                 16               \n",
       "4 109               16           2                 11               \n",
       "5 254               37           3                 15               \n",
       "6  51                4          10                 16               \n",
       "  averageGiftAmount ⋯ inHouseDonor plannedGivingDonor sweepstakesDonor P3Donor\n",
       "1  7.741935         ⋯ FALSE        FALSE              FALSE            FALSE  \n",
       "2 15.666667         ⋯ FALSE        FALSE              FALSE            FALSE  \n",
       "3  7.481481         ⋯ FALSE        FALSE              FALSE            FALSE  \n",
       "4  6.812500         ⋯ FALSE        FALSE              FALSE            FALSE  \n",
       "5  6.864865         ⋯  TRUE        FALSE              FALSE             TRUE  \n",
       "6 12.750000         ⋯ FALSE        FALSE              FALSE            FALSE  \n",
       "  state urbanicity socioEconomicStatus isHomeowner gender respondedMailing\n",
       "1 IL    town       average               NA        female FALSE           \n",
       "2 CA    suburb     highest             TRUE        male   FALSE           \n",
       "3 NC    rural      average               NA        male   FALSE           \n",
       "4 CA    rural      average               NA        female FALSE           \n",
       "5 FL    suburb     average             TRUE        female FALSE           \n",
       "6 AL    town       average               NA        NA     FALSE           "
      ]
     },
     "metadata": {},
     "output_type": "display_data"
    }
   ],
   "source": [
    "head(df)"
   ]
  },
  {
   "cell_type": "code",
   "execution_count": 7,
   "id": "4a84d56d",
   "metadata": {
    "vscode": {
     "languageId": "r"
    }
   },
   "outputs": [
    {
     "data": {
      "text/plain": [
       "[1] 95412    22"
      ]
     },
     "metadata": {},
     "output_type": "display_data"
    }
   ],
   "source": [
    "dim(df)"
   ]
  },
  {
   "cell_type": "code",
   "execution_count": 9,
   "id": "acebe47e",
   "metadata": {
    "vscode": {
     "languageId": "r"
    }
   },
   "outputs": [
    {
     "name": "stdout",
     "output_type": "stream",
     "text": [
      "Rows: 95,412\n",
      "Columns: 22\n",
      "$ age                     \u001b[3m\u001b[90m<dbl>\u001b[39m\u001b[23m 60, 46, NA, 70, 78, NA, 38, NA, NA, 65, NA, 75…\n",
      "$ numberChildren          \u001b[3m\u001b[90m<dbl>\u001b[39m\u001b[23m NA, 1, NA, NA, 1, NA, 1, NA, NA, NA, NA, NA, 2…\n",
      "$ incomeRating            \u001b[3m\u001b[90m<dbl>\u001b[39m\u001b[23m NA, 6, 3, 1, 3, NA, 4, 2, 3, NA, 2, 1, 4, NA, …\n",
      "$ wealthRating            \u001b[3m\u001b[90m<dbl>\u001b[39m\u001b[23m NA, 9, 1, 4, 2, NA, 6, 9, 2, NA, 0, 5, 2, NA, …\n",
      "$ mailOrderPurchases      \u001b[3m\u001b[90m<dbl>\u001b[39m\u001b[23m 0, 16, 2, 2, 60, 0, 0, 1, 0, 0, 0, 3, 16, 0, 1…\n",
      "$ totalGivingAmount       \u001b[3m\u001b[90m<dbl>\u001b[39m\u001b[23m 240, 47, 202, 109, 254, 51, 107, 31, 199, 28, …\n",
      "$ numberGifts             \u001b[3m\u001b[90m<dbl>\u001b[39m\u001b[23m 31, 3, 27, 16, 37, 4, 14, 5, 11, 3, 1, 2, 9, 1…\n",
      "$ smallestGiftAmount      \u001b[3m\u001b[90m<dbl>\u001b[39m\u001b[23m 5, 10, 2, 2, 3, 10, 3, 5, 10, 3, 20, 10, 4, 5,…\n",
      "$ largestGiftAmount       \u001b[3m\u001b[90m<dbl>\u001b[39m\u001b[23m 12, 25, 16, 11, 15, 16, 12, 11, 22, 15, 20, 15…\n",
      "$ averageGiftAmount       \u001b[3m\u001b[90m<dbl>\u001b[39m\u001b[23m 7.741935, 15.666667, 7.481481, 6.812500, 6.864…\n",
      "$ yearsSinceFirstDonation \u001b[3m\u001b[90m<dbl>\u001b[39m\u001b[23m 8, 3, 7, 10, 11, 3, 10, 3, 9, 3, 1, 1, 8, 5, 4…\n",
      "$ monthsSinceLastDonation \u001b[3m\u001b[90m<dbl>\u001b[39m\u001b[23m 14, 14, 14, 14, 13, 20, 22, 18, 19, 22, 12, 14…\n",
      "$ inHouseDonor            \u001b[3m\u001b[90m<lgl>\u001b[39m\u001b[23m FALSE, FALSE, FALSE, FALSE, TRUE, FALSE, FALSE…\n",
      "$ plannedGivingDonor      \u001b[3m\u001b[90m<lgl>\u001b[39m\u001b[23m FALSE, FALSE, FALSE, FALSE, FALSE, FALSE, FALS…\n",
      "$ sweepstakesDonor        \u001b[3m\u001b[90m<lgl>\u001b[39m\u001b[23m FALSE, FALSE, FALSE, FALSE, FALSE, FALSE, FALS…\n",
      "$ P3Donor                 \u001b[3m\u001b[90m<lgl>\u001b[39m\u001b[23m FALSE, FALSE, FALSE, FALSE, TRUE, FALSE, FALSE…\n",
      "$ state                   \u001b[3m\u001b[90m<chr>\u001b[39m\u001b[23m \"IL\", \"CA\", \"NC\", \"CA\", \"FL\", \"AL\", \"IN\", \"LA\"…\n",
      "$ urbanicity              \u001b[3m\u001b[90m<chr>\u001b[39m\u001b[23m \"town\", \"suburb\", \"rural\", \"rural\", \"suburb\", …\n",
      "$ socioEconomicStatus     \u001b[3m\u001b[90m<chr>\u001b[39m\u001b[23m \"average\", \"highest\", \"average\", \"average\", \"a…\n",
      "$ isHomeowner             \u001b[3m\u001b[90m<lgl>\u001b[39m\u001b[23m NA, TRUE, NA, NA, TRUE, NA, TRUE, NA, NA, NA, …\n",
      "$ gender                  \u001b[3m\u001b[90m<chr>\u001b[39m\u001b[23m \"female\", \"male\", \"male\", \"female\", \"female\", …\n",
      "$ respondedMailing        \u001b[3m\u001b[90m<lgl>\u001b[39m\u001b[23m FALSE, FALSE, FALSE, FALSE, FALSE, FALSE, FALS…\n"
     ]
    }
   ],
   "source": [
    "glimpse(df)"
   ]
  },
  {
   "cell_type": "code",
   "execution_count": null,
   "id": "aa61e8a8",
   "metadata": {
    "vscode": {
     "languageId": "r"
    }
   },
   "outputs": [],
   "source": []
  },
  {
   "cell_type": "markdown",
   "id": "ad987fb6",
   "metadata": {},
   "source": [
    "2. Ogranicz predyktory wyłącznie do cech liczbowych ze zbioru danych (funkcja `select`). Wyświetl podsumowanie statystyczne dla nowego zbioru danych i sprawdź dla których zmiennych występują braki danych."
   ]
  },
  {
   "cell_type": "code",
   "execution_count": null,
   "id": "f7dda5ce",
   "metadata": {
    "vscode": {
     "languageId": "r"
    }
   },
   "outputs": [],
   "source": []
  },
  {
   "cell_type": "markdown",
   "id": "f7f1ec92",
   "metadata": {},
   "source": [
    "3. Uzupełnij brakujące dane: dla zmiennej `age` użyj imputacji średniej, dla zmiennej `numberChildren` - imputacji mediany. W przypadku cech `incomeRating` oraz `wealthRating` problem brakujących danych rozwiąż wykluczając te wystąpienia ze zbioru danych. Ponadto dla zmiennej `wealthRating` (miara ogólnego majątku darczyńcy w skali od 1 do 9) należy również wykluczyć wystąpienia o wartości 0."
   ]
  },
  {
   "cell_type": "code",
   "execution_count": null,
   "id": "d3f9d3b2",
   "metadata": {
    "vscode": {
     "languageId": "r"
    }
   },
   "outputs": [],
   "source": [
    "\n"
   ]
  },
  {
   "cell_type": "markdown",
   "id": "5e754f2f",
   "metadata": {},
   "source": [
    "4. Utwórz funkcję normalizacji min-max i zapisz ją jako `normalize`. Następnie wykorzystaj ją do znormalizowania wartości cech (ustandaryzowania skali do zakresu od 0 do 1)."
   ]
  },
  {
   "cell_type": "code",
   "execution_count": null,
   "id": "7775d0f0",
   "metadata": {
    "vscode": {
     "languageId": "r"
    }
   },
   "outputs": [],
   "source": [
    "\n"
   ]
  },
  {
   "cell_type": "markdown",
   "id": "9865c1a6",
   "metadata": {},
   "source": [
    "5. Podziel dane na zbiory treningowy i testowy w stosunku 75:25, przekształcając uprzednio dane w ramkę danych. Porównaj rozkłady klas dla oryginalnego zbioru danych oraz zbiorów treningowego i testowego."
   ]
  },
  {
   "cell_type": "code",
   "execution_count": null,
   "id": "715ec33b",
   "metadata": {
    "vscode": {
     "languageId": "r"
    }
   },
   "outputs": [],
   "source": []
  },
  {
   "cell_type": "markdown",
   "id": "140a2aaa",
   "metadata": {},
   "source": [
    "6. Za pomocą funkcji `smote` z pakietu `performanceEstimation` zrównoważ dane treningowe."
   ]
  },
  {
   "cell_type": "code",
   "execution_count": 2,
   "id": "1d4b5e08",
   "metadata": {
    "vscode": {
     "languageId": "r"
    }
   },
   "outputs": [],
   "source": [
    "library(performanceEstimation)"
   ]
  },
  {
   "cell_type": "markdown",
   "id": "d03fcc93",
   "metadata": {},
   "source": [
    "7. Przenieś etykiety klas do osobnych zbiorów danych. Z pomocą polecenia `pull()` z pakietu `tidyverse` utwórz nowe wektory z etykietami cechy klasy (`respondedMailing`) i przekształć je do typu `factor`."
   ]
  },
  {
   "cell_type": "code",
   "execution_count": null,
   "id": "8e965949",
   "metadata": {
    "vscode": {
     "languageId": "r"
    }
   },
   "outputs": [],
   "source": []
  },
  {
   "cell_type": "markdown",
   "id": "fca86d08",
   "metadata": {},
   "source": [
    "8. Przekształć zbiory danych treningowych i testowych do postaci ramek danych bez etykiet klas (`respondedMailing`)."
   ]
  },
  {
   "cell_type": "code",
   "execution_count": null,
   "id": "b7d44ea0",
   "metadata": {
    "vscode": {
     "languageId": "r"
    }
   },
   "outputs": [],
   "source": []
  },
  {
   "cell_type": "markdown",
   "id": "2ab5b7ea",
   "metadata": {},
   "source": [
    "9. Budowanie modelu: Wykorzystaj funkcję `knn()` z pakietu `class` do oznaczenia przykładów testowych na podstawie danych treningowych. `k` ustaw wartość `5`."
   ]
  },
  {
   "cell_type": "code",
   "execution_count": 3,
   "id": "f71dfd4d",
   "metadata": {
    "vscode": {
     "languageId": "r"
    }
   },
   "outputs": [],
   "source": [
    "library(class)\n",
    "\n"
   ]
  },
  {
   "cell_type": "markdown",
   "id": "9bef83d0",
   "metadata": {},
   "source": [
    "10. Wyświetl pierwsze 6 predykcji."
   ]
  },
  {
   "cell_type": "code",
   "execution_count": null,
   "id": "37a43a89",
   "metadata": {
    "vscode": {
     "languageId": "r"
    }
   },
   "outputs": [],
   "source": []
  },
  {
   "cell_type": "markdown",
   "id": "7170cadf",
   "metadata": {},
   "source": [
    "11. Utwórz macierz pomyłek i na jej podstawie oblicz dokładność predykcji."
   ]
  },
  {
   "cell_type": "code",
   "execution_count": null,
   "id": "bd577aba",
   "metadata": {
    "vscode": {
     "languageId": "r"
    }
   },
   "outputs": [],
   "source": []
  },
  {
   "cell_type": "markdown",
   "id": "bde237bb",
   "metadata": {},
   "source": [
    "12. Zmodyfikuj kod tak, aby użyć zmiennych kategorialnych w celu poprawy dokładności modelu."
   ]
  },
  {
   "cell_type": "code",
   "execution_count": null,
   "id": "92b9532a",
   "metadata": {
    "vscode": {
     "languageId": "r"
    }
   },
   "outputs": [],
   "source": []
  }
 ],
 "metadata": {
  "jupytext": {
   "cell_metadata_filter": "tags,-all",
   "main_language": "R",
   "notebook_metadata_filter": "-all"
  },
  "kernelspec": {
   "display_name": "R",
   "language": "R",
   "name": "ir"
  },
  "language_info": {
   "codemirror_mode": "r",
   "file_extension": ".r",
   "mimetype": "text/x-r-source",
   "name": "R",
   "pygments_lexer": "r",
   "version": "4.4.2"
  }
 },
 "nbformat": 4,
 "nbformat_minor": 5
}
