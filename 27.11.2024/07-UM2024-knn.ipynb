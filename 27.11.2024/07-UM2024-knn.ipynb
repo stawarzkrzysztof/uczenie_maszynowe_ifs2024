{
 "cells": [
  {
   "cell_type": "markdown",
   "id": "32aae90e",
   "metadata": {},
   "source": [
    "# Algorytm k najbliższych sąsiadów\n",
    "\n",
    "W ćwiczeniu wykorzystywany jest zbiór danych `donors.csv`, opracowany przez organizację weteranów, która zabiga o datki, kierując kampanie listowe do aktualnych i potencjalnych darczyńców z bazy danych. Zbiór danych zawiera informacje o cechach charakterystycznych klientów oraz o tym, czy zareagowali na kampanię testową. Zadaniem jest pomoc organizacji w przewidzeniu, którzy darczyńcy odpowiedzą na kampanię listową w oparciu o dane demograficzne, wcześniejszą historię datków oraz reakcję na poprzednie kampanie listowe.\n",
    "\n",
    "1. Zaimportuj dane i wyświetl ich podgląd (funkcje `read_csv` oraz `glimpse`. Pierwsze 12 zmiennych jest typu `numeric`, pozostałe 10 jest typu `factor`). Cecha klasy nosi nazwę `respondentMailing`."
   ]
  },
  {
   "cell_type": "code",
   "execution_count": 1,
   "id": "ed11bf9d",
   "metadata": {
    "tags": [
     "remove_cell"
    ],
    "vscode": {
     "languageId": "r"
    }
   },
   "outputs": [
    {
     "name": "stderr",
     "output_type": "stream",
     "text": [
      "── \u001b[1mAttaching core tidyverse packages\u001b[22m ──────────────────────── tidyverse 2.0.0 ──\n",
      "\u001b[32m✔\u001b[39m \u001b[34mdplyr    \u001b[39m 1.1.4     \u001b[32m✔\u001b[39m \u001b[34mreadr    \u001b[39m 2.1.5\n",
      "\u001b[32m✔\u001b[39m \u001b[34mforcats  \u001b[39m 1.0.0     \u001b[32m✔\u001b[39m \u001b[34mstringr  \u001b[39m 1.5.1\n",
      "\u001b[32m✔\u001b[39m \u001b[34mggplot2  \u001b[39m 3.5.1     \u001b[32m✔\u001b[39m \u001b[34mtibble   \u001b[39m 3.2.1\n",
      "\u001b[32m✔\u001b[39m \u001b[34mlubridate\u001b[39m 1.9.3     \u001b[32m✔\u001b[39m \u001b[34mtidyr    \u001b[39m 1.3.1\n",
      "\u001b[32m✔\u001b[39m \u001b[34mpurrr    \u001b[39m 1.0.2     \n",
      "── \u001b[1mConflicts\u001b[22m ────────────────────────────────────────── tidyverse_conflicts() ──\n",
      "\u001b[31m✖\u001b[39m \u001b[34mdplyr\u001b[39m::\u001b[32mfilter()\u001b[39m masks \u001b[34mstats\u001b[39m::filter()\n",
      "\u001b[31m✖\u001b[39m \u001b[34mdplyr\u001b[39m::\u001b[32mlag()\u001b[39m    masks \u001b[34mstats\u001b[39m::lag()\n",
      "\u001b[36mℹ\u001b[39m Use the conflicted package (\u001b[3m\u001b[34m<http://conflicted.r-lib.org/>\u001b[39m\u001b[23m) to force all conflicts to become errors\n"
     ]
    }
   ],
   "source": [
    "library(tidyverse)\n",
    "options(jupyter.rich_display = FALSE,\n",
    "        repr.plot.width = 15,\n",
    "        repr.plot.height = 8)"
   ]
  },
  {
   "cell_type": "code",
   "execution_count": 2,
   "id": "de21c1de",
   "metadata": {
    "vscode": {
     "languageId": "r"
    }
   },
   "outputs": [
    {
     "name": "stderr",
     "output_type": "stream",
     "text": [
      "\u001b[1mRows: \u001b[22m\u001b[34m95412\u001b[39m \u001b[1mColumns: \u001b[22m\u001b[34m22\u001b[39m\n",
      "\u001b[36m──\u001b[39m \u001b[1mColumn specification\u001b[22m \u001b[36m────────────────────────────────────────────────────────\u001b[39m\n",
      "\u001b[1mDelimiter:\u001b[22m \",\"\n",
      "\u001b[31mchr\u001b[39m  (4): state, urbanicity, socioEconomicStatus, gender\n",
      "\u001b[32mdbl\u001b[39m (12): age, numberChildren, incomeRating, wealthRating, mailOrderPurchase...\n",
      "\u001b[33mlgl\u001b[39m  (6): inHouseDonor, plannedGivingDonor, sweepstakesDonor, P3Donor, isHom...\n",
      "\n",
      "\u001b[36mℹ\u001b[39m Use `spec()` to retrieve the full column specification for this data.\n",
      "\u001b[36mℹ\u001b[39m Specify the column types or set `show_col_types = FALSE` to quiet this message.\n"
     ]
    }
   ],
   "source": [
    "df <- read_csv(\"data/donors.csv\")"
   ]
  },
  {
   "cell_type": "code",
   "execution_count": 3,
   "id": "18d7057b",
   "metadata": {
    "vscode": {
     "languageId": "r"
    }
   },
   "outputs": [
    {
     "data": {
      "text/plain": [
       "  age numberChildren incomeRating wealthRating mailOrderPurchases\n",
       "1 60  NA             NA           NA            0                \n",
       "2 46   1              6            9           16                \n",
       "3 NA  NA              3            1            2                \n",
       "4 70  NA              1            4            2                \n",
       "5 78   1              3            2           60                \n",
       "6 NA  NA             NA           NA            0                \n",
       "  totalGivingAmount numberGifts smallestGiftAmount largestGiftAmount\n",
       "1 240               31           5                 12               \n",
       "2  47                3          10                 25               \n",
       "3 202               27           2                 16               \n",
       "4 109               16           2                 11               \n",
       "5 254               37           3                 15               \n",
       "6  51                4          10                 16               \n",
       "  averageGiftAmount ⋯ inHouseDonor plannedGivingDonor sweepstakesDonor P3Donor\n",
       "1  7.741935         ⋯ FALSE        FALSE              FALSE            FALSE  \n",
       "2 15.666667         ⋯ FALSE        FALSE              FALSE            FALSE  \n",
       "3  7.481481         ⋯ FALSE        FALSE              FALSE            FALSE  \n",
       "4  6.812500         ⋯ FALSE        FALSE              FALSE            FALSE  \n",
       "5  6.864865         ⋯  TRUE        FALSE              FALSE             TRUE  \n",
       "6 12.750000         ⋯ FALSE        FALSE              FALSE            FALSE  \n",
       "  state urbanicity socioEconomicStatus isHomeowner gender respondedMailing\n",
       "1 IL    town       average               NA        female FALSE           \n",
       "2 CA    suburb     highest             TRUE        male   FALSE           \n",
       "3 NC    rural      average               NA        male   FALSE           \n",
       "4 CA    rural      average               NA        female FALSE           \n",
       "5 FL    suburb     average             TRUE        female FALSE           \n",
       "6 AL    town       average               NA        NA     FALSE           "
      ]
     },
     "metadata": {},
     "output_type": "display_data"
    }
   ],
   "source": [
    "head(df)"
   ]
  },
  {
   "cell_type": "code",
   "execution_count": 4,
   "id": "4a84d56d",
   "metadata": {
    "vscode": {
     "languageId": "r"
    }
   },
   "outputs": [
    {
     "data": {
      "text/plain": [
       "[1] 95412    22"
      ]
     },
     "metadata": {},
     "output_type": "display_data"
    }
   ],
   "source": [
    "dim(df)"
   ]
  },
  {
   "cell_type": "code",
   "execution_count": 5,
   "id": "aa61e8a8",
   "metadata": {
    "vscode": {
     "languageId": "r"
    }
   },
   "outputs": [],
   "source": [
    "df <- df %>%\n",
    "  mutate(\n",
    "         age = as.integer(age),\n",
    "         numberChildren = as.integer(numberChildren),\n",
    "         incomeRating = as.integer(incomeRating),\n",
    "         wealthRating = as.integer(wealthRating),\n",
    "         mailOrderPurchases = as.integer(mailOrderPurchases),\n",
    "         totalGivingAmount = as.integer(totalGivingAmount),\n",
    "         numberGifts = as.integer(numberGifts),\n",
    "         smallestGiftAmount = as.integer(smallestGiftAmount),\n",
    "         largestGiftAmount = as.integer(largestGiftAmount),\n",
    "         averageGiftAmount = as.double(averageGiftAmount),\n",
    "         yearsSinceFirstDonation = as.integer(yearsSinceFirstDonation),\n",
    "         monthsSinceLastDonation = as.integer(monthsSinceLastDonation),\n",
    "         inHouseDonor = as.factor(inHouseDonor),\n",
    "         plannedGivingDonor = as.factor(plannedGivingDonor),\n",
    "         sweepstakesDonor = as.factor(sweepstakesDonor),\n",
    "         P3Donor = as.factor(P3Donor),\n",
    "         state = as.factor(state),\n",
    "         urbanicity = as.factor(urbanicity),\n",
    "         socioEconomicStatus = as.factor(socioEconomicStatus),\n",
    "         isHomeowner = as.factor(isHomeowner),\n",
    "         gender = as.factor(gender), \n",
    "         respondedMailing = as.factor(respondedMailing))"
   ]
  },
  {
   "cell_type": "code",
   "execution_count": 6,
   "id": "9a50e63e",
   "metadata": {
    "vscode": {
     "languageId": "r"
    }
   },
   "outputs": [
    {
     "name": "stdout",
     "output_type": "stream",
     "text": [
      "Rows: 95,412\n",
      "Columns: 22\n",
      "$ age                     \u001b[3m\u001b[90m<int>\u001b[39m\u001b[23m 60, 46, NA, 70, 78, NA, 38, NA, NA, 65, NA, 75…\n",
      "$ numberChildren          \u001b[3m\u001b[90m<int>\u001b[39m\u001b[23m NA, 1, NA, NA, 1, NA, 1, NA, NA, NA, NA, NA, 2…\n",
      "$ incomeRating            \u001b[3m\u001b[90m<int>\u001b[39m\u001b[23m NA, 6, 3, 1, 3, NA, 4, 2, 3, NA, 2, 1, 4, NA, …\n",
      "$ wealthRating            \u001b[3m\u001b[90m<int>\u001b[39m\u001b[23m NA, 9, 1, 4, 2, NA, 6, 9, 2, NA, 0, 5, 2, NA, …\n",
      "$ mailOrderPurchases      \u001b[3m\u001b[90m<int>\u001b[39m\u001b[23m 0, 16, 2, 2, 60, 0, 0, 1, 0, 0, 0, 3, 16, 0, 1…\n",
      "$ totalGivingAmount       \u001b[3m\u001b[90m<int>\u001b[39m\u001b[23m 240, 47, 202, 109, 254, 51, 107, 31, 199, 28, …\n",
      "$ numberGifts             \u001b[3m\u001b[90m<int>\u001b[39m\u001b[23m 31, 3, 27, 16, 37, 4, 14, 5, 11, 3, 1, 2, 9, 1…\n",
      "$ smallestGiftAmount      \u001b[3m\u001b[90m<int>\u001b[39m\u001b[23m 5, 10, 2, 2, 3, 10, 3, 5, 10, 3, 20, 10, 4, 5,…\n",
      "$ largestGiftAmount       \u001b[3m\u001b[90m<int>\u001b[39m\u001b[23m 12, 25, 16, 11, 15, 16, 12, 11, 22, 15, 20, 15…\n",
      "$ averageGiftAmount       \u001b[3m\u001b[90m<dbl>\u001b[39m\u001b[23m 7.741935, 15.666667, 7.481481, 6.812500, 6.864…\n",
      "$ yearsSinceFirstDonation \u001b[3m\u001b[90m<int>\u001b[39m\u001b[23m 8, 3, 7, 10, 11, 3, 10, 3, 9, 3, 1, 1, 8, 5, 4…\n",
      "$ monthsSinceLastDonation \u001b[3m\u001b[90m<int>\u001b[39m\u001b[23m 14, 14, 14, 14, 13, 20, 22, 18, 19, 22, 12, 14…\n",
      "$ inHouseDonor            \u001b[3m\u001b[90m<fct>\u001b[39m\u001b[23m FALSE, FALSE, FALSE, FALSE, TRUE, FALSE, FALSE…\n",
      "$ plannedGivingDonor      \u001b[3m\u001b[90m<fct>\u001b[39m\u001b[23m FALSE, FALSE, FALSE, FALSE, FALSE, FALSE, FALS…\n",
      "$ sweepstakesDonor        \u001b[3m\u001b[90m<fct>\u001b[39m\u001b[23m FALSE, FALSE, FALSE, FALSE, FALSE, FALSE, FALS…\n",
      "$ P3Donor                 \u001b[3m\u001b[90m<fct>\u001b[39m\u001b[23m FALSE, FALSE, FALSE, FALSE, TRUE, FALSE, FALSE…\n",
      "$ state                   \u001b[3m\u001b[90m<fct>\u001b[39m\u001b[23m IL, CA, NC, CA, FL, AL, IN, LA, IA, TN, KS, IN…\n",
      "$ urbanicity              \u001b[3m\u001b[90m<fct>\u001b[39m\u001b[23m town, suburb, rural, rural, suburb, town, town…\n",
      "$ socioEconomicStatus     \u001b[3m\u001b[90m<fct>\u001b[39m\u001b[23m average, highest, average, average, average, a…\n",
      "$ isHomeowner             \u001b[3m\u001b[90m<fct>\u001b[39m\u001b[23m NA, TRUE, NA, NA, TRUE, NA, TRUE, NA, NA, NA, …\n",
      "$ gender                  \u001b[3m\u001b[90m<fct>\u001b[39m\u001b[23m female, male, male, female, female, NA, female…\n",
      "$ respondedMailing        \u001b[3m\u001b[90m<fct>\u001b[39m\u001b[23m FALSE, FALSE, FALSE, FALSE, FALSE, FALSE, FALS…\n"
     ]
    }
   ],
   "source": [
    "glimpse(df)"
   ]
  },
  {
   "cell_type": "markdown",
   "id": "ad987fb6",
   "metadata": {},
   "source": [
    "2. Ogranicz predyktory wyłącznie do cech liczbowych ze zbioru danych (funkcja `select`). Wyświetl podsumowanie statystyczne dla nowego zbioru danych i sprawdź dla których zmiennych występują braki danych."
   ]
  },
  {
   "cell_type": "code",
   "execution_count": 7,
   "id": "5a8e91e7",
   "metadata": {
    "vscode": {
     "languageId": "r"
    }
   },
   "outputs": [],
   "source": [
    "df_numeric <- df %>%\n",
    "    select(where(is.numeric))\n",
    "\n",
    "df_numeric[\"respondedMailing\"] <- df[\"respondedMailing\"]"
   ]
  },
  {
   "cell_type": "code",
   "execution_count": 8,
   "id": "33ba3923",
   "metadata": {
    "vscode": {
     "languageId": "r"
    }
   },
   "outputs": [],
   "source": [
    "numberofna <- df_numeric %>%\n",
    "  filter(if_any(everything(), is.na)) %>%\n",
    "  nrow()"
   ]
  },
  {
   "cell_type": "code",
   "execution_count": 9,
   "id": "92e18137",
   "metadata": {
    "vscode": {
     "languageId": "r"
    }
   },
   "outputs": [
    {
     "data": {
      "text/plain": [
       "[1] 91.86"
      ]
     },
     "metadata": {},
     "output_type": "display_data"
    }
   ],
   "source": [
    "round(numberofna / nrow(df_numeric) * 100, 2)"
   ]
  },
  {
   "cell_type": "markdown",
   "id": "95ce4a74",
   "metadata": {},
   "source": [
    "*92% wierszy w kolumnach numerycznych (1:12) ma w sobie przynajmniej jedno `NA`*"
   ]
  },
  {
   "cell_type": "markdown",
   "id": "f7f1ec92",
   "metadata": {},
   "source": [
    "3. Uzupełnij brakujące dane: dla zmiennej `age` użyj imputacji średniej, dla zmiennej `numberChildren` - imputacji mediany. W przypadku cech `incomeRating` oraz `wealthRating` problem brakujących danych rozwiąż wykluczając te wystąpienia ze zbioru danych. Ponadto dla zmiennej `wealthRating` (miara ogólnego majątku darczyńcy w skali od 1 do 9) należy również wykluczyć wystąpienia o wartości 0."
   ]
  },
  {
   "cell_type": "code",
   "execution_count": 10,
   "id": "22a72d14",
   "metadata": {
    "vscode": {
     "languageId": "r"
    }
   },
   "outputs": [],
   "source": [
    "df_numeric[\"age\"][is.na(df_numeric[\"age\"])] <- as.integer(mean(df_numeric$age, na.rm = TRUE))\n",
    "df_numeric[\"numberChildren\"][is.na(df_numeric[\"numberChildren\"])] <- median(df_numeric$numberChildren, na.rm = TRUE)\n",
    "\n",
    "df_numeric <- df_numeric %>%\n",
    "    filter(!is.na(incomeRating) & \n",
    "           !is.na(wealthRating) & \n",
    "           wealthRating > 0\n",
    "    )"
   ]
  },
  {
   "cell_type": "code",
   "execution_count": 11,
   "id": "ba15750a",
   "metadata": {
    "vscode": {
     "languageId": "r"
    }
   },
   "outputs": [
    {
     "data": {
      "text/plain": [
       "[1] 0"
      ]
     },
     "metadata": {},
     "output_type": "display_data"
    }
   ],
   "source": [
    "df_numeric %>%\n",
    "  filter(if_any(everything(), is.na)) %>%\n",
    "  nrow()"
   ]
  },
  {
   "cell_type": "code",
   "execution_count": 12,
   "id": "71b272ee",
   "metadata": {
    "vscode": {
     "languageId": "r"
    }
   },
   "outputs": [
    {
     "data": {
      "text/plain": [
       "[1] 48267    13"
      ]
     },
     "metadata": {},
     "output_type": "display_data"
    }
   ],
   "source": [
    "dim(df_numeric)"
   ]
  },
  {
   "cell_type": "markdown",
   "id": "ccedec26",
   "metadata": {},
   "source": [
    "*nie ma braków juz, zostało 48_267 wierszy*"
   ]
  },
  {
   "cell_type": "markdown",
   "id": "5e754f2f",
   "metadata": {},
   "source": [
    "4. Utwórz funkcję normalizacji min-max i zapisz ją jako `normalize`. Następnie wykorzystaj ją do znormalizowania wartości cech (ustandaryzowania skali do zakresu od 0 do 1)."
   ]
  },
  {
   "cell_type": "code",
   "execution_count": 13,
   "id": "7775d0f0",
   "metadata": {
    "vscode": {
     "languageId": "r"
    }
   },
   "outputs": [],
   "source": [
    "min_max <- function(x) {\n",
    "    return ( (x - min(x)) / (max(x) - min(x)) )\n",
    "}"
   ]
  },
  {
   "cell_type": "code",
   "execution_count": 14,
   "id": "9668a88c",
   "metadata": {
    "vscode": {
     "languageId": "r"
    }
   },
   "outputs": [],
   "source": [
    "df_numeric_norm <- data.frame(sapply(df_numeric, function(x) if (is.numeric(x)) min_max(x) else x))\n",
    "df_numeric_norm[\"respondedMailing\"] <- as.factor(df_numeric_norm[\"respondedMailing\"] == 2)\n",
    "# podczas stosowania sapply do minmaxa moj factor z jakiegos powodu przerzucil sie numeric z wartosciami 1 i 2, wiec zmieniam na factor z powrotem"
   ]
  },
  {
   "cell_type": "markdown",
   "id": "9865c1a6",
   "metadata": {},
   "source": [
    "5. Podziel dane na zbiory treningowy i testowy w stosunku 75:25, przekształcając uprzednio dane w ramkę danych. Porównaj rozkłady klas dla oryginalnego zbioru danych oraz zbiorów treningowego i testowego."
   ]
  },
  {
   "cell_type": "code",
   "execution_count": 15,
   "id": "715ec33b",
   "metadata": {
    "vscode": {
     "languageId": "r"
    }
   },
   "outputs": [],
   "source": [
    "set.seed(2024)\n",
    "split <- rsample::initial_split(df_numeric_norm, prop = 0.75)\n",
    "\n",
    "X_train <- rsample::training(split)\n",
    "X_test <- rsample::testing(split)"
   ]
  },
  {
   "cell_type": "code",
   "execution_count": 16,
   "id": "a75caf94",
   "metadata": {
    "vscode": {
     "languageId": "r"
    }
   },
   "outputs": [],
   "source": [
    "print_class_dist <- function(data, name) {\n",
    "    cat(glue::glue(\"{name} dataset class distribution\"))\n",
    "    data %>%\n",
    "    group_by(respondedMailing) %>%\n",
    "    count(name = \"count\") %>%\n",
    "    mutate(perc_dist = count/nrow(data))\n",
    "}"
   ]
  },
  {
   "cell_type": "code",
   "execution_count": 17,
   "id": "da053b2d",
   "metadata": {
    "vscode": {
     "languageId": "r"
    }
   },
   "outputs": [
    {
     "name": "stdout",
     "output_type": "stream",
     "text": [
      "Whole dataset class distribution"
     ]
    },
    {
     "data": {
      "text/plain": [
       "  respondedMailing count perc_dist \n",
       "1 FALSE            90569 0.94924119\n",
       "2 TRUE              4843 0.05075881"
      ]
     },
     "metadata": {},
     "output_type": "display_data"
    }
   ],
   "source": [
    "print_class_dist(df, \"Whole\")"
   ]
  },
  {
   "cell_type": "code",
   "execution_count": 18,
   "id": "b34f4f17",
   "metadata": {
    "vscode": {
     "languageId": "r"
    }
   },
   "outputs": [
    {
     "name": "stdout",
     "output_type": "stream",
     "text": [
      "Training dataset class distribution"
     ]
    },
    {
     "data": {
      "text/plain": [
       "  respondedMailing count perc_dist \n",
       "1 FALSE            34325 0.94820442\n",
       "2 TRUE              1875 0.05179558"
      ]
     },
     "metadata": {},
     "output_type": "display_data"
    }
   ],
   "source": [
    "print_class_dist(X_train, \"Training\")"
   ]
  },
  {
   "cell_type": "code",
   "execution_count": 19,
   "id": "6ef225f5",
   "metadata": {
    "vscode": {
     "languageId": "r"
    }
   },
   "outputs": [
    {
     "name": "stdout",
     "output_type": "stream",
     "text": [
      "Test dataset class distribution"
     ]
    },
    {
     "data": {
      "text/plain": [
       "  respondedMailing count perc_dist \n",
       "1 FALSE            11445 0.94845446\n",
       "2 TRUE               622 0.05154554"
      ]
     },
     "metadata": {},
     "output_type": "display_data"
    }
   ],
   "source": [
    "print_class_dist(X_test, \"Test\")"
   ]
  },
  {
   "cell_type": "markdown",
   "id": "140a2aaa",
   "metadata": {},
   "source": [
    "6. Za pomocą funkcji `smote` z pakietu `performanceEstimation` zrównoważ dane treningowe."
   ]
  },
  {
   "cell_type": "code",
   "execution_count": 20,
   "id": "994c8ad1",
   "metadata": {
    "vscode": {
     "languageId": "r"
    }
   },
   "outputs": [
    {
     "name": "stdout",
     "output_type": "stream",
     "text": [
      "Smoted dataset class distribution"
     ]
    },
    {
     "data": {
      "text/plain": [
       "  respondedMailing count perc_dist\n",
       "1 FALSE            18562 0.4974807\n",
       "2 TRUE             18750 0.5025193"
      ]
     },
     "metadata": {},
     "output_type": "display_data"
    },
    {
     "data": {
      "text/plain": [
       "[1] 37312"
      ]
     },
     "metadata": {},
     "output_type": "display_data"
    },
    {
     "data": {
      "text/plain": [
       "[1] 36200"
      ]
     },
     "metadata": {},
     "output_type": "display_data"
    }
   ],
   "source": [
    "library(performanceEstimation)\n",
    "smote_data <- smote(respondedMailing ~ ., data = X_train, perc.over = 9, perc.under = 1.1, k = 5)\n",
    "print_class_dist(smote_data, \"Smoted\")\n",
    "\n",
    "nrow(smote_data)\n",
    "nrow(X_train)"
   ]
  },
  {
   "cell_type": "markdown",
   "id": "e49f4dbb",
   "metadata": {},
   "source": [
    "*chcialem zrobic tak, zeby zostalo 34k falsow i dodac 32k trueow, ale przekroczylo to 16gb pamieci, wiec postanowilem wyrownac zeby bylo +- tyle samo obserwacji*"
   ]
  },
  {
   "cell_type": "code",
   "execution_count": 21,
   "id": "3c4f3e17",
   "metadata": {
    "vscode": {
     "languageId": "r"
    }
   },
   "outputs": [],
   "source": [
    "X_train <- smote_data"
   ]
  },
  {
   "cell_type": "markdown",
   "id": "d03fcc93",
   "metadata": {},
   "source": [
    "7. Przenieś etykiety klas do osobnych zbiorów danych. Z pomocą polecenia `pull()` z pakietu `tidyverse` utwórz nowe wektory z etykietami cechy klasy (`respondedMailing`) i przekształć je do typu `factor`."
   ]
  },
  {
   "cell_type": "markdown",
   "id": "fca86d08",
   "metadata": {},
   "source": [
    "8. Przekształć zbiory danych treningowych i testowych do postaci ramek danych bez etykiet klas (`respondedMailing`)."
   ]
  },
  {
   "cell_type": "markdown",
   "id": "7c246f6b",
   "metadata": {},
   "source": [
    "*pewnie madrze byloby uzyc pull, ale z racji ze mam klasy w ostatniej kolumnie i juz sa typu factor to po prostu je po chlopsku wyciagne i usune ostatnia kolumne*"
   ]
  },
  {
   "cell_type": "code",
   "execution_count": 22,
   "id": "b7d44ea0",
   "metadata": {
    "vscode": {
     "languageId": "r"
    }
   },
   "outputs": [],
   "source": [
    "y_train <- X_train$respondedMailing\n",
    "y_test <- X_test$respondedMailing\n",
    "\n",
    "X_train <- X_train[-13]\n",
    "X_test <- X_test[-13]"
   ]
  },
  {
   "cell_type": "markdown",
   "id": "2ab5b7ea",
   "metadata": {},
   "source": [
    "9. Budowanie modelu: Wykorzystaj funkcję `knn()` z pakietu `class` do oznaczenia przykładów testowych na podstawie danych treningowych. `k` ustaw wartość `5`."
   ]
  },
  {
   "cell_type": "code",
   "execution_count": 23,
   "id": "f71dfd4d",
   "metadata": {
    "vscode": {
     "languageId": "r"
    }
   },
   "outputs": [],
   "source": [
    "library(class)"
   ]
  },
  {
   "cell_type": "code",
   "execution_count": 24,
   "id": "5b4f0b24",
   "metadata": {
    "vscode": {
     "languageId": "r"
    }
   },
   "outputs": [],
   "source": [
    "y_pred <- knn(train = X_train, test = X_test, cl = y_train, k = 5)"
   ]
  },
  {
   "cell_type": "markdown",
   "id": "9bef83d0",
   "metadata": {},
   "source": [
    "10. Wyświetl pierwsze 6 predykcji."
   ]
  },
  {
   "cell_type": "code",
   "execution_count": 25,
   "id": "37a43a89",
   "metadata": {
    "vscode": {
     "languageId": "r"
    }
   },
   "outputs": [
    {
     "data": {
      "text/plain": [
       "[1] FALSE TRUE  FALSE FALSE TRUE  FALSE\n",
       "Levels: FALSE TRUE"
      ]
     },
     "metadata": {},
     "output_type": "display_data"
    }
   ],
   "source": [
    "head(y_pred, 6)"
   ]
  },
  {
   "cell_type": "markdown",
   "id": "917f78e8",
   "metadata": {},
   "source": [
    "*fajnie ze od razu mamy factor po predykcji nie trzeba rzutowac*"
   ]
  },
  {
   "cell_type": "markdown",
   "id": "7170cadf",
   "metadata": {},
   "source": [
    "11. Utwórz macierz pomyłek i na jej podstawie oblicz dokładność predykcji."
   ]
  },
  {
   "cell_type": "code",
   "execution_count": 26,
   "id": "bd577aba",
   "metadata": {
    "vscode": {
     "languageId": "r"
    }
   },
   "outputs": [
    {
     "data": {
      "text/plain": [
       "Confusion Matrix and Statistics\n",
       "\n",
       "          Reference\n",
       "Prediction FALSE TRUE\n",
       "     FALSE  8031  427\n",
       "     TRUE   3414  195\n",
       "                                        \n",
       "               Accuracy : 0.6817        \n",
       "                 95% CI : (0.6733, 0.69)\n",
       "    No Information Rate : 0.9485        \n",
       "    P-Value [Acc > NIR] : 1             \n",
       "                                        \n",
       "                  Kappa : 0.0047        \n",
       "                                        \n",
       " Mcnemar's Test P-Value : <2e-16        \n",
       "                                        \n",
       "            Sensitivity : 0.70170       \n",
       "            Specificity : 0.31350       \n",
       "         Pos Pred Value : 0.94952       \n",
       "         Neg Pred Value : 0.05403       \n",
       "             Prevalence : 0.94845       \n",
       "         Detection Rate : 0.66553       \n",
       "   Detection Prevalence : 0.70092       \n",
       "      Balanced Accuracy : 0.50760       \n",
       "                                        \n",
       "       'Positive' Class : FALSE         \n",
       "                                        "
      ]
     },
     "metadata": {},
     "output_type": "display_data"
    }
   ],
   "source": [
    "caret::confusionMatrix(y_pred, y_test)"
   ]
  },
  {
   "cell_type": "markdown",
   "id": "bde237bb",
   "metadata": {},
   "source": [
    "12. Zmodyfikuj kod tak, aby użyć zmiennych kategorialnych w celu poprawy dokładności modelu."
   ]
  },
  {
   "cell_type": "code",
   "execution_count": 27,
   "id": "2ebee9bc",
   "metadata": {
    "vscode": {
     "languageId": "r"
    }
   },
   "outputs": [
    {
     "data": {
      "text/plain": [
       "[1] 92.71"
      ]
     },
     "metadata": {},
     "output_type": "display_data"
    }
   ],
   "source": [
    "numberofna <- df %>%\n",
    "  filter(if_any(everything(), is.na)) %>%\n",
    "  nrow()\n",
    "  \n",
    "round(numberofna / nrow(df) * 100, 2)"
   ]
  },
  {
   "cell_type": "markdown",
   "id": "e193b46c",
   "metadata": {
    "vscode": {
     "languageId": "r"
    }
   },
   "source": [
    "*93% wierszy we wszystkich kolumnach (1:22) ma w sobie przynajmniej jedno `NA`*"
   ]
  },
  {
   "cell_type": "code",
   "execution_count": 28,
   "id": "abc1ae6a",
   "metadata": {
    "vscode": {
     "languageId": "r"
    }
   },
   "outputs": [],
   "source": [
    "df[\"age\"][is.na(df[\"age\"])] <- as.integer(mean(df$age, na.rm = TRUE))\n",
    "df[\"numberChildren\"][is.na(df[\"numberChildren\"])] <- median(df$numberChildren, na.rm = TRUE)\n",
    "\n",
    "df <- df %>%\n",
    "    filter(!is.na(incomeRating) & \n",
    "           !is.na(wealthRating) & \n",
    "           wealthRating > 0\n",
    "    )"
   ]
  },
  {
   "cell_type": "code",
   "execution_count": 29,
   "id": "5417dee9",
   "metadata": {
    "vscode": {
     "languageId": "r"
    }
   },
   "outputs": [
    {
     "data": {
      "text/plain": [
       "[1] 13702"
      ]
     },
     "metadata": {},
     "output_type": "display_data"
    }
   ],
   "source": [
    "df %>%\n",
    "  filter(if_any(everything(), is.na)) %>%\n",
    "  nrow()"
   ]
  },
  {
   "cell_type": "markdown",
   "id": "c76b1aab",
   "metadata": {},
   "source": [
    "*po tych operacjach na kolumnach numerycznych (1:12) bylo 0 NA, co oznacza, ze mamy 13k wierszy, ktore w kolumnach kategorialnych (13:22) maja przynajmniej jedno NA, troche przypal*"
   ]
  },
  {
   "cell_type": "code",
   "execution_count": 30,
   "id": "308a6713",
   "metadata": {
    "vscode": {
     "languageId": "r"
    }
   },
   "outputs": [
    {
     "data": {
      "text/plain": [
       " inHouseDonor  plannedGivingDonor sweepstakesDonor  P3Donor     \n",
       " FALSE:44542   FALSE:48225        FALSE:47467      FALSE:47249  \n",
       " TRUE : 3725   TRUE :   42        TRUE :  800      TRUE : 1018  \n",
       "                                                                \n",
       "                                                                \n",
       "                                                                \n",
       "                                                                \n",
       "                                                                \n",
       "     state        urbanicity    socioEconomicStatus isHomeowner     gender     \n",
       " CA     : 7999   city  :10668   average:24616       TRUE:35856   female:25412  \n",
       " FL     : 4585   rural : 7589   highest:16598       NA's:12411   joint :  215  \n",
       " TX     : 3894   suburb:12613   lowest : 5925                    male  :21644  \n",
       " IL     : 3529   town  :10558   NA's   : 1128                    NA's  :  996  \n",
       " MI     : 3005   urban : 5711                                                  \n",
       " NC     : 2054   NA's  : 1128                                                  \n",
       " (Other):23201                                                                 \n",
       " respondedMailing\n",
       " FALSE:45770     \n",
       " TRUE : 2497     \n",
       "                 \n",
       "                 \n",
       "                 \n",
       "                 \n",
       "                 "
      ]
     },
     "metadata": {},
     "output_type": "display_data"
    }
   ],
   "source": [
    "summary(df[13:22])"
   ]
  },
  {
   "cell_type": "markdown",
   "id": "02e6682b",
   "metadata": {},
   "source": [
    "*wyglada na to, ze cos zlego stalo sie z kolumna isHomeowner, gdy mamy tam tylko 35k TRUE, a reszta 12k to NA. podejrzewam, ze moze byc tak, ze te NA to tak naprawde FALSE, ale pewnosci nie mam i moze to zaburzyc knn wiec na wszelki wypadek pozbede sie tej kolumny z dalszych obliczen*"
   ]
  },
  {
   "cell_type": "code",
   "execution_count": 31,
   "id": "8e3da3f7",
   "metadata": {
    "vscode": {
     "languageId": "r"
    }
   },
   "outputs": [
    {
     "data": {
      "text/plain": [
       "[1] 4.35"
      ]
     },
     "metadata": {},
     "output_type": "display_data"
    }
   ],
   "source": [
    "df <- df[-20]\n",
    "numberofna <- df %>%\n",
    "  filter(if_any(everything(), is.na)) %>%\n",
    "  nrow()\n",
    "  \n",
    "round(numberofna / nrow(df) * 100, 2)"
   ]
  },
  {
   "cell_type": "markdown",
   "id": "a2bca669",
   "metadata": {
    "vscode": {
     "languageId": "r"
    }
   },
   "source": [
    "*teraz mamy 4.35% brakow, mozna usuwac*"
   ]
  },
  {
   "cell_type": "code",
   "execution_count": 32,
   "id": "4cd0c8d3",
   "metadata": {
    "vscode": {
     "languageId": "r"
    }
   },
   "outputs": [],
   "source": [
    "df <-df %>%\n",
    "   filter(!if_any(everything(), is.na))"
   ]
  },
  {
   "cell_type": "code",
   "execution_count": 33,
   "id": "b001082f",
   "metadata": {
    "vscode": {
     "languageId": "r"
    }
   },
   "outputs": [],
   "source": [
    "df_norm <- cbind(data.frame(sapply(df[1:12], function(x) min_max(x))),  # numerical cols normalized \n",
    "                 model.matrix(~ . - 1, data = df[13:20]),  # cathegorical cols one-hot-encoded\n",
    "                 df[21])  # class column as factor without changes"
   ]
  },
  {
   "cell_type": "code",
   "execution_count": 34,
   "id": "f47f9ca9",
   "metadata": {
    "vscode": {
     "languageId": "r"
    }
   },
   "outputs": [
    {
     "data": {
      "text/plain": [
       "[1] FALSE"
      ]
     },
     "metadata": {},
     "output_type": "display_data"
    }
   ],
   "source": [
    "any(is.na(df_norm))"
   ]
  },
  {
   "cell_type": "code",
   "execution_count": 35,
   "id": "6a89ee30",
   "metadata": {
    "vscode": {
     "languageId": "r"
    }
   },
   "outputs": [],
   "source": [
    "set.seed(2024)\n",
    "split <- rsample::initial_split(df_norm, prop = 0.75)\n",
    "\n",
    "X_train <- rsample::training(split)\n",
    "X_test <- rsample::testing(split)"
   ]
  },
  {
   "cell_type": "code",
   "execution_count": 36,
   "id": "57fe3695",
   "metadata": {
    "vscode": {
     "languageId": "r"
    }
   },
   "outputs": [
    {
     "name": "stdout",
     "output_type": "stream",
     "text": [
      "Whole dataset class distribution"
     ]
    },
    {
     "data": {
      "text/plain": [
       "  respondedMailing count perc_dist\n",
       "1 FALSE            43779 0.9482542\n",
       "2 TRUE              2389 0.0517458"
      ]
     },
     "metadata": {},
     "output_type": "display_data"
    }
   ],
   "source": [
    "print_class_dist(df, \"Whole\")"
   ]
  },
  {
   "cell_type": "code",
   "execution_count": 37,
   "id": "bc41a2f1",
   "metadata": {
    "vscode": {
     "languageId": "r"
    }
   },
   "outputs": [
    {
     "name": "stdout",
     "output_type": "stream",
     "text": [
      "Train dataset class distribution"
     ]
    },
    {
     "data": {
      "text/plain": [
       "  respondedMailing count perc_dist\n",
       "1 FALSE            32853 0.9487957\n",
       "2 TRUE              1773 0.0512043"
      ]
     },
     "metadata": {},
     "output_type": "display_data"
    }
   ],
   "source": [
    "print_class_dist(X_train, \"Train\")"
   ]
  },
  {
   "cell_type": "code",
   "execution_count": 38,
   "id": "88972593",
   "metadata": {
    "vscode": {
     "languageId": "r"
    }
   },
   "outputs": [
    {
     "name": "stdout",
     "output_type": "stream",
     "text": [
      "Test dataset class distribution"
     ]
    },
    {
     "data": {
      "text/plain": [
       "  respondedMailing count perc_dist\n",
       "1 FALSE            10926 0.9466297\n",
       "2 TRUE               616 0.0533703"
      ]
     },
     "metadata": {},
     "output_type": "display_data"
    }
   ],
   "source": [
    "print_class_dist(X_test, \"Test\")"
   ]
  },
  {
   "cell_type": "code",
   "execution_count": 39,
   "id": "815c2baf",
   "metadata": {
    "vscode": {
     "languageId": "r"
    }
   },
   "outputs": [
    {
     "name": "stdout",
     "output_type": "stream",
     "text": [
      "Smoted dataset class distribution"
     ]
    },
    {
     "data": {
      "text/plain": [
       "  respondedMailing count perc_dist\n",
       "1 FALSE            17552 0.4974775\n",
       "2 TRUE             17730 0.5025225"
      ]
     },
     "metadata": {},
     "output_type": "display_data"
    },
    {
     "data": {
      "text/plain": [
       "[1] 35282"
      ]
     },
     "metadata": {},
     "output_type": "display_data"
    },
    {
     "data": {
      "text/plain": [
       "[1] 34626"
      ]
     },
     "metadata": {},
     "output_type": "display_data"
    }
   ],
   "source": [
    "smote_data <- smote(respondedMailing ~ ., data = X_train, perc.over = 9, perc.under = 1.1, k = 5)\n",
    "print_class_dist(smote_data, \"Smoted\")\n",
    "\n",
    "nrow(smote_data)\n",
    "nrow(X_train)"
   ]
  },
  {
   "cell_type": "code",
   "execution_count": 40,
   "id": "aadee944",
   "metadata": {
    "vscode": {
     "languageId": "r"
    }
   },
   "outputs": [],
   "source": [
    "X_train <- smote_data"
   ]
  },
  {
   "cell_type": "code",
   "execution_count": 41,
   "id": "f143ae43",
   "metadata": {
    "vscode": {
     "languageId": "r"
    }
   },
   "outputs": [],
   "source": [
    "y_train <- X_train$respondedMailing\n",
    "y_test <- X_test$respondedMailing\n",
    "\n",
    "X_train <- X_train[-82]\n",
    "X_test <- X_test[-82]"
   ]
  },
  {
   "cell_type": "code",
   "execution_count": 42,
   "id": "52b667b9",
   "metadata": {
    "vscode": {
     "languageId": "r"
    }
   },
   "outputs": [],
   "source": [
    "y_pred <- knn(train = X_train, test = X_test, cl = y_train, k = 5)"
   ]
  },
  {
   "cell_type": "code",
   "execution_count": 43,
   "id": "313971c9",
   "metadata": {
    "vscode": {
     "languageId": "r"
    }
   },
   "outputs": [
    {
     "data": {
      "text/plain": [
       "Confusion Matrix and Statistics\n",
       "\n",
       "          Reference\n",
       "Prediction FALSE TRUE\n",
       "     FALSE  9539  518\n",
       "     TRUE   1387   98\n",
       "                                          \n",
       "               Accuracy : 0.835           \n",
       "                 95% CI : (0.8281, 0.8417)\n",
       "    No Information Rate : 0.9466          \n",
       "    P-Value [Acc > NIR] : 1               \n",
       "                                          \n",
       "                  Kappa : 0.0193          \n",
       "                                          \n",
       " Mcnemar's Test P-Value : <2e-16          \n",
       "                                          \n",
       "            Sensitivity : 0.87306         \n",
       "            Specificity : 0.15909         \n",
       "         Pos Pred Value : 0.94849         \n",
       "         Neg Pred Value : 0.06599         \n",
       "             Prevalence : 0.94663         \n",
       "         Detection Rate : 0.82646         \n",
       "   Detection Prevalence : 0.87134         \n",
       "      Balanced Accuracy : 0.51607         \n",
       "                                          \n",
       "       'Positive' Class : FALSE           \n",
       "                                          "
      ]
     },
     "metadata": {},
     "output_type": "display_data"
    }
   ],
   "source": [
    "caret::confusionMatrix(y_pred, y_test)"
   ]
  },
  {
   "cell_type": "markdown",
   "id": "d2850d6d",
   "metadata": {
    "vscode": {
     "languageId": "r"
    }
   },
   "source": [
    "*jest lepiej! fajnie :)*"
   ]
  },
  {
   "cell_type": "code",
   "execution_count": 44,
   "id": "cb100374",
   "metadata": {
    "vscode": {
     "languageId": "r"
    }
   },
   "outputs": [],
   "source": [
    "# EOF"
   ]
  }
 ],
 "metadata": {
  "jupytext": {
   "cell_metadata_filter": "tags,-all",
   "main_language": "R",
   "notebook_metadata_filter": "-all"
  },
  "kernelspec": {
   "display_name": "R",
   "language": "R",
   "name": "ir"
  },
  "language_info": {
   "codemirror_mode": "r",
   "file_extension": ".r",
   "mimetype": "text/x-r-source",
   "name": "R",
   "pygments_lexer": "r",
   "version": "4.4.2"
  }
 },
 "nbformat": 4,
 "nbformat_minor": 5
}
