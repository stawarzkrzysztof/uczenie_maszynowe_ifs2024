{
 "cells": [
  {
   "cell_type": "markdown",
   "id": "2babd66c",
   "metadata": {},
   "source": [
    "# Klasyfikacja probabilistyczna"
   ]
  },
  {
   "cell_type": "code",
   "execution_count": 1,
   "id": "0013b32e",
   "metadata": {
    "tags": [
     "remove_cell"
    ],
    "vscode": {
     "languageId": "r"
    }
   },
   "outputs": [
    {
     "name": "stderr",
     "output_type": "stream",
     "text": [
      "── \u001b[1mAttaching core tidyverse packages\u001b[22m ──────────────────────── tidyverse 2.0.0 ──\n",
      "\u001b[32m✔\u001b[39m \u001b[34mdplyr    \u001b[39m 1.1.4     \u001b[32m✔\u001b[39m \u001b[34mreadr    \u001b[39m 2.1.5\n",
      "\u001b[32m✔\u001b[39m \u001b[34mforcats  \u001b[39m 1.0.0     \u001b[32m✔\u001b[39m \u001b[34mstringr  \u001b[39m 1.5.0\n",
      "\u001b[32m✔\u001b[39m \u001b[34mggplot2  \u001b[39m 3.4.4     \u001b[32m✔\u001b[39m \u001b[34mtibble   \u001b[39m 3.2.1\n",
      "\u001b[32m✔\u001b[39m \u001b[34mlubridate\u001b[39m 1.9.3     \u001b[32m✔\u001b[39m \u001b[34mtidyr    \u001b[39m 1.3.1\n",
      "\u001b[32m✔\u001b[39m \u001b[34mpurrr    \u001b[39m 1.0.2     \n",
      "── \u001b[1mConflicts\u001b[22m ────────────────────────────────────────── tidyverse_conflicts() ──\n",
      "\u001b[31m✖\u001b[39m \u001b[34mdplyr\u001b[39m::\u001b[32mfilter()\u001b[39m masks \u001b[34mstats\u001b[39m::filter()\n",
      "\u001b[31m✖\u001b[39m \u001b[34mdplyr\u001b[39m::\u001b[32mlag()\u001b[39m    masks \u001b[34mstats\u001b[39m::lag()\n",
      "\u001b[36mℹ\u001b[39m Use the conflicted package (\u001b[3m\u001b[34m<http://conflicted.r-lib.org/>\u001b[39m\u001b[23m) to force all conflicts to become errors\n"
     ]
    }
   ],
   "source": [
    "library(tidyverse)\n",
    "options(jupyter.rich_display=FALSE,\n",
    "        repr.plot.width=15,\n",
    "        repr.plot.height=8)"
   ]
  },
  {
   "cell_type": "markdown",
   "id": "edac1518",
   "metadata": {},
   "source": [
    "## Naiwny klasyfikator Bayesa\n",
    "\n",
    "Zapoznaj się z materiałami dostępnymi w [Przewodniku po pakiecie R](http://pbiecek.github.io/Przewodnik/Predykcja/naiwny_bayes.html) oraz [RPubs](https://rpubs.com/mmazurek/322903) oraz wykonaj samodzielnie w RStudio omawiane w nich przykłady. Następnie wykorzystaj naiwny klasyfikator Bayesa do rozwiązania problemu klasyfikacji wiadomości e-mail.\n",
    "\n",
    "1. Zaimportuj (`read_csv`) i wyświetl (funkcja `head`) dane z pliku `email.csv`"
   ]
  },
  {
   "cell_type": "code",
   "execution_count": 2,
   "id": "f0c1d658",
   "metadata": {
    "vscode": {
     "languageId": "r"
    }
   },
   "outputs": [
    {
     "name": "stderr",
     "output_type": "stream",
     "text": [
      "\u001b[1mRows: \u001b[22m\u001b[34m1681\u001b[39m \u001b[1mColumns: \u001b[22m\u001b[34m1103\u001b[39m\n",
      "\u001b[36m──\u001b[39m \u001b[1mColumn specification\u001b[22m \u001b[36m────────────────────────────────────────────────────────\u001b[39m\n",
      "\u001b[1mDelimiter:\u001b[22m \",\"\n",
      "\u001b[31mchr\u001b[39m    (1): message_label\n",
      "\u001b[32mdbl\u001b[39m (1102): message_index, ability, abuse, accept, acceptance, accepted, acc...\n",
      "\n",
      "\u001b[36mℹ\u001b[39m Use `spec()` to retrieve the full column specification for this data.\n",
      "\u001b[36mℹ\u001b[39m Specify the column types or set `show_col_types = FALSE` to quiet this message.\n"
     ]
    }
   ],
   "source": [
    "emails = read_csv(\"data/email.csv\")"
   ]
  },
  {
   "cell_type": "code",
   "execution_count": 3,
   "id": "9205e755",
   "metadata": {
    "vscode": {
     "languageId": "r"
    }
   },
   "outputs": [
    {
     "data": {
      "text/plain": [
       "  message_index message_label ability abuse accept acceptance accepted access\n",
       "1 12            ham           0       0     0      0          0        0     \n",
       "2 21            ham           0       0     0      0          0        0     \n",
       "3 29            ham           0       0     0      0          0        0     \n",
       "4 43            ham           0       0     0      0          0        0     \n",
       "5 59            ham           0       0     0      0          0        0     \n",
       "6 68            ham           0       0     0      0          0        0     \n",
       "  account accounting ⋯ worldwide worth write writing www xls xp yahoo yesterday\n",
       "1 0       0          ⋯ 0         0     0     0       0   0   0  0     0        \n",
       "2 0       0          ⋯ 0         0     0     0       0   0   0  0     0        \n",
       "3 0       0          ⋯ 0         0     0     0       0   0   0  0     0        \n",
       "4 0       0          ⋯ 0         0     0     0       0   0   0  0     0        \n",
       "5 0       0          ⋯ 0         0     0     0       0   1   0  0     0        \n",
       "6 0       0          ⋯ 0         0     0     0       0   0   0  0     0        \n",
       "  york\n",
       "1 0   \n",
       "2 0   \n",
       "3 0   \n",
       "4 0   \n",
       "5 0   \n",
       "6 0   "
      ]
     },
     "metadata": {},
     "output_type": "display_data"
    }
   ],
   "source": [
    "head(emails)"
   ]
  },
  {
   "cell_type": "code",
   "execution_count": 4,
   "id": "e1f62fb8",
   "metadata": {
    "vscode": {
     "languageId": "r"
    }
   },
   "outputs": [
    {
     "data": {
      "text/plain": [
       "[1] 1681 1103"
      ]
     },
     "metadata": {},
     "output_type": "display_data"
    }
   ],
   "source": [
    "dim(emails)"
   ]
  },
  {
   "cell_type": "markdown",
   "id": "d70a831a",
   "metadata": {},
   "source": [
    "2. Przekształć zmienną `message_label` do typu kategorialnego."
   ]
  },
  {
   "cell_type": "code",
   "execution_count": 5,
   "id": "7d228ed3",
   "metadata": {
    "vscode": {
     "languageId": "r"
    }
   },
   "outputs": [
    {
     "data": {
      "text/plain": [
       "[1] \"factor\""
      ]
     },
     "metadata": {},
     "output_type": "display_data"
    }
   ],
   "source": [
    "emails <- mutate(emails, message_label=as.factor(message_label))\n",
    "class(emails$message_label)"
   ]
  },
  {
   "cell_type": "code",
   "execution_count": 6,
   "id": "5ec41e8c",
   "metadata": {
    "vscode": {
     "languageId": "r"
    }
   },
   "outputs": [
    {
     "data": {
      "text/plain": [
       "  message_label count\n",
       "1 ham           827  \n",
       "2 spam          854  "
      ]
     },
     "metadata": {},
     "output_type": "display_data"
    }
   ],
   "source": [
    "emails %>%\n",
    "    group_by(message_label) %>%\n",
    "    count(name = \"count\")\n",
    "    # mutate(count = count/nrow(emails))"
   ]
  },
  {
   "cell_type": "markdown",
   "id": "e1175f67",
   "metadata": {},
   "source": [
    "3. Za pomocą funkcji `gather` przekształć zbiór danych tak, aby zamiast kolumny z częstością dla każdego wyrazu mieć dwie kolumny: jedną z wyrazem, drugą z częstością"
   ]
  },
  {
   "cell_type": "code",
   "execution_count": 7,
   "id": "f9c2effa",
   "metadata": {
    "eval": false,
    "include": true,
    "vscode": {
     "languageId": "r"
    }
   },
   "outputs": [
    {
     "data": {
      "text/plain": [
       "  message_index message_label word       count\n",
       "1 12            ham           ability    0    \n",
       "2 12            ham           abuse      0    \n",
       "3 12            ham           accept     0    \n",
       "4 12            ham           acceptance 0    \n",
       "5 12            ham           accepted   0    \n",
       "6 12            ham           access     0    "
      ]
     },
     "metadata": {},
     "output_type": "display_data"
    }
   ],
   "source": [
    "emails_long <- emails %>%\n",
    "  gather(word, count, -message_index, -message_label) %>%\n",
    "  arrange(message_index)\n",
    "\n",
    "head(emails_long)"
   ]
  },
  {
   "cell_type": "markdown",
   "id": "e2cbcf89",
   "metadata": {},
   "source": [
    "4. Pogrupuj dane według `word`, sumując zmienną `count` (sumę nazwij `occurence`) i posortuj wynik w malejącej kolejności `occurence`. Użyj funkcji `slice` do wyświetlenia tylko 10 wyrazów o najwyższej wartości `occurence`."
   ]
  },
  {
   "cell_type": "markdown",
   "id": "2179e38b",
   "metadata": {},
   "source": [
    "*ja uzyje `head` bo wiem ze tez dziala*"
   ]
  },
  {
   "cell_type": "code",
   "execution_count": 8,
   "id": "04374d8f",
   "metadata": {
    "vscode": {
     "languageId": "r"
    }
   },
   "outputs": [
    {
     "data": {
      "text/plain": [
       "   word        occurence\n",
       "1  enron       382      \n",
       "2  time        366      \n",
       "3  http        284      \n",
       "4  information 279      \n",
       "5  message     266      \n",
       "6  email       251      \n",
       "7  mail        250      \n",
       "8  business    216      \n",
       "9  company     212      \n",
       "10 day         208      "
      ]
     },
     "metadata": {},
     "output_type": "display_data"
    }
   ],
   "source": [
    "emails_long %>%\n",
    "    group_by(word) %>%\n",
    "    summarise(occurence = sum(count)) %>%\n",
    "    arrange(desc(occurence)) %>%\n",
    "    head(10)"
   ]
  },
  {
   "cell_type": "markdown",
   "id": "7e475a59",
   "metadata": {},
   "source": [
    "5. W podobny sposób sprawdź, jakie 10 wyrazów pojawia się w zwykłych wiadomościach, a jakie w wiadomościach spam."
   ]
  },
  {
   "cell_type": "code",
   "execution_count": 9,
   "id": "1aa417e7",
   "metadata": {
    "tags": [
     "remove_cell"
    ],
    "vscode": {
     "languageId": "r"
    }
   },
   "outputs": [
    {
     "data": {
      "text/plain": [
       "   word      occurence\n",
       "1  enron     382      \n",
       "2  pmto      191      \n",
       "3  time      185      \n",
       "4  message   169      \n",
       "5  ect       165      \n",
       "6  forwarded 162      \n",
       "7  questions 160      \n",
       "8  hou       153      \n",
       "9  amto      147      \n",
       "10 call      145      "
      ]
     },
     "metadata": {},
     "output_type": "display_data"
    }
   ],
   "source": [
    "emails_long %>%\n",
    "    filter(message_label == \"ham\") %>%\n",
    "    group_by(word) %>%\n",
    "    summarise(occurence = sum(count)) %>%\n",
    "    arrange(desc(occurence)) %>%\n",
    "    head(10)"
   ]
  },
  {
   "cell_type": "code",
   "execution_count": 10,
   "id": "9ff09eba",
   "metadata": {
    "vscode": {
     "languageId": "r"
    }
   },
   "outputs": [
    {
     "data": {
      "text/plain": [
       "   word        occurence\n",
       "1  http        233      \n",
       "2  time        181      \n",
       "3  email       171      \n",
       "4  information 148      \n",
       "5  money       147      \n",
       "6  company     141      \n",
       "7  mail        137      \n",
       "8  www         123      \n",
       "9  free        121      \n",
       "10 business    120      "
      ]
     },
     "metadata": {},
     "output_type": "display_data"
    }
   ],
   "source": [
    "emails_long %>%\n",
    "    filter(message_label == \"spam\") %>%\n",
    "    group_by(word) %>%\n",
    "    summarise(occurence = sum(count)) %>%\n",
    "    arrange(desc(occurence)) %>%\n",
    "    head(10)"
   ]
  },
  {
   "cell_type": "markdown",
   "id": "b365a6f8",
   "metadata": {},
   "source": [
    "6. Podziel dane na zbiory treningowy i testowy, stosując proporcję 75:25. Następnie wyświetl rozkłady klas dla wszystkich zbiorów danych (`prop.table`)."
   ]
  },
  {
   "cell_type": "code",
   "execution_count": null,
   "id": "1170f69f",
   "metadata": {
    "vscode": {
     "languageId": "r"
    }
   },
   "outputs": [],
   "source": []
  },
  {
   "cell_type": "code",
   "execution_count": 11,
   "id": "0067a461",
   "metadata": {
    "tags": [
     "remove_cell"
    ],
    "vscode": {
     "languageId": "r"
    }
   },
   "outputs": [],
   "source": [
    "# set.seed(123)\n",
    "set.seed(2024)\n",
    "split <- rsample::initial_split(emails, prop = 0.75)\n",
    "\n",
    "X_train <- rsample::training(split)\n",
    "X_test <- rsample::testing(split)\n",
    "\n",
    "y_train <- X_train$message_label\n",
    "y_test <- X_test$message_label"
   ]
  },
  {
   "cell_type": "markdown",
   "id": "d77de185",
   "metadata": {},
   "source": [
    "*nie wiedzialem jak uzyc prop.table, ale kod ponizej robi to samo*"
   ]
  },
  {
   "cell_type": "code",
   "execution_count": 12,
   "id": "f0df08bd",
   "metadata": {
    "vscode": {
     "languageId": "r"
    }
   },
   "outputs": [
    {
     "data": {
      "text/plain": [
       "  message_label count    \n",
       "1 ham           0.4904762\n",
       "2 spam          0.5095238"
      ]
     },
     "metadata": {},
     "output_type": "display_data"
    }
   ],
   "source": [
    "X_train %>%\n",
    "    group_by(message_label) %>%\n",
    "    count(name = \"count\") %>%\n",
    "    mutate(count = count/nrow(X_train))"
   ]
  },
  {
   "cell_type": "code",
   "execution_count": 13,
   "id": "028d8b50",
   "metadata": {
    "vscode": {
     "languageId": "r"
    }
   },
   "outputs": [
    {
     "data": {
      "text/plain": [
       "  message_label count    \n",
       "1 ham           0.4964371\n",
       "2 spam          0.5035629"
      ]
     },
     "metadata": {},
     "output_type": "display_data"
    }
   ],
   "source": [
    "X_test %>%\n",
    "    group_by(message_label) %>%\n",
    "    count(name = \"count\") %>%\n",
    "    mutate(count = count/nrow(X_test))"
   ]
  },
  {
   "cell_type": "markdown",
   "id": "d71a4efe",
   "metadata": {},
   "source": [
    "7. Zbuduj naiwny model Bayesa za pomocą funkcji `naiveBayes`."
   ]
  },
  {
   "cell_type": "code",
   "execution_count": 14,
   "id": "b500973d",
   "metadata": {
    "tags": [
     "remove_cell"
    ],
    "vscode": {
     "languageId": "r"
    }
   },
   "outputs": [],
   "source": [
    "library(e1071)\n",
    "\n",
    "email_mod <-\n",
    "  naiveBayes(message_label ~ . - message_index,\n",
    "             data = X_train,\n",
    "             laplace = 1)"
   ]
  },
  {
   "cell_type": "markdown",
   "id": "0f2b4d82",
   "metadata": {},
   "source": [
    "8. Oceń jak dobrze model radzi sobie z przewidywaniem, czy email w danych testowych to spam, czy zwykła wiadomość (funkcja `predict`, a następnie obliczenie dokładności predykcji modelu w oparciu o wartości macierzy pomyłek)."
   ]
  },
  {
   "cell_type": "code",
   "execution_count": 15,
   "id": "57793238",
   "metadata": {
    "tags": [
     "remove_cell"
    ],
    "vscode": {
     "languageId": "r"
    }
   },
   "outputs": [],
   "source": [
    "y_pred <- predict(email_mod, newdata = X_test, type = \"class\")"
   ]
  },
  {
   "cell_type": "code",
   "execution_count": 16,
   "id": "656aff33",
   "metadata": {
    "vscode": {
     "languageId": "r"
    }
   },
   "outputs": [
    {
     "data": {
      "text/plain": [
       "Confusion Matrix and Statistics\n",
       "\n",
       "          Reference\n",
       "Prediction ham spam\n",
       "      ham  204   40\n",
       "      spam   5  172\n",
       "                                         \n",
       "               Accuracy : 0.8931         \n",
       "                 95% CI : (0.8596, 0.921)\n",
       "    No Information Rate : 0.5036         \n",
       "    P-Value [Acc > NIR] : < 2.2e-16      \n",
       "                                         \n",
       "                  Kappa : 0.7865         \n",
       "                                         \n",
       " Mcnemar's Test P-Value : 4.011e-07      \n",
       "                                         \n",
       "            Sensitivity : 0.9761         \n",
       "            Specificity : 0.8113         \n",
       "         Pos Pred Value : 0.8361         \n",
       "         Neg Pred Value : 0.9718         \n",
       "             Prevalence : 0.4964         \n",
       "         Detection Rate : 0.4846         \n",
       "   Detection Prevalence : 0.5796         \n",
       "      Balanced Accuracy : 0.8937         \n",
       "                                         \n",
       "       'Positive' Class : ham            \n",
       "                                         "
      ]
     },
     "metadata": {},
     "output_type": "display_data"
    }
   ],
   "source": [
    "caret::confusionMatrix(y_pred, y_test)"
   ]
  },
  {
   "cell_type": "markdown",
   "id": "9fd3b81e",
   "metadata": {},
   "source": [
    "9. Odpowiedz na pytanie: w jaki sposób moglibyśmy zwiększyć dokładność predykcji?"
   ]
  },
  {
   "cell_type": "markdown",
   "id": "be72fc48",
   "metadata": {
    "tags": [
     "remove_cell"
    ],
    "vscode": {
     "languageId": "r"
    }
   },
   "source": [
    "*takie pierwsze co mi przychodzi do glowy, to:*  \n",
    "*- zastosowanie bardziej skomplikowanych metod zamiast binarnej klasyfikacji (tf-idf) chyba mogloby byc lepszym pomyslem*  \n",
    "*- stworzenie n-gramow dwu- lub trzy-slowowych mogloby dac wiecej informacji, jakie zbitki slowne bardziej wskazuja na spam/ham*  \n",
    "*- hiperparametryzacja, moznaby przetestowac rozne parametry np wygladzania laplaca*  \n",
    "*- zwiekszyc dataset, chociaz 90% w 1000 wiadomosciach to dobry wynik*  \n",
    "*- brac pod uwage np. nickname/adres email osoby wysylajacej maila albo naglowki maili*  \n"
   ]
  },
  {
   "cell_type": "markdown",
   "id": "60cc2882",
   "metadata": {},
   "source": [
    "## Sieć Bayesa\n",
    "\n",
    "Jednym z najpopularniejszych pakietów R dla sieci Bayesa jest `bnlearn`. Zawiera on wiele różnych algorytmów uczenia SB i wnioskowania oraz zestawy danych.\n",
    "\n",
    "### Przykład\n",
    "\n",
    "Jako przykład wykorzystamy zbiór `coronary` z pakietu `bnlearn`, zawierający prawdopodobne czynniki ryzyka zakrzepicy. Zmienne:\n",
    "\n",
    "- Smoking - palenie (poziomy: 'no', 'yes')\n",
    "- M. Work - wytężona praca umysłowa (poziomy: 'no', 'yes')\n",
    "- P. Work - wytężona praca fizyczna (poziomy: 'no', 'yes')\n",
    "- Pressure - ciśnienie skurczowe krwi (poziomy: '<140', '>140')\n",
    "- Proteins - stosunek lipoprotein alfa i beta (poziomy: '<3', '>3')\n",
    "- Family - występowanie choroby niedokrwiennej w rodzinie (poziomy: 'neg', 'pos')"
   ]
  },
  {
   "cell_type": "code",
   "execution_count": 17,
   "id": "84ccb4f3",
   "metadata": {
    "vscode": {
     "languageId": "r"
    }
   },
   "outputs": [
    {
     "name": "stderr",
     "output_type": "stream",
     "text": [
      "inferring 'repos = NULL' from 'pkgs'\n",
      "\n",
      "Warning message in download.file(p, destfile, method, mode = \"wb\", ...):\n",
      "“URL 'http://www.bnleardn.com/releases/bnlearn_latest.tar.gz': status was 'Could not resolve hostname'”\n"
     ]
    },
    {
     "name": "stdout",
     "output_type": "stream",
     "text": [
      "Error in download.file(p, destfile, method, mode = \"wb\", ...) : \n",
      "  cannot open URL 'http://www.bnleardn.com/releases/bnlearn_latest.tar.gz'\n"
     ]
    }
   ],
   "source": [
    "install.packages(\"http://www.bnleardn.com/releases/bnlearn_latest.tar.gz\")"
   ]
  },
  {
   "cell_type": "code",
   "execution_count": 18,
   "id": "189e1860",
   "metadata": {
    "eval": false,
    "include": true,
    "vscode": {
     "languageId": "r"
    }
   },
   "outputs": [
    {
     "ename": "ERROR",
     "evalue": "Error in library(bnlearn): there is no package called ‘bnlearn’\n",
     "output_type": "error",
     "traceback": [
      "Error in library(bnlearn): there is no package called ‘bnlearn’\nTraceback:\n",
      "1. library(bnlearn)"
     ]
    }
   ],
   "source": [
    "# załadowanie danych\n",
    "library(bnlearn)\n",
    "data(coronary)"
   ]
  },
  {
   "cell_type": "markdown",
   "id": "8f17d7f4",
   "metadata": {},
   "source": [
    "Utworzenie i wizualizacja sieci Bayesa"
   ]
  },
  {
   "cell_type": "code",
   "execution_count": null,
   "id": "c782287a",
   "metadata": {
    "eval": false,
    "include": true,
    "vscode": {
     "languageId": "r"
    }
   },
   "outputs": [],
   "source": [
    "bn_df <- data.frame(coronary)\n",
    "res <- hc(bn_df)\n",
    "plot(res)"
   ]
  },
  {
   "cell_type": "markdown",
   "id": "681f0223",
   "metadata": {},
   "source": [
    "Nie wszystkie powstałe powiązania mają sens (np. `Family` jako warunek `M. Work`). Modyfikacja struktury sieci:"
   ]
  },
  {
   "cell_type": "code",
   "execution_count": null,
   "id": "be177cf6",
   "metadata": {
    "eval": false,
    "include": true,
    "vscode": {
     "languageId": "r"
    }
   },
   "outputs": [],
   "source": [
    "res$arcs <- res$arcs[-which((res$arcs[,'from'] == \"M..Work\" & \n",
    "                               res$arcs[,'to'] == \"Family\")),]"
   ]
  },
  {
   "cell_type": "markdown",
   "id": "6f7110c5",
   "metadata": {},
   "source": [
    "Następnym krokiem po zapoznaniu się ze strukturą sieci, jest znalezienie tablic prawdopodobieństwa warunkowego (CPT) w każdym węźle. Służy do tego funkcja `bn.fit`. Następnie za pomocą funkcji `print` można podejrzeć co znajduje się w węźle `Protein`:"
   ]
  },
  {
   "cell_type": "code",
   "execution_count": null,
   "id": "25639835",
   "metadata": {
    "eval": false,
    "include": true,
    "vscode": {
     "languageId": "r"
    }
   },
   "outputs": [],
   "source": [
    "fittedbn <- bn.fit(res, data = bn_df)\n",
    "print(fittedbn$Proteins)"
   ]
  },
  {
   "cell_type": "markdown",
   "id": "f9af6904",
   "metadata": {},
   "source": [
    "Tak przygotowaną sieć możemy wykorzystać do wnioskowania. Na przykład móżemy znaleźć odpowiedź na pytanie: Jakie jest prawdopodobieństwo, że osoba niepaląca z ciśnieniem >140, będzie miała poziom białek <3?"
   ]
  },
  {
   "cell_type": "code",
   "execution_count": null,
   "id": "824ea0f1",
   "metadata": {
    "eval": false,
    "include": true,
    "vscode": {
     "languageId": "r"
    }
   },
   "outputs": [],
   "source": [
    "cpquery(fittedbn, event = (Proteins==\"<3\"), evidence = ((Smoking==\"no\") & \n",
    "                                                          (Pressure == \">140\")))"
   ]
  }
 ],
 "metadata": {
  "jupytext": {
   "cell_metadata_filter": "tags,eval,include,-all",
   "main_language": "R",
   "notebook_metadata_filter": "-all"
  },
  "kernelspec": {
   "display_name": "R",
   "language": "R",
   "name": "ir"
  },
  "language_info": {
   "codemirror_mode": "r",
   "file_extension": ".r",
   "mimetype": "text/x-r-source",
   "name": "R",
   "pygments_lexer": "r",
   "version": "4.3.3"
  }
 },
 "nbformat": 4,
 "nbformat_minor": 5
}
