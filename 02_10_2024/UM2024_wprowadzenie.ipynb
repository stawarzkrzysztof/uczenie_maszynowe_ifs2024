{
 "cells": [
  {
   "cell_type": "markdown",
   "metadata": {
    "id": "aj6TCdmRDaNF"
   },
   "source": [
    "# Wprowadzenie do narzędzi\n",
    "\n",
    "Jeśli pracujesz w Google Colab: sprawdź, czy masz ustawiony prawidłowy typ środowiska wykonawczego (R). Jeśli w VSC sprawdź, czy masz ustawione jądro RKernel.\n",
    "\n",
    "**Aby uruchomić kod kliknij we fragment kodu i wciśnij Ctrl+Enter**\n"
   ]
  },
  {
   "cell_type": "markdown",
   "metadata": {
    "id": "oV28VLhLKmXa"
   },
   "source": [
    "## Podstawy podstaw R\n",
    "\n",
    "(Pomiń, jeśli wiesz cokolwiek o R). R jest jednym z najpopularniejszych (obok Pythona) językiem wykorzystywanym w szeroko rozumianej Data Science."
   ]
  },
  {
   "cell_type": "markdown",
   "metadata": {
    "id": "LknCLeWBOb2Q"
   },
   "source": [
    "### Typy zmiennych i konwersje typów"
   ]
  },
  {
   "cell_type": "code",
   "execution_count": 1,
   "metadata": {
    "colab": {
     "base_uri": "https://localhost:8080/",
     "height": 34
    },
    "id": "U32FERM2NHoj",
    "outputId": "63e0ca35-7673-421d-831e-122f3d330774",
    "vscode": {
     "languageId": "r"
    }
   },
   "outputs": [
    {
     "data": {
      "text/html": [
       "'36.6'"
      ],
      "text/latex": [
       "'36.6'"
      ],
      "text/markdown": [
       "'36.6'"
      ],
      "text/plain": [
       "[1] \"36.6\""
      ]
     },
     "metadata": {},
     "output_type": "display_data"
    }
   ],
   "source": [
    "# Utwórz zmienną temp i przypisz jej wartość \"36.6\". Następnie wyświetl jej wartość.\n",
    "\n",
    "temp <- \"36.6\"\n",
    "temp"
   ]
  },
  {
   "cell_type": "code",
   "execution_count": 2,
   "metadata": {
    "colab": {
     "base_uri": "https://localhost:8080/",
     "height": 71
    },
    "id": "GjI9XO_mNVyg",
    "outputId": "1b27c114-5357-4e31-95e1-6f946e70bcef",
    "vscode": {
     "languageId": "r"
    }
   },
   "outputs": [],
   "source": [
    "# Spróbuj dodać do stworzonej zmiennej wartość 0.1. Zwróć uwagę na komunikat.\n",
    "\n",
    "# temp + 0.1"
   ]
  },
  {
   "cell_type": "code",
   "execution_count": 3,
   "metadata": {
    "colab": {
     "base_uri": "https://localhost:8080/",
     "height": 34
    },
    "id": "_QeZ6CSFNyH_",
    "outputId": "6681ea8b-c6f3-4c20-c41a-6e8b70ba239c",
    "vscode": {
     "languageId": "r"
    }
   },
   "outputs": [
    {
     "data": {
      "text/html": [
       "'character'"
      ],
      "text/latex": [
       "'character'"
      ],
      "text/markdown": [
       "'character'"
      ],
      "text/plain": [
       "[1] \"character\""
      ]
     },
     "metadata": {},
     "output_type": "display_data"
    }
   ],
   "source": [
    "# Sprawdź jakiego typu jest zmienna temp.\n",
    "\n",
    "class(temp)"
   ]
  },
  {
   "cell_type": "code",
   "execution_count": 4,
   "metadata": {
    "colab": {
     "base_uri": "https://localhost:8080/",
     "height": 34
    },
    "id": "lSxl-e88NlBN",
    "outputId": "f8c4d287-8cbe-4663-bf53-e5864065a3bb",
    "vscode": {
     "languageId": "r"
    }
   },
   "outputs": [
    {
     "data": {
      "text/html": [
       "36.6"
      ],
      "text/latex": [
       "36.6"
      ],
      "text/markdown": [
       "36.6"
      ],
      "text/plain": [
       "[1] 36.6"
      ]
     },
     "metadata": {},
     "output_type": "display_data"
    }
   ],
   "source": [
    "# Przekonwertuj zmienną na typ numeric, a następnie sprawdź jej wartość. Zwróć uwagę jak zmienił się sposób jej wyświetlania.\n",
    "\n",
    "temp <- as.numeric(temp)\n",
    "temp"
   ]
  },
  {
   "cell_type": "code",
   "execution_count": 5,
   "metadata": {
    "colab": {
     "base_uri": "https://localhost:8080/",
     "height": 34
    },
    "id": "Yo4pzlITN6lH",
    "outputId": "4879e8db-9d0f-40c4-f163-33e0ff42679b",
    "vscode": {
     "languageId": "r"
    }
   },
   "outputs": [
    {
     "data": {
      "text/html": [
       "36"
      ],
      "text/latex": [
       "36"
      ],
      "text/markdown": [
       "36"
      ],
      "text/plain": [
       "[1] 36"
      ]
     },
     "metadata": {},
     "output_type": "display_data"
    }
   ],
   "source": [
    "# Przekonwertuj zmienną na typ integer, a następnie sprawdź jej wartość.\n",
    "\n",
    "temp <- as.integer(temp)\n",
    "temp"
   ]
  },
  {
   "cell_type": "code",
   "execution_count": 6,
   "metadata": {
    "colab": {
     "base_uri": "https://localhost:8080/",
     "height": 102
    },
    "id": "B3jgVOwpON6o",
    "outputId": "8cb9ce90-baf5-4a38-fe56-00f74a95964d",
    "vscode": {
     "languageId": "r"
    }
   },
   "outputs": [
    {
     "data": {
      "text/html": [
       "'character'"
      ],
      "text/latex": [
       "'character'"
      ],
      "text/markdown": [
       "'character'"
      ],
      "text/plain": [
       "[1] \"character\""
      ]
     },
     "metadata": {},
     "output_type": "display_data"
    }
   ],
   "source": [
    "# Sprawdź typy zmiennych dla następujących wartości:\n",
    "\n",
    "class(\"36\")"
   ]
  },
  {
   "cell_type": "code",
   "execution_count": 7,
   "metadata": {
    "vscode": {
     "languageId": "r"
    }
   },
   "outputs": [
    {
     "data": {
      "text/html": [
       "'numeric'"
      ],
      "text/latex": [
       "'numeric'"
      ],
      "text/markdown": [
       "'numeric'"
      ],
      "text/plain": [
       "[1] \"numeric\""
      ]
     },
     "metadata": {},
     "output_type": "display_data"
    }
   ],
   "source": [
    "class(36)"
   ]
  },
  {
   "cell_type": "code",
   "execution_count": 8,
   "metadata": {
    "vscode": {
     "languageId": "r"
    }
   },
   "outputs": [
    {
     "data": {
      "text/html": [
       "'integer'"
      ],
      "text/latex": [
       "'integer'"
      ],
      "text/markdown": [
       "'integer'"
      ],
      "text/plain": [
       "[1] \"integer\""
      ]
     },
     "metadata": {},
     "output_type": "display_data"
    }
   ],
   "source": [
    "class(36L)"
   ]
  },
  {
   "cell_type": "code",
   "execution_count": 9,
   "metadata": {
    "vscode": {
     "languageId": "r"
    }
   },
   "outputs": [
    {
     "data": {
      "text/html": [
       "'complex'"
      ],
      "text/latex": [
       "'complex'"
      ],
      "text/markdown": [
       "'complex'"
      ],
      "text/plain": [
       "[1] \"complex\""
      ]
     },
     "metadata": {},
     "output_type": "display_data"
    }
   ],
   "source": [
    "class(36+0i)"
   ]
  },
  {
   "cell_type": "code",
   "execution_count": 10,
   "metadata": {
    "vscode": {
     "languageId": "r"
    }
   },
   "outputs": [
    {
     "data": {
      "text/html": [
       "'logical'"
      ],
      "text/latex": [
       "'logical'"
      ],
      "text/markdown": [
       "'logical'"
      ],
      "text/plain": [
       "[1] \"logical\""
      ]
     },
     "metadata": {},
     "output_type": "display_data"
    }
   ],
   "source": [
    "class(TRUE)"
   ]
  },
  {
   "cell_type": "markdown",
   "metadata": {
    "id": "dOh7ZClOOgzt"
   },
   "source": [
    "### Wektory\n",
    "\n",
    "Jedynka w nawiasach kwadratowych przy każdym wyniku bierze się z faktu, że w języku R pojedyncze liczby są wektorami. Oznacza ona indeks w wektorze. Wszystkie elementy wektora muszą być tego samego typu atomowego (np. liczbowe, znakowe, logiczne). Jeżeli warunek ten nie jest spełniony, to system wykona konwersję do wspólnego typu.\n",
    "\n",
    "Ponadto, wykonując operacje na dwóch wektorach o różnych rozmiarach - wektor o mniejszym rozmiarze jest cyklicznie powielany.\n",
    "\n",
    "Wektory można definiować na kilka różnych sposobów, np.:"
   ]
  },
  {
   "cell_type": "code",
   "execution_count": 11,
   "metadata": {
    "colab": {
     "base_uri": "https://localhost:8080/",
     "height": 102
    },
    "id": "fd57eEjJOjfV",
    "outputId": "960d31fd-287b-42f1-aa20-7e867f2b5d00",
    "vscode": {
     "languageId": "r"
    }
   },
   "outputs": [
    {
     "data": {
      "text/html": [
       "<style>\n",
       ".list-inline {list-style: none; margin:0; padding: 0}\n",
       ".list-inline>li {display: inline-block}\n",
       ".list-inline>li:not(:last-child)::after {content: \"\\00b7\"; padding: 0 .5ex}\n",
       "</style>\n",
       "<ol class=list-inline><li>2</li><li>3</li><li>4</li><li>5</li><li>8</li></ol>\n"
      ],
      "text/latex": [
       "\\begin{enumerate*}\n",
       "\\item 2\n",
       "\\item 3\n",
       "\\item 4\n",
       "\\item 5\n",
       "\\item 8\n",
       "\\end{enumerate*}\n"
      ],
      "text/markdown": [
       "1. 2\n",
       "2. 3\n",
       "3. 4\n",
       "4. 5\n",
       "5. 8\n",
       "\n",
       "\n"
      ],
      "text/plain": [
       "[1] 2 3 4 5 8"
      ]
     },
     "metadata": {},
     "output_type": "display_data"
    }
   ],
   "source": [
    "x <- c(2, 5, 8)\n",
    "c(2:4, c(5, 8))"
   ]
  },
  {
   "cell_type": "code",
   "execution_count": 12,
   "metadata": {
    "vscode": {
     "languageId": "r"
    }
   },
   "outputs": [
    {
     "data": {
      "text/html": [
       "<style>\n",
       ".list-inline {list-style: none; margin:0; padding: 0}\n",
       ".list-inline>li {display: inline-block}\n",
       ".list-inline>li:not(:last-child)::after {content: \"\\00b7\"; padding: 0 .5ex}\n",
       "</style>\n",
       "<ol class=list-inline><li>2</li><li>3</li><li>4</li><li>5</li></ol>\n"
      ],
      "text/latex": [
       "\\begin{enumerate*}\n",
       "\\item 2\n",
       "\\item 3\n",
       "\\item 4\n",
       "\\item 5\n",
       "\\end{enumerate*}\n"
      ],
      "text/markdown": [
       "1. 2\n",
       "2. 3\n",
       "3. 4\n",
       "4. 5\n",
       "\n",
       "\n"
      ],
      "text/plain": [
       "[1] 2 3 4 5"
      ]
     },
     "metadata": {},
     "output_type": "display_data"
    }
   ],
   "source": [
    "2:5"
   ]
  },
  {
   "cell_type": "code",
   "execution_count": 13,
   "metadata": {
    "vscode": {
     "languageId": "r"
    }
   },
   "outputs": [
    {
     "data": {
      "text/html": [
       "<style>\n",
       ".list-inline {list-style: none; margin:0; padding: 0}\n",
       ".list-inline>li {display: inline-block}\n",
       ".list-inline>li:not(:last-child)::after {content: \"\\00b7\"; padding: 0 .5ex}\n",
       "</style>\n",
       "<ol class=list-inline><li>2</li><li>2.75</li><li>3.5</li><li>4.25</li><li>5</li></ol>\n"
      ],
      "text/latex": [
       "\\begin{enumerate*}\n",
       "\\item 2\n",
       "\\item 2.75\n",
       "\\item 3.5\n",
       "\\item 4.25\n",
       "\\item 5\n",
       "\\end{enumerate*}\n"
      ],
      "text/markdown": [
       "1. 2\n",
       "2. 2.75\n",
       "3. 3.5\n",
       "4. 4.25\n",
       "5. 5\n",
       "\n",
       "\n"
      ],
      "text/plain": [
       "[1] 2.00 2.75 3.50 4.25 5.00"
      ]
     },
     "metadata": {},
     "output_type": "display_data"
    }
   ],
   "source": [
    "seq(2, 5, by = 0.75)"
   ]
  },
  {
   "cell_type": "code",
   "execution_count": 14,
   "metadata": {
    "vscode": {
     "languageId": "r"
    }
   },
   "outputs": [
    {
     "data": {
      "text/html": [
       "<style>\n",
       ".list-inline {list-style: none; margin:0; padding: 0}\n",
       ".list-inline>li {display: inline-block}\n",
       ".list-inline>li:not(:last-child)::after {content: \"\\00b7\"; padding: 0 .5ex}\n",
       "</style>\n",
       "<ol class=list-inline><li>2</li><li>5</li><li>8</li><li>2</li><li>5</li><li>8</li><li>2</li><li>5</li><li>8</li></ol>\n"
      ],
      "text/latex": [
       "\\begin{enumerate*}\n",
       "\\item 2\n",
       "\\item 5\n",
       "\\item 8\n",
       "\\item 2\n",
       "\\item 5\n",
       "\\item 8\n",
       "\\item 2\n",
       "\\item 5\n",
       "\\item 8\n",
       "\\end{enumerate*}\n"
      ],
      "text/markdown": [
       "1. 2\n",
       "2. 5\n",
       "3. 8\n",
       "4. 2\n",
       "5. 5\n",
       "6. 8\n",
       "7. 2\n",
       "8. 5\n",
       "9. 8\n",
       "\n",
       "\n"
      ],
      "text/plain": [
       "[1] 2 5 8 2 5 8 2 5 8"
      ]
     },
     "metadata": {},
     "output_type": "display_data"
    }
   ],
   "source": [
    "rep(x, times = 3)"
   ]
  },
  {
   "cell_type": "code",
   "execution_count": 15,
   "metadata": {
    "vscode": {
     "languageId": "r"
    }
   },
   "outputs": [
    {
     "data": {
      "text/html": [
       "<style>\n",
       ".list-inline {list-style: none; margin:0; padding: 0}\n",
       ".list-inline>li {display: inline-block}\n",
       ".list-inline>li:not(:last-child)::after {content: \"\\00b7\"; padding: 0 .5ex}\n",
       "</style>\n",
       "<ol class=list-inline><li>2</li><li>2</li><li>2</li><li>5</li><li>5</li><li>5</li><li>8</li><li>8</li><li>8</li></ol>\n"
      ],
      "text/latex": [
       "\\begin{enumerate*}\n",
       "\\item 2\n",
       "\\item 2\n",
       "\\item 2\n",
       "\\item 5\n",
       "\\item 5\n",
       "\\item 5\n",
       "\\item 8\n",
       "\\item 8\n",
       "\\item 8\n",
       "\\end{enumerate*}\n"
      ],
      "text/markdown": [
       "1. 2\n",
       "2. 2\n",
       "3. 2\n",
       "4. 5\n",
       "5. 5\n",
       "6. 5\n",
       "7. 8\n",
       "8. 8\n",
       "9. 8\n",
       "\n",
       "\n"
      ],
      "text/plain": [
       "[1] 2 2 2 5 5 5 8 8 8"
      ]
     },
     "metadata": {},
     "output_type": "display_data"
    }
   ],
   "source": [
    "rep(x, each = 3)"
   ]
  },
  {
   "cell_type": "code",
   "execution_count": 16,
   "metadata": {
    "colab": {
     "base_uri": "https://localhost:8080/",
     "height": 34
    },
    "id": "O8Jrefd8O3mF",
    "outputId": "90767551-bafb-439b-e60a-ab563ccb0c8e",
    "vscode": {
     "languageId": "r"
    }
   },
   "outputs": [
    {
     "data": {
      "text/html": [
       "<style>\n",
       ".list-inline {list-style: none; margin:0; padding: 0}\n",
       ".list-inline>li {display: inline-block}\n",
       ".list-inline>li:not(:last-child)::after {content: \"\\00b7\"; padding: 0 .5ex}\n",
       "</style>\n",
       "<ol class=list-inline><li>3</li><li>2</li><li>1</li><li>0</li></ol>\n"
      ],
      "text/latex": [
       "\\begin{enumerate*}\n",
       "\\item 3\n",
       "\\item 2\n",
       "\\item 1\n",
       "\\item 0\n",
       "\\end{enumerate*}\n"
      ],
      "text/markdown": [
       "1. 3\n",
       "2. 2\n",
       "3. 1\n",
       "4. 0\n",
       "\n",
       "\n"
      ],
      "text/plain": [
       "[1] 3 2 1 0"
      ]
     },
     "metadata": {},
     "output_type": "display_data"
    }
   ],
   "source": [
    "# Stwórz wektor w1 używając sekwencji i wypisz jego wartość.\n",
    "\n",
    "w1 <- 3:0\n",
    "w1"
   ]
  },
  {
   "cell_type": "code",
   "execution_count": 17,
   "metadata": {
    "colab": {
     "base_uri": "https://localhost:8080/",
     "height": 102
    },
    "collapsed": true,
    "id": "7FVZplREPBr7",
    "jupyter": {
     "outputs_hidden": true
    },
    "outputId": "5e3c937a-e579-46a3-cdaa-34d41b2b4656",
    "vscode": {
     "languageId": "r"
    }
   },
   "outputs": [
    {
     "data": {
      "text/html": [
       "3"
      ],
      "text/latex": [
       "3"
      ],
      "text/markdown": [
       "3"
      ],
      "text/plain": [
       "[1] 3"
      ]
     },
     "metadata": {},
     "output_type": "display_data"
    }
   ],
   "source": [
    "# Sprawdź, w jaki sposób wyświetlić wybrane elementy wektora, wpisując poniższe wyrażenia:\n",
    "\n",
    "w1[1]"
   ]
  },
  {
   "cell_type": "code",
   "execution_count": 18,
   "metadata": {
    "vscode": {
     "languageId": "r"
    }
   },
   "outputs": [
    {
     "data": {
      "text/html": [
       "0"
      ],
      "text/latex": [
       "0"
      ],
      "text/markdown": [
       "0"
      ],
      "text/plain": [
       "[1] 0"
      ]
     },
     "metadata": {},
     "output_type": "display_data"
    }
   ],
   "source": [
    "w1[length(w1)]"
   ]
  },
  {
   "cell_type": "code",
   "execution_count": 19,
   "metadata": {
    "vscode": {
     "languageId": "r"
    }
   },
   "outputs": [
    {
     "data": {
      "text/html": [
       "<style>\n",
       ".list-inline {list-style: none; margin:0; padding: 0}\n",
       ".list-inline>li {display: inline-block}\n",
       ".list-inline>li:not(:last-child)::after {content: \"\\00b7\"; padding: 0 .5ex}\n",
       "</style>\n",
       "<ol class=list-inline><li>3</li><li>2</li><li>1</li></ol>\n"
      ],
      "text/latex": [
       "\\begin{enumerate*}\n",
       "\\item 3\n",
       "\\item 2\n",
       "\\item 1\n",
       "\\end{enumerate*}\n"
      ],
      "text/markdown": [
       "1. 3\n",
       "2. 2\n",
       "3. 1\n",
       "\n",
       "\n"
      ],
      "text/plain": [
       "[1] 3 2 1"
      ]
     },
     "metadata": {},
     "output_type": "display_data"
    }
   ],
   "source": [
    "w1[c(T, T, T, F)]"
   ]
  },
  {
   "cell_type": "code",
   "execution_count": 20,
   "metadata": {
    "vscode": {
     "languageId": "r"
    }
   },
   "outputs": [
    {
     "data": {
      "text/html": [
       "<style>\n",
       ".list-inline {list-style: none; margin:0; padding: 0}\n",
       ".list-inline>li {display: inline-block}\n",
       ".list-inline>li:not(:last-child)::after {content: \"\\00b7\"; padding: 0 .5ex}\n",
       "</style>\n",
       "<ol class=list-inline><li>1</li><li>2</li><li>3</li></ol>\n"
      ],
      "text/latex": [
       "\\begin{enumerate*}\n",
       "\\item 1\n",
       "\\item 2\n",
       "\\item 3\n",
       "\\end{enumerate*}\n"
      ],
      "text/markdown": [
       "1. 1\n",
       "2. 2\n",
       "3. 3\n",
       "\n",
       "\n"
      ],
      "text/plain": [
       "[1] 1 2 3"
      ]
     },
     "metadata": {},
     "output_type": "display_data"
    }
   ],
   "source": [
    "w1[3:1]"
   ]
  },
  {
   "cell_type": "code",
   "execution_count": 21,
   "metadata": {
    "vscode": {
     "languageId": "r"
    }
   },
   "outputs": [
    {
     "data": {
      "text/html": [
       "<style>\n",
       ".list-inline {list-style: none; margin:0; padding: 0}\n",
       ".list-inline>li {display: inline-block}\n",
       ".list-inline>li:not(:last-child)::after {content: \"\\00b7\"; padding: 0 .5ex}\n",
       "</style>\n",
       "<ol class=list-inline><li>3</li><li>1</li><li>0</li></ol>\n"
      ],
      "text/latex": [
       "\\begin{enumerate*}\n",
       "\\item 3\n",
       "\\item 1\n",
       "\\item 0\n",
       "\\end{enumerate*}\n"
      ],
      "text/markdown": [
       "1. 3\n",
       "2. 1\n",
       "3. 0\n",
       "\n",
       "\n"
      ],
      "text/plain": [
       "[1] 3 1 0"
      ]
     },
     "metadata": {},
     "output_type": "display_data"
    }
   ],
   "source": [
    "w1[-2]"
   ]
  },
  {
   "cell_type": "code",
   "execution_count": 22,
   "metadata": {
    "vscode": {
     "languageId": "r"
    }
   },
   "outputs": [
    {
     "data": {
      "text/html": [
       "0"
      ],
      "text/latex": [
       "0"
      ],
      "text/markdown": [
       "0"
      ],
      "text/plain": [
       "[1] 0"
      ]
     },
     "metadata": {},
     "output_type": "display_data"
    }
   ],
   "source": [
    "# inny sposib na uzyskanie ostatniego elementu w wektorze\n",
    "tail(w1, n=1)"
   ]
  },
  {
   "cell_type": "code",
   "execution_count": 23,
   "metadata": {
    "colab": {
     "base_uri": "https://localhost:8080/"
    },
    "id": "3BPBMW9OPIKJ",
    "outputId": "99a62b1a-bcfe-4f5e-858c-13017f553b11",
    "vscode": {
     "languageId": "r"
    }
   },
   "outputs": [
    {
     "name": "stderr",
     "output_type": "stream",
     "text": [
      "Warning message:\n",
      "“NAs introduced by coercion”\n"
     ]
    }
   ],
   "source": [
    "# Stwórz poniższe wektory, używając funkcji c(), a następnie sprawdź ich typ oraz wartość.\n",
    "\n",
    "w2 <- c(0/0, 1/0, 1/Inf, TRUE, as.numeric(\"abc\"))\n",
    "w3 <- as.logical(c(\"T\", \"False\", \"abc\"))"
   ]
  },
  {
   "cell_type": "code",
   "execution_count": 24,
   "metadata": {
    "vscode": {
     "languageId": "r"
    }
   },
   "outputs": [
    {
     "data": {
      "text/html": [
       "<style>\n",
       ".list-inline {list-style: none; margin:0; padding: 0}\n",
       ".list-inline>li {display: inline-block}\n",
       ".list-inline>li:not(:last-child)::after {content: \"\\00b7\"; padding: 0 .5ex}\n",
       "</style>\n",
       "<ol class=list-inline><li>NaN</li><li>Inf</li><li>0</li><li>1</li><li>&lt;NA&gt;</li></ol>\n"
      ],
      "text/latex": [
       "\\begin{enumerate*}\n",
       "\\item NaN\n",
       "\\item Inf\n",
       "\\item 0\n",
       "\\item 1\n",
       "\\item <NA>\n",
       "\\end{enumerate*}\n"
      ],
      "text/markdown": [
       "1. NaN\n",
       "2. Inf\n",
       "3. 0\n",
       "4. 1\n",
       "5. &lt;NA&gt;\n",
       "\n",
       "\n"
      ],
      "text/plain": [
       "[1] NaN Inf   0   1  NA"
      ]
     },
     "metadata": {},
     "output_type": "display_data"
    }
   ],
   "source": [
    "w2"
   ]
  },
  {
   "cell_type": "code",
   "execution_count": 25,
   "metadata": {
    "vscode": {
     "languageId": "r"
    }
   },
   "outputs": [
    {
     "data": {
      "text/html": [
       "<style>\n",
       ".list-inline {list-style: none; margin:0; padding: 0}\n",
       ".list-inline>li {display: inline-block}\n",
       ".list-inline>li:not(:last-child)::after {content: \"\\00b7\"; padding: 0 .5ex}\n",
       "</style>\n",
       "<ol class=list-inline><li>TRUE</li><li>FALSE</li><li>&lt;NA&gt;</li></ol>\n"
      ],
      "text/latex": [
       "\\begin{enumerate*}\n",
       "\\item TRUE\n",
       "\\item FALSE\n",
       "\\item <NA>\n",
       "\\end{enumerate*}\n"
      ],
      "text/markdown": [
       "1. TRUE\n",
       "2. FALSE\n",
       "3. &lt;NA&gt;\n",
       "\n",
       "\n"
      ],
      "text/plain": [
       "[1]  TRUE FALSE    NA"
      ]
     },
     "metadata": {},
     "output_type": "display_data"
    }
   ],
   "source": [
    "w3"
   ]
  },
  {
   "cell_type": "markdown",
   "metadata": {
    "id": "CUqFWTcbPSNg"
   },
   "source": [
    "Zwróć szczególną uwagę na wartości _NA_ oraz _NaN_. Co oznaczają?"
   ]
  },
  {
   "cell_type": "code",
   "execution_count": 26,
   "metadata": {
    "colab": {
     "base_uri": "https://localhost:8080/",
     "height": 68
    },
    "id": "LDfVi2XSPUdp",
    "outputId": "7874c7dc-27f9-47aa-e8c9-1d88fa043e12",
    "vscode": {
     "languageId": "r"
    }
   },
   "outputs": [
    {
     "data": {
      "text/html": [
       "<style>\n",
       ".list-inline {list-style: none; margin:0; padding: 0}\n",
       ".list-inline>li {display: inline-block}\n",
       ".list-inline>li:not(:last-child)::after {content: \"\\00b7\"; padding: 0 .5ex}\n",
       "</style>\n",
       "<ol class=list-inline><li>0</li><li>0</li><li>0</li><li>0</li><li>0</li><li>0</li><li>0</li><li>0</li><li>0</li></ol>\n"
      ],
      "text/latex": [
       "\\begin{enumerate*}\n",
       "\\item 0\n",
       "\\item 0\n",
       "\\item 0\n",
       "\\item 0\n",
       "\\item 0\n",
       "\\item 0\n",
       "\\item 0\n",
       "\\item 0\n",
       "\\item 0\n",
       "\\end{enumerate*}\n"
      ],
      "text/markdown": [
       "1. 0\n",
       "2. 0\n",
       "3. 0\n",
       "4. 0\n",
       "5. 0\n",
       "6. 0\n",
       "7. 0\n",
       "8. 0\n",
       "9. 0\n",
       "\n",
       "\n"
      ],
      "text/plain": [
       "[1] 0 0 0 0 0 0 0 0 0"
      ]
     },
     "metadata": {},
     "output_type": "display_data"
    }
   ],
   "source": [
    "# Stwórz pusty wektor używając funkcji vector(). Przypisz do niego wartości 1, 2, 3, 4, \"null\", 5, 6, 7, 8, 9.\n",
    "# Jakiego typu są dane znajdujące się w wektorze po przypisaniu wartości?\n",
    "# Przekonwertuj wektor na wektor o wartościach typu numeric, a następnie usuń wartość _NA_ z wektora.\n",
    "w4 <- vector(\"numeric\", length = 9)\n",
    "w4"
   ]
  },
  {
   "cell_type": "code",
   "execution_count": 27,
   "metadata": {
    "vscode": {
     "languageId": "r"
    }
   },
   "outputs": [
    {
     "data": {
      "text/html": [
       "<style>\n",
       ".list-inline {list-style: none; margin:0; padding: 0}\n",
       ".list-inline>li {display: inline-block}\n",
       ".list-inline>li:not(:last-child)::after {content: \"\\00b7\"; padding: 0 .5ex}\n",
       "</style>\n",
       "<ol class=list-inline><li>'1'</li><li>'2'</li><li>'3'</li><li>'4'</li><li>'null'</li><li>'6'</li><li>'7'</li><li>'8'</li><li>'9'</li></ol>\n"
      ],
      "text/latex": [
       "\\begin{enumerate*}\n",
       "\\item '1'\n",
       "\\item '2'\n",
       "\\item '3'\n",
       "\\item '4'\n",
       "\\item 'null'\n",
       "\\item '6'\n",
       "\\item '7'\n",
       "\\item '8'\n",
       "\\item '9'\n",
       "\\end{enumerate*}\n"
      ],
      "text/markdown": [
       "1. '1'\n",
       "2. '2'\n",
       "3. '3'\n",
       "4. '4'\n",
       "5. 'null'\n",
       "6. '6'\n",
       "7. '7'\n",
       "8. '8'\n",
       "9. '9'\n",
       "\n",
       "\n"
      ],
      "text/plain": [
       "[1] \"1\"    \"2\"    \"3\"    \"4\"    \"null\" \"6\"    \"7\"    \"8\"    \"9\"   "
      ]
     },
     "metadata": {},
     "output_type": "display_data"
    }
   ],
   "source": [
    "w4[1:4] <- 1:4\n",
    "w4[5] <- \"null\"\n",
    "w4[6:9] <- 6:9\n",
    "w4"
   ]
  },
  {
   "cell_type": "code",
   "execution_count": 28,
   "metadata": {
    "vscode": {
     "languageId": "r"
    }
   },
   "outputs": [
    {
     "data": {
      "text/html": [
       "'character'"
      ],
      "text/latex": [
       "'character'"
      ],
      "text/markdown": [
       "'character'"
      ],
      "text/plain": [
       "[1] \"character\""
      ]
     },
     "metadata": {},
     "output_type": "display_data"
    }
   ],
   "source": [
    "class(w4)"
   ]
  },
  {
   "cell_type": "code",
   "execution_count": 29,
   "metadata": {
    "vscode": {
     "languageId": "r"
    }
   },
   "outputs": [
    {
     "name": "stderr",
     "output_type": "stream",
     "text": [
      "Warning message:\n",
      "“NAs introduced by coercion”\n"
     ]
    },
    {
     "data": {
      "text/html": [
       "<style>\n",
       ".list-inline {list-style: none; margin:0; padding: 0}\n",
       ".list-inline>li {display: inline-block}\n",
       ".list-inline>li:not(:last-child)::after {content: \"\\00b7\"; padding: 0 .5ex}\n",
       "</style>\n",
       "<ol class=list-inline><li>1</li><li>2</li><li>3</li><li>4</li><li>&lt;NA&gt;</li><li>6</li><li>7</li><li>8</li><li>9</li></ol>\n"
      ],
      "text/latex": [
       "\\begin{enumerate*}\n",
       "\\item 1\n",
       "\\item 2\n",
       "\\item 3\n",
       "\\item 4\n",
       "\\item <NA>\n",
       "\\item 6\n",
       "\\item 7\n",
       "\\item 8\n",
       "\\item 9\n",
       "\\end{enumerate*}\n"
      ],
      "text/markdown": [
       "1. 1\n",
       "2. 2\n",
       "3. 3\n",
       "4. 4\n",
       "5. &lt;NA&gt;\n",
       "6. 6\n",
       "7. 7\n",
       "8. 8\n",
       "9. 9\n",
       "\n",
       "\n"
      ],
      "text/plain": [
       "[1]  1  2  3  4 NA  6  7  8  9"
      ]
     },
     "metadata": {},
     "output_type": "display_data"
    }
   ],
   "source": [
    "w4 <- as.numeric(w4)\n",
    "w4"
   ]
  },
  {
   "cell_type": "code",
   "execution_count": 30,
   "metadata": {
    "vscode": {
     "languageId": "r"
    }
   },
   "outputs": [
    {
     "data": {
      "text/html": [
       "<style>\n",
       ".list-inline {list-style: none; margin:0; padding: 0}\n",
       ".list-inline>li {display: inline-block}\n",
       ".list-inline>li:not(:last-child)::after {content: \"\\00b7\"; padding: 0 .5ex}\n",
       "</style>\n",
       "<ol class=list-inline><li>1</li><li>2</li><li>3</li><li>4</li><li>6</li><li>7</li><li>8</li><li>9</li></ol>\n"
      ],
      "text/latex": [
       "\\begin{enumerate*}\n",
       "\\item 1\n",
       "\\item 2\n",
       "\\item 3\n",
       "\\item 4\n",
       "\\item 6\n",
       "\\item 7\n",
       "\\item 8\n",
       "\\item 9\n",
       "\\end{enumerate*}\n"
      ],
      "text/markdown": [
       "1. 1\n",
       "2. 2\n",
       "3. 3\n",
       "4. 4\n",
       "5. 6\n",
       "6. 7\n",
       "7. 8\n",
       "8. 9\n",
       "\n",
       "\n"
      ],
      "text/plain": [
       "[1] 1 2 3 4 6 7 8 9"
      ]
     },
     "metadata": {},
     "output_type": "display_data"
    }
   ],
   "source": [
    "w4 <- w4[!is.na(w4)]\n",
    "w4"
   ]
  },
  {
   "cell_type": "code",
   "execution_count": 31,
   "metadata": {
    "colab": {
     "base_uri": "https://localhost:8080/",
     "height": 119
    },
    "id": "tmEWVgqFPgZM",
    "outputId": "2f07b284-0b7b-4219-e50d-7d6b7210c7e7",
    "vscode": {
     "languageId": "r"
    }
   },
   "outputs": [
    {
     "data": {
      "text/html": [
       "<style>\n",
       ".list-inline {list-style: none; margin:0; padding: 0}\n",
       ".list-inline>li {display: inline-block}\n",
       ".list-inline>li:not(:last-child)::after {content: \"\\00b7\"; padding: 0 .5ex}\n",
       "</style>\n",
       "<ol class=list-inline><li>1</li><li>2</li><li>3</li><li>4</li><li>5</li></ol>\n"
      ],
      "text/latex": [
       "\\begin{enumerate*}\n",
       "\\item 1\n",
       "\\item 2\n",
       "\\item 3\n",
       "\\item 4\n",
       "\\item 5\n",
       "\\end{enumerate*}\n"
      ],
      "text/markdown": [
       "1. 1\n",
       "2. 2\n",
       "3. 3\n",
       "4. 4\n",
       "5. 5\n",
       "\n",
       "\n"
      ],
      "text/plain": [
       "[1] 1 2 3 4 5"
      ]
     },
     "metadata": {},
     "output_type": "display_data"
    }
   ],
   "source": [
    "# Stwórz wektory w5 oraz w6, a następnie sprawdź wyniki poniższych wyrażeń:\n",
    "\n",
    "w5 <- 1:5\n",
    "w5"
   ]
  },
  {
   "cell_type": "code",
   "execution_count": 32,
   "metadata": {
    "vscode": {
     "languageId": "r"
    }
   },
   "outputs": [
    {
     "data": {
      "text/html": [
       "<style>\n",
       ".list-inline {list-style: none; margin:0; padding: 0}\n",
       ".list-inline>li {display: inline-block}\n",
       ".list-inline>li:not(:last-child)::after {content: \"\\00b7\"; padding: 0 .5ex}\n",
       "</style>\n",
       "<ol class=list-inline><li>6</li><li>7</li><li>8</li><li>9</li><li>10</li></ol>\n"
      ],
      "text/latex": [
       "\\begin{enumerate*}\n",
       "\\item 6\n",
       "\\item 7\n",
       "\\item 8\n",
       "\\item 9\n",
       "\\item 10\n",
       "\\end{enumerate*}\n"
      ],
      "text/markdown": [
       "1. 6\n",
       "2. 7\n",
       "3. 8\n",
       "4. 9\n",
       "5. 10\n",
       "\n",
       "\n"
      ],
      "text/plain": [
       "[1]  6  7  8  9 10"
      ]
     },
     "metadata": {},
     "output_type": "display_data"
    }
   ],
   "source": [
    "w6 <- 6:10\n",
    "w6"
   ]
  },
  {
   "cell_type": "code",
   "execution_count": 33,
   "metadata": {
    "vscode": {
     "languageId": "r"
    }
   },
   "outputs": [
    {
     "data": {
      "text/html": [
       "<style>\n",
       ".list-inline {list-style: none; margin:0; padding: 0}\n",
       ".list-inline>li {display: inline-block}\n",
       ".list-inline>li:not(:last-child)::after {content: \"\\00b7\"; padding: 0 .5ex}\n",
       "</style>\n",
       "<ol class=list-inline><li>7</li><li>9</li><li>11</li><li>13</li><li>15</li></ol>\n"
      ],
      "text/latex": [
       "\\begin{enumerate*}\n",
       "\\item 7\n",
       "\\item 9\n",
       "\\item 11\n",
       "\\item 13\n",
       "\\item 15\n",
       "\\end{enumerate*}\n"
      ],
      "text/markdown": [
       "1. 7\n",
       "2. 9\n",
       "3. 11\n",
       "4. 13\n",
       "5. 15\n",
       "\n",
       "\n"
      ],
      "text/plain": [
       "[1]  7  9 11 13 15"
      ]
     },
     "metadata": {},
     "output_type": "display_data"
    }
   ],
   "source": [
    "w5 + w6"
   ]
  },
  {
   "cell_type": "code",
   "execution_count": 34,
   "metadata": {
    "vscode": {
     "languageId": "r"
    }
   },
   "outputs": [
    {
     "data": {
      "text/html": [
       "<style>\n",
       ".list-inline {list-style: none; margin:0; padding: 0}\n",
       ".list-inline>li {display: inline-block}\n",
       ".list-inline>li:not(:last-child)::after {content: \"\\00b7\"; padding: 0 .5ex}\n",
       "</style>\n",
       "<ol class=list-inline><li>-5</li><li>-5</li><li>-5</li><li>-5</li><li>-5</li></ol>\n"
      ],
      "text/latex": [
       "\\begin{enumerate*}\n",
       "\\item -5\n",
       "\\item -5\n",
       "\\item -5\n",
       "\\item -5\n",
       "\\item -5\n",
       "\\end{enumerate*}\n"
      ],
      "text/markdown": [
       "1. -5\n",
       "2. -5\n",
       "3. -5\n",
       "4. -5\n",
       "5. -5\n",
       "\n",
       "\n"
      ],
      "text/plain": [
       "[1] -5 -5 -5 -5 -5"
      ]
     },
     "metadata": {},
     "output_type": "display_data"
    }
   ],
   "source": [
    "w5 - w6"
   ]
  },
  {
   "cell_type": "code",
   "execution_count": 35,
   "metadata": {
    "vscode": {
     "languageId": "r"
    }
   },
   "outputs": [
    {
     "data": {
      "text/html": [
       "<style>\n",
       ".list-inline {list-style: none; margin:0; padding: 0}\n",
       ".list-inline>li {display: inline-block}\n",
       ".list-inline>li:not(:last-child)::after {content: \"\\00b7\"; padding: 0 .5ex}\n",
       "</style>\n",
       "<ol class=list-inline><li>6</li><li>14</li><li>24</li><li>36</li><li>50</li></ol>\n"
      ],
      "text/latex": [
       "\\begin{enumerate*}\n",
       "\\item 6\n",
       "\\item 14\n",
       "\\item 24\n",
       "\\item 36\n",
       "\\item 50\n",
       "\\end{enumerate*}\n"
      ],
      "text/markdown": [
       "1. 6\n",
       "2. 14\n",
       "3. 24\n",
       "4. 36\n",
       "5. 50\n",
       "\n",
       "\n"
      ],
      "text/plain": [
       "[1]  6 14 24 36 50"
      ]
     },
     "metadata": {},
     "output_type": "display_data"
    }
   ],
   "source": [
    "w5 * w6"
   ]
  },
  {
   "cell_type": "code",
   "execution_count": 36,
   "metadata": {
    "vscode": {
     "languageId": "r"
    }
   },
   "outputs": [
    {
     "data": {
      "text/html": [
       "<style>\n",
       ".list-inline {list-style: none; margin:0; padding: 0}\n",
       ".list-inline>li {display: inline-block}\n",
       ".list-inline>li:not(:last-child)::after {content: \"\\00b7\"; padding: 0 .5ex}\n",
       "</style>\n",
       "<ol class=list-inline><li>0.166666666666667</li><li>0.285714285714286</li><li>0.375</li><li>0.444444444444444</li><li>0.5</li></ol>\n"
      ],
      "text/latex": [
       "\\begin{enumerate*}\n",
       "\\item 0.166666666666667\n",
       "\\item 0.285714285714286\n",
       "\\item 0.375\n",
       "\\item 0.444444444444444\n",
       "\\item 0.5\n",
       "\\end{enumerate*}\n"
      ],
      "text/markdown": [
       "1. 0.166666666666667\n",
       "2. 0.285714285714286\n",
       "3. 0.375\n",
       "4. 0.444444444444444\n",
       "5. 0.5\n",
       "\n",
       "\n"
      ],
      "text/plain": [
       "[1] 0.1666667 0.2857143 0.3750000 0.4444444 0.5000000"
      ]
     },
     "metadata": {},
     "output_type": "display_data"
    }
   ],
   "source": [
    "w5 / w6"
   ]
  },
  {
   "cell_type": "code",
   "execution_count": 37,
   "metadata": {
    "vscode": {
     "languageId": "r"
    }
   },
   "outputs": [
    {
     "data": {
      "text/html": [
       "<style>\n",
       ".list-inline {list-style: none; margin:0; padding: 0}\n",
       ".list-inline>li {display: inline-block}\n",
       ".list-inline>li:not(:last-child)::after {content: \"\\00b7\"; padding: 0 .5ex}\n",
       "</style>\n",
       "<ol class=list-inline><li>FALSE</li><li>FALSE</li><li>FALSE</li><li>FALSE</li><li>FALSE</li></ol>\n"
      ],
      "text/latex": [
       "\\begin{enumerate*}\n",
       "\\item FALSE\n",
       "\\item FALSE\n",
       "\\item FALSE\n",
       "\\item FALSE\n",
       "\\item FALSE\n",
       "\\end{enumerate*}\n"
      ],
      "text/markdown": [
       "1. FALSE\n",
       "2. FALSE\n",
       "3. FALSE\n",
       "4. FALSE\n",
       "5. FALSE\n",
       "\n",
       "\n"
      ],
      "text/plain": [
       "[1] FALSE FALSE FALSE FALSE FALSE"
      ]
     },
     "metadata": {},
     "output_type": "display_data"
    }
   ],
   "source": [
    "w5 == w6"
   ]
  },
  {
   "cell_type": "code",
   "execution_count": 38,
   "metadata": {
    "vscode": {
     "languageId": "r"
    }
   },
   "outputs": [
    {
     "data": {
      "text/html": [
       "<style>\n",
       ".list-inline {list-style: none; margin:0; padding: 0}\n",
       ".list-inline>li {display: inline-block}\n",
       ".list-inline>li:not(:last-child)::after {content: \"\\00b7\"; padding: 0 .5ex}\n",
       "</style>\n",
       "<ol class=list-inline><li>FALSE</li><li>FALSE</li><li>TRUE</li><li>TRUE</li><li>TRUE</li></ol>\n"
      ],
      "text/latex": [
       "\\begin{enumerate*}\n",
       "\\item FALSE\n",
       "\\item FALSE\n",
       "\\item TRUE\n",
       "\\item TRUE\n",
       "\\item TRUE\n",
       "\\end{enumerate*}\n"
      ],
      "text/markdown": [
       "1. FALSE\n",
       "2. FALSE\n",
       "3. TRUE\n",
       "4. TRUE\n",
       "5. TRUE\n",
       "\n",
       "\n"
      ],
      "text/plain": [
       "[1] FALSE FALSE  TRUE  TRUE  TRUE"
      ]
     },
     "metadata": {},
     "output_type": "display_data"
    }
   ],
   "source": [
    "w5 >= 3"
   ]
  },
  {
   "cell_type": "markdown",
   "metadata": {
    "id": "J7PeTG4iRJlD"
   },
   "source": [
    "### Macierze\n",
    "\n",
    "Macierz jest obiektem dwuwymiarowym oraz, podobnie jak wektor, jest homogeniczna. Najprostszym sposobem utworzenia macierzy, jest użycie funkcji `matrix()`."
   ]
  },
  {
   "cell_type": "code",
   "execution_count": 39,
   "metadata": {
    "id": "aRYsM-b_RqEe",
    "vscode": {
     "languageId": "r"
    }
   },
   "outputs": [],
   "source": [
    "macierz1 <- matrix(1:12, 3, 4)"
   ]
  },
  {
   "cell_type": "code",
   "execution_count": 40,
   "metadata": {
    "colab": {
     "base_uri": "https://localhost:8080/",
     "height": 294
    },
    "id": "CtuOR7ZVRZVM",
    "outputId": "2fa51cd2-0cdb-45ca-af15-c35a40e6cf0a",
    "vscode": {
     "languageId": "r"
    }
   },
   "outputs": [
    {
     "data": {
      "text/html": [
       "<table class=\"dataframe\">\n",
       "<caption>A matrix: 3 × 4 of type int</caption>\n",
       "<tbody>\n",
       "\t<tr><td>1</td><td>4</td><td>7</td><td>10</td></tr>\n",
       "\t<tr><td>2</td><td>5</td><td>8</td><td>11</td></tr>\n",
       "\t<tr><td>3</td><td>6</td><td>9</td><td>12</td></tr>\n",
       "</tbody>\n",
       "</table>\n"
      ],
      "text/latex": [
       "A matrix: 3 × 4 of type int\n",
       "\\begin{tabular}{llll}\n",
       "\t 1 & 4 & 7 & 10\\\\\n",
       "\t 2 & 5 & 8 & 11\\\\\n",
       "\t 3 & 6 & 9 & 12\\\\\n",
       "\\end{tabular}\n"
      ],
      "text/markdown": [
       "\n",
       "A matrix: 3 × 4 of type int\n",
       "\n",
       "| 1 | 4 | 7 | 10 |\n",
       "| 2 | 5 | 8 | 11 |\n",
       "| 3 | 6 | 9 | 12 |\n",
       "\n"
      ],
      "text/plain": [
       "     [,1] [,2] [,3] [,4]\n",
       "[1,] 1    4    7    10  \n",
       "[2,] 2    5    8    11  \n",
       "[3,] 3    6    9    12  "
      ]
     },
     "metadata": {},
     "output_type": "display_data"
    }
   ],
   "source": [
    "# Wyświetl macierz macierz1, a następnie wyświetl element znajdujący się na pozycji 1, 2.\n",
    "# Czy pierwsza wartość określa wiersz, czy kolumnę? Jak wpływa na wynik parametr drop = FALSE?\n",
    "\n",
    "macierz1"
   ]
  },
  {
   "cell_type": "code",
   "execution_count": 41,
   "metadata": {
    "vscode": {
     "languageId": "r"
    }
   },
   "outputs": [
    {
     "data": {
      "text/html": [
       "4"
      ],
      "text/latex": [
       "4"
      ],
      "text/markdown": [
       "4"
      ],
      "text/plain": [
       "[1] 4"
      ]
     },
     "metadata": {},
     "output_type": "display_data"
    }
   ],
   "source": [
    "macierz1[1, 2]"
   ]
  },
  {
   "cell_type": "code",
   "execution_count": 42,
   "metadata": {
    "vscode": {
     "languageId": "r"
    }
   },
   "outputs": [
    {
     "data": {
      "text/html": [
       "<table class=\"dataframe\">\n",
       "<caption>A matrix: 1 × 1 of type int</caption>\n",
       "<tbody>\n",
       "\t<tr><td>4</td></tr>\n",
       "</tbody>\n",
       "</table>\n"
      ],
      "text/latex": [
       "A matrix: 1 × 1 of type int\n",
       "\\begin{tabular}{l}\n",
       "\t 4\\\\\n",
       "\\end{tabular}\n"
      ],
      "text/markdown": [
       "\n",
       "A matrix: 1 × 1 of type int\n",
       "\n",
       "| 4 |\n",
       "\n"
      ],
      "text/plain": [
       "     [,1]\n",
       "[1,] 4   "
      ]
     },
     "metadata": {},
     "output_type": "display_data"
    }
   ],
   "source": [
    "macierz1[1, 2, drop=FALSE]"
   ]
  },
  {
   "cell_type": "code",
   "execution_count": 43,
   "metadata": {
    "colab": {
     "base_uri": "https://localhost:8080/",
     "height": 113
    },
    "id": "54Eg68EaRyH3",
    "outputId": "dc2d3e63-5fe8-4b62-a55a-14a847a8278a",
    "vscode": {
     "languageId": "r"
    }
   },
   "outputs": [
    {
     "data": {
      "text/html": [
       "<table class=\"dataframe\">\n",
       "<caption>A matrix: 2 × 4 of type int</caption>\n",
       "<tbody>\n",
       "\t<tr><td>2</td><td>5</td><td>8</td><td>11</td></tr>\n",
       "\t<tr><td>3</td><td>6</td><td>9</td><td>12</td></tr>\n",
       "</tbody>\n",
       "</table>\n"
      ],
      "text/latex": [
       "A matrix: 2 × 4 of type int\n",
       "\\begin{tabular}{llll}\n",
       "\t 2 & 5 & 8 & 11\\\\\n",
       "\t 3 & 6 & 9 & 12\\\\\n",
       "\\end{tabular}\n"
      ],
      "text/markdown": [
       "\n",
       "A matrix: 2 × 4 of type int\n",
       "\n",
       "| 2 | 5 | 8 | 11 |\n",
       "| 3 | 6 | 9 | 12 |\n",
       "\n"
      ],
      "text/plain": [
       "     [,1] [,2] [,3] [,4]\n",
       "[1,] 2    5    8    11  \n",
       "[2,] 3    6    9    12  "
      ]
     },
     "metadata": {},
     "output_type": "display_data"
    }
   ],
   "source": [
    "# Wyświetl 2 i 3 wiersz macierzy.\n",
    "macierz1[2:3,]"
   ]
  },
  {
   "cell_type": "code",
   "execution_count": 44,
   "metadata": {
    "colab": {
     "base_uri": "https://localhost:8080/",
     "height": 350
    },
    "id": "3A41qm7mR2GB",
    "outputId": "a8685947-9fa1-4a30-edd5-e513b8412764",
    "vscode": {
     "languageId": "r"
    }
   },
   "outputs": [
    {
     "data": {
      "text/html": [
       "<style>\n",
       ".list-inline {list-style: none; margin:0; padding: 0}\n",
       ".list-inline>li {display: inline-block}\n",
       ".list-inline>li:not(:last-child)::after {content: \"\\00b7\"; padding: 0 .5ex}\n",
       "</style>\n",
       "<ol class=list-inline><li>1</li><li>5</li><li>9</li></ol>\n"
      ],
      "text/latex": [
       "\\begin{enumerate*}\n",
       "\\item 1\n",
       "\\item 5\n",
       "\\item 9\n",
       "\\end{enumerate*}\n"
      ],
      "text/markdown": [
       "1. 1\n",
       "2. 5\n",
       "3. 9\n",
       "\n",
       "\n"
      ],
      "text/plain": [
       "[1] 1 5 9"
      ]
     },
     "metadata": {},
     "output_type": "display_data"
    }
   ],
   "source": [
    "# Wywołaj poniższy kod. Do czego służą funkcje diag() oraz solve()?\n",
    "diag(macierz1)"
   ]
  },
  {
   "cell_type": "code",
   "execution_count": 45,
   "metadata": {
    "vscode": {
     "languageId": "r"
    }
   },
   "outputs": [
    {
     "data": {
      "text/html": [
       "<table class=\"dataframe\">\n",
       "<caption>A matrix: 5 × 5 of type dbl</caption>\n",
       "<tbody>\n",
       "\t<tr><td>1</td><td>0</td><td>0</td><td>0</td><td>0</td></tr>\n",
       "\t<tr><td>0</td><td>1</td><td>0</td><td>0</td><td>0</td></tr>\n",
       "\t<tr><td>0</td><td>0</td><td>1</td><td>0</td><td>0</td></tr>\n",
       "\t<tr><td>0</td><td>0</td><td>0</td><td>1</td><td>0</td></tr>\n",
       "\t<tr><td>0</td><td>0</td><td>0</td><td>0</td><td>1</td></tr>\n",
       "</tbody>\n",
       "</table>\n"
      ],
      "text/latex": [
       "A matrix: 5 × 5 of type dbl\n",
       "\\begin{tabular}{lllll}\n",
       "\t 1 & 0 & 0 & 0 & 0\\\\\n",
       "\t 0 & 1 & 0 & 0 & 0\\\\\n",
       "\t 0 & 0 & 1 & 0 & 0\\\\\n",
       "\t 0 & 0 & 0 & 1 & 0\\\\\n",
       "\t 0 & 0 & 0 & 0 & 1\\\\\n",
       "\\end{tabular}\n"
      ],
      "text/markdown": [
       "\n",
       "A matrix: 5 × 5 of type dbl\n",
       "\n",
       "| 1 | 0 | 0 | 0 | 0 |\n",
       "| 0 | 1 | 0 | 0 | 0 |\n",
       "| 0 | 0 | 1 | 0 | 0 |\n",
       "| 0 | 0 | 0 | 1 | 0 |\n",
       "| 0 | 0 | 0 | 0 | 1 |\n",
       "\n"
      ],
      "text/plain": [
       "     [,1] [,2] [,3] [,4] [,5]\n",
       "[1,] 1    0    0    0    0   \n",
       "[2,] 0    1    0    0    0   \n",
       "[3,] 0    0    1    0    0   \n",
       "[4,] 0    0    0    1    0   \n",
       "[5,] 0    0    0    0    1   "
      ]
     },
     "metadata": {},
     "output_type": "display_data"
    }
   ],
   "source": [
    "diag(5)"
   ]
  },
  {
   "cell_type": "code",
   "execution_count": 46,
   "metadata": {
    "vscode": {
     "languageId": "r"
    }
   },
   "outputs": [
    {
     "data": {
      "text/html": [
       "<table class=\"dataframe\">\n",
       "<caption>A matrix: 3 × 3 of type int</caption>\n",
       "<tbody>\n",
       "\t<tr><td>1</td><td>0</td><td>0</td></tr>\n",
       "\t<tr><td>0</td><td>2</td><td>0</td></tr>\n",
       "\t<tr><td>0</td><td>0</td><td>3</td></tr>\n",
       "</tbody>\n",
       "</table>\n"
      ],
      "text/latex": [
       "A matrix: 3 × 3 of type int\n",
       "\\begin{tabular}{lll}\n",
       "\t 1 & 0 & 0\\\\\n",
       "\t 0 & 2 & 0\\\\\n",
       "\t 0 & 0 & 3\\\\\n",
       "\\end{tabular}\n"
      ],
      "text/markdown": [
       "\n",
       "A matrix: 3 × 3 of type int\n",
       "\n",
       "| 1 | 0 | 0 |\n",
       "| 0 | 2 | 0 |\n",
       "| 0 | 0 | 3 |\n",
       "\n"
      ],
      "text/plain": [
       "     [,1] [,2] [,3]\n",
       "[1,] 1    0    0   \n",
       "[2,] 0    2    0   \n",
       "[3,] 0    0    3   "
      ]
     },
     "metadata": {},
     "output_type": "display_data"
    }
   ],
   "source": [
    "macierz2 <- diag(1:3)\n",
    "macierz2"
   ]
  },
  {
   "cell_type": "code",
   "execution_count": 47,
   "metadata": {
    "vscode": {
     "languageId": "r"
    }
   },
   "outputs": [
    {
     "data": {
      "text/html": [
       "<table class=\"dataframe\">\n",
       "<caption>A matrix: 3 × 3 of type dbl</caption>\n",
       "<tbody>\n",
       "\t<tr><td>1</td><td>0.0</td><td>0.0000000</td></tr>\n",
       "\t<tr><td>0</td><td>0.5</td><td>0.0000000</td></tr>\n",
       "\t<tr><td>0</td><td>0.0</td><td>0.3333333</td></tr>\n",
       "</tbody>\n",
       "</table>\n"
      ],
      "text/latex": [
       "A matrix: 3 × 3 of type dbl\n",
       "\\begin{tabular}{lll}\n",
       "\t 1 & 0.0 & 0.0000000\\\\\n",
       "\t 0 & 0.5 & 0.0000000\\\\\n",
       "\t 0 & 0.0 & 0.3333333\\\\\n",
       "\\end{tabular}\n"
      ],
      "text/markdown": [
       "\n",
       "A matrix: 3 × 3 of type dbl\n",
       "\n",
       "| 1 | 0.0 | 0.0000000 |\n",
       "| 0 | 0.5 | 0.0000000 |\n",
       "| 0 | 0.0 | 0.3333333 |\n",
       "\n"
      ],
      "text/plain": [
       "     [,1] [,2] [,3]     \n",
       "[1,] 1    0.0  0.0000000\n",
       "[2,] 0    0.5  0.0000000\n",
       "[3,] 0    0.0  0.3333333"
      ]
     },
     "metadata": {},
     "output_type": "display_data"
    }
   ],
   "source": [
    "solve(macierz2)"
   ]
  },
  {
   "cell_type": "code",
   "execution_count": 48,
   "metadata": {
    "id": "xAT0EOcLR_pe",
    "vscode": {
     "languageId": "r"
    }
   },
   "outputs": [
    {
     "data": {
      "text/html": [
       "<style>\n",
       ".list-inline {list-style: none; margin:0; padding: 0}\n",
       ".list-inline>li {display: inline-block}\n",
       ".list-inline>li:not(:last-child)::after {content: \"\\00b7\"; padding: 0 .5ex}\n",
       "</style>\n",
       "<ol class=list-inline><li>1</li><li>2</li><li>3</li><li>4</li><li>5</li><li>6</li><li>7</li><li>8</li><li>9</li><li>10</li><li>11</li><li>12</li></ol>\n"
      ],
      "text/latex": [
       "\\begin{enumerate*}\n",
       "\\item 1\n",
       "\\item 2\n",
       "\\item 3\n",
       "\\item 4\n",
       "\\item 5\n",
       "\\item 6\n",
       "\\item 7\n",
       "\\item 8\n",
       "\\item 9\n",
       "\\item 10\n",
       "\\item 11\n",
       "\\item 12\n",
       "\\end{enumerate*}\n"
      ],
      "text/markdown": [
       "1. 1\n",
       "2. 2\n",
       "3. 3\n",
       "4. 4\n",
       "5. 5\n",
       "6. 6\n",
       "7. 7\n",
       "8. 8\n",
       "9. 9\n",
       "10. 10\n",
       "11. 11\n",
       "12. 12\n",
       "\n",
       "\n"
      ],
      "text/plain": [
       " [1]  1  2  3  4  5  6  7  8  9 10 11 12"
      ]
     },
     "metadata": {},
     "output_type": "display_data"
    }
   ],
   "source": [
    "# Stwórz 12 elementowy wektor, a następnie wykorzystaj go do stworzenia macierzy o 3 wierszach i 4 kolumnach.\n",
    "# Zwróć uwagę, w jaki sposób zostały wpisane wartości do macierzy. Sprawdź atrybuty macierzy macierz3.\n",
    "# Porównaj wynik z macierzą macierz1.\n",
    "macierz3 <- 1:12\n",
    "macierz3"
   ]
  },
  {
   "cell_type": "code",
   "execution_count": 49,
   "metadata": {
    "vscode": {
     "languageId": "r"
    }
   },
   "outputs": [
    {
     "data": {
      "text/html": [
       "<table class=\"dataframe\">\n",
       "<caption>A matrix: 3 × 4 of type int</caption>\n",
       "<tbody>\n",
       "\t<tr><td>1</td><td>4</td><td>7</td><td>10</td></tr>\n",
       "\t<tr><td>2</td><td>5</td><td>8</td><td>11</td></tr>\n",
       "\t<tr><td>3</td><td>6</td><td>9</td><td>12</td></tr>\n",
       "</tbody>\n",
       "</table>\n"
      ],
      "text/latex": [
       "A matrix: 3 × 4 of type int\n",
       "\\begin{tabular}{llll}\n",
       "\t 1 & 4 & 7 & 10\\\\\n",
       "\t 2 & 5 & 8 & 11\\\\\n",
       "\t 3 & 6 & 9 & 12\\\\\n",
       "\\end{tabular}\n"
      ],
      "text/markdown": [
       "\n",
       "A matrix: 3 × 4 of type int\n",
       "\n",
       "| 1 | 4 | 7 | 10 |\n",
       "| 2 | 5 | 8 | 11 |\n",
       "| 3 | 6 | 9 | 12 |\n",
       "\n"
      ],
      "text/plain": [
       "     [,1] [,2] [,3] [,4]\n",
       "[1,] 1    4    7    10  \n",
       "[2,] 2    5    8    11  \n",
       "[3,] 3    6    9    12  "
      ]
     },
     "metadata": {},
     "output_type": "display_data"
    }
   ],
   "source": [
    "dim(macierz3) <- c(3, 4)\n",
    "macierz3"
   ]
  },
  {
   "cell_type": "code",
   "execution_count": 50,
   "metadata": {
    "vscode": {
     "languageId": "r"
    }
   },
   "outputs": [
    {
     "data": {
      "text/html": [
       "<strong>$dim</strong> = <style>\n",
       ".list-inline {list-style: none; margin:0; padding: 0}\n",
       ".list-inline>li {display: inline-block}\n",
       ".list-inline>li:not(:last-child)::after {content: \"\\00b7\"; padding: 0 .5ex}\n",
       "</style>\n",
       "<ol class=list-inline><li>3</li><li>4</li></ol>\n"
      ],
      "text/latex": [
       "\\textbf{\\$dim} = \\begin{enumerate*}\n",
       "\\item 3\n",
       "\\item 4\n",
       "\\end{enumerate*}\n"
      ],
      "text/markdown": [
       "**$dim** = 1. 3\n",
       "2. 4\n",
       "\n",
       "\n"
      ],
      "text/plain": [
       "$dim\n",
       "[1] 3 4\n"
      ]
     },
     "metadata": {},
     "output_type": "display_data"
    }
   ],
   "source": [
    "attributes(macierz3)"
   ]
  },
  {
   "cell_type": "code",
   "execution_count": 51,
   "metadata": {
    "vscode": {
     "languageId": "r"
    }
   },
   "outputs": [
    {
     "data": {
      "text/html": [
       "<table class=\"dataframe\">\n",
       "<caption>A matrix: 3 × 4 of type int</caption>\n",
       "<tbody>\n",
       "\t<tr><td>1</td><td>4</td><td>7</td><td>10</td></tr>\n",
       "\t<tr><td>2</td><td>5</td><td>8</td><td>11</td></tr>\n",
       "\t<tr><td>3</td><td>6</td><td>9</td><td>12</td></tr>\n",
       "</tbody>\n",
       "</table>\n"
      ],
      "text/latex": [
       "A matrix: 3 × 4 of type int\n",
       "\\begin{tabular}{llll}\n",
       "\t 1 & 4 & 7 & 10\\\\\n",
       "\t 2 & 5 & 8 & 11\\\\\n",
       "\t 3 & 6 & 9 & 12\\\\\n",
       "\\end{tabular}\n"
      ],
      "text/markdown": [
       "\n",
       "A matrix: 3 × 4 of type int\n",
       "\n",
       "| 1 | 4 | 7 | 10 |\n",
       "| 2 | 5 | 8 | 11 |\n",
       "| 3 | 6 | 9 | 12 |\n",
       "\n"
      ],
      "text/plain": [
       "     [,1] [,2] [,3] [,4]\n",
       "[1,] 1    4    7    10  \n",
       "[2,] 2    5    8    11  \n",
       "[3,] 3    6    9    12  "
      ]
     },
     "metadata": {},
     "output_type": "display_data"
    },
    {
     "data": {
      "text/html": [
       "<table class=\"dataframe\">\n",
       "<caption>A matrix: 3 × 4 of type int</caption>\n",
       "<tbody>\n",
       "\t<tr><td>1</td><td>4</td><td>7</td><td>10</td></tr>\n",
       "\t<tr><td>2</td><td>5</td><td>8</td><td>11</td></tr>\n",
       "\t<tr><td>3</td><td>6</td><td>9</td><td>12</td></tr>\n",
       "</tbody>\n",
       "</table>\n"
      ],
      "text/latex": [
       "A matrix: 3 × 4 of type int\n",
       "\\begin{tabular}{llll}\n",
       "\t 1 & 4 & 7 & 10\\\\\n",
       "\t 2 & 5 & 8 & 11\\\\\n",
       "\t 3 & 6 & 9 & 12\\\\\n",
       "\\end{tabular}\n"
      ],
      "text/markdown": [
       "\n",
       "A matrix: 3 × 4 of type int\n",
       "\n",
       "| 1 | 4 | 7 | 10 |\n",
       "| 2 | 5 | 8 | 11 |\n",
       "| 3 | 6 | 9 | 12 |\n",
       "\n"
      ],
      "text/plain": [
       "     [,1] [,2] [,3] [,4]\n",
       "[1,] 1    4    7    10  \n",
       "[2,] 2    5    8    11  \n",
       "[3,] 3    6    9    12  "
      ]
     },
     "metadata": {},
     "output_type": "display_data"
    }
   ],
   "source": [
    "macierz1\n",
    "macierz3"
   ]
  },
  {
   "cell_type": "code",
   "execution_count": 52,
   "metadata": {
    "vscode": {
     "languageId": "r"
    }
   },
   "outputs": [
    {
     "data": {
      "text/html": [
       "<table class=\"dataframe\">\n",
       "<caption>A matrix: 3 × 4 of type lgl</caption>\n",
       "<tbody>\n",
       "\t<tr><td>TRUE</td><td>TRUE</td><td>TRUE</td><td>TRUE</td></tr>\n",
       "\t<tr><td>TRUE</td><td>TRUE</td><td>TRUE</td><td>TRUE</td></tr>\n",
       "\t<tr><td>TRUE</td><td>TRUE</td><td>TRUE</td><td>TRUE</td></tr>\n",
       "</tbody>\n",
       "</table>\n"
      ],
      "text/latex": [
       "A matrix: 3 × 4 of type lgl\n",
       "\\begin{tabular}{llll}\n",
       "\t TRUE & TRUE & TRUE & TRUE\\\\\n",
       "\t TRUE & TRUE & TRUE & TRUE\\\\\n",
       "\t TRUE & TRUE & TRUE & TRUE\\\\\n",
       "\\end{tabular}\n"
      ],
      "text/markdown": [
       "\n",
       "A matrix: 3 × 4 of type lgl\n",
       "\n",
       "| TRUE | TRUE | TRUE | TRUE |\n",
       "| TRUE | TRUE | TRUE | TRUE |\n",
       "| TRUE | TRUE | TRUE | TRUE |\n",
       "\n"
      ],
      "text/plain": [
       "     [,1] [,2] [,3] [,4]\n",
       "[1,] TRUE TRUE TRUE TRUE\n",
       "[2,] TRUE TRUE TRUE TRUE\n",
       "[3,] TRUE TRUE TRUE TRUE"
      ]
     },
     "metadata": {},
     "output_type": "display_data"
    }
   ],
   "source": [
    "macierz1 == macierz3"
   ]
  },
  {
   "cell_type": "code",
   "execution_count": 53,
   "metadata": {
    "vscode": {
     "languageId": "r"
    }
   },
   "outputs": [
    {
     "data": {
      "text/html": [
       "TRUE"
      ],
      "text/latex": [
       "TRUE"
      ],
      "text/markdown": [
       "TRUE"
      ],
      "text/plain": [
       "[1] TRUE"
      ]
     },
     "metadata": {},
     "output_type": "display_data"
    }
   ],
   "source": [
    "all(macierz1 == macierz3)"
   ]
  },
  {
   "cell_type": "code",
   "execution_count": 54,
   "metadata": {
    "id": "cBcTRQi4SKI0",
    "vscode": {
     "languageId": "r"
    }
   },
   "outputs": [
    {
     "data": {
      "text/html": [
       "<table class=\"dataframe\">\n",
       "<caption>A matrix: 3 × 4 of type int</caption>\n",
       "<tbody>\n",
       "\t<tr><td>1</td><td> 2</td><td> 3</td><td> 4</td></tr>\n",
       "\t<tr><td>5</td><td> 6</td><td> 7</td><td> 8</td></tr>\n",
       "\t<tr><td>9</td><td>10</td><td>11</td><td>12</td></tr>\n",
       "</tbody>\n",
       "</table>\n"
      ],
      "text/latex": [
       "A matrix: 3 × 4 of type int\n",
       "\\begin{tabular}{llll}\n",
       "\t 1 &  2 &  3 &  4\\\\\n",
       "\t 5 &  6 &  7 &  8\\\\\n",
       "\t 9 & 10 & 11 & 12\\\\\n",
       "\\end{tabular}\n"
      ],
      "text/markdown": [
       "\n",
       "A matrix: 3 × 4 of type int\n",
       "\n",
       "| 1 |  2 |  3 |  4 |\n",
       "| 5 |  6 |  7 |  8 |\n",
       "| 9 | 10 | 11 | 12 |\n",
       "\n"
      ],
      "text/plain": [
       "     [,1] [,2] [,3] [,4]\n",
       "[1,] 1     2    3    4  \n",
       "[2,] 5     6    7    8  \n",
       "[3,] 9    10   11   12  "
      ]
     },
     "metadata": {},
     "output_type": "display_data"
    }
   ],
   "source": [
    "# Utwórz nową macierz, ustawiając argument byrow=TRUE. Porównaj ją z macierz1.\n",
    "macierz4 <- matrix(1:12, 3, 4, byrow = TRUE)\n",
    "macierz4"
   ]
  },
  {
   "cell_type": "code",
   "execution_count": 55,
   "metadata": {
    "id": "imrkOo8nSSDT",
    "vscode": {
     "languageId": "r"
    }
   },
   "outputs": [
    {
     "data": {
      "text/html": [
       "<table class=\"dataframe\">\n",
       "<caption>A matrix: 3 × 8 of type int</caption>\n",
       "<tbody>\n",
       "\t<tr><td>1</td><td>4</td><td>7</td><td>10</td><td>1</td><td> 2</td><td> 3</td><td> 4</td></tr>\n",
       "\t<tr><td>2</td><td>5</td><td>8</td><td>11</td><td>5</td><td> 6</td><td> 7</td><td> 8</td></tr>\n",
       "\t<tr><td>3</td><td>6</td><td>9</td><td>12</td><td>9</td><td>10</td><td>11</td><td>12</td></tr>\n",
       "</tbody>\n",
       "</table>\n"
      ],
      "text/latex": [
       "A matrix: 3 × 8 of type int\n",
       "\\begin{tabular}{llllllll}\n",
       "\t 1 & 4 & 7 & 10 & 1 &  2 &  3 &  4\\\\\n",
       "\t 2 & 5 & 8 & 11 & 5 &  6 &  7 &  8\\\\\n",
       "\t 3 & 6 & 9 & 12 & 9 & 10 & 11 & 12\\\\\n",
       "\\end{tabular}\n"
      ],
      "text/markdown": [
       "\n",
       "A matrix: 3 × 8 of type int\n",
       "\n",
       "| 1 | 4 | 7 | 10 | 1 |  2 |  3 |  4 |\n",
       "| 2 | 5 | 8 | 11 | 5 |  6 |  7 |  8 |\n",
       "| 3 | 6 | 9 | 12 | 9 | 10 | 11 | 12 |\n",
       "\n"
      ],
      "text/plain": [
       "     [,1] [,2] [,3] [,4] [,5] [,6] [,7] [,8]\n",
       "[1,] 1    4    7    10   1     2    3    4  \n",
       "[2,] 2    5    8    11   5     6    7    8  \n",
       "[3,] 3    6    9    12   9    10   11   12  "
      ]
     },
     "metadata": {},
     "output_type": "display_data"
    }
   ],
   "source": [
    "# Utwórz nowe dwie macierze z macierz1 i macierz4, stosując kolejno funkcje cbind() oraz rbind().\n",
    "# Zwróć uwagę na różnice w działaniu obu funkcji\n",
    "\n",
    "macierz5 <- cbind(macierz1, macierz4)\n",
    "macierz5"
   ]
  },
  {
   "cell_type": "code",
   "execution_count": 56,
   "metadata": {
    "vscode": {
     "languageId": "r"
    }
   },
   "outputs": [
    {
     "data": {
      "text/html": [
       "<table class=\"dataframe\">\n",
       "<caption>A matrix: 6 × 4 of type int</caption>\n",
       "<tbody>\n",
       "\t<tr><td>1</td><td> 4</td><td> 7</td><td>10</td></tr>\n",
       "\t<tr><td>2</td><td> 5</td><td> 8</td><td>11</td></tr>\n",
       "\t<tr><td>3</td><td> 6</td><td> 9</td><td>12</td></tr>\n",
       "\t<tr><td>1</td><td> 2</td><td> 3</td><td> 4</td></tr>\n",
       "\t<tr><td>5</td><td> 6</td><td> 7</td><td> 8</td></tr>\n",
       "\t<tr><td>9</td><td>10</td><td>11</td><td>12</td></tr>\n",
       "</tbody>\n",
       "</table>\n"
      ],
      "text/latex": [
       "A matrix: 6 × 4 of type int\n",
       "\\begin{tabular}{llll}\n",
       "\t 1 &  4 &  7 & 10\\\\\n",
       "\t 2 &  5 &  8 & 11\\\\\n",
       "\t 3 &  6 &  9 & 12\\\\\n",
       "\t 1 &  2 &  3 &  4\\\\\n",
       "\t 5 &  6 &  7 &  8\\\\\n",
       "\t 9 & 10 & 11 & 12\\\\\n",
       "\\end{tabular}\n"
      ],
      "text/markdown": [
       "\n",
       "A matrix: 6 × 4 of type int\n",
       "\n",
       "| 1 |  4 |  7 | 10 |\n",
       "| 2 |  5 |  8 | 11 |\n",
       "| 3 |  6 |  9 | 12 |\n",
       "| 1 |  2 |  3 |  4 |\n",
       "| 5 |  6 |  7 |  8 |\n",
       "| 9 | 10 | 11 | 12 |\n",
       "\n"
      ],
      "text/plain": [
       "     [,1] [,2] [,3] [,4]\n",
       "[1,] 1     4    7   10  \n",
       "[2,] 2     5    8   11  \n",
       "[3,] 3     6    9   12  \n",
       "[4,] 1     2    3    4  \n",
       "[5,] 5     6    7    8  \n",
       "[6,] 9    10   11   12  "
      ]
     },
     "metadata": {},
     "output_type": "display_data"
    }
   ],
   "source": [
    "macierz6 <- rbind(macierz1, macierz4)\n",
    "macierz6"
   ]
  },
  {
   "cell_type": "markdown",
   "metadata": {
    "id": "qlqg6rm9Sdu7"
   },
   "source": [
    "### Listy\n",
    "\n",
    "W odróżnieniu od wektorów i macierzy, listy mogą przechowywać obiekty różnego typu, w określonej kolejności."
   ]
  },
  {
   "cell_type": "code",
   "execution_count": 57,
   "metadata": {
    "id": "OXvzDqljSco5",
    "vscode": {
     "languageId": "r"
    }
   },
   "outputs": [
    {
     "data": {
      "text/html": [
       "<dl>\n",
       "\t<dt>$lp</dt>\n",
       "\t\t<dd>1</dd>\n",
       "\t<dt>$imie</dt>\n",
       "\t\t<dd>'Jan'</dd>\n",
       "\t<dt>$nazwisko</dt>\n",
       "\t\t<dd>'Kowalski'</dd>\n",
       "\t<dt>$oceny</dt>\n",
       "\t\t<dd><style>\n",
       ".list-inline {list-style: none; margin:0; padding: 0}\n",
       ".list-inline>li {display: inline-block}\n",
       ".list-inline>li:not(:last-child)::after {content: \"\\00b7\"; padding: 0 .5ex}\n",
       "</style>\n",
       "<ol class=list-inline><li>4</li><li>3.5</li><li>5</li></ol>\n",
       "</dd>\n",
       "</dl>\n"
      ],
      "text/latex": [
       "\\begin{description}\n",
       "\\item[\\$lp] 1\n",
       "\\item[\\$imie] 'Jan'\n",
       "\\item[\\$nazwisko] 'Kowalski'\n",
       "\\item[\\$oceny] \\begin{enumerate*}\n",
       "\\item 4\n",
       "\\item 3.5\n",
       "\\item 5\n",
       "\\end{enumerate*}\n",
       "\n",
       "\\end{description}\n"
      ],
      "text/markdown": [
       "$lp\n",
       ":   1\n",
       "$imie\n",
       ":   'Jan'\n",
       "$nazwisko\n",
       ":   'Kowalski'\n",
       "$oceny\n",
       ":   1. 4\n",
       "2. 3.5\n",
       "3. 5\n",
       "\n",
       "\n",
       "\n",
       "\n",
       "\n"
      ],
      "text/plain": [
       "$lp\n",
       "[1] 1\n",
       "\n",
       "$imie\n",
       "[1] \"Jan\"\n",
       "\n",
       "$nazwisko\n",
       "[1] \"Kowalski\"\n",
       "\n",
       "$oceny\n",
       "[1] 4.0 3.5 5.0\n"
      ]
     },
     "metadata": {},
     "output_type": "display_data"
    }
   ],
   "source": [
    "# Stwórz listę używając funkcji list(). Sprawdź typ zmiennej oraz poszczególnych elementów.\n",
    "\n",
    "lista1 <- list(lp = 1L, imie = \"Jan\", nazwisko = \"Kowalski\", oceny = c(4.0, 3.5, 5.0))\n",
    "lista1"
   ]
  },
  {
   "cell_type": "code",
   "execution_count": 58,
   "metadata": {
    "id": "sOUlWFdlSndV",
    "vscode": {
     "languageId": "r"
    }
   },
   "outputs": [
    {
     "data": {
      "text/html": [
       "'Jan'"
      ],
      "text/latex": [
       "'Jan'"
      ],
      "text/markdown": [
       "'Jan'"
      ],
      "text/plain": [
       "[1] \"Jan\""
      ]
     },
     "metadata": {},
     "output_type": "display_data"
    }
   ],
   "source": [
    "# Sprawdź różne sposoby dostępu do elementow listy i możliwości jej modyfikacji.\n",
    "# Zwróć uwagę na różnicę w stosowaniu pojedynczych lub podwójnych nawiasów.\n",
    "\n",
    "lista1$imie"
   ]
  },
  {
   "cell_type": "code",
   "execution_count": 59,
   "metadata": {
    "vscode": {
     "languageId": "r"
    }
   },
   "outputs": [
    {
     "data": {
      "text/html": [
       "'Jan'"
      ],
      "text/latex": [
       "'Jan'"
      ],
      "text/markdown": [
       "'Jan'"
      ],
      "text/plain": [
       "[1] \"Jan\""
      ]
     },
     "metadata": {},
     "output_type": "display_data"
    }
   ],
   "source": [
    "lista1[[2]]"
   ]
  },
  {
   "cell_type": "code",
   "execution_count": 60,
   "metadata": {
    "vscode": {
     "languageId": "r"
    }
   },
   "outputs": [
    {
     "data": {
      "text/html": [
       "<strong>$imie</strong> = 'Jan'"
      ],
      "text/latex": [
       "\\textbf{\\$imie} = 'Jan'"
      ],
      "text/markdown": [
       "**$imie** = 'Jan'"
      ],
      "text/plain": [
       "$imie\n",
       "[1] \"Jan\"\n"
      ]
     },
     "metadata": {},
     "output_type": "display_data"
    }
   ],
   "source": [
    "lista1[2]"
   ]
  },
  {
   "cell_type": "code",
   "execution_count": 61,
   "metadata": {
    "vscode": {
     "languageId": "r"
    }
   },
   "outputs": [
    {
     "data": {
      "text/html": [
       "<dl>\n",
       "\t<dt>$lp</dt>\n",
       "\t\t<dd>'1'</dd>\n",
       "\t<dt>$imie</dt>\n",
       "\t\t<dd>'JAN'</dd>\n",
       "\t<dt>$nazwisko</dt>\n",
       "\t\t<dd>'KOWALSKI'</dd>\n",
       "\t<dt>$oceny</dt>\n",
       "\t\t<dd><style>\n",
       ".list-inline {list-style: none; margin:0; padding: 0}\n",
       ".list-inline>li {display: inline-block}\n",
       ".list-inline>li:not(:last-child)::after {content: \"\\00b7\"; padding: 0 .5ex}\n",
       "</style>\n",
       "<ol class=list-inline><li>'4'</li><li>'3.5'</li><li>'5'</li></ol>\n",
       "</dd>\n",
       "\t<dt>$przedmiot</dt>\n",
       "\t\t<dd>'WAD'</dd>\n",
       "</dl>\n"
      ],
      "text/latex": [
       "\\begin{description}\n",
       "\\item[\\$lp] '1'\n",
       "\\item[\\$imie] 'JAN'\n",
       "\\item[\\$nazwisko] 'KOWALSKI'\n",
       "\\item[\\$oceny] \\begin{enumerate*}\n",
       "\\item '4'\n",
       "\\item '3.5'\n",
       "\\item '5'\n",
       "\\end{enumerate*}\n",
       "\n",
       "\\item[\\$przedmiot] 'WAD'\n",
       "\\end{description}\n"
      ],
      "text/markdown": [
       "$lp\n",
       ":   '1'\n",
       "$imie\n",
       ":   'JAN'\n",
       "$nazwisko\n",
       ":   'KOWALSKI'\n",
       "$oceny\n",
       ":   1. '4'\n",
       "2. '3.5'\n",
       "3. '5'\n",
       "\n",
       "\n",
       "\n",
       "$przedmiot\n",
       ":   'WAD'\n",
       "\n",
       "\n"
      ],
      "text/plain": [
       "$lp\n",
       "[1] \"1\"\n",
       "\n",
       "$imie\n",
       "[1] \"JAN\"\n",
       "\n",
       "$nazwisko\n",
       "[1] \"KOWALSKI\"\n",
       "\n",
       "$oceny\n",
       "[1] \"4\"   \"3.5\" \"5\"  \n",
       "\n",
       "$przedmiot\n",
       "[1] \"WAD\"\n"
      ]
     },
     "metadata": {},
     "output_type": "display_data"
    }
   ],
   "source": [
    "lista1$przedmiot <- \"WAD\"\n",
    "lapply(lista1, toupper)"
   ]
  },
  {
   "cell_type": "markdown",
   "metadata": {
    "id": "ZBUTN5DmSvr7"
   },
   "source": [
    "### Ramki danych\n",
    "Ramki danych stanowią struktury danych przypominające tabele z relacyjnych baz danych. Są one szczególnym typem listy. Reprezentują macierze o różnych typach kolumn. W odniesieniu do ramek danych można używać funkcji odnoszących się do list i do macierzy.\n",
    "\n",
    "Do tworzenia prostej ramki danych można użyć funkcji `data.frame()`."
   ]
  },
  {
   "cell_type": "code",
   "execution_count": 62,
   "metadata": {
    "id": "Ri5EM27uS0ok",
    "vscode": {
     "languageId": "r"
    }
   },
   "outputs": [
    {
     "data": {
      "text/html": [
       "<table class=\"dataframe\">\n",
       "<caption>A data.frame: 5 × 3</caption>\n",
       "<thead>\n",
       "\t<tr><th scope=col>rok</th><th scope=col>pora.roku</th><th scope=col>maks.temp</th></tr>\n",
       "\t<tr><th scope=col>&lt;dbl&gt;</th><th scope=col>&lt;chr&gt;</th><th scope=col>&lt;dbl&gt;</th></tr>\n",
       "</thead>\n",
       "<tbody>\n",
       "\t<tr><td>2020</td><td>lato  </td><td>32</td></tr>\n",
       "\t<tr><td>2020</td><td>jesien</td><td>21</td></tr>\n",
       "\t<tr><td>2021</td><td>lato  </td><td>33</td></tr>\n",
       "\t<tr><td>  NA</td><td>jesien</td><td>15</td></tr>\n",
       "\t<tr><td>2022</td><td>wiosna</td><td>22</td></tr>\n",
       "</tbody>\n",
       "</table>\n"
      ],
      "text/latex": [
       "A data.frame: 5 × 3\n",
       "\\begin{tabular}{lll}\n",
       " rok & pora.roku & maks.temp\\\\\n",
       " <dbl> & <chr> & <dbl>\\\\\n",
       "\\hline\n",
       "\t 2020 & lato   & 32\\\\\n",
       "\t 2020 & jesien & 21\\\\\n",
       "\t 2021 & lato   & 33\\\\\n",
       "\t   NA & jesien & 15\\\\\n",
       "\t 2022 & wiosna & 22\\\\\n",
       "\\end{tabular}\n"
      ],
      "text/markdown": [
       "\n",
       "A data.frame: 5 × 3\n",
       "\n",
       "| rok &lt;dbl&gt; | pora.roku &lt;chr&gt; | maks.temp &lt;dbl&gt; |\n",
       "|---|---|---|\n",
       "| 2020 | lato   | 32 |\n",
       "| 2020 | jesien | 21 |\n",
       "| 2021 | lato   | 33 |\n",
       "|   NA | jesien | 15 |\n",
       "| 2022 | wiosna | 22 |\n",
       "\n"
      ],
      "text/plain": [
       "  rok  pora.roku maks.temp\n",
       "1 2020 lato      32       \n",
       "2 2020 jesien    21       \n",
       "3 2021 lato      33       \n",
       "4   NA jesien    15       \n",
       "5 2022 wiosna    22       "
      ]
     },
     "metadata": {},
     "output_type": "display_data"
    }
   ],
   "source": [
    "# Stwórz ramkę danych, a następnie sprawdź jej atrybuty oraz liczbę wierszy i kolumn.\n",
    "\n",
    "dane <- data.frame(rok = c(2020, 2020, 2021, NA, 2022),\n",
    "                   pora.roku = c(\"lato\", \"jesien\", \"lato\", \"jesien\", \"wiosna\"),\n",
    "                   maks.temp = c(32, 21, 33, 15, 22))\n",
    "dane"
   ]
  },
  {
   "cell_type": "code",
   "execution_count": 63,
   "metadata": {
    "vscode": {
     "languageId": "r"
    }
   },
   "outputs": [
    {
     "data": {
      "text/html": [
       "<dl>\n",
       "\t<dt>$names</dt>\n",
       "\t\t<dd><style>\n",
       ".list-inline {list-style: none; margin:0; padding: 0}\n",
       ".list-inline>li {display: inline-block}\n",
       ".list-inline>li:not(:last-child)::after {content: \"\\00b7\"; padding: 0 .5ex}\n",
       "</style>\n",
       "<ol class=list-inline><li>'rok'</li><li>'pora.roku'</li><li>'maks.temp'</li></ol>\n",
       "</dd>\n",
       "\t<dt>$class</dt>\n",
       "\t\t<dd>'data.frame'</dd>\n",
       "\t<dt>$row.names</dt>\n",
       "\t\t<dd><style>\n",
       ".list-inline {list-style: none; margin:0; padding: 0}\n",
       ".list-inline>li {display: inline-block}\n",
       ".list-inline>li:not(:last-child)::after {content: \"\\00b7\"; padding: 0 .5ex}\n",
       "</style>\n",
       "<ol class=list-inline><li>1</li><li>2</li><li>3</li><li>4</li><li>5</li></ol>\n",
       "</dd>\n",
       "</dl>\n"
      ],
      "text/latex": [
       "\\begin{description}\n",
       "\\item[\\$names] \\begin{enumerate*}\n",
       "\\item 'rok'\n",
       "\\item 'pora.roku'\n",
       "\\item 'maks.temp'\n",
       "\\end{enumerate*}\n",
       "\n",
       "\\item[\\$class] 'data.frame'\n",
       "\\item[\\$row.names] \\begin{enumerate*}\n",
       "\\item 1\n",
       "\\item 2\n",
       "\\item 3\n",
       "\\item 4\n",
       "\\item 5\n",
       "\\end{enumerate*}\n",
       "\n",
       "\\end{description}\n"
      ],
      "text/markdown": [
       "$names\n",
       ":   1. 'rok'\n",
       "2. 'pora.roku'\n",
       "3. 'maks.temp'\n",
       "\n",
       "\n",
       "\n",
       "$class\n",
       ":   'data.frame'\n",
       "$row.names\n",
       ":   1. 1\n",
       "2. 2\n",
       "3. 3\n",
       "4. 4\n",
       "5. 5\n",
       "\n",
       "\n",
       "\n",
       "\n",
       "\n"
      ],
      "text/plain": [
       "$names\n",
       "[1] \"rok\"       \"pora.roku\" \"maks.temp\"\n",
       "\n",
       "$class\n",
       "[1] \"data.frame\"\n",
       "\n",
       "$row.names\n",
       "[1] 1 2 3 4 5\n"
      ]
     },
     "metadata": {},
     "output_type": "display_data"
    }
   ],
   "source": [
    "attributes(dane)"
   ]
  },
  {
   "cell_type": "code",
   "execution_count": 64,
   "metadata": {
    "vscode": {
     "languageId": "r"
    }
   },
   "outputs": [
    {
     "data": {
      "text/html": [
       "5"
      ],
      "text/latex": [
       "5"
      ],
      "text/markdown": [
       "5"
      ],
      "text/plain": [
       "[1] 5"
      ]
     },
     "metadata": {},
     "output_type": "display_data"
    }
   ],
   "source": [
    "nrow(dane)"
   ]
  },
  {
   "cell_type": "code",
   "execution_count": 65,
   "metadata": {
    "vscode": {
     "languageId": "r"
    }
   },
   "outputs": [
    {
     "data": {
      "text/html": [
       "3"
      ],
      "text/latex": [
       "3"
      ],
      "text/markdown": [
       "3"
      ],
      "text/plain": [
       "[1] 3"
      ]
     },
     "metadata": {},
     "output_type": "display_data"
    }
   ],
   "source": [
    "ncol(dane)"
   ]
  },
  {
   "cell_type": "code",
   "execution_count": 66,
   "metadata": {
    "id": "VG--2T1PS4z_",
    "vscode": {
     "languageId": "r"
    }
   },
   "outputs": [
    {
     "data": {
      "text/html": [
       "<table class=\"dataframe\">\n",
       "<caption>A data.frame: 4 × 3</caption>\n",
       "<thead>\n",
       "\t<tr><th></th><th scope=col>rok</th><th scope=col>pora.roku</th><th scope=col>maks.temp</th></tr>\n",
       "\t<tr><th></th><th scope=col>&lt;dbl&gt;</th><th scope=col>&lt;chr&gt;</th><th scope=col>&lt;dbl&gt;</th></tr>\n",
       "</thead>\n",
       "<tbody>\n",
       "\t<tr><th scope=row>1</th><td>2020</td><td>lato  </td><td>32</td></tr>\n",
       "\t<tr><th scope=row>2</th><td>2020</td><td>jesien</td><td>21</td></tr>\n",
       "\t<tr><th scope=row>3</th><td>2021</td><td>lato  </td><td>33</td></tr>\n",
       "\t<tr><th scope=row>5</th><td>2022</td><td>wiosna</td><td>22</td></tr>\n",
       "</tbody>\n",
       "</table>\n"
      ],
      "text/latex": [
       "A data.frame: 4 × 3\n",
       "\\begin{tabular}{r|lll}\n",
       "  & rok & pora.roku & maks.temp\\\\\n",
       "  & <dbl> & <chr> & <dbl>\\\\\n",
       "\\hline\n",
       "\t1 & 2020 & lato   & 32\\\\\n",
       "\t2 & 2020 & jesien & 21\\\\\n",
       "\t3 & 2021 & lato   & 33\\\\\n",
       "\t5 & 2022 & wiosna & 22\\\\\n",
       "\\end{tabular}\n"
      ],
      "text/markdown": [
       "\n",
       "A data.frame: 4 × 3\n",
       "\n",
       "| <!--/--> | rok &lt;dbl&gt; | pora.roku &lt;chr&gt; | maks.temp &lt;dbl&gt; |\n",
       "|---|---|---|---|\n",
       "| 1 | 2020 | lato   | 32 |\n",
       "| 2 | 2020 | jesien | 21 |\n",
       "| 3 | 2021 | lato   | 33 |\n",
       "| 5 | 2022 | wiosna | 22 |\n",
       "\n"
      ],
      "text/plain": [
       "  rok  pora.roku maks.temp\n",
       "1 2020 lato      32       \n",
       "2 2020 jesien    21       \n",
       "3 2021 lato      33       \n",
       "5 2022 wiosna    22       "
      ]
     },
     "metadata": {},
     "output_type": "display_data"
    }
   ],
   "source": [
    "# Usuń wszystkie wiersze, w których występuje NA.\n",
    "\n",
    "pelne <- complete.cases(dane)\n",
    "dane <- dane[pelne,]\n",
    "dane"
   ]
  },
  {
   "cell_type": "code",
   "execution_count": 67,
   "metadata": {
    "id": "nNEtdtzoS_O6",
    "vscode": {
     "languageId": "r"
    }
   },
   "outputs": [
    {
     "data": {
      "text/html": [
       "'data.frame'"
      ],
      "text/latex": [
       "'data.frame'"
      ],
      "text/markdown": [
       "'data.frame'"
      ],
      "text/plain": [
       "[1] \"data.frame\""
      ]
     },
     "metadata": {},
     "output_type": "display_data"
    }
   ],
   "source": [
    "# Przekonwertuj ramkę danych na macierz.\n",
    "class(dane)"
   ]
  },
  {
   "cell_type": "code",
   "execution_count": 68,
   "metadata": {
    "vscode": {
     "languageId": "r"
    }
   },
   "outputs": [
    {
     "data": {
      "text/html": [
       "<table class=\"dataframe\">\n",
       "<caption>A matrix: 4 × 3 of type dbl</caption>\n",
       "<thead>\n",
       "\t<tr><th></th><th scope=col>rok</th><th scope=col>pora.roku</th><th scope=col>maks.temp</th></tr>\n",
       "</thead>\n",
       "<tbody>\n",
       "\t<tr><th scope=row>1</th><td>2020</td><td>2</td><td>32</td></tr>\n",
       "\t<tr><th scope=row>2</th><td>2020</td><td>1</td><td>21</td></tr>\n",
       "\t<tr><th scope=row>3</th><td>2021</td><td>2</td><td>33</td></tr>\n",
       "\t<tr><th scope=row>5</th><td>2022</td><td>3</td><td>22</td></tr>\n",
       "</tbody>\n",
       "</table>\n"
      ],
      "text/latex": [
       "A matrix: 4 × 3 of type dbl\n",
       "\\begin{tabular}{r|lll}\n",
       "  & rok & pora.roku & maks.temp\\\\\n",
       "\\hline\n",
       "\t1 & 2020 & 2 & 32\\\\\n",
       "\t2 & 2020 & 1 & 21\\\\\n",
       "\t3 & 2021 & 2 & 33\\\\\n",
       "\t5 & 2022 & 3 & 22\\\\\n",
       "\\end{tabular}\n"
      ],
      "text/markdown": [
       "\n",
       "A matrix: 4 × 3 of type dbl\n",
       "\n",
       "| <!--/--> | rok | pora.roku | maks.temp |\n",
       "|---|---|---|---|\n",
       "| 1 | 2020 | 2 | 32 |\n",
       "| 2 | 2020 | 1 | 21 |\n",
       "| 3 | 2021 | 2 | 33 |\n",
       "| 5 | 2022 | 3 | 22 |\n",
       "\n"
      ],
      "text/plain": [
       "  rok  pora.roku maks.temp\n",
       "1 2020 2         32       \n",
       "2 2020 1         21       \n",
       "3 2021 2         33       \n",
       "5 2022 3         22       "
      ]
     },
     "metadata": {},
     "output_type": "display_data"
    }
   ],
   "source": [
    "m <- data.matrix(dane)\n",
    "m"
   ]
  },
  {
   "cell_type": "code",
   "execution_count": 69,
   "metadata": {
    "vscode": {
     "languageId": "r"
    }
   },
   "outputs": [
    {
     "data": {
      "text/html": [
       "<style>\n",
       ".list-inline {list-style: none; margin:0; padding: 0}\n",
       ".list-inline>li {display: inline-block}\n",
       ".list-inline>li:not(:last-child)::after {content: \"\\00b7\"; padding: 0 .5ex}\n",
       "</style>\n",
       "<ol class=list-inline><li>'matrix'</li><li>'array'</li></ol>\n"
      ],
      "text/latex": [
       "\\begin{enumerate*}\n",
       "\\item 'matrix'\n",
       "\\item 'array'\n",
       "\\end{enumerate*}\n"
      ],
      "text/markdown": [
       "1. 'matrix'\n",
       "2. 'array'\n",
       "\n",
       "\n"
      ],
      "text/plain": [
       "[1] \"matrix\" \"array\" "
      ]
     },
     "metadata": {},
     "output_type": "display_data"
    }
   ],
   "source": [
    "class(m)"
   ]
  },
  {
   "cell_type": "code",
   "execution_count": 70,
   "metadata": {
    "id": "KqIQ33JXTBRs",
    "vscode": {
     "languageId": "r"
    }
   },
   "outputs": [
    {
     "data": {
      "text/html": [
       "<table class=\"dataframe\">\n",
       "<caption>A data.frame: 2 × 3</caption>\n",
       "<thead>\n",
       "\t<tr><th></th><th scope=col>rok</th><th scope=col>pora.roku</th><th scope=col>maks.temp</th></tr>\n",
       "\t<tr><th></th><th scope=col>&lt;dbl&gt;</th><th scope=col>&lt;chr&gt;</th><th scope=col>&lt;dbl&gt;</th></tr>\n",
       "</thead>\n",
       "<tbody>\n",
       "\t<tr><th scope=row>1</th><td>2020</td><td>lato</td><td>32</td></tr>\n",
       "\t<tr><th scope=row>3</th><td>2021</td><td>lato</td><td>33</td></tr>\n",
       "</tbody>\n",
       "</table>\n"
      ],
      "text/latex": [
       "A data.frame: 2 × 3\n",
       "\\begin{tabular}{r|lll}\n",
       "  & rok & pora.roku & maks.temp\\\\\n",
       "  & <dbl> & <chr> & <dbl>\\\\\n",
       "\\hline\n",
       "\t1 & 2020 & lato & 32\\\\\n",
       "\t3 & 2021 & lato & 33\\\\\n",
       "\\end{tabular}\n"
      ],
      "text/markdown": [
       "\n",
       "A data.frame: 2 × 3\n",
       "\n",
       "| <!--/--> | rok &lt;dbl&gt; | pora.roku &lt;chr&gt; | maks.temp &lt;dbl&gt; |\n",
       "|---|---|---|---|\n",
       "| 1 | 2020 | lato | 32 |\n",
       "| 3 | 2021 | lato | 33 |\n",
       "\n"
      ],
      "text/plain": [
       "  rok  pora.roku maks.temp\n",
       "1 2020 lato      32       \n",
       "3 2021 lato      33       "
      ]
     },
     "metadata": {},
     "output_type": "display_data"
    }
   ],
   "source": [
    "# Przeanalizuj działanie następujących poleceń:\n",
    "\n",
    "dane[dane$maks.temp > 30,]"
   ]
  },
  {
   "cell_type": "code",
   "execution_count": 71,
   "metadata": {
    "vscode": {
     "languageId": "r"
    }
   },
   "outputs": [
    {
     "data": {
      "text/html": [
       "<style>\n",
       ".list-inline {list-style: none; margin:0; padding: 0}\n",
       ".list-inline>li {display: inline-block}\n",
       ".list-inline>li:not(:last-child)::after {content: \"\\00b7\"; padding: 0 .5ex}\n",
       "</style>\n",
       "<ol class=list-inline><li>32</li><li>21</li><li>33</li><li>22</li></ol>\n"
      ],
      "text/latex": [
       "\\begin{enumerate*}\n",
       "\\item 32\n",
       "\\item 21\n",
       "\\item 33\n",
       "\\item 22\n",
       "\\end{enumerate*}\n"
      ],
      "text/markdown": [
       "1. 32\n",
       "2. 21\n",
       "3. 33\n",
       "4. 22\n",
       "\n",
       "\n"
      ],
      "text/plain": [
       "[1] 32 21 33 22"
      ]
     },
     "metadata": {},
     "output_type": "display_data"
    }
   ],
   "source": [
    "attach(dane)\n",
    "maks.temp"
   ]
  },
  {
   "cell_type": "code",
   "execution_count": 72,
   "metadata": {
    "vscode": {
     "languageId": "r"
    }
   },
   "outputs": [
    {
     "data": {
      "text/html": [
       "<table class=\"dataframe\">\n",
       "<caption>A data.frame: 2 × 3</caption>\n",
       "<thead>\n",
       "\t<tr><th></th><th scope=col>rok</th><th scope=col>pora.roku</th><th scope=col>maks.temp</th></tr>\n",
       "\t<tr><th></th><th scope=col>&lt;dbl&gt;</th><th scope=col>&lt;chr&gt;</th><th scope=col>&lt;dbl&gt;</th></tr>\n",
       "</thead>\n",
       "<tbody>\n",
       "\t<tr><th scope=row>2</th><td>2020</td><td>jesien</td><td>21</td></tr>\n",
       "\t<tr><th scope=row>5</th><td>2022</td><td>wiosna</td><td>22</td></tr>\n",
       "</tbody>\n",
       "</table>\n"
      ],
      "text/latex": [
       "A data.frame: 2 × 3\n",
       "\\begin{tabular}{r|lll}\n",
       "  & rok & pora.roku & maks.temp\\\\\n",
       "  & <dbl> & <chr> & <dbl>\\\\\n",
       "\\hline\n",
       "\t2 & 2020 & jesien & 21\\\\\n",
       "\t5 & 2022 & wiosna & 22\\\\\n",
       "\\end{tabular}\n"
      ],
      "text/markdown": [
       "\n",
       "A data.frame: 2 × 3\n",
       "\n",
       "| <!--/--> | rok &lt;dbl&gt; | pora.roku &lt;chr&gt; | maks.temp &lt;dbl&gt; |\n",
       "|---|---|---|---|\n",
       "| 2 | 2020 | jesien | 21 |\n",
       "| 5 | 2022 | wiosna | 22 |\n",
       "\n"
      ],
      "text/plain": [
       "  rok  pora.roku maks.temp\n",
       "2 2020 jesien    21       \n",
       "5 2022 wiosna    22       "
      ]
     },
     "metadata": {},
     "output_type": "display_data"
    }
   ],
   "source": [
    "dane[pora.roku != \"lato\" & maks.temp > 20,]"
   ]
  },
  {
   "cell_type": "code",
   "execution_count": 73,
   "metadata": {
    "vscode": {
     "languageId": "r"
    }
   },
   "outputs": [
    {
     "data": {
      "text/html": [
       "<table class=\"dataframe\">\n",
       "<caption>A data.frame: 2 × 3</caption>\n",
       "<thead>\n",
       "\t<tr><th></th><th scope=col>rok</th><th scope=col>pora.roku</th><th scope=col>maks.temp</th></tr>\n",
       "\t<tr><th></th><th scope=col>&lt;dbl&gt;</th><th scope=col>&lt;chr&gt;</th><th scope=col>&lt;dbl&gt;</th></tr>\n",
       "</thead>\n",
       "<tbody>\n",
       "\t<tr><th scope=row>1</th><td>2020</td><td>lato  </td><td>32</td></tr>\n",
       "\t<tr><th scope=row>2</th><td>2020</td><td>jesien</td><td>21</td></tr>\n",
       "</tbody>\n",
       "</table>\n"
      ],
      "text/latex": [
       "A data.frame: 2 × 3\n",
       "\\begin{tabular}{r|lll}\n",
       "  & rok & pora.roku & maks.temp\\\\\n",
       "  & <dbl> & <chr> & <dbl>\\\\\n",
       "\\hline\n",
       "\t1 & 2020 & lato   & 32\\\\\n",
       "\t2 & 2020 & jesien & 21\\\\\n",
       "\\end{tabular}\n"
      ],
      "text/markdown": [
       "\n",
       "A data.frame: 2 × 3\n",
       "\n",
       "| <!--/--> | rok &lt;dbl&gt; | pora.roku &lt;chr&gt; | maks.temp &lt;dbl&gt; |\n",
       "|---|---|---|---|\n",
       "| 1 | 2020 | lato   | 32 |\n",
       "| 2 | 2020 | jesien | 21 |\n",
       "\n"
      ],
      "text/plain": [
       "  rok  pora.roku maks.temp\n",
       "1 2020 lato      32       \n",
       "2 2020 jesien    21       "
      ]
     },
     "metadata": {},
     "output_type": "display_data"
    }
   ],
   "source": [
    "subset(dane, rok == 2020)"
   ]
  },
  {
   "cell_type": "code",
   "execution_count": 74,
   "metadata": {
    "vscode": {
     "languageId": "r"
    }
   },
   "outputs": [
    {
     "data": {
      "text/html": [
       "<table class=\"dataframe\">\n",
       "<caption>A data.frame: 4 × 4</caption>\n",
       "<thead>\n",
       "\t<tr><th></th><th scope=col>rok</th><th scope=col>pora.roku</th><th scope=col>maks.temp</th><th scope=col>min.temp</th></tr>\n",
       "\t<tr><th></th><th scope=col>&lt;dbl&gt;</th><th scope=col>&lt;chr&gt;</th><th scope=col>&lt;dbl&gt;</th><th scope=col>&lt;dbl&gt;</th></tr>\n",
       "</thead>\n",
       "<tbody>\n",
       "\t<tr><th scope=row>1</th><td>2020</td><td>lato  </td><td>32</td><td>18</td></tr>\n",
       "\t<tr><th scope=row>2</th><td>2020</td><td>jesien</td><td>21</td><td> 7</td></tr>\n",
       "\t<tr><th scope=row>3</th><td>2021</td><td>lato  </td><td>33</td><td>16</td></tr>\n",
       "\t<tr><th scope=row>5</th><td>2022</td><td>wiosna</td><td>22</td><td>-1</td></tr>\n",
       "</tbody>\n",
       "</table>\n"
      ],
      "text/latex": [
       "A data.frame: 4 × 4\n",
       "\\begin{tabular}{r|llll}\n",
       "  & rok & pora.roku & maks.temp & min.temp\\\\\n",
       "  & <dbl> & <chr> & <dbl> & <dbl>\\\\\n",
       "\\hline\n",
       "\t1 & 2020 & lato   & 32 & 18\\\\\n",
       "\t2 & 2020 & jesien & 21 &  7\\\\\n",
       "\t3 & 2021 & lato   & 33 & 16\\\\\n",
       "\t5 & 2022 & wiosna & 22 & -1\\\\\n",
       "\\end{tabular}\n"
      ],
      "text/markdown": [
       "\n",
       "A data.frame: 4 × 4\n",
       "\n",
       "| <!--/--> | rok &lt;dbl&gt; | pora.roku &lt;chr&gt; | maks.temp &lt;dbl&gt; | min.temp &lt;dbl&gt; |\n",
       "|---|---|---|---|---|\n",
       "| 1 | 2020 | lato   | 32 | 18 |\n",
       "| 2 | 2020 | jesien | 21 |  7 |\n",
       "| 3 | 2021 | lato   | 33 | 16 |\n",
       "| 5 | 2022 | wiosna | 22 | -1 |\n",
       "\n"
      ],
      "text/plain": [
       "  rok  pora.roku maks.temp min.temp\n",
       "1 2020 lato      32        18      \n",
       "2 2020 jesien    21         7      \n",
       "3 2021 lato      33        16      \n",
       "5 2022 wiosna    22        -1      "
      ]
     },
     "metadata": {},
     "output_type": "display_data"
    }
   ],
   "source": [
    "dane$min.temp <- c(18, 7, 16, -1)\n",
    "dane"
   ]
  },
  {
   "cell_type": "code",
   "execution_count": 75,
   "metadata": {
    "vscode": {
     "languageId": "r"
    }
   },
   "outputs": [
    {
     "name": "stdout",
     "output_type": "stream",
     "text": [
      "Data sets in package ‘datasets’:\n",
      "\n",
      "AirPassengers           Monthly Airline Passenger Numbers 1949-1960\n",
      "BJsales                 Sales Data with Leading Indicator\n",
      "BJsales.lead (BJsales)\n",
      "                        Sales Data with Leading Indicator\n",
      "BOD                     Biochemical Oxygen Demand\n",
      "CO2                     Carbon Dioxide Uptake in Grass Plants\n",
      "ChickWeight             Weight versus age of chicks on different diets\n",
      "DNase                   Elisa assay of DNase\n",
      "EuStockMarkets          Daily Closing Prices of Major European Stock\n",
      "                        Indices, 1991-1998\n",
      "Formaldehyde            Determination of Formaldehyde\n",
      "HairEyeColor            Hair and Eye Color of Statistics Students\n",
      "Harman23.cor            Harman Example 2.3\n",
      "Harman74.cor            Harman Example 7.4\n",
      "Indometh                Pharmacokinetics of Indomethacin\n",
      "InsectSprays            Effectiveness of Insect Sprays\n",
      "JohnsonJohnson          Quarterly Earnings per Johnson & Johnson Share\n",
      "LakeHuron               Level of Lake Huron 1875-1972\n",
      "LifeCycleSavings        Intercountry Life-Cycle Savings Data\n",
      "Loblolly                Growth of Loblolly Pine Trees\n",
      "Nile                    Flow of the River Nile\n",
      "Orange                  Growth of Orange Trees\n",
      "OrchardSprays           Potency of Orchard Sprays\n",
      "PlantGrowth             Results from an Experiment on Plant Growth\n",
      "Puromycin               Reaction Velocity of an Enzymatic Reaction\n",
      "Seatbelts               Road Casualties in Great Britain 1969-84\n",
      "Theoph                  Pharmacokinetics of Theophylline\n",
      "Titanic                 Survival of passengers on the Titanic\n",
      "ToothGrowth             The Effect of Vitamin C on Tooth Growth in\n",
      "                        Guinea Pigs\n",
      "UCBAdmissions           Student Admissions at UC Berkeley\n",
      "UKDriverDeaths          Road Casualties in Great Britain 1969-84\n",
      "UKgas                   UK Quarterly Gas Consumption\n",
      "USAccDeaths             Accidental Deaths in the US 1973-1978\n",
      "USArrests               Violent Crime Rates by US State\n",
      "USJudgeRatings          Lawyers' Ratings of State Judges in the US\n",
      "                        Superior Court\n",
      "USPersonalExpenditure   Personal Expenditure Data\n",
      "UScitiesD               Distances Between European Cities and Between\n",
      "                        US Cities\n",
      "VADeaths                Death Rates in Virginia (1940)\n",
      "WWWusage                Internet Usage per Minute\n",
      "WorldPhones             The World's Telephones\n",
      "ability.cov             Ability and Intelligence Tests\n",
      "airmiles                Passenger Miles on Commercial US Airlines,\n",
      "                        1937-1960\n",
      "airquality              New York Air Quality Measurements\n",
      "anscombe                Anscombe's Quartet of 'Identical' Simple Linear\n",
      "                        Regressions\n",
      "attenu                  The Joyner-Boore Attenuation Data\n",
      "attitude                The Chatterjee-Price Attitude Data\n",
      "austres                 Quarterly Time Series of the Number of\n",
      "                        Australian Residents\n",
      "beaver1 (beavers)       Body Temperature Series of Two Beavers\n",
      "beaver2 (beavers)       Body Temperature Series of Two Beavers\n",
      "cars                    Speed and Stopping Distances of Cars\n",
      "chickwts                Chicken Weights by Feed Type\n",
      "co2                     Mauna Loa Atmospheric CO2 Concentration\n",
      "crimtab                 Student's 3000 Criminals Data\n",
      "discoveries             Yearly Numbers of Important Discoveries\n",
      "esoph                   Smoking, Alcohol and (O)esophageal Cancer\n",
      "euro                    Conversion Rates of Euro Currencies\n",
      "euro.cross (euro)       Conversion Rates of Euro Currencies\n",
      "eurodist                Distances Between European Cities and Between\n",
      "                        US Cities\n",
      "faithful                Old Faithful Geyser Data\n",
      "fdeaths (UKLungDeaths)\n",
      "                        Monthly Deaths from Lung Diseases in the UK\n",
      "freeny                  Freeny's Revenue Data\n",
      "freeny.x (freeny)       Freeny's Revenue Data\n",
      "freeny.y (freeny)       Freeny's Revenue Data\n",
      "infert                  Infertility after Spontaneous and Induced\n",
      "                        Abortion\n",
      "iris                    Edgar Anderson's Iris Data\n",
      "iris3                   Edgar Anderson's Iris Data\n",
      "islands                 Areas of the World's Major Landmasses\n",
      "ldeaths (UKLungDeaths)\n",
      "                        Monthly Deaths from Lung Diseases in the UK\n",
      "lh                      Luteinizing Hormone in Blood Samples\n",
      "longley                 Longley's Economic Regression Data\n",
      "lynx                    Annual Canadian Lynx trappings 1821-1934\n",
      "mdeaths (UKLungDeaths)\n",
      "                        Monthly Deaths from Lung Diseases in the UK\n",
      "morley                  Michelson Speed of Light Data\n",
      "mtcars                  Motor Trend Car Road Tests\n",
      "nhtemp                  Average Yearly Temperatures in New Haven\n",
      "nottem                  Average Monthly Temperatures at Nottingham,\n",
      "                        1920-1939\n",
      "npk                     Classical N, P, K Factorial Experiment\n",
      "occupationalStatus      Occupational Status of Fathers and their Sons\n",
      "precip                  Annual Precipitation in US Cities\n",
      "presidents              Quarterly Approval Ratings of US Presidents\n",
      "pressure                Vapor Pressure of Mercury as a Function of\n",
      "                        Temperature\n",
      "quakes                  Locations of Earthquakes off Fiji\n",
      "randu                   Random Numbers from Congruential Generator\n",
      "                        RANDU\n",
      "rivers                  Lengths of Major North American Rivers\n",
      "rock                    Measurements on Petroleum Rock Samples\n",
      "sleep                   Student's Sleep Data\n",
      "stack.loss (stackloss)\n",
      "                        Brownlee's Stack Loss Plant Data\n",
      "stack.x (stackloss)     Brownlee's Stack Loss Plant Data\n",
      "stackloss               Brownlee's Stack Loss Plant Data\n",
      "state.abb (state)       US State Facts and Figures\n",
      "state.area (state)      US State Facts and Figures\n",
      "state.center (state)    US State Facts and Figures\n",
      "state.division (state)\n",
      "                        US State Facts and Figures\n",
      "state.name (state)      US State Facts and Figures\n",
      "state.region (state)    US State Facts and Figures\n",
      "state.x77 (state)       US State Facts and Figures\n",
      "sunspot.month           Monthly Sunspot Data, from 1749 to \"Present\"\n",
      "sunspot.year            Yearly Sunspot Data, 1700-1988\n",
      "sunspots                Monthly Sunspot Numbers, 1749-1983\n",
      "swiss                   Swiss Fertility and Socioeconomic Indicators\n",
      "                        (1888) Data\n",
      "treering                Yearly Tree-Ring Data, -6000-1979\n",
      "trees                   Diameter, Height and Volume for Black Cherry\n",
      "                        Trees\n",
      "uspop                   Populations Recorded by the US Census\n",
      "volcano                 Topographic Information on Auckland's Maunga\n",
      "                        Whau Volcano\n",
      "warpbreaks              The Number of Breaks in Yarn during Weaving\n",
      "women                   Average Heights and Weights for American Women\n",
      "\n",
      "Use ‘data(package = .packages(all.available = TRUE))’\n",
      "to list the data sets in all *available* packages."
     ]
    }
   ],
   "source": [
    "data()"
   ]
  },
  {
   "cell_type": "code",
   "execution_count": 76,
   "metadata": {
    "vscode": {
     "languageId": "r"
    }
   },
   "outputs": [
    {
     "data": {
      "text/html": [
       "<table class=\"dataframe\">\n",
       "<caption>A data.frame: 5 × 5</caption>\n",
       "<thead>\n",
       "\t<tr><th></th><th scope=col>Sepal.Length</th><th scope=col>Sepal.Width</th><th scope=col>Petal.Length</th><th scope=col>Petal.Width</th><th scope=col>Species</th></tr>\n",
       "\t<tr><th></th><th scope=col>&lt;dbl&gt;</th><th scope=col>&lt;dbl&gt;</th><th scope=col>&lt;dbl&gt;</th><th scope=col>&lt;dbl&gt;</th><th scope=col>&lt;fct&gt;</th></tr>\n",
       "</thead>\n",
       "<tbody>\n",
       "\t<tr><th scope=row>1</th><td>5.1</td><td>3.5</td><td>1.4</td><td>0.2</td><td>setosa</td></tr>\n",
       "\t<tr><th scope=row>2</th><td>4.9</td><td>3.0</td><td>1.4</td><td>0.2</td><td>setosa</td></tr>\n",
       "\t<tr><th scope=row>3</th><td>4.7</td><td>3.2</td><td>1.3</td><td>0.2</td><td>setosa</td></tr>\n",
       "\t<tr><th scope=row>4</th><td>4.6</td><td>3.1</td><td>1.5</td><td>0.2</td><td>setosa</td></tr>\n",
       "\t<tr><th scope=row>5</th><td>5.0</td><td>3.6</td><td>1.4</td><td>0.2</td><td>setosa</td></tr>\n",
       "</tbody>\n",
       "</table>\n"
      ],
      "text/latex": [
       "A data.frame: 5 × 5\n",
       "\\begin{tabular}{r|lllll}\n",
       "  & Sepal.Length & Sepal.Width & Petal.Length & Petal.Width & Species\\\\\n",
       "  & <dbl> & <dbl> & <dbl> & <dbl> & <fct>\\\\\n",
       "\\hline\n",
       "\t1 & 5.1 & 3.5 & 1.4 & 0.2 & setosa\\\\\n",
       "\t2 & 4.9 & 3.0 & 1.4 & 0.2 & setosa\\\\\n",
       "\t3 & 4.7 & 3.2 & 1.3 & 0.2 & setosa\\\\\n",
       "\t4 & 4.6 & 3.1 & 1.5 & 0.2 & setosa\\\\\n",
       "\t5 & 5.0 & 3.6 & 1.4 & 0.2 & setosa\\\\\n",
       "\\end{tabular}\n"
      ],
      "text/markdown": [
       "\n",
       "A data.frame: 5 × 5\n",
       "\n",
       "| <!--/--> | Sepal.Length &lt;dbl&gt; | Sepal.Width &lt;dbl&gt; | Petal.Length &lt;dbl&gt; | Petal.Width &lt;dbl&gt; | Species &lt;fct&gt; |\n",
       "|---|---|---|---|---|---|\n",
       "| 1 | 5.1 | 3.5 | 1.4 | 0.2 | setosa |\n",
       "| 2 | 4.9 | 3.0 | 1.4 | 0.2 | setosa |\n",
       "| 3 | 4.7 | 3.2 | 1.3 | 0.2 | setosa |\n",
       "| 4 | 4.6 | 3.1 | 1.5 | 0.2 | setosa |\n",
       "| 5 | 5.0 | 3.6 | 1.4 | 0.2 | setosa |\n",
       "\n"
      ],
      "text/plain": [
       "  Sepal.Length Sepal.Width Petal.Length Petal.Width Species\n",
       "1 5.1          3.5         1.4          0.2         setosa \n",
       "2 4.9          3.0         1.4          0.2         setosa \n",
       "3 4.7          3.2         1.3          0.2         setosa \n",
       "4 4.6          3.1         1.5          0.2         setosa \n",
       "5 5.0          3.6         1.4          0.2         setosa "
      ]
     },
     "metadata": {},
     "output_type": "display_data"
    }
   ],
   "source": [
    "data(\"iris\")\n",
    "head(iris, 5)"
   ]
  },
  {
   "cell_type": "markdown",
   "metadata": {
    "id": "_EQ-j0UnTHrA"
   },
   "source": [
    "### Instrukcje sterujące"
   ]
  },
  {
   "cell_type": "code",
   "execution_count": 77,
   "metadata": {
    "id": "tQJCskdxTKYe",
    "vscode": {
     "languageId": "r"
    }
   },
   "outputs": [
    {
     "name": "stdout",
     "output_type": "stream",
     "text": [
      "[1] \"January\"\n",
      "[1] \"February\"\n",
      "[1] \"March\"\n",
      "[1] \"April\"\n",
      "[1] \"May\"\n",
      "[1] \"June\"\n",
      "[1] \"July\"\n",
      "[1] \"August\"\n",
      "[1] \"September\"\n",
      "[1] \"October\"\n",
      "[1] \"November\"\n",
      "[1] \"December\"\n"
     ]
    }
   ],
   "source": [
    "# Przeanalizuj działanie poniższych pętli `for`. W tym celu wykorzystamy wektor z nazwami miesięcy,\n",
    "# dostępny w podstawowych pakietach R.\n",
    "\n",
    "for (i in month.name) {\n",
    "  print(i)\n",
    "}\n"
   ]
  },
  {
   "cell_type": "code",
   "execution_count": 78,
   "metadata": {
    "vscode": {
     "languageId": "r"
    }
   },
   "outputs": [
    {
     "name": "stdout",
     "output_type": "stream",
     "text": [
      "[1] \"January\"\n",
      "[1] \"February\"\n",
      "[1] \"March\"\n",
      "[1] \"April\"\n",
      "[1] \"May\"\n",
      "[1] \"June\"\n",
      "[1] \"July\"\n",
      "[1] \"August\"\n"
     ]
    }
   ],
   "source": [
    "for (i in 1:8) {\n",
    "  print(month.name[i])\n",
    "}"
   ]
  },
  {
   "cell_type": "code",
   "execution_count": 79,
   "metadata": {
    "vscode": {
     "languageId": "r"
    }
   },
   "outputs": [
    {
     "name": "stdout",
     "output_type": "stream",
     "text": [
      "[1] \"January\"\n",
      "[1] \"February\"\n",
      "[1] \"March\"\n",
      "[1] \"April\"\n",
      "[1] \"May\"\n",
      "[1] \"June\"\n",
      "[1] \"July\"\n",
      "[1] \"August\"\n",
      "[1] \"September\"\n",
      "[1] \"October\"\n"
     ]
    }
   ],
   "source": [
    "v <- c(\"a\", \"b\", \"c\", \"d\", \"e\", \"f\", \"g\", \"h\", \"i\", \"j\")\n",
    "for (i in seq_along(v)) {\n",
    "  print(month.name[i])\n",
    "}"
   ]
  },
  {
   "cell_type": "code",
   "execution_count": 80,
   "metadata": {
    "id": "l2Mdoq2HTSL6",
    "vscode": {
     "languageId": "r"
    }
   },
   "outputs": [
    {
     "name": "stdout",
     "output_type": "stream",
     "text": [
      "[1] 1\n",
      "[1] 2\n",
      "[1] 3\n",
      "[1] 4\n",
      "[1] 5\n",
      "[1] 6\n",
      "[1] 7\n",
      "[1] 8\n",
      "[1] 9\n",
      "[1] 10\n"
     ]
    }
   ],
   "source": [
    "# Przeanalizuj działanie poniższej pętli `while`.\n",
    "\n",
    "i <- 1\n",
    "while (i <= 10) {\n",
    "  print(i)\n",
    "  i <- i + 1\n",
    "}"
   ]
  },
  {
   "cell_type": "code",
   "execution_count": 81,
   "metadata": {
    "id": "RZx2E6SlTYMn",
    "vscode": {
     "languageId": "r"
    }
   },
   "outputs": [
    {
     "name": "stdout",
     "output_type": "stream",
     "text": [
      "[1] 2\n",
      "[1] 3\n",
      "[1] 4\n",
      "[1] 6\n",
      "[1] 7\n",
      "[1] 8\n",
      "[1] 9\n",
      "[1] 10\n"
     ]
    }
   ],
   "source": [
    "# Przeanalizuj działanie poniższej pętli `repeat`. Zwróć uwagę na strukturę if-else, next oraz break.\n",
    "\n",
    "i <- 1\n",
    "repeat {\n",
    "  i <- i + 1\n",
    "  if(i == 11)\n",
    "    break\n",
    "  else if(i == 5)\n",
    "    next\n",
    "  else\n",
    "    print(i)\n",
    "}"
   ]
  },
  {
   "cell_type": "markdown",
   "metadata": {
    "id": "xj85bQAhTeKF"
   },
   "source": [
    "### Funkcje"
   ]
  },
  {
   "cell_type": "code",
   "execution_count": 82,
   "metadata": {
    "id": "JkHOd-UVTfr9",
    "vscode": {
     "languageId": "r"
    }
   },
   "outputs": [
    {
     "data": {
      "text/html": [
       "<pre class=language-r><code>function (x, a = 1, b = 0) \n",
       "{\n",
       "<span style=white-space:pre-wrap>    a * x + b</span>\n",
       "}</code></pre>"
      ],
      "text/latex": [
       "\\begin{minted}{r}\n",
       "function (x, a = 1, b = 0) \n",
       "\\{\n",
       "    a * x + b\n",
       "\\}\n",
       "\\end{minted}"
      ],
      "text/markdown": [
       "```r\n",
       "function (x, a = 1, b = 0) \n",
       "{\n",
       "    a * x + b\n",
       "}\n",
       "```"
      ],
      "text/plain": [
       "function (x, a = 1, b = 0) \n",
       "{\n",
       "    a * x + b\n",
       "}"
      ]
     },
     "metadata": {},
     "output_type": "display_data"
    }
   ],
   "source": [
    "# Utwórz funkcję obliczającą wartość funkcji liniowej w punkcie x o podanych parametrach a i b,\n",
    "# a następnie wyświetl wprowadzoną funkcję.\n",
    "\n",
    "y <- function(x, a=1, b=0) {\n",
    "  a * x + b\n",
    "}\n",
    "\n",
    "y"
   ]
  },
  {
   "cell_type": "code",
   "execution_count": 83,
   "metadata": {
    "id": "1XVvTLZ5ToZD",
    "vscode": {
     "languageId": "r"
    }
   },
   "outputs": [],
   "source": [
    "# Spróbuj wywołać funkcję y() bez parametrów. Następnie wywołaj ją ponownie, wprowadzając tylko argument x.\n",
    "\n",
    "# y()"
   ]
  },
  {
   "cell_type": "code",
   "execution_count": 84,
   "metadata": {
    "vscode": {
     "languageId": "r"
    }
   },
   "outputs": [
    {
     "data": {
      "text/html": [
       "1"
      ],
      "text/latex": [
       "1"
      ],
      "text/markdown": [
       "1"
      ],
      "text/plain": [
       "[1] 1"
      ]
     },
     "metadata": {},
     "output_type": "display_data"
    }
   ],
   "source": [
    "y(1)"
   ]
  },
  {
   "cell_type": "code",
   "execution_count": 85,
   "metadata": {
    "id": "Ak-QgreqTsFN",
    "vscode": {
     "languageId": "r"
    }
   },
   "outputs": [
    {
     "data": {
      "text/html": [
       "5"
      ],
      "text/latex": [
       "5"
      ],
      "text/markdown": [
       "5"
      ],
      "text/plain": [
       "[1] 5"
      ]
     },
     "metadata": {},
     "output_type": "display_data"
    }
   ],
   "source": [
    "# Wywołaj funkcję z parametrami x=1, a=2, b=3. Zwróć uwagę na różne sposoby wywoływania funkcji\n",
    "# - w jaki sposób odbywa się dopasowanie argumentów.\n",
    "\n",
    "y(1, 2, 3)"
   ]
  },
  {
   "cell_type": "code",
   "execution_count": 86,
   "metadata": {
    "vscode": {
     "languageId": "r"
    }
   },
   "outputs": [
    {
     "data": {
      "text/html": [
       "5"
      ],
      "text/latex": [
       "5"
      ],
      "text/markdown": [
       "5"
      ],
      "text/plain": [
       "[1] 5"
      ]
     },
     "metadata": {},
     "output_type": "display_data"
    }
   ],
   "source": [
    "y(b=3, a=2, x=1)"
   ]
  },
  {
   "cell_type": "code",
   "execution_count": 87,
   "metadata": {
    "vscode": {
     "languageId": "r"
    }
   },
   "outputs": [
    {
     "data": {
      "text/html": [
       "5"
      ],
      "text/latex": [
       "5"
      ],
      "text/markdown": [
       "5"
      ],
      "text/plain": [
       "[1] 5"
      ]
     },
     "metadata": {},
     "output_type": "display_data"
    }
   ],
   "source": [
    "y(b=3, 1, a=2)"
   ]
  },
  {
   "cell_type": "markdown",
   "metadata": {
    "id": "NB4CjIlQc-X4"
   },
   "source": [
    "## Przygotowanie danych pomiarowych\n",
    "Wykorzystywane w ćwiczeniach pliki danych zawierają uśrednione dane stanu powietrza w sierpniu i wrześniu 2023, pochodzące ze strony Głównego Inspektoratu Ochrony Środowiska dla stacji pomiarowej Kraków, al. Krasińskiego."
   ]
  },
  {
   "cell_type": "markdown",
   "metadata": {
    "id": "DgI3rHX6dORD"
   },
   "source": [
    "### Wczytywanie danych"
   ]
  },
  {
   "cell_type": "code",
   "execution_count": 88,
   "metadata": {
    "colab": {
     "base_uri": "https://localhost:8080/"
    },
    "id": "kMPdh1iydNPw",
    "outputId": "328dab83-88d1-49d3-c18b-2759c41ad377",
    "vscode": {
     "languageId": "r"
    }
   },
   "outputs": [
    {
     "name": "stderr",
     "output_type": "stream",
     "text": [
      "── \u001b[1mAttaching core tidyverse packages\u001b[22m ──────────────────────── tidyverse 2.0.0 ──\n",
      "\u001b[32m✔\u001b[39m \u001b[34mdplyr    \u001b[39m 1.1.4     \u001b[32m✔\u001b[39m \u001b[34mreadr    \u001b[39m 2.1.5\n",
      "\u001b[32m✔\u001b[39m \u001b[34mforcats  \u001b[39m 1.0.0     \u001b[32m✔\u001b[39m \u001b[34mstringr  \u001b[39m 1.5.1\n",
      "\u001b[32m✔\u001b[39m \u001b[34mggplot2  \u001b[39m 3.5.1     \u001b[32m✔\u001b[39m \u001b[34mtibble   \u001b[39m 3.2.1\n",
      "\u001b[32m✔\u001b[39m \u001b[34mlubridate\u001b[39m 1.9.3     \u001b[32m✔\u001b[39m \u001b[34mtidyr    \u001b[39m 1.3.1\n",
      "\u001b[32m✔\u001b[39m \u001b[34mpurrr    \u001b[39m 1.0.2     \n",
      "── \u001b[1mConflicts\u001b[22m ────────────────────────────────────────── tidyverse_conflicts() ──\n",
      "\u001b[31m✖\u001b[39m \u001b[34mdplyr\u001b[39m::\u001b[32mfilter()\u001b[39m masks \u001b[34mstats\u001b[39m::filter()\n",
      "\u001b[31m✖\u001b[39m \u001b[34mdplyr\u001b[39m::\u001b[32mlag()\u001b[39m    masks \u001b[34mstats\u001b[39m::lag()\n",
      "\u001b[36mℹ\u001b[39m Use the conflicted package (\u001b[3m\u001b[34m<http://conflicted.r-lib.org/>\u001b[39m\u001b[23m) to force all conflicts to become errors\n",
      "\u001b[1m\u001b[22mNew names:\n",
      "\u001b[36m•\u001b[39m `` -> `...1`\n"
     ]
    }
   ],
   "source": [
    "# Wczytaj plik z danymi pomiarowymi z sierpnia 2023 roku i zapisz jako obiekt tibble o nazwie pomiary_sierpien\n",
    "\n",
    "library(tidyverse)\n",
    "pomiary_sierpien <- read_csv(\"dane/dane_sierpien.csv\",\n",
    "                             col_types = cols(...1 = col_skip()))"
   ]
  },
  {
   "cell_type": "code",
   "execution_count": 89,
   "metadata": {
    "id": "IUnfTFOueiIx",
    "vscode": {
     "languageId": "r"
    }
   },
   "outputs": [
    {
     "name": "stderr",
     "output_type": "stream",
     "text": [
      "\u001b[1m\u001b[22mNew names:\n",
      "\u001b[36m•\u001b[39m `` -> `...1`\n"
     ]
    }
   ],
   "source": [
    "# Wczytaj plik z danymi pomiarowymi z września 2023 i zapisz jako obiekt tibble o nazwie pomiary_wrzesien.\n",
    "\n",
    "pomiary_wrzesien <- read_csv(\"dane/dane_wrzesien.csv\",\n",
    "                             col_types = cols(...1 = col_skip()))"
   ]
  },
  {
   "cell_type": "code",
   "execution_count": 90,
   "metadata": {
    "vscode": {
     "languageId": "r"
    }
   },
   "outputs": [
    {
     "data": {
      "text/html": [
       "<style>\n",
       ".list-inline {list-style: none; margin:0; padding: 0}\n",
       ".list-inline>li {display: inline-block}\n",
       ".list-inline>li:not(:last-child)::after {content: \"\\00b7\"; padding: 0 .5ex}\n",
       "</style>\n",
       "<ol class=list-inline><li>'spec_tbl_df'</li><li>'tbl_df'</li><li>'tbl'</li><li>'data.frame'</li></ol>\n"
      ],
      "text/latex": [
       "\\begin{enumerate*}\n",
       "\\item 'spec\\_tbl\\_df'\n",
       "\\item 'tbl\\_df'\n",
       "\\item 'tbl'\n",
       "\\item 'data.frame'\n",
       "\\end{enumerate*}\n"
      ],
      "text/markdown": [
       "1. 'spec_tbl_df'\n",
       "2. 'tbl_df'\n",
       "3. 'tbl'\n",
       "4. 'data.frame'\n",
       "\n",
       "\n"
      ],
      "text/plain": [
       "[1] \"spec_tbl_df\" \"tbl_df\"      \"tbl\"         \"data.frame\" "
      ]
     },
     "metadata": {},
     "output_type": "display_data"
    }
   ],
   "source": [
    "class(pomiary_wrzesien)"
   ]
  },
  {
   "cell_type": "code",
   "execution_count": 91,
   "metadata": {
    "vscode": {
     "languageId": "r"
    }
   },
   "outputs": [
    {
     "name": "stdout",
     "output_type": "stream",
     "text": [
      "Rows: 31\n",
      "Columns: 10\n",
      "$ PM25    \u001b[3m\u001b[90m<dbl>\u001b[39m\u001b[23m 11.760870, 8.295833, 8.383333, 10.000000, 11.295833, 7.333333,…\n",
      "$ PM10    \u001b[3m\u001b[90m<dbl>\u001b[39m\u001b[23m 25.04348, 18.43750, 22.74583, 24.69583, 18.46667, 11.04583, 12…\n",
      "$ NO2     \u001b[3m\u001b[90m<dbl>\u001b[39m\u001b[23m 44.57391, 36.24583, 50.06087, 47.40000, 36.00000, 21.67917, 21…\n",
      "$ NO      \u001b[3m\u001b[90m<dbl>\u001b[39m\u001b[23m 38.83478, 22.17083, 36.19583, 38.62500, 26.02500, 19.16667, 17…\n",
      "$ NOx     \u001b[3m\u001b[90m<dbl>\u001b[39m\u001b[23m 104.10870, 70.24167, 107.93913, 106.61667, 75.90417, 51.07500,…\n",
      "$ CO      \u001b[3m\u001b[90m<dbl>\u001b[39m\u001b[23m 0.5956522, 0.5208333, 0.6347826, 0.6125000, 0.6041667, 0.51250…\n",
      "$ C6H6    \u001b[3m\u001b[90m<dbl>\u001b[39m\u001b[23m 0.4652174, 0.3375000, 0.4782609, 0.4708333, 0.3863636, 0.35000…\n",
      "$ rok     \u001b[3m\u001b[90m<dbl>\u001b[39m\u001b[23m 2023, 2023, 2023, 2023, 2023, 2023, 2023, 2023, 2023, 2023, 20…\n",
      "$ miesiac \u001b[3m\u001b[90m<dbl>\u001b[39m\u001b[23m 8, 8, 8, 8, 8, 8, 8, 8, 8, 8, 8, 8, 8, 8, 8, 8, 8, 8, 8, 8, 8,…\n",
      "$ dzien   \u001b[3m\u001b[90m<dbl>\u001b[39m\u001b[23m 1, 2, 3, 4, 5, 6, 7, 8, 9, 10, 11, 12, 13, 14, 15, 16, 17, 18,…\n"
     ]
    }
   ],
   "source": [
    "glimpse(pomiary_sierpien)"
   ]
  },
  {
   "cell_type": "code",
   "execution_count": 92,
   "metadata": {
    "vscode": {
     "languageId": "r"
    }
   },
   "outputs": [
    {
     "name": "stdout",
     "output_type": "stream",
     "text": [
      "Rows: 30\n",
      "Columns: 10\n",
      "$ PM25    \u001b[3m\u001b[90m<dbl>\u001b[39m\u001b[23m 10.256522, 8.695652, 12.266667, 12.333333, 13.645833, 16.19166…\n",
      "$ PM10    \u001b[3m\u001b[90m<dbl>\u001b[39m\u001b[23m 19.41739, 13.83913, 18.20833, 24.74583, 24.44583, 29.37083, 37…\n",
      "$ NO2     \u001b[3m\u001b[90m<dbl>\u001b[39m\u001b[23m 40.28696, 35.57826, 32.40417, 40.05833, 51.07500, 54.46667, 58…\n",
      "$ NO      \u001b[3m\u001b[90m<dbl>\u001b[39m\u001b[23m 33.73478, 27.31667, 27.14583, 29.18750, 48.97917, 51.78750, 58…\n",
      "$ NOx     \u001b[3m\u001b[90m<dbl>\u001b[39m\u001b[23m 92.01304, 75.95000, 74.03750, 84.80000, 126.15417, 133.87083, …\n",
      "$ CO      \u001b[3m\u001b[90m<dbl>\u001b[39m\u001b[23m 0.5000000, 0.5521739, 0.5458333, 0.4833333, 0.6000000, 0.63750…\n",
      "$ C6H6    \u001b[3m\u001b[90m<dbl>\u001b[39m\u001b[23m 0.4347826, 0.4791667, 0.4875000, 0.3958333, 0.6958333, 0.81666…\n",
      "$ rok     \u001b[3m\u001b[90m<dbl>\u001b[39m\u001b[23m 2023, 2023, 2023, 2023, 2023, 2023, 2023, 2023, 2023, 2023, 20…\n",
      "$ miesiac \u001b[3m\u001b[90m<dbl>\u001b[39m\u001b[23m 9, 9, 9, 9, 9, 9, 9, 9, 9, 9, 9, 9, 9, 9, 9, 9, 9, 9, 9, 9, 9,…\n",
      "$ dzien   \u001b[3m\u001b[90m<dbl>\u001b[39m\u001b[23m 1, 2, 3, 4, 5, 6, 7, 8, 9, 10, 11, 12, 13, 14, 15, 16, 17, 18,…\n"
     ]
    }
   ],
   "source": [
    "glimpse(pomiary_wrzesien)"
   ]
  },
  {
   "cell_type": "code",
   "execution_count": 93,
   "metadata": {
    "id": "Ayjeh3ynevKo",
    "vscode": {
     "languageId": "r"
    }
   },
   "outputs": [
    {
     "name": "stdout",
     "output_type": "stream",
     "text": [
      "Rows: 61\n",
      "Columns: 10\n",
      "$ PM25    \u001b[3m\u001b[90m<dbl>\u001b[39m\u001b[23m 11.760870, 8.295833, 8.383333, 10.000000, 11.295833, 7.333333,…\n",
      "$ PM10    \u001b[3m\u001b[90m<dbl>\u001b[39m\u001b[23m 25.04348, 18.43750, 22.74583, 24.69583, 18.46667, 11.04583, 12…\n",
      "$ NO2     \u001b[3m\u001b[90m<dbl>\u001b[39m\u001b[23m 44.57391, 36.24583, 50.06087, 47.40000, 36.00000, 21.67917, 21…\n",
      "$ NO      \u001b[3m\u001b[90m<dbl>\u001b[39m\u001b[23m 38.83478, 22.17083, 36.19583, 38.62500, 26.02500, 19.16667, 17…\n",
      "$ NOx     \u001b[3m\u001b[90m<dbl>\u001b[39m\u001b[23m 104.10870, 70.24167, 107.93913, 106.61667, 75.90417, 51.07500,…\n",
      "$ CO      \u001b[3m\u001b[90m<dbl>\u001b[39m\u001b[23m 0.5956522, 0.5208333, 0.6347826, 0.6125000, 0.6041667, 0.51250…\n",
      "$ C6H6    \u001b[3m\u001b[90m<dbl>\u001b[39m\u001b[23m 0.4652174, 0.3375000, 0.4782609, 0.4708333, 0.3863636, 0.35000…\n",
      "$ rok     \u001b[3m\u001b[90m<dbl>\u001b[39m\u001b[23m 2023, 2023, 2023, 2023, 2023, 2023, 2023, 2023, 2023, 2023, 20…\n",
      "$ miesiac \u001b[3m\u001b[90m<dbl>\u001b[39m\u001b[23m 8, 8, 8, 8, 8, 8, 8, 8, 8, 8, 8, 8, 8, 8, 8, 8, 8, 8, 8, 8, 8,…\n",
      "$ dzien   \u001b[3m\u001b[90m<dbl>\u001b[39m\u001b[23m 1, 2, 3, 4, 5, 6, 7, 8, 9, 10, 11, 12, 13, 14, 15, 16, 17, 18,…\n"
     ]
    }
   ],
   "source": [
    "# Połącz wczytanie dane zapisując je jako `powietrze`. Do połączenia danych wykorzystaj funkcję `rbind`.\n",
    "\n",
    "powietrze <- rbind(pomiary_sierpien, pomiary_wrzesien)\n",
    "glimpse(powietrze)"
   ]
  },
  {
   "cell_type": "markdown",
   "metadata": {
    "id": "vjZcAIiwezmQ"
   },
   "source": [
    "### Przekształcanie danych"
   ]
  },
  {
   "cell_type": "code",
   "execution_count": 94,
   "metadata": {
    "id": "A4iYeRnte3ft",
    "vscode": {
     "languageId": "r"
    }
   },
   "outputs": [
    {
     "data": {
      "text/html": [
       "<style>\n",
       ".list-inline {list-style: none; margin:0; padding: 0}\n",
       ".list-inline>li {display: inline-block}\n",
       ".list-inline>li:not(:last-child)::after {content: \"\\00b7\"; padding: 0 .5ex}\n",
       "</style>\n",
       "<ol class=list-inline><li>'PM25'</li><li>'PM10'</li><li>'NO2'</li><li>'NO'</li><li>'NOx'</li><li>'CO'</li><li>'C6H6'</li><li>'rok'</li><li>'miesiac'</li><li>'dzien'</li></ol>\n"
      ],
      "text/latex": [
       "\\begin{enumerate*}\n",
       "\\item 'PM25'\n",
       "\\item 'PM10'\n",
       "\\item 'NO2'\n",
       "\\item 'NO'\n",
       "\\item 'NOx'\n",
       "\\item 'CO'\n",
       "\\item 'C6H6'\n",
       "\\item 'rok'\n",
       "\\item 'miesiac'\n",
       "\\item 'dzien'\n",
       "\\end{enumerate*}\n"
      ],
      "text/markdown": [
       "1. 'PM25'\n",
       "2. 'PM10'\n",
       "3. 'NO2'\n",
       "4. 'NO'\n",
       "5. 'NOx'\n",
       "6. 'CO'\n",
       "7. 'C6H6'\n",
       "8. 'rok'\n",
       "9. 'miesiac'\n",
       "10. 'dzien'\n",
       "\n",
       "\n"
      ],
      "text/plain": [
       " [1] \"PM25\"    \"PM10\"    \"NO2\"     \"NO\"      \"NOx\"     \"CO\"      \"C6H6\"   \n",
       " [8] \"rok\"     \"miesiac\" \"dzien\"  "
      ]
     },
     "metadata": {},
     "output_type": "display_data"
    }
   ],
   "source": [
    "# Wypisz i przeanalizuj nazwy kolumn, a następnie zmień nazwy na bardziej czytelne i wypisz pierwsze wiersze.\n",
    "\n",
    "names(powietrze)"
   ]
  },
  {
   "cell_type": "code",
   "execution_count": 95,
   "metadata": {
    "vscode": {
     "languageId": "r"
    }
   },
   "outputs": [
    {
     "data": {
      "text/html": [
       "<table class=\"dataframe\">\n",
       "<caption>A tibble: 6 × 10</caption>\n",
       "<thead>\n",
       "\t<tr><th scope=col>PM25</th><th scope=col>PM10</th><th scope=col>NO2</th><th scope=col>NO</th><th scope=col>NOx</th><th scope=col>CO</th><th scope=col>C6H6</th><th scope=col>rok</th><th scope=col>miesiac</th><th scope=col>dzien</th></tr>\n",
       "\t<tr><th scope=col>&lt;dbl&gt;</th><th scope=col>&lt;dbl&gt;</th><th scope=col>&lt;dbl&gt;</th><th scope=col>&lt;dbl&gt;</th><th scope=col>&lt;dbl&gt;</th><th scope=col>&lt;dbl&gt;</th><th scope=col>&lt;dbl&gt;</th><th scope=col>&lt;dbl&gt;</th><th scope=col>&lt;dbl&gt;</th><th scope=col>&lt;dbl&gt;</th></tr>\n",
       "</thead>\n",
       "<tbody>\n",
       "\t<tr><td>11.760870</td><td>25.04348</td><td>44.57391</td><td>38.83478</td><td>104.10870</td><td>0.5956522</td><td>0.4652174</td><td>2023</td><td>8</td><td>1</td></tr>\n",
       "\t<tr><td> 8.295833</td><td>18.43750</td><td>36.24583</td><td>22.17083</td><td> 70.24167</td><td>0.5208333</td><td>0.3375000</td><td>2023</td><td>8</td><td>2</td></tr>\n",
       "\t<tr><td> 8.383333</td><td>22.74583</td><td>50.06087</td><td>36.19583</td><td>107.93913</td><td>0.6347826</td><td>0.4782609</td><td>2023</td><td>8</td><td>3</td></tr>\n",
       "\t<tr><td>10.000000</td><td>24.69583</td><td>47.40000</td><td>38.62500</td><td>106.61667</td><td>0.6125000</td><td>0.4708333</td><td>2023</td><td>8</td><td>4</td></tr>\n",
       "\t<tr><td>11.295833</td><td>18.46667</td><td>36.00000</td><td>26.02500</td><td> 75.90417</td><td>0.6041667</td><td>0.3863636</td><td>2023</td><td>8</td><td>5</td></tr>\n",
       "\t<tr><td> 7.333333</td><td>11.04583</td><td>21.67917</td><td>19.16667</td><td> 51.07500</td><td>0.5125000</td><td>0.3500000</td><td>2023</td><td>8</td><td>6</td></tr>\n",
       "</tbody>\n",
       "</table>\n"
      ],
      "text/latex": [
       "A tibble: 6 × 10\n",
       "\\begin{tabular}{llllllllll}\n",
       " PM25 & PM10 & NO2 & NO & NOx & CO & C6H6 & rok & miesiac & dzien\\\\\n",
       " <dbl> & <dbl> & <dbl> & <dbl> & <dbl> & <dbl> & <dbl> & <dbl> & <dbl> & <dbl>\\\\\n",
       "\\hline\n",
       "\t 11.760870 & 25.04348 & 44.57391 & 38.83478 & 104.10870 & 0.5956522 & 0.4652174 & 2023 & 8 & 1\\\\\n",
       "\t  8.295833 & 18.43750 & 36.24583 & 22.17083 &  70.24167 & 0.5208333 & 0.3375000 & 2023 & 8 & 2\\\\\n",
       "\t  8.383333 & 22.74583 & 50.06087 & 36.19583 & 107.93913 & 0.6347826 & 0.4782609 & 2023 & 8 & 3\\\\\n",
       "\t 10.000000 & 24.69583 & 47.40000 & 38.62500 & 106.61667 & 0.6125000 & 0.4708333 & 2023 & 8 & 4\\\\\n",
       "\t 11.295833 & 18.46667 & 36.00000 & 26.02500 &  75.90417 & 0.6041667 & 0.3863636 & 2023 & 8 & 5\\\\\n",
       "\t  7.333333 & 11.04583 & 21.67917 & 19.16667 &  51.07500 & 0.5125000 & 0.3500000 & 2023 & 8 & 6\\\\\n",
       "\\end{tabular}\n"
      ],
      "text/markdown": [
       "\n",
       "A tibble: 6 × 10\n",
       "\n",
       "| PM25 &lt;dbl&gt; | PM10 &lt;dbl&gt; | NO2 &lt;dbl&gt; | NO &lt;dbl&gt; | NOx &lt;dbl&gt; | CO &lt;dbl&gt; | C6H6 &lt;dbl&gt; | rok &lt;dbl&gt; | miesiac &lt;dbl&gt; | dzien &lt;dbl&gt; |\n",
       "|---|---|---|---|---|---|---|---|---|---|\n",
       "| 11.760870 | 25.04348 | 44.57391 | 38.83478 | 104.10870 | 0.5956522 | 0.4652174 | 2023 | 8 | 1 |\n",
       "|  8.295833 | 18.43750 | 36.24583 | 22.17083 |  70.24167 | 0.5208333 | 0.3375000 | 2023 | 8 | 2 |\n",
       "|  8.383333 | 22.74583 | 50.06087 | 36.19583 | 107.93913 | 0.6347826 | 0.4782609 | 2023 | 8 | 3 |\n",
       "| 10.000000 | 24.69583 | 47.40000 | 38.62500 | 106.61667 | 0.6125000 | 0.4708333 | 2023 | 8 | 4 |\n",
       "| 11.295833 | 18.46667 | 36.00000 | 26.02500 |  75.90417 | 0.6041667 | 0.3863636 | 2023 | 8 | 5 |\n",
       "|  7.333333 | 11.04583 | 21.67917 | 19.16667 |  51.07500 | 0.5125000 | 0.3500000 | 2023 | 8 | 6 |\n",
       "\n"
      ],
      "text/plain": [
       "  PM25      PM10     NO2      NO       NOx       CO        C6H6      rok \n",
       "1 11.760870 25.04348 44.57391 38.83478 104.10870 0.5956522 0.4652174 2023\n",
       "2  8.295833 18.43750 36.24583 22.17083  70.24167 0.5208333 0.3375000 2023\n",
       "3  8.383333 22.74583 50.06087 36.19583 107.93913 0.6347826 0.4782609 2023\n",
       "4 10.000000 24.69583 47.40000 38.62500 106.61667 0.6125000 0.4708333 2023\n",
       "5 11.295833 18.46667 36.00000 26.02500  75.90417 0.6041667 0.3863636 2023\n",
       "6  7.333333 11.04583 21.67917 19.16667  51.07500 0.5125000 0.3500000 2023\n",
       "  miesiac dzien\n",
       "1 8       1    \n",
       "2 8       2    \n",
       "3 8       3    \n",
       "4 8       4    \n",
       "5 8       5    \n",
       "6 8       6    "
      ]
     },
     "metadata": {},
     "output_type": "display_data"
    }
   ],
   "source": [
    "names(powietrze)[1:7] <- c(\"PM25\", \"PM10\", \"NO2\", \"NO\", \"NOx\", \"CO\", \"C6H6\")\n",
    "head(powietrze)"
   ]
  },
  {
   "cell_type": "code",
   "execution_count": 96,
   "metadata": {
    "id": "kao38eH1e6Us",
    "vscode": {
     "languageId": "r"
    }
   },
   "outputs": [
    {
     "data": {
      "text/plain": [
       "      PM25             PM10            NO2              NO       \n",
       " Min.   : 4.987   Min.   :11.05   Min.   :21.20   Min.   :16.01  \n",
       " 1st Qu.:11.700   1st Qu.:20.14   1st Qu.:35.63   1st Qu.:25.12  \n",
       " Median :15.033   Median :25.27   Median :42.59   Median :30.89  \n",
       " Mean   :15.735   Mean   :27.07   Mean   :42.70   Mean   :36.01  \n",
       " 3rd Qu.:20.429   3rd Qu.:34.17   3rd Qu.:51.08   3rd Qu.:42.12  \n",
       " Max.   :28.462   Max.   :47.05   Max.   :60.34   Max.   :81.55  \n",
       "      NOx               CO              C6H6             rok      \n",
       " Min.   : 48.71   Min.   :0.4167   Min.   :0.1958   Min.   :2023  \n",
       " 1st Qu.: 75.95   1st Qu.:0.5522   1st Qu.:0.3958   1st Qu.:2023  \n",
       " Median : 90.16   Median :0.5958   Median :0.4792   Median :2023  \n",
       " Mean   : 97.91   Mean   :0.6361   Mean   :0.5562   Mean   :2023  \n",
       " 3rd Qu.:110.21   3rd Qu.:0.6478   3rd Qu.:0.6958   3rd Qu.:2023  \n",
       " Max.   :178.57   Max.   :3.0375   Max.   :1.0917   Max.   :2023  \n",
       "    miesiac          dzien      \n",
       " Min.   :8.000   Min.   : 1.00  \n",
       " 1st Qu.:8.000   1st Qu.: 8.00  \n",
       " Median :8.000   Median :16.00  \n",
       " Mean   :8.492   Mean   :15.75  \n",
       " 3rd Qu.:9.000   3rd Qu.:23.00  \n",
       " Max.   :9.000   Max.   :31.00  "
      ]
     },
     "metadata": {},
     "output_type": "display_data"
    }
   ],
   "source": [
    "# Wyświetl podsumowanie danych za pomocą poniższych funkcji:\n",
    "\n",
    "summary(powietrze)"
   ]
  },
  {
   "cell_type": "code",
   "execution_count": 97,
   "metadata": {
    "vscode": {
     "languageId": "r"
    }
   },
   "outputs": [
    {
     "name": "stdout",
     "output_type": "stream",
     "text": [
      "spc_tbl_ [61 × 10] (S3: spec_tbl_df/tbl_df/tbl/data.frame)\n",
      " $ PM25   : num [1:61] 11.76 8.3 8.38 10 11.3 ...\n",
      " $ PM10   : num [1:61] 25 18.4 22.7 24.7 18.5 ...\n",
      " $ NO2    : num [1:61] 44.6 36.2 50.1 47.4 36 ...\n",
      " $ NO     : num [1:61] 38.8 22.2 36.2 38.6 26 ...\n",
      " $ NOx    : num [1:61] 104.1 70.2 107.9 106.6 75.9 ...\n",
      " $ CO     : num [1:61] 0.596 0.521 0.635 0.613 0.604 ...\n",
      " $ C6H6   : num [1:61] 0.465 0.338 0.478 0.471 0.386 ...\n",
      " $ rok    : num [1:61] 2023 2023 2023 2023 2023 ...\n",
      " $ miesiac: num [1:61] 8 8 8 8 8 8 8 8 8 8 ...\n",
      " $ dzien  : num [1:61] 1 2 3 4 5 6 7 8 9 10 ...\n",
      " - attr(*, \"spec\")=\n",
      "  .. cols(\n",
      "  ..   ...1 = col_skip(),\n",
      "  ..   PM25 = \u001b[32mcol_double()\u001b[39m,\n",
      "  ..   PM10 = \u001b[32mcol_double()\u001b[39m,\n",
      "  ..   NO2 = \u001b[32mcol_double()\u001b[39m,\n",
      "  ..   NO = \u001b[32mcol_double()\u001b[39m,\n",
      "  ..   NOx = \u001b[32mcol_double()\u001b[39m,\n",
      "  ..   CO = \u001b[32mcol_double()\u001b[39m,\n",
      "  ..   C6H6 = \u001b[32mcol_double()\u001b[39m,\n",
      "  ..   rok = \u001b[32mcol_double()\u001b[39m,\n",
      "  ..   miesiac = \u001b[32mcol_double()\u001b[39m,\n",
      "  ..   dzien = \u001b[32mcol_double()\u001b[39m\n",
      "  .. )\n",
      " - attr(*, \"problems\")=<externalptr> \n"
     ]
    }
   ],
   "source": [
    "str(powietrze)"
   ]
  },
  {
   "cell_type": "code",
   "execution_count": 98,
   "metadata": {
    "vscode": {
     "languageId": "r"
    }
   },
   "outputs": [
    {
     "data": {
      "text/html": [
       "<style>\n",
       ".dl-inline {width: auto; margin:0; padding: 0}\n",
       ".dl-inline>dt, .dl-inline>dd {float: none; width: auto; display: inline-block}\n",
       ".dl-inline>dt::after {content: \":\\0020\"; padding-right: .5ex}\n",
       ".dl-inline>dt:not(:first-of-type) {padding-left: .5ex}\n",
       "</style><dl class=dl-inline><dt>0%</dt><dd>4.9875</dd><dt>10%</dt><dd>8.29583333333333</dd><dt>20%</dt><dd>10</dd><dt>30%</dt><dd>11.9458333333333</dd><dt>40%</dt><dd>13.6458333333333</dd><dt>50%</dt><dd>15.0333333333333</dd><dt>60%</dt><dd>16.9416666666667</dd><dt>70%</dt><dd>18.8666666666667</dd><dt>80%</dt><dd>21.1782608695652</dd><dt>90%</dt><dd>25.2666666666667</dd><dt>100%</dt><dd>28.4625</dd></dl>\n"
      ],
      "text/latex": [
       "\\begin{description*}\n",
       "\\item[0\\textbackslash{}\\%] 4.9875\n",
       "\\item[10\\textbackslash{}\\%] 8.29583333333333\n",
       "\\item[20\\textbackslash{}\\%] 10\n",
       "\\item[30\\textbackslash{}\\%] 11.9458333333333\n",
       "\\item[40\\textbackslash{}\\%] 13.6458333333333\n",
       "\\item[50\\textbackslash{}\\%] 15.0333333333333\n",
       "\\item[60\\textbackslash{}\\%] 16.9416666666667\n",
       "\\item[70\\textbackslash{}\\%] 18.8666666666667\n",
       "\\item[80\\textbackslash{}\\%] 21.1782608695652\n",
       "\\item[90\\textbackslash{}\\%] 25.2666666666667\n",
       "\\item[100\\textbackslash{}\\%] 28.4625\n",
       "\\end{description*}\n"
      ],
      "text/markdown": [
       "0%\n",
       ":   4.987510%\n",
       ":   8.2958333333333320%\n",
       ":   1030%\n",
       ":   11.945833333333340%\n",
       ":   13.645833333333350%\n",
       ":   15.033333333333360%\n",
       ":   16.941666666666770%\n",
       ":   18.866666666666780%\n",
       ":   21.178260869565290%\n",
       ":   25.2666666666667100%\n",
       ":   28.4625\n",
       "\n"
      ],
      "text/plain": [
       "       0%       10%       20%       30%       40%       50%       60%       70% \n",
       " 4.987500  8.295833 10.000000 11.945833 13.645833 15.033333 16.941667 18.866667 \n",
       "      80%       90%      100% \n",
       "21.178261 25.266667 28.462500 "
      ]
     },
     "metadata": {},
     "output_type": "display_data"
    }
   ],
   "source": [
    "quantile(powietrze$PM25, probs=seq(0,1,0.1), na.rm=TRUE)"
   ]
  },
  {
   "cell_type": "code",
   "execution_count": 99,
   "metadata": {
    "id": "sDR6Bz9Pe-SW",
    "vscode": {
     "languageId": "r"
    }
   },
   "outputs": [
    {
     "name": "stdout",
     "output_type": "stream",
     "text": [
      "[1] \"numeric\"\n",
      "[1] \"numeric\"\n",
      "[1] \"numeric\"\n",
      "[1] \"numeric\"\n",
      "[1] \"numeric\"\n",
      "[1] \"numeric\"\n",
      "[1] \"numeric\"\n",
      "[1] \"numeric\"\n",
      "[1] \"numeric\"\n",
      "[1] \"numeric\"\n"
     ]
    }
   ],
   "source": [
    "# Wyświetl typ danych poszczególnych kolumn.\n",
    "\n",
    "for(i in names(powietrze)) print(class(powietrze[[i]]))"
   ]
  },
  {
   "cell_type": "code",
   "execution_count": 100,
   "metadata": {
    "id": "1h44t5xtfD2_",
    "vscode": {
     "languageId": "r"
    }
   },
   "outputs": [
    {
     "data": {
      "text/html": [
       "<table class=\"dataframe\">\n",
       "<caption>A tibble: 6 × 10</caption>\n",
       "<thead>\n",
       "\t<tr><th scope=col>PM25</th><th scope=col>PM10</th><th scope=col>NO2</th><th scope=col>NO</th><th scope=col>NOx</th><th scope=col>CO</th><th scope=col>C6H6</th><th scope=col>rok</th><th scope=col>miesiac</th><th scope=col>dzien</th></tr>\n",
       "\t<tr><th scope=col>&lt;dbl&gt;</th><th scope=col>&lt;dbl&gt;</th><th scope=col>&lt;dbl&gt;</th><th scope=col>&lt;dbl&gt;</th><th scope=col>&lt;dbl&gt;</th><th scope=col>&lt;dbl&gt;</th><th scope=col>&lt;dbl&gt;</th><th scope=col>&lt;dbl&gt;</th><th scope=col>&lt;dbl&gt;</th><th scope=col>&lt;dbl&gt;</th></tr>\n",
       "</thead>\n",
       "<tbody>\n",
       "\t<tr><td>11.76</td><td>25.04</td><td>44.57</td><td>38.83</td><td>104.11</td><td>0.60</td><td>0.47</td><td>2023</td><td>8</td><td>1</td></tr>\n",
       "\t<tr><td> 8.30</td><td>18.44</td><td>36.25</td><td>22.17</td><td> 70.24</td><td>0.52</td><td>0.34</td><td>2023</td><td>8</td><td>2</td></tr>\n",
       "\t<tr><td> 8.38</td><td>22.75</td><td>50.06</td><td>36.20</td><td>107.94</td><td>0.63</td><td>0.48</td><td>2023</td><td>8</td><td>3</td></tr>\n",
       "\t<tr><td>10.00</td><td>24.70</td><td>47.40</td><td>38.62</td><td>106.62</td><td>0.61</td><td>0.47</td><td>2023</td><td>8</td><td>4</td></tr>\n",
       "\t<tr><td>11.30</td><td>18.47</td><td>36.00</td><td>26.02</td><td> 75.90</td><td>0.60</td><td>0.39</td><td>2023</td><td>8</td><td>5</td></tr>\n",
       "\t<tr><td> 7.33</td><td>11.05</td><td>21.68</td><td>19.17</td><td> 51.08</td><td>0.51</td><td>0.35</td><td>2023</td><td>8</td><td>6</td></tr>\n",
       "</tbody>\n",
       "</table>\n"
      ],
      "text/latex": [
       "A tibble: 6 × 10\n",
       "\\begin{tabular}{llllllllll}\n",
       " PM25 & PM10 & NO2 & NO & NOx & CO & C6H6 & rok & miesiac & dzien\\\\\n",
       " <dbl> & <dbl> & <dbl> & <dbl> & <dbl> & <dbl> & <dbl> & <dbl> & <dbl> & <dbl>\\\\\n",
       "\\hline\n",
       "\t 11.76 & 25.04 & 44.57 & 38.83 & 104.11 & 0.60 & 0.47 & 2023 & 8 & 1\\\\\n",
       "\t  8.30 & 18.44 & 36.25 & 22.17 &  70.24 & 0.52 & 0.34 & 2023 & 8 & 2\\\\\n",
       "\t  8.38 & 22.75 & 50.06 & 36.20 & 107.94 & 0.63 & 0.48 & 2023 & 8 & 3\\\\\n",
       "\t 10.00 & 24.70 & 47.40 & 38.62 & 106.62 & 0.61 & 0.47 & 2023 & 8 & 4\\\\\n",
       "\t 11.30 & 18.47 & 36.00 & 26.02 &  75.90 & 0.60 & 0.39 & 2023 & 8 & 5\\\\\n",
       "\t  7.33 & 11.05 & 21.68 & 19.17 &  51.08 & 0.51 & 0.35 & 2023 & 8 & 6\\\\\n",
       "\\end{tabular}\n"
      ],
      "text/markdown": [
       "\n",
       "A tibble: 6 × 10\n",
       "\n",
       "| PM25 &lt;dbl&gt; | PM10 &lt;dbl&gt; | NO2 &lt;dbl&gt; | NO &lt;dbl&gt; | NOx &lt;dbl&gt; | CO &lt;dbl&gt; | C6H6 &lt;dbl&gt; | rok &lt;dbl&gt; | miesiac &lt;dbl&gt; | dzien &lt;dbl&gt; |\n",
       "|---|---|---|---|---|---|---|---|---|---|\n",
       "| 11.76 | 25.04 | 44.57 | 38.83 | 104.11 | 0.60 | 0.47 | 2023 | 8 | 1 |\n",
       "|  8.30 | 18.44 | 36.25 | 22.17 |  70.24 | 0.52 | 0.34 | 2023 | 8 | 2 |\n",
       "|  8.38 | 22.75 | 50.06 | 36.20 | 107.94 | 0.63 | 0.48 | 2023 | 8 | 3 |\n",
       "| 10.00 | 24.70 | 47.40 | 38.62 | 106.62 | 0.61 | 0.47 | 2023 | 8 | 4 |\n",
       "| 11.30 | 18.47 | 36.00 | 26.02 |  75.90 | 0.60 | 0.39 | 2023 | 8 | 5 |\n",
       "|  7.33 | 11.05 | 21.68 | 19.17 |  51.08 | 0.51 | 0.35 | 2023 | 8 | 6 |\n",
       "\n"
      ],
      "text/plain": [
       "  PM25  PM10  NO2   NO    NOx    CO   C6H6 rok  miesiac dzien\n",
       "1 11.76 25.04 44.57 38.83 104.11 0.60 0.47 2023 8       1    \n",
       "2  8.30 18.44 36.25 22.17  70.24 0.52 0.34 2023 8       2    \n",
       "3  8.38 22.75 50.06 36.20 107.94 0.63 0.48 2023 8       3    \n",
       "4 10.00 24.70 47.40 38.62 106.62 0.61 0.47 2023 8       4    \n",
       "5 11.30 18.47 36.00 26.02  75.90 0.60 0.39 2023 8       5    \n",
       "6  7.33 11.05 21.68 19.17  51.08 0.51 0.35 2023 8       6    "
      ]
     },
     "metadata": {},
     "output_type": "display_data"
    }
   ],
   "source": [
    "# Zaokrąglij wyniki pomiarów do dwóch miejsc po przecinku.\n",
    "\n",
    "powietrze[,1:7] <- round(powietrze[,1:7], 2)\n",
    "head(powietrze)"
   ]
  },
  {
   "cell_type": "code",
   "execution_count": 101,
   "metadata": {
    "id": "IDdT2twUfHBe",
    "vscode": {
     "languageId": "r"
    }
   },
   "outputs": [
    {
     "data": {
      "text/html": [
       "<table class=\"dataframe\">\n",
       "<caption>A tibble: 6 × 8</caption>\n",
       "<thead>\n",
       "\t<tr><th scope=col>PM25</th><th scope=col>PM10</th><th scope=col>NO2</th><th scope=col>NO</th><th scope=col>NOx</th><th scope=col>CO</th><th scope=col>C6H6</th><th scope=col>data</th></tr>\n",
       "\t<tr><th scope=col>&lt;dbl&gt;</th><th scope=col>&lt;dbl&gt;</th><th scope=col>&lt;dbl&gt;</th><th scope=col>&lt;dbl&gt;</th><th scope=col>&lt;dbl&gt;</th><th scope=col>&lt;dbl&gt;</th><th scope=col>&lt;dbl&gt;</th><th scope=col>&lt;date&gt;</th></tr>\n",
       "</thead>\n",
       "<tbody>\n",
       "\t<tr><td>11.76</td><td>25.04</td><td>44.57</td><td>38.83</td><td>104.11</td><td>0.60</td><td>0.47</td><td>2023-08-01</td></tr>\n",
       "\t<tr><td> 8.30</td><td>18.44</td><td>36.25</td><td>22.17</td><td> 70.24</td><td>0.52</td><td>0.34</td><td>2023-08-02</td></tr>\n",
       "\t<tr><td> 8.38</td><td>22.75</td><td>50.06</td><td>36.20</td><td>107.94</td><td>0.63</td><td>0.48</td><td>2023-08-03</td></tr>\n",
       "\t<tr><td>10.00</td><td>24.70</td><td>47.40</td><td>38.62</td><td>106.62</td><td>0.61</td><td>0.47</td><td>2023-08-04</td></tr>\n",
       "\t<tr><td>11.30</td><td>18.47</td><td>36.00</td><td>26.02</td><td> 75.90</td><td>0.60</td><td>0.39</td><td>2023-08-05</td></tr>\n",
       "\t<tr><td> 7.33</td><td>11.05</td><td>21.68</td><td>19.17</td><td> 51.08</td><td>0.51</td><td>0.35</td><td>2023-08-06</td></tr>\n",
       "</tbody>\n",
       "</table>\n"
      ],
      "text/latex": [
       "A tibble: 6 × 8\n",
       "\\begin{tabular}{llllllll}\n",
       " PM25 & PM10 & NO2 & NO & NOx & CO & C6H6 & data\\\\\n",
       " <dbl> & <dbl> & <dbl> & <dbl> & <dbl> & <dbl> & <dbl> & <date>\\\\\n",
       "\\hline\n",
       "\t 11.76 & 25.04 & 44.57 & 38.83 & 104.11 & 0.60 & 0.47 & 2023-08-01\\\\\n",
       "\t  8.30 & 18.44 & 36.25 & 22.17 &  70.24 & 0.52 & 0.34 & 2023-08-02\\\\\n",
       "\t  8.38 & 22.75 & 50.06 & 36.20 & 107.94 & 0.63 & 0.48 & 2023-08-03\\\\\n",
       "\t 10.00 & 24.70 & 47.40 & 38.62 & 106.62 & 0.61 & 0.47 & 2023-08-04\\\\\n",
       "\t 11.30 & 18.47 & 36.00 & 26.02 &  75.90 & 0.60 & 0.39 & 2023-08-05\\\\\n",
       "\t  7.33 & 11.05 & 21.68 & 19.17 &  51.08 & 0.51 & 0.35 & 2023-08-06\\\\\n",
       "\\end{tabular}\n"
      ],
      "text/markdown": [
       "\n",
       "A tibble: 6 × 8\n",
       "\n",
       "| PM25 &lt;dbl&gt; | PM10 &lt;dbl&gt; | NO2 &lt;dbl&gt; | NO &lt;dbl&gt; | NOx &lt;dbl&gt; | CO &lt;dbl&gt; | C6H6 &lt;dbl&gt; | data &lt;date&gt; |\n",
       "|---|---|---|---|---|---|---|---|\n",
       "| 11.76 | 25.04 | 44.57 | 38.83 | 104.11 | 0.60 | 0.47 | 2023-08-01 |\n",
       "|  8.30 | 18.44 | 36.25 | 22.17 |  70.24 | 0.52 | 0.34 | 2023-08-02 |\n",
       "|  8.38 | 22.75 | 50.06 | 36.20 | 107.94 | 0.63 | 0.48 | 2023-08-03 |\n",
       "| 10.00 | 24.70 | 47.40 | 38.62 | 106.62 | 0.61 | 0.47 | 2023-08-04 |\n",
       "| 11.30 | 18.47 | 36.00 | 26.02 |  75.90 | 0.60 | 0.39 | 2023-08-05 |\n",
       "|  7.33 | 11.05 | 21.68 | 19.17 |  51.08 | 0.51 | 0.35 | 2023-08-06 |\n",
       "\n"
      ],
      "text/plain": [
       "  PM25  PM10  NO2   NO    NOx    CO   C6H6 data      \n",
       "1 11.76 25.04 44.57 38.83 104.11 0.60 0.47 2023-08-01\n",
       "2  8.30 18.44 36.25 22.17  70.24 0.52 0.34 2023-08-02\n",
       "3  8.38 22.75 50.06 36.20 107.94 0.63 0.48 2023-08-03\n",
       "4 10.00 24.70 47.40 38.62 106.62 0.61 0.47 2023-08-04\n",
       "5 11.30 18.47 36.00 26.02  75.90 0.60 0.39 2023-08-05\n",
       "6  7.33 11.05 21.68 19.17  51.08 0.51 0.35 2023-08-06"
      ]
     },
     "metadata": {},
     "output_type": "display_data"
    }
   ],
   "source": [
    "# Stwórz nową kolumnę, w której zapiszesz datę każdego pomiaru wykorzystując kolumny: `dzien`, `miesiac` oraz `rok``.\n",
    "\n",
    "powietrze$data <- as.Date(paste(powietrze$rok, powietrze$miesiac,\n",
    "                                powietrze$dzien, sep=\"- \"))\n",
    "powietrze <- powietrze[,-(8:10)]\n",
    "head(powietrze)"
   ]
  },
  {
   "cell_type": "code",
   "execution_count": 102,
   "metadata": {
    "id": "iVFqQbZFfLBv",
    "vscode": {
     "languageId": "r"
    }
   },
   "outputs": [
    {
     "data": {
      "text/html": [
       "'Dzisiaj jest Wednesday (02 October 24)'"
      ],
      "text/latex": [
       "'Dzisiaj jest Wednesday (02 October 24)'"
      ],
      "text/markdown": [
       "'Dzisiaj jest Wednesday (02 October 24)'"
      ],
      "text/plain": [
       "[1] \"Dzisiaj jest Wednesday (02 October 24)\""
      ]
     },
     "metadata": {},
     "output_type": "display_data"
    }
   ],
   "source": [
    "# Przeanalizuj działanie poniższych funkcji związanych z typem `Date`:\n",
    "\n",
    "today <- Sys.Date()\n",
    "days <- julian(today)\n",
    "format(today, \"Dzisiaj jest %A (%d %B %y)\")"
   ]
  },
  {
   "cell_type": "code",
   "execution_count": 103,
   "metadata": {
    "vscode": {
     "languageId": "r"
    }
   },
   "outputs": [
    {
     "data": {
      "text/html": [
       "'Wednesday'"
      ],
      "text/latex": [
       "'Wednesday'"
      ],
      "text/markdown": [
       "'Wednesday'"
      ],
      "text/plain": [
       "[1] \"Wednesday\""
      ]
     },
     "metadata": {},
     "output_type": "display_data"
    }
   ],
   "source": [
    "weekdays(today)"
   ]
  },
  {
   "cell_type": "code",
   "execution_count": 104,
   "metadata": {
    "vscode": {
     "languageId": "r"
    }
   },
   "outputs": [
    {
     "data": {
      "text/html": [
       "<time datetime=\"2020-03-01\">2020-03-01</time>"
      ],
      "text/latex": [
       "2020-03-01"
      ],
      "text/markdown": [
       "2020-03-01"
      ],
      "text/plain": [
       "[1] \"2020-03-01\""
      ]
     },
     "metadata": {},
     "output_type": "display_data"
    }
   ],
   "source": [
    "as.Date(c(\"01.03.20\"),\"%d.%m.%y\")"
   ]
  },
  {
   "cell_type": "code",
   "execution_count": 105,
   "metadata": {
    "vscode": {
     "languageId": "r"
    }
   },
   "outputs": [
    {
     "data": {
      "text/html": [
       "<style>\n",
       ".list-inline {list-style: none; margin:0; padding: 0}\n",
       ".list-inline>li {display: inline-block}\n",
       ".list-inline>li:not(:last-child)::after {content: \"\\00b7\"; padding: 0 .5ex}\n",
       "</style>\n",
       "<ol class=list-inline><li>428</li><li>427</li><li>426</li><li>425</li><li>424</li><li>423</li><li>422</li><li>421</li><li>420</li><li>419</li><li>418</li><li>417</li><li>416</li><li>415</li><li>414</li><li>413</li><li>412</li><li>411</li><li>410</li><li>409</li><li>408</li><li>407</li><li>406</li><li>405</li><li>404</li><li>403</li><li>402</li><li>401</li><li>400</li><li>399</li><li>398</li><li>397</li><li>396</li><li>395</li><li>394</li><li>393</li><li>392</li><li>391</li><li>390</li><li>389</li><li>388</li><li>387</li><li>386</li><li>385</li><li>384</li><li>383</li><li>382</li><li>381</li><li>380</li><li>379</li><li>378</li><li>377</li><li>376</li><li>375</li><li>374</li><li>373</li><li>372</li><li>371</li><li>370</li><li>369</li><li>368</li></ol>\n"
      ],
      "text/latex": [
       "\\begin{enumerate*}\n",
       "\\item 428\n",
       "\\item 427\n",
       "\\item 426\n",
       "\\item 425\n",
       "\\item 424\n",
       "\\item 423\n",
       "\\item 422\n",
       "\\item 421\n",
       "\\item 420\n",
       "\\item 419\n",
       "\\item 418\n",
       "\\item 417\n",
       "\\item 416\n",
       "\\item 415\n",
       "\\item 414\n",
       "\\item 413\n",
       "\\item 412\n",
       "\\item 411\n",
       "\\item 410\n",
       "\\item 409\n",
       "\\item 408\n",
       "\\item 407\n",
       "\\item 406\n",
       "\\item 405\n",
       "\\item 404\n",
       "\\item 403\n",
       "\\item 402\n",
       "\\item 401\n",
       "\\item 400\n",
       "\\item 399\n",
       "\\item 398\n",
       "\\item 397\n",
       "\\item 396\n",
       "\\item 395\n",
       "\\item 394\n",
       "\\item 393\n",
       "\\item 392\n",
       "\\item 391\n",
       "\\item 390\n",
       "\\item 389\n",
       "\\item 388\n",
       "\\item 387\n",
       "\\item 386\n",
       "\\item 385\n",
       "\\item 384\n",
       "\\item 383\n",
       "\\item 382\n",
       "\\item 381\n",
       "\\item 380\n",
       "\\item 379\n",
       "\\item 378\n",
       "\\item 377\n",
       "\\item 376\n",
       "\\item 375\n",
       "\\item 374\n",
       "\\item 373\n",
       "\\item 372\n",
       "\\item 371\n",
       "\\item 370\n",
       "\\item 369\n",
       "\\item 368\n",
       "\\end{enumerate*}\n"
      ],
      "text/markdown": [
       "1. 428\n",
       "2. 427\n",
       "3. 426\n",
       "4. 425\n",
       "5. 424\n",
       "6. 423\n",
       "7. 422\n",
       "8. 421\n",
       "9. 420\n",
       "10. 419\n",
       "11. 418\n",
       "12. 417\n",
       "13. 416\n",
       "14. 415\n",
       "15. 414\n",
       "16. 413\n",
       "17. 412\n",
       "18. 411\n",
       "19. 410\n",
       "20. 409\n",
       "21. 408\n",
       "22. 407\n",
       "23. 406\n",
       "24. 405\n",
       "25. 404\n",
       "26. 403\n",
       "27. 402\n",
       "28. 401\n",
       "29. 400\n",
       "30. 399\n",
       "31. 398\n",
       "32. 397\n",
       "33. 396\n",
       "34. 395\n",
       "35. 394\n",
       "36. 393\n",
       "37. 392\n",
       "38. 391\n",
       "39. 390\n",
       "40. 389\n",
       "41. 388\n",
       "42. 387\n",
       "43. 386\n",
       "44. 385\n",
       "45. 384\n",
       "46. 383\n",
       "47. 382\n",
       "48. 381\n",
       "49. 380\n",
       "50. 379\n",
       "51. 378\n",
       "52. 377\n",
       "53. 376\n",
       "54. 375\n",
       "55. 374\n",
       "56. 373\n",
       "57. 372\n",
       "58. 371\n",
       "59. 370\n",
       "60. 369\n",
       "61. 368\n",
       "\n",
       "\n"
      ],
      "text/plain": [
       " [1] 428 427 426 425 424 423 422 421 420 419 418 417 416 415 414 413 412 411 410\n",
       "[20] 409 408 407 406 405 404 403 402 401 400 399 398 397 396 395 394 393 392 391\n",
       "[39] 390 389 388 387 386 385 384 383 382 381 380 379 378 377 376 375 374 373 372\n",
       "[58] 371 370 369 368"
      ]
     },
     "metadata": {},
     "output_type": "display_data"
    }
   ],
   "source": [
    "diff <- as.numeric(today - powietrze$data)\n",
    "diff"
   ]
  },
  {
   "cell_type": "code",
   "execution_count": 106,
   "metadata": {
    "id": "jPKgQWjufOtP",
    "vscode": {
     "languageId": "r"
    }
   },
   "outputs": [
    {
     "data": {
      "text/html": [
       "<table class=\"dataframe\">\n",
       "<caption>A tibble: 5 × 8</caption>\n",
       "<thead>\n",
       "\t<tr><th scope=col>PM25</th><th scope=col>PM10</th><th scope=col>NO2</th><th scope=col>NO</th><th scope=col>NOx</th><th scope=col>CO</th><th scope=col>C6H6</th><th scope=col>data</th></tr>\n",
       "\t<tr><th scope=col>&lt;dbl&gt;</th><th scope=col>&lt;dbl&gt;</th><th scope=col>&lt;dbl&gt;</th><th scope=col>&lt;dbl&gt;</th><th scope=col>&lt;dbl&gt;</th><th scope=col>&lt;dbl&gt;</th><th scope=col>&lt;dbl&gt;</th><th scope=col>&lt;date&gt;</th></tr>\n",
       "</thead>\n",
       "<tbody>\n",
       "\t<tr><td>11.76</td><td>25.04</td><td>44.57</td><td>38.83</td><td>104.11</td><td>0.60</td><td>0.47</td><td>2023-08-01</td></tr>\n",
       "\t<tr><td> 8.30</td><td>18.44</td><td>36.25</td><td>22.17</td><td> 70.24</td><td>0.52</td><td>0.34</td><td>2023-08-02</td></tr>\n",
       "\t<tr><td> 8.38</td><td>22.75</td><td>50.06</td><td>36.20</td><td>107.94</td><td>0.63</td><td>0.48</td><td>2023-08-03</td></tr>\n",
       "\t<tr><td>10.00</td><td>24.70</td><td>47.40</td><td>38.62</td><td>106.62</td><td>0.61</td><td>0.47</td><td>2023-08-04</td></tr>\n",
       "\t<tr><td>11.30</td><td>18.47</td><td>36.00</td><td>26.02</td><td> 75.90</td><td>0.60</td><td>0.39</td><td>2023-08-05</td></tr>\n",
       "</tbody>\n",
       "</table>\n"
      ],
      "text/latex": [
       "A tibble: 5 × 8\n",
       "\\begin{tabular}{llllllll}\n",
       " PM25 & PM10 & NO2 & NO & NOx & CO & C6H6 & data\\\\\n",
       " <dbl> & <dbl> & <dbl> & <dbl> & <dbl> & <dbl> & <dbl> & <date>\\\\\n",
       "\\hline\n",
       "\t 11.76 & 25.04 & 44.57 & 38.83 & 104.11 & 0.60 & 0.47 & 2023-08-01\\\\\n",
       "\t  8.30 & 18.44 & 36.25 & 22.17 &  70.24 & 0.52 & 0.34 & 2023-08-02\\\\\n",
       "\t  8.38 & 22.75 & 50.06 & 36.20 & 107.94 & 0.63 & 0.48 & 2023-08-03\\\\\n",
       "\t 10.00 & 24.70 & 47.40 & 38.62 & 106.62 & 0.61 & 0.47 & 2023-08-04\\\\\n",
       "\t 11.30 & 18.47 & 36.00 & 26.02 &  75.90 & 0.60 & 0.39 & 2023-08-05\\\\\n",
       "\\end{tabular}\n"
      ],
      "text/markdown": [
       "\n",
       "A tibble: 5 × 8\n",
       "\n",
       "| PM25 &lt;dbl&gt; | PM10 &lt;dbl&gt; | NO2 &lt;dbl&gt; | NO &lt;dbl&gt; | NOx &lt;dbl&gt; | CO &lt;dbl&gt; | C6H6 &lt;dbl&gt; | data &lt;date&gt; |\n",
       "|---|---|---|---|---|---|---|---|\n",
       "| 11.76 | 25.04 | 44.57 | 38.83 | 104.11 | 0.60 | 0.47 | 2023-08-01 |\n",
       "|  8.30 | 18.44 | 36.25 | 22.17 |  70.24 | 0.52 | 0.34 | 2023-08-02 |\n",
       "|  8.38 | 22.75 | 50.06 | 36.20 | 107.94 | 0.63 | 0.48 | 2023-08-03 |\n",
       "| 10.00 | 24.70 | 47.40 | 38.62 | 106.62 | 0.61 | 0.47 | 2023-08-04 |\n",
       "| 11.30 | 18.47 | 36.00 | 26.02 |  75.90 | 0.60 | 0.39 | 2023-08-05 |\n",
       "\n"
      ],
      "text/plain": [
       "  PM25  PM10  NO2   NO    NOx    CO   C6H6 data      \n",
       "1 11.76 25.04 44.57 38.83 104.11 0.60 0.47 2023-08-01\n",
       "2  8.30 18.44 36.25 22.17  70.24 0.52 0.34 2023-08-02\n",
       "3  8.38 22.75 50.06 36.20 107.94 0.63 0.48 2023-08-03\n",
       "4 10.00 24.70 47.40 38.62 106.62 0.61 0.47 2023-08-04\n",
       "5 11.30 18.47 36.00 26.02  75.90 0.60 0.39 2023-08-05"
      ]
     },
     "metadata": {},
     "output_type": "display_data"
    }
   ],
   "source": [
    "# Sprawdź, w jaki sposób można wyświetlić konkretne wiersze:\n",
    "\n",
    "head(powietrze, 5)"
   ]
  },
  {
   "cell_type": "code",
   "execution_count": 107,
   "metadata": {
    "vscode": {
     "languageId": "r"
    }
   },
   "outputs": [
    {
     "data": {
      "text/html": [
       "<table class=\"dataframe\">\n",
       "<caption>A tibble: 2 × 8</caption>\n",
       "<thead>\n",
       "\t<tr><th scope=col>PM25</th><th scope=col>PM10</th><th scope=col>NO2</th><th scope=col>NO</th><th scope=col>NOx</th><th scope=col>CO</th><th scope=col>C6H6</th><th scope=col>data</th></tr>\n",
       "\t<tr><th scope=col>&lt;dbl&gt;</th><th scope=col>&lt;dbl&gt;</th><th scope=col>&lt;dbl&gt;</th><th scope=col>&lt;dbl&gt;</th><th scope=col>&lt;dbl&gt;</th><th scope=col>&lt;dbl&gt;</th><th scope=col>&lt;dbl&gt;</th><th scope=col>&lt;date&gt;</th></tr>\n",
       "</thead>\n",
       "<tbody>\n",
       "\t<tr><td>8.30</td><td>18.44</td><td>36.25</td><td>22.17</td><td> 70.24</td><td>0.52</td><td>0.34</td><td>2023-08-02</td></tr>\n",
       "\t<tr><td>8.38</td><td>22.75</td><td>50.06</td><td>36.20</td><td>107.94</td><td>0.63</td><td>0.48</td><td>2023-08-03</td></tr>\n",
       "</tbody>\n",
       "</table>\n"
      ],
      "text/latex": [
       "A tibble: 2 × 8\n",
       "\\begin{tabular}{llllllll}\n",
       " PM25 & PM10 & NO2 & NO & NOx & CO & C6H6 & data\\\\\n",
       " <dbl> & <dbl> & <dbl> & <dbl> & <dbl> & <dbl> & <dbl> & <date>\\\\\n",
       "\\hline\n",
       "\t 8.30 & 18.44 & 36.25 & 22.17 &  70.24 & 0.52 & 0.34 & 2023-08-02\\\\\n",
       "\t 8.38 & 22.75 & 50.06 & 36.20 & 107.94 & 0.63 & 0.48 & 2023-08-03\\\\\n",
       "\\end{tabular}\n"
      ],
      "text/markdown": [
       "\n",
       "A tibble: 2 × 8\n",
       "\n",
       "| PM25 &lt;dbl&gt; | PM10 &lt;dbl&gt; | NO2 &lt;dbl&gt; | NO &lt;dbl&gt; | NOx &lt;dbl&gt; | CO &lt;dbl&gt; | C6H6 &lt;dbl&gt; | data &lt;date&gt; |\n",
       "|---|---|---|---|---|---|---|---|\n",
       "| 8.30 | 18.44 | 36.25 | 22.17 |  70.24 | 0.52 | 0.34 | 2023-08-02 |\n",
       "| 8.38 | 22.75 | 50.06 | 36.20 | 107.94 | 0.63 | 0.48 | 2023-08-03 |\n",
       "\n"
      ],
      "text/plain": [
       "  PM25 PM10  NO2   NO    NOx    CO   C6H6 data      \n",
       "1 8.30 18.44 36.25 22.17  70.24 0.52 0.34 2023-08-02\n",
       "2 8.38 22.75 50.06 36.20 107.94 0.63 0.48 2023-08-03"
      ]
     },
     "metadata": {},
     "output_type": "display_data"
    }
   ],
   "source": [
    "powietrze[2:3,]"
   ]
  },
  {
   "cell_type": "code",
   "execution_count": 108,
   "metadata": {
    "vscode": {
     "languageId": "r"
    }
   },
   "outputs": [
    {
     "data": {
      "text/html": [
       "<table class=\"dataframe\">\n",
       "<caption>A tibble: 7 × 8</caption>\n",
       "<thead>\n",
       "\t<tr><th scope=col>PM25</th><th scope=col>PM10</th><th scope=col>NO2</th><th scope=col>NO</th><th scope=col>NOx</th><th scope=col>CO</th><th scope=col>C6H6</th><th scope=col>data</th></tr>\n",
       "\t<tr><th scope=col>&lt;dbl&gt;</th><th scope=col>&lt;dbl&gt;</th><th scope=col>&lt;dbl&gt;</th><th scope=col>&lt;dbl&gt;</th><th scope=col>&lt;dbl&gt;</th><th scope=col>&lt;dbl&gt;</th><th scope=col>&lt;dbl&gt;</th><th scope=col>&lt;date&gt;</th></tr>\n",
       "</thead>\n",
       "<tbody>\n",
       "\t<tr><td>11.76</td><td>25.04</td><td>44.57</td><td>38.83</td><td>104.11</td><td>0.60</td><td>0.47</td><td>2023-08-01</td></tr>\n",
       "\t<tr><td> 7.33</td><td>11.05</td><td>21.68</td><td>19.17</td><td> 51.08</td><td>0.51</td><td>0.35</td><td>2023-08-06</td></tr>\n",
       "\t<tr><td>14.11</td><td>25.50</td><td>46.44</td><td>29.56</td><td> 91.77</td><td>0.56</td><td>0.48</td><td>2023-08-11</td></tr>\n",
       "\t<tr><td>22.84</td><td>39.57</td><td>51.76</td><td>30.82</td><td> 98.99</td><td>0.68</td><td>0.52</td><td>2023-08-16</td></tr>\n",
       "\t<tr><td>28.46</td><td>44.70</td><td>46.71</td><td>25.49</td><td> 85.82</td><td>0.70</td><td>0.48</td><td>2023-08-21</td></tr>\n",
       "\t<tr><td>15.80</td><td>26.66</td><td>39.78</td><td>23.25</td><td> 75.45</td><td>0.60</td><td>0.39</td><td>2023-08-26</td></tr>\n",
       "\t<tr><td>11.84</td><td>20.14</td><td>31.63</td><td>24.70</td><td> 69.46</td><td>0.44</td><td>0.35</td><td>2023-08-31</td></tr>\n",
       "</tbody>\n",
       "</table>\n"
      ],
      "text/latex": [
       "A tibble: 7 × 8\n",
       "\\begin{tabular}{llllllll}\n",
       " PM25 & PM10 & NO2 & NO & NOx & CO & C6H6 & data\\\\\n",
       " <dbl> & <dbl> & <dbl> & <dbl> & <dbl> & <dbl> & <dbl> & <date>\\\\\n",
       "\\hline\n",
       "\t 11.76 & 25.04 & 44.57 & 38.83 & 104.11 & 0.60 & 0.47 & 2023-08-01\\\\\n",
       "\t  7.33 & 11.05 & 21.68 & 19.17 &  51.08 & 0.51 & 0.35 & 2023-08-06\\\\\n",
       "\t 14.11 & 25.50 & 46.44 & 29.56 &  91.77 & 0.56 & 0.48 & 2023-08-11\\\\\n",
       "\t 22.84 & 39.57 & 51.76 & 30.82 &  98.99 & 0.68 & 0.52 & 2023-08-16\\\\\n",
       "\t 28.46 & 44.70 & 46.71 & 25.49 &  85.82 & 0.70 & 0.48 & 2023-08-21\\\\\n",
       "\t 15.80 & 26.66 & 39.78 & 23.25 &  75.45 & 0.60 & 0.39 & 2023-08-26\\\\\n",
       "\t 11.84 & 20.14 & 31.63 & 24.70 &  69.46 & 0.44 & 0.35 & 2023-08-31\\\\\n",
       "\\end{tabular}\n"
      ],
      "text/markdown": [
       "\n",
       "A tibble: 7 × 8\n",
       "\n",
       "| PM25 &lt;dbl&gt; | PM10 &lt;dbl&gt; | NO2 &lt;dbl&gt; | NO &lt;dbl&gt; | NOx &lt;dbl&gt; | CO &lt;dbl&gt; | C6H6 &lt;dbl&gt; | data &lt;date&gt; |\n",
       "|---|---|---|---|---|---|---|---|\n",
       "| 11.76 | 25.04 | 44.57 | 38.83 | 104.11 | 0.60 | 0.47 | 2023-08-01 |\n",
       "|  7.33 | 11.05 | 21.68 | 19.17 |  51.08 | 0.51 | 0.35 | 2023-08-06 |\n",
       "| 14.11 | 25.50 | 46.44 | 29.56 |  91.77 | 0.56 | 0.48 | 2023-08-11 |\n",
       "| 22.84 | 39.57 | 51.76 | 30.82 |  98.99 | 0.68 | 0.52 | 2023-08-16 |\n",
       "| 28.46 | 44.70 | 46.71 | 25.49 |  85.82 | 0.70 | 0.48 | 2023-08-21 |\n",
       "| 15.80 | 26.66 | 39.78 | 23.25 |  75.45 | 0.60 | 0.39 | 2023-08-26 |\n",
       "| 11.84 | 20.14 | 31.63 | 24.70 |  69.46 | 0.44 | 0.35 | 2023-08-31 |\n",
       "\n"
      ],
      "text/plain": [
       "  PM25  PM10  NO2   NO    NOx    CO   C6H6 data      \n",
       "1 11.76 25.04 44.57 38.83 104.11 0.60 0.47 2023-08-01\n",
       "2  7.33 11.05 21.68 19.17  51.08 0.51 0.35 2023-08-06\n",
       "3 14.11 25.50 46.44 29.56  91.77 0.56 0.48 2023-08-11\n",
       "4 22.84 39.57 51.76 30.82  98.99 0.68 0.52 2023-08-16\n",
       "5 28.46 44.70 46.71 25.49  85.82 0.70 0.48 2023-08-21\n",
       "6 15.80 26.66 39.78 23.25  75.45 0.60 0.39 2023-08-26\n",
       "7 11.84 20.14 31.63 24.70  69.46 0.44 0.35 2023-08-31"
      ]
     },
     "metadata": {},
     "output_type": "display_data"
    }
   ],
   "source": [
    "powietrze[seq(1, 31, by=5), ]"
   ]
  },
  {
   "cell_type": "code",
   "execution_count": 109,
   "metadata": {
    "vscode": {
     "languageId": "r"
    }
   },
   "outputs": [
    {
     "data": {
      "text/html": [
       "<table class=\"dataframe\">\n",
       "<caption>A tibble: 6 × 8</caption>\n",
       "<thead>\n",
       "\t<tr><th scope=col>PM25</th><th scope=col>PM10</th><th scope=col>NO2</th><th scope=col>NO</th><th scope=col>NOx</th><th scope=col>CO</th><th scope=col>C6H6</th><th scope=col>data</th></tr>\n",
       "\t<tr><th scope=col>&lt;dbl&gt;</th><th scope=col>&lt;dbl&gt;</th><th scope=col>&lt;dbl&gt;</th><th scope=col>&lt;dbl&gt;</th><th scope=col>&lt;dbl&gt;</th><th scope=col>&lt;dbl&gt;</th><th scope=col>&lt;dbl&gt;</th><th scope=col>&lt;date&gt;</th></tr>\n",
       "</thead>\n",
       "<tbody>\n",
       "\t<tr><td>14.87</td><td>24.68</td><td>34.70</td><td>41.03</td><td> 97.62</td><td>0.52</td><td>0.55</td><td>2023-09-25</td></tr>\n",
       "\t<tr><td>20.52</td><td>35.74</td><td>42.83</td><td>61.22</td><td>136.71</td><td>0.69</td><td>0.77</td><td>2023-09-26</td></tr>\n",
       "\t<tr><td>22.40</td><td>40.54</td><td>54.05</td><td>58.90</td><td>141.76</td><td>0.73</td><td>0.92</td><td>2023-09-27</td></tr>\n",
       "\t<tr><td>22.01</td><td>42.59</td><td>54.23</td><td>77.60</td><td>173.21</td><td>0.78</td><td>0.95</td><td>2023-09-28</td></tr>\n",
       "\t<tr><td>20.43</td><td>37.56</td><td>53.53</td><td>81.55</td><td>178.57</td><td>0.76</td><td>0.82</td><td>2023-09-29</td></tr>\n",
       "\t<tr><td>18.87</td><td>28.12</td><td>35.67</td><td>64.76</td><td>134.96</td><td>0.73</td><td>0.73</td><td>2023-09-30</td></tr>\n",
       "</tbody>\n",
       "</table>\n"
      ],
      "text/latex": [
       "A tibble: 6 × 8\n",
       "\\begin{tabular}{llllllll}\n",
       " PM25 & PM10 & NO2 & NO & NOx & CO & C6H6 & data\\\\\n",
       " <dbl> & <dbl> & <dbl> & <dbl> & <dbl> & <dbl> & <dbl> & <date>\\\\\n",
       "\\hline\n",
       "\t 14.87 & 24.68 & 34.70 & 41.03 &  97.62 & 0.52 & 0.55 & 2023-09-25\\\\\n",
       "\t 20.52 & 35.74 & 42.83 & 61.22 & 136.71 & 0.69 & 0.77 & 2023-09-26\\\\\n",
       "\t 22.40 & 40.54 & 54.05 & 58.90 & 141.76 & 0.73 & 0.92 & 2023-09-27\\\\\n",
       "\t 22.01 & 42.59 & 54.23 & 77.60 & 173.21 & 0.78 & 0.95 & 2023-09-28\\\\\n",
       "\t 20.43 & 37.56 & 53.53 & 81.55 & 178.57 & 0.76 & 0.82 & 2023-09-29\\\\\n",
       "\t 18.87 & 28.12 & 35.67 & 64.76 & 134.96 & 0.73 & 0.73 & 2023-09-30\\\\\n",
       "\\end{tabular}\n"
      ],
      "text/markdown": [
       "\n",
       "A tibble: 6 × 8\n",
       "\n",
       "| PM25 &lt;dbl&gt; | PM10 &lt;dbl&gt; | NO2 &lt;dbl&gt; | NO &lt;dbl&gt; | NOx &lt;dbl&gt; | CO &lt;dbl&gt; | C6H6 &lt;dbl&gt; | data &lt;date&gt; |\n",
       "|---|---|---|---|---|---|---|---|\n",
       "| 14.87 | 24.68 | 34.70 | 41.03 |  97.62 | 0.52 | 0.55 | 2023-09-25 |\n",
       "| 20.52 | 35.74 | 42.83 | 61.22 | 136.71 | 0.69 | 0.77 | 2023-09-26 |\n",
       "| 22.40 | 40.54 | 54.05 | 58.90 | 141.76 | 0.73 | 0.92 | 2023-09-27 |\n",
       "| 22.01 | 42.59 | 54.23 | 77.60 | 173.21 | 0.78 | 0.95 | 2023-09-28 |\n",
       "| 20.43 | 37.56 | 53.53 | 81.55 | 178.57 | 0.76 | 0.82 | 2023-09-29 |\n",
       "| 18.87 | 28.12 | 35.67 | 64.76 | 134.96 | 0.73 | 0.73 | 2023-09-30 |\n",
       "\n"
      ],
      "text/plain": [
       "  PM25  PM10  NO2   NO    NOx    CO   C6H6 data      \n",
       "1 14.87 24.68 34.70 41.03  97.62 0.52 0.55 2023-09-25\n",
       "2 20.52 35.74 42.83 61.22 136.71 0.69 0.77 2023-09-26\n",
       "3 22.40 40.54 54.05 58.90 141.76 0.73 0.92 2023-09-27\n",
       "4 22.01 42.59 54.23 77.60 173.21 0.78 0.95 2023-09-28\n",
       "5 20.43 37.56 53.53 81.55 178.57 0.76 0.82 2023-09-29\n",
       "6 18.87 28.12 35.67 64.76 134.96 0.73 0.73 2023-09-30"
      ]
     },
     "metadata": {},
     "output_type": "display_data"
    }
   ],
   "source": [
    "tail(powietrze)"
   ]
  },
  {
   "cell_type": "code",
   "execution_count": 110,
   "metadata": {
    "id": "ikLaNJVJfR19",
    "vscode": {
     "languageId": "r"
    }
   },
   "outputs": [
    {
     "data": {
      "text/html": [
       "FALSE"
      ],
      "text/latex": [
       "FALSE"
      ],
      "text/markdown": [
       "FALSE"
      ],
      "text/plain": [
       "[1] FALSE"
      ]
     },
     "metadata": {},
     "output_type": "display_data"
    },
    {
     "data": {
      "text/html": [
       "FALSE"
      ],
      "text/latex": [
       "FALSE"
      ],
      "text/markdown": [
       "FALSE"
      ],
      "text/plain": [
       "[1] FALSE"
      ]
     },
     "metadata": {},
     "output_type": "display_data"
    }
   ],
   "source": [
    "# Sprawdź, czy zmienna `PM25` zawiera brakujące dane.\n",
    "\n",
    "any(is.na(powietrze$PM25))\n",
    "!all(!is.na(powietrze$PM25))"
   ]
  },
  {
   "cell_type": "code",
   "execution_count": 111,
   "metadata": {
    "id": "YKcZqgv9fVbF",
    "vscode": {
     "languageId": "r"
    }
   },
   "outputs": [
    {
     "data": {
      "text/html": [
       "<table class=\"dataframe\">\n",
       "<caption>A tibble: 46 × 8</caption>\n",
       "<thead>\n",
       "\t<tr><th scope=col>PM25</th><th scope=col>PM10</th><th scope=col>NO2</th><th scope=col>NO</th><th scope=col>NOx</th><th scope=col>CO</th><th scope=col>C6H6</th><th scope=col>data</th></tr>\n",
       "\t<tr><th scope=col>&lt;dbl&gt;</th><th scope=col>&lt;dbl&gt;</th><th scope=col>&lt;dbl&gt;</th><th scope=col>&lt;dbl&gt;</th><th scope=col>&lt;dbl&gt;</th><th scope=col>&lt;dbl&gt;</th><th scope=col>&lt;dbl&gt;</th><th scope=col>&lt;date&gt;</th></tr>\n",
       "</thead>\n",
       "<tbody>\n",
       "\t<tr><td>11.76</td><td>25.04</td><td>44.57</td><td>38.83</td><td>104.11</td><td>0.60</td><td>0.47</td><td>2023-08-01</td></tr>\n",
       "\t<tr><td> 8.38</td><td>22.75</td><td>50.06</td><td>36.20</td><td>107.94</td><td>0.63</td><td>0.48</td><td>2023-08-03</td></tr>\n",
       "\t<tr><td>10.00</td><td>24.70</td><td>47.40</td><td>38.62</td><td>106.62</td><td>0.61</td><td>0.47</td><td>2023-08-04</td></tr>\n",
       "\t<tr><td>11.70</td><td>20.69</td><td>40.60</td><td>24.98</td><td> 78.89</td><td>0.50</td><td>0.36</td><td>2023-08-10</td></tr>\n",
       "\t<tr><td>14.11</td><td>25.50</td><td>46.44</td><td>29.56</td><td> 91.77</td><td>0.56</td><td>0.48</td><td>2023-08-11</td></tr>\n",
       "\t<tr><td>15.21</td><td>25.27</td><td>46.76</td><td>23.23</td><td> 82.36</td><td>0.58</td><td>0.46</td><td>2023-08-12</td></tr>\n",
       "\t<tr><td>15.60</td><td>25.22</td><td>39.52</td><td>25.12</td><td> 79.68</td><td>0.61</td><td>0.49</td><td>2023-08-13</td></tr>\n",
       "\t<tr><td>16.94</td><td>30.36</td><td>48.56</td><td>26.48</td><td> 89.20</td><td>0.61</td><td>0.42</td><td>2023-08-14</td></tr>\n",
       "\t<tr><td>20.64</td><td>33.34</td><td>37.08</td><td>20.39</td><td> 68.35</td><td>0.62</td><td>0.51</td><td>2023-08-15</td></tr>\n",
       "\t<tr><td>22.84</td><td>39.57</td><td>51.76</td><td>30.82</td><td> 98.99</td><td>0.68</td><td>0.52</td><td>2023-08-16</td></tr>\n",
       "\t<tr><td>18.80</td><td>34.17</td><td>45.54</td><td>28.41</td><td> 89.10</td><td>0.60</td><td>0.53</td><td>2023-08-17</td></tr>\n",
       "\t<tr><td>17.13</td><td>31.02</td><td>43.39</td><td>28.32</td><td> 88.69</td><td>0.59</td><td>0.47</td><td>2023-08-18</td></tr>\n",
       "\t<tr><td>18.93</td><td>28.18</td><td>34.96</td><td>21.90</td><td> 68.56</td><td>0.60</td><td>0.39</td><td>2023-08-19</td></tr>\n",
       "\t<tr><td>21.84</td><td>31.13</td><td>32.15</td><td>16.01</td><td> 56.69</td><td>0.59</td><td>0.37</td><td>2023-08-20</td></tr>\n",
       "\t<tr><td>28.46</td><td>44.70</td><td>46.71</td><td>25.49</td><td> 85.82</td><td>0.70</td><td>0.48</td><td>2023-08-21</td></tr>\n",
       "\t<tr><td>17.43</td><td>31.93</td><td>53.86</td><td>26.97</td><td> 95.22</td><td>0.60</td><td>0.57</td><td>2023-08-22</td></tr>\n",
       "\t<tr><td>25.27</td><td>37.15</td><td>42.59</td><td>20.65</td><td> 75.60</td><td>0.59</td><td>0.46</td><td>2023-08-23</td></tr>\n",
       "\t<tr><td>18.18</td><td>30.22</td><td>51.88</td><td>23.24</td><td> 87.51</td><td>0.59</td><td>0.49</td><td>2023-08-24</td></tr>\n",
       "\t<tr><td>23.05</td><td>42.98</td><td>54.96</td><td>32.09</td><td>104.21</td><td>0.69</td><td>0.82</td><td>2023-08-25</td></tr>\n",
       "\t<tr><td>15.80</td><td>26.66</td><td>39.78</td><td>23.25</td><td> 75.45</td><td>0.60</td><td>0.39</td><td>2023-08-26</td></tr>\n",
       "\t<tr><td>13.89</td><td>20.74</td><td>31.65</td><td>17.87</td><td> 59.06</td><td>0.58</td><td>0.39</td><td>2023-08-27</td></tr>\n",
       "\t<tr><td>12.51</td><td>20.93</td><td>33.74</td><td>28.63</td><td> 79.54</td><td>0.58</td><td>0.38</td><td>2023-08-28</td></tr>\n",
       "\t<tr><td>15.03</td><td>24.92</td><td>35.63</td><td>34.48</td><td> 88.49</td><td>0.62</td><td>0.48</td><td>2023-08-29</td></tr>\n",
       "\t<tr><td>13.00</td><td>20.34</td><td>24.91</td><td>24.24</td><td> 65.40</td><td>0.51</td><td>0.40</td><td>2023-08-30</td></tr>\n",
       "\t<tr><td>11.84</td><td>20.14</td><td>31.63</td><td>24.70</td><td> 69.46</td><td>0.44</td><td>0.35</td><td>2023-08-31</td></tr>\n",
       "\t<tr><td>12.33</td><td>24.75</td><td>40.06</td><td>29.19</td><td> 84.80</td><td>0.48</td><td>0.40</td><td>2023-09-04</td></tr>\n",
       "\t<tr><td>13.65</td><td>24.45</td><td>51.08</td><td>48.98</td><td>126.15</td><td>0.60</td><td>0.70</td><td>2023-09-05</td></tr>\n",
       "\t<tr><td>16.19</td><td>29.37</td><td>54.47</td><td>51.79</td><td>133.87</td><td>0.64</td><td>0.82</td><td>2023-09-06</td></tr>\n",
       "\t<tr><td>21.18</td><td>37.08</td><td>58.63</td><td>58.48</td><td>145.75</td><td>0.70</td><td>0.99</td><td>2023-09-07</td></tr>\n",
       "\t<tr><td>25.77</td><td>40.78</td><td>60.34</td><td>64.14</td><td>158.68</td><td>0.72</td><td>1.09</td><td>2023-09-08</td></tr>\n",
       "\t<tr><td>26.55</td><td>36.32</td><td>53.00</td><td>42.51</td><td>118.19</td><td>0.68</td><td>0.91</td><td>2023-09-09</td></tr>\n",
       "\t<tr><td>27.07</td><td>35.78</td><td>48.39</td><td>36.50</td><td>104.34</td><td>0.71</td><td>0.84</td><td>2023-09-10</td></tr>\n",
       "\t<tr><td>20.21</td><td>34.22</td><td>48.63</td><td>34.36</td><td>101.31</td><td>0.58</td><td>0.59</td><td>2023-09-11</td></tr>\n",
       "\t<tr><td>26.47</td><td>42.52</td><td>52.46</td><td>34.60</td><td>103.28</td><td>0.65</td><td>0.63</td><td>2023-09-12</td></tr>\n",
       "\t<tr><td>28.10</td><td>47.05</td><td>52.71</td><td>30.89</td><td>100.06</td><td>0.61</td><td>0.59</td><td>2023-09-13</td></tr>\n",
       "\t<tr><td>18.15</td><td>26.19</td><td>37.75</td><td>31.75</td><td> 86.42</td><td>0.55</td><td>1.08</td><td>2023-09-16</td></tr>\n",
       "\t<tr><td>15.68</td><td>29.02</td><td>50.08</td><td>59.76</td><td>141.71</td><td>0.66</td><td>0.77</td><td>2023-09-18</td></tr>\n",
       "\t<tr><td>14.03</td><td>22.52</td><td>39.49</td><td>46.11</td><td>110.21</td><td>0.55</td><td>0.45</td><td>2023-09-19</td></tr>\n",
       "\t<tr><td> 9.70</td><td>22.92</td><td>53.74</td><td>66.64</td><td>155.92</td><td>0.67</td><td>0.90</td><td>2023-09-21</td></tr>\n",
       "\t<tr><td>13.72</td><td>30.92</td><td>52.37</td><td>49.10</td><td>125.62</td><td>0.62</td><td>0.69</td><td>2023-09-22</td></tr>\n",
       "\t<tr><td>14.87</td><td>24.68</td><td>34.70</td><td>41.03</td><td> 97.62</td><td>0.52</td><td>0.55</td><td>2023-09-25</td></tr>\n",
       "\t<tr><td>20.52</td><td>35.74</td><td>42.83</td><td>61.22</td><td>136.71</td><td>0.69</td><td>0.77</td><td>2023-09-26</td></tr>\n",
       "\t<tr><td>22.40</td><td>40.54</td><td>54.05</td><td>58.90</td><td>141.76</td><td>0.73</td><td>0.92</td><td>2023-09-27</td></tr>\n",
       "\t<tr><td>22.01</td><td>42.59</td><td>54.23</td><td>77.60</td><td>173.21</td><td>0.78</td><td>0.95</td><td>2023-09-28</td></tr>\n",
       "\t<tr><td>20.43</td><td>37.56</td><td>53.53</td><td>81.55</td><td>178.57</td><td>0.76</td><td>0.82</td><td>2023-09-29</td></tr>\n",
       "\t<tr><td>18.87</td><td>28.12</td><td>35.67</td><td>64.76</td><td>134.96</td><td>0.73</td><td>0.73</td><td>2023-09-30</td></tr>\n",
       "</tbody>\n",
       "</table>\n"
      ],
      "text/latex": [
       "A tibble: 46 × 8\n",
       "\\begin{tabular}{llllllll}\n",
       " PM25 & PM10 & NO2 & NO & NOx & CO & C6H6 & data\\\\\n",
       " <dbl> & <dbl> & <dbl> & <dbl> & <dbl> & <dbl> & <dbl> & <date>\\\\\n",
       "\\hline\n",
       "\t 11.76 & 25.04 & 44.57 & 38.83 & 104.11 & 0.60 & 0.47 & 2023-08-01\\\\\n",
       "\t  8.38 & 22.75 & 50.06 & 36.20 & 107.94 & 0.63 & 0.48 & 2023-08-03\\\\\n",
       "\t 10.00 & 24.70 & 47.40 & 38.62 & 106.62 & 0.61 & 0.47 & 2023-08-04\\\\\n",
       "\t 11.70 & 20.69 & 40.60 & 24.98 &  78.89 & 0.50 & 0.36 & 2023-08-10\\\\\n",
       "\t 14.11 & 25.50 & 46.44 & 29.56 &  91.77 & 0.56 & 0.48 & 2023-08-11\\\\\n",
       "\t 15.21 & 25.27 & 46.76 & 23.23 &  82.36 & 0.58 & 0.46 & 2023-08-12\\\\\n",
       "\t 15.60 & 25.22 & 39.52 & 25.12 &  79.68 & 0.61 & 0.49 & 2023-08-13\\\\\n",
       "\t 16.94 & 30.36 & 48.56 & 26.48 &  89.20 & 0.61 & 0.42 & 2023-08-14\\\\\n",
       "\t 20.64 & 33.34 & 37.08 & 20.39 &  68.35 & 0.62 & 0.51 & 2023-08-15\\\\\n",
       "\t 22.84 & 39.57 & 51.76 & 30.82 &  98.99 & 0.68 & 0.52 & 2023-08-16\\\\\n",
       "\t 18.80 & 34.17 & 45.54 & 28.41 &  89.10 & 0.60 & 0.53 & 2023-08-17\\\\\n",
       "\t 17.13 & 31.02 & 43.39 & 28.32 &  88.69 & 0.59 & 0.47 & 2023-08-18\\\\\n",
       "\t 18.93 & 28.18 & 34.96 & 21.90 &  68.56 & 0.60 & 0.39 & 2023-08-19\\\\\n",
       "\t 21.84 & 31.13 & 32.15 & 16.01 &  56.69 & 0.59 & 0.37 & 2023-08-20\\\\\n",
       "\t 28.46 & 44.70 & 46.71 & 25.49 &  85.82 & 0.70 & 0.48 & 2023-08-21\\\\\n",
       "\t 17.43 & 31.93 & 53.86 & 26.97 &  95.22 & 0.60 & 0.57 & 2023-08-22\\\\\n",
       "\t 25.27 & 37.15 & 42.59 & 20.65 &  75.60 & 0.59 & 0.46 & 2023-08-23\\\\\n",
       "\t 18.18 & 30.22 & 51.88 & 23.24 &  87.51 & 0.59 & 0.49 & 2023-08-24\\\\\n",
       "\t 23.05 & 42.98 & 54.96 & 32.09 & 104.21 & 0.69 & 0.82 & 2023-08-25\\\\\n",
       "\t 15.80 & 26.66 & 39.78 & 23.25 &  75.45 & 0.60 & 0.39 & 2023-08-26\\\\\n",
       "\t 13.89 & 20.74 & 31.65 & 17.87 &  59.06 & 0.58 & 0.39 & 2023-08-27\\\\\n",
       "\t 12.51 & 20.93 & 33.74 & 28.63 &  79.54 & 0.58 & 0.38 & 2023-08-28\\\\\n",
       "\t 15.03 & 24.92 & 35.63 & 34.48 &  88.49 & 0.62 & 0.48 & 2023-08-29\\\\\n",
       "\t 13.00 & 20.34 & 24.91 & 24.24 &  65.40 & 0.51 & 0.40 & 2023-08-30\\\\\n",
       "\t 11.84 & 20.14 & 31.63 & 24.70 &  69.46 & 0.44 & 0.35 & 2023-08-31\\\\\n",
       "\t 12.33 & 24.75 & 40.06 & 29.19 &  84.80 & 0.48 & 0.40 & 2023-09-04\\\\\n",
       "\t 13.65 & 24.45 & 51.08 & 48.98 & 126.15 & 0.60 & 0.70 & 2023-09-05\\\\\n",
       "\t 16.19 & 29.37 & 54.47 & 51.79 & 133.87 & 0.64 & 0.82 & 2023-09-06\\\\\n",
       "\t 21.18 & 37.08 & 58.63 & 58.48 & 145.75 & 0.70 & 0.99 & 2023-09-07\\\\\n",
       "\t 25.77 & 40.78 & 60.34 & 64.14 & 158.68 & 0.72 & 1.09 & 2023-09-08\\\\\n",
       "\t 26.55 & 36.32 & 53.00 & 42.51 & 118.19 & 0.68 & 0.91 & 2023-09-09\\\\\n",
       "\t 27.07 & 35.78 & 48.39 & 36.50 & 104.34 & 0.71 & 0.84 & 2023-09-10\\\\\n",
       "\t 20.21 & 34.22 & 48.63 & 34.36 & 101.31 & 0.58 & 0.59 & 2023-09-11\\\\\n",
       "\t 26.47 & 42.52 & 52.46 & 34.60 & 103.28 & 0.65 & 0.63 & 2023-09-12\\\\\n",
       "\t 28.10 & 47.05 & 52.71 & 30.89 & 100.06 & 0.61 & 0.59 & 2023-09-13\\\\\n",
       "\t 18.15 & 26.19 & 37.75 & 31.75 &  86.42 & 0.55 & 1.08 & 2023-09-16\\\\\n",
       "\t 15.68 & 29.02 & 50.08 & 59.76 & 141.71 & 0.66 & 0.77 & 2023-09-18\\\\\n",
       "\t 14.03 & 22.52 & 39.49 & 46.11 & 110.21 & 0.55 & 0.45 & 2023-09-19\\\\\n",
       "\t  9.70 & 22.92 & 53.74 & 66.64 & 155.92 & 0.67 & 0.90 & 2023-09-21\\\\\n",
       "\t 13.72 & 30.92 & 52.37 & 49.10 & 125.62 & 0.62 & 0.69 & 2023-09-22\\\\\n",
       "\t 14.87 & 24.68 & 34.70 & 41.03 &  97.62 & 0.52 & 0.55 & 2023-09-25\\\\\n",
       "\t 20.52 & 35.74 & 42.83 & 61.22 & 136.71 & 0.69 & 0.77 & 2023-09-26\\\\\n",
       "\t 22.40 & 40.54 & 54.05 & 58.90 & 141.76 & 0.73 & 0.92 & 2023-09-27\\\\\n",
       "\t 22.01 & 42.59 & 54.23 & 77.60 & 173.21 & 0.78 & 0.95 & 2023-09-28\\\\\n",
       "\t 20.43 & 37.56 & 53.53 & 81.55 & 178.57 & 0.76 & 0.82 & 2023-09-29\\\\\n",
       "\t 18.87 & 28.12 & 35.67 & 64.76 & 134.96 & 0.73 & 0.73 & 2023-09-30\\\\\n",
       "\\end{tabular}\n"
      ],
      "text/markdown": [
       "\n",
       "A tibble: 46 × 8\n",
       "\n",
       "| PM25 &lt;dbl&gt; | PM10 &lt;dbl&gt; | NO2 &lt;dbl&gt; | NO &lt;dbl&gt; | NOx &lt;dbl&gt; | CO &lt;dbl&gt; | C6H6 &lt;dbl&gt; | data &lt;date&gt; |\n",
       "|---|---|---|---|---|---|---|---|\n",
       "| 11.76 | 25.04 | 44.57 | 38.83 | 104.11 | 0.60 | 0.47 | 2023-08-01 |\n",
       "|  8.38 | 22.75 | 50.06 | 36.20 | 107.94 | 0.63 | 0.48 | 2023-08-03 |\n",
       "| 10.00 | 24.70 | 47.40 | 38.62 | 106.62 | 0.61 | 0.47 | 2023-08-04 |\n",
       "| 11.70 | 20.69 | 40.60 | 24.98 |  78.89 | 0.50 | 0.36 | 2023-08-10 |\n",
       "| 14.11 | 25.50 | 46.44 | 29.56 |  91.77 | 0.56 | 0.48 | 2023-08-11 |\n",
       "| 15.21 | 25.27 | 46.76 | 23.23 |  82.36 | 0.58 | 0.46 | 2023-08-12 |\n",
       "| 15.60 | 25.22 | 39.52 | 25.12 |  79.68 | 0.61 | 0.49 | 2023-08-13 |\n",
       "| 16.94 | 30.36 | 48.56 | 26.48 |  89.20 | 0.61 | 0.42 | 2023-08-14 |\n",
       "| 20.64 | 33.34 | 37.08 | 20.39 |  68.35 | 0.62 | 0.51 | 2023-08-15 |\n",
       "| 22.84 | 39.57 | 51.76 | 30.82 |  98.99 | 0.68 | 0.52 | 2023-08-16 |\n",
       "| 18.80 | 34.17 | 45.54 | 28.41 |  89.10 | 0.60 | 0.53 | 2023-08-17 |\n",
       "| 17.13 | 31.02 | 43.39 | 28.32 |  88.69 | 0.59 | 0.47 | 2023-08-18 |\n",
       "| 18.93 | 28.18 | 34.96 | 21.90 |  68.56 | 0.60 | 0.39 | 2023-08-19 |\n",
       "| 21.84 | 31.13 | 32.15 | 16.01 |  56.69 | 0.59 | 0.37 | 2023-08-20 |\n",
       "| 28.46 | 44.70 | 46.71 | 25.49 |  85.82 | 0.70 | 0.48 | 2023-08-21 |\n",
       "| 17.43 | 31.93 | 53.86 | 26.97 |  95.22 | 0.60 | 0.57 | 2023-08-22 |\n",
       "| 25.27 | 37.15 | 42.59 | 20.65 |  75.60 | 0.59 | 0.46 | 2023-08-23 |\n",
       "| 18.18 | 30.22 | 51.88 | 23.24 |  87.51 | 0.59 | 0.49 | 2023-08-24 |\n",
       "| 23.05 | 42.98 | 54.96 | 32.09 | 104.21 | 0.69 | 0.82 | 2023-08-25 |\n",
       "| 15.80 | 26.66 | 39.78 | 23.25 |  75.45 | 0.60 | 0.39 | 2023-08-26 |\n",
       "| 13.89 | 20.74 | 31.65 | 17.87 |  59.06 | 0.58 | 0.39 | 2023-08-27 |\n",
       "| 12.51 | 20.93 | 33.74 | 28.63 |  79.54 | 0.58 | 0.38 | 2023-08-28 |\n",
       "| 15.03 | 24.92 | 35.63 | 34.48 |  88.49 | 0.62 | 0.48 | 2023-08-29 |\n",
       "| 13.00 | 20.34 | 24.91 | 24.24 |  65.40 | 0.51 | 0.40 | 2023-08-30 |\n",
       "| 11.84 | 20.14 | 31.63 | 24.70 |  69.46 | 0.44 | 0.35 | 2023-08-31 |\n",
       "| 12.33 | 24.75 | 40.06 | 29.19 |  84.80 | 0.48 | 0.40 | 2023-09-04 |\n",
       "| 13.65 | 24.45 | 51.08 | 48.98 | 126.15 | 0.60 | 0.70 | 2023-09-05 |\n",
       "| 16.19 | 29.37 | 54.47 | 51.79 | 133.87 | 0.64 | 0.82 | 2023-09-06 |\n",
       "| 21.18 | 37.08 | 58.63 | 58.48 | 145.75 | 0.70 | 0.99 | 2023-09-07 |\n",
       "| 25.77 | 40.78 | 60.34 | 64.14 | 158.68 | 0.72 | 1.09 | 2023-09-08 |\n",
       "| 26.55 | 36.32 | 53.00 | 42.51 | 118.19 | 0.68 | 0.91 | 2023-09-09 |\n",
       "| 27.07 | 35.78 | 48.39 | 36.50 | 104.34 | 0.71 | 0.84 | 2023-09-10 |\n",
       "| 20.21 | 34.22 | 48.63 | 34.36 | 101.31 | 0.58 | 0.59 | 2023-09-11 |\n",
       "| 26.47 | 42.52 | 52.46 | 34.60 | 103.28 | 0.65 | 0.63 | 2023-09-12 |\n",
       "| 28.10 | 47.05 | 52.71 | 30.89 | 100.06 | 0.61 | 0.59 | 2023-09-13 |\n",
       "| 18.15 | 26.19 | 37.75 | 31.75 |  86.42 | 0.55 | 1.08 | 2023-09-16 |\n",
       "| 15.68 | 29.02 | 50.08 | 59.76 | 141.71 | 0.66 | 0.77 | 2023-09-18 |\n",
       "| 14.03 | 22.52 | 39.49 | 46.11 | 110.21 | 0.55 | 0.45 | 2023-09-19 |\n",
       "|  9.70 | 22.92 | 53.74 | 66.64 | 155.92 | 0.67 | 0.90 | 2023-09-21 |\n",
       "| 13.72 | 30.92 | 52.37 | 49.10 | 125.62 | 0.62 | 0.69 | 2023-09-22 |\n",
       "| 14.87 | 24.68 | 34.70 | 41.03 |  97.62 | 0.52 | 0.55 | 2023-09-25 |\n",
       "| 20.52 | 35.74 | 42.83 | 61.22 | 136.71 | 0.69 | 0.77 | 2023-09-26 |\n",
       "| 22.40 | 40.54 | 54.05 | 58.90 | 141.76 | 0.73 | 0.92 | 2023-09-27 |\n",
       "| 22.01 | 42.59 | 54.23 | 77.60 | 173.21 | 0.78 | 0.95 | 2023-09-28 |\n",
       "| 20.43 | 37.56 | 53.53 | 81.55 | 178.57 | 0.76 | 0.82 | 2023-09-29 |\n",
       "| 18.87 | 28.12 | 35.67 | 64.76 | 134.96 | 0.73 | 0.73 | 2023-09-30 |\n",
       "\n"
      ],
      "text/plain": [
       "   PM25  PM10  NO2   NO    NOx    CO   C6H6 data      \n",
       "1  11.76 25.04 44.57 38.83 104.11 0.60 0.47 2023-08-01\n",
       "2   8.38 22.75 50.06 36.20 107.94 0.63 0.48 2023-08-03\n",
       "3  10.00 24.70 47.40 38.62 106.62 0.61 0.47 2023-08-04\n",
       "4  11.70 20.69 40.60 24.98  78.89 0.50 0.36 2023-08-10\n",
       "5  14.11 25.50 46.44 29.56  91.77 0.56 0.48 2023-08-11\n",
       "6  15.21 25.27 46.76 23.23  82.36 0.58 0.46 2023-08-12\n",
       "7  15.60 25.22 39.52 25.12  79.68 0.61 0.49 2023-08-13\n",
       "8  16.94 30.36 48.56 26.48  89.20 0.61 0.42 2023-08-14\n",
       "9  20.64 33.34 37.08 20.39  68.35 0.62 0.51 2023-08-15\n",
       "10 22.84 39.57 51.76 30.82  98.99 0.68 0.52 2023-08-16\n",
       "11 18.80 34.17 45.54 28.41  89.10 0.60 0.53 2023-08-17\n",
       "12 17.13 31.02 43.39 28.32  88.69 0.59 0.47 2023-08-18\n",
       "13 18.93 28.18 34.96 21.90  68.56 0.60 0.39 2023-08-19\n",
       "14 21.84 31.13 32.15 16.01  56.69 0.59 0.37 2023-08-20\n",
       "15 28.46 44.70 46.71 25.49  85.82 0.70 0.48 2023-08-21\n",
       "16 17.43 31.93 53.86 26.97  95.22 0.60 0.57 2023-08-22\n",
       "17 25.27 37.15 42.59 20.65  75.60 0.59 0.46 2023-08-23\n",
       "18 18.18 30.22 51.88 23.24  87.51 0.59 0.49 2023-08-24\n",
       "19 23.05 42.98 54.96 32.09 104.21 0.69 0.82 2023-08-25\n",
       "20 15.80 26.66 39.78 23.25  75.45 0.60 0.39 2023-08-26\n",
       "21 13.89 20.74 31.65 17.87  59.06 0.58 0.39 2023-08-27\n",
       "22 12.51 20.93 33.74 28.63  79.54 0.58 0.38 2023-08-28\n",
       "23 15.03 24.92 35.63 34.48  88.49 0.62 0.48 2023-08-29\n",
       "24 13.00 20.34 24.91 24.24  65.40 0.51 0.40 2023-08-30\n",
       "25 11.84 20.14 31.63 24.70  69.46 0.44 0.35 2023-08-31\n",
       "26 12.33 24.75 40.06 29.19  84.80 0.48 0.40 2023-09-04\n",
       "27 13.65 24.45 51.08 48.98 126.15 0.60 0.70 2023-09-05\n",
       "28 16.19 29.37 54.47 51.79 133.87 0.64 0.82 2023-09-06\n",
       "29 21.18 37.08 58.63 58.48 145.75 0.70 0.99 2023-09-07\n",
       "30 25.77 40.78 60.34 64.14 158.68 0.72 1.09 2023-09-08\n",
       "31 26.55 36.32 53.00 42.51 118.19 0.68 0.91 2023-09-09\n",
       "32 27.07 35.78 48.39 36.50 104.34 0.71 0.84 2023-09-10\n",
       "33 20.21 34.22 48.63 34.36 101.31 0.58 0.59 2023-09-11\n",
       "34 26.47 42.52 52.46 34.60 103.28 0.65 0.63 2023-09-12\n",
       "35 28.10 47.05 52.71 30.89 100.06 0.61 0.59 2023-09-13\n",
       "36 18.15 26.19 37.75 31.75  86.42 0.55 1.08 2023-09-16\n",
       "37 15.68 29.02 50.08 59.76 141.71 0.66 0.77 2023-09-18\n",
       "38 14.03 22.52 39.49 46.11 110.21 0.55 0.45 2023-09-19\n",
       "39  9.70 22.92 53.74 66.64 155.92 0.67 0.90 2023-09-21\n",
       "40 13.72 30.92 52.37 49.10 125.62 0.62 0.69 2023-09-22\n",
       "41 14.87 24.68 34.70 41.03  97.62 0.52 0.55 2023-09-25\n",
       "42 20.52 35.74 42.83 61.22 136.71 0.69 0.77 2023-09-26\n",
       "43 22.40 40.54 54.05 58.90 141.76 0.73 0.92 2023-09-27\n",
       "44 22.01 42.59 54.23 77.60 173.21 0.78 0.95 2023-09-28\n",
       "45 20.43 37.56 53.53 81.55 178.57 0.76 0.82 2023-09-29\n",
       "46 18.87 28.12 35.67 64.76 134.96 0.73 0.73 2023-09-30"
      ]
     },
     "metadata": {},
     "output_type": "display_data"
    }
   ],
   "source": [
    "# Wyświetl wszystkie dane, dla których `PM10` przekracza wartość 20.\n",
    "# Zwróć uwagę, że funkcja `which()` sprawia, że nie wyświetlają się wiersze, dla których `PM10` przyjmuje wartość `NA`.\n",
    "\n",
    "powietrze[(powietrze$PM10 > 20),]"
   ]
  },
  {
   "cell_type": "code",
   "execution_count": 112,
   "metadata": {
    "vscode": {
     "languageId": "r"
    }
   },
   "outputs": [
    {
     "data": {
      "text/html": [
       "<table class=\"dataframe\">\n",
       "<caption>A tibble: 46 × 8</caption>\n",
       "<thead>\n",
       "\t<tr><th scope=col>PM25</th><th scope=col>PM10</th><th scope=col>NO2</th><th scope=col>NO</th><th scope=col>NOx</th><th scope=col>CO</th><th scope=col>C6H6</th><th scope=col>data</th></tr>\n",
       "\t<tr><th scope=col>&lt;dbl&gt;</th><th scope=col>&lt;dbl&gt;</th><th scope=col>&lt;dbl&gt;</th><th scope=col>&lt;dbl&gt;</th><th scope=col>&lt;dbl&gt;</th><th scope=col>&lt;dbl&gt;</th><th scope=col>&lt;dbl&gt;</th><th scope=col>&lt;date&gt;</th></tr>\n",
       "</thead>\n",
       "<tbody>\n",
       "\t<tr><td>11.76</td><td>25.04</td><td>44.57</td><td>38.83</td><td>104.11</td><td>0.60</td><td>0.47</td><td>2023-08-01</td></tr>\n",
       "\t<tr><td> 8.38</td><td>22.75</td><td>50.06</td><td>36.20</td><td>107.94</td><td>0.63</td><td>0.48</td><td>2023-08-03</td></tr>\n",
       "\t<tr><td>10.00</td><td>24.70</td><td>47.40</td><td>38.62</td><td>106.62</td><td>0.61</td><td>0.47</td><td>2023-08-04</td></tr>\n",
       "\t<tr><td>11.70</td><td>20.69</td><td>40.60</td><td>24.98</td><td> 78.89</td><td>0.50</td><td>0.36</td><td>2023-08-10</td></tr>\n",
       "\t<tr><td>14.11</td><td>25.50</td><td>46.44</td><td>29.56</td><td> 91.77</td><td>0.56</td><td>0.48</td><td>2023-08-11</td></tr>\n",
       "\t<tr><td>15.21</td><td>25.27</td><td>46.76</td><td>23.23</td><td> 82.36</td><td>0.58</td><td>0.46</td><td>2023-08-12</td></tr>\n",
       "\t<tr><td>15.60</td><td>25.22</td><td>39.52</td><td>25.12</td><td> 79.68</td><td>0.61</td><td>0.49</td><td>2023-08-13</td></tr>\n",
       "\t<tr><td>16.94</td><td>30.36</td><td>48.56</td><td>26.48</td><td> 89.20</td><td>0.61</td><td>0.42</td><td>2023-08-14</td></tr>\n",
       "\t<tr><td>20.64</td><td>33.34</td><td>37.08</td><td>20.39</td><td> 68.35</td><td>0.62</td><td>0.51</td><td>2023-08-15</td></tr>\n",
       "\t<tr><td>22.84</td><td>39.57</td><td>51.76</td><td>30.82</td><td> 98.99</td><td>0.68</td><td>0.52</td><td>2023-08-16</td></tr>\n",
       "\t<tr><td>18.80</td><td>34.17</td><td>45.54</td><td>28.41</td><td> 89.10</td><td>0.60</td><td>0.53</td><td>2023-08-17</td></tr>\n",
       "\t<tr><td>17.13</td><td>31.02</td><td>43.39</td><td>28.32</td><td> 88.69</td><td>0.59</td><td>0.47</td><td>2023-08-18</td></tr>\n",
       "\t<tr><td>18.93</td><td>28.18</td><td>34.96</td><td>21.90</td><td> 68.56</td><td>0.60</td><td>0.39</td><td>2023-08-19</td></tr>\n",
       "\t<tr><td>21.84</td><td>31.13</td><td>32.15</td><td>16.01</td><td> 56.69</td><td>0.59</td><td>0.37</td><td>2023-08-20</td></tr>\n",
       "\t<tr><td>28.46</td><td>44.70</td><td>46.71</td><td>25.49</td><td> 85.82</td><td>0.70</td><td>0.48</td><td>2023-08-21</td></tr>\n",
       "\t<tr><td>17.43</td><td>31.93</td><td>53.86</td><td>26.97</td><td> 95.22</td><td>0.60</td><td>0.57</td><td>2023-08-22</td></tr>\n",
       "\t<tr><td>25.27</td><td>37.15</td><td>42.59</td><td>20.65</td><td> 75.60</td><td>0.59</td><td>0.46</td><td>2023-08-23</td></tr>\n",
       "\t<tr><td>18.18</td><td>30.22</td><td>51.88</td><td>23.24</td><td> 87.51</td><td>0.59</td><td>0.49</td><td>2023-08-24</td></tr>\n",
       "\t<tr><td>23.05</td><td>42.98</td><td>54.96</td><td>32.09</td><td>104.21</td><td>0.69</td><td>0.82</td><td>2023-08-25</td></tr>\n",
       "\t<tr><td>15.80</td><td>26.66</td><td>39.78</td><td>23.25</td><td> 75.45</td><td>0.60</td><td>0.39</td><td>2023-08-26</td></tr>\n",
       "\t<tr><td>13.89</td><td>20.74</td><td>31.65</td><td>17.87</td><td> 59.06</td><td>0.58</td><td>0.39</td><td>2023-08-27</td></tr>\n",
       "\t<tr><td>12.51</td><td>20.93</td><td>33.74</td><td>28.63</td><td> 79.54</td><td>0.58</td><td>0.38</td><td>2023-08-28</td></tr>\n",
       "\t<tr><td>15.03</td><td>24.92</td><td>35.63</td><td>34.48</td><td> 88.49</td><td>0.62</td><td>0.48</td><td>2023-08-29</td></tr>\n",
       "\t<tr><td>13.00</td><td>20.34</td><td>24.91</td><td>24.24</td><td> 65.40</td><td>0.51</td><td>0.40</td><td>2023-08-30</td></tr>\n",
       "\t<tr><td>11.84</td><td>20.14</td><td>31.63</td><td>24.70</td><td> 69.46</td><td>0.44</td><td>0.35</td><td>2023-08-31</td></tr>\n",
       "\t<tr><td>12.33</td><td>24.75</td><td>40.06</td><td>29.19</td><td> 84.80</td><td>0.48</td><td>0.40</td><td>2023-09-04</td></tr>\n",
       "\t<tr><td>13.65</td><td>24.45</td><td>51.08</td><td>48.98</td><td>126.15</td><td>0.60</td><td>0.70</td><td>2023-09-05</td></tr>\n",
       "\t<tr><td>16.19</td><td>29.37</td><td>54.47</td><td>51.79</td><td>133.87</td><td>0.64</td><td>0.82</td><td>2023-09-06</td></tr>\n",
       "\t<tr><td>21.18</td><td>37.08</td><td>58.63</td><td>58.48</td><td>145.75</td><td>0.70</td><td>0.99</td><td>2023-09-07</td></tr>\n",
       "\t<tr><td>25.77</td><td>40.78</td><td>60.34</td><td>64.14</td><td>158.68</td><td>0.72</td><td>1.09</td><td>2023-09-08</td></tr>\n",
       "\t<tr><td>26.55</td><td>36.32</td><td>53.00</td><td>42.51</td><td>118.19</td><td>0.68</td><td>0.91</td><td>2023-09-09</td></tr>\n",
       "\t<tr><td>27.07</td><td>35.78</td><td>48.39</td><td>36.50</td><td>104.34</td><td>0.71</td><td>0.84</td><td>2023-09-10</td></tr>\n",
       "\t<tr><td>20.21</td><td>34.22</td><td>48.63</td><td>34.36</td><td>101.31</td><td>0.58</td><td>0.59</td><td>2023-09-11</td></tr>\n",
       "\t<tr><td>26.47</td><td>42.52</td><td>52.46</td><td>34.60</td><td>103.28</td><td>0.65</td><td>0.63</td><td>2023-09-12</td></tr>\n",
       "\t<tr><td>28.10</td><td>47.05</td><td>52.71</td><td>30.89</td><td>100.06</td><td>0.61</td><td>0.59</td><td>2023-09-13</td></tr>\n",
       "\t<tr><td>18.15</td><td>26.19</td><td>37.75</td><td>31.75</td><td> 86.42</td><td>0.55</td><td>1.08</td><td>2023-09-16</td></tr>\n",
       "\t<tr><td>15.68</td><td>29.02</td><td>50.08</td><td>59.76</td><td>141.71</td><td>0.66</td><td>0.77</td><td>2023-09-18</td></tr>\n",
       "\t<tr><td>14.03</td><td>22.52</td><td>39.49</td><td>46.11</td><td>110.21</td><td>0.55</td><td>0.45</td><td>2023-09-19</td></tr>\n",
       "\t<tr><td> 9.70</td><td>22.92</td><td>53.74</td><td>66.64</td><td>155.92</td><td>0.67</td><td>0.90</td><td>2023-09-21</td></tr>\n",
       "\t<tr><td>13.72</td><td>30.92</td><td>52.37</td><td>49.10</td><td>125.62</td><td>0.62</td><td>0.69</td><td>2023-09-22</td></tr>\n",
       "\t<tr><td>14.87</td><td>24.68</td><td>34.70</td><td>41.03</td><td> 97.62</td><td>0.52</td><td>0.55</td><td>2023-09-25</td></tr>\n",
       "\t<tr><td>20.52</td><td>35.74</td><td>42.83</td><td>61.22</td><td>136.71</td><td>0.69</td><td>0.77</td><td>2023-09-26</td></tr>\n",
       "\t<tr><td>22.40</td><td>40.54</td><td>54.05</td><td>58.90</td><td>141.76</td><td>0.73</td><td>0.92</td><td>2023-09-27</td></tr>\n",
       "\t<tr><td>22.01</td><td>42.59</td><td>54.23</td><td>77.60</td><td>173.21</td><td>0.78</td><td>0.95</td><td>2023-09-28</td></tr>\n",
       "\t<tr><td>20.43</td><td>37.56</td><td>53.53</td><td>81.55</td><td>178.57</td><td>0.76</td><td>0.82</td><td>2023-09-29</td></tr>\n",
       "\t<tr><td>18.87</td><td>28.12</td><td>35.67</td><td>64.76</td><td>134.96</td><td>0.73</td><td>0.73</td><td>2023-09-30</td></tr>\n",
       "</tbody>\n",
       "</table>\n"
      ],
      "text/latex": [
       "A tibble: 46 × 8\n",
       "\\begin{tabular}{llllllll}\n",
       " PM25 & PM10 & NO2 & NO & NOx & CO & C6H6 & data\\\\\n",
       " <dbl> & <dbl> & <dbl> & <dbl> & <dbl> & <dbl> & <dbl> & <date>\\\\\n",
       "\\hline\n",
       "\t 11.76 & 25.04 & 44.57 & 38.83 & 104.11 & 0.60 & 0.47 & 2023-08-01\\\\\n",
       "\t  8.38 & 22.75 & 50.06 & 36.20 & 107.94 & 0.63 & 0.48 & 2023-08-03\\\\\n",
       "\t 10.00 & 24.70 & 47.40 & 38.62 & 106.62 & 0.61 & 0.47 & 2023-08-04\\\\\n",
       "\t 11.70 & 20.69 & 40.60 & 24.98 &  78.89 & 0.50 & 0.36 & 2023-08-10\\\\\n",
       "\t 14.11 & 25.50 & 46.44 & 29.56 &  91.77 & 0.56 & 0.48 & 2023-08-11\\\\\n",
       "\t 15.21 & 25.27 & 46.76 & 23.23 &  82.36 & 0.58 & 0.46 & 2023-08-12\\\\\n",
       "\t 15.60 & 25.22 & 39.52 & 25.12 &  79.68 & 0.61 & 0.49 & 2023-08-13\\\\\n",
       "\t 16.94 & 30.36 & 48.56 & 26.48 &  89.20 & 0.61 & 0.42 & 2023-08-14\\\\\n",
       "\t 20.64 & 33.34 & 37.08 & 20.39 &  68.35 & 0.62 & 0.51 & 2023-08-15\\\\\n",
       "\t 22.84 & 39.57 & 51.76 & 30.82 &  98.99 & 0.68 & 0.52 & 2023-08-16\\\\\n",
       "\t 18.80 & 34.17 & 45.54 & 28.41 &  89.10 & 0.60 & 0.53 & 2023-08-17\\\\\n",
       "\t 17.13 & 31.02 & 43.39 & 28.32 &  88.69 & 0.59 & 0.47 & 2023-08-18\\\\\n",
       "\t 18.93 & 28.18 & 34.96 & 21.90 &  68.56 & 0.60 & 0.39 & 2023-08-19\\\\\n",
       "\t 21.84 & 31.13 & 32.15 & 16.01 &  56.69 & 0.59 & 0.37 & 2023-08-20\\\\\n",
       "\t 28.46 & 44.70 & 46.71 & 25.49 &  85.82 & 0.70 & 0.48 & 2023-08-21\\\\\n",
       "\t 17.43 & 31.93 & 53.86 & 26.97 &  95.22 & 0.60 & 0.57 & 2023-08-22\\\\\n",
       "\t 25.27 & 37.15 & 42.59 & 20.65 &  75.60 & 0.59 & 0.46 & 2023-08-23\\\\\n",
       "\t 18.18 & 30.22 & 51.88 & 23.24 &  87.51 & 0.59 & 0.49 & 2023-08-24\\\\\n",
       "\t 23.05 & 42.98 & 54.96 & 32.09 & 104.21 & 0.69 & 0.82 & 2023-08-25\\\\\n",
       "\t 15.80 & 26.66 & 39.78 & 23.25 &  75.45 & 0.60 & 0.39 & 2023-08-26\\\\\n",
       "\t 13.89 & 20.74 & 31.65 & 17.87 &  59.06 & 0.58 & 0.39 & 2023-08-27\\\\\n",
       "\t 12.51 & 20.93 & 33.74 & 28.63 &  79.54 & 0.58 & 0.38 & 2023-08-28\\\\\n",
       "\t 15.03 & 24.92 & 35.63 & 34.48 &  88.49 & 0.62 & 0.48 & 2023-08-29\\\\\n",
       "\t 13.00 & 20.34 & 24.91 & 24.24 &  65.40 & 0.51 & 0.40 & 2023-08-30\\\\\n",
       "\t 11.84 & 20.14 & 31.63 & 24.70 &  69.46 & 0.44 & 0.35 & 2023-08-31\\\\\n",
       "\t 12.33 & 24.75 & 40.06 & 29.19 &  84.80 & 0.48 & 0.40 & 2023-09-04\\\\\n",
       "\t 13.65 & 24.45 & 51.08 & 48.98 & 126.15 & 0.60 & 0.70 & 2023-09-05\\\\\n",
       "\t 16.19 & 29.37 & 54.47 & 51.79 & 133.87 & 0.64 & 0.82 & 2023-09-06\\\\\n",
       "\t 21.18 & 37.08 & 58.63 & 58.48 & 145.75 & 0.70 & 0.99 & 2023-09-07\\\\\n",
       "\t 25.77 & 40.78 & 60.34 & 64.14 & 158.68 & 0.72 & 1.09 & 2023-09-08\\\\\n",
       "\t 26.55 & 36.32 & 53.00 & 42.51 & 118.19 & 0.68 & 0.91 & 2023-09-09\\\\\n",
       "\t 27.07 & 35.78 & 48.39 & 36.50 & 104.34 & 0.71 & 0.84 & 2023-09-10\\\\\n",
       "\t 20.21 & 34.22 & 48.63 & 34.36 & 101.31 & 0.58 & 0.59 & 2023-09-11\\\\\n",
       "\t 26.47 & 42.52 & 52.46 & 34.60 & 103.28 & 0.65 & 0.63 & 2023-09-12\\\\\n",
       "\t 28.10 & 47.05 & 52.71 & 30.89 & 100.06 & 0.61 & 0.59 & 2023-09-13\\\\\n",
       "\t 18.15 & 26.19 & 37.75 & 31.75 &  86.42 & 0.55 & 1.08 & 2023-09-16\\\\\n",
       "\t 15.68 & 29.02 & 50.08 & 59.76 & 141.71 & 0.66 & 0.77 & 2023-09-18\\\\\n",
       "\t 14.03 & 22.52 & 39.49 & 46.11 & 110.21 & 0.55 & 0.45 & 2023-09-19\\\\\n",
       "\t  9.70 & 22.92 & 53.74 & 66.64 & 155.92 & 0.67 & 0.90 & 2023-09-21\\\\\n",
       "\t 13.72 & 30.92 & 52.37 & 49.10 & 125.62 & 0.62 & 0.69 & 2023-09-22\\\\\n",
       "\t 14.87 & 24.68 & 34.70 & 41.03 &  97.62 & 0.52 & 0.55 & 2023-09-25\\\\\n",
       "\t 20.52 & 35.74 & 42.83 & 61.22 & 136.71 & 0.69 & 0.77 & 2023-09-26\\\\\n",
       "\t 22.40 & 40.54 & 54.05 & 58.90 & 141.76 & 0.73 & 0.92 & 2023-09-27\\\\\n",
       "\t 22.01 & 42.59 & 54.23 & 77.60 & 173.21 & 0.78 & 0.95 & 2023-09-28\\\\\n",
       "\t 20.43 & 37.56 & 53.53 & 81.55 & 178.57 & 0.76 & 0.82 & 2023-09-29\\\\\n",
       "\t 18.87 & 28.12 & 35.67 & 64.76 & 134.96 & 0.73 & 0.73 & 2023-09-30\\\\\n",
       "\\end{tabular}\n"
      ],
      "text/markdown": [
       "\n",
       "A tibble: 46 × 8\n",
       "\n",
       "| PM25 &lt;dbl&gt; | PM10 &lt;dbl&gt; | NO2 &lt;dbl&gt; | NO &lt;dbl&gt; | NOx &lt;dbl&gt; | CO &lt;dbl&gt; | C6H6 &lt;dbl&gt; | data &lt;date&gt; |\n",
       "|---|---|---|---|---|---|---|---|\n",
       "| 11.76 | 25.04 | 44.57 | 38.83 | 104.11 | 0.60 | 0.47 | 2023-08-01 |\n",
       "|  8.38 | 22.75 | 50.06 | 36.20 | 107.94 | 0.63 | 0.48 | 2023-08-03 |\n",
       "| 10.00 | 24.70 | 47.40 | 38.62 | 106.62 | 0.61 | 0.47 | 2023-08-04 |\n",
       "| 11.70 | 20.69 | 40.60 | 24.98 |  78.89 | 0.50 | 0.36 | 2023-08-10 |\n",
       "| 14.11 | 25.50 | 46.44 | 29.56 |  91.77 | 0.56 | 0.48 | 2023-08-11 |\n",
       "| 15.21 | 25.27 | 46.76 | 23.23 |  82.36 | 0.58 | 0.46 | 2023-08-12 |\n",
       "| 15.60 | 25.22 | 39.52 | 25.12 |  79.68 | 0.61 | 0.49 | 2023-08-13 |\n",
       "| 16.94 | 30.36 | 48.56 | 26.48 |  89.20 | 0.61 | 0.42 | 2023-08-14 |\n",
       "| 20.64 | 33.34 | 37.08 | 20.39 |  68.35 | 0.62 | 0.51 | 2023-08-15 |\n",
       "| 22.84 | 39.57 | 51.76 | 30.82 |  98.99 | 0.68 | 0.52 | 2023-08-16 |\n",
       "| 18.80 | 34.17 | 45.54 | 28.41 |  89.10 | 0.60 | 0.53 | 2023-08-17 |\n",
       "| 17.13 | 31.02 | 43.39 | 28.32 |  88.69 | 0.59 | 0.47 | 2023-08-18 |\n",
       "| 18.93 | 28.18 | 34.96 | 21.90 |  68.56 | 0.60 | 0.39 | 2023-08-19 |\n",
       "| 21.84 | 31.13 | 32.15 | 16.01 |  56.69 | 0.59 | 0.37 | 2023-08-20 |\n",
       "| 28.46 | 44.70 | 46.71 | 25.49 |  85.82 | 0.70 | 0.48 | 2023-08-21 |\n",
       "| 17.43 | 31.93 | 53.86 | 26.97 |  95.22 | 0.60 | 0.57 | 2023-08-22 |\n",
       "| 25.27 | 37.15 | 42.59 | 20.65 |  75.60 | 0.59 | 0.46 | 2023-08-23 |\n",
       "| 18.18 | 30.22 | 51.88 | 23.24 |  87.51 | 0.59 | 0.49 | 2023-08-24 |\n",
       "| 23.05 | 42.98 | 54.96 | 32.09 | 104.21 | 0.69 | 0.82 | 2023-08-25 |\n",
       "| 15.80 | 26.66 | 39.78 | 23.25 |  75.45 | 0.60 | 0.39 | 2023-08-26 |\n",
       "| 13.89 | 20.74 | 31.65 | 17.87 |  59.06 | 0.58 | 0.39 | 2023-08-27 |\n",
       "| 12.51 | 20.93 | 33.74 | 28.63 |  79.54 | 0.58 | 0.38 | 2023-08-28 |\n",
       "| 15.03 | 24.92 | 35.63 | 34.48 |  88.49 | 0.62 | 0.48 | 2023-08-29 |\n",
       "| 13.00 | 20.34 | 24.91 | 24.24 |  65.40 | 0.51 | 0.40 | 2023-08-30 |\n",
       "| 11.84 | 20.14 | 31.63 | 24.70 |  69.46 | 0.44 | 0.35 | 2023-08-31 |\n",
       "| 12.33 | 24.75 | 40.06 | 29.19 |  84.80 | 0.48 | 0.40 | 2023-09-04 |\n",
       "| 13.65 | 24.45 | 51.08 | 48.98 | 126.15 | 0.60 | 0.70 | 2023-09-05 |\n",
       "| 16.19 | 29.37 | 54.47 | 51.79 | 133.87 | 0.64 | 0.82 | 2023-09-06 |\n",
       "| 21.18 | 37.08 | 58.63 | 58.48 | 145.75 | 0.70 | 0.99 | 2023-09-07 |\n",
       "| 25.77 | 40.78 | 60.34 | 64.14 | 158.68 | 0.72 | 1.09 | 2023-09-08 |\n",
       "| 26.55 | 36.32 | 53.00 | 42.51 | 118.19 | 0.68 | 0.91 | 2023-09-09 |\n",
       "| 27.07 | 35.78 | 48.39 | 36.50 | 104.34 | 0.71 | 0.84 | 2023-09-10 |\n",
       "| 20.21 | 34.22 | 48.63 | 34.36 | 101.31 | 0.58 | 0.59 | 2023-09-11 |\n",
       "| 26.47 | 42.52 | 52.46 | 34.60 | 103.28 | 0.65 | 0.63 | 2023-09-12 |\n",
       "| 28.10 | 47.05 | 52.71 | 30.89 | 100.06 | 0.61 | 0.59 | 2023-09-13 |\n",
       "| 18.15 | 26.19 | 37.75 | 31.75 |  86.42 | 0.55 | 1.08 | 2023-09-16 |\n",
       "| 15.68 | 29.02 | 50.08 | 59.76 | 141.71 | 0.66 | 0.77 | 2023-09-18 |\n",
       "| 14.03 | 22.52 | 39.49 | 46.11 | 110.21 | 0.55 | 0.45 | 2023-09-19 |\n",
       "|  9.70 | 22.92 | 53.74 | 66.64 | 155.92 | 0.67 | 0.90 | 2023-09-21 |\n",
       "| 13.72 | 30.92 | 52.37 | 49.10 | 125.62 | 0.62 | 0.69 | 2023-09-22 |\n",
       "| 14.87 | 24.68 | 34.70 | 41.03 |  97.62 | 0.52 | 0.55 | 2023-09-25 |\n",
       "| 20.52 | 35.74 | 42.83 | 61.22 | 136.71 | 0.69 | 0.77 | 2023-09-26 |\n",
       "| 22.40 | 40.54 | 54.05 | 58.90 | 141.76 | 0.73 | 0.92 | 2023-09-27 |\n",
       "| 22.01 | 42.59 | 54.23 | 77.60 | 173.21 | 0.78 | 0.95 | 2023-09-28 |\n",
       "| 20.43 | 37.56 | 53.53 | 81.55 | 178.57 | 0.76 | 0.82 | 2023-09-29 |\n",
       "| 18.87 | 28.12 | 35.67 | 64.76 | 134.96 | 0.73 | 0.73 | 2023-09-30 |\n",
       "\n"
      ],
      "text/plain": [
       "   PM25  PM10  NO2   NO    NOx    CO   C6H6 data      \n",
       "1  11.76 25.04 44.57 38.83 104.11 0.60 0.47 2023-08-01\n",
       "2   8.38 22.75 50.06 36.20 107.94 0.63 0.48 2023-08-03\n",
       "3  10.00 24.70 47.40 38.62 106.62 0.61 0.47 2023-08-04\n",
       "4  11.70 20.69 40.60 24.98  78.89 0.50 0.36 2023-08-10\n",
       "5  14.11 25.50 46.44 29.56  91.77 0.56 0.48 2023-08-11\n",
       "6  15.21 25.27 46.76 23.23  82.36 0.58 0.46 2023-08-12\n",
       "7  15.60 25.22 39.52 25.12  79.68 0.61 0.49 2023-08-13\n",
       "8  16.94 30.36 48.56 26.48  89.20 0.61 0.42 2023-08-14\n",
       "9  20.64 33.34 37.08 20.39  68.35 0.62 0.51 2023-08-15\n",
       "10 22.84 39.57 51.76 30.82  98.99 0.68 0.52 2023-08-16\n",
       "11 18.80 34.17 45.54 28.41  89.10 0.60 0.53 2023-08-17\n",
       "12 17.13 31.02 43.39 28.32  88.69 0.59 0.47 2023-08-18\n",
       "13 18.93 28.18 34.96 21.90  68.56 0.60 0.39 2023-08-19\n",
       "14 21.84 31.13 32.15 16.01  56.69 0.59 0.37 2023-08-20\n",
       "15 28.46 44.70 46.71 25.49  85.82 0.70 0.48 2023-08-21\n",
       "16 17.43 31.93 53.86 26.97  95.22 0.60 0.57 2023-08-22\n",
       "17 25.27 37.15 42.59 20.65  75.60 0.59 0.46 2023-08-23\n",
       "18 18.18 30.22 51.88 23.24  87.51 0.59 0.49 2023-08-24\n",
       "19 23.05 42.98 54.96 32.09 104.21 0.69 0.82 2023-08-25\n",
       "20 15.80 26.66 39.78 23.25  75.45 0.60 0.39 2023-08-26\n",
       "21 13.89 20.74 31.65 17.87  59.06 0.58 0.39 2023-08-27\n",
       "22 12.51 20.93 33.74 28.63  79.54 0.58 0.38 2023-08-28\n",
       "23 15.03 24.92 35.63 34.48  88.49 0.62 0.48 2023-08-29\n",
       "24 13.00 20.34 24.91 24.24  65.40 0.51 0.40 2023-08-30\n",
       "25 11.84 20.14 31.63 24.70  69.46 0.44 0.35 2023-08-31\n",
       "26 12.33 24.75 40.06 29.19  84.80 0.48 0.40 2023-09-04\n",
       "27 13.65 24.45 51.08 48.98 126.15 0.60 0.70 2023-09-05\n",
       "28 16.19 29.37 54.47 51.79 133.87 0.64 0.82 2023-09-06\n",
       "29 21.18 37.08 58.63 58.48 145.75 0.70 0.99 2023-09-07\n",
       "30 25.77 40.78 60.34 64.14 158.68 0.72 1.09 2023-09-08\n",
       "31 26.55 36.32 53.00 42.51 118.19 0.68 0.91 2023-09-09\n",
       "32 27.07 35.78 48.39 36.50 104.34 0.71 0.84 2023-09-10\n",
       "33 20.21 34.22 48.63 34.36 101.31 0.58 0.59 2023-09-11\n",
       "34 26.47 42.52 52.46 34.60 103.28 0.65 0.63 2023-09-12\n",
       "35 28.10 47.05 52.71 30.89 100.06 0.61 0.59 2023-09-13\n",
       "36 18.15 26.19 37.75 31.75  86.42 0.55 1.08 2023-09-16\n",
       "37 15.68 29.02 50.08 59.76 141.71 0.66 0.77 2023-09-18\n",
       "38 14.03 22.52 39.49 46.11 110.21 0.55 0.45 2023-09-19\n",
       "39  9.70 22.92 53.74 66.64 155.92 0.67 0.90 2023-09-21\n",
       "40 13.72 30.92 52.37 49.10 125.62 0.62 0.69 2023-09-22\n",
       "41 14.87 24.68 34.70 41.03  97.62 0.52 0.55 2023-09-25\n",
       "42 20.52 35.74 42.83 61.22 136.71 0.69 0.77 2023-09-26\n",
       "43 22.40 40.54 54.05 58.90 141.76 0.73 0.92 2023-09-27\n",
       "44 22.01 42.59 54.23 77.60 173.21 0.78 0.95 2023-09-28\n",
       "45 20.43 37.56 53.53 81.55 178.57 0.76 0.82 2023-09-29\n",
       "46 18.87 28.12 35.67 64.76 134.96 0.73 0.73 2023-09-30"
      ]
     },
     "metadata": {},
     "output_type": "display_data"
    }
   ],
   "source": [
    "powietrze[which(powietrze$PM10 > 20),]"
   ]
  },
  {
   "cell_type": "code",
   "execution_count": 113,
   "metadata": {
    "id": "FkcNALDefb8F",
    "vscode": {
     "languageId": "r"
    }
   },
   "outputs": [
    {
     "data": {
      "text/html": [
       "<table class=\"dataframe\">\n",
       "<caption>A tibble: 45 × 8</caption>\n",
       "<thead>\n",
       "\t<tr><th scope=col>PM25</th><th scope=col>PM10</th><th scope=col>NO2</th><th scope=col>NO</th><th scope=col>NOx</th><th scope=col>CO</th><th scope=col>C6H6</th><th scope=col>data</th></tr>\n",
       "\t<tr><th scope=col>&lt;dbl&gt;</th><th scope=col>&lt;dbl&gt;</th><th scope=col>&lt;dbl&gt;</th><th scope=col>&lt;dbl&gt;</th><th scope=col>&lt;dbl&gt;</th><th scope=col>&lt;dbl&gt;</th><th scope=col>&lt;dbl&gt;</th><th scope=col>&lt;date&gt;</th></tr>\n",
       "</thead>\n",
       "<tbody>\n",
       "\t<tr><td>11.76</td><td>25.04</td><td>44.57</td><td>38.83</td><td>104.11</td><td>0.60</td><td>0.47</td><td>2023-08-01</td></tr>\n",
       "\t<tr><td> 8.30</td><td>18.44</td><td>36.25</td><td>22.17</td><td> 70.24</td><td>0.52</td><td>0.34</td><td>2023-08-02</td></tr>\n",
       "\t<tr><td> 8.38</td><td>22.75</td><td>50.06</td><td>36.20</td><td>107.94</td><td>0.63</td><td>0.48</td><td>2023-08-03</td></tr>\n",
       "\t<tr><td> 7.33</td><td>11.05</td><td>21.68</td><td>19.17</td><td> 51.08</td><td>0.51</td><td>0.35</td><td>2023-08-06</td></tr>\n",
       "\t<tr><td> 4.99</td><td>12.08</td><td>21.20</td><td>17.95</td><td> 48.71</td><td>0.42</td><td>0.20</td><td>2023-08-07</td></tr>\n",
       "\t<tr><td> 6.00</td><td>14.38</td><td>30.77</td><td>19.87</td><td> 62.57</td><td>0.43</td><td>0.27</td><td>2023-08-08</td></tr>\n",
       "\t<tr><td> 6.67</td><td>15.62</td><td>32.27</td><td>27.74</td><td> 74.78</td><td>0.46</td><td>0.28</td><td>2023-08-09</td></tr>\n",
       "\t<tr><td>14.11</td><td>25.50</td><td>46.44</td><td>29.56</td><td> 91.77</td><td>0.56</td><td>0.48</td><td>2023-08-11</td></tr>\n",
       "\t<tr><td>15.21</td><td>25.27</td><td>46.76</td><td>23.23</td><td> 82.36</td><td>0.58</td><td>0.46</td><td>2023-08-12</td></tr>\n",
       "\t<tr><td>15.60</td><td>25.22</td><td>39.52</td><td>25.12</td><td> 79.68</td><td>0.61</td><td>0.49</td><td>2023-08-13</td></tr>\n",
       "\t<tr><td>16.94</td><td>30.36</td><td>48.56</td><td>26.48</td><td> 89.20</td><td>0.61</td><td>0.42</td><td>2023-08-14</td></tr>\n",
       "\t<tr><td>20.64</td><td>33.34</td><td>37.08</td><td>20.39</td><td> 68.35</td><td>0.62</td><td>0.51</td><td>2023-08-15</td></tr>\n",
       "\t<tr><td>22.84</td><td>39.57</td><td>51.76</td><td>30.82</td><td> 98.99</td><td>0.68</td><td>0.52</td><td>2023-08-16</td></tr>\n",
       "\t<tr><td>18.80</td><td>34.17</td><td>45.54</td><td>28.41</td><td> 89.10</td><td>0.60</td><td>0.53</td><td>2023-08-17</td></tr>\n",
       "\t<tr><td>17.13</td><td>31.02</td><td>43.39</td><td>28.32</td><td> 88.69</td><td>0.59</td><td>0.47</td><td>2023-08-18</td></tr>\n",
       "\t<tr><td>18.93</td><td>28.18</td><td>34.96</td><td>21.90</td><td> 68.56</td><td>0.60</td><td>0.39</td><td>2023-08-19</td></tr>\n",
       "\t<tr><td>21.84</td><td>31.13</td><td>32.15</td><td>16.01</td><td> 56.69</td><td>0.59</td><td>0.37</td><td>2023-08-20</td></tr>\n",
       "\t<tr><td>28.46</td><td>44.70</td><td>46.71</td><td>25.49</td><td> 85.82</td><td>0.70</td><td>0.48</td><td>2023-08-21</td></tr>\n",
       "\t<tr><td>17.43</td><td>31.93</td><td>53.86</td><td>26.97</td><td> 95.22</td><td>0.60</td><td>0.57</td><td>2023-08-22</td></tr>\n",
       "\t<tr><td>25.27</td><td>37.15</td><td>42.59</td><td>20.65</td><td> 75.60</td><td>0.59</td><td>0.46</td><td>2023-08-23</td></tr>\n",
       "\t<tr><td>18.18</td><td>30.22</td><td>51.88</td><td>23.24</td><td> 87.51</td><td>0.59</td><td>0.49</td><td>2023-08-24</td></tr>\n",
       "\t<tr><td>23.05</td><td>42.98</td><td>54.96</td><td>32.09</td><td>104.21</td><td>0.69</td><td>0.82</td><td>2023-08-25</td></tr>\n",
       "\t<tr><td>15.80</td><td>26.66</td><td>39.78</td><td>23.25</td><td> 75.45</td><td>0.60</td><td>0.39</td><td>2023-08-26</td></tr>\n",
       "\t<tr><td> 8.70</td><td>13.84</td><td>35.58</td><td>27.32</td><td> 75.95</td><td>0.55</td><td>0.48</td><td>2023-09-02</td></tr>\n",
       "\t<tr><td>16.19</td><td>29.37</td><td>54.47</td><td>51.79</td><td>133.87</td><td>0.64</td><td>0.82</td><td>2023-09-06</td></tr>\n",
       "\t<tr><td>21.18</td><td>37.08</td><td>58.63</td><td>58.48</td><td>145.75</td><td>0.70</td><td>0.99</td><td>2023-09-07</td></tr>\n",
       "\t<tr><td>25.77</td><td>40.78</td><td>60.34</td><td>64.14</td><td>158.68</td><td>0.72</td><td>1.09</td><td>2023-09-08</td></tr>\n",
       "\t<tr><td>26.55</td><td>36.32</td><td>53.00</td><td>42.51</td><td>118.19</td><td>0.68</td><td>0.91</td><td>2023-09-09</td></tr>\n",
       "\t<tr><td>27.07</td><td>35.78</td><td>48.39</td><td>36.50</td><td>104.34</td><td>0.71</td><td>0.84</td><td>2023-09-10</td></tr>\n",
       "\t<tr><td>20.21</td><td>34.22</td><td>48.63</td><td>34.36</td><td>101.31</td><td>0.58</td><td>0.59</td><td>2023-09-11</td></tr>\n",
       "\t<tr><td>26.47</td><td>42.52</td><td>52.46</td><td>34.60</td><td>103.28</td><td>0.65</td><td>0.63</td><td>2023-09-12</td></tr>\n",
       "\t<tr><td>28.10</td><td>47.05</td><td>52.71</td><td>30.89</td><td>100.06</td><td>0.61</td><td>0.59</td><td>2023-09-13</td></tr>\n",
       "\t<tr><td> 8.87</td><td>14.67</td><td>38.97</td><td>25.20</td><td> 77.62</td><td>0.46</td><td>0.31</td><td>2023-09-14</td></tr>\n",
       "\t<tr><td> 8.78</td><td>16.76</td><td>46.00</td><td>42.12</td><td>110.58</td><td>0.50</td><td>0.52</td><td>2023-09-15</td></tr>\n",
       "\t<tr><td>18.15</td><td>26.19</td><td>37.75</td><td>31.75</td><td> 86.42</td><td>0.55</td><td>1.08</td><td>2023-09-16</td></tr>\n",
       "\t<tr><td>15.68</td><td>29.02</td><td>50.08</td><td>59.76</td><td>141.71</td><td>0.66</td><td>0.77</td><td>2023-09-18</td></tr>\n",
       "\t<tr><td> 7.64</td><td>17.78</td><td>39.02</td><td>58.05</td><td>128.04</td><td>0.60</td><td>0.49</td><td>2023-09-20</td></tr>\n",
       "\t<tr><td> 9.70</td><td>22.92</td><td>53.74</td><td>66.64</td><td>155.92</td><td>0.67</td><td>0.90</td><td>2023-09-21</td></tr>\n",
       "\t<tr><td>13.72</td><td>30.92</td><td>52.37</td><td>49.10</td><td>125.62</td><td>0.62</td><td>0.69</td><td>2023-09-22</td></tr>\n",
       "\t<tr><td> 7.47</td><td>11.70</td><td>34.59</td><td>35.11</td><td> 87.50</td><td>3.04</td><td>0.39</td><td>2023-09-24</td></tr>\n",
       "\t<tr><td>20.52</td><td>35.74</td><td>42.83</td><td>61.22</td><td>136.71</td><td>0.69</td><td>0.77</td><td>2023-09-26</td></tr>\n",
       "\t<tr><td>22.40</td><td>40.54</td><td>54.05</td><td>58.90</td><td>141.76</td><td>0.73</td><td>0.92</td><td>2023-09-27</td></tr>\n",
       "\t<tr><td>22.01</td><td>42.59</td><td>54.23</td><td>77.60</td><td>173.21</td><td>0.78</td><td>0.95</td><td>2023-09-28</td></tr>\n",
       "\t<tr><td>20.43</td><td>37.56</td><td>53.53</td><td>81.55</td><td>178.57</td><td>0.76</td><td>0.82</td><td>2023-09-29</td></tr>\n",
       "\t<tr><td>18.87</td><td>28.12</td><td>35.67</td><td>64.76</td><td>134.96</td><td>0.73</td><td>0.73</td><td>2023-09-30</td></tr>\n",
       "</tbody>\n",
       "</table>\n"
      ],
      "text/latex": [
       "A tibble: 45 × 8\n",
       "\\begin{tabular}{llllllll}\n",
       " PM25 & PM10 & NO2 & NO & NOx & CO & C6H6 & data\\\\\n",
       " <dbl> & <dbl> & <dbl> & <dbl> & <dbl> & <dbl> & <dbl> & <date>\\\\\n",
       "\\hline\n",
       "\t 11.76 & 25.04 & 44.57 & 38.83 & 104.11 & 0.60 & 0.47 & 2023-08-01\\\\\n",
       "\t  8.30 & 18.44 & 36.25 & 22.17 &  70.24 & 0.52 & 0.34 & 2023-08-02\\\\\n",
       "\t  8.38 & 22.75 & 50.06 & 36.20 & 107.94 & 0.63 & 0.48 & 2023-08-03\\\\\n",
       "\t  7.33 & 11.05 & 21.68 & 19.17 &  51.08 & 0.51 & 0.35 & 2023-08-06\\\\\n",
       "\t  4.99 & 12.08 & 21.20 & 17.95 &  48.71 & 0.42 & 0.20 & 2023-08-07\\\\\n",
       "\t  6.00 & 14.38 & 30.77 & 19.87 &  62.57 & 0.43 & 0.27 & 2023-08-08\\\\\n",
       "\t  6.67 & 15.62 & 32.27 & 27.74 &  74.78 & 0.46 & 0.28 & 2023-08-09\\\\\n",
       "\t 14.11 & 25.50 & 46.44 & 29.56 &  91.77 & 0.56 & 0.48 & 2023-08-11\\\\\n",
       "\t 15.21 & 25.27 & 46.76 & 23.23 &  82.36 & 0.58 & 0.46 & 2023-08-12\\\\\n",
       "\t 15.60 & 25.22 & 39.52 & 25.12 &  79.68 & 0.61 & 0.49 & 2023-08-13\\\\\n",
       "\t 16.94 & 30.36 & 48.56 & 26.48 &  89.20 & 0.61 & 0.42 & 2023-08-14\\\\\n",
       "\t 20.64 & 33.34 & 37.08 & 20.39 &  68.35 & 0.62 & 0.51 & 2023-08-15\\\\\n",
       "\t 22.84 & 39.57 & 51.76 & 30.82 &  98.99 & 0.68 & 0.52 & 2023-08-16\\\\\n",
       "\t 18.80 & 34.17 & 45.54 & 28.41 &  89.10 & 0.60 & 0.53 & 2023-08-17\\\\\n",
       "\t 17.13 & 31.02 & 43.39 & 28.32 &  88.69 & 0.59 & 0.47 & 2023-08-18\\\\\n",
       "\t 18.93 & 28.18 & 34.96 & 21.90 &  68.56 & 0.60 & 0.39 & 2023-08-19\\\\\n",
       "\t 21.84 & 31.13 & 32.15 & 16.01 &  56.69 & 0.59 & 0.37 & 2023-08-20\\\\\n",
       "\t 28.46 & 44.70 & 46.71 & 25.49 &  85.82 & 0.70 & 0.48 & 2023-08-21\\\\\n",
       "\t 17.43 & 31.93 & 53.86 & 26.97 &  95.22 & 0.60 & 0.57 & 2023-08-22\\\\\n",
       "\t 25.27 & 37.15 & 42.59 & 20.65 &  75.60 & 0.59 & 0.46 & 2023-08-23\\\\\n",
       "\t 18.18 & 30.22 & 51.88 & 23.24 &  87.51 & 0.59 & 0.49 & 2023-08-24\\\\\n",
       "\t 23.05 & 42.98 & 54.96 & 32.09 & 104.21 & 0.69 & 0.82 & 2023-08-25\\\\\n",
       "\t 15.80 & 26.66 & 39.78 & 23.25 &  75.45 & 0.60 & 0.39 & 2023-08-26\\\\\n",
       "\t  8.70 & 13.84 & 35.58 & 27.32 &  75.95 & 0.55 & 0.48 & 2023-09-02\\\\\n",
       "\t 16.19 & 29.37 & 54.47 & 51.79 & 133.87 & 0.64 & 0.82 & 2023-09-06\\\\\n",
       "\t 21.18 & 37.08 & 58.63 & 58.48 & 145.75 & 0.70 & 0.99 & 2023-09-07\\\\\n",
       "\t 25.77 & 40.78 & 60.34 & 64.14 & 158.68 & 0.72 & 1.09 & 2023-09-08\\\\\n",
       "\t 26.55 & 36.32 & 53.00 & 42.51 & 118.19 & 0.68 & 0.91 & 2023-09-09\\\\\n",
       "\t 27.07 & 35.78 & 48.39 & 36.50 & 104.34 & 0.71 & 0.84 & 2023-09-10\\\\\n",
       "\t 20.21 & 34.22 & 48.63 & 34.36 & 101.31 & 0.58 & 0.59 & 2023-09-11\\\\\n",
       "\t 26.47 & 42.52 & 52.46 & 34.60 & 103.28 & 0.65 & 0.63 & 2023-09-12\\\\\n",
       "\t 28.10 & 47.05 & 52.71 & 30.89 & 100.06 & 0.61 & 0.59 & 2023-09-13\\\\\n",
       "\t  8.87 & 14.67 & 38.97 & 25.20 &  77.62 & 0.46 & 0.31 & 2023-09-14\\\\\n",
       "\t  8.78 & 16.76 & 46.00 & 42.12 & 110.58 & 0.50 & 0.52 & 2023-09-15\\\\\n",
       "\t 18.15 & 26.19 & 37.75 & 31.75 &  86.42 & 0.55 & 1.08 & 2023-09-16\\\\\n",
       "\t 15.68 & 29.02 & 50.08 & 59.76 & 141.71 & 0.66 & 0.77 & 2023-09-18\\\\\n",
       "\t  7.64 & 17.78 & 39.02 & 58.05 & 128.04 & 0.60 & 0.49 & 2023-09-20\\\\\n",
       "\t  9.70 & 22.92 & 53.74 & 66.64 & 155.92 & 0.67 & 0.90 & 2023-09-21\\\\\n",
       "\t 13.72 & 30.92 & 52.37 & 49.10 & 125.62 & 0.62 & 0.69 & 2023-09-22\\\\\n",
       "\t  7.47 & 11.70 & 34.59 & 35.11 &  87.50 & 3.04 & 0.39 & 2023-09-24\\\\\n",
       "\t 20.52 & 35.74 & 42.83 & 61.22 & 136.71 & 0.69 & 0.77 & 2023-09-26\\\\\n",
       "\t 22.40 & 40.54 & 54.05 & 58.90 & 141.76 & 0.73 & 0.92 & 2023-09-27\\\\\n",
       "\t 22.01 & 42.59 & 54.23 & 77.60 & 173.21 & 0.78 & 0.95 & 2023-09-28\\\\\n",
       "\t 20.43 & 37.56 & 53.53 & 81.55 & 178.57 & 0.76 & 0.82 & 2023-09-29\\\\\n",
       "\t 18.87 & 28.12 & 35.67 & 64.76 & 134.96 & 0.73 & 0.73 & 2023-09-30\\\\\n",
       "\\end{tabular}\n"
      ],
      "text/markdown": [
       "\n",
       "A tibble: 45 × 8\n",
       "\n",
       "| PM25 &lt;dbl&gt; | PM10 &lt;dbl&gt; | NO2 &lt;dbl&gt; | NO &lt;dbl&gt; | NOx &lt;dbl&gt; | CO &lt;dbl&gt; | C6H6 &lt;dbl&gt; | data &lt;date&gt; |\n",
       "|---|---|---|---|---|---|---|---|\n",
       "| 11.76 | 25.04 | 44.57 | 38.83 | 104.11 | 0.60 | 0.47 | 2023-08-01 |\n",
       "|  8.30 | 18.44 | 36.25 | 22.17 |  70.24 | 0.52 | 0.34 | 2023-08-02 |\n",
       "|  8.38 | 22.75 | 50.06 | 36.20 | 107.94 | 0.63 | 0.48 | 2023-08-03 |\n",
       "|  7.33 | 11.05 | 21.68 | 19.17 |  51.08 | 0.51 | 0.35 | 2023-08-06 |\n",
       "|  4.99 | 12.08 | 21.20 | 17.95 |  48.71 | 0.42 | 0.20 | 2023-08-07 |\n",
       "|  6.00 | 14.38 | 30.77 | 19.87 |  62.57 | 0.43 | 0.27 | 2023-08-08 |\n",
       "|  6.67 | 15.62 | 32.27 | 27.74 |  74.78 | 0.46 | 0.28 | 2023-08-09 |\n",
       "| 14.11 | 25.50 | 46.44 | 29.56 |  91.77 | 0.56 | 0.48 | 2023-08-11 |\n",
       "| 15.21 | 25.27 | 46.76 | 23.23 |  82.36 | 0.58 | 0.46 | 2023-08-12 |\n",
       "| 15.60 | 25.22 | 39.52 | 25.12 |  79.68 | 0.61 | 0.49 | 2023-08-13 |\n",
       "| 16.94 | 30.36 | 48.56 | 26.48 |  89.20 | 0.61 | 0.42 | 2023-08-14 |\n",
       "| 20.64 | 33.34 | 37.08 | 20.39 |  68.35 | 0.62 | 0.51 | 2023-08-15 |\n",
       "| 22.84 | 39.57 | 51.76 | 30.82 |  98.99 | 0.68 | 0.52 | 2023-08-16 |\n",
       "| 18.80 | 34.17 | 45.54 | 28.41 |  89.10 | 0.60 | 0.53 | 2023-08-17 |\n",
       "| 17.13 | 31.02 | 43.39 | 28.32 |  88.69 | 0.59 | 0.47 | 2023-08-18 |\n",
       "| 18.93 | 28.18 | 34.96 | 21.90 |  68.56 | 0.60 | 0.39 | 2023-08-19 |\n",
       "| 21.84 | 31.13 | 32.15 | 16.01 |  56.69 | 0.59 | 0.37 | 2023-08-20 |\n",
       "| 28.46 | 44.70 | 46.71 | 25.49 |  85.82 | 0.70 | 0.48 | 2023-08-21 |\n",
       "| 17.43 | 31.93 | 53.86 | 26.97 |  95.22 | 0.60 | 0.57 | 2023-08-22 |\n",
       "| 25.27 | 37.15 | 42.59 | 20.65 |  75.60 | 0.59 | 0.46 | 2023-08-23 |\n",
       "| 18.18 | 30.22 | 51.88 | 23.24 |  87.51 | 0.59 | 0.49 | 2023-08-24 |\n",
       "| 23.05 | 42.98 | 54.96 | 32.09 | 104.21 | 0.69 | 0.82 | 2023-08-25 |\n",
       "| 15.80 | 26.66 | 39.78 | 23.25 |  75.45 | 0.60 | 0.39 | 2023-08-26 |\n",
       "|  8.70 | 13.84 | 35.58 | 27.32 |  75.95 | 0.55 | 0.48 | 2023-09-02 |\n",
       "| 16.19 | 29.37 | 54.47 | 51.79 | 133.87 | 0.64 | 0.82 | 2023-09-06 |\n",
       "| 21.18 | 37.08 | 58.63 | 58.48 | 145.75 | 0.70 | 0.99 | 2023-09-07 |\n",
       "| 25.77 | 40.78 | 60.34 | 64.14 | 158.68 | 0.72 | 1.09 | 2023-09-08 |\n",
       "| 26.55 | 36.32 | 53.00 | 42.51 | 118.19 | 0.68 | 0.91 | 2023-09-09 |\n",
       "| 27.07 | 35.78 | 48.39 | 36.50 | 104.34 | 0.71 | 0.84 | 2023-09-10 |\n",
       "| 20.21 | 34.22 | 48.63 | 34.36 | 101.31 | 0.58 | 0.59 | 2023-09-11 |\n",
       "| 26.47 | 42.52 | 52.46 | 34.60 | 103.28 | 0.65 | 0.63 | 2023-09-12 |\n",
       "| 28.10 | 47.05 | 52.71 | 30.89 | 100.06 | 0.61 | 0.59 | 2023-09-13 |\n",
       "|  8.87 | 14.67 | 38.97 | 25.20 |  77.62 | 0.46 | 0.31 | 2023-09-14 |\n",
       "|  8.78 | 16.76 | 46.00 | 42.12 | 110.58 | 0.50 | 0.52 | 2023-09-15 |\n",
       "| 18.15 | 26.19 | 37.75 | 31.75 |  86.42 | 0.55 | 1.08 | 2023-09-16 |\n",
       "| 15.68 | 29.02 | 50.08 | 59.76 | 141.71 | 0.66 | 0.77 | 2023-09-18 |\n",
       "|  7.64 | 17.78 | 39.02 | 58.05 | 128.04 | 0.60 | 0.49 | 2023-09-20 |\n",
       "|  9.70 | 22.92 | 53.74 | 66.64 | 155.92 | 0.67 | 0.90 | 2023-09-21 |\n",
       "| 13.72 | 30.92 | 52.37 | 49.10 | 125.62 | 0.62 | 0.69 | 2023-09-22 |\n",
       "|  7.47 | 11.70 | 34.59 | 35.11 |  87.50 | 3.04 | 0.39 | 2023-09-24 |\n",
       "| 20.52 | 35.74 | 42.83 | 61.22 | 136.71 | 0.69 | 0.77 | 2023-09-26 |\n",
       "| 22.40 | 40.54 | 54.05 | 58.90 | 141.76 | 0.73 | 0.92 | 2023-09-27 |\n",
       "| 22.01 | 42.59 | 54.23 | 77.60 | 173.21 | 0.78 | 0.95 | 2023-09-28 |\n",
       "| 20.43 | 37.56 | 53.53 | 81.55 | 178.57 | 0.76 | 0.82 | 2023-09-29 |\n",
       "| 18.87 | 28.12 | 35.67 | 64.76 | 134.96 | 0.73 | 0.73 | 2023-09-30 |\n",
       "\n"
      ],
      "text/plain": [
       "   PM25  PM10  NO2   NO    NOx    CO   C6H6 data      \n",
       "1  11.76 25.04 44.57 38.83 104.11 0.60 0.47 2023-08-01\n",
       "2   8.30 18.44 36.25 22.17  70.24 0.52 0.34 2023-08-02\n",
       "3   8.38 22.75 50.06 36.20 107.94 0.63 0.48 2023-08-03\n",
       "4   7.33 11.05 21.68 19.17  51.08 0.51 0.35 2023-08-06\n",
       "5   4.99 12.08 21.20 17.95  48.71 0.42 0.20 2023-08-07\n",
       "6   6.00 14.38 30.77 19.87  62.57 0.43 0.27 2023-08-08\n",
       "7   6.67 15.62 32.27 27.74  74.78 0.46 0.28 2023-08-09\n",
       "8  14.11 25.50 46.44 29.56  91.77 0.56 0.48 2023-08-11\n",
       "9  15.21 25.27 46.76 23.23  82.36 0.58 0.46 2023-08-12\n",
       "10 15.60 25.22 39.52 25.12  79.68 0.61 0.49 2023-08-13\n",
       "11 16.94 30.36 48.56 26.48  89.20 0.61 0.42 2023-08-14\n",
       "12 20.64 33.34 37.08 20.39  68.35 0.62 0.51 2023-08-15\n",
       "13 22.84 39.57 51.76 30.82  98.99 0.68 0.52 2023-08-16\n",
       "14 18.80 34.17 45.54 28.41  89.10 0.60 0.53 2023-08-17\n",
       "15 17.13 31.02 43.39 28.32  88.69 0.59 0.47 2023-08-18\n",
       "16 18.93 28.18 34.96 21.90  68.56 0.60 0.39 2023-08-19\n",
       "17 21.84 31.13 32.15 16.01  56.69 0.59 0.37 2023-08-20\n",
       "18 28.46 44.70 46.71 25.49  85.82 0.70 0.48 2023-08-21\n",
       "19 17.43 31.93 53.86 26.97  95.22 0.60 0.57 2023-08-22\n",
       "20 25.27 37.15 42.59 20.65  75.60 0.59 0.46 2023-08-23\n",
       "21 18.18 30.22 51.88 23.24  87.51 0.59 0.49 2023-08-24\n",
       "22 23.05 42.98 54.96 32.09 104.21 0.69 0.82 2023-08-25\n",
       "23 15.80 26.66 39.78 23.25  75.45 0.60 0.39 2023-08-26\n",
       "24  8.70 13.84 35.58 27.32  75.95 0.55 0.48 2023-09-02\n",
       "25 16.19 29.37 54.47 51.79 133.87 0.64 0.82 2023-09-06\n",
       "26 21.18 37.08 58.63 58.48 145.75 0.70 0.99 2023-09-07\n",
       "27 25.77 40.78 60.34 64.14 158.68 0.72 1.09 2023-09-08\n",
       "28 26.55 36.32 53.00 42.51 118.19 0.68 0.91 2023-09-09\n",
       "29 27.07 35.78 48.39 36.50 104.34 0.71 0.84 2023-09-10\n",
       "30 20.21 34.22 48.63 34.36 101.31 0.58 0.59 2023-09-11\n",
       "31 26.47 42.52 52.46 34.60 103.28 0.65 0.63 2023-09-12\n",
       "32 28.10 47.05 52.71 30.89 100.06 0.61 0.59 2023-09-13\n",
       "33  8.87 14.67 38.97 25.20  77.62 0.46 0.31 2023-09-14\n",
       "34  8.78 16.76 46.00 42.12 110.58 0.50 0.52 2023-09-15\n",
       "35 18.15 26.19 37.75 31.75  86.42 0.55 1.08 2023-09-16\n",
       "36 15.68 29.02 50.08 59.76 141.71 0.66 0.77 2023-09-18\n",
       "37  7.64 17.78 39.02 58.05 128.04 0.60 0.49 2023-09-20\n",
       "38  9.70 22.92 53.74 66.64 155.92 0.67 0.90 2023-09-21\n",
       "39 13.72 30.92 52.37 49.10 125.62 0.62 0.69 2023-09-22\n",
       "40  7.47 11.70 34.59 35.11  87.50 3.04 0.39 2023-09-24\n",
       "41 20.52 35.74 42.83 61.22 136.71 0.69 0.77 2023-09-26\n",
       "42 22.40 40.54 54.05 58.90 141.76 0.73 0.92 2023-09-27\n",
       "43 22.01 42.59 54.23 77.60 173.21 0.78 0.95 2023-09-28\n",
       "44 20.43 37.56 53.53 81.55 178.57 0.76 0.82 2023-09-29\n",
       "45 18.87 28.12 35.67 64.76 134.96 0.73 0.73 2023-09-30"
      ]
     },
     "metadata": {},
     "output_type": "display_data"
    }
   ],
   "source": [
    "# Wyświetl wszystkie dane, dla których `PM10` przekracza poziom 25 lub `PM25` jest poniżej poziomu 10. Zwróć uwagę na znak logiczny (`|` - _lub_, `&` - _i_).\n",
    "\n",
    "powietrze[which(powietrze$PM10 > 25 | powietrze$PM25 < 10),]"
   ]
  },
  {
   "cell_type": "code",
   "execution_count": 114,
   "metadata": {
    "id": "7E9i6WbBfgx-",
    "vscode": {
     "languageId": "r"
    }
   },
   "outputs": [
    {
     "data": {
      "text/html": [
       "<table class=\"dataframe\">\n",
       "<caption>A tibble: 6 × 9</caption>\n",
       "<thead>\n",
       "\t<tr><th scope=col>PM25</th><th scope=col>PM10</th><th scope=col>NO2</th><th scope=col>NO</th><th scope=col>NOx</th><th scope=col>CO</th><th scope=col>C6H6</th><th scope=col>data</th><th scope=col>poziom_PM25</th></tr>\n",
       "\t<tr><th scope=col>&lt;dbl&gt;</th><th scope=col>&lt;dbl&gt;</th><th scope=col>&lt;dbl&gt;</th><th scope=col>&lt;dbl&gt;</th><th scope=col>&lt;dbl&gt;</th><th scope=col>&lt;dbl&gt;</th><th scope=col>&lt;dbl&gt;</th><th scope=col>&lt;date&gt;</th><th scope=col>&lt;chr&gt;</th></tr>\n",
       "</thead>\n",
       "<tbody>\n",
       "\t<tr><td>11.76</td><td>25.04</td><td>44.57</td><td>38.83</td><td>104.11</td><td>0.60</td><td>0.47</td><td>2023-08-01</td><td>M</td></tr>\n",
       "\t<tr><td> 8.30</td><td>18.44</td><td>36.25</td><td>22.17</td><td> 70.24</td><td>0.52</td><td>0.34</td><td>2023-08-02</td><td>L</td></tr>\n",
       "\t<tr><td> 8.38</td><td>22.75</td><td>50.06</td><td>36.20</td><td>107.94</td><td>0.63</td><td>0.48</td><td>2023-08-03</td><td>L</td></tr>\n",
       "\t<tr><td>10.00</td><td>24.70</td><td>47.40</td><td>38.62</td><td>106.62</td><td>0.61</td><td>0.47</td><td>2023-08-04</td><td>L</td></tr>\n",
       "\t<tr><td>11.30</td><td>18.47</td><td>36.00</td><td>26.02</td><td> 75.90</td><td>0.60</td><td>0.39</td><td>2023-08-05</td><td>L</td></tr>\n",
       "\t<tr><td> 7.33</td><td>11.05</td><td>21.68</td><td>19.17</td><td> 51.08</td><td>0.51</td><td>0.35</td><td>2023-08-06</td><td>L</td></tr>\n",
       "</tbody>\n",
       "</table>\n"
      ],
      "text/latex": [
       "A tibble: 6 × 9\n",
       "\\begin{tabular}{lllllllll}\n",
       " PM25 & PM10 & NO2 & NO & NOx & CO & C6H6 & data & poziom\\_PM25\\\\\n",
       " <dbl> & <dbl> & <dbl> & <dbl> & <dbl> & <dbl> & <dbl> & <date> & <chr>\\\\\n",
       "\\hline\n",
       "\t 11.76 & 25.04 & 44.57 & 38.83 & 104.11 & 0.60 & 0.47 & 2023-08-01 & M\\\\\n",
       "\t  8.30 & 18.44 & 36.25 & 22.17 &  70.24 & 0.52 & 0.34 & 2023-08-02 & L\\\\\n",
       "\t  8.38 & 22.75 & 50.06 & 36.20 & 107.94 & 0.63 & 0.48 & 2023-08-03 & L\\\\\n",
       "\t 10.00 & 24.70 & 47.40 & 38.62 & 106.62 & 0.61 & 0.47 & 2023-08-04 & L\\\\\n",
       "\t 11.30 & 18.47 & 36.00 & 26.02 &  75.90 & 0.60 & 0.39 & 2023-08-05 & L\\\\\n",
       "\t  7.33 & 11.05 & 21.68 & 19.17 &  51.08 & 0.51 & 0.35 & 2023-08-06 & L\\\\\n",
       "\\end{tabular}\n"
      ],
      "text/markdown": [
       "\n",
       "A tibble: 6 × 9\n",
       "\n",
       "| PM25 &lt;dbl&gt; | PM10 &lt;dbl&gt; | NO2 &lt;dbl&gt; | NO &lt;dbl&gt; | NOx &lt;dbl&gt; | CO &lt;dbl&gt; | C6H6 &lt;dbl&gt; | data &lt;date&gt; | poziom_PM25 &lt;chr&gt; |\n",
       "|---|---|---|---|---|---|---|---|---|\n",
       "| 11.76 | 25.04 | 44.57 | 38.83 | 104.11 | 0.60 | 0.47 | 2023-08-01 | M |\n",
       "|  8.30 | 18.44 | 36.25 | 22.17 |  70.24 | 0.52 | 0.34 | 2023-08-02 | L |\n",
       "|  8.38 | 22.75 | 50.06 | 36.20 | 107.94 | 0.63 | 0.48 | 2023-08-03 | L |\n",
       "| 10.00 | 24.70 | 47.40 | 38.62 | 106.62 | 0.61 | 0.47 | 2023-08-04 | L |\n",
       "| 11.30 | 18.47 | 36.00 | 26.02 |  75.90 | 0.60 | 0.39 | 2023-08-05 | L |\n",
       "|  7.33 | 11.05 | 21.68 | 19.17 |  51.08 | 0.51 | 0.35 | 2023-08-06 | L |\n",
       "\n"
      ],
      "text/plain": [
       "  PM25  PM10  NO2   NO    NOx    CO   C6H6 data       poziom_PM25\n",
       "1 11.76 25.04 44.57 38.83 104.11 0.60 0.47 2023-08-01 M          \n",
       "2  8.30 18.44 36.25 22.17  70.24 0.52 0.34 2023-08-02 L          \n",
       "3  8.38 22.75 50.06 36.20 107.94 0.63 0.48 2023-08-03 L          \n",
       "4 10.00 24.70 47.40 38.62 106.62 0.61 0.47 2023-08-04 L          \n",
       "5 11.30 18.47 36.00 26.02  75.90 0.60 0.39 2023-08-05 L          \n",
       "6  7.33 11.05 21.68 19.17  51.08 0.51 0.35 2023-08-06 L          "
      ]
     },
     "metadata": {},
     "output_type": "display_data"
    }
   ],
   "source": [
    "# Przyporządkuj grupy do poszczególnych pomiarów:\n",
    "\n",
    "# `L` dla `PM25` < kwantyla rzędu 1/4\n",
    "# `M` dla `PM25` >= kwantyla rzędu 2/4\n",
    "# `H` dla `PM25` >= kwantyla rzędu 3/4\n",
    "\n",
    "powietrze[which(powietrze$PM25 < quantile(powietrze$PM25, na.rm=T, probs=0.25)),\n",
    "          \"poziom_PM25\"] <- \"L\"\n",
    "powietrze[which(powietrze$PM25 >= quantile(powietrze$PM25, na.rm=T, probs=0.25)\n",
    "                & powietrze$PM25 <= quantile(powietrze$PM25, na.rm=T, probs=0.75)),\n",
    "          \"poziom_PM25\"] <- \"M\"\n",
    "powietrze[which(powietrze$PM25 > quantile(powietrze$PM25, na.rm=T, probs=0.75)),\n",
    "          \"poziom_PM25\"] <- \"H\"\n",
    "\n",
    "head(powietrze)"
   ]
  },
  {
   "cell_type": "code",
   "execution_count": 115,
   "metadata": {
    "id": "yWA7O-8LfnSH",
    "vscode": {
     "languageId": "r"
    }
   },
   "outputs": [
    {
     "data": {
      "text/html": [
       "<table class=\"dataframe\">\n",
       "<caption>A tibble: 6 × 10</caption>\n",
       "<thead>\n",
       "\t<tr><th scope=col>PM25</th><th scope=col>PM10</th><th scope=col>NO2</th><th scope=col>NO</th><th scope=col>NOx</th><th scope=col>CO</th><th scope=col>C6H6</th><th scope=col>data</th><th scope=col>poziom_PM25</th><th scope=col>poziom_PM10</th></tr>\n",
       "\t<tr><th scope=col>&lt;dbl&gt;</th><th scope=col>&lt;dbl&gt;</th><th scope=col>&lt;dbl&gt;</th><th scope=col>&lt;dbl&gt;</th><th scope=col>&lt;dbl&gt;</th><th scope=col>&lt;dbl&gt;</th><th scope=col>&lt;dbl&gt;</th><th scope=col>&lt;date&gt;</th><th scope=col>&lt;chr&gt;</th><th scope=col>&lt;chr&gt;</th></tr>\n",
       "</thead>\n",
       "<tbody>\n",
       "\t<tr><td>11.76</td><td>25.04</td><td>44.57</td><td>38.83</td><td>104.11</td><td>0.60</td><td>0.47</td><td>2023-08-01</td><td>M</td><td>M</td></tr>\n",
       "\t<tr><td> 8.30</td><td>18.44</td><td>36.25</td><td>22.17</td><td> 70.24</td><td>0.52</td><td>0.34</td><td>2023-08-02</td><td>L</td><td>L</td></tr>\n",
       "\t<tr><td> 8.38</td><td>22.75</td><td>50.06</td><td>36.20</td><td>107.94</td><td>0.63</td><td>0.48</td><td>2023-08-03</td><td>L</td><td>M</td></tr>\n",
       "\t<tr><td>10.00</td><td>24.70</td><td>47.40</td><td>38.62</td><td>106.62</td><td>0.61</td><td>0.47</td><td>2023-08-04</td><td>L</td><td>M</td></tr>\n",
       "\t<tr><td>11.30</td><td>18.47</td><td>36.00</td><td>26.02</td><td> 75.90</td><td>0.60</td><td>0.39</td><td>2023-08-05</td><td>L</td><td>L</td></tr>\n",
       "\t<tr><td> 7.33</td><td>11.05</td><td>21.68</td><td>19.17</td><td> 51.08</td><td>0.51</td><td>0.35</td><td>2023-08-06</td><td>L</td><td>L</td></tr>\n",
       "</tbody>\n",
       "</table>\n"
      ],
      "text/latex": [
       "A tibble: 6 × 10\n",
       "\\begin{tabular}{llllllllll}\n",
       " PM25 & PM10 & NO2 & NO & NOx & CO & C6H6 & data & poziom\\_PM25 & poziom\\_PM10\\\\\n",
       " <dbl> & <dbl> & <dbl> & <dbl> & <dbl> & <dbl> & <dbl> & <date> & <chr> & <chr>\\\\\n",
       "\\hline\n",
       "\t 11.76 & 25.04 & 44.57 & 38.83 & 104.11 & 0.60 & 0.47 & 2023-08-01 & M & M\\\\\n",
       "\t  8.30 & 18.44 & 36.25 & 22.17 &  70.24 & 0.52 & 0.34 & 2023-08-02 & L & L\\\\\n",
       "\t  8.38 & 22.75 & 50.06 & 36.20 & 107.94 & 0.63 & 0.48 & 2023-08-03 & L & M\\\\\n",
       "\t 10.00 & 24.70 & 47.40 & 38.62 & 106.62 & 0.61 & 0.47 & 2023-08-04 & L & M\\\\\n",
       "\t 11.30 & 18.47 & 36.00 & 26.02 &  75.90 & 0.60 & 0.39 & 2023-08-05 & L & L\\\\\n",
       "\t  7.33 & 11.05 & 21.68 & 19.17 &  51.08 & 0.51 & 0.35 & 2023-08-06 & L & L\\\\\n",
       "\\end{tabular}\n"
      ],
      "text/markdown": [
       "\n",
       "A tibble: 6 × 10\n",
       "\n",
       "| PM25 &lt;dbl&gt; | PM10 &lt;dbl&gt; | NO2 &lt;dbl&gt; | NO &lt;dbl&gt; | NOx &lt;dbl&gt; | CO &lt;dbl&gt; | C6H6 &lt;dbl&gt; | data &lt;date&gt; | poziom_PM25 &lt;chr&gt; | poziom_PM10 &lt;chr&gt; |\n",
       "|---|---|---|---|---|---|---|---|---|---|\n",
       "| 11.76 | 25.04 | 44.57 | 38.83 | 104.11 | 0.60 | 0.47 | 2023-08-01 | M | M |\n",
       "|  8.30 | 18.44 | 36.25 | 22.17 |  70.24 | 0.52 | 0.34 | 2023-08-02 | L | L |\n",
       "|  8.38 | 22.75 | 50.06 | 36.20 | 107.94 | 0.63 | 0.48 | 2023-08-03 | L | M |\n",
       "| 10.00 | 24.70 | 47.40 | 38.62 | 106.62 | 0.61 | 0.47 | 2023-08-04 | L | M |\n",
       "| 11.30 | 18.47 | 36.00 | 26.02 |  75.90 | 0.60 | 0.39 | 2023-08-05 | L | L |\n",
       "|  7.33 | 11.05 | 21.68 | 19.17 |  51.08 | 0.51 | 0.35 | 2023-08-06 | L | L |\n",
       "\n"
      ],
      "text/plain": [
       "  PM25  PM10  NO2   NO    NOx    CO   C6H6 data       poziom_PM25 poziom_PM10\n",
       "1 11.76 25.04 44.57 38.83 104.11 0.60 0.47 2023-08-01 M           M          \n",
       "2  8.30 18.44 36.25 22.17  70.24 0.52 0.34 2023-08-02 L           L          \n",
       "3  8.38 22.75 50.06 36.20 107.94 0.63 0.48 2023-08-03 L           M          \n",
       "4 10.00 24.70 47.40 38.62 106.62 0.61 0.47 2023-08-04 L           M          \n",
       "5 11.30 18.47 36.00 26.02  75.90 0.60 0.39 2023-08-05 L           L          \n",
       "6  7.33 11.05 21.68 19.17  51.08 0.51 0.35 2023-08-06 L           L          "
      ]
     },
     "metadata": {},
     "output_type": "display_data"
    }
   ],
   "source": [
    "# Podobnie przyporządkuj grupy ze względu na wartość `PM10`:\n",
    "\n",
    "powietrze[which(powietrze$PM10 < quantile(powietrze$PM10, na.rm=T, probs=0.25)),\n",
    "          \"poziom_PM10\"] <- \"L\"\n",
    "powietrze[which(powietrze$PM10 >= quantile(powietrze$PM10, na.rm=T, probs=0.25)\n",
    "                & powietrze$PM10 <= quantile(powietrze$PM10, na.rm=T, probs=0.75)),\n",
    "          \"poziom_PM10\"] <- \"M\"\n",
    "powietrze[which(powietrze$PM10 > quantile(powietrze$PM10, na.rm=T, probs=0.75)),\n",
    "          \"poziom_PM10\"] <- \"H\"\n",
    "head(powietrze)"
   ]
  },
  {
   "cell_type": "code",
   "execution_count": 116,
   "metadata": {
    "id": "zDmTmJ8gfqy2",
    "vscode": {
     "languageId": "r"
    }
   },
   "outputs": [
    {
     "data": {
      "text/plain": [
       "   \n",
       "     H  L  M\n",
       "  H 13  0  2\n",
       "  L  0 12  3\n",
       "  M  2  3 26"
      ]
     },
     "metadata": {},
     "output_type": "display_data"
    }
   ],
   "source": [
    "# Wyświetl liczebności grup.\n",
    "\n",
    "table(powietrze$poziom_PM25, powietrze$poziom_PM10)"
   ]
  },
  {
   "cell_type": "code",
   "execution_count": 117,
   "metadata": {
    "id": "g-NPn9Hwft7E",
    "vscode": {
     "languageId": "r"
    }
   },
   "outputs": [
    {
     "data": {
      "text/html": [
       "<style>\n",
       ".list-inline {list-style: none; margin:0; padding: 0}\n",
       ".list-inline>li {display: inline-block}\n",
       ".list-inline>li:not(:last-child)::after {content: \"\\00b7\"; padding: 0 .5ex}\n",
       "</style>\n",
       "<ol class=list-inline><li>28.46</li><li>28.1</li><li>27.07</li><li>26.55</li><li>26.47</li><li>25.77</li><li>25.27</li><li>23.05</li><li>22.84</li><li>22.4</li><li>22.01</li><li>21.84</li><li>21.18</li><li>20.64</li><li>20.52</li><li>20.43</li><li>20.21</li><li>18.93</li><li>18.87</li><li>18.8</li><li>18.18</li><li>18.15</li><li>17.43</li><li>17.13</li><li>16.94</li><li>16.19</li><li>15.8</li><li>15.68</li><li>15.6</li><li>15.21</li><li>15.03</li><li>14.87</li><li>14.11</li><li>14.03</li><li>13.89</li><li>13.72</li><li>13.65</li><li>13.12</li><li>13</li><li>12.51</li><li>12.33</li><li>12.27</li><li>11.95</li><li>11.84</li><li>11.76</li><li>11.7</li><li>11.3</li><li>10.26</li><li>10</li><li>9.7</li><li>8.87</li><li>8.78</li><li>8.7</li><li>8.38</li><li>8.3</li><li>7.64</li><li>7.47</li><li>7.33</li><li>6.67</li><li>6</li><li>4.99</li></ol>\n"
      ],
      "text/latex": [
       "\\begin{enumerate*}\n",
       "\\item 28.46\n",
       "\\item 28.1\n",
       "\\item 27.07\n",
       "\\item 26.55\n",
       "\\item 26.47\n",
       "\\item 25.77\n",
       "\\item 25.27\n",
       "\\item 23.05\n",
       "\\item 22.84\n",
       "\\item 22.4\n",
       "\\item 22.01\n",
       "\\item 21.84\n",
       "\\item 21.18\n",
       "\\item 20.64\n",
       "\\item 20.52\n",
       "\\item 20.43\n",
       "\\item 20.21\n",
       "\\item 18.93\n",
       "\\item 18.87\n",
       "\\item 18.8\n",
       "\\item 18.18\n",
       "\\item 18.15\n",
       "\\item 17.43\n",
       "\\item 17.13\n",
       "\\item 16.94\n",
       "\\item 16.19\n",
       "\\item 15.8\n",
       "\\item 15.68\n",
       "\\item 15.6\n",
       "\\item 15.21\n",
       "\\item 15.03\n",
       "\\item 14.87\n",
       "\\item 14.11\n",
       "\\item 14.03\n",
       "\\item 13.89\n",
       "\\item 13.72\n",
       "\\item 13.65\n",
       "\\item 13.12\n",
       "\\item 13\n",
       "\\item 12.51\n",
       "\\item 12.33\n",
       "\\item 12.27\n",
       "\\item 11.95\n",
       "\\item 11.84\n",
       "\\item 11.76\n",
       "\\item 11.7\n",
       "\\item 11.3\n",
       "\\item 10.26\n",
       "\\item 10\n",
       "\\item 9.7\n",
       "\\item 8.87\n",
       "\\item 8.78\n",
       "\\item 8.7\n",
       "\\item 8.38\n",
       "\\item 8.3\n",
       "\\item 7.64\n",
       "\\item 7.47\n",
       "\\item 7.33\n",
       "\\item 6.67\n",
       "\\item 6\n",
       "\\item 4.99\n",
       "\\end{enumerate*}\n"
      ],
      "text/markdown": [
       "1. 28.46\n",
       "2. 28.1\n",
       "3. 27.07\n",
       "4. 26.55\n",
       "5. 26.47\n",
       "6. 25.77\n",
       "7. 25.27\n",
       "8. 23.05\n",
       "9. 22.84\n",
       "10. 22.4\n",
       "11. 22.01\n",
       "12. 21.84\n",
       "13. 21.18\n",
       "14. 20.64\n",
       "15. 20.52\n",
       "16. 20.43\n",
       "17. 20.21\n",
       "18. 18.93\n",
       "19. 18.87\n",
       "20. 18.8\n",
       "21. 18.18\n",
       "22. 18.15\n",
       "23. 17.43\n",
       "24. 17.13\n",
       "25. 16.94\n",
       "26. 16.19\n",
       "27. 15.8\n",
       "28. 15.68\n",
       "29. 15.6\n",
       "30. 15.21\n",
       "31. 15.03\n",
       "32. 14.87\n",
       "33. 14.11\n",
       "34. 14.03\n",
       "35. 13.89\n",
       "36. 13.72\n",
       "37. 13.65\n",
       "38. 13.12\n",
       "39. 13\n",
       "40. 12.51\n",
       "41. 12.33\n",
       "42. 12.27\n",
       "43. 11.95\n",
       "44. 11.84\n",
       "45. 11.76\n",
       "46. 11.7\n",
       "47. 11.3\n",
       "48. 10.26\n",
       "49. 10\n",
       "50. 9.7\n",
       "51. 8.87\n",
       "52. 8.78\n",
       "53. 8.7\n",
       "54. 8.38\n",
       "55. 8.3\n",
       "56. 7.64\n",
       "57. 7.47\n",
       "58. 7.33\n",
       "59. 6.67\n",
       "60. 6\n",
       "61. 4.99\n",
       "\n",
       "\n"
      ],
      "text/plain": [
       " [1] 28.46 28.10 27.07 26.55 26.47 25.77 25.27 23.05 22.84 22.40 22.01 21.84\n",
       "[13] 21.18 20.64 20.52 20.43 20.21 18.93 18.87 18.80 18.18 18.15 17.43 17.13\n",
       "[25] 16.94 16.19 15.80 15.68 15.60 15.21 15.03 14.87 14.11 14.03 13.89 13.72\n",
       "[37] 13.65 13.12 13.00 12.51 12.33 12.27 11.95 11.84 11.76 11.70 11.30 10.26\n",
       "[49] 10.00  9.70  8.87  8.78  8.70  8.38  8.30  7.64  7.47  7.33  6.67  6.00\n",
       "[61]  4.99"
      ]
     },
     "metadata": {},
     "output_type": "display_data"
    }
   ],
   "source": [
    "# Posortuj dane wartości `PM25` od największej do najmniejszej.\n",
    "\n",
    "sort(powietrze$PM25, decreasing=TRUE)"
   ]
  },
  {
   "cell_type": "code",
   "execution_count": 118,
   "metadata": {
    "id": "zgXA86VmfxQq",
    "vscode": {
     "languageId": "r"
    }
   },
   "outputs": [
    {
     "data": {
      "text/html": [
       "<table class=\"dataframe\">\n",
       "<caption>A tibble: 61 × 10</caption>\n",
       "<thead>\n",
       "\t<tr><th scope=col>PM25</th><th scope=col>PM10</th><th scope=col>NO2</th><th scope=col>NO</th><th scope=col>NOx</th><th scope=col>CO</th><th scope=col>C6H6</th><th scope=col>data</th><th scope=col>poziom_PM25</th><th scope=col>poziom_PM10</th></tr>\n",
       "\t<tr><th scope=col>&lt;dbl&gt;</th><th scope=col>&lt;dbl&gt;</th><th scope=col>&lt;dbl&gt;</th><th scope=col>&lt;dbl&gt;</th><th scope=col>&lt;dbl&gt;</th><th scope=col>&lt;dbl&gt;</th><th scope=col>&lt;dbl&gt;</th><th scope=col>&lt;date&gt;</th><th scope=col>&lt;chr&gt;</th><th scope=col>&lt;chr&gt;</th></tr>\n",
       "</thead>\n",
       "<tbody>\n",
       "\t<tr><td>28.46</td><td>44.70</td><td>46.71</td><td>25.49</td><td> 85.82</td><td>0.70</td><td>0.48</td><td>2023-08-21</td><td>H</td><td>H</td></tr>\n",
       "\t<tr><td>28.10</td><td>47.05</td><td>52.71</td><td>30.89</td><td>100.06</td><td>0.61</td><td>0.59</td><td>2023-09-13</td><td>H</td><td>H</td></tr>\n",
       "\t<tr><td>27.07</td><td>35.78</td><td>48.39</td><td>36.50</td><td>104.34</td><td>0.71</td><td>0.84</td><td>2023-09-10</td><td>H</td><td>H</td></tr>\n",
       "\t<tr><td>26.55</td><td>36.32</td><td>53.00</td><td>42.51</td><td>118.19</td><td>0.68</td><td>0.91</td><td>2023-09-09</td><td>H</td><td>H</td></tr>\n",
       "\t<tr><td>26.47</td><td>42.52</td><td>52.46</td><td>34.60</td><td>103.28</td><td>0.65</td><td>0.63</td><td>2023-09-12</td><td>H</td><td>H</td></tr>\n",
       "\t<tr><td>25.77</td><td>40.78</td><td>60.34</td><td>64.14</td><td>158.68</td><td>0.72</td><td>1.09</td><td>2023-09-08</td><td>H</td><td>H</td></tr>\n",
       "\t<tr><td>25.27</td><td>37.15</td><td>42.59</td><td>20.65</td><td> 75.60</td><td>0.59</td><td>0.46</td><td>2023-08-23</td><td>H</td><td>H</td></tr>\n",
       "\t<tr><td>23.05</td><td>42.98</td><td>54.96</td><td>32.09</td><td>104.21</td><td>0.69</td><td>0.82</td><td>2023-08-25</td><td>H</td><td>H</td></tr>\n",
       "\t<tr><td>22.84</td><td>39.57</td><td>51.76</td><td>30.82</td><td> 98.99</td><td>0.68</td><td>0.52</td><td>2023-08-16</td><td>H</td><td>H</td></tr>\n",
       "\t<tr><td>22.40</td><td>40.54</td><td>54.05</td><td>58.90</td><td>141.76</td><td>0.73</td><td>0.92</td><td>2023-09-27</td><td>H</td><td>H</td></tr>\n",
       "\t<tr><td>22.01</td><td>42.59</td><td>54.23</td><td>77.60</td><td>173.21</td><td>0.78</td><td>0.95</td><td>2023-09-28</td><td>H</td><td>H</td></tr>\n",
       "\t<tr><td>21.84</td><td>31.13</td><td>32.15</td><td>16.01</td><td> 56.69</td><td>0.59</td><td>0.37</td><td>2023-08-20</td><td>H</td><td>M</td></tr>\n",
       "\t<tr><td>21.18</td><td>37.08</td><td>58.63</td><td>58.48</td><td>145.75</td><td>0.70</td><td>0.99</td><td>2023-09-07</td><td>H</td><td>H</td></tr>\n",
       "\t<tr><td>20.64</td><td>33.34</td><td>37.08</td><td>20.39</td><td> 68.35</td><td>0.62</td><td>0.51</td><td>2023-08-15</td><td>H</td><td>M</td></tr>\n",
       "\t<tr><td>20.52</td><td>35.74</td><td>42.83</td><td>61.22</td><td>136.71</td><td>0.69</td><td>0.77</td><td>2023-09-26</td><td>H</td><td>H</td></tr>\n",
       "\t<tr><td>20.43</td><td>37.56</td><td>53.53</td><td>81.55</td><td>178.57</td><td>0.76</td><td>0.82</td><td>2023-09-29</td><td>M</td><td>H</td></tr>\n",
       "\t<tr><td>20.21</td><td>34.22</td><td>48.63</td><td>34.36</td><td>101.31</td><td>0.58</td><td>0.59</td><td>2023-09-11</td><td>M</td><td>H</td></tr>\n",
       "\t<tr><td>18.93</td><td>28.18</td><td>34.96</td><td>21.90</td><td> 68.56</td><td>0.60</td><td>0.39</td><td>2023-08-19</td><td>M</td><td>M</td></tr>\n",
       "\t<tr><td>18.87</td><td>28.12</td><td>35.67</td><td>64.76</td><td>134.96</td><td>0.73</td><td>0.73</td><td>2023-09-30</td><td>M</td><td>M</td></tr>\n",
       "\t<tr><td>18.80</td><td>34.17</td><td>45.54</td><td>28.41</td><td> 89.10</td><td>0.60</td><td>0.53</td><td>2023-08-17</td><td>M</td><td>M</td></tr>\n",
       "\t<tr><td>18.18</td><td>30.22</td><td>51.88</td><td>23.24</td><td> 87.51</td><td>0.59</td><td>0.49</td><td>2023-08-24</td><td>M</td><td>M</td></tr>\n",
       "\t<tr><td>18.15</td><td>26.19</td><td>37.75</td><td>31.75</td><td> 86.42</td><td>0.55</td><td>1.08</td><td>2023-09-16</td><td>M</td><td>M</td></tr>\n",
       "\t<tr><td>17.43</td><td>31.93</td><td>53.86</td><td>26.97</td><td> 95.22</td><td>0.60</td><td>0.57</td><td>2023-08-22</td><td>M</td><td>M</td></tr>\n",
       "\t<tr><td>17.13</td><td>31.02</td><td>43.39</td><td>28.32</td><td> 88.69</td><td>0.59</td><td>0.47</td><td>2023-08-18</td><td>M</td><td>M</td></tr>\n",
       "\t<tr><td>16.94</td><td>30.36</td><td>48.56</td><td>26.48</td><td> 89.20</td><td>0.61</td><td>0.42</td><td>2023-08-14</td><td>M</td><td>M</td></tr>\n",
       "\t<tr><td>16.19</td><td>29.37</td><td>54.47</td><td>51.79</td><td>133.87</td><td>0.64</td><td>0.82</td><td>2023-09-06</td><td>M</td><td>M</td></tr>\n",
       "\t<tr><td>15.80</td><td>26.66</td><td>39.78</td><td>23.25</td><td> 75.45</td><td>0.60</td><td>0.39</td><td>2023-08-26</td><td>M</td><td>M</td></tr>\n",
       "\t<tr><td>15.68</td><td>29.02</td><td>50.08</td><td>59.76</td><td>141.71</td><td>0.66</td><td>0.77</td><td>2023-09-18</td><td>M</td><td>M</td></tr>\n",
       "\t<tr><td>15.60</td><td>25.22</td><td>39.52</td><td>25.12</td><td> 79.68</td><td>0.61</td><td>0.49</td><td>2023-08-13</td><td>M</td><td>M</td></tr>\n",
       "\t<tr><td>15.21</td><td>25.27</td><td>46.76</td><td>23.23</td><td> 82.36</td><td>0.58</td><td>0.46</td><td>2023-08-12</td><td>M</td><td>M</td></tr>\n",
       "\t<tr><td>⋮</td><td>⋮</td><td>⋮</td><td>⋮</td><td>⋮</td><td>⋮</td><td>⋮</td><td>⋮</td><td>⋮</td><td>⋮</td></tr>\n",
       "\t<tr><td>14.87</td><td>24.68</td><td>34.70</td><td>41.03</td><td> 97.62</td><td>0.52</td><td>0.55</td><td>2023-09-25</td><td>M</td><td>M</td></tr>\n",
       "\t<tr><td>14.11</td><td>25.50</td><td>46.44</td><td>29.56</td><td> 91.77</td><td>0.56</td><td>0.48</td><td>2023-08-11</td><td>M</td><td>M</td></tr>\n",
       "\t<tr><td>14.03</td><td>22.52</td><td>39.49</td><td>46.11</td><td>110.21</td><td>0.55</td><td>0.45</td><td>2023-09-19</td><td>M</td><td>M</td></tr>\n",
       "\t<tr><td>13.89</td><td>20.74</td><td>31.65</td><td>17.87</td><td> 59.06</td><td>0.58</td><td>0.39</td><td>2023-08-27</td><td>M</td><td>M</td></tr>\n",
       "\t<tr><td>13.72</td><td>30.92</td><td>52.37</td><td>49.10</td><td>125.62</td><td>0.62</td><td>0.69</td><td>2023-09-22</td><td>M</td><td>M</td></tr>\n",
       "\t<tr><td>13.65</td><td>24.45</td><td>51.08</td><td>48.98</td><td>126.15</td><td>0.60</td><td>0.70</td><td>2023-09-05</td><td>M</td><td>M</td></tr>\n",
       "\t<tr><td>13.12</td><td>19.58</td><td>41.00</td><td>37.97</td><td> 97.39</td><td>0.60</td><td>0.80</td><td>2023-09-17</td><td>M</td><td>L</td></tr>\n",
       "\t<tr><td>13.00</td><td>20.34</td><td>24.91</td><td>24.24</td><td> 65.40</td><td>0.51</td><td>0.40</td><td>2023-08-30</td><td>M</td><td>M</td></tr>\n",
       "\t<tr><td>12.51</td><td>20.93</td><td>33.74</td><td>28.63</td><td> 79.54</td><td>0.58</td><td>0.38</td><td>2023-08-28</td><td>M</td><td>M</td></tr>\n",
       "\t<tr><td>12.33</td><td>24.75</td><td>40.06</td><td>29.19</td><td> 84.80</td><td>0.48</td><td>0.40</td><td>2023-09-04</td><td>M</td><td>M</td></tr>\n",
       "\t<tr><td>12.27</td><td>18.21</td><td>32.40</td><td>27.15</td><td> 74.04</td><td>0.55</td><td>0.49</td><td>2023-09-03</td><td>M</td><td>L</td></tr>\n",
       "\t<tr><td>11.95</td><td>18.27</td><td>34.15</td><td>36.54</td><td> 90.16</td><td>0.53</td><td>0.42</td><td>2023-09-23</td><td>M</td><td>L</td></tr>\n",
       "\t<tr><td>11.84</td><td>20.14</td><td>31.63</td><td>24.70</td><td> 69.46</td><td>0.44</td><td>0.35</td><td>2023-08-31</td><td>M</td><td>M</td></tr>\n",
       "\t<tr><td>11.76</td><td>25.04</td><td>44.57</td><td>38.83</td><td>104.11</td><td>0.60</td><td>0.47</td><td>2023-08-01</td><td>M</td><td>M</td></tr>\n",
       "\t<tr><td>11.70</td><td>20.69</td><td>40.60</td><td>24.98</td><td> 78.89</td><td>0.50</td><td>0.36</td><td>2023-08-10</td><td>M</td><td>M</td></tr>\n",
       "\t<tr><td>11.30</td><td>18.47</td><td>36.00</td><td>26.02</td><td> 75.90</td><td>0.60</td><td>0.39</td><td>2023-08-05</td><td>L</td><td>L</td></tr>\n",
       "\t<tr><td>10.26</td><td>19.42</td><td>40.29</td><td>33.73</td><td> 92.01</td><td>0.50</td><td>0.43</td><td>2023-09-01</td><td>L</td><td>L</td></tr>\n",
       "\t<tr><td>10.00</td><td>24.70</td><td>47.40</td><td>38.62</td><td>106.62</td><td>0.61</td><td>0.47</td><td>2023-08-04</td><td>L</td><td>M</td></tr>\n",
       "\t<tr><td> 9.70</td><td>22.92</td><td>53.74</td><td>66.64</td><td>155.92</td><td>0.67</td><td>0.90</td><td>2023-09-21</td><td>L</td><td>M</td></tr>\n",
       "\t<tr><td> 8.87</td><td>14.67</td><td>38.97</td><td>25.20</td><td> 77.62</td><td>0.46</td><td>0.31</td><td>2023-09-14</td><td>L</td><td>L</td></tr>\n",
       "\t<tr><td> 8.78</td><td>16.76</td><td>46.00</td><td>42.12</td><td>110.58</td><td>0.50</td><td>0.52</td><td>2023-09-15</td><td>L</td><td>L</td></tr>\n",
       "\t<tr><td> 8.70</td><td>13.84</td><td>35.58</td><td>27.32</td><td> 75.95</td><td>0.55</td><td>0.48</td><td>2023-09-02</td><td>L</td><td>L</td></tr>\n",
       "\t<tr><td> 8.38</td><td>22.75</td><td>50.06</td><td>36.20</td><td>107.94</td><td>0.63</td><td>0.48</td><td>2023-08-03</td><td>L</td><td>M</td></tr>\n",
       "\t<tr><td> 8.30</td><td>18.44</td><td>36.25</td><td>22.17</td><td> 70.24</td><td>0.52</td><td>0.34</td><td>2023-08-02</td><td>L</td><td>L</td></tr>\n",
       "\t<tr><td> 7.64</td><td>17.78</td><td>39.02</td><td>58.05</td><td>128.04</td><td>0.60</td><td>0.49</td><td>2023-09-20</td><td>L</td><td>L</td></tr>\n",
       "\t<tr><td> 7.47</td><td>11.70</td><td>34.59</td><td>35.11</td><td> 87.50</td><td>3.04</td><td>0.39</td><td>2023-09-24</td><td>L</td><td>L</td></tr>\n",
       "\t<tr><td> 7.33</td><td>11.05</td><td>21.68</td><td>19.17</td><td> 51.08</td><td>0.51</td><td>0.35</td><td>2023-08-06</td><td>L</td><td>L</td></tr>\n",
       "\t<tr><td> 6.67</td><td>15.62</td><td>32.27</td><td>27.74</td><td> 74.78</td><td>0.46</td><td>0.28</td><td>2023-08-09</td><td>L</td><td>L</td></tr>\n",
       "\t<tr><td> 6.00</td><td>14.38</td><td>30.77</td><td>19.87</td><td> 62.57</td><td>0.43</td><td>0.27</td><td>2023-08-08</td><td>L</td><td>L</td></tr>\n",
       "\t<tr><td> 4.99</td><td>12.08</td><td>21.20</td><td>17.95</td><td> 48.71</td><td>0.42</td><td>0.20</td><td>2023-08-07</td><td>L</td><td>L</td></tr>\n",
       "</tbody>\n",
       "</table>\n"
      ],
      "text/latex": [
       "A tibble: 61 × 10\n",
       "\\begin{tabular}{llllllllll}\n",
       " PM25 & PM10 & NO2 & NO & NOx & CO & C6H6 & data & poziom\\_PM25 & poziom\\_PM10\\\\\n",
       " <dbl> & <dbl> & <dbl> & <dbl> & <dbl> & <dbl> & <dbl> & <date> & <chr> & <chr>\\\\\n",
       "\\hline\n",
       "\t 28.46 & 44.70 & 46.71 & 25.49 &  85.82 & 0.70 & 0.48 & 2023-08-21 & H & H\\\\\n",
       "\t 28.10 & 47.05 & 52.71 & 30.89 & 100.06 & 0.61 & 0.59 & 2023-09-13 & H & H\\\\\n",
       "\t 27.07 & 35.78 & 48.39 & 36.50 & 104.34 & 0.71 & 0.84 & 2023-09-10 & H & H\\\\\n",
       "\t 26.55 & 36.32 & 53.00 & 42.51 & 118.19 & 0.68 & 0.91 & 2023-09-09 & H & H\\\\\n",
       "\t 26.47 & 42.52 & 52.46 & 34.60 & 103.28 & 0.65 & 0.63 & 2023-09-12 & H & H\\\\\n",
       "\t 25.77 & 40.78 & 60.34 & 64.14 & 158.68 & 0.72 & 1.09 & 2023-09-08 & H & H\\\\\n",
       "\t 25.27 & 37.15 & 42.59 & 20.65 &  75.60 & 0.59 & 0.46 & 2023-08-23 & H & H\\\\\n",
       "\t 23.05 & 42.98 & 54.96 & 32.09 & 104.21 & 0.69 & 0.82 & 2023-08-25 & H & H\\\\\n",
       "\t 22.84 & 39.57 & 51.76 & 30.82 &  98.99 & 0.68 & 0.52 & 2023-08-16 & H & H\\\\\n",
       "\t 22.40 & 40.54 & 54.05 & 58.90 & 141.76 & 0.73 & 0.92 & 2023-09-27 & H & H\\\\\n",
       "\t 22.01 & 42.59 & 54.23 & 77.60 & 173.21 & 0.78 & 0.95 & 2023-09-28 & H & H\\\\\n",
       "\t 21.84 & 31.13 & 32.15 & 16.01 &  56.69 & 0.59 & 0.37 & 2023-08-20 & H & M\\\\\n",
       "\t 21.18 & 37.08 & 58.63 & 58.48 & 145.75 & 0.70 & 0.99 & 2023-09-07 & H & H\\\\\n",
       "\t 20.64 & 33.34 & 37.08 & 20.39 &  68.35 & 0.62 & 0.51 & 2023-08-15 & H & M\\\\\n",
       "\t 20.52 & 35.74 & 42.83 & 61.22 & 136.71 & 0.69 & 0.77 & 2023-09-26 & H & H\\\\\n",
       "\t 20.43 & 37.56 & 53.53 & 81.55 & 178.57 & 0.76 & 0.82 & 2023-09-29 & M & H\\\\\n",
       "\t 20.21 & 34.22 & 48.63 & 34.36 & 101.31 & 0.58 & 0.59 & 2023-09-11 & M & H\\\\\n",
       "\t 18.93 & 28.18 & 34.96 & 21.90 &  68.56 & 0.60 & 0.39 & 2023-08-19 & M & M\\\\\n",
       "\t 18.87 & 28.12 & 35.67 & 64.76 & 134.96 & 0.73 & 0.73 & 2023-09-30 & M & M\\\\\n",
       "\t 18.80 & 34.17 & 45.54 & 28.41 &  89.10 & 0.60 & 0.53 & 2023-08-17 & M & M\\\\\n",
       "\t 18.18 & 30.22 & 51.88 & 23.24 &  87.51 & 0.59 & 0.49 & 2023-08-24 & M & M\\\\\n",
       "\t 18.15 & 26.19 & 37.75 & 31.75 &  86.42 & 0.55 & 1.08 & 2023-09-16 & M & M\\\\\n",
       "\t 17.43 & 31.93 & 53.86 & 26.97 &  95.22 & 0.60 & 0.57 & 2023-08-22 & M & M\\\\\n",
       "\t 17.13 & 31.02 & 43.39 & 28.32 &  88.69 & 0.59 & 0.47 & 2023-08-18 & M & M\\\\\n",
       "\t 16.94 & 30.36 & 48.56 & 26.48 &  89.20 & 0.61 & 0.42 & 2023-08-14 & M & M\\\\\n",
       "\t 16.19 & 29.37 & 54.47 & 51.79 & 133.87 & 0.64 & 0.82 & 2023-09-06 & M & M\\\\\n",
       "\t 15.80 & 26.66 & 39.78 & 23.25 &  75.45 & 0.60 & 0.39 & 2023-08-26 & M & M\\\\\n",
       "\t 15.68 & 29.02 & 50.08 & 59.76 & 141.71 & 0.66 & 0.77 & 2023-09-18 & M & M\\\\\n",
       "\t 15.60 & 25.22 & 39.52 & 25.12 &  79.68 & 0.61 & 0.49 & 2023-08-13 & M & M\\\\\n",
       "\t 15.21 & 25.27 & 46.76 & 23.23 &  82.36 & 0.58 & 0.46 & 2023-08-12 & M & M\\\\\n",
       "\t ⋮ & ⋮ & ⋮ & ⋮ & ⋮ & ⋮ & ⋮ & ⋮ & ⋮ & ⋮\\\\\n",
       "\t 14.87 & 24.68 & 34.70 & 41.03 &  97.62 & 0.52 & 0.55 & 2023-09-25 & M & M\\\\\n",
       "\t 14.11 & 25.50 & 46.44 & 29.56 &  91.77 & 0.56 & 0.48 & 2023-08-11 & M & M\\\\\n",
       "\t 14.03 & 22.52 & 39.49 & 46.11 & 110.21 & 0.55 & 0.45 & 2023-09-19 & M & M\\\\\n",
       "\t 13.89 & 20.74 & 31.65 & 17.87 &  59.06 & 0.58 & 0.39 & 2023-08-27 & M & M\\\\\n",
       "\t 13.72 & 30.92 & 52.37 & 49.10 & 125.62 & 0.62 & 0.69 & 2023-09-22 & M & M\\\\\n",
       "\t 13.65 & 24.45 & 51.08 & 48.98 & 126.15 & 0.60 & 0.70 & 2023-09-05 & M & M\\\\\n",
       "\t 13.12 & 19.58 & 41.00 & 37.97 &  97.39 & 0.60 & 0.80 & 2023-09-17 & M & L\\\\\n",
       "\t 13.00 & 20.34 & 24.91 & 24.24 &  65.40 & 0.51 & 0.40 & 2023-08-30 & M & M\\\\\n",
       "\t 12.51 & 20.93 & 33.74 & 28.63 &  79.54 & 0.58 & 0.38 & 2023-08-28 & M & M\\\\\n",
       "\t 12.33 & 24.75 & 40.06 & 29.19 &  84.80 & 0.48 & 0.40 & 2023-09-04 & M & M\\\\\n",
       "\t 12.27 & 18.21 & 32.40 & 27.15 &  74.04 & 0.55 & 0.49 & 2023-09-03 & M & L\\\\\n",
       "\t 11.95 & 18.27 & 34.15 & 36.54 &  90.16 & 0.53 & 0.42 & 2023-09-23 & M & L\\\\\n",
       "\t 11.84 & 20.14 & 31.63 & 24.70 &  69.46 & 0.44 & 0.35 & 2023-08-31 & M & M\\\\\n",
       "\t 11.76 & 25.04 & 44.57 & 38.83 & 104.11 & 0.60 & 0.47 & 2023-08-01 & M & M\\\\\n",
       "\t 11.70 & 20.69 & 40.60 & 24.98 &  78.89 & 0.50 & 0.36 & 2023-08-10 & M & M\\\\\n",
       "\t 11.30 & 18.47 & 36.00 & 26.02 &  75.90 & 0.60 & 0.39 & 2023-08-05 & L & L\\\\\n",
       "\t 10.26 & 19.42 & 40.29 & 33.73 &  92.01 & 0.50 & 0.43 & 2023-09-01 & L & L\\\\\n",
       "\t 10.00 & 24.70 & 47.40 & 38.62 & 106.62 & 0.61 & 0.47 & 2023-08-04 & L & M\\\\\n",
       "\t  9.70 & 22.92 & 53.74 & 66.64 & 155.92 & 0.67 & 0.90 & 2023-09-21 & L & M\\\\\n",
       "\t  8.87 & 14.67 & 38.97 & 25.20 &  77.62 & 0.46 & 0.31 & 2023-09-14 & L & L\\\\\n",
       "\t  8.78 & 16.76 & 46.00 & 42.12 & 110.58 & 0.50 & 0.52 & 2023-09-15 & L & L\\\\\n",
       "\t  8.70 & 13.84 & 35.58 & 27.32 &  75.95 & 0.55 & 0.48 & 2023-09-02 & L & L\\\\\n",
       "\t  8.38 & 22.75 & 50.06 & 36.20 & 107.94 & 0.63 & 0.48 & 2023-08-03 & L & M\\\\\n",
       "\t  8.30 & 18.44 & 36.25 & 22.17 &  70.24 & 0.52 & 0.34 & 2023-08-02 & L & L\\\\\n",
       "\t  7.64 & 17.78 & 39.02 & 58.05 & 128.04 & 0.60 & 0.49 & 2023-09-20 & L & L\\\\\n",
       "\t  7.47 & 11.70 & 34.59 & 35.11 &  87.50 & 3.04 & 0.39 & 2023-09-24 & L & L\\\\\n",
       "\t  7.33 & 11.05 & 21.68 & 19.17 &  51.08 & 0.51 & 0.35 & 2023-08-06 & L & L\\\\\n",
       "\t  6.67 & 15.62 & 32.27 & 27.74 &  74.78 & 0.46 & 0.28 & 2023-08-09 & L & L\\\\\n",
       "\t  6.00 & 14.38 & 30.77 & 19.87 &  62.57 & 0.43 & 0.27 & 2023-08-08 & L & L\\\\\n",
       "\t  4.99 & 12.08 & 21.20 & 17.95 &  48.71 & 0.42 & 0.20 & 2023-08-07 & L & L\\\\\n",
       "\\end{tabular}\n"
      ],
      "text/markdown": [
       "\n",
       "A tibble: 61 × 10\n",
       "\n",
       "| PM25 &lt;dbl&gt; | PM10 &lt;dbl&gt; | NO2 &lt;dbl&gt; | NO &lt;dbl&gt; | NOx &lt;dbl&gt; | CO &lt;dbl&gt; | C6H6 &lt;dbl&gt; | data &lt;date&gt; | poziom_PM25 &lt;chr&gt; | poziom_PM10 &lt;chr&gt; |\n",
       "|---|---|---|---|---|---|---|---|---|---|\n",
       "| 28.46 | 44.70 | 46.71 | 25.49 |  85.82 | 0.70 | 0.48 | 2023-08-21 | H | H |\n",
       "| 28.10 | 47.05 | 52.71 | 30.89 | 100.06 | 0.61 | 0.59 | 2023-09-13 | H | H |\n",
       "| 27.07 | 35.78 | 48.39 | 36.50 | 104.34 | 0.71 | 0.84 | 2023-09-10 | H | H |\n",
       "| 26.55 | 36.32 | 53.00 | 42.51 | 118.19 | 0.68 | 0.91 | 2023-09-09 | H | H |\n",
       "| 26.47 | 42.52 | 52.46 | 34.60 | 103.28 | 0.65 | 0.63 | 2023-09-12 | H | H |\n",
       "| 25.77 | 40.78 | 60.34 | 64.14 | 158.68 | 0.72 | 1.09 | 2023-09-08 | H | H |\n",
       "| 25.27 | 37.15 | 42.59 | 20.65 |  75.60 | 0.59 | 0.46 | 2023-08-23 | H | H |\n",
       "| 23.05 | 42.98 | 54.96 | 32.09 | 104.21 | 0.69 | 0.82 | 2023-08-25 | H | H |\n",
       "| 22.84 | 39.57 | 51.76 | 30.82 |  98.99 | 0.68 | 0.52 | 2023-08-16 | H | H |\n",
       "| 22.40 | 40.54 | 54.05 | 58.90 | 141.76 | 0.73 | 0.92 | 2023-09-27 | H | H |\n",
       "| 22.01 | 42.59 | 54.23 | 77.60 | 173.21 | 0.78 | 0.95 | 2023-09-28 | H | H |\n",
       "| 21.84 | 31.13 | 32.15 | 16.01 |  56.69 | 0.59 | 0.37 | 2023-08-20 | H | M |\n",
       "| 21.18 | 37.08 | 58.63 | 58.48 | 145.75 | 0.70 | 0.99 | 2023-09-07 | H | H |\n",
       "| 20.64 | 33.34 | 37.08 | 20.39 |  68.35 | 0.62 | 0.51 | 2023-08-15 | H | M |\n",
       "| 20.52 | 35.74 | 42.83 | 61.22 | 136.71 | 0.69 | 0.77 | 2023-09-26 | H | H |\n",
       "| 20.43 | 37.56 | 53.53 | 81.55 | 178.57 | 0.76 | 0.82 | 2023-09-29 | M | H |\n",
       "| 20.21 | 34.22 | 48.63 | 34.36 | 101.31 | 0.58 | 0.59 | 2023-09-11 | M | H |\n",
       "| 18.93 | 28.18 | 34.96 | 21.90 |  68.56 | 0.60 | 0.39 | 2023-08-19 | M | M |\n",
       "| 18.87 | 28.12 | 35.67 | 64.76 | 134.96 | 0.73 | 0.73 | 2023-09-30 | M | M |\n",
       "| 18.80 | 34.17 | 45.54 | 28.41 |  89.10 | 0.60 | 0.53 | 2023-08-17 | M | M |\n",
       "| 18.18 | 30.22 | 51.88 | 23.24 |  87.51 | 0.59 | 0.49 | 2023-08-24 | M | M |\n",
       "| 18.15 | 26.19 | 37.75 | 31.75 |  86.42 | 0.55 | 1.08 | 2023-09-16 | M | M |\n",
       "| 17.43 | 31.93 | 53.86 | 26.97 |  95.22 | 0.60 | 0.57 | 2023-08-22 | M | M |\n",
       "| 17.13 | 31.02 | 43.39 | 28.32 |  88.69 | 0.59 | 0.47 | 2023-08-18 | M | M |\n",
       "| 16.94 | 30.36 | 48.56 | 26.48 |  89.20 | 0.61 | 0.42 | 2023-08-14 | M | M |\n",
       "| 16.19 | 29.37 | 54.47 | 51.79 | 133.87 | 0.64 | 0.82 | 2023-09-06 | M | M |\n",
       "| 15.80 | 26.66 | 39.78 | 23.25 |  75.45 | 0.60 | 0.39 | 2023-08-26 | M | M |\n",
       "| 15.68 | 29.02 | 50.08 | 59.76 | 141.71 | 0.66 | 0.77 | 2023-09-18 | M | M |\n",
       "| 15.60 | 25.22 | 39.52 | 25.12 |  79.68 | 0.61 | 0.49 | 2023-08-13 | M | M |\n",
       "| 15.21 | 25.27 | 46.76 | 23.23 |  82.36 | 0.58 | 0.46 | 2023-08-12 | M | M |\n",
       "| ⋮ | ⋮ | ⋮ | ⋮ | ⋮ | ⋮ | ⋮ | ⋮ | ⋮ | ⋮ |\n",
       "| 14.87 | 24.68 | 34.70 | 41.03 |  97.62 | 0.52 | 0.55 | 2023-09-25 | M | M |\n",
       "| 14.11 | 25.50 | 46.44 | 29.56 |  91.77 | 0.56 | 0.48 | 2023-08-11 | M | M |\n",
       "| 14.03 | 22.52 | 39.49 | 46.11 | 110.21 | 0.55 | 0.45 | 2023-09-19 | M | M |\n",
       "| 13.89 | 20.74 | 31.65 | 17.87 |  59.06 | 0.58 | 0.39 | 2023-08-27 | M | M |\n",
       "| 13.72 | 30.92 | 52.37 | 49.10 | 125.62 | 0.62 | 0.69 | 2023-09-22 | M | M |\n",
       "| 13.65 | 24.45 | 51.08 | 48.98 | 126.15 | 0.60 | 0.70 | 2023-09-05 | M | M |\n",
       "| 13.12 | 19.58 | 41.00 | 37.97 |  97.39 | 0.60 | 0.80 | 2023-09-17 | M | L |\n",
       "| 13.00 | 20.34 | 24.91 | 24.24 |  65.40 | 0.51 | 0.40 | 2023-08-30 | M | M |\n",
       "| 12.51 | 20.93 | 33.74 | 28.63 |  79.54 | 0.58 | 0.38 | 2023-08-28 | M | M |\n",
       "| 12.33 | 24.75 | 40.06 | 29.19 |  84.80 | 0.48 | 0.40 | 2023-09-04 | M | M |\n",
       "| 12.27 | 18.21 | 32.40 | 27.15 |  74.04 | 0.55 | 0.49 | 2023-09-03 | M | L |\n",
       "| 11.95 | 18.27 | 34.15 | 36.54 |  90.16 | 0.53 | 0.42 | 2023-09-23 | M | L |\n",
       "| 11.84 | 20.14 | 31.63 | 24.70 |  69.46 | 0.44 | 0.35 | 2023-08-31 | M | M |\n",
       "| 11.76 | 25.04 | 44.57 | 38.83 | 104.11 | 0.60 | 0.47 | 2023-08-01 | M | M |\n",
       "| 11.70 | 20.69 | 40.60 | 24.98 |  78.89 | 0.50 | 0.36 | 2023-08-10 | M | M |\n",
       "| 11.30 | 18.47 | 36.00 | 26.02 |  75.90 | 0.60 | 0.39 | 2023-08-05 | L | L |\n",
       "| 10.26 | 19.42 | 40.29 | 33.73 |  92.01 | 0.50 | 0.43 | 2023-09-01 | L | L |\n",
       "| 10.00 | 24.70 | 47.40 | 38.62 | 106.62 | 0.61 | 0.47 | 2023-08-04 | L | M |\n",
       "|  9.70 | 22.92 | 53.74 | 66.64 | 155.92 | 0.67 | 0.90 | 2023-09-21 | L | M |\n",
       "|  8.87 | 14.67 | 38.97 | 25.20 |  77.62 | 0.46 | 0.31 | 2023-09-14 | L | L |\n",
       "|  8.78 | 16.76 | 46.00 | 42.12 | 110.58 | 0.50 | 0.52 | 2023-09-15 | L | L |\n",
       "|  8.70 | 13.84 | 35.58 | 27.32 |  75.95 | 0.55 | 0.48 | 2023-09-02 | L | L |\n",
       "|  8.38 | 22.75 | 50.06 | 36.20 | 107.94 | 0.63 | 0.48 | 2023-08-03 | L | M |\n",
       "|  8.30 | 18.44 | 36.25 | 22.17 |  70.24 | 0.52 | 0.34 | 2023-08-02 | L | L |\n",
       "|  7.64 | 17.78 | 39.02 | 58.05 | 128.04 | 0.60 | 0.49 | 2023-09-20 | L | L |\n",
       "|  7.47 | 11.70 | 34.59 | 35.11 |  87.50 | 3.04 | 0.39 | 2023-09-24 | L | L |\n",
       "|  7.33 | 11.05 | 21.68 | 19.17 |  51.08 | 0.51 | 0.35 | 2023-08-06 | L | L |\n",
       "|  6.67 | 15.62 | 32.27 | 27.74 |  74.78 | 0.46 | 0.28 | 2023-08-09 | L | L |\n",
       "|  6.00 | 14.38 | 30.77 | 19.87 |  62.57 | 0.43 | 0.27 | 2023-08-08 | L | L |\n",
       "|  4.99 | 12.08 | 21.20 | 17.95 |  48.71 | 0.42 | 0.20 | 2023-08-07 | L | L |\n",
       "\n"
      ],
      "text/plain": [
       "   PM25  PM10  NO2   NO    NOx    CO   C6H6 data       poziom_PM25 poziom_PM10\n",
       "1  28.46 44.70 46.71 25.49  85.82 0.70 0.48 2023-08-21 H           H          \n",
       "2  28.10 47.05 52.71 30.89 100.06 0.61 0.59 2023-09-13 H           H          \n",
       "3  27.07 35.78 48.39 36.50 104.34 0.71 0.84 2023-09-10 H           H          \n",
       "4  26.55 36.32 53.00 42.51 118.19 0.68 0.91 2023-09-09 H           H          \n",
       "5  26.47 42.52 52.46 34.60 103.28 0.65 0.63 2023-09-12 H           H          \n",
       "6  25.77 40.78 60.34 64.14 158.68 0.72 1.09 2023-09-08 H           H          \n",
       "7  25.27 37.15 42.59 20.65  75.60 0.59 0.46 2023-08-23 H           H          \n",
       "8  23.05 42.98 54.96 32.09 104.21 0.69 0.82 2023-08-25 H           H          \n",
       "9  22.84 39.57 51.76 30.82  98.99 0.68 0.52 2023-08-16 H           H          \n",
       "10 22.40 40.54 54.05 58.90 141.76 0.73 0.92 2023-09-27 H           H          \n",
       "11 22.01 42.59 54.23 77.60 173.21 0.78 0.95 2023-09-28 H           H          \n",
       "12 21.84 31.13 32.15 16.01  56.69 0.59 0.37 2023-08-20 H           M          \n",
       "13 21.18 37.08 58.63 58.48 145.75 0.70 0.99 2023-09-07 H           H          \n",
       "14 20.64 33.34 37.08 20.39  68.35 0.62 0.51 2023-08-15 H           M          \n",
       "15 20.52 35.74 42.83 61.22 136.71 0.69 0.77 2023-09-26 H           H          \n",
       "16 20.43 37.56 53.53 81.55 178.57 0.76 0.82 2023-09-29 M           H          \n",
       "17 20.21 34.22 48.63 34.36 101.31 0.58 0.59 2023-09-11 M           H          \n",
       "18 18.93 28.18 34.96 21.90  68.56 0.60 0.39 2023-08-19 M           M          \n",
       "19 18.87 28.12 35.67 64.76 134.96 0.73 0.73 2023-09-30 M           M          \n",
       "20 18.80 34.17 45.54 28.41  89.10 0.60 0.53 2023-08-17 M           M          \n",
       "21 18.18 30.22 51.88 23.24  87.51 0.59 0.49 2023-08-24 M           M          \n",
       "22 18.15 26.19 37.75 31.75  86.42 0.55 1.08 2023-09-16 M           M          \n",
       "23 17.43 31.93 53.86 26.97  95.22 0.60 0.57 2023-08-22 M           M          \n",
       "24 17.13 31.02 43.39 28.32  88.69 0.59 0.47 2023-08-18 M           M          \n",
       "25 16.94 30.36 48.56 26.48  89.20 0.61 0.42 2023-08-14 M           M          \n",
       "26 16.19 29.37 54.47 51.79 133.87 0.64 0.82 2023-09-06 M           M          \n",
       "27 15.80 26.66 39.78 23.25  75.45 0.60 0.39 2023-08-26 M           M          \n",
       "28 15.68 29.02 50.08 59.76 141.71 0.66 0.77 2023-09-18 M           M          \n",
       "29 15.60 25.22 39.52 25.12  79.68 0.61 0.49 2023-08-13 M           M          \n",
       "30 15.21 25.27 46.76 23.23  82.36 0.58 0.46 2023-08-12 M           M          \n",
       "⋮  ⋮     ⋮     ⋮     ⋮     ⋮      ⋮    ⋮    ⋮          ⋮           ⋮          \n",
       "32 14.87 24.68 34.70 41.03  97.62 0.52 0.55 2023-09-25 M           M          \n",
       "33 14.11 25.50 46.44 29.56  91.77 0.56 0.48 2023-08-11 M           M          \n",
       "34 14.03 22.52 39.49 46.11 110.21 0.55 0.45 2023-09-19 M           M          \n",
       "35 13.89 20.74 31.65 17.87  59.06 0.58 0.39 2023-08-27 M           M          \n",
       "36 13.72 30.92 52.37 49.10 125.62 0.62 0.69 2023-09-22 M           M          \n",
       "37 13.65 24.45 51.08 48.98 126.15 0.60 0.70 2023-09-05 M           M          \n",
       "38 13.12 19.58 41.00 37.97  97.39 0.60 0.80 2023-09-17 M           L          \n",
       "39 13.00 20.34 24.91 24.24  65.40 0.51 0.40 2023-08-30 M           M          \n",
       "40 12.51 20.93 33.74 28.63  79.54 0.58 0.38 2023-08-28 M           M          \n",
       "41 12.33 24.75 40.06 29.19  84.80 0.48 0.40 2023-09-04 M           M          \n",
       "42 12.27 18.21 32.40 27.15  74.04 0.55 0.49 2023-09-03 M           L          \n",
       "43 11.95 18.27 34.15 36.54  90.16 0.53 0.42 2023-09-23 M           L          \n",
       "44 11.84 20.14 31.63 24.70  69.46 0.44 0.35 2023-08-31 M           M          \n",
       "45 11.76 25.04 44.57 38.83 104.11 0.60 0.47 2023-08-01 M           M          \n",
       "46 11.70 20.69 40.60 24.98  78.89 0.50 0.36 2023-08-10 M           M          \n",
       "47 11.30 18.47 36.00 26.02  75.90 0.60 0.39 2023-08-05 L           L          \n",
       "48 10.26 19.42 40.29 33.73  92.01 0.50 0.43 2023-09-01 L           L          \n",
       "49 10.00 24.70 47.40 38.62 106.62 0.61 0.47 2023-08-04 L           M          \n",
       "50  9.70 22.92 53.74 66.64 155.92 0.67 0.90 2023-09-21 L           M          \n",
       "51  8.87 14.67 38.97 25.20  77.62 0.46 0.31 2023-09-14 L           L          \n",
       "52  8.78 16.76 46.00 42.12 110.58 0.50 0.52 2023-09-15 L           L          \n",
       "53  8.70 13.84 35.58 27.32  75.95 0.55 0.48 2023-09-02 L           L          \n",
       "54  8.38 22.75 50.06 36.20 107.94 0.63 0.48 2023-08-03 L           M          \n",
       "55  8.30 18.44 36.25 22.17  70.24 0.52 0.34 2023-08-02 L           L          \n",
       "56  7.64 17.78 39.02 58.05 128.04 0.60 0.49 2023-09-20 L           L          \n",
       "57  7.47 11.70 34.59 35.11  87.50 3.04 0.39 2023-09-24 L           L          \n",
       "58  7.33 11.05 21.68 19.17  51.08 0.51 0.35 2023-08-06 L           L          \n",
       "59  6.67 15.62 32.27 27.74  74.78 0.46 0.28 2023-08-09 L           L          \n",
       "60  6.00 14.38 30.77 19.87  62.57 0.43 0.27 2023-08-08 L           L          \n",
       "61  4.99 12.08 21.20 17.95  48.71 0.42 0.20 2023-08-07 L           L          "
      ]
     },
     "metadata": {},
     "output_type": "display_data"
    }
   ],
   "source": [
    "# Posortuj ramkę danych wg `PM25` od największej do najmniejszej wartości.\n",
    "\n",
    "powietrze[order(powietrze$PM25, decreasing = T),]"
   ]
  },
  {
   "cell_type": "markdown",
   "metadata": {
    "id": "cysBZuZ8f10E"
   },
   "source": [
    "Wykorzystaj pakiet `dplyr` oraz operator `%>%` i wykonaj następujące czynności:\n",
    "\n",
    "- ogranicz wartości do tych z miesiąca sierpnia,\n",
    "- ukryj kolumny `poziom_pm25` oraz `poziom_pm10`,\n",
    "- wyznacz dni tygodnia,\n",
    "- pogrupuj po dniu tygodnia\n",
    "- wyświetl zestawienia wartości średnich `PM25` oraz `PM10` dla każdego tygodnia,\n",
    "- posortuj zestawienie wg `PM25` od największej do najmniejszej wartości."
   ]
  },
  {
   "cell_type": "code",
   "execution_count": 119,
   "metadata": {
    "id": "stHdUN_If4jk",
    "vscode": {
     "languageId": "r"
    }
   },
   "outputs": [
    {
     "data": {
      "text/html": [
       "<table class=\"dataframe\">\n",
       "<caption>A tibble: 7 × 3</caption>\n",
       "<thead>\n",
       "\t<tr><th scope=col>dzien_tyg</th><th scope=col>srednie_PM25</th><th scope=col>srednie_PM10</th></tr>\n",
       "\t<tr><th scope=col>&lt;chr&gt;</th><th scope=col>&lt;dbl&gt;</th><th scope=col>&lt;dbl&gt;</th></tr>\n",
       "</thead>\n",
       "<tbody>\n",
       "\t<tr><td>Friday   </td><td>16.0725</td><td>31.0500</td></tr>\n",
       "\t<tr><td>Monday   </td><td>15.7250</td><td>27.0175</td></tr>\n",
       "\t<tr><td>Saturday </td><td>15.3100</td><td>24.6450</td></tr>\n",
       "\t<tr><td>Wednesday</td><td>15.2160</td><td>26.2240</td></tr>\n",
       "\t<tr><td>Sunday   </td><td>14.6650</td><td>22.0350</td></tr>\n",
       "\t<tr><td>Tuesday  </td><td>14.1720</td><td>25.9220</td></tr>\n",
       "\t<tr><td>Thursday </td><td>13.7800</td><td>25.5940</td></tr>\n",
       "</tbody>\n",
       "</table>\n"
      ],
      "text/latex": [
       "A tibble: 7 × 3\n",
       "\\begin{tabular}{lll}\n",
       " dzien\\_tyg & srednie\\_PM25 & srednie\\_PM10\\\\\n",
       " <chr> & <dbl> & <dbl>\\\\\n",
       "\\hline\n",
       "\t Friday    & 16.0725 & 31.0500\\\\\n",
       "\t Monday    & 15.7250 & 27.0175\\\\\n",
       "\t Saturday  & 15.3100 & 24.6450\\\\\n",
       "\t Wednesday & 15.2160 & 26.2240\\\\\n",
       "\t Sunday    & 14.6650 & 22.0350\\\\\n",
       "\t Tuesday   & 14.1720 & 25.9220\\\\\n",
       "\t Thursday  & 13.7800 & 25.5940\\\\\n",
       "\\end{tabular}\n"
      ],
      "text/markdown": [
       "\n",
       "A tibble: 7 × 3\n",
       "\n",
       "| dzien_tyg &lt;chr&gt; | srednie_PM25 &lt;dbl&gt; | srednie_PM10 &lt;dbl&gt; |\n",
       "|---|---|---|\n",
       "| Friday    | 16.0725 | 31.0500 |\n",
       "| Monday    | 15.7250 | 27.0175 |\n",
       "| Saturday  | 15.3100 | 24.6450 |\n",
       "| Wednesday | 15.2160 | 26.2240 |\n",
       "| Sunday    | 14.6650 | 22.0350 |\n",
       "| Tuesday   | 14.1720 | 25.9220 |\n",
       "| Thursday  | 13.7800 | 25.5940 |\n",
       "\n"
      ],
      "text/plain": [
       "  dzien_tyg srednie_PM25 srednie_PM10\n",
       "1 Friday    16.0725      31.0500     \n",
       "2 Monday    15.7250      27.0175     \n",
       "3 Saturday  15.3100      24.6450     \n",
       "4 Wednesday 15.2160      26.2240     \n",
       "5 Sunday    14.6650      22.0350     \n",
       "6 Tuesday   14.1720      25.9220     \n",
       "7 Thursday  13.7800      25.5940     "
      ]
     },
     "metadata": {},
     "output_type": "display_data"
    }
   ],
   "source": [
    "library(dplyr)\n",
    "powietrze %>% #weź dane ze zbioru powietrze\n",
    "  filter(month(data) == 8) %>% #pozostaw tylko dane z sierpnia\n",
    "  select(-(poziom_PM25:poziom_PM10)) %>% #ukryj kolumny poziom_PM25 oraz poziom_PM10\n",
    "  mutate(dzien_tyg=weekdays(data)) %>% #wyznacz dni tygodnia\n",
    "  group_by(dzien_tyg) %>% #pogrupuj po dniu tygodnia\n",
    "  summarize(srednie_PM25 = mean(PM25), srednie_PM10 = mean(PM10)) %>% #wyświetl\n",
    "                                    #wartości średnie dla każdego dnia tygodnia\n",
    "  arrange(desc(srednie_PM25)) #posortuj malejąco wg PM25"
   ]
  },
  {
   "cell_type": "code",
   "execution_count": 120,
   "metadata": {
    "id": "S05ck7C8f7mF",
    "vscode": {
     "languageId": "r"
    }
   },
   "outputs": [
    {
     "name": "stderr",
     "output_type": "stream",
     "text": [
      "\n",
      "Attaching package: ‘reshape2’\n",
      "\n",
      "\n",
      "The following object is masked from ‘package:tidyr’:\n",
      "\n",
      "    smiths\n",
      "\n",
      "\n"
     ]
    },
    {
     "data": {
      "text/html": [
       "<table class=\"dataframe\">\n",
       "<caption>A data.frame: 427 × 3</caption>\n",
       "<thead>\n",
       "\t<tr><th scope=col>data</th><th scope=col>variable</th><th scope=col>value</th></tr>\n",
       "\t<tr><th scope=col>&lt;date&gt;</th><th scope=col>&lt;fct&gt;</th><th scope=col>&lt;dbl&gt;</th></tr>\n",
       "</thead>\n",
       "<tbody>\n",
       "\t<tr><td>2023-08-01</td><td>PM25</td><td>11.76</td></tr>\n",
       "\t<tr><td>2023-08-02</td><td>PM25</td><td> 8.30</td></tr>\n",
       "\t<tr><td>2023-08-03</td><td>PM25</td><td> 8.38</td></tr>\n",
       "\t<tr><td>2023-08-04</td><td>PM25</td><td>10.00</td></tr>\n",
       "\t<tr><td>2023-08-05</td><td>PM25</td><td>11.30</td></tr>\n",
       "\t<tr><td>2023-08-06</td><td>PM25</td><td> 7.33</td></tr>\n",
       "\t<tr><td>2023-08-07</td><td>PM25</td><td> 4.99</td></tr>\n",
       "\t<tr><td>2023-08-08</td><td>PM25</td><td> 6.00</td></tr>\n",
       "\t<tr><td>2023-08-09</td><td>PM25</td><td> 6.67</td></tr>\n",
       "\t<tr><td>2023-08-10</td><td>PM25</td><td>11.70</td></tr>\n",
       "\t<tr><td>2023-08-11</td><td>PM25</td><td>14.11</td></tr>\n",
       "\t<tr><td>2023-08-12</td><td>PM25</td><td>15.21</td></tr>\n",
       "\t<tr><td>2023-08-13</td><td>PM25</td><td>15.60</td></tr>\n",
       "\t<tr><td>2023-08-14</td><td>PM25</td><td>16.94</td></tr>\n",
       "\t<tr><td>2023-08-15</td><td>PM25</td><td>20.64</td></tr>\n",
       "\t<tr><td>2023-08-16</td><td>PM25</td><td>22.84</td></tr>\n",
       "\t<tr><td>2023-08-17</td><td>PM25</td><td>18.80</td></tr>\n",
       "\t<tr><td>2023-08-18</td><td>PM25</td><td>17.13</td></tr>\n",
       "\t<tr><td>2023-08-19</td><td>PM25</td><td>18.93</td></tr>\n",
       "\t<tr><td>2023-08-20</td><td>PM25</td><td>21.84</td></tr>\n",
       "\t<tr><td>2023-08-21</td><td>PM25</td><td>28.46</td></tr>\n",
       "\t<tr><td>2023-08-22</td><td>PM25</td><td>17.43</td></tr>\n",
       "\t<tr><td>2023-08-23</td><td>PM25</td><td>25.27</td></tr>\n",
       "\t<tr><td>2023-08-24</td><td>PM25</td><td>18.18</td></tr>\n",
       "\t<tr><td>2023-08-25</td><td>PM25</td><td>23.05</td></tr>\n",
       "\t<tr><td>2023-08-26</td><td>PM25</td><td>15.80</td></tr>\n",
       "\t<tr><td>2023-08-27</td><td>PM25</td><td>13.89</td></tr>\n",
       "\t<tr><td>2023-08-28</td><td>PM25</td><td>12.51</td></tr>\n",
       "\t<tr><td>2023-08-29</td><td>PM25</td><td>15.03</td></tr>\n",
       "\t<tr><td>2023-08-30</td><td>PM25</td><td>13.00</td></tr>\n",
       "\t<tr><td>⋮</td><td>⋮</td><td>⋮</td></tr>\n",
       "\t<tr><td>2023-09-01</td><td>C6H6</td><td>0.43</td></tr>\n",
       "\t<tr><td>2023-09-02</td><td>C6H6</td><td>0.48</td></tr>\n",
       "\t<tr><td>2023-09-03</td><td>C6H6</td><td>0.49</td></tr>\n",
       "\t<tr><td>2023-09-04</td><td>C6H6</td><td>0.40</td></tr>\n",
       "\t<tr><td>2023-09-05</td><td>C6H6</td><td>0.70</td></tr>\n",
       "\t<tr><td>2023-09-06</td><td>C6H6</td><td>0.82</td></tr>\n",
       "\t<tr><td>2023-09-07</td><td>C6H6</td><td>0.99</td></tr>\n",
       "\t<tr><td>2023-09-08</td><td>C6H6</td><td>1.09</td></tr>\n",
       "\t<tr><td>2023-09-09</td><td>C6H6</td><td>0.91</td></tr>\n",
       "\t<tr><td>2023-09-10</td><td>C6H6</td><td>0.84</td></tr>\n",
       "\t<tr><td>2023-09-11</td><td>C6H6</td><td>0.59</td></tr>\n",
       "\t<tr><td>2023-09-12</td><td>C6H6</td><td>0.63</td></tr>\n",
       "\t<tr><td>2023-09-13</td><td>C6H6</td><td>0.59</td></tr>\n",
       "\t<tr><td>2023-09-14</td><td>C6H6</td><td>0.31</td></tr>\n",
       "\t<tr><td>2023-09-15</td><td>C6H6</td><td>0.52</td></tr>\n",
       "\t<tr><td>2023-09-16</td><td>C6H6</td><td>1.08</td></tr>\n",
       "\t<tr><td>2023-09-17</td><td>C6H6</td><td>0.80</td></tr>\n",
       "\t<tr><td>2023-09-18</td><td>C6H6</td><td>0.77</td></tr>\n",
       "\t<tr><td>2023-09-19</td><td>C6H6</td><td>0.45</td></tr>\n",
       "\t<tr><td>2023-09-20</td><td>C6H6</td><td>0.49</td></tr>\n",
       "\t<tr><td>2023-09-21</td><td>C6H6</td><td>0.90</td></tr>\n",
       "\t<tr><td>2023-09-22</td><td>C6H6</td><td>0.69</td></tr>\n",
       "\t<tr><td>2023-09-23</td><td>C6H6</td><td>0.42</td></tr>\n",
       "\t<tr><td>2023-09-24</td><td>C6H6</td><td>0.39</td></tr>\n",
       "\t<tr><td>2023-09-25</td><td>C6H6</td><td>0.55</td></tr>\n",
       "\t<tr><td>2023-09-26</td><td>C6H6</td><td>0.77</td></tr>\n",
       "\t<tr><td>2023-09-27</td><td>C6H6</td><td>0.92</td></tr>\n",
       "\t<tr><td>2023-09-28</td><td>C6H6</td><td>0.95</td></tr>\n",
       "\t<tr><td>2023-09-29</td><td>C6H6</td><td>0.82</td></tr>\n",
       "\t<tr><td>2023-09-30</td><td>C6H6</td><td>0.73</td></tr>\n",
       "</tbody>\n",
       "</table>\n"
      ],
      "text/latex": [
       "A data.frame: 427 × 3\n",
       "\\begin{tabular}{lll}\n",
       " data & variable & value\\\\\n",
       " <date> & <fct> & <dbl>\\\\\n",
       "\\hline\n",
       "\t 2023-08-01 & PM25 & 11.76\\\\\n",
       "\t 2023-08-02 & PM25 &  8.30\\\\\n",
       "\t 2023-08-03 & PM25 &  8.38\\\\\n",
       "\t 2023-08-04 & PM25 & 10.00\\\\\n",
       "\t 2023-08-05 & PM25 & 11.30\\\\\n",
       "\t 2023-08-06 & PM25 &  7.33\\\\\n",
       "\t 2023-08-07 & PM25 &  4.99\\\\\n",
       "\t 2023-08-08 & PM25 &  6.00\\\\\n",
       "\t 2023-08-09 & PM25 &  6.67\\\\\n",
       "\t 2023-08-10 & PM25 & 11.70\\\\\n",
       "\t 2023-08-11 & PM25 & 14.11\\\\\n",
       "\t 2023-08-12 & PM25 & 15.21\\\\\n",
       "\t 2023-08-13 & PM25 & 15.60\\\\\n",
       "\t 2023-08-14 & PM25 & 16.94\\\\\n",
       "\t 2023-08-15 & PM25 & 20.64\\\\\n",
       "\t 2023-08-16 & PM25 & 22.84\\\\\n",
       "\t 2023-08-17 & PM25 & 18.80\\\\\n",
       "\t 2023-08-18 & PM25 & 17.13\\\\\n",
       "\t 2023-08-19 & PM25 & 18.93\\\\\n",
       "\t 2023-08-20 & PM25 & 21.84\\\\\n",
       "\t 2023-08-21 & PM25 & 28.46\\\\\n",
       "\t 2023-08-22 & PM25 & 17.43\\\\\n",
       "\t 2023-08-23 & PM25 & 25.27\\\\\n",
       "\t 2023-08-24 & PM25 & 18.18\\\\\n",
       "\t 2023-08-25 & PM25 & 23.05\\\\\n",
       "\t 2023-08-26 & PM25 & 15.80\\\\\n",
       "\t 2023-08-27 & PM25 & 13.89\\\\\n",
       "\t 2023-08-28 & PM25 & 12.51\\\\\n",
       "\t 2023-08-29 & PM25 & 15.03\\\\\n",
       "\t 2023-08-30 & PM25 & 13.00\\\\\n",
       "\t ⋮ & ⋮ & ⋮\\\\\n",
       "\t 2023-09-01 & C6H6 & 0.43\\\\\n",
       "\t 2023-09-02 & C6H6 & 0.48\\\\\n",
       "\t 2023-09-03 & C6H6 & 0.49\\\\\n",
       "\t 2023-09-04 & C6H6 & 0.40\\\\\n",
       "\t 2023-09-05 & C6H6 & 0.70\\\\\n",
       "\t 2023-09-06 & C6H6 & 0.82\\\\\n",
       "\t 2023-09-07 & C6H6 & 0.99\\\\\n",
       "\t 2023-09-08 & C6H6 & 1.09\\\\\n",
       "\t 2023-09-09 & C6H6 & 0.91\\\\\n",
       "\t 2023-09-10 & C6H6 & 0.84\\\\\n",
       "\t 2023-09-11 & C6H6 & 0.59\\\\\n",
       "\t 2023-09-12 & C6H6 & 0.63\\\\\n",
       "\t 2023-09-13 & C6H6 & 0.59\\\\\n",
       "\t 2023-09-14 & C6H6 & 0.31\\\\\n",
       "\t 2023-09-15 & C6H6 & 0.52\\\\\n",
       "\t 2023-09-16 & C6H6 & 1.08\\\\\n",
       "\t 2023-09-17 & C6H6 & 0.80\\\\\n",
       "\t 2023-09-18 & C6H6 & 0.77\\\\\n",
       "\t 2023-09-19 & C6H6 & 0.45\\\\\n",
       "\t 2023-09-20 & C6H6 & 0.49\\\\\n",
       "\t 2023-09-21 & C6H6 & 0.90\\\\\n",
       "\t 2023-09-22 & C6H6 & 0.69\\\\\n",
       "\t 2023-09-23 & C6H6 & 0.42\\\\\n",
       "\t 2023-09-24 & C6H6 & 0.39\\\\\n",
       "\t 2023-09-25 & C6H6 & 0.55\\\\\n",
       "\t 2023-09-26 & C6H6 & 0.77\\\\\n",
       "\t 2023-09-27 & C6H6 & 0.92\\\\\n",
       "\t 2023-09-28 & C6H6 & 0.95\\\\\n",
       "\t 2023-09-29 & C6H6 & 0.82\\\\\n",
       "\t 2023-09-30 & C6H6 & 0.73\\\\\n",
       "\\end{tabular}\n"
      ],
      "text/markdown": [
       "\n",
       "A data.frame: 427 × 3\n",
       "\n",
       "| data &lt;date&gt; | variable &lt;fct&gt; | value &lt;dbl&gt; |\n",
       "|---|---|---|\n",
       "| 2023-08-01 | PM25 | 11.76 |\n",
       "| 2023-08-02 | PM25 |  8.30 |\n",
       "| 2023-08-03 | PM25 |  8.38 |\n",
       "| 2023-08-04 | PM25 | 10.00 |\n",
       "| 2023-08-05 | PM25 | 11.30 |\n",
       "| 2023-08-06 | PM25 |  7.33 |\n",
       "| 2023-08-07 | PM25 |  4.99 |\n",
       "| 2023-08-08 | PM25 |  6.00 |\n",
       "| 2023-08-09 | PM25 |  6.67 |\n",
       "| 2023-08-10 | PM25 | 11.70 |\n",
       "| 2023-08-11 | PM25 | 14.11 |\n",
       "| 2023-08-12 | PM25 | 15.21 |\n",
       "| 2023-08-13 | PM25 | 15.60 |\n",
       "| 2023-08-14 | PM25 | 16.94 |\n",
       "| 2023-08-15 | PM25 | 20.64 |\n",
       "| 2023-08-16 | PM25 | 22.84 |\n",
       "| 2023-08-17 | PM25 | 18.80 |\n",
       "| 2023-08-18 | PM25 | 17.13 |\n",
       "| 2023-08-19 | PM25 | 18.93 |\n",
       "| 2023-08-20 | PM25 | 21.84 |\n",
       "| 2023-08-21 | PM25 | 28.46 |\n",
       "| 2023-08-22 | PM25 | 17.43 |\n",
       "| 2023-08-23 | PM25 | 25.27 |\n",
       "| 2023-08-24 | PM25 | 18.18 |\n",
       "| 2023-08-25 | PM25 | 23.05 |\n",
       "| 2023-08-26 | PM25 | 15.80 |\n",
       "| 2023-08-27 | PM25 | 13.89 |\n",
       "| 2023-08-28 | PM25 | 12.51 |\n",
       "| 2023-08-29 | PM25 | 15.03 |\n",
       "| 2023-08-30 | PM25 | 13.00 |\n",
       "| ⋮ | ⋮ | ⋮ |\n",
       "| 2023-09-01 | C6H6 | 0.43 |\n",
       "| 2023-09-02 | C6H6 | 0.48 |\n",
       "| 2023-09-03 | C6H6 | 0.49 |\n",
       "| 2023-09-04 | C6H6 | 0.40 |\n",
       "| 2023-09-05 | C6H6 | 0.70 |\n",
       "| 2023-09-06 | C6H6 | 0.82 |\n",
       "| 2023-09-07 | C6H6 | 0.99 |\n",
       "| 2023-09-08 | C6H6 | 1.09 |\n",
       "| 2023-09-09 | C6H6 | 0.91 |\n",
       "| 2023-09-10 | C6H6 | 0.84 |\n",
       "| 2023-09-11 | C6H6 | 0.59 |\n",
       "| 2023-09-12 | C6H6 | 0.63 |\n",
       "| 2023-09-13 | C6H6 | 0.59 |\n",
       "| 2023-09-14 | C6H6 | 0.31 |\n",
       "| 2023-09-15 | C6H6 | 0.52 |\n",
       "| 2023-09-16 | C6H6 | 1.08 |\n",
       "| 2023-09-17 | C6H6 | 0.80 |\n",
       "| 2023-09-18 | C6H6 | 0.77 |\n",
       "| 2023-09-19 | C6H6 | 0.45 |\n",
       "| 2023-09-20 | C6H6 | 0.49 |\n",
       "| 2023-09-21 | C6H6 | 0.90 |\n",
       "| 2023-09-22 | C6H6 | 0.69 |\n",
       "| 2023-09-23 | C6H6 | 0.42 |\n",
       "| 2023-09-24 | C6H6 | 0.39 |\n",
       "| 2023-09-25 | C6H6 | 0.55 |\n",
       "| 2023-09-26 | C6H6 | 0.77 |\n",
       "| 2023-09-27 | C6H6 | 0.92 |\n",
       "| 2023-09-28 | C6H6 | 0.95 |\n",
       "| 2023-09-29 | C6H6 | 0.82 |\n",
       "| 2023-09-30 | C6H6 | 0.73 |\n",
       "\n"
      ],
      "text/plain": [
       "    data       variable value\n",
       "1   2023-08-01 PM25     11.76\n",
       "2   2023-08-02 PM25      8.30\n",
       "3   2023-08-03 PM25      8.38\n",
       "4   2023-08-04 PM25     10.00\n",
       "5   2023-08-05 PM25     11.30\n",
       "6   2023-08-06 PM25      7.33\n",
       "7   2023-08-07 PM25      4.99\n",
       "8   2023-08-08 PM25      6.00\n",
       "9   2023-08-09 PM25      6.67\n",
       "10  2023-08-10 PM25     11.70\n",
       "11  2023-08-11 PM25     14.11\n",
       "12  2023-08-12 PM25     15.21\n",
       "13  2023-08-13 PM25     15.60\n",
       "14  2023-08-14 PM25     16.94\n",
       "15  2023-08-15 PM25     20.64\n",
       "16  2023-08-16 PM25     22.84\n",
       "17  2023-08-17 PM25     18.80\n",
       "18  2023-08-18 PM25     17.13\n",
       "19  2023-08-19 PM25     18.93\n",
       "20  2023-08-20 PM25     21.84\n",
       "21  2023-08-21 PM25     28.46\n",
       "22  2023-08-22 PM25     17.43\n",
       "23  2023-08-23 PM25     25.27\n",
       "24  2023-08-24 PM25     18.18\n",
       "25  2023-08-25 PM25     23.05\n",
       "26  2023-08-26 PM25     15.80\n",
       "27  2023-08-27 PM25     13.89\n",
       "28  2023-08-28 PM25     12.51\n",
       "29  2023-08-29 PM25     15.03\n",
       "30  2023-08-30 PM25     13.00\n",
       "⋮   ⋮          ⋮        ⋮    \n",
       "398 2023-09-01 C6H6     0.43 \n",
       "399 2023-09-02 C6H6     0.48 \n",
       "400 2023-09-03 C6H6     0.49 \n",
       "401 2023-09-04 C6H6     0.40 \n",
       "402 2023-09-05 C6H6     0.70 \n",
       "403 2023-09-06 C6H6     0.82 \n",
       "404 2023-09-07 C6H6     0.99 \n",
       "405 2023-09-08 C6H6     1.09 \n",
       "406 2023-09-09 C6H6     0.91 \n",
       "407 2023-09-10 C6H6     0.84 \n",
       "408 2023-09-11 C6H6     0.59 \n",
       "409 2023-09-12 C6H6     0.63 \n",
       "410 2023-09-13 C6H6     0.59 \n",
       "411 2023-09-14 C6H6     0.31 \n",
       "412 2023-09-15 C6H6     0.52 \n",
       "413 2023-09-16 C6H6     1.08 \n",
       "414 2023-09-17 C6H6     0.80 \n",
       "415 2023-09-18 C6H6     0.77 \n",
       "416 2023-09-19 C6H6     0.45 \n",
       "417 2023-09-20 C6H6     0.49 \n",
       "418 2023-09-21 C6H6     0.90 \n",
       "419 2023-09-22 C6H6     0.69 \n",
       "420 2023-09-23 C6H6     0.42 \n",
       "421 2023-09-24 C6H6     0.39 \n",
       "422 2023-09-25 C6H6     0.55 \n",
       "423 2023-09-26 C6H6     0.77 \n",
       "424 2023-09-27 C6H6     0.92 \n",
       "425 2023-09-28 C6H6     0.95 \n",
       "426 2023-09-29 C6H6     0.82 \n",
       "427 2023-09-30 C6H6     0.73 "
      ]
     },
     "metadata": {},
     "output_type": "display_data"
    }
   ],
   "source": [
    "# Wykorzystując bibliotekę `reshape2` zapisz pomiar każdej wartości w osobnym wierszu tabeli,\n",
    "# a następnie zamień tabelę, gdzie w jednym wierszu będą wyświetlone pomiary wszystkich wartości z 1 dnia.\n",
    "\n",
    "library(reshape2)\n",
    "powietrze_waska <- melt(powietrze, id=c(\"data\"),\n",
    "                        measure.vars=c(\"PM25\", \"PM10\", \"NO2\", \"NO\", \"NOx\", \"CO\",\"C6H6\"))\n",
    "powietrze_waska"
   ]
  },
  {
   "cell_type": "code",
   "execution_count": 121,
   "metadata": {
    "vscode": {
     "languageId": "r"
    }
   },
   "outputs": [
    {
     "data": {
      "text/html": [
       "<table class=\"dataframe\">\n",
       "<caption>A data.frame: 61 × 8</caption>\n",
       "<thead>\n",
       "\t<tr><th scope=col>data</th><th scope=col>PM25</th><th scope=col>PM10</th><th scope=col>NO2</th><th scope=col>NO</th><th scope=col>NOx</th><th scope=col>CO</th><th scope=col>C6H6</th></tr>\n",
       "\t<tr><th scope=col>&lt;date&gt;</th><th scope=col>&lt;dbl&gt;</th><th scope=col>&lt;dbl&gt;</th><th scope=col>&lt;dbl&gt;</th><th scope=col>&lt;dbl&gt;</th><th scope=col>&lt;dbl&gt;</th><th scope=col>&lt;dbl&gt;</th><th scope=col>&lt;dbl&gt;</th></tr>\n",
       "</thead>\n",
       "<tbody>\n",
       "\t<tr><td>2023-08-01</td><td>11.76</td><td>25.04</td><td>44.57</td><td>38.83</td><td>104.11</td><td>0.60</td><td>0.47</td></tr>\n",
       "\t<tr><td>2023-08-02</td><td> 8.30</td><td>18.44</td><td>36.25</td><td>22.17</td><td> 70.24</td><td>0.52</td><td>0.34</td></tr>\n",
       "\t<tr><td>2023-08-03</td><td> 8.38</td><td>22.75</td><td>50.06</td><td>36.20</td><td>107.94</td><td>0.63</td><td>0.48</td></tr>\n",
       "\t<tr><td>2023-08-04</td><td>10.00</td><td>24.70</td><td>47.40</td><td>38.62</td><td>106.62</td><td>0.61</td><td>0.47</td></tr>\n",
       "\t<tr><td>2023-08-05</td><td>11.30</td><td>18.47</td><td>36.00</td><td>26.02</td><td> 75.90</td><td>0.60</td><td>0.39</td></tr>\n",
       "\t<tr><td>2023-08-06</td><td> 7.33</td><td>11.05</td><td>21.68</td><td>19.17</td><td> 51.08</td><td>0.51</td><td>0.35</td></tr>\n",
       "\t<tr><td>2023-08-07</td><td> 4.99</td><td>12.08</td><td>21.20</td><td>17.95</td><td> 48.71</td><td>0.42</td><td>0.20</td></tr>\n",
       "\t<tr><td>2023-08-08</td><td> 6.00</td><td>14.38</td><td>30.77</td><td>19.87</td><td> 62.57</td><td>0.43</td><td>0.27</td></tr>\n",
       "\t<tr><td>2023-08-09</td><td> 6.67</td><td>15.62</td><td>32.27</td><td>27.74</td><td> 74.78</td><td>0.46</td><td>0.28</td></tr>\n",
       "\t<tr><td>2023-08-10</td><td>11.70</td><td>20.69</td><td>40.60</td><td>24.98</td><td> 78.89</td><td>0.50</td><td>0.36</td></tr>\n",
       "\t<tr><td>2023-08-11</td><td>14.11</td><td>25.50</td><td>46.44</td><td>29.56</td><td> 91.77</td><td>0.56</td><td>0.48</td></tr>\n",
       "\t<tr><td>2023-08-12</td><td>15.21</td><td>25.27</td><td>46.76</td><td>23.23</td><td> 82.36</td><td>0.58</td><td>0.46</td></tr>\n",
       "\t<tr><td>2023-08-13</td><td>15.60</td><td>25.22</td><td>39.52</td><td>25.12</td><td> 79.68</td><td>0.61</td><td>0.49</td></tr>\n",
       "\t<tr><td>2023-08-14</td><td>16.94</td><td>30.36</td><td>48.56</td><td>26.48</td><td> 89.20</td><td>0.61</td><td>0.42</td></tr>\n",
       "\t<tr><td>2023-08-15</td><td>20.64</td><td>33.34</td><td>37.08</td><td>20.39</td><td> 68.35</td><td>0.62</td><td>0.51</td></tr>\n",
       "\t<tr><td>2023-08-16</td><td>22.84</td><td>39.57</td><td>51.76</td><td>30.82</td><td> 98.99</td><td>0.68</td><td>0.52</td></tr>\n",
       "\t<tr><td>2023-08-17</td><td>18.80</td><td>34.17</td><td>45.54</td><td>28.41</td><td> 89.10</td><td>0.60</td><td>0.53</td></tr>\n",
       "\t<tr><td>2023-08-18</td><td>17.13</td><td>31.02</td><td>43.39</td><td>28.32</td><td> 88.69</td><td>0.59</td><td>0.47</td></tr>\n",
       "\t<tr><td>2023-08-19</td><td>18.93</td><td>28.18</td><td>34.96</td><td>21.90</td><td> 68.56</td><td>0.60</td><td>0.39</td></tr>\n",
       "\t<tr><td>2023-08-20</td><td>21.84</td><td>31.13</td><td>32.15</td><td>16.01</td><td> 56.69</td><td>0.59</td><td>0.37</td></tr>\n",
       "\t<tr><td>2023-08-21</td><td>28.46</td><td>44.70</td><td>46.71</td><td>25.49</td><td> 85.82</td><td>0.70</td><td>0.48</td></tr>\n",
       "\t<tr><td>2023-08-22</td><td>17.43</td><td>31.93</td><td>53.86</td><td>26.97</td><td> 95.22</td><td>0.60</td><td>0.57</td></tr>\n",
       "\t<tr><td>2023-08-23</td><td>25.27</td><td>37.15</td><td>42.59</td><td>20.65</td><td> 75.60</td><td>0.59</td><td>0.46</td></tr>\n",
       "\t<tr><td>2023-08-24</td><td>18.18</td><td>30.22</td><td>51.88</td><td>23.24</td><td> 87.51</td><td>0.59</td><td>0.49</td></tr>\n",
       "\t<tr><td>2023-08-25</td><td>23.05</td><td>42.98</td><td>54.96</td><td>32.09</td><td>104.21</td><td>0.69</td><td>0.82</td></tr>\n",
       "\t<tr><td>2023-08-26</td><td>15.80</td><td>26.66</td><td>39.78</td><td>23.25</td><td> 75.45</td><td>0.60</td><td>0.39</td></tr>\n",
       "\t<tr><td>2023-08-27</td><td>13.89</td><td>20.74</td><td>31.65</td><td>17.87</td><td> 59.06</td><td>0.58</td><td>0.39</td></tr>\n",
       "\t<tr><td>2023-08-28</td><td>12.51</td><td>20.93</td><td>33.74</td><td>28.63</td><td> 79.54</td><td>0.58</td><td>0.38</td></tr>\n",
       "\t<tr><td>2023-08-29</td><td>15.03</td><td>24.92</td><td>35.63</td><td>34.48</td><td> 88.49</td><td>0.62</td><td>0.48</td></tr>\n",
       "\t<tr><td>2023-08-30</td><td>13.00</td><td>20.34</td><td>24.91</td><td>24.24</td><td> 65.40</td><td>0.51</td><td>0.40</td></tr>\n",
       "\t<tr><td>⋮</td><td>⋮</td><td>⋮</td><td>⋮</td><td>⋮</td><td>⋮</td><td>⋮</td><td>⋮</td></tr>\n",
       "\t<tr><td>2023-09-01</td><td>10.26</td><td>19.42</td><td>40.29</td><td>33.73</td><td> 92.01</td><td>0.50</td><td>0.43</td></tr>\n",
       "\t<tr><td>2023-09-02</td><td> 8.70</td><td>13.84</td><td>35.58</td><td>27.32</td><td> 75.95</td><td>0.55</td><td>0.48</td></tr>\n",
       "\t<tr><td>2023-09-03</td><td>12.27</td><td>18.21</td><td>32.40</td><td>27.15</td><td> 74.04</td><td>0.55</td><td>0.49</td></tr>\n",
       "\t<tr><td>2023-09-04</td><td>12.33</td><td>24.75</td><td>40.06</td><td>29.19</td><td> 84.80</td><td>0.48</td><td>0.40</td></tr>\n",
       "\t<tr><td>2023-09-05</td><td>13.65</td><td>24.45</td><td>51.08</td><td>48.98</td><td>126.15</td><td>0.60</td><td>0.70</td></tr>\n",
       "\t<tr><td>2023-09-06</td><td>16.19</td><td>29.37</td><td>54.47</td><td>51.79</td><td>133.87</td><td>0.64</td><td>0.82</td></tr>\n",
       "\t<tr><td>2023-09-07</td><td>21.18</td><td>37.08</td><td>58.63</td><td>58.48</td><td>145.75</td><td>0.70</td><td>0.99</td></tr>\n",
       "\t<tr><td>2023-09-08</td><td>25.77</td><td>40.78</td><td>60.34</td><td>64.14</td><td>158.68</td><td>0.72</td><td>1.09</td></tr>\n",
       "\t<tr><td>2023-09-09</td><td>26.55</td><td>36.32</td><td>53.00</td><td>42.51</td><td>118.19</td><td>0.68</td><td>0.91</td></tr>\n",
       "\t<tr><td>2023-09-10</td><td>27.07</td><td>35.78</td><td>48.39</td><td>36.50</td><td>104.34</td><td>0.71</td><td>0.84</td></tr>\n",
       "\t<tr><td>2023-09-11</td><td>20.21</td><td>34.22</td><td>48.63</td><td>34.36</td><td>101.31</td><td>0.58</td><td>0.59</td></tr>\n",
       "\t<tr><td>2023-09-12</td><td>26.47</td><td>42.52</td><td>52.46</td><td>34.60</td><td>103.28</td><td>0.65</td><td>0.63</td></tr>\n",
       "\t<tr><td>2023-09-13</td><td>28.10</td><td>47.05</td><td>52.71</td><td>30.89</td><td>100.06</td><td>0.61</td><td>0.59</td></tr>\n",
       "\t<tr><td>2023-09-14</td><td> 8.87</td><td>14.67</td><td>38.97</td><td>25.20</td><td> 77.62</td><td>0.46</td><td>0.31</td></tr>\n",
       "\t<tr><td>2023-09-15</td><td> 8.78</td><td>16.76</td><td>46.00</td><td>42.12</td><td>110.58</td><td>0.50</td><td>0.52</td></tr>\n",
       "\t<tr><td>2023-09-16</td><td>18.15</td><td>26.19</td><td>37.75</td><td>31.75</td><td> 86.42</td><td>0.55</td><td>1.08</td></tr>\n",
       "\t<tr><td>2023-09-17</td><td>13.12</td><td>19.58</td><td>41.00</td><td>37.97</td><td> 97.39</td><td>0.60</td><td>0.80</td></tr>\n",
       "\t<tr><td>2023-09-18</td><td>15.68</td><td>29.02</td><td>50.08</td><td>59.76</td><td>141.71</td><td>0.66</td><td>0.77</td></tr>\n",
       "\t<tr><td>2023-09-19</td><td>14.03</td><td>22.52</td><td>39.49</td><td>46.11</td><td>110.21</td><td>0.55</td><td>0.45</td></tr>\n",
       "\t<tr><td>2023-09-20</td><td> 7.64</td><td>17.78</td><td>39.02</td><td>58.05</td><td>128.04</td><td>0.60</td><td>0.49</td></tr>\n",
       "\t<tr><td>2023-09-21</td><td> 9.70</td><td>22.92</td><td>53.74</td><td>66.64</td><td>155.92</td><td>0.67</td><td>0.90</td></tr>\n",
       "\t<tr><td>2023-09-22</td><td>13.72</td><td>30.92</td><td>52.37</td><td>49.10</td><td>125.62</td><td>0.62</td><td>0.69</td></tr>\n",
       "\t<tr><td>2023-09-23</td><td>11.95</td><td>18.27</td><td>34.15</td><td>36.54</td><td> 90.16</td><td>0.53</td><td>0.42</td></tr>\n",
       "\t<tr><td>2023-09-24</td><td> 7.47</td><td>11.70</td><td>34.59</td><td>35.11</td><td> 87.50</td><td>3.04</td><td>0.39</td></tr>\n",
       "\t<tr><td>2023-09-25</td><td>14.87</td><td>24.68</td><td>34.70</td><td>41.03</td><td> 97.62</td><td>0.52</td><td>0.55</td></tr>\n",
       "\t<tr><td>2023-09-26</td><td>20.52</td><td>35.74</td><td>42.83</td><td>61.22</td><td>136.71</td><td>0.69</td><td>0.77</td></tr>\n",
       "\t<tr><td>2023-09-27</td><td>22.40</td><td>40.54</td><td>54.05</td><td>58.90</td><td>141.76</td><td>0.73</td><td>0.92</td></tr>\n",
       "\t<tr><td>2023-09-28</td><td>22.01</td><td>42.59</td><td>54.23</td><td>77.60</td><td>173.21</td><td>0.78</td><td>0.95</td></tr>\n",
       "\t<tr><td>2023-09-29</td><td>20.43</td><td>37.56</td><td>53.53</td><td>81.55</td><td>178.57</td><td>0.76</td><td>0.82</td></tr>\n",
       "\t<tr><td>2023-09-30</td><td>18.87</td><td>28.12</td><td>35.67</td><td>64.76</td><td>134.96</td><td>0.73</td><td>0.73</td></tr>\n",
       "</tbody>\n",
       "</table>\n"
      ],
      "text/latex": [
       "A data.frame: 61 × 8\n",
       "\\begin{tabular}{llllllll}\n",
       " data & PM25 & PM10 & NO2 & NO & NOx & CO & C6H6\\\\\n",
       " <date> & <dbl> & <dbl> & <dbl> & <dbl> & <dbl> & <dbl> & <dbl>\\\\\n",
       "\\hline\n",
       "\t 2023-08-01 & 11.76 & 25.04 & 44.57 & 38.83 & 104.11 & 0.60 & 0.47\\\\\n",
       "\t 2023-08-02 &  8.30 & 18.44 & 36.25 & 22.17 &  70.24 & 0.52 & 0.34\\\\\n",
       "\t 2023-08-03 &  8.38 & 22.75 & 50.06 & 36.20 & 107.94 & 0.63 & 0.48\\\\\n",
       "\t 2023-08-04 & 10.00 & 24.70 & 47.40 & 38.62 & 106.62 & 0.61 & 0.47\\\\\n",
       "\t 2023-08-05 & 11.30 & 18.47 & 36.00 & 26.02 &  75.90 & 0.60 & 0.39\\\\\n",
       "\t 2023-08-06 &  7.33 & 11.05 & 21.68 & 19.17 &  51.08 & 0.51 & 0.35\\\\\n",
       "\t 2023-08-07 &  4.99 & 12.08 & 21.20 & 17.95 &  48.71 & 0.42 & 0.20\\\\\n",
       "\t 2023-08-08 &  6.00 & 14.38 & 30.77 & 19.87 &  62.57 & 0.43 & 0.27\\\\\n",
       "\t 2023-08-09 &  6.67 & 15.62 & 32.27 & 27.74 &  74.78 & 0.46 & 0.28\\\\\n",
       "\t 2023-08-10 & 11.70 & 20.69 & 40.60 & 24.98 &  78.89 & 0.50 & 0.36\\\\\n",
       "\t 2023-08-11 & 14.11 & 25.50 & 46.44 & 29.56 &  91.77 & 0.56 & 0.48\\\\\n",
       "\t 2023-08-12 & 15.21 & 25.27 & 46.76 & 23.23 &  82.36 & 0.58 & 0.46\\\\\n",
       "\t 2023-08-13 & 15.60 & 25.22 & 39.52 & 25.12 &  79.68 & 0.61 & 0.49\\\\\n",
       "\t 2023-08-14 & 16.94 & 30.36 & 48.56 & 26.48 &  89.20 & 0.61 & 0.42\\\\\n",
       "\t 2023-08-15 & 20.64 & 33.34 & 37.08 & 20.39 &  68.35 & 0.62 & 0.51\\\\\n",
       "\t 2023-08-16 & 22.84 & 39.57 & 51.76 & 30.82 &  98.99 & 0.68 & 0.52\\\\\n",
       "\t 2023-08-17 & 18.80 & 34.17 & 45.54 & 28.41 &  89.10 & 0.60 & 0.53\\\\\n",
       "\t 2023-08-18 & 17.13 & 31.02 & 43.39 & 28.32 &  88.69 & 0.59 & 0.47\\\\\n",
       "\t 2023-08-19 & 18.93 & 28.18 & 34.96 & 21.90 &  68.56 & 0.60 & 0.39\\\\\n",
       "\t 2023-08-20 & 21.84 & 31.13 & 32.15 & 16.01 &  56.69 & 0.59 & 0.37\\\\\n",
       "\t 2023-08-21 & 28.46 & 44.70 & 46.71 & 25.49 &  85.82 & 0.70 & 0.48\\\\\n",
       "\t 2023-08-22 & 17.43 & 31.93 & 53.86 & 26.97 &  95.22 & 0.60 & 0.57\\\\\n",
       "\t 2023-08-23 & 25.27 & 37.15 & 42.59 & 20.65 &  75.60 & 0.59 & 0.46\\\\\n",
       "\t 2023-08-24 & 18.18 & 30.22 & 51.88 & 23.24 &  87.51 & 0.59 & 0.49\\\\\n",
       "\t 2023-08-25 & 23.05 & 42.98 & 54.96 & 32.09 & 104.21 & 0.69 & 0.82\\\\\n",
       "\t 2023-08-26 & 15.80 & 26.66 & 39.78 & 23.25 &  75.45 & 0.60 & 0.39\\\\\n",
       "\t 2023-08-27 & 13.89 & 20.74 & 31.65 & 17.87 &  59.06 & 0.58 & 0.39\\\\\n",
       "\t 2023-08-28 & 12.51 & 20.93 & 33.74 & 28.63 &  79.54 & 0.58 & 0.38\\\\\n",
       "\t 2023-08-29 & 15.03 & 24.92 & 35.63 & 34.48 &  88.49 & 0.62 & 0.48\\\\\n",
       "\t 2023-08-30 & 13.00 & 20.34 & 24.91 & 24.24 &  65.40 & 0.51 & 0.40\\\\\n",
       "\t ⋮ & ⋮ & ⋮ & ⋮ & ⋮ & ⋮ & ⋮ & ⋮\\\\\n",
       "\t 2023-09-01 & 10.26 & 19.42 & 40.29 & 33.73 &  92.01 & 0.50 & 0.43\\\\\n",
       "\t 2023-09-02 &  8.70 & 13.84 & 35.58 & 27.32 &  75.95 & 0.55 & 0.48\\\\\n",
       "\t 2023-09-03 & 12.27 & 18.21 & 32.40 & 27.15 &  74.04 & 0.55 & 0.49\\\\\n",
       "\t 2023-09-04 & 12.33 & 24.75 & 40.06 & 29.19 &  84.80 & 0.48 & 0.40\\\\\n",
       "\t 2023-09-05 & 13.65 & 24.45 & 51.08 & 48.98 & 126.15 & 0.60 & 0.70\\\\\n",
       "\t 2023-09-06 & 16.19 & 29.37 & 54.47 & 51.79 & 133.87 & 0.64 & 0.82\\\\\n",
       "\t 2023-09-07 & 21.18 & 37.08 & 58.63 & 58.48 & 145.75 & 0.70 & 0.99\\\\\n",
       "\t 2023-09-08 & 25.77 & 40.78 & 60.34 & 64.14 & 158.68 & 0.72 & 1.09\\\\\n",
       "\t 2023-09-09 & 26.55 & 36.32 & 53.00 & 42.51 & 118.19 & 0.68 & 0.91\\\\\n",
       "\t 2023-09-10 & 27.07 & 35.78 & 48.39 & 36.50 & 104.34 & 0.71 & 0.84\\\\\n",
       "\t 2023-09-11 & 20.21 & 34.22 & 48.63 & 34.36 & 101.31 & 0.58 & 0.59\\\\\n",
       "\t 2023-09-12 & 26.47 & 42.52 & 52.46 & 34.60 & 103.28 & 0.65 & 0.63\\\\\n",
       "\t 2023-09-13 & 28.10 & 47.05 & 52.71 & 30.89 & 100.06 & 0.61 & 0.59\\\\\n",
       "\t 2023-09-14 &  8.87 & 14.67 & 38.97 & 25.20 &  77.62 & 0.46 & 0.31\\\\\n",
       "\t 2023-09-15 &  8.78 & 16.76 & 46.00 & 42.12 & 110.58 & 0.50 & 0.52\\\\\n",
       "\t 2023-09-16 & 18.15 & 26.19 & 37.75 & 31.75 &  86.42 & 0.55 & 1.08\\\\\n",
       "\t 2023-09-17 & 13.12 & 19.58 & 41.00 & 37.97 &  97.39 & 0.60 & 0.80\\\\\n",
       "\t 2023-09-18 & 15.68 & 29.02 & 50.08 & 59.76 & 141.71 & 0.66 & 0.77\\\\\n",
       "\t 2023-09-19 & 14.03 & 22.52 & 39.49 & 46.11 & 110.21 & 0.55 & 0.45\\\\\n",
       "\t 2023-09-20 &  7.64 & 17.78 & 39.02 & 58.05 & 128.04 & 0.60 & 0.49\\\\\n",
       "\t 2023-09-21 &  9.70 & 22.92 & 53.74 & 66.64 & 155.92 & 0.67 & 0.90\\\\\n",
       "\t 2023-09-22 & 13.72 & 30.92 & 52.37 & 49.10 & 125.62 & 0.62 & 0.69\\\\\n",
       "\t 2023-09-23 & 11.95 & 18.27 & 34.15 & 36.54 &  90.16 & 0.53 & 0.42\\\\\n",
       "\t 2023-09-24 &  7.47 & 11.70 & 34.59 & 35.11 &  87.50 & 3.04 & 0.39\\\\\n",
       "\t 2023-09-25 & 14.87 & 24.68 & 34.70 & 41.03 &  97.62 & 0.52 & 0.55\\\\\n",
       "\t 2023-09-26 & 20.52 & 35.74 & 42.83 & 61.22 & 136.71 & 0.69 & 0.77\\\\\n",
       "\t 2023-09-27 & 22.40 & 40.54 & 54.05 & 58.90 & 141.76 & 0.73 & 0.92\\\\\n",
       "\t 2023-09-28 & 22.01 & 42.59 & 54.23 & 77.60 & 173.21 & 0.78 & 0.95\\\\\n",
       "\t 2023-09-29 & 20.43 & 37.56 & 53.53 & 81.55 & 178.57 & 0.76 & 0.82\\\\\n",
       "\t 2023-09-30 & 18.87 & 28.12 & 35.67 & 64.76 & 134.96 & 0.73 & 0.73\\\\\n",
       "\\end{tabular}\n"
      ],
      "text/markdown": [
       "\n",
       "A data.frame: 61 × 8\n",
       "\n",
       "| data &lt;date&gt; | PM25 &lt;dbl&gt; | PM10 &lt;dbl&gt; | NO2 &lt;dbl&gt; | NO &lt;dbl&gt; | NOx &lt;dbl&gt; | CO &lt;dbl&gt; | C6H6 &lt;dbl&gt; |\n",
       "|---|---|---|---|---|---|---|---|\n",
       "| 2023-08-01 | 11.76 | 25.04 | 44.57 | 38.83 | 104.11 | 0.60 | 0.47 |\n",
       "| 2023-08-02 |  8.30 | 18.44 | 36.25 | 22.17 |  70.24 | 0.52 | 0.34 |\n",
       "| 2023-08-03 |  8.38 | 22.75 | 50.06 | 36.20 | 107.94 | 0.63 | 0.48 |\n",
       "| 2023-08-04 | 10.00 | 24.70 | 47.40 | 38.62 | 106.62 | 0.61 | 0.47 |\n",
       "| 2023-08-05 | 11.30 | 18.47 | 36.00 | 26.02 |  75.90 | 0.60 | 0.39 |\n",
       "| 2023-08-06 |  7.33 | 11.05 | 21.68 | 19.17 |  51.08 | 0.51 | 0.35 |\n",
       "| 2023-08-07 |  4.99 | 12.08 | 21.20 | 17.95 |  48.71 | 0.42 | 0.20 |\n",
       "| 2023-08-08 |  6.00 | 14.38 | 30.77 | 19.87 |  62.57 | 0.43 | 0.27 |\n",
       "| 2023-08-09 |  6.67 | 15.62 | 32.27 | 27.74 |  74.78 | 0.46 | 0.28 |\n",
       "| 2023-08-10 | 11.70 | 20.69 | 40.60 | 24.98 |  78.89 | 0.50 | 0.36 |\n",
       "| 2023-08-11 | 14.11 | 25.50 | 46.44 | 29.56 |  91.77 | 0.56 | 0.48 |\n",
       "| 2023-08-12 | 15.21 | 25.27 | 46.76 | 23.23 |  82.36 | 0.58 | 0.46 |\n",
       "| 2023-08-13 | 15.60 | 25.22 | 39.52 | 25.12 |  79.68 | 0.61 | 0.49 |\n",
       "| 2023-08-14 | 16.94 | 30.36 | 48.56 | 26.48 |  89.20 | 0.61 | 0.42 |\n",
       "| 2023-08-15 | 20.64 | 33.34 | 37.08 | 20.39 |  68.35 | 0.62 | 0.51 |\n",
       "| 2023-08-16 | 22.84 | 39.57 | 51.76 | 30.82 |  98.99 | 0.68 | 0.52 |\n",
       "| 2023-08-17 | 18.80 | 34.17 | 45.54 | 28.41 |  89.10 | 0.60 | 0.53 |\n",
       "| 2023-08-18 | 17.13 | 31.02 | 43.39 | 28.32 |  88.69 | 0.59 | 0.47 |\n",
       "| 2023-08-19 | 18.93 | 28.18 | 34.96 | 21.90 |  68.56 | 0.60 | 0.39 |\n",
       "| 2023-08-20 | 21.84 | 31.13 | 32.15 | 16.01 |  56.69 | 0.59 | 0.37 |\n",
       "| 2023-08-21 | 28.46 | 44.70 | 46.71 | 25.49 |  85.82 | 0.70 | 0.48 |\n",
       "| 2023-08-22 | 17.43 | 31.93 | 53.86 | 26.97 |  95.22 | 0.60 | 0.57 |\n",
       "| 2023-08-23 | 25.27 | 37.15 | 42.59 | 20.65 |  75.60 | 0.59 | 0.46 |\n",
       "| 2023-08-24 | 18.18 | 30.22 | 51.88 | 23.24 |  87.51 | 0.59 | 0.49 |\n",
       "| 2023-08-25 | 23.05 | 42.98 | 54.96 | 32.09 | 104.21 | 0.69 | 0.82 |\n",
       "| 2023-08-26 | 15.80 | 26.66 | 39.78 | 23.25 |  75.45 | 0.60 | 0.39 |\n",
       "| 2023-08-27 | 13.89 | 20.74 | 31.65 | 17.87 |  59.06 | 0.58 | 0.39 |\n",
       "| 2023-08-28 | 12.51 | 20.93 | 33.74 | 28.63 |  79.54 | 0.58 | 0.38 |\n",
       "| 2023-08-29 | 15.03 | 24.92 | 35.63 | 34.48 |  88.49 | 0.62 | 0.48 |\n",
       "| 2023-08-30 | 13.00 | 20.34 | 24.91 | 24.24 |  65.40 | 0.51 | 0.40 |\n",
       "| ⋮ | ⋮ | ⋮ | ⋮ | ⋮ | ⋮ | ⋮ | ⋮ |\n",
       "| 2023-09-01 | 10.26 | 19.42 | 40.29 | 33.73 |  92.01 | 0.50 | 0.43 |\n",
       "| 2023-09-02 |  8.70 | 13.84 | 35.58 | 27.32 |  75.95 | 0.55 | 0.48 |\n",
       "| 2023-09-03 | 12.27 | 18.21 | 32.40 | 27.15 |  74.04 | 0.55 | 0.49 |\n",
       "| 2023-09-04 | 12.33 | 24.75 | 40.06 | 29.19 |  84.80 | 0.48 | 0.40 |\n",
       "| 2023-09-05 | 13.65 | 24.45 | 51.08 | 48.98 | 126.15 | 0.60 | 0.70 |\n",
       "| 2023-09-06 | 16.19 | 29.37 | 54.47 | 51.79 | 133.87 | 0.64 | 0.82 |\n",
       "| 2023-09-07 | 21.18 | 37.08 | 58.63 | 58.48 | 145.75 | 0.70 | 0.99 |\n",
       "| 2023-09-08 | 25.77 | 40.78 | 60.34 | 64.14 | 158.68 | 0.72 | 1.09 |\n",
       "| 2023-09-09 | 26.55 | 36.32 | 53.00 | 42.51 | 118.19 | 0.68 | 0.91 |\n",
       "| 2023-09-10 | 27.07 | 35.78 | 48.39 | 36.50 | 104.34 | 0.71 | 0.84 |\n",
       "| 2023-09-11 | 20.21 | 34.22 | 48.63 | 34.36 | 101.31 | 0.58 | 0.59 |\n",
       "| 2023-09-12 | 26.47 | 42.52 | 52.46 | 34.60 | 103.28 | 0.65 | 0.63 |\n",
       "| 2023-09-13 | 28.10 | 47.05 | 52.71 | 30.89 | 100.06 | 0.61 | 0.59 |\n",
       "| 2023-09-14 |  8.87 | 14.67 | 38.97 | 25.20 |  77.62 | 0.46 | 0.31 |\n",
       "| 2023-09-15 |  8.78 | 16.76 | 46.00 | 42.12 | 110.58 | 0.50 | 0.52 |\n",
       "| 2023-09-16 | 18.15 | 26.19 | 37.75 | 31.75 |  86.42 | 0.55 | 1.08 |\n",
       "| 2023-09-17 | 13.12 | 19.58 | 41.00 | 37.97 |  97.39 | 0.60 | 0.80 |\n",
       "| 2023-09-18 | 15.68 | 29.02 | 50.08 | 59.76 | 141.71 | 0.66 | 0.77 |\n",
       "| 2023-09-19 | 14.03 | 22.52 | 39.49 | 46.11 | 110.21 | 0.55 | 0.45 |\n",
       "| 2023-09-20 |  7.64 | 17.78 | 39.02 | 58.05 | 128.04 | 0.60 | 0.49 |\n",
       "| 2023-09-21 |  9.70 | 22.92 | 53.74 | 66.64 | 155.92 | 0.67 | 0.90 |\n",
       "| 2023-09-22 | 13.72 | 30.92 | 52.37 | 49.10 | 125.62 | 0.62 | 0.69 |\n",
       "| 2023-09-23 | 11.95 | 18.27 | 34.15 | 36.54 |  90.16 | 0.53 | 0.42 |\n",
       "| 2023-09-24 |  7.47 | 11.70 | 34.59 | 35.11 |  87.50 | 3.04 | 0.39 |\n",
       "| 2023-09-25 | 14.87 | 24.68 | 34.70 | 41.03 |  97.62 | 0.52 | 0.55 |\n",
       "| 2023-09-26 | 20.52 | 35.74 | 42.83 | 61.22 | 136.71 | 0.69 | 0.77 |\n",
       "| 2023-09-27 | 22.40 | 40.54 | 54.05 | 58.90 | 141.76 | 0.73 | 0.92 |\n",
       "| 2023-09-28 | 22.01 | 42.59 | 54.23 | 77.60 | 173.21 | 0.78 | 0.95 |\n",
       "| 2023-09-29 | 20.43 | 37.56 | 53.53 | 81.55 | 178.57 | 0.76 | 0.82 |\n",
       "| 2023-09-30 | 18.87 | 28.12 | 35.67 | 64.76 | 134.96 | 0.73 | 0.73 |\n",
       "\n"
      ],
      "text/plain": [
       "   data       PM25  PM10  NO2   NO    NOx    CO   C6H6\n",
       "1  2023-08-01 11.76 25.04 44.57 38.83 104.11 0.60 0.47\n",
       "2  2023-08-02  8.30 18.44 36.25 22.17  70.24 0.52 0.34\n",
       "3  2023-08-03  8.38 22.75 50.06 36.20 107.94 0.63 0.48\n",
       "4  2023-08-04 10.00 24.70 47.40 38.62 106.62 0.61 0.47\n",
       "5  2023-08-05 11.30 18.47 36.00 26.02  75.90 0.60 0.39\n",
       "6  2023-08-06  7.33 11.05 21.68 19.17  51.08 0.51 0.35\n",
       "7  2023-08-07  4.99 12.08 21.20 17.95  48.71 0.42 0.20\n",
       "8  2023-08-08  6.00 14.38 30.77 19.87  62.57 0.43 0.27\n",
       "9  2023-08-09  6.67 15.62 32.27 27.74  74.78 0.46 0.28\n",
       "10 2023-08-10 11.70 20.69 40.60 24.98  78.89 0.50 0.36\n",
       "11 2023-08-11 14.11 25.50 46.44 29.56  91.77 0.56 0.48\n",
       "12 2023-08-12 15.21 25.27 46.76 23.23  82.36 0.58 0.46\n",
       "13 2023-08-13 15.60 25.22 39.52 25.12  79.68 0.61 0.49\n",
       "14 2023-08-14 16.94 30.36 48.56 26.48  89.20 0.61 0.42\n",
       "15 2023-08-15 20.64 33.34 37.08 20.39  68.35 0.62 0.51\n",
       "16 2023-08-16 22.84 39.57 51.76 30.82  98.99 0.68 0.52\n",
       "17 2023-08-17 18.80 34.17 45.54 28.41  89.10 0.60 0.53\n",
       "18 2023-08-18 17.13 31.02 43.39 28.32  88.69 0.59 0.47\n",
       "19 2023-08-19 18.93 28.18 34.96 21.90  68.56 0.60 0.39\n",
       "20 2023-08-20 21.84 31.13 32.15 16.01  56.69 0.59 0.37\n",
       "21 2023-08-21 28.46 44.70 46.71 25.49  85.82 0.70 0.48\n",
       "22 2023-08-22 17.43 31.93 53.86 26.97  95.22 0.60 0.57\n",
       "23 2023-08-23 25.27 37.15 42.59 20.65  75.60 0.59 0.46\n",
       "24 2023-08-24 18.18 30.22 51.88 23.24  87.51 0.59 0.49\n",
       "25 2023-08-25 23.05 42.98 54.96 32.09 104.21 0.69 0.82\n",
       "26 2023-08-26 15.80 26.66 39.78 23.25  75.45 0.60 0.39\n",
       "27 2023-08-27 13.89 20.74 31.65 17.87  59.06 0.58 0.39\n",
       "28 2023-08-28 12.51 20.93 33.74 28.63  79.54 0.58 0.38\n",
       "29 2023-08-29 15.03 24.92 35.63 34.48  88.49 0.62 0.48\n",
       "30 2023-08-30 13.00 20.34 24.91 24.24  65.40 0.51 0.40\n",
       "⋮  ⋮          ⋮     ⋮     ⋮     ⋮     ⋮      ⋮    ⋮   \n",
       "32 2023-09-01 10.26 19.42 40.29 33.73  92.01 0.50 0.43\n",
       "33 2023-09-02  8.70 13.84 35.58 27.32  75.95 0.55 0.48\n",
       "34 2023-09-03 12.27 18.21 32.40 27.15  74.04 0.55 0.49\n",
       "35 2023-09-04 12.33 24.75 40.06 29.19  84.80 0.48 0.40\n",
       "36 2023-09-05 13.65 24.45 51.08 48.98 126.15 0.60 0.70\n",
       "37 2023-09-06 16.19 29.37 54.47 51.79 133.87 0.64 0.82\n",
       "38 2023-09-07 21.18 37.08 58.63 58.48 145.75 0.70 0.99\n",
       "39 2023-09-08 25.77 40.78 60.34 64.14 158.68 0.72 1.09\n",
       "40 2023-09-09 26.55 36.32 53.00 42.51 118.19 0.68 0.91\n",
       "41 2023-09-10 27.07 35.78 48.39 36.50 104.34 0.71 0.84\n",
       "42 2023-09-11 20.21 34.22 48.63 34.36 101.31 0.58 0.59\n",
       "43 2023-09-12 26.47 42.52 52.46 34.60 103.28 0.65 0.63\n",
       "44 2023-09-13 28.10 47.05 52.71 30.89 100.06 0.61 0.59\n",
       "45 2023-09-14  8.87 14.67 38.97 25.20  77.62 0.46 0.31\n",
       "46 2023-09-15  8.78 16.76 46.00 42.12 110.58 0.50 0.52\n",
       "47 2023-09-16 18.15 26.19 37.75 31.75  86.42 0.55 1.08\n",
       "48 2023-09-17 13.12 19.58 41.00 37.97  97.39 0.60 0.80\n",
       "49 2023-09-18 15.68 29.02 50.08 59.76 141.71 0.66 0.77\n",
       "50 2023-09-19 14.03 22.52 39.49 46.11 110.21 0.55 0.45\n",
       "51 2023-09-20  7.64 17.78 39.02 58.05 128.04 0.60 0.49\n",
       "52 2023-09-21  9.70 22.92 53.74 66.64 155.92 0.67 0.90\n",
       "53 2023-09-22 13.72 30.92 52.37 49.10 125.62 0.62 0.69\n",
       "54 2023-09-23 11.95 18.27 34.15 36.54  90.16 0.53 0.42\n",
       "55 2023-09-24  7.47 11.70 34.59 35.11  87.50 3.04 0.39\n",
       "56 2023-09-25 14.87 24.68 34.70 41.03  97.62 0.52 0.55\n",
       "57 2023-09-26 20.52 35.74 42.83 61.22 136.71 0.69 0.77\n",
       "58 2023-09-27 22.40 40.54 54.05 58.90 141.76 0.73 0.92\n",
       "59 2023-09-28 22.01 42.59 54.23 77.60 173.21 0.78 0.95\n",
       "60 2023-09-29 20.43 37.56 53.53 81.55 178.57 0.76 0.82\n",
       "61 2023-09-30 18.87 28.12 35.67 64.76 134.96 0.73 0.73"
      ]
     },
     "metadata": {},
     "output_type": "display_data"
    }
   ],
   "source": [
    "dcast(powietrze_waska, data ~ variable)"
   ]
  },
  {
   "cell_type": "markdown",
   "metadata": {
    "id": "92PStB33gBLK"
   },
   "source": [
    "## Zadania"
   ]
  },
  {
   "cell_type": "markdown",
   "metadata": {},
   "source": [
    "1. Wczytaj dane pomiarowe z pliku `gios-pjp-data1.csv` i zapisz je jako obiekt `tibble`."
   ]
  },
  {
   "cell_type": "code",
   "execution_count": 122,
   "metadata": {
    "vscode": {
     "languageId": "r"
    }
   },
   "outputs": [
    {
     "name": "stderr",
     "output_type": "stream",
     "text": [
      "Warning message:\n",
      "“\u001b[1m\u001b[22mOne or more parsing issues, call `problems()` on your data frame for details,\n",
      "e.g.:\n",
      "  dat <- vroom(...)\n",
      "  problems(dat)”\n"
     ]
    },
    {
     "data": {
      "text/html": [
       "<table class=\"dataframe\">\n",
       "<caption>A tibble: 6 × 8</caption>\n",
       "<thead>\n",
       "\t<tr><th scope=col>PM25</th><th scope=col>PM10</th><th scope=col>NO2</th><th scope=col>NO</th><th scope=col>NOx</th><th scope=col>CO</th><th scope=col>C6H6</th><th scope=col>date</th></tr>\n",
       "\t<tr><th scope=col>&lt;dbl&gt;</th><th scope=col>&lt;dbl&gt;</th><th scope=col>&lt;dbl&gt;</th><th scope=col>&lt;dbl&gt;</th><th scope=col>&lt;dbl&gt;</th><th scope=col>&lt;dbl&gt;</th><th scope=col>&lt;dbl&gt;</th><th scope=col>&lt;date&gt;</th></tr>\n",
       "</thead>\n",
       "<tbody>\n",
       "\t<tr><td>12.3</td><td>25.7</td><td>30.4</td><td>10.0</td><td> 45.7</td><td>0.5</td><td>0.3</td><td>2023-08-01</td></tr>\n",
       "\t<tr><td>14.0</td><td>27.4</td><td>31.9</td><td>23.4</td><td> 67.7</td><td>0.5</td><td>0.4</td><td>2023-08-01</td></tr>\n",
       "\t<tr><td>14.0</td><td>25.3</td><td>28.5</td><td>14.3</td><td> 50.5</td><td>0.5</td><td>0.4</td><td>2023-08-01</td></tr>\n",
       "\t<tr><td>14.0</td><td>29.3</td><td>23.4</td><td>27.7</td><td> 65.8</td><td>0.5</td><td>0.4</td><td>2023-08-01</td></tr>\n",
       "\t<tr><td>14.9</td><td>30.2</td><td>27.8</td><td>51.4</td><td>106.7</td><td>0.5</td><td>0.5</td><td>2023-08-01</td></tr>\n",
       "\t<tr><td>17.2</td><td>39.1</td><td>42.2</td><td>85.5</td><td>173.2</td><td>0.7</td><td>0.7</td><td>2023-08-01</td></tr>\n",
       "</tbody>\n",
       "</table>\n"
      ],
      "text/latex": [
       "A tibble: 6 × 8\n",
       "\\begin{tabular}{llllllll}\n",
       " PM25 & PM10 & NO2 & NO & NOx & CO & C6H6 & date\\\\\n",
       " <dbl> & <dbl> & <dbl> & <dbl> & <dbl> & <dbl> & <dbl> & <date>\\\\\n",
       "\\hline\n",
       "\t 12.3 & 25.7 & 30.4 & 10.0 &  45.7 & 0.5 & 0.3 & 2023-08-01\\\\\n",
       "\t 14.0 & 27.4 & 31.9 & 23.4 &  67.7 & 0.5 & 0.4 & 2023-08-01\\\\\n",
       "\t 14.0 & 25.3 & 28.5 & 14.3 &  50.5 & 0.5 & 0.4 & 2023-08-01\\\\\n",
       "\t 14.0 & 29.3 & 23.4 & 27.7 &  65.8 & 0.5 & 0.4 & 2023-08-01\\\\\n",
       "\t 14.9 & 30.2 & 27.8 & 51.4 & 106.7 & 0.5 & 0.5 & 2023-08-01\\\\\n",
       "\t 17.2 & 39.1 & 42.2 & 85.5 & 173.2 & 0.7 & 0.7 & 2023-08-01\\\\\n",
       "\\end{tabular}\n"
      ],
      "text/markdown": [
       "\n",
       "A tibble: 6 × 8\n",
       "\n",
       "| PM25 &lt;dbl&gt; | PM10 &lt;dbl&gt; | NO2 &lt;dbl&gt; | NO &lt;dbl&gt; | NOx &lt;dbl&gt; | CO &lt;dbl&gt; | C6H6 &lt;dbl&gt; | date &lt;date&gt; |\n",
       "|---|---|---|---|---|---|---|---|\n",
       "| 12.3 | 25.7 | 30.4 | 10.0 |  45.7 | 0.5 | 0.3 | 2023-08-01 |\n",
       "| 14.0 | 27.4 | 31.9 | 23.4 |  67.7 | 0.5 | 0.4 | 2023-08-01 |\n",
       "| 14.0 | 25.3 | 28.5 | 14.3 |  50.5 | 0.5 | 0.4 | 2023-08-01 |\n",
       "| 14.0 | 29.3 | 23.4 | 27.7 |  65.8 | 0.5 | 0.4 | 2023-08-01 |\n",
       "| 14.9 | 30.2 | 27.8 | 51.4 | 106.7 | 0.5 | 0.5 | 2023-08-01 |\n",
       "| 17.2 | 39.1 | 42.2 | 85.5 | 173.2 | 0.7 | 0.7 | 2023-08-01 |\n",
       "\n"
      ],
      "text/plain": [
       "  PM25 PM10 NO2  NO   NOx   CO  C6H6 date      \n",
       "1 12.3 25.7 30.4 10.0  45.7 0.5 0.3  2023-08-01\n",
       "2 14.0 27.4 31.9 23.4  67.7 0.5 0.4  2023-08-01\n",
       "3 14.0 25.3 28.5 14.3  50.5 0.5 0.4  2023-08-01\n",
       "4 14.0 29.3 23.4 27.7  65.8 0.5 0.4  2023-08-01\n",
       "5 14.9 30.2 27.8 51.4 106.7 0.5 0.5  2023-08-01\n",
       "6 17.2 39.1 42.2 85.5 173.2 0.7 0.7  2023-08-01"
      ]
     },
     "metadata": {},
     "output_type": "display_data"
    }
   ],
   "source": [
    "df <- read_csv(\"dane/gios-pjp-data1.csv\", show_col_types = FALSE)\n",
    "names(df)[2:8] <- c(\"PM25\", \"PM10\", \"NO2\", \"NO\", \"NOx\", \"CO\", \"C6H6\")\n",
    "df$date = date(df$Data)\n",
    "df <- df[-1]\n",
    "head(df)"
   ]
  },
  {
   "cell_type": "code",
   "execution_count": 123,
   "metadata": {
    "vscode": {
     "languageId": "r"
    }
   },
   "outputs": [
    {
     "data": {
      "text/html": [
       "<table class=\"dataframe\">\n",
       "<caption>A tibble: 6 × 8</caption>\n",
       "<thead>\n",
       "\t<tr><th scope=col>PM25</th><th scope=col>PM10</th><th scope=col>NO2</th><th scope=col>NO</th><th scope=col>NOx</th><th scope=col>CO</th><th scope=col>C6H6</th><th scope=col>date</th></tr>\n",
       "\t<tr><th scope=col>&lt;dbl&gt;</th><th scope=col>&lt;dbl&gt;</th><th scope=col>&lt;dbl&gt;</th><th scope=col>&lt;dbl&gt;</th><th scope=col>&lt;dbl&gt;</th><th scope=col>&lt;dbl&gt;</th><th scope=col>&lt;dbl&gt;</th><th scope=col>&lt;date&gt;</th></tr>\n",
       "</thead>\n",
       "<tbody>\n",
       "\t<tr><td> 8.4</td><td>19.3</td><td>57.5</td><td>43.8</td><td>124.7</td><td>0.6</td><td>0.5</td><td>2023-08-31</td></tr>\n",
       "\t<tr><td>10.3</td><td>22.0</td><td>52.8</td><td>50.9</td><td>130.9</td><td>0.8</td><td>0.8</td><td>2023-08-31</td></tr>\n",
       "\t<tr><td>10.1</td><td>17.8</td><td>40.4</td><td>31.0</td><td> 88.0</td><td>0.6</td><td>0.7</td><td>2023-08-31</td></tr>\n",
       "\t<tr><td> 9.4</td><td>16.5</td><td>37.7</td><td>25.6</td><td> 77.0</td><td>0.5</td><td>0.6</td><td>2023-08-31</td></tr>\n",
       "\t<tr><td>10.0</td><td>17.5</td><td>38.3</td><td>27.2</td><td> 80.0</td><td>0.5</td><td>0.5</td><td>2023-08-31</td></tr>\n",
       "\t<tr><td>  NA</td><td>  NA</td><td>  NA</td><td>  NA</td><td>   NA</td><td> NA</td><td> NA</td><td>2023-09-01</td></tr>\n",
       "</tbody>\n",
       "</table>\n"
      ],
      "text/latex": [
       "A tibble: 6 × 8\n",
       "\\begin{tabular}{llllllll}\n",
       " PM25 & PM10 & NO2 & NO & NOx & CO & C6H6 & date\\\\\n",
       " <dbl> & <dbl> & <dbl> & <dbl> & <dbl> & <dbl> & <dbl> & <date>\\\\\n",
       "\\hline\n",
       "\t  8.4 & 19.3 & 57.5 & 43.8 & 124.7 & 0.6 & 0.5 & 2023-08-31\\\\\n",
       "\t 10.3 & 22.0 & 52.8 & 50.9 & 130.9 & 0.8 & 0.8 & 2023-08-31\\\\\n",
       "\t 10.1 & 17.8 & 40.4 & 31.0 &  88.0 & 0.6 & 0.7 & 2023-08-31\\\\\n",
       "\t  9.4 & 16.5 & 37.7 & 25.6 &  77.0 & 0.5 & 0.6 & 2023-08-31\\\\\n",
       "\t 10.0 & 17.5 & 38.3 & 27.2 &  80.0 & 0.5 & 0.5 & 2023-08-31\\\\\n",
       "\t   NA &   NA &   NA &   NA &    NA &  NA &  NA & 2023-09-01\\\\\n",
       "\\end{tabular}\n"
      ],
      "text/markdown": [
       "\n",
       "A tibble: 6 × 8\n",
       "\n",
       "| PM25 &lt;dbl&gt; | PM10 &lt;dbl&gt; | NO2 &lt;dbl&gt; | NO &lt;dbl&gt; | NOx &lt;dbl&gt; | CO &lt;dbl&gt; | C6H6 &lt;dbl&gt; | date &lt;date&gt; |\n",
       "|---|---|---|---|---|---|---|---|\n",
       "|  8.4 | 19.3 | 57.5 | 43.8 | 124.7 | 0.6 | 0.5 | 2023-08-31 |\n",
       "| 10.3 | 22.0 | 52.8 | 50.9 | 130.9 | 0.8 | 0.8 | 2023-08-31 |\n",
       "| 10.1 | 17.8 | 40.4 | 31.0 |  88.0 | 0.6 | 0.7 | 2023-08-31 |\n",
       "|  9.4 | 16.5 | 37.7 | 25.6 |  77.0 | 0.5 | 0.6 | 2023-08-31 |\n",
       "| 10.0 | 17.5 | 38.3 | 27.2 |  80.0 | 0.5 | 0.5 | 2023-08-31 |\n",
       "|   NA |   NA |   NA |   NA |    NA |  NA |  NA | 2023-09-01 |\n",
       "\n"
      ],
      "text/plain": [
       "  PM25 PM10 NO2  NO   NOx   CO  C6H6 date      \n",
       "1  8.4 19.3 57.5 43.8 124.7 0.6 0.5  2023-08-31\n",
       "2 10.3 22.0 52.8 50.9 130.9 0.8 0.8  2023-08-31\n",
       "3 10.1 17.8 40.4 31.0  88.0 0.6 0.7  2023-08-31\n",
       "4  9.4 16.5 37.7 25.6  77.0 0.5 0.6  2023-08-31\n",
       "5 10.0 17.5 38.3 27.2  80.0 0.5 0.5  2023-08-31\n",
       "6   NA   NA   NA   NA    NA  NA  NA  2023-09-01"
      ]
     },
     "metadata": {},
     "output_type": "display_data"
    }
   ],
   "source": [
    "tail(df)"
   ]
  },
  {
   "cell_type": "code",
   "execution_count": 124,
   "metadata": {
    "vscode": {
     "languageId": "r"
    }
   },
   "outputs": [
    {
     "data": {
      "text/html": [
       "<table class=\"dataframe\">\n",
       "<caption>A tibble: 6 × 8</caption>\n",
       "<thead>\n",
       "\t<tr><th scope=col>PM25</th><th scope=col>PM10</th><th scope=col>NO2</th><th scope=col>NO</th><th scope=col>NOx</th><th scope=col>CO</th><th scope=col>C6H6</th><th scope=col>date</th></tr>\n",
       "\t<tr><th scope=col>&lt;dbl&gt;</th><th scope=col>&lt;dbl&gt;</th><th scope=col>&lt;dbl&gt;</th><th scope=col>&lt;dbl&gt;</th><th scope=col>&lt;dbl&gt;</th><th scope=col>&lt;dbl&gt;</th><th scope=col>&lt;dbl&gt;</th><th scope=col>&lt;date&gt;</th></tr>\n",
       "</thead>\n",
       "<tbody>\n",
       "\t<tr><td> 7.9</td><td>16.2</td><td>42.2</td><td>23.2</td><td> 77.7</td><td>0.5</td><td>0.4</td><td>2023-08-31</td></tr>\n",
       "\t<tr><td> 8.4</td><td>19.3</td><td>57.5</td><td>43.8</td><td>124.7</td><td>0.6</td><td>0.5</td><td>2023-08-31</td></tr>\n",
       "\t<tr><td>10.3</td><td>22.0</td><td>52.8</td><td>50.9</td><td>130.9</td><td>0.8</td><td>0.8</td><td>2023-08-31</td></tr>\n",
       "\t<tr><td>10.1</td><td>17.8</td><td>40.4</td><td>31.0</td><td> 88.0</td><td>0.6</td><td>0.7</td><td>2023-08-31</td></tr>\n",
       "\t<tr><td> 9.4</td><td>16.5</td><td>37.7</td><td>25.6</td><td> 77.0</td><td>0.5</td><td>0.6</td><td>2023-08-31</td></tr>\n",
       "\t<tr><td>10.0</td><td>17.5</td><td>38.3</td><td>27.2</td><td> 80.0</td><td>0.5</td><td>0.5</td><td>2023-08-31</td></tr>\n",
       "</tbody>\n",
       "</table>\n"
      ],
      "text/latex": [
       "A tibble: 6 × 8\n",
       "\\begin{tabular}{llllllll}\n",
       " PM25 & PM10 & NO2 & NO & NOx & CO & C6H6 & date\\\\\n",
       " <dbl> & <dbl> & <dbl> & <dbl> & <dbl> & <dbl> & <dbl> & <date>\\\\\n",
       "\\hline\n",
       "\t  7.9 & 16.2 & 42.2 & 23.2 &  77.7 & 0.5 & 0.4 & 2023-08-31\\\\\n",
       "\t  8.4 & 19.3 & 57.5 & 43.8 & 124.7 & 0.6 & 0.5 & 2023-08-31\\\\\n",
       "\t 10.3 & 22.0 & 52.8 & 50.9 & 130.9 & 0.8 & 0.8 & 2023-08-31\\\\\n",
       "\t 10.1 & 17.8 & 40.4 & 31.0 &  88.0 & 0.6 & 0.7 & 2023-08-31\\\\\n",
       "\t  9.4 & 16.5 & 37.7 & 25.6 &  77.0 & 0.5 & 0.6 & 2023-08-31\\\\\n",
       "\t 10.0 & 17.5 & 38.3 & 27.2 &  80.0 & 0.5 & 0.5 & 2023-08-31\\\\\n",
       "\\end{tabular}\n"
      ],
      "text/markdown": [
       "\n",
       "A tibble: 6 × 8\n",
       "\n",
       "| PM25 &lt;dbl&gt; | PM10 &lt;dbl&gt; | NO2 &lt;dbl&gt; | NO &lt;dbl&gt; | NOx &lt;dbl&gt; | CO &lt;dbl&gt; | C6H6 &lt;dbl&gt; | date &lt;date&gt; |\n",
       "|---|---|---|---|---|---|---|---|\n",
       "|  7.9 | 16.2 | 42.2 | 23.2 |  77.7 | 0.5 | 0.4 | 2023-08-31 |\n",
       "|  8.4 | 19.3 | 57.5 | 43.8 | 124.7 | 0.6 | 0.5 | 2023-08-31 |\n",
       "| 10.3 | 22.0 | 52.8 | 50.9 | 130.9 | 0.8 | 0.8 | 2023-08-31 |\n",
       "| 10.1 | 17.8 | 40.4 | 31.0 |  88.0 | 0.6 | 0.7 | 2023-08-31 |\n",
       "|  9.4 | 16.5 | 37.7 | 25.6 |  77.0 | 0.5 | 0.6 | 2023-08-31 |\n",
       "| 10.0 | 17.5 | 38.3 | 27.2 |  80.0 | 0.5 | 0.5 | 2023-08-31 |\n",
       "\n"
      ],
      "text/plain": [
       "  PM25 PM10 NO2  NO   NOx   CO  C6H6 date      \n",
       "1  7.9 16.2 42.2 23.2  77.7 0.5 0.4  2023-08-31\n",
       "2  8.4 19.3 57.5 43.8 124.7 0.6 0.5  2023-08-31\n",
       "3 10.3 22.0 52.8 50.9 130.9 0.8 0.8  2023-08-31\n",
       "4 10.1 17.8 40.4 31.0  88.0 0.6 0.7  2023-08-31\n",
       "5  9.4 16.5 37.7 25.6  77.0 0.5 0.6  2023-08-31\n",
       "6 10.0 17.5 38.3 27.2  80.0 0.5 0.5  2023-08-31"
      ]
     },
     "metadata": {},
     "output_type": "display_data"
    }
   ],
   "source": [
    "df <- df[-nrow(df), ]\n",
    "tail(df)"
   ]
  },
  {
   "cell_type": "markdown",
   "metadata": {},
   "source": [
    "2. Utwórz nową ramkę danych, w której zapiszesz wartości średnie dobowe pomiarów."
   ]
  },
  {
   "cell_type": "code",
   "execution_count": 125,
   "metadata": {
    "vscode": {
     "languageId": "r"
    }
   },
   "outputs": [
    {
     "data": {
      "text/html": [
       "<table class=\"dataframe\">\n",
       "<caption>A tibble: 6 × 8</caption>\n",
       "<thead>\n",
       "\t<tr><th scope=col>date</th><th scope=col>PM25</th><th scope=col>PM10</th><th scope=col>NO2</th><th scope=col>NO</th><th scope=col>NOx</th><th scope=col>CO</th><th scope=col>C6H6</th></tr>\n",
       "\t<tr><th scope=col>&lt;date&gt;</th><th scope=col>&lt;dbl&gt;</th><th scope=col>&lt;dbl&gt;</th><th scope=col>&lt;dbl&gt;</th><th scope=col>&lt;dbl&gt;</th><th scope=col>&lt;dbl&gt;</th><th scope=col>&lt;dbl&gt;</th><th scope=col>&lt;dbl&gt;</th></tr>\n",
       "</thead>\n",
       "<tbody>\n",
       "\t<tr><td>2023-08-01</td><td>11.760870</td><td>25.04348</td><td>44.57391</td><td>38.83478</td><td>104.10870</td><td>0.5956522</td><td>0.4652174</td></tr>\n",
       "\t<tr><td>2023-08-02</td><td> 8.295833</td><td>18.43750</td><td>36.24583</td><td>22.17083</td><td> 70.24167</td><td>0.5208333</td><td>0.3375000</td></tr>\n",
       "\t<tr><td>2023-08-03</td><td> 8.383333</td><td>22.74583</td><td>50.06087</td><td>36.19583</td><td>107.93913</td><td>0.6347826</td><td>0.4782609</td></tr>\n",
       "\t<tr><td>2023-08-04</td><td>10.000000</td><td>24.69583</td><td>47.40000</td><td>38.62500</td><td>106.61667</td><td>0.6125000</td><td>0.4708333</td></tr>\n",
       "\t<tr><td>2023-08-05</td><td>11.295833</td><td>18.46667</td><td>36.00000</td><td>26.02500</td><td> 75.90417</td><td>0.6041667</td><td>0.3863636</td></tr>\n",
       "\t<tr><td>2023-08-06</td><td> 7.333333</td><td>11.04583</td><td>21.67917</td><td>19.16667</td><td> 51.07500</td><td>0.5125000</td><td>0.3500000</td></tr>\n",
       "</tbody>\n",
       "</table>\n"
      ],
      "text/latex": [
       "A tibble: 6 × 8\n",
       "\\begin{tabular}{llllllll}\n",
       " date & PM25 & PM10 & NO2 & NO & NOx & CO & C6H6\\\\\n",
       " <date> & <dbl> & <dbl> & <dbl> & <dbl> & <dbl> & <dbl> & <dbl>\\\\\n",
       "\\hline\n",
       "\t 2023-08-01 & 11.760870 & 25.04348 & 44.57391 & 38.83478 & 104.10870 & 0.5956522 & 0.4652174\\\\\n",
       "\t 2023-08-02 &  8.295833 & 18.43750 & 36.24583 & 22.17083 &  70.24167 & 0.5208333 & 0.3375000\\\\\n",
       "\t 2023-08-03 &  8.383333 & 22.74583 & 50.06087 & 36.19583 & 107.93913 & 0.6347826 & 0.4782609\\\\\n",
       "\t 2023-08-04 & 10.000000 & 24.69583 & 47.40000 & 38.62500 & 106.61667 & 0.6125000 & 0.4708333\\\\\n",
       "\t 2023-08-05 & 11.295833 & 18.46667 & 36.00000 & 26.02500 &  75.90417 & 0.6041667 & 0.3863636\\\\\n",
       "\t 2023-08-06 &  7.333333 & 11.04583 & 21.67917 & 19.16667 &  51.07500 & 0.5125000 & 0.3500000\\\\\n",
       "\\end{tabular}\n"
      ],
      "text/markdown": [
       "\n",
       "A tibble: 6 × 8\n",
       "\n",
       "| date &lt;date&gt; | PM25 &lt;dbl&gt; | PM10 &lt;dbl&gt; | NO2 &lt;dbl&gt; | NO &lt;dbl&gt; | NOx &lt;dbl&gt; | CO &lt;dbl&gt; | C6H6 &lt;dbl&gt; |\n",
       "|---|---|---|---|---|---|---|---|\n",
       "| 2023-08-01 | 11.760870 | 25.04348 | 44.57391 | 38.83478 | 104.10870 | 0.5956522 | 0.4652174 |\n",
       "| 2023-08-02 |  8.295833 | 18.43750 | 36.24583 | 22.17083 |  70.24167 | 0.5208333 | 0.3375000 |\n",
       "| 2023-08-03 |  8.383333 | 22.74583 | 50.06087 | 36.19583 | 107.93913 | 0.6347826 | 0.4782609 |\n",
       "| 2023-08-04 | 10.000000 | 24.69583 | 47.40000 | 38.62500 | 106.61667 | 0.6125000 | 0.4708333 |\n",
       "| 2023-08-05 | 11.295833 | 18.46667 | 36.00000 | 26.02500 |  75.90417 | 0.6041667 | 0.3863636 |\n",
       "| 2023-08-06 |  7.333333 | 11.04583 | 21.67917 | 19.16667 |  51.07500 | 0.5125000 | 0.3500000 |\n",
       "\n"
      ],
      "text/plain": [
       "  date       PM25      PM10     NO2      NO       NOx       CO        C6H6     \n",
       "1 2023-08-01 11.760870 25.04348 44.57391 38.83478 104.10870 0.5956522 0.4652174\n",
       "2 2023-08-02  8.295833 18.43750 36.24583 22.17083  70.24167 0.5208333 0.3375000\n",
       "3 2023-08-03  8.383333 22.74583 50.06087 36.19583 107.93913 0.6347826 0.4782609\n",
       "4 2023-08-04 10.000000 24.69583 47.40000 38.62500 106.61667 0.6125000 0.4708333\n",
       "5 2023-08-05 11.295833 18.46667 36.00000 26.02500  75.90417 0.6041667 0.3863636\n",
       "6 2023-08-06  7.333333 11.04583 21.67917 19.16667  51.07500 0.5125000 0.3500000"
      ]
     },
     "metadata": {},
     "output_type": "display_data"
    }
   ],
   "source": [
    "# df.groupby(date).mean()\n",
    "df_means <- df %>%\n",
    "                group_by(date) %>%\n",
    "                summarise(across(everything(), \\(x) mean(x, na.rm=TRUE)))\n",
    "\n",
    "head(df_means)"
   ]
  },
  {
   "cell_type": "markdown",
   "metadata": {},
   "source": [
    "3. Na nowych danych oblicz wartość średnią dla zmiennej NO2, wyłącznie dla wybranego dnia tygodnia."
   ]
  },
  {
   "cell_type": "code",
   "execution_count": 126,
   "metadata": {
    "vscode": {
     "languageId": "r"
    }
   },
   "outputs": [
    {
     "data": {
      "text/html": [
       "<table class=\"dataframe\">\n",
       "<caption>A tibble: 1 × 1</caption>\n",
       "<thead>\n",
       "\t<tr><th scope=col>mean(NO2)</th></tr>\n",
       "\t<tr><th scope=col>&lt;dbl&gt;</th></tr>\n",
       "</thead>\n",
       "<tbody>\n",
       "\t<tr><td>37.55682</td></tr>\n",
       "</tbody>\n",
       "</table>\n"
      ],
      "text/latex": [
       "A tibble: 1 × 1\n",
       "\\begin{tabular}{l}\n",
       " mean(NO2)\\\\\n",
       " <dbl>\\\\\n",
       "\\hline\n",
       "\t 37.55682\\\\\n",
       "\\end{tabular}\n"
      ],
      "text/markdown": [
       "\n",
       "A tibble: 1 × 1\n",
       "\n",
       "| mean(NO2) &lt;dbl&gt; |\n",
       "|---|\n",
       "| 37.55682 |\n",
       "\n"
      ],
      "text/plain": [
       "  mean(NO2)\n",
       "1 37.55682 "
      ]
     },
     "metadata": {},
     "output_type": "display_data"
    }
   ],
   "source": [
    "dayoftheweek <- \"Wednesday\"\n",
    "df_means %>%\n",
    "   filter(weekdays(date) == dayoftheweek) %>%\n",
    "   summarize(mean(NO2))"
   ]
  },
  {
   "cell_type": "code",
   "execution_count": 127,
   "metadata": {
    "vscode": {
     "languageId": "r"
    }
   },
   "outputs": [
    {
     "data": {
      "text/html": [
       "<table class=\"dataframe\">\n",
       "<caption>A tibble: 7 × 2</caption>\n",
       "<thead>\n",
       "\t<tr><th scope=col>weekday</th><th scope=col>mean(NO2)</th></tr>\n",
       "\t<tr><th scope=col>&lt;chr&gt;</th><th scope=col>&lt;dbl&gt;</th></tr>\n",
       "</thead>\n",
       "<tbody>\n",
       "\t<tr><td>Monday   </td><td>37.55249</td></tr>\n",
       "\t<tr><td>Tuesday  </td><td>40.38199</td></tr>\n",
       "\t<tr><td>Wednesday</td><td>37.55682</td></tr>\n",
       "\t<tr><td>Thursday </td><td>43.94217</td></tr>\n",
       "\t<tr><td>Friday   </td><td>48.04778</td></tr>\n",
       "\t<tr><td>Saturday </td><td>39.37604</td></tr>\n",
       "\t<tr><td>Sunday   </td><td>31.24810</td></tr>\n",
       "</tbody>\n",
       "</table>\n"
      ],
      "text/latex": [
       "A tibble: 7 × 2\n",
       "\\begin{tabular}{ll}\n",
       " weekday & mean(NO2)\\\\\n",
       " <chr> & <dbl>\\\\\n",
       "\\hline\n",
       "\t Monday    & 37.55249\\\\\n",
       "\t Tuesday   & 40.38199\\\\\n",
       "\t Wednesday & 37.55682\\\\\n",
       "\t Thursday  & 43.94217\\\\\n",
       "\t Friday    & 48.04778\\\\\n",
       "\t Saturday  & 39.37604\\\\\n",
       "\t Sunday    & 31.24810\\\\\n",
       "\\end{tabular}\n"
      ],
      "text/markdown": [
       "\n",
       "A tibble: 7 × 2\n",
       "\n",
       "| weekday &lt;chr&gt; | mean(NO2) &lt;dbl&gt; |\n",
       "|---|---|\n",
       "| Monday    | 37.55249 |\n",
       "| Tuesday   | 40.38199 |\n",
       "| Wednesday | 37.55682 |\n",
       "| Thursday  | 43.94217 |\n",
       "| Friday    | 48.04778 |\n",
       "| Saturday  | 39.37604 |\n",
       "| Sunday    | 31.24810 |\n",
       "\n"
      ],
      "text/plain": [
       "  weekday   mean(NO2)\n",
       "1 Monday    37.55249 \n",
       "2 Tuesday   40.38199 \n",
       "3 Wednesday 37.55682 \n",
       "4 Thursday  43.94217 \n",
       "5 Friday    48.04778 \n",
       "6 Saturday  39.37604 \n",
       "7 Sunday    31.24810 "
      ]
     },
     "metadata": {},
     "output_type": "display_data"
    }
   ],
   "source": [
    "df_means$weekday <- weekdays(df_means$date)\n",
    "custom_key <- c(\"Monday\", \"Tuesday\", \"Wednesday\", \"Thursday\", \"Friday\", \"Saturday\", \"Sunday\")\n",
    "df_means %>%\n",
    "    group_by(weekday) %>%\n",
    "    summarise(mean(NO2)) %>%\n",
    "    arrange(match(weekday, custom_key)) "
   ]
  },
  {
   "cell_type": "code",
   "execution_count": 128,
   "metadata": {
    "vscode": {
     "languageId": "r"
    }
   },
   "outputs": [],
   "source": [
    "# EOF"
   ]
  }
 ],
 "metadata": {
  "colab": {
   "provenance": []
  },
  "kernelspec": {
   "display_name": "R",
   "language": "R",
   "name": "ir"
  },
  "language_info": {
   "codemirror_mode": "r",
   "file_extension": ".r",
   "mimetype": "text/x-r-source",
   "name": "R",
   "pygments_lexer": "r",
   "version": "4.4.1"
  }
 },
 "nbformat": 4,
 "nbformat_minor": 4
}
