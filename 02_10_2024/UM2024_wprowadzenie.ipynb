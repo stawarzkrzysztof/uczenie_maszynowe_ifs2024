{
 "cells": [
  {
   "cell_type": "markdown",
   "metadata": {
    "id": "aj6TCdmRDaNF"
   },
   "source": [
    "# Wprowadzenie do narzędzi\n",
    "\n",
    "Jeśli pracujesz w Google Colab: sprawdź, czy masz ustawiony prawidłowy typ środowiska wykonawczego (R). Jeśli w VSC sprawdź, czy masz ustawione jądro RKernel.\n",
    "\n",
    "**Aby uruchomić kod kliknij we fragment kodu i wciśnij Ctrl+Enter**\n"
   ]
  },
  {
   "cell_type": "markdown",
   "metadata": {
    "id": "oV28VLhLKmXa"
   },
   "source": [
    "## Podstawy podstaw R\n",
    "\n",
    "(Pomiń, jeśli wiesz cokolwiek o R). R jest jednym z najpopularniejszych (obok Pythona) językiem wykorzystywanym w szeroko rozumianej Data Science."
   ]
  },
  {
   "cell_type": "markdown",
   "metadata": {
    "id": "LknCLeWBOb2Q"
   },
   "source": "### Typy zmiennych i konwersje typów"
  },
  {
   "metadata": {
    "ExecuteTime": {
     "end_time": "2024-10-03T09:47:56.414001Z",
     "start_time": "2024-10-03T09:47:56.281897Z"
    }
   },
   "cell_type": "code",
   "source": "options(jupyter.rich_display = FALSE)",
   "outputs": [],
   "execution_count": 1
  },
  {
   "metadata": {
    "ExecuteTime": {
     "end_time": "2024-10-03T09:47:56.453991Z",
     "start_time": "2024-10-03T09:47:56.430903Z"
    }
   },
   "cell_type": "code",
   "source": [
    "# Utwórz zmienną temp i przypisz jej wartość \"36.6\". Następnie wyświetl jej wartość.\n",
    "temp <- \"36.6\"\n",
    "temp"
   ],
   "outputs": [
    {
     "data": {
      "text/plain": [
       "[1] \"36.6\""
      ]
     },
     "metadata": {},
     "output_type": "display_data"
    }
   ],
   "execution_count": 2
  },
  {
   "metadata": {
    "ExecuteTime": {
     "end_time": "2024-10-03T09:47:56.473978Z",
     "start_time": "2024-10-03T09:47:56.469785Z"
    }
   },
   "cell_type": "code",
   "source": [
    "# Spróbuj dodać do stworzonej zmiennej wartość 0.1. Zwróć uwagę na komunikat.\n",
    "\n",
    "# temp + 0.1"
   ],
   "outputs": [],
   "execution_count": 3
  },
  {
   "cell_type": "code",
   "metadata": {
    "colab": {
     "base_uri": "https://localhost:8080/",
     "height": 34
    },
    "id": "_QeZ6CSFNyH_",
    "outputId": "6681ea8b-c6f3-4c20-c41a-6e8b70ba239c",
    "vscode": {
     "languageId": "r"
    },
    "ExecuteTime": {
     "end_time": "2024-10-03T09:47:56.512967Z",
     "start_time": "2024-10-03T09:47:56.505189Z"
    }
   },
   "source": [
    "# Sprawdź jakiego typu jest zmienna temp.\n",
    "class(temp)"
   ],
   "outputs": [
    {
     "data": {
      "text/plain": [
       "[1] \"character\""
      ]
     },
     "metadata": {},
     "output_type": "display_data"
    }
   ],
   "execution_count": 4
  },
  {
   "cell_type": "code",
   "metadata": {
    "colab": {
     "base_uri": "https://localhost:8080/",
     "height": 34
    },
    "id": "lSxl-e88NlBN",
    "outputId": "f8c4d287-8cbe-4663-bf53-e5864065a3bb",
    "vscode": {
     "languageId": "r"
    },
    "ExecuteTime": {
     "end_time": "2024-10-03T09:47:56.558604Z",
     "start_time": "2024-10-03T09:47:56.552227Z"
    }
   },
   "source": [
    "# Przekonwertuj zmienną na typ numeric, a następnie sprawdź jej wartość. Zwróć uwagę jak zmienił się sposób jej wyświetlania.\n",
    "\n",
    "temp <- as.numeric(temp)\n",
    "temp"
   ],
   "outputs": [
    {
     "data": {
      "text/plain": [
       "[1] 36.6"
      ]
     },
     "metadata": {},
     "output_type": "display_data"
    }
   ],
   "execution_count": 5
  },
  {
   "cell_type": "code",
   "metadata": {
    "colab": {
     "base_uri": "https://localhost:8080/",
     "height": 34
    },
    "id": "Yo4pzlITN6lH",
    "outputId": "4879e8db-9d0f-40c4-f163-33e0ff42679b",
    "vscode": {
     "languageId": "r"
    },
    "ExecuteTime": {
     "end_time": "2024-10-03T09:47:56.611741Z",
     "start_time": "2024-10-03T09:47:56.605106Z"
    }
   },
   "source": [
    "# Przekonwertuj zmienną na typ integer, a następnie sprawdź jej wartość.\n",
    "\n",
    "temp <- as.integer(temp)\n",
    "temp"
   ],
   "outputs": [
    {
     "data": {
      "text/plain": [
       "[1] 36"
      ]
     },
     "metadata": {},
     "output_type": "display_data"
    }
   ],
   "execution_count": 6
  },
  {
   "cell_type": "code",
   "metadata": {
    "colab": {
     "base_uri": "https://localhost:8080/",
     "height": 102
    },
    "id": "B3jgVOwpON6o",
    "outputId": "8cb9ce90-baf5-4a38-fe56-00f74a95964d",
    "vscode": {
     "languageId": "r"
    },
    "ExecuteTime": {
     "end_time": "2024-10-03T09:47:56.674515Z",
     "start_time": "2024-10-03T09:47:56.667445Z"
    }
   },
   "source": [
    "# Sprawdź typy zmiennych dla następujących wartości:\n",
    "\n",
    "class(\"36\")"
   ],
   "outputs": [
    {
     "data": {
      "text/plain": [
       "[1] \"character\""
      ]
     },
     "metadata": {},
     "output_type": "display_data"
    }
   ],
   "execution_count": 7
  },
  {
   "cell_type": "code",
   "metadata": {
    "vscode": {
     "languageId": "r"
    },
    "ExecuteTime": {
     "end_time": "2024-10-03T09:47:56.745919Z",
     "start_time": "2024-10-03T09:47:56.740575Z"
    }
   },
   "source": [
    "class(36)"
   ],
   "outputs": [
    {
     "data": {
      "text/plain": [
       "[1] \"numeric\""
      ]
     },
     "metadata": {},
     "output_type": "display_data"
    }
   ],
   "execution_count": 8
  },
  {
   "cell_type": "code",
   "metadata": {
    "vscode": {
     "languageId": "r"
    },
    "ExecuteTime": {
     "end_time": "2024-10-03T09:47:56.795896Z",
     "start_time": "2024-10-03T09:47:56.790455Z"
    }
   },
   "source": [
    "class(36L)"
   ],
   "outputs": [
    {
     "data": {
      "text/plain": [
       "[1] \"integer\""
      ]
     },
     "metadata": {},
     "output_type": "display_data"
    }
   ],
   "execution_count": 9
  },
  {
   "cell_type": "code",
   "metadata": {
    "vscode": {
     "languageId": "r"
    },
    "ExecuteTime": {
     "end_time": "2024-10-03T09:47:56.847862Z",
     "start_time": "2024-10-03T09:47:56.840548Z"
    }
   },
   "source": [
    "class(36+0i)"
   ],
   "outputs": [
    {
     "data": {
      "text/plain": [
       "[1] \"complex\""
      ]
     },
     "metadata": {},
     "output_type": "display_data"
    }
   ],
   "execution_count": 10
  },
  {
   "cell_type": "code",
   "metadata": {
    "vscode": {
     "languageId": "r"
    },
    "ExecuteTime": {
     "end_time": "2024-10-03T09:47:56.904347Z",
     "start_time": "2024-10-03T09:47:56.894939Z"
    }
   },
   "source": [
    "class(TRUE)"
   ],
   "outputs": [
    {
     "data": {
      "text/plain": [
       "[1] \"logical\""
      ]
     },
     "metadata": {},
     "output_type": "display_data"
    }
   ],
   "execution_count": 11
  },
  {
   "cell_type": "markdown",
   "metadata": {
    "id": "dOh7ZClOOgzt"
   },
   "source": [
    "### Wektory\n",
    "\n",
    "Jedynka w nawiasach kwadratowych przy każdym wyniku bierze się z faktu, że w języku R pojedyncze liczby są wektorami. Oznacza ona indeks w wektorze. Wszystkie elementy wektora muszą być tego samego typu atomowego (np. liczbowe, znakowe, logiczne). Jeżeli warunek ten nie jest spełniony, to system wykona konwersję do wspólnego typu.\n",
    "\n",
    "Ponadto, wykonując operacje na dwóch wektorach o różnych rozmiarach - wektor o mniejszym rozmiarze jest cyklicznie powielany.\n",
    "\n",
    "Wektory można definiować na kilka różnych sposobów, np.:"
   ]
  },
  {
   "cell_type": "code",
   "metadata": {
    "colab": {
     "base_uri": "https://localhost:8080/",
     "height": 102
    },
    "id": "fd57eEjJOjfV",
    "outputId": "960d31fd-287b-42f1-aa20-7e867f2b5d00",
    "vscode": {
     "languageId": "r"
    },
    "ExecuteTime": {
     "end_time": "2024-10-03T09:47:56.956403Z",
     "start_time": "2024-10-03T09:47:56.950661Z"
    }
   },
   "source": [
    "x <- c(2, 5, 8)\n",
    "c(2:4, c(5, 8))"
   ],
   "outputs": [
    {
     "data": {
      "text/plain": [
       "[1] 2 3 4 5 8"
      ]
     },
     "metadata": {},
     "output_type": "display_data"
    }
   ],
   "execution_count": 12
  },
  {
   "cell_type": "code",
   "metadata": {
    "vscode": {
     "languageId": "r"
    },
    "ExecuteTime": {
     "end_time": "2024-10-03T09:47:57.003710Z",
     "start_time": "2024-10-03T09:47:56.997948Z"
    }
   },
   "source": [
    "2:5"
   ],
   "outputs": [
    {
     "data": {
      "text/plain": [
       "[1] 2 3 4 5"
      ]
     },
     "metadata": {},
     "output_type": "display_data"
    }
   ],
   "execution_count": 13
  },
  {
   "cell_type": "code",
   "metadata": {
    "vscode": {
     "languageId": "r"
    },
    "ExecuteTime": {
     "end_time": "2024-10-03T09:47:57.053150Z",
     "start_time": "2024-10-03T09:47:57.045823Z"
    }
   },
   "source": [
    "seq(2, 5, by = 0.75)"
   ],
   "outputs": [
    {
     "data": {
      "text/plain": [
       "[1] 2.00 2.75 3.50 4.25 5.00"
      ]
     },
     "metadata": {},
     "output_type": "display_data"
    }
   ],
   "execution_count": 14
  },
  {
   "cell_type": "code",
   "metadata": {
    "vscode": {
     "languageId": "r"
    },
    "ExecuteTime": {
     "end_time": "2024-10-03T09:47:57.106317Z",
     "start_time": "2024-10-03T09:47:57.101141Z"
    }
   },
   "source": [
    "rep(x, times = 3)"
   ],
   "outputs": [
    {
     "data": {
      "text/plain": [
       "[1] 2 5 8 2 5 8 2 5 8"
      ]
     },
     "metadata": {},
     "output_type": "display_data"
    }
   ],
   "execution_count": 15
  },
  {
   "cell_type": "code",
   "metadata": {
    "vscode": {
     "languageId": "r"
    },
    "ExecuteTime": {
     "end_time": "2024-10-03T09:47:57.153323Z",
     "start_time": "2024-10-03T09:47:57.148Z"
    }
   },
   "source": [
    "rep(x, each = 3)"
   ],
   "outputs": [
    {
     "data": {
      "text/plain": [
       "[1] 2 2 2 5 5 5 8 8 8"
      ]
     },
     "metadata": {},
     "output_type": "display_data"
    }
   ],
   "execution_count": 16
  },
  {
   "cell_type": "code",
   "metadata": {
    "colab": {
     "base_uri": "https://localhost:8080/",
     "height": 34
    },
    "id": "O8Jrefd8O3mF",
    "outputId": "90767551-bafb-439b-e60a-ab563ccb0c8e",
    "vscode": {
     "languageId": "r"
    },
    "ExecuteTime": {
     "end_time": "2024-10-03T09:47:57.212471Z",
     "start_time": "2024-10-03T09:47:57.204781Z"
    }
   },
   "source": [
    "# Stwórz wektor w1 używając sekwencji i wypisz jego wartość.\n",
    "\n",
    "w1 <- 3:0\n",
    "w1"
   ],
   "outputs": [
    {
     "data": {
      "text/plain": [
       "[1] 3 2 1 0"
      ]
     },
     "metadata": {},
     "output_type": "display_data"
    }
   ],
   "execution_count": 17
  },
  {
   "cell_type": "code",
   "metadata": {
    "colab": {
     "base_uri": "https://localhost:8080/",
     "height": 102
    },
    "collapsed": true,
    "id": "7FVZplREPBr7",
    "jupyter": {
     "outputs_hidden": true
    },
    "outputId": "5e3c937a-e579-46a3-cdaa-34d41b2b4656",
    "vscode": {
     "languageId": "r"
    },
    "ExecuteTime": {
     "end_time": "2024-10-03T09:47:57.270725Z",
     "start_time": "2024-10-03T09:47:57.264976Z"
    }
   },
   "source": [
    "# Sprawdź, w jaki sposób wyświetlić wybrane elementy wektora, wpisując poniższe wyrażenia:\n",
    "\n",
    "w1[1]"
   ],
   "outputs": [
    {
     "data": {
      "text/plain": [
       "[1] 3"
      ]
     },
     "metadata": {},
     "output_type": "display_data"
    }
   ],
   "execution_count": 18
  },
  {
   "cell_type": "code",
   "metadata": {
    "vscode": {
     "languageId": "r"
    },
    "ExecuteTime": {
     "end_time": "2024-10-03T09:47:57.324866Z",
     "start_time": "2024-10-03T09:47:57.317276Z"
    }
   },
   "source": [
    "w1[length(w1)]"
   ],
   "outputs": [
    {
     "data": {
      "text/plain": [
       "[1] 0"
      ]
     },
     "metadata": {},
     "output_type": "display_data"
    }
   ],
   "execution_count": 19
  },
  {
   "cell_type": "code",
   "metadata": {
    "vscode": {
     "languageId": "r"
    },
    "ExecuteTime": {
     "end_time": "2024-10-03T09:47:57.377173Z",
     "start_time": "2024-10-03T09:47:57.372056Z"
    }
   },
   "source": [
    "w1[c(T, T, T, F)]"
   ],
   "outputs": [
    {
     "data": {
      "text/plain": [
       "[1] 3 2 1"
      ]
     },
     "metadata": {},
     "output_type": "display_data"
    }
   ],
   "execution_count": 20
  },
  {
   "cell_type": "code",
   "metadata": {
    "vscode": {
     "languageId": "r"
    },
    "ExecuteTime": {
     "end_time": "2024-10-03T09:47:57.425260Z",
     "start_time": "2024-10-03T09:47:57.419970Z"
    }
   },
   "source": [
    "w1[3:1]"
   ],
   "outputs": [
    {
     "data": {
      "text/plain": [
       "[1] 1 2 3"
      ]
     },
     "metadata": {},
     "output_type": "display_data"
    }
   ],
   "execution_count": 21
  },
  {
   "cell_type": "code",
   "metadata": {
    "vscode": {
     "languageId": "r"
    },
    "ExecuteTime": {
     "end_time": "2024-10-03T09:47:57.478128Z",
     "start_time": "2024-10-03T09:47:57.471298Z"
    }
   },
   "source": [
    "w1[-2]"
   ],
   "outputs": [
    {
     "data": {
      "text/plain": [
       "[1] 3 1 0"
      ]
     },
     "metadata": {},
     "output_type": "display_data"
    }
   ],
   "execution_count": 22
  },
  {
   "cell_type": "code",
   "metadata": {
    "vscode": {
     "languageId": "r"
    },
    "ExecuteTime": {
     "end_time": "2024-10-03T09:47:57.531240Z",
     "start_time": "2024-10-03T09:47:57.523674Z"
    }
   },
   "source": [
    "# inny sposib na uzyskanie ostatniego elementu w wektorze\n",
    "tail(w1, n=1)"
   ],
   "outputs": [
    {
     "data": {
      "text/plain": [
       "[1] 0"
      ]
     },
     "metadata": {},
     "output_type": "display_data"
    }
   ],
   "execution_count": 23
  },
  {
   "cell_type": "code",
   "metadata": {
    "colab": {
     "base_uri": "https://localhost:8080/"
    },
    "id": "3BPBMW9OPIKJ",
    "outputId": "99a62b1a-bcfe-4f5e-858c-13017f553b11",
    "vscode": {
     "languageId": "r"
    },
    "ExecuteTime": {
     "end_time": "2024-10-03T09:47:57.575892Z",
     "start_time": "2024-10-03T09:47:57.570146Z"
    }
   },
   "source": [
    "# Stwórz poniższe wektory, używając funkcji c(), a następnie sprawdź ich typ oraz wartość.\n",
    "\n",
    "w2 <- c(0/0, 1/0, 1/Inf, TRUE, as.numeric(\"abc\"))\n",
    "w3 <- as.logical(c(\"T\", \"False\", \"abc\"))"
   ],
   "outputs": [
    {
     "name": "stderr",
     "output_type": "stream",
     "text": [
      "Warning message:\n",
      "“NAs introduced by coercion”\n"
     ]
    }
   ],
   "execution_count": 24
  },
  {
   "cell_type": "code",
   "metadata": {
    "vscode": {
     "languageId": "r"
    },
    "ExecuteTime": {
     "end_time": "2024-10-03T09:47:57.630911Z",
     "start_time": "2024-10-03T09:47:57.623502Z"
    }
   },
   "source": [
    "w2"
   ],
   "outputs": [
    {
     "data": {
      "text/plain": [
       "[1] NaN Inf   0   1  NA"
      ]
     },
     "metadata": {},
     "output_type": "display_data"
    }
   ],
   "execution_count": 25
  },
  {
   "cell_type": "code",
   "metadata": {
    "vscode": {
     "languageId": "r"
    },
    "ExecuteTime": {
     "end_time": "2024-10-03T09:47:57.683048Z",
     "start_time": "2024-10-03T09:47:57.677792Z"
    }
   },
   "source": [
    "w3"
   ],
   "outputs": [
    {
     "data": {
      "text/plain": [
       "[1]  TRUE FALSE    NA"
      ]
     },
     "metadata": {},
     "output_type": "display_data"
    }
   ],
   "execution_count": 26
  },
  {
   "cell_type": "markdown",
   "metadata": {
    "id": "CUqFWTcbPSNg"
   },
   "source": [
    "Zwróć szczególną uwagę na wartości _NA_ oraz _NaN_. Co oznaczają?"
   ]
  },
  {
   "cell_type": "code",
   "metadata": {
    "colab": {
     "base_uri": "https://localhost:8080/",
     "height": 68
    },
    "id": "LDfVi2XSPUdp",
    "outputId": "7874c7dc-27f9-47aa-e8c9-1d88fa043e12",
    "vscode": {
     "languageId": "r"
    },
    "ExecuteTime": {
     "end_time": "2024-10-03T09:47:57.738332Z",
     "start_time": "2024-10-03T09:47:57.732812Z"
    }
   },
   "source": [
    "# Stwórz pusty wektor używając funkcji vector(). Przypisz do niego wartości 1, 2, 3, 4, \"null\", 5, 6, 7, 8, 9.\n",
    "# Jakiego typu są dane znajdujące się w wektorze po przypisaniu wartości?\n",
    "# Przekonwertuj wektor na wektor o wartościach typu numeric, a następnie usuń wartość _NA_ z wektora.\n",
    "w4 <- vector(\"numeric\", length = 9)\n",
    "w4"
   ],
   "outputs": [
    {
     "data": {
      "text/plain": [
       "[1] 0 0 0 0 0 0 0 0 0"
      ]
     },
     "metadata": {},
     "output_type": "display_data"
    }
   ],
   "execution_count": 27
  },
  {
   "cell_type": "code",
   "metadata": {
    "vscode": {
     "languageId": "r"
    },
    "ExecuteTime": {
     "end_time": "2024-10-03T09:47:57.788445Z",
     "start_time": "2024-10-03T09:47:57.780306Z"
    }
   },
   "source": [
    "w4[1:4] <- 1:4\n",
    "w4[5] <- \"null\"\n",
    "w4[6:9] <- 6:9\n",
    "w4"
   ],
   "outputs": [
    {
     "data": {
      "text/plain": [
       "[1] \"1\"    \"2\"    \"3\"    \"4\"    \"null\" \"6\"    \"7\"    \"8\"    \"9\"   "
      ]
     },
     "metadata": {},
     "output_type": "display_data"
    }
   ],
   "execution_count": 28
  },
  {
   "cell_type": "code",
   "metadata": {
    "vscode": {
     "languageId": "r"
    },
    "ExecuteTime": {
     "end_time": "2024-10-03T09:47:57.843615Z",
     "start_time": "2024-10-03T09:47:57.838167Z"
    }
   },
   "source": [
    "class(w4)"
   ],
   "outputs": [
    {
     "data": {
      "text/plain": [
       "[1] \"character\""
      ]
     },
     "metadata": {},
     "output_type": "display_data"
    }
   ],
   "execution_count": 29
  },
  {
   "cell_type": "code",
   "metadata": {
    "vscode": {
     "languageId": "r"
    },
    "ExecuteTime": {
     "end_time": "2024-10-03T09:47:57.892188Z",
     "start_time": "2024-10-03T09:47:57.886055Z"
    }
   },
   "source": [
    "w4 <- as.numeric(w4)\n",
    "w4"
   ],
   "outputs": [
    {
     "name": "stderr",
     "output_type": "stream",
     "text": [
      "Warning message:\n",
      "“NAs introduced by coercion”\n"
     ]
    },
    {
     "data": {
      "text/plain": [
       "[1]  1  2  3  4 NA  6  7  8  9"
      ]
     },
     "metadata": {},
     "output_type": "display_data"
    }
   ],
   "execution_count": 30
  },
  {
   "cell_type": "code",
   "metadata": {
    "vscode": {
     "languageId": "r"
    },
    "ExecuteTime": {
     "end_time": "2024-10-03T09:47:57.962271Z",
     "start_time": "2024-10-03T09:47:57.956825Z"
    }
   },
   "source": [
    "w4 <- w4[!is.na(w4)]\n",
    "w4"
   ],
   "outputs": [
    {
     "data": {
      "text/plain": [
       "[1] 1 2 3 4 6 7 8 9"
      ]
     },
     "metadata": {},
     "output_type": "display_data"
    }
   ],
   "execution_count": 31
  },
  {
   "cell_type": "code",
   "metadata": {
    "colab": {
     "base_uri": "https://localhost:8080/",
     "height": 119
    },
    "id": "tmEWVgqFPgZM",
    "outputId": "2f07b284-0b7b-4219-e50d-7d6b7210c7e7",
    "vscode": {
     "languageId": "r"
    },
    "ExecuteTime": {
     "end_time": "2024-10-03T09:47:58.018270Z",
     "start_time": "2024-10-03T09:47:58.012701Z"
    }
   },
   "source": [
    "# Stwórz wektory w5 oraz w6, a następnie sprawdź wyniki poniższych wyrażeń:\n",
    "\n",
    "w5 <- 1:5\n",
    "w5"
   ],
   "outputs": [
    {
     "data": {
      "text/plain": [
       "[1] 1 2 3 4 5"
      ]
     },
     "metadata": {},
     "output_type": "display_data"
    }
   ],
   "execution_count": 32
  },
  {
   "cell_type": "code",
   "metadata": {
    "vscode": {
     "languageId": "r"
    },
    "ExecuteTime": {
     "end_time": "2024-10-03T09:47:58.061913Z",
     "start_time": "2024-10-03T09:47:58.056437Z"
    }
   },
   "source": [
    "w6 <- 6:10\n",
    "w6"
   ],
   "outputs": [
    {
     "data": {
      "text/plain": [
       "[1]  6  7  8  9 10"
      ]
     },
     "metadata": {},
     "output_type": "display_data"
    }
   ],
   "execution_count": 33
  },
  {
   "cell_type": "code",
   "metadata": {
    "vscode": {
     "languageId": "r"
    },
    "ExecuteTime": {
     "end_time": "2024-10-03T09:47:58.108751Z",
     "start_time": "2024-10-03T09:47:58.099944Z"
    }
   },
   "source": [
    "w5 + w6"
   ],
   "outputs": [
    {
     "data": {
      "text/plain": [
       "[1]  7  9 11 13 15"
      ]
     },
     "metadata": {},
     "output_type": "display_data"
    }
   ],
   "execution_count": 34
  },
  {
   "cell_type": "code",
   "metadata": {
    "vscode": {
     "languageId": "r"
    },
    "ExecuteTime": {
     "end_time": "2024-10-03T09:47:58.155663Z",
     "start_time": "2024-10-03T09:47:58.150496Z"
    }
   },
   "source": [
    "w5 - w6"
   ],
   "outputs": [
    {
     "data": {
      "text/plain": [
       "[1] -5 -5 -5 -5 -5"
      ]
     },
     "metadata": {},
     "output_type": "display_data"
    }
   ],
   "execution_count": 35
  },
  {
   "cell_type": "code",
   "metadata": {
    "vscode": {
     "languageId": "r"
    },
    "ExecuteTime": {
     "end_time": "2024-10-03T09:47:58.199729Z",
     "start_time": "2024-10-03T09:47:58.194029Z"
    }
   },
   "source": [
    "w5 * w6"
   ],
   "outputs": [
    {
     "data": {
      "text/plain": [
       "[1]  6 14 24 36 50"
      ]
     },
     "metadata": {},
     "output_type": "display_data"
    }
   ],
   "execution_count": 36
  },
  {
   "cell_type": "code",
   "metadata": {
    "vscode": {
     "languageId": "r"
    },
    "ExecuteTime": {
     "end_time": "2024-10-03T09:47:58.245233Z",
     "start_time": "2024-10-03T09:47:58.238271Z"
    }
   },
   "source": [
    "w5 / w6"
   ],
   "outputs": [
    {
     "data": {
      "text/plain": [
       "[1] 0.1666667 0.2857143 0.3750000 0.4444444 0.5000000"
      ]
     },
     "metadata": {},
     "output_type": "display_data"
    }
   ],
   "execution_count": 37
  },
  {
   "cell_type": "code",
   "metadata": {
    "vscode": {
     "languageId": "r"
    },
    "ExecuteTime": {
     "end_time": "2024-10-03T09:47:58.301196Z",
     "start_time": "2024-10-03T09:47:58.296129Z"
    }
   },
   "source": [
    "w5 == w6"
   ],
   "outputs": [
    {
     "data": {
      "text/plain": [
       "[1] FALSE FALSE FALSE FALSE FALSE"
      ]
     },
     "metadata": {},
     "output_type": "display_data"
    }
   ],
   "execution_count": 38
  },
  {
   "cell_type": "code",
   "metadata": {
    "vscode": {
     "languageId": "r"
    },
    "ExecuteTime": {
     "end_time": "2024-10-03T09:47:58.348093Z",
     "start_time": "2024-10-03T09:47:58.342978Z"
    }
   },
   "source": [
    "w5 >= 3"
   ],
   "outputs": [
    {
     "data": {
      "text/plain": [
       "[1] FALSE FALSE  TRUE  TRUE  TRUE"
      ]
     },
     "metadata": {},
     "output_type": "display_data"
    }
   ],
   "execution_count": 39
  },
  {
   "cell_type": "markdown",
   "metadata": {
    "id": "J7PeTG4iRJlD"
   },
   "source": [
    "### Macierze\n",
    "\n",
    "Macierz jest obiektem dwuwymiarowym oraz, podobnie jak wektor, jest homogeniczna. Najprostszym sposobem utworzenia macierzy, jest użycie funkcji `matrix()`."
   ]
  },
  {
   "cell_type": "code",
   "metadata": {
    "id": "aRYsM-b_RqEe",
    "vscode": {
     "languageId": "r"
    },
    "ExecuteTime": {
     "end_time": "2024-10-03T09:47:58.381335Z",
     "start_time": "2024-10-03T09:47:58.376898Z"
    }
   },
   "source": [
    "macierz1 <- matrix(1:12, 3, 4)"
   ],
   "outputs": [],
   "execution_count": 40
  },
  {
   "cell_type": "code",
   "metadata": {
    "colab": {
     "base_uri": "https://localhost:8080/",
     "height": 294
    },
    "id": "CtuOR7ZVRZVM",
    "outputId": "2fa51cd2-0cdb-45ca-af15-c35a40e6cf0a",
    "vscode": {
     "languageId": "r"
    },
    "ExecuteTime": {
     "end_time": "2024-10-03T09:47:58.422866Z",
     "start_time": "2024-10-03T09:47:58.415970Z"
    }
   },
   "source": [
    "# Wyświetl macierz macierz1, a następnie wyświetl element znajdujący się na pozycji 1, 2.\n",
    "# Czy pierwsza wartość określa wiersz, czy kolumnę? Jak wpływa na wynik parametr drop = FALSE?\n",
    "\n",
    "macierz1"
   ],
   "outputs": [
    {
     "data": {
      "text/plain": [
       "     [,1] [,2] [,3] [,4]\n",
       "[1,] 1    4    7    10  \n",
       "[2,] 2    5    8    11  \n",
       "[3,] 3    6    9    12  "
      ]
     },
     "metadata": {},
     "output_type": "display_data"
    }
   ],
   "execution_count": 41
  },
  {
   "cell_type": "code",
   "metadata": {
    "vscode": {
     "languageId": "r"
    },
    "ExecuteTime": {
     "end_time": "2024-10-03T09:47:58.464761Z",
     "start_time": "2024-10-03T09:47:58.459028Z"
    }
   },
   "source": [
    "macierz1[1, 2]"
   ],
   "outputs": [
    {
     "data": {
      "text/plain": [
       "[1] 4"
      ]
     },
     "metadata": {},
     "output_type": "display_data"
    }
   ],
   "execution_count": 42
  },
  {
   "cell_type": "code",
   "metadata": {
    "vscode": {
     "languageId": "r"
    },
    "ExecuteTime": {
     "end_time": "2024-10-03T09:47:58.508404Z",
     "start_time": "2024-10-03T09:47:58.503110Z"
    }
   },
   "source": [
    "macierz1[1, 2, drop=FALSE]"
   ],
   "outputs": [
    {
     "data": {
      "text/plain": [
       "     [,1]\n",
       "[1,] 4   "
      ]
     },
     "metadata": {},
     "output_type": "display_data"
    }
   ],
   "execution_count": 43
  },
  {
   "cell_type": "code",
   "metadata": {
    "colab": {
     "base_uri": "https://localhost:8080/",
     "height": 113
    },
    "id": "54Eg68EaRyH3",
    "outputId": "dc2d3e63-5fe8-4b62-a55a-14a847a8278a",
    "vscode": {
     "languageId": "r"
    },
    "ExecuteTime": {
     "end_time": "2024-10-03T09:47:58.551479Z",
     "start_time": "2024-10-03T09:47:58.544841Z"
    }
   },
   "source": [
    "# Wyświetl 2 i 3 wiersz macierzy.\n",
    "macierz1[2:3,]"
   ],
   "outputs": [
    {
     "data": {
      "text/plain": [
       "     [,1] [,2] [,3] [,4]\n",
       "[1,] 2    5    8    11  \n",
       "[2,] 3    6    9    12  "
      ]
     },
     "metadata": {},
     "output_type": "display_data"
    }
   ],
   "execution_count": 44
  },
  {
   "cell_type": "code",
   "metadata": {
    "colab": {
     "base_uri": "https://localhost:8080/",
     "height": 350
    },
    "id": "3A41qm7mR2GB",
    "outputId": "a8685947-9fa1-4a30-edd5-e513b8412764",
    "vscode": {
     "languageId": "r"
    },
    "ExecuteTime": {
     "end_time": "2024-10-03T09:47:58.599515Z",
     "start_time": "2024-10-03T09:47:58.593955Z"
    }
   },
   "source": [
    "# Wywołaj poniższy kod. Do czego służą funkcje diag() oraz solve()?\n",
    "diag(macierz1)"
   ],
   "outputs": [
    {
     "data": {
      "text/plain": [
       "[1] 1 5 9"
      ]
     },
     "metadata": {},
     "output_type": "display_data"
    }
   ],
   "execution_count": 45
  },
  {
   "cell_type": "code",
   "metadata": {
    "vscode": {
     "languageId": "r"
    },
    "ExecuteTime": {
     "end_time": "2024-10-03T09:47:58.643404Z",
     "start_time": "2024-10-03T09:47:58.635699Z"
    }
   },
   "source": [
    "diag(5)"
   ],
   "outputs": [
    {
     "data": {
      "text/plain": [
       "     [,1] [,2] [,3] [,4] [,5]\n",
       "[1,] 1    0    0    0    0   \n",
       "[2,] 0    1    0    0    0   \n",
       "[3,] 0    0    1    0    0   \n",
       "[4,] 0    0    0    1    0   \n",
       "[5,] 0    0    0    0    1   "
      ]
     },
     "metadata": {},
     "output_type": "display_data"
    }
   ],
   "execution_count": 46
  },
  {
   "cell_type": "code",
   "metadata": {
    "vscode": {
     "languageId": "r"
    },
    "ExecuteTime": {
     "end_time": "2024-10-03T09:47:58.686501Z",
     "start_time": "2024-10-03T09:47:58.678756Z"
    }
   },
   "source": [
    "macierz2 <- diag(1:3)\n",
    "macierz2"
   ],
   "outputs": [
    {
     "data": {
      "text/plain": [
       "     [,1] [,2] [,3]\n",
       "[1,] 1    0    0   \n",
       "[2,] 0    2    0   \n",
       "[3,] 0    0    3   "
      ]
     },
     "metadata": {},
     "output_type": "display_data"
    }
   ],
   "execution_count": 47
  },
  {
   "cell_type": "code",
   "metadata": {
    "vscode": {
     "languageId": "r"
    },
    "ExecuteTime": {
     "end_time": "2024-10-03T09:47:58.742491Z",
     "start_time": "2024-10-03T09:47:58.736229Z"
    }
   },
   "source": [
    "solve(macierz2)"
   ],
   "outputs": [
    {
     "data": {
      "text/plain": [
       "     [,1] [,2] [,3]     \n",
       "[1,] 1    0.0  0.0000000\n",
       "[2,] 0    0.5  0.0000000\n",
       "[3,] 0    0.0  0.3333333"
      ]
     },
     "metadata": {},
     "output_type": "display_data"
    }
   ],
   "execution_count": 48
  },
  {
   "cell_type": "code",
   "metadata": {
    "id": "xAT0EOcLR_pe",
    "vscode": {
     "languageId": "r"
    },
    "ExecuteTime": {
     "end_time": "2024-10-03T09:47:58.787069Z",
     "start_time": "2024-10-03T09:47:58.780720Z"
    }
   },
   "source": [
    "# Stwórz 12 elementowy wektor, a następnie wykorzystaj go do stworzenia macierzy o 3 wierszach i 4 kolumnach.\n",
    "# Zwróć uwagę, w jaki sposób zostały wpisane wartości do macierzy. Sprawdź atrybuty macierzy macierz3.\n",
    "# Porównaj wynik z macierzą macierz1.\n",
    "macierz3 <- 1:12\n",
    "macierz3"
   ],
   "outputs": [
    {
     "data": {
      "text/plain": [
       " [1]  1  2  3  4  5  6  7  8  9 10 11 12"
      ]
     },
     "metadata": {},
     "output_type": "display_data"
    }
   ],
   "execution_count": 49
  },
  {
   "cell_type": "code",
   "metadata": {
    "vscode": {
     "languageId": "r"
    },
    "ExecuteTime": {
     "end_time": "2024-10-03T09:47:58.839581Z",
     "start_time": "2024-10-03T09:47:58.832155Z"
    }
   },
   "source": [
    "dim(macierz3) <- c(3, 4)\n",
    "macierz3"
   ],
   "outputs": [
    {
     "data": {
      "text/plain": [
       "     [,1] [,2] [,3] [,4]\n",
       "[1,] 1    4    7    10  \n",
       "[2,] 2    5    8    11  \n",
       "[3,] 3    6    9    12  "
      ]
     },
     "metadata": {},
     "output_type": "display_data"
    }
   ],
   "execution_count": 50
  },
  {
   "cell_type": "code",
   "metadata": {
    "vscode": {
     "languageId": "r"
    },
    "ExecuteTime": {
     "end_time": "2024-10-03T09:47:58.891149Z",
     "start_time": "2024-10-03T09:47:58.885831Z"
    }
   },
   "source": [
    "attributes(macierz3)"
   ],
   "outputs": [
    {
     "data": {
      "text/plain": [
       "$dim\n",
       "[1] 3 4\n"
      ]
     },
     "metadata": {},
     "output_type": "display_data"
    }
   ],
   "execution_count": 51
  },
  {
   "cell_type": "code",
   "metadata": {
    "vscode": {
     "languageId": "r"
    },
    "ExecuteTime": {
     "end_time": "2024-10-03T09:47:58.939435Z",
     "start_time": "2024-10-03T09:47:58.931587Z"
    }
   },
   "source": [
    "macierz1\n",
    "macierz3"
   ],
   "outputs": [
    {
     "data": {
      "text/plain": [
       "     [,1] [,2] [,3] [,4]\n",
       "[1,] 1    4    7    10  \n",
       "[2,] 2    5    8    11  \n",
       "[3,] 3    6    9    12  "
      ]
     },
     "metadata": {},
     "output_type": "display_data"
    },
    {
     "data": {
      "text/plain": [
       "     [,1] [,2] [,3] [,4]\n",
       "[1,] 1    4    7    10  \n",
       "[2,] 2    5    8    11  \n",
       "[3,] 3    6    9    12  "
      ]
     },
     "metadata": {},
     "output_type": "display_data"
    }
   ],
   "execution_count": 52
  },
  {
   "cell_type": "code",
   "metadata": {
    "vscode": {
     "languageId": "r"
    },
    "ExecuteTime": {
     "end_time": "2024-10-03T09:47:59.008424Z",
     "start_time": "2024-10-03T09:47:59.001498Z"
    }
   },
   "source": [
    "macierz1 == macierz3"
   ],
   "outputs": [
    {
     "data": {
      "text/plain": [
       "     [,1] [,2] [,3] [,4]\n",
       "[1,] TRUE TRUE TRUE TRUE\n",
       "[2,] TRUE TRUE TRUE TRUE\n",
       "[3,] TRUE TRUE TRUE TRUE"
      ]
     },
     "metadata": {},
     "output_type": "display_data"
    }
   ],
   "execution_count": 53
  },
  {
   "cell_type": "code",
   "metadata": {
    "vscode": {
     "languageId": "r"
    },
    "ExecuteTime": {
     "end_time": "2024-10-03T09:47:59.066267Z",
     "start_time": "2024-10-03T09:47:59.060512Z"
    }
   },
   "source": [
    "all(macierz1 == macierz3)"
   ],
   "outputs": [
    {
     "data": {
      "text/plain": [
       "[1] TRUE"
      ]
     },
     "metadata": {},
     "output_type": "display_data"
    }
   ],
   "execution_count": 54
  },
  {
   "cell_type": "code",
   "metadata": {
    "id": "cBcTRQi4SKI0",
    "vscode": {
     "languageId": "r"
    },
    "ExecuteTime": {
     "end_time": "2024-10-03T09:47:59.108408Z",
     "start_time": "2024-10-03T09:47:59.102466Z"
    }
   },
   "source": [
    "# Utwórz nową macierz, ustawiając argument byrow=TRUE. Porównaj ją z macierz1.\n",
    "macierz4 <- matrix(1:12, 3, 4, byrow = TRUE)\n",
    "macierz4"
   ],
   "outputs": [
    {
     "data": {
      "text/plain": [
       "     [,1] [,2] [,3] [,4]\n",
       "[1,] 1     2    3    4  \n",
       "[2,] 5     6    7    8  \n",
       "[3,] 9    10   11   12  "
      ]
     },
     "metadata": {},
     "output_type": "display_data"
    }
   ],
   "execution_count": 55
  },
  {
   "cell_type": "code",
   "metadata": {
    "id": "imrkOo8nSSDT",
    "vscode": {
     "languageId": "r"
    },
    "ExecuteTime": {
     "end_time": "2024-10-03T09:47:59.151510Z",
     "start_time": "2024-10-03T09:47:59.143857Z"
    }
   },
   "source": [
    "# Utwórz nowe dwie macierze z macierz1 i macierz4, stosując kolejno funkcje cbind() oraz rbind().\n",
    "# Zwróć uwagę na różnice w działaniu obu funkcji\n",
    "\n",
    "macierz5 <- cbind(macierz1, macierz4)\n",
    "macierz5"
   ],
   "outputs": [
    {
     "data": {
      "text/plain": [
       "     [,1] [,2] [,3] [,4] [,5] [,6] [,7] [,8]\n",
       "[1,] 1    4    7    10   1     2    3    4  \n",
       "[2,] 2    5    8    11   5     6    7    8  \n",
       "[3,] 3    6    9    12   9    10   11   12  "
      ]
     },
     "metadata": {},
     "output_type": "display_data"
    }
   ],
   "execution_count": 56
  },
  {
   "cell_type": "code",
   "metadata": {
    "vscode": {
     "languageId": "r"
    },
    "ExecuteTime": {
     "end_time": "2024-10-03T09:47:59.201598Z",
     "start_time": "2024-10-03T09:47:59.192872Z"
    }
   },
   "source": [
    "macierz6 <- rbind(macierz1, macierz4)\n",
    "macierz6"
   ],
   "outputs": [
    {
     "data": {
      "text/plain": [
       "     [,1] [,2] [,3] [,4]\n",
       "[1,] 1     4    7   10  \n",
       "[2,] 2     5    8   11  \n",
       "[3,] 3     6    9   12  \n",
       "[4,] 1     2    3    4  \n",
       "[5,] 5     6    7    8  \n",
       "[6,] 9    10   11   12  "
      ]
     },
     "metadata": {},
     "output_type": "display_data"
    }
   ],
   "execution_count": 57
  },
  {
   "cell_type": "markdown",
   "metadata": {
    "id": "qlqg6rm9Sdu7"
   },
   "source": [
    "### Listy\n",
    "\n",
    "W odróżnieniu od wektorów i macierzy, listy mogą przechowywać obiekty różnego typu, w określonej kolejności."
   ]
  },
  {
   "cell_type": "code",
   "metadata": {
    "id": "OXvzDqljSco5",
    "vscode": {
     "languageId": "r"
    },
    "ExecuteTime": {
     "end_time": "2024-10-03T09:47:59.242974Z",
     "start_time": "2024-10-03T09:47:59.236955Z"
    }
   },
   "source": [
    "# Stwórz listę używając funkcji list(). Sprawdź typ zmiennej oraz poszczególnych elementów.\n",
    "\n",
    "lista1 <- list(lp = 1L, imie = \"Jan\", nazwisko = \"Kowalski\", oceny = c(4.0, 3.5, 5.0))\n",
    "lista1"
   ],
   "outputs": [
    {
     "data": {
      "text/plain": [
       "$lp\n",
       "[1] 1\n",
       "\n",
       "$imie\n",
       "[1] \"Jan\"\n",
       "\n",
       "$nazwisko\n",
       "[1] \"Kowalski\"\n",
       "\n",
       "$oceny\n",
       "[1] 4.0 3.5 5.0\n"
      ]
     },
     "metadata": {},
     "output_type": "display_data"
    }
   ],
   "execution_count": 58
  },
  {
   "cell_type": "code",
   "metadata": {
    "id": "sOUlWFdlSndV",
    "vscode": {
     "languageId": "r"
    },
    "ExecuteTime": {
     "end_time": "2024-10-03T09:47:59.288374Z",
     "start_time": "2024-10-03T09:47:59.280904Z"
    }
   },
   "source": [
    "# Sprawdź różne sposoby dostępu do elementow listy i możliwości jej modyfikacji.\n",
    "# Zwróć uwagę na różnicę w stosowaniu pojedynczych lub podwójnych nawiasów.\n",
    "\n",
    "lista1$imie"
   ],
   "outputs": [
    {
     "data": {
      "text/plain": [
       "[1] \"Jan\""
      ]
     },
     "metadata": {},
     "output_type": "display_data"
    }
   ],
   "execution_count": 59
  },
  {
   "cell_type": "code",
   "metadata": {
    "vscode": {
     "languageId": "r"
    },
    "ExecuteTime": {
     "end_time": "2024-10-03T09:47:59.336030Z",
     "start_time": "2024-10-03T09:47:59.329843Z"
    }
   },
   "source": [
    "lista1[[2]]"
   ],
   "outputs": [
    {
     "data": {
      "text/plain": [
       "[1] \"Jan\""
      ]
     },
     "metadata": {},
     "output_type": "display_data"
    }
   ],
   "execution_count": 60
  },
  {
   "cell_type": "code",
   "metadata": {
    "vscode": {
     "languageId": "r"
    },
    "ExecuteTime": {
     "end_time": "2024-10-03T09:47:59.386341Z",
     "start_time": "2024-10-03T09:47:59.381098Z"
    }
   },
   "source": [
    "lista1[2]"
   ],
   "outputs": [
    {
     "data": {
      "text/plain": [
       "$imie\n",
       "[1] \"Jan\"\n"
      ]
     },
     "metadata": {},
     "output_type": "display_data"
    }
   ],
   "execution_count": 61
  },
  {
   "cell_type": "code",
   "metadata": {
    "vscode": {
     "languageId": "r"
    },
    "ExecuteTime": {
     "end_time": "2024-10-03T09:47:59.432519Z",
     "start_time": "2024-10-03T09:47:59.424897Z"
    }
   },
   "source": [
    "lista1$przedmiot <- \"WAD\"\n",
    "lapply(lista1, toupper)"
   ],
   "outputs": [
    {
     "data": {
      "text/plain": [
       "$lp\n",
       "[1] \"1\"\n",
       "\n",
       "$imie\n",
       "[1] \"JAN\"\n",
       "\n",
       "$nazwisko\n",
       "[1] \"KOWALSKI\"\n",
       "\n",
       "$oceny\n",
       "[1] \"4\"   \"3.5\" \"5\"  \n",
       "\n",
       "$przedmiot\n",
       "[1] \"WAD\"\n"
      ]
     },
     "metadata": {},
     "output_type": "display_data"
    }
   ],
   "execution_count": 62
  },
  {
   "cell_type": "markdown",
   "metadata": {
    "id": "ZBUTN5DmSvr7"
   },
   "source": [
    "### Ramki danych\n",
    "Ramki danych stanowią struktury danych przypominające tabele z relacyjnych baz danych. Są one szczególnym typem listy. Reprezentują macierze o różnych typach kolumn. W odniesieniu do ramek danych można używać funkcji odnoszących się do list i do macierzy.\n",
    "\n",
    "Do tworzenia prostej ramki danych można użyć funkcji `data.frame()`."
   ]
  },
  {
   "cell_type": "code",
   "metadata": {
    "id": "Ri5EM27uS0ok",
    "vscode": {
     "languageId": "r"
    },
    "ExecuteTime": {
     "end_time": "2024-10-03T09:47:59.483860Z",
     "start_time": "2024-10-03T09:47:59.476794Z"
    }
   },
   "source": [
    "# Stwórz ramkę danych, a następnie sprawdź jej atrybuty oraz liczbę wierszy i kolumn.\n",
    "\n",
    "dane <- data.frame(rok = c(2020, 2020, 2021, NA, 2022),\n",
    "                   pora.roku = c(\"lato\", \"jesien\", \"lato\", \"jesien\", \"wiosna\"),\n",
    "                   maks.temp = c(32, 21, 33, 15, 22))\n",
    "dane"
   ],
   "outputs": [
    {
     "data": {
      "text/plain": [
       "  rok  pora.roku maks.temp\n",
       "1 2020 lato      32       \n",
       "2 2020 jesien    21       \n",
       "3 2021 lato      33       \n",
       "4   NA jesien    15       \n",
       "5 2022 wiosna    22       "
      ]
     },
     "metadata": {},
     "output_type": "display_data"
    }
   ],
   "execution_count": 63
  },
  {
   "cell_type": "code",
   "metadata": {
    "vscode": {
     "languageId": "r"
    },
    "ExecuteTime": {
     "end_time": "2024-10-03T09:47:59.523354Z",
     "start_time": "2024-10-03T09:47:59.518090Z"
    }
   },
   "source": [
    "attributes(dane)"
   ],
   "outputs": [
    {
     "data": {
      "text/plain": [
       "$names\n",
       "[1] \"rok\"       \"pora.roku\" \"maks.temp\"\n",
       "\n",
       "$class\n",
       "[1] \"data.frame\"\n",
       "\n",
       "$row.names\n",
       "[1] 1 2 3 4 5\n"
      ]
     },
     "metadata": {},
     "output_type": "display_data"
    }
   ],
   "execution_count": 64
  },
  {
   "cell_type": "code",
   "metadata": {
    "vscode": {
     "languageId": "r"
    },
    "ExecuteTime": {
     "end_time": "2024-10-03T09:47:59.566116Z",
     "start_time": "2024-10-03T09:47:59.559164Z"
    }
   },
   "source": [
    "nrow(dane)"
   ],
   "outputs": [
    {
     "data": {
      "text/plain": [
       "[1] 5"
      ]
     },
     "metadata": {},
     "output_type": "display_data"
    }
   ],
   "execution_count": 65
  },
  {
   "cell_type": "code",
   "metadata": {
    "vscode": {
     "languageId": "r"
    },
    "ExecuteTime": {
     "end_time": "2024-10-03T09:47:59.614804Z",
     "start_time": "2024-10-03T09:47:59.608752Z"
    }
   },
   "source": [
    "ncol(dane)"
   ],
   "outputs": [
    {
     "data": {
      "text/plain": [
       "[1] 3"
      ]
     },
     "metadata": {},
     "output_type": "display_data"
    }
   ],
   "execution_count": 66
  },
  {
   "cell_type": "code",
   "metadata": {
    "id": "VG--2T1PS4z_",
    "vscode": {
     "languageId": "r"
    },
    "ExecuteTime": {
     "end_time": "2024-10-03T09:47:59.655117Z",
     "start_time": "2024-10-03T09:47:59.648786Z"
    }
   },
   "source": [
    "# Usuń wszystkie wiersze, w których występuje NA.\n",
    "\n",
    "pelne <- complete.cases(dane)\n",
    "dane <- dane[pelne,]\n",
    "dane"
   ],
   "outputs": [
    {
     "data": {
      "text/plain": [
       "  rok  pora.roku maks.temp\n",
       "1 2020 lato      32       \n",
       "2 2020 jesien    21       \n",
       "3 2021 lato      33       \n",
       "5 2022 wiosna    22       "
      ]
     },
     "metadata": {},
     "output_type": "display_data"
    }
   ],
   "execution_count": 67
  },
  {
   "cell_type": "code",
   "metadata": {
    "id": "nNEtdtzoS_O6",
    "vscode": {
     "languageId": "r"
    },
    "ExecuteTime": {
     "end_time": "2024-10-03T09:47:59.698879Z",
     "start_time": "2024-10-03T09:47:59.688771Z"
    }
   },
   "source": [
    "# Przekonwertuj ramkę danych na macierz.\n",
    "class(dane)"
   ],
   "outputs": [
    {
     "data": {
      "text/plain": [
       "[1] \"data.frame\""
      ]
     },
     "metadata": {},
     "output_type": "display_data"
    }
   ],
   "execution_count": 68
  },
  {
   "cell_type": "code",
   "metadata": {
    "vscode": {
     "languageId": "r"
    },
    "ExecuteTime": {
     "end_time": "2024-10-03T09:47:59.743199Z",
     "start_time": "2024-10-03T09:47:59.737415Z"
    }
   },
   "source": [
    "m <- data.matrix(dane)\n",
    "m"
   ],
   "outputs": [
    {
     "data": {
      "text/plain": [
       "  rok  pora.roku maks.temp\n",
       "1 2020 2         32       \n",
       "2 2020 1         21       \n",
       "3 2021 2         33       \n",
       "5 2022 3         22       "
      ]
     },
     "metadata": {},
     "output_type": "display_data"
    }
   ],
   "execution_count": 69
  },
  {
   "cell_type": "code",
   "metadata": {
    "vscode": {
     "languageId": "r"
    },
    "ExecuteTime": {
     "end_time": "2024-10-03T09:47:59.783687Z",
     "start_time": "2024-10-03T09:47:59.778079Z"
    }
   },
   "source": [
    "class(m)"
   ],
   "outputs": [
    {
     "data": {
      "text/plain": [
       "[1] \"matrix\" \"array\" "
      ]
     },
     "metadata": {},
     "output_type": "display_data"
    }
   ],
   "execution_count": 70
  },
  {
   "cell_type": "code",
   "metadata": {
    "id": "KqIQ33JXTBRs",
    "vscode": {
     "languageId": "r"
    },
    "ExecuteTime": {
     "end_time": "2024-10-03T09:47:59.824760Z",
     "start_time": "2024-10-03T09:47:59.817526Z"
    }
   },
   "source": [
    "# Przeanalizuj działanie następujących poleceń:\n",
    "\n",
    "dane[dane$maks.temp > 30,]"
   ],
   "outputs": [
    {
     "data": {
      "text/plain": [
       "  rok  pora.roku maks.temp\n",
       "1 2020 lato      32       \n",
       "3 2021 lato      33       "
      ]
     },
     "metadata": {},
     "output_type": "display_data"
    }
   ],
   "execution_count": 71
  },
  {
   "cell_type": "code",
   "metadata": {
    "vscode": {
     "languageId": "r"
    },
    "ExecuteTime": {
     "end_time": "2024-10-03T09:47:59.872031Z",
     "start_time": "2024-10-03T09:47:59.864670Z"
    }
   },
   "source": [
    "attach(dane)\n",
    "maks.temp"
   ],
   "outputs": [
    {
     "data": {
      "text/plain": [
       "[1] 32 21 33 22"
      ]
     },
     "metadata": {},
     "output_type": "display_data"
    }
   ],
   "execution_count": 72
  },
  {
   "cell_type": "code",
   "metadata": {
    "vscode": {
     "languageId": "r"
    },
    "ExecuteTime": {
     "end_time": "2024-10-03T09:47:59.917084Z",
     "start_time": "2024-10-03T09:47:59.911426Z"
    }
   },
   "source": [
    "dane[pora.roku != \"lato\" & maks.temp > 20,]"
   ],
   "outputs": [
    {
     "data": {
      "text/plain": [
       "  rok  pora.roku maks.temp\n",
       "2 2020 jesien    21       \n",
       "5 2022 wiosna    22       "
      ]
     },
     "metadata": {},
     "output_type": "display_data"
    }
   ],
   "execution_count": 73
  },
  {
   "cell_type": "code",
   "metadata": {
    "vscode": {
     "languageId": "r"
    },
    "ExecuteTime": {
     "end_time": "2024-10-03T09:47:59.959098Z",
     "start_time": "2024-10-03T09:47:59.951834Z"
    }
   },
   "source": [
    "subset(dane, rok == 2020)"
   ],
   "outputs": [
    {
     "data": {
      "text/plain": [
       "  rok  pora.roku maks.temp\n",
       "1 2020 lato      32       \n",
       "2 2020 jesien    21       "
      ]
     },
     "metadata": {},
     "output_type": "display_data"
    }
   ],
   "execution_count": 74
  },
  {
   "cell_type": "code",
   "metadata": {
    "vscode": {
     "languageId": "r"
    },
    "ExecuteTime": {
     "end_time": "2024-10-03T09:48:00.008918Z",
     "start_time": "2024-10-03T09:48:00.001615Z"
    }
   },
   "source": [
    "dane$min.temp <- c(18, 7, 16, -1)\n",
    "dane"
   ],
   "outputs": [
    {
     "data": {
      "text/plain": [
       "  rok  pora.roku maks.temp min.temp\n",
       "1 2020 lato      32        18      \n",
       "2 2020 jesien    21         7      \n",
       "3 2021 lato      33        16      \n",
       "5 2022 wiosna    22        -1      "
      ]
     },
     "metadata": {},
     "output_type": "display_data"
    }
   ],
   "execution_count": 75
  },
  {
   "cell_type": "code",
   "metadata": {
    "vscode": {
     "languageId": "r"
    },
    "ExecuteTime": {
     "end_time": "2024-10-03T09:48:00.057318Z",
     "start_time": "2024-10-03T09:48:00.039870Z"
    }
   },
   "source": [
    "data()"
   ],
   "outputs": [],
   "execution_count": 76
  },
  {
   "cell_type": "code",
   "metadata": {
    "vscode": {
     "languageId": "r"
    },
    "ExecuteTime": {
     "end_time": "2024-10-03T09:48:00.128494Z",
     "start_time": "2024-10-03T09:48:00.075814Z"
    }
   },
   "source": [
    "data(\"iris\")\n",
    "head(iris, 5)"
   ],
   "outputs": [
    {
     "data": {
      "text/plain": [
       "  Sepal.Length Sepal.Width Petal.Length Petal.Width Species\n",
       "1 5.1          3.5         1.4          0.2         setosa \n",
       "2 4.9          3.0         1.4          0.2         setosa \n",
       "3 4.7          3.2         1.3          0.2         setosa \n",
       "4 4.6          3.1         1.5          0.2         setosa \n",
       "5 5.0          3.6         1.4          0.2         setosa "
      ]
     },
     "metadata": {},
     "output_type": "display_data"
    }
   ],
   "execution_count": 77
  },
  {
   "cell_type": "markdown",
   "metadata": {
    "id": "_EQ-j0UnTHrA"
   },
   "source": [
    "### Instrukcje sterujące"
   ]
  },
  {
   "cell_type": "code",
   "metadata": {
    "id": "tQJCskdxTKYe",
    "vscode": {
     "languageId": "r"
    },
    "ExecuteTime": {
     "end_time": "2024-10-03T09:48:00.158952Z",
     "start_time": "2024-10-03T09:48:00.150957Z"
    }
   },
   "source": [
    "# Przeanalizuj działanie poniższych pętli `for`. W tym celu wykorzystamy wektor z nazwami miesięcy,\n",
    "# dostępny w podstawowych pakietach R.\n",
    "\n",
    "for (i in month.name) {\n",
    "  print(i)\n",
    "}\n"
   ],
   "outputs": [
    {
     "name": "stdout",
     "output_type": "stream",
     "text": [
      "[1] \"January\"\n",
      "[1] \"February\"\n",
      "[1] \"March\"\n",
      "[1] \"April\"\n",
      "[1] \"May\"\n",
      "[1] \"June\"\n",
      "[1] \"July\"\n",
      "[1] \"August\"\n",
      "[1] \"September\"\n",
      "[1] \"October\"\n",
      "[1] \"November\"\n",
      "[1] \"December\"\n"
     ]
    }
   ],
   "execution_count": 78
  },
  {
   "cell_type": "code",
   "metadata": {
    "vscode": {
     "languageId": "r"
    },
    "ExecuteTime": {
     "end_time": "2024-10-03T09:48:00.213494Z",
     "start_time": "2024-10-03T09:48:00.204634Z"
    }
   },
   "source": [
    "for (i in 1:8) {\n",
    "  print(month.name[i])\n",
    "}"
   ],
   "outputs": [
    {
     "name": "stdout",
     "output_type": "stream",
     "text": [
      "[1] \"January\"\n",
      "[1] \"February\"\n",
      "[1] \"March\"\n",
      "[1] \"April\"\n",
      "[1] \"May\"\n",
      "[1] \"June\"\n",
      "[1] \"July\"\n",
      "[1] \"August\"\n"
     ]
    }
   ],
   "execution_count": 79
  },
  {
   "cell_type": "code",
   "metadata": {
    "vscode": {
     "languageId": "r"
    },
    "ExecuteTime": {
     "end_time": "2024-10-03T09:48:00.260471Z",
     "start_time": "2024-10-03T09:48:00.250886Z"
    }
   },
   "source": [
    "v <- c(\"a\", \"b\", \"c\", \"d\", \"e\", \"f\", \"g\", \"h\", \"i\", \"j\")\n",
    "for (i in seq_along(v)) {\n",
    "  print(month.name[i])\n",
    "}"
   ],
   "outputs": [
    {
     "name": "stdout",
     "output_type": "stream",
     "text": [
      "[1] \"January\"\n",
      "[1] \"February\"\n",
      "[1] \"March\"\n",
      "[1] \"April\"\n",
      "[1] \"May\"\n",
      "[1] \"June\"\n",
      "[1] \"July\"\n",
      "[1] \"August\"\n",
      "[1] \"September\"\n",
      "[1] \"October\"\n"
     ]
    }
   ],
   "execution_count": 80
  },
  {
   "cell_type": "code",
   "metadata": {
    "id": "l2Mdoq2HTSL6",
    "vscode": {
     "languageId": "r"
    },
    "ExecuteTime": {
     "end_time": "2024-10-03T09:48:00.298398Z",
     "start_time": "2024-10-03T09:48:00.289602Z"
    }
   },
   "source": [
    "# Przeanalizuj działanie poniższej pętli `while`.\n",
    "\n",
    "i <- 1\n",
    "while (i <= 10) {\n",
    "  print(i)\n",
    "  i <- i + 1\n",
    "}"
   ],
   "outputs": [
    {
     "name": "stdout",
     "output_type": "stream",
     "text": [
      "[1] 1\n",
      "[1] 2\n",
      "[1] 3\n",
      "[1] 4\n",
      "[1] 5\n",
      "[1] 6\n",
      "[1] 7\n",
      "[1] 8\n",
      "[1] 9\n",
      "[1] 10\n"
     ]
    }
   ],
   "execution_count": 81
  },
  {
   "cell_type": "code",
   "metadata": {
    "id": "RZx2E6SlTYMn",
    "vscode": {
     "languageId": "r"
    },
    "ExecuteTime": {
     "end_time": "2024-10-03T09:48:00.342381Z",
     "start_time": "2024-10-03T09:48:00.332755Z"
    }
   },
   "source": [
    "# Przeanalizuj działanie poniższej pętli `repeat`. Zwróć uwagę na strukturę if-else, next oraz break.\n",
    "\n",
    "i <- 1\n",
    "repeat {\n",
    "  i <- i + 1\n",
    "  if(i == 11)\n",
    "    break\n",
    "  else if(i == 5)\n",
    "    next\n",
    "  else\n",
    "    print(i)\n",
    "}"
   ],
   "outputs": [
    {
     "name": "stdout",
     "output_type": "stream",
     "text": [
      "[1] 2\n",
      "[1] 3\n",
      "[1] 4\n",
      "[1] 6\n",
      "[1] 7\n",
      "[1] 8\n",
      "[1] 9\n",
      "[1] 10\n"
     ]
    }
   ],
   "execution_count": 82
  },
  {
   "cell_type": "markdown",
   "metadata": {
    "id": "xj85bQAhTeKF"
   },
   "source": [
    "### Funkcje"
   ]
  },
  {
   "cell_type": "code",
   "metadata": {
    "id": "JkHOd-UVTfr9",
    "vscode": {
     "languageId": "r"
    },
    "ExecuteTime": {
     "end_time": "2024-10-03T09:48:00.381711Z",
     "start_time": "2024-10-03T09:48:00.375454Z"
    }
   },
   "source": [
    "# Utwórz funkcję obliczającą wartość funkcji liniowej w punkcie x o podanych parametrach a i b,\n",
    "# a następnie wyświetl wprowadzoną funkcję.\n",
    "\n",
    "y <- function(x, a=1, b=0) {\n",
    "  a * x + b\n",
    "}\n",
    "\n",
    "y"
   ],
   "outputs": [
    {
     "data": {
      "text/plain": [
       "function (x, a = 1, b = 0) \n",
       "{\n",
       "    a * x + b\n",
       "}"
      ]
     },
     "metadata": {},
     "output_type": "display_data"
    }
   ],
   "execution_count": 83
  },
  {
   "cell_type": "code",
   "metadata": {
    "id": "1XVvTLZ5ToZD",
    "vscode": {
     "languageId": "r"
    },
    "ExecuteTime": {
     "end_time": "2024-10-03T09:48:00.410839Z",
     "start_time": "2024-10-03T09:48:00.406438Z"
    }
   },
   "source": [
    "# Spróbuj wywołać funkcję y() bez parametrów. Następnie wywołaj ją ponownie, wprowadzając tylko argument x.\n",
    "\n",
    "# y()"
   ],
   "outputs": [],
   "execution_count": 84
  },
  {
   "cell_type": "code",
   "metadata": {
    "vscode": {
     "languageId": "r"
    },
    "ExecuteTime": {
     "end_time": "2024-10-03T09:48:00.440542Z",
     "start_time": "2024-10-03T09:48:00.433509Z"
    }
   },
   "source": [
    "y(1)"
   ],
   "outputs": [
    {
     "data": {
      "text/plain": [
       "[1] 1"
      ]
     },
     "metadata": {},
     "output_type": "display_data"
    }
   ],
   "execution_count": 85
  },
  {
   "cell_type": "code",
   "metadata": {
    "id": "Ak-QgreqTsFN",
    "vscode": {
     "languageId": "r"
    },
    "ExecuteTime": {
     "end_time": "2024-10-03T09:48:00.470953Z",
     "start_time": "2024-10-03T09:48:00.463668Z"
    }
   },
   "source": [
    "# Wywołaj funkcję z parametrami x=1, a=2, b=3. Zwróć uwagę na różne sposoby wywoływania funkcji\n",
    "# - w jaki sposób odbywa się dopasowanie argumentów.\n",
    "\n",
    "y(1, 2, 3)"
   ],
   "outputs": [
    {
     "data": {
      "text/plain": [
       "[1] 5"
      ]
     },
     "metadata": {},
     "output_type": "display_data"
    }
   ],
   "execution_count": 86
  },
  {
   "cell_type": "code",
   "metadata": {
    "vscode": {
     "languageId": "r"
    },
    "ExecuteTime": {
     "end_time": "2024-10-03T09:48:00.512988Z",
     "start_time": "2024-10-03T09:48:00.507361Z"
    }
   },
   "source": [
    "y(b=3, a=2, x=1)"
   ],
   "outputs": [
    {
     "data": {
      "text/plain": [
       "[1] 5"
      ]
     },
     "metadata": {},
     "output_type": "display_data"
    }
   ],
   "execution_count": 87
  },
  {
   "cell_type": "code",
   "metadata": {
    "vscode": {
     "languageId": "r"
    },
    "ExecuteTime": {
     "end_time": "2024-10-03T09:48:00.549468Z",
     "start_time": "2024-10-03T09:48:00.542876Z"
    }
   },
   "source": [
    "y(b=3, 1, a=2)"
   ],
   "outputs": [
    {
     "data": {
      "text/plain": [
       "[1] 5"
      ]
     },
     "metadata": {},
     "output_type": "display_data"
    }
   ],
   "execution_count": 88
  },
  {
   "cell_type": "markdown",
   "metadata": {
    "id": "NB4CjIlQc-X4"
   },
   "source": [
    "## Przygotowanie danych pomiarowych\n",
    "Wykorzystywane w ćwiczeniach pliki danych zawierają uśrednione dane stanu powietrza w sierpniu i wrześniu 2023, pochodzące ze strony Głównego Inspektoratu Ochrony Środowiska dla stacji pomiarowej Kraków, al. Krasińskiego."
   ]
  },
  {
   "cell_type": "markdown",
   "metadata": {
    "id": "DgI3rHX6dORD"
   },
   "source": [
    "### Wczytywanie danych"
   ]
  },
  {
   "cell_type": "code",
   "metadata": {
    "colab": {
     "base_uri": "https://localhost:8080/"
    },
    "id": "kMPdh1iydNPw",
    "outputId": "328dab83-88d1-49d3-c18b-2759c41ad377",
    "vscode": {
     "languageId": "r"
    },
    "ExecuteTime": {
     "end_time": "2024-10-03T09:48:01.055243Z",
     "start_time": "2024-10-03T09:48:00.597700Z"
    }
   },
   "source": [
    "# Wczytaj plik z danymi pomiarowymi z sierpnia 2023 roku i zapisz jako obiekt tibble o nazwie pomiary_sierpien\n",
    "\n",
    "library(tidyverse)\n",
    "pomiary_sierpien <- read_csv(\"dane/dane_sierpien.csv\",\n",
    "                             col_types = cols(...1 = col_skip()))"
   ],
   "outputs": [
    {
     "name": "stderr",
     "output_type": "stream",
     "text": [
      "── \u001B[1mAttaching core tidyverse packages\u001B[22m ──────────────────────── tidyverse 2.0.0 ──\n",
      "\u001B[32m✔\u001B[39m \u001B[34mdplyr    \u001B[39m 1.1.4     \u001B[32m✔\u001B[39m \u001B[34mreadr    \u001B[39m 2.1.5\n",
      "\u001B[32m✔\u001B[39m \u001B[34mforcats  \u001B[39m 1.0.0     \u001B[32m✔\u001B[39m \u001B[34mstringr  \u001B[39m 1.5.1\n",
      "\u001B[32m✔\u001B[39m \u001B[34mggplot2  \u001B[39m 3.5.1     \u001B[32m✔\u001B[39m \u001B[34mtibble   \u001B[39m 3.2.1\n",
      "\u001B[32m✔\u001B[39m \u001B[34mlubridate\u001B[39m 1.9.3     \u001B[32m✔\u001B[39m \u001B[34mtidyr    \u001B[39m 1.3.1\n",
      "\u001B[32m✔\u001B[39m \u001B[34mpurrr    \u001B[39m 1.0.2     \n",
      "── \u001B[1mConflicts\u001B[22m ────────────────────────────────────────── tidyverse_conflicts() ──\n",
      "\u001B[31m✖\u001B[39m \u001B[34mdplyr\u001B[39m::\u001B[32mfilter()\u001B[39m masks \u001B[34mstats\u001B[39m::filter()\n",
      "\u001B[31m✖\u001B[39m \u001B[34mdplyr\u001B[39m::\u001B[32mlag()\u001B[39m    masks \u001B[34mstats\u001B[39m::lag()\n",
      "\u001B[36mℹ\u001B[39m Use the conflicted package (\u001B[3m\u001B[34m<http://conflicted.r-lib.org/>\u001B[39m\u001B[23m) to force all conflicts to become errors\n",
      "\u001B[1m\u001B[22mNew names:\n",
      "\u001B[36m•\u001B[39m `` -> `...1`\n"
     ]
    }
   ],
   "execution_count": 89
  },
  {
   "cell_type": "code",
   "metadata": {
    "id": "IUnfTFOueiIx",
    "vscode": {
     "languageId": "r"
    },
    "ExecuteTime": {
     "end_time": "2024-10-03T09:48:01.087913Z",
     "start_time": "2024-10-03T09:48:01.068018Z"
    }
   },
   "source": [
    "# Wczytaj plik z danymi pomiarowymi z września 2023 i zapisz jako obiekt tibble o nazwie pomiary_wrzesien.\n",
    "\n",
    "pomiary_wrzesien <- read_csv(\"dane/dane_wrzesien.csv\",\n",
    "                             col_types = cols(...1 = col_skip()))"
   ],
   "outputs": [
    {
     "name": "stderr",
     "output_type": "stream",
     "text": [
      "\u001B[1m\u001B[22mNew names:\n",
      "\u001B[36m•\u001B[39m `` -> `...1`\n"
     ]
    }
   ],
   "execution_count": 90
  },
  {
   "cell_type": "code",
   "metadata": {
    "vscode": {
     "languageId": "r"
    },
    "ExecuteTime": {
     "end_time": "2024-10-03T09:48:01.122309Z",
     "start_time": "2024-10-03T09:48:01.115968Z"
    }
   },
   "source": [
    "class(pomiary_wrzesien)"
   ],
   "outputs": [
    {
     "data": {
      "text/plain": [
       "[1] \"spec_tbl_df\" \"tbl_df\"      \"tbl\"         \"data.frame\" "
      ]
     },
     "metadata": {},
     "output_type": "display_data"
    }
   ],
   "execution_count": 91
  },
  {
   "cell_type": "code",
   "metadata": {
    "vscode": {
     "languageId": "r"
    },
    "ExecuteTime": {
     "end_time": "2024-10-03T09:48:01.162727Z",
     "start_time": "2024-10-03T09:48:01.146797Z"
    }
   },
   "source": [
    "glimpse(pomiary_sierpien)"
   ],
   "outputs": [
    {
     "name": "stdout",
     "output_type": "stream",
     "text": [
      "Rows: 31\n",
      "Columns: 10\n",
      "$ PM25    \u001B[3m\u001B[90m<dbl>\u001B[39m\u001B[23m 11.760870, 8.295833, 8.383333, 10.000000, 11.295833, 7.333333,…\n",
      "$ PM10    \u001B[3m\u001B[90m<dbl>\u001B[39m\u001B[23m 25.04348, 18.43750, 22.74583, 24.69583, 18.46667, 11.04583, 12…\n",
      "$ NO2     \u001B[3m\u001B[90m<dbl>\u001B[39m\u001B[23m 44.57391, 36.24583, 50.06087, 47.40000, 36.00000, 21.67917, 21…\n",
      "$ NO      \u001B[3m\u001B[90m<dbl>\u001B[39m\u001B[23m 38.83478, 22.17083, 36.19583, 38.62500, 26.02500, 19.16667, 17…\n",
      "$ NOx     \u001B[3m\u001B[90m<dbl>\u001B[39m\u001B[23m 104.10870, 70.24167, 107.93913, 106.61667, 75.90417, 51.07500,…\n",
      "$ CO      \u001B[3m\u001B[90m<dbl>\u001B[39m\u001B[23m 0.5956522, 0.5208333, 0.6347826, 0.6125000, 0.6041667, 0.51250…\n",
      "$ C6H6    \u001B[3m\u001B[90m<dbl>\u001B[39m\u001B[23m 0.4652174, 0.3375000, 0.4782609, 0.4708333, 0.3863636, 0.35000…\n",
      "$ rok     \u001B[3m\u001B[90m<dbl>\u001B[39m\u001B[23m 2023, 2023, 2023, 2023, 2023, 2023, 2023, 2023, 2023, 2023, 20…\n",
      "$ miesiac \u001B[3m\u001B[90m<dbl>\u001B[39m\u001B[23m 8, 8, 8, 8, 8, 8, 8, 8, 8, 8, 8, 8, 8, 8, 8, 8, 8, 8, 8, 8, 8,…\n",
      "$ dzien   \u001B[3m\u001B[90m<dbl>\u001B[39m\u001B[23m 1, 2, 3, 4, 5, 6, 7, 8, 9, 10, 11, 12, 13, 14, 15, 16, 17, 18,…\n"
     ]
    }
   ],
   "execution_count": 92
  },
  {
   "cell_type": "code",
   "metadata": {
    "vscode": {
     "languageId": "r"
    },
    "ExecuteTime": {
     "end_time": "2024-10-03T09:48:01.201109Z",
     "start_time": "2024-10-03T09:48:01.192256Z"
    }
   },
   "source": [
    "glimpse(pomiary_wrzesien)"
   ],
   "outputs": [
    {
     "name": "stdout",
     "output_type": "stream",
     "text": [
      "Rows: 30\n",
      "Columns: 10\n",
      "$ PM25    \u001B[3m\u001B[90m<dbl>\u001B[39m\u001B[23m 10.256522, 8.695652, 12.266667, 12.333333, 13.645833, 16.19166…\n",
      "$ PM10    \u001B[3m\u001B[90m<dbl>\u001B[39m\u001B[23m 19.41739, 13.83913, 18.20833, 24.74583, 24.44583, 29.37083, 37…\n",
      "$ NO2     \u001B[3m\u001B[90m<dbl>\u001B[39m\u001B[23m 40.28696, 35.57826, 32.40417, 40.05833, 51.07500, 54.46667, 58…\n",
      "$ NO      \u001B[3m\u001B[90m<dbl>\u001B[39m\u001B[23m 33.73478, 27.31667, 27.14583, 29.18750, 48.97917, 51.78750, 58…\n",
      "$ NOx     \u001B[3m\u001B[90m<dbl>\u001B[39m\u001B[23m 92.01304, 75.95000, 74.03750, 84.80000, 126.15417, 133.87083, …\n",
      "$ CO      \u001B[3m\u001B[90m<dbl>\u001B[39m\u001B[23m 0.5000000, 0.5521739, 0.5458333, 0.4833333, 0.6000000, 0.63750…\n",
      "$ C6H6    \u001B[3m\u001B[90m<dbl>\u001B[39m\u001B[23m 0.4347826, 0.4791667, 0.4875000, 0.3958333, 0.6958333, 0.81666…\n",
      "$ rok     \u001B[3m\u001B[90m<dbl>\u001B[39m\u001B[23m 2023, 2023, 2023, 2023, 2023, 2023, 2023, 2023, 2023, 2023, 20…\n",
      "$ miesiac \u001B[3m\u001B[90m<dbl>\u001B[39m\u001B[23m 9, 9, 9, 9, 9, 9, 9, 9, 9, 9, 9, 9, 9, 9, 9, 9, 9, 9, 9, 9, 9,…\n",
      "$ dzien   \u001B[3m\u001B[90m<dbl>\u001B[39m\u001B[23m 1, 2, 3, 4, 5, 6, 7, 8, 9, 10, 11, 12, 13, 14, 15, 16, 17, 18,…\n"
     ]
    }
   ],
   "execution_count": 93
  },
  {
   "cell_type": "code",
   "metadata": {
    "id": "Ayjeh3ynevKo",
    "vscode": {
     "languageId": "r"
    },
    "ExecuteTime": {
     "end_time": "2024-10-03T09:48:01.244431Z",
     "start_time": "2024-10-03T09:48:01.235415Z"
    }
   },
   "source": [
    "# Połącz wczytanie dane zapisując je jako `powietrze`. Do połączenia danych wykorzystaj funkcję `rbind`.\n",
    "\n",
    "powietrze <- rbind(pomiary_sierpien, pomiary_wrzesien)\n",
    "glimpse(powietrze)"
   ],
   "outputs": [
    {
     "name": "stdout",
     "output_type": "stream",
     "text": [
      "Rows: 61\n",
      "Columns: 10\n",
      "$ PM25    \u001B[3m\u001B[90m<dbl>\u001B[39m\u001B[23m 11.760870, 8.295833, 8.383333, 10.000000, 11.295833, 7.333333,…\n",
      "$ PM10    \u001B[3m\u001B[90m<dbl>\u001B[39m\u001B[23m 25.04348, 18.43750, 22.74583, 24.69583, 18.46667, 11.04583, 12…\n",
      "$ NO2     \u001B[3m\u001B[90m<dbl>\u001B[39m\u001B[23m 44.57391, 36.24583, 50.06087, 47.40000, 36.00000, 21.67917, 21…\n",
      "$ NO      \u001B[3m\u001B[90m<dbl>\u001B[39m\u001B[23m 38.83478, 22.17083, 36.19583, 38.62500, 26.02500, 19.16667, 17…\n",
      "$ NOx     \u001B[3m\u001B[90m<dbl>\u001B[39m\u001B[23m 104.10870, 70.24167, 107.93913, 106.61667, 75.90417, 51.07500,…\n",
      "$ CO      \u001B[3m\u001B[90m<dbl>\u001B[39m\u001B[23m 0.5956522, 0.5208333, 0.6347826, 0.6125000, 0.6041667, 0.51250…\n",
      "$ C6H6    \u001B[3m\u001B[90m<dbl>\u001B[39m\u001B[23m 0.4652174, 0.3375000, 0.4782609, 0.4708333, 0.3863636, 0.35000…\n",
      "$ rok     \u001B[3m\u001B[90m<dbl>\u001B[39m\u001B[23m 2023, 2023, 2023, 2023, 2023, 2023, 2023, 2023, 2023, 2023, 20…\n",
      "$ miesiac \u001B[3m\u001B[90m<dbl>\u001B[39m\u001B[23m 8, 8, 8, 8, 8, 8, 8, 8, 8, 8, 8, 8, 8, 8, 8, 8, 8, 8, 8, 8, 8,…\n",
      "$ dzien   \u001B[3m\u001B[90m<dbl>\u001B[39m\u001B[23m 1, 2, 3, 4, 5, 6, 7, 8, 9, 10, 11, 12, 13, 14, 15, 16, 17, 18,…\n"
     ]
    }
   ],
   "execution_count": 94
  },
  {
   "cell_type": "markdown",
   "metadata": {
    "id": "vjZcAIiwezmQ"
   },
   "source": [
    "### Przekształcanie danych"
   ]
  },
  {
   "cell_type": "code",
   "metadata": {
    "id": "A4iYeRnte3ft",
    "vscode": {
     "languageId": "r"
    },
    "ExecuteTime": {
     "end_time": "2024-10-03T09:48:01.283231Z",
     "start_time": "2024-10-03T09:48:01.277048Z"
    }
   },
   "source": [
    "# Wypisz i przeanalizuj nazwy kolumn, a następnie zmień nazwy na bardziej czytelne i wypisz pierwsze wiersze.\n",
    "\n",
    "names(powietrze)"
   ],
   "outputs": [
    {
     "data": {
      "text/plain": [
       " [1] \"PM25\"    \"PM10\"    \"NO2\"     \"NO\"      \"NOx\"     \"CO\"      \"C6H6\"   \n",
       " [8] \"rok\"     \"miesiac\" \"dzien\"  "
      ]
     },
     "metadata": {},
     "output_type": "display_data"
    }
   ],
   "execution_count": 95
  },
  {
   "cell_type": "code",
   "metadata": {
    "vscode": {
     "languageId": "r"
    },
    "ExecuteTime": {
     "end_time": "2024-10-03T09:48:01.326942Z",
     "start_time": "2024-10-03T09:48:01.314003Z"
    }
   },
   "source": [
    "names(powietrze)[1:7] <- c(\"PM25\", \"PM10\", \"NO2\", \"NO\", \"NOx\", \"CO\", \"C6H6\")\n",
    "head(powietrze)"
   ],
   "outputs": [
    {
     "data": {
      "text/plain": [
       "  PM25      PM10     NO2      NO       NOx       CO        C6H6      rok \n",
       "1 11.760870 25.04348 44.57391 38.83478 104.10870 0.5956522 0.4652174 2023\n",
       "2  8.295833 18.43750 36.24583 22.17083  70.24167 0.5208333 0.3375000 2023\n",
       "3  8.383333 22.74583 50.06087 36.19583 107.93913 0.6347826 0.4782609 2023\n",
       "4 10.000000 24.69583 47.40000 38.62500 106.61667 0.6125000 0.4708333 2023\n",
       "5 11.295833 18.46667 36.00000 26.02500  75.90417 0.6041667 0.3863636 2023\n",
       "6  7.333333 11.04583 21.67917 19.16667  51.07500 0.5125000 0.3500000 2023\n",
       "  miesiac dzien\n",
       "1 8       1    \n",
       "2 8       2    \n",
       "3 8       3    \n",
       "4 8       4    \n",
       "5 8       5    \n",
       "6 8       6    "
      ]
     },
     "metadata": {},
     "output_type": "display_data"
    }
   ],
   "execution_count": 96
  },
  {
   "cell_type": "code",
   "metadata": {
    "id": "kao38eH1e6Us",
    "vscode": {
     "languageId": "r"
    },
    "ExecuteTime": {
     "end_time": "2024-10-03T09:48:01.408221Z",
     "start_time": "2024-10-03T09:48:01.356987Z"
    }
   },
   "source": [
    "# Wyświetl podsumowanie danych za pomocą poniższych funkcji:\n",
    "\n",
    "summary(powietrze)"
   ],
   "outputs": [
    {
     "data": {
      "text/plain": [
       "      PM25             PM10            NO2              NO       \n",
       " Min.   : 4.987   Min.   :11.05   Min.   :21.20   Min.   :16.01  \n",
       " 1st Qu.:11.700   1st Qu.:20.14   1st Qu.:35.63   1st Qu.:25.12  \n",
       " Median :15.033   Median :25.27   Median :42.59   Median :30.89  \n",
       " Mean   :15.735   Mean   :27.07   Mean   :42.70   Mean   :36.01  \n",
       " 3rd Qu.:20.429   3rd Qu.:34.17   3rd Qu.:51.08   3rd Qu.:42.12  \n",
       " Max.   :28.462   Max.   :47.05   Max.   :60.34   Max.   :81.55  \n",
       "      NOx               CO              C6H6             rok      \n",
       " Min.   : 48.71   Min.   :0.4167   Min.   :0.1958   Min.   :2023  \n",
       " 1st Qu.: 75.95   1st Qu.:0.5522   1st Qu.:0.3958   1st Qu.:2023  \n",
       " Median : 90.16   Median :0.5958   Median :0.4792   Median :2023  \n",
       " Mean   : 97.91   Mean   :0.6361   Mean   :0.5562   Mean   :2023  \n",
       " 3rd Qu.:110.21   3rd Qu.:0.6478   3rd Qu.:0.6958   3rd Qu.:2023  \n",
       " Max.   :178.57   Max.   :3.0375   Max.   :1.0917   Max.   :2023  \n",
       "    miesiac          dzien      \n",
       " Min.   :8.000   Min.   : 1.00  \n",
       " 1st Qu.:8.000   1st Qu.: 8.00  \n",
       " Median :8.000   Median :16.00  \n",
       " Mean   :8.492   Mean   :15.75  \n",
       " 3rd Qu.:9.000   3rd Qu.:23.00  \n",
       " Max.   :9.000   Max.   :31.00  "
      ]
     },
     "metadata": {},
     "output_type": "display_data"
    }
   ],
   "execution_count": 97
  },
  {
   "cell_type": "code",
   "metadata": {
    "vscode": {
     "languageId": "r"
    },
    "ExecuteTime": {
     "end_time": "2024-10-03T09:48:01.640448Z",
     "start_time": "2024-10-03T09:48:01.436920Z"
    }
   },
   "source": [
    "str(powietrze)"
   ],
   "outputs": [
    {
     "name": "stdout",
     "output_type": "stream",
     "text": [
      "spc_tbl_ [61 × 10] (S3: spec_tbl_df/tbl_df/tbl/data.frame)\n",
      " $ PM25   : num [1:61] 11.76 8.3 8.38 10 11.3 ...\n",
      " $ PM10   : num [1:61] 25 18.4 22.7 24.7 18.5 ...\n",
      " $ NO2    : num [1:61] 44.6 36.2 50.1 47.4 36 ...\n",
      " $ NO     : num [1:61] 38.8 22.2 36.2 38.6 26 ...\n",
      " $ NOx    : num [1:61] 104.1 70.2 107.9 106.6 75.9 ...\n",
      " $ CO     : num [1:61] 0.596 0.521 0.635 0.613 0.604 ...\n",
      " $ C6H6   : num [1:61] 0.465 0.338 0.478 0.471 0.386 ...\n",
      " $ rok    : num [1:61] 2023 2023 2023 2023 2023 ...\n",
      " $ miesiac: num [1:61] 8 8 8 8 8 8 8 8 8 8 ...\n",
      " $ dzien  : num [1:61] 1 2 3 4 5 6 7 8 9 10 ...\n",
      " - attr(*, \"spec\")=\n",
      "  .. cols(\n",
      "  ..   ...1 = col_skip(),\n",
      "  ..   PM25 = \u001B[32mcol_double()\u001B[39m,\n",
      "  ..   PM10 = \u001B[32mcol_double()\u001B[39m,\n",
      "  ..   NO2 = \u001B[32mcol_double()\u001B[39m,\n",
      "  ..   NO = \u001B[32mcol_double()\u001B[39m,\n",
      "  ..   NOx = \u001B[32mcol_double()\u001B[39m,\n",
      "  ..   CO = \u001B[32mcol_double()\u001B[39m,\n",
      "  ..   C6H6 = \u001B[32mcol_double()\u001B[39m,\n",
      "  ..   rok = \u001B[32mcol_double()\u001B[39m,\n",
      "  ..   miesiac = \u001B[32mcol_double()\u001B[39m,\n",
      "  ..   dzien = \u001B[32mcol_double()\u001B[39m\n",
      "  .. )\n",
      " - attr(*, \"problems\")=<externalptr> \n"
     ]
    }
   ],
   "execution_count": 98
  },
  {
   "cell_type": "code",
   "metadata": {
    "vscode": {
     "languageId": "r"
    },
    "ExecuteTime": {
     "end_time": "2024-10-03T09:48:01.675241Z",
     "start_time": "2024-10-03T09:48:01.667917Z"
    }
   },
   "source": [
    "quantile(powietrze$PM25, probs=seq(0,1,0.1), na.rm=TRUE)"
   ],
   "outputs": [
    {
     "data": {
      "text/plain": [
       "       0%       10%       20%       30%       40%       50%       60%       70% \n",
       " 4.987500  8.295833 10.000000 11.945833 13.645833 15.033333 16.941667 18.866667 \n",
       "      80%       90%      100% \n",
       "21.178261 25.266667 28.462500 "
      ]
     },
     "metadata": {},
     "output_type": "display_data"
    }
   ],
   "execution_count": 99
  },
  {
   "cell_type": "code",
   "metadata": {
    "id": "sDR6Bz9Pe-SW",
    "vscode": {
     "languageId": "r"
    },
    "ExecuteTime": {
     "end_time": "2024-10-03T09:48:01.717154Z",
     "start_time": "2024-10-03T09:48:01.707567Z"
    }
   },
   "source": [
    "# Wyświetl typ danych poszczególnych kolumn.\n",
    "\n",
    "for(i in names(powietrze)) print(class(powietrze[[i]]))"
   ],
   "outputs": [
    {
     "name": "stdout",
     "output_type": "stream",
     "text": [
      "[1] \"numeric\"\n",
      "[1] \"numeric\"\n",
      "[1] \"numeric\"\n",
      "[1] \"numeric\"\n",
      "[1] \"numeric\"\n",
      "[1] \"numeric\"\n",
      "[1] \"numeric\"\n",
      "[1] \"numeric\"\n",
      "[1] \"numeric\"\n",
      "[1] \"numeric\"\n"
     ]
    }
   ],
   "execution_count": 100
  },
  {
   "cell_type": "code",
   "metadata": {
    "id": "1h44t5xtfD2_",
    "vscode": {
     "languageId": "r"
    },
    "ExecuteTime": {
     "end_time": "2024-10-03T09:48:01.759681Z",
     "start_time": "2024-10-03T09:48:01.750994Z"
    }
   },
   "source": [
    "# Zaokrąglij wyniki pomiarów do dwóch miejsc po przecinku.\n",
    "\n",
    "powietrze[,1:7] <- round(powietrze[,1:7], 2)\n",
    "head(powietrze)"
   ],
   "outputs": [
    {
     "data": {
      "text/plain": [
       "  PM25  PM10  NO2   NO    NOx    CO   C6H6 rok  miesiac dzien\n",
       "1 11.76 25.04 44.57 38.83 104.11 0.60 0.47 2023 8       1    \n",
       "2  8.30 18.44 36.25 22.17  70.24 0.52 0.34 2023 8       2    \n",
       "3  8.38 22.75 50.06 36.20 107.94 0.63 0.48 2023 8       3    \n",
       "4 10.00 24.70 47.40 38.62 106.62 0.61 0.47 2023 8       4    \n",
       "5 11.30 18.47 36.00 26.02  75.90 0.60 0.39 2023 8       5    \n",
       "6  7.33 11.05 21.68 19.17  51.08 0.51 0.35 2023 8       6    "
      ]
     },
     "metadata": {},
     "output_type": "display_data"
    }
   ],
   "execution_count": 101
  },
  {
   "cell_type": "code",
   "metadata": {
    "id": "IDdT2twUfHBe",
    "vscode": {
     "languageId": "r"
    },
    "ExecuteTime": {
     "end_time": "2024-10-03T09:48:01.801599Z",
     "start_time": "2024-10-03T09:48:01.793390Z"
    }
   },
   "source": [
    "# Stwórz nową kolumnę, w której zapiszesz datę każdego pomiaru wykorzystując kolumny: `dzien`, `miesiac` oraz `rok``.\n",
    "\n",
    "powietrze$data <- as.Date(paste(powietrze$rok, powietrze$miesiac,\n",
    "                                powietrze$dzien, sep=\"- \"))\n",
    "powietrze <- powietrze[,-(8:10)]\n",
    "head(powietrze)"
   ],
   "outputs": [
    {
     "data": {
      "text/plain": [
       "  PM25  PM10  NO2   NO    NOx    CO   C6H6 data      \n",
       "1 11.76 25.04 44.57 38.83 104.11 0.60 0.47 2023-08-01\n",
       "2  8.30 18.44 36.25 22.17  70.24 0.52 0.34 2023-08-02\n",
       "3  8.38 22.75 50.06 36.20 107.94 0.63 0.48 2023-08-03\n",
       "4 10.00 24.70 47.40 38.62 106.62 0.61 0.47 2023-08-04\n",
       "5 11.30 18.47 36.00 26.02  75.90 0.60 0.39 2023-08-05\n",
       "6  7.33 11.05 21.68 19.17  51.08 0.51 0.35 2023-08-06"
      ]
     },
     "metadata": {},
     "output_type": "display_data"
    }
   ],
   "execution_count": 102
  },
  {
   "cell_type": "code",
   "metadata": {
    "id": "iVFqQbZFfLBv",
    "vscode": {
     "languageId": "r"
    },
    "ExecuteTime": {
     "end_time": "2024-10-03T09:48:01.841907Z",
     "start_time": "2024-10-03T09:48:01.835236Z"
    }
   },
   "source": [
    "# Przeanalizuj działanie poniższych funkcji związanych z typem `Date`:\n",
    "\n",
    "today <- Sys.Date()\n",
    "days <- julian(today)\n",
    "format(today, \"Dzisiaj jest %A (%d %B %y)\")"
   ],
   "outputs": [
    {
     "data": {
      "text/plain": [
       "[1] \"Dzisiaj jest Thursday (03 October 24)\""
      ]
     },
     "metadata": {},
     "output_type": "display_data"
    }
   ],
   "execution_count": 103
  },
  {
   "cell_type": "code",
   "metadata": {
    "vscode": {
     "languageId": "r"
    },
    "ExecuteTime": {
     "end_time": "2024-10-03T09:48:01.876457Z",
     "start_time": "2024-10-03T09:48:01.871084Z"
    }
   },
   "source": [
    "weekdays(today)"
   ],
   "outputs": [
    {
     "data": {
      "text/plain": [
       "[1] \"Thursday\""
      ]
     },
     "metadata": {},
     "output_type": "display_data"
    }
   ],
   "execution_count": 104
  },
  {
   "cell_type": "code",
   "metadata": {
    "vscode": {
     "languageId": "r"
    },
    "ExecuteTime": {
     "end_time": "2024-10-03T09:48:01.913954Z",
     "start_time": "2024-10-03T09:48:01.906608Z"
    }
   },
   "source": [
    "as.Date(c(\"01.03.20\"),\"%d.%m.%y\")"
   ],
   "outputs": [
    {
     "data": {
      "text/plain": [
       "[1] \"2020-03-01\""
      ]
     },
     "metadata": {},
     "output_type": "display_data"
    }
   ],
   "execution_count": 105
  },
  {
   "cell_type": "code",
   "metadata": {
    "vscode": {
     "languageId": "r"
    },
    "ExecuteTime": {
     "end_time": "2024-10-03T09:48:01.968422Z",
     "start_time": "2024-10-03T09:48:01.957309Z"
    }
   },
   "source": [
    "diff <- as.numeric(today - powietrze$data)\n",
    "diff"
   ],
   "outputs": [
    {
     "data": {
      "text/plain": [
       " [1] 429 428 427 426 425 424 423 422 421 420 419 418 417 416 415 414 413 412 411\n",
       "[20] 410 409 408 407 406 405 404 403 402 401 400 399 398 397 396 395 394 393 392\n",
       "[39] 391 390 389 388 387 386 385 384 383 382 381 380 379 378 377 376 375 374 373\n",
       "[58] 372 371 370 369"
      ]
     },
     "metadata": {},
     "output_type": "display_data"
    }
   ],
   "execution_count": 106
  },
  {
   "cell_type": "code",
   "metadata": {
    "id": "jPKgQWjufOtP",
    "vscode": {
     "languageId": "r"
    },
    "ExecuteTime": {
     "end_time": "2024-10-03T09:48:02.000560Z",
     "start_time": "2024-10-03T09:48:01.991694Z"
    }
   },
   "source": [
    "# Sprawdź, w jaki sposób można wyświetlić konkretne wiersze:\n",
    "\n",
    "head(powietrze, 5)"
   ],
   "outputs": [
    {
     "data": {
      "text/plain": [
       "  PM25  PM10  NO2   NO    NOx    CO   C6H6 data      \n",
       "1 11.76 25.04 44.57 38.83 104.11 0.60 0.47 2023-08-01\n",
       "2  8.30 18.44 36.25 22.17  70.24 0.52 0.34 2023-08-02\n",
       "3  8.38 22.75 50.06 36.20 107.94 0.63 0.48 2023-08-03\n",
       "4 10.00 24.70 47.40 38.62 106.62 0.61 0.47 2023-08-04\n",
       "5 11.30 18.47 36.00 26.02  75.90 0.60 0.39 2023-08-05"
      ]
     },
     "metadata": {},
     "output_type": "display_data"
    }
   ],
   "execution_count": 107
  },
  {
   "cell_type": "code",
   "metadata": {
    "vscode": {
     "languageId": "r"
    },
    "ExecuteTime": {
     "end_time": "2024-10-03T09:48:02.045406Z",
     "start_time": "2024-10-03T09:48:02.038971Z"
    }
   },
   "source": [
    "powietrze[2:3,]"
   ],
   "outputs": [
    {
     "data": {
      "text/plain": [
       "  PM25 PM10  NO2   NO    NOx    CO   C6H6 data      \n",
       "1 8.30 18.44 36.25 22.17  70.24 0.52 0.34 2023-08-02\n",
       "2 8.38 22.75 50.06 36.20 107.94 0.63 0.48 2023-08-03"
      ]
     },
     "metadata": {},
     "output_type": "display_data"
    }
   ],
   "execution_count": 108
  },
  {
   "cell_type": "code",
   "metadata": {
    "vscode": {
     "languageId": "r"
    },
    "ExecuteTime": {
     "end_time": "2024-10-03T09:48:02.080869Z",
     "start_time": "2024-10-03T09:48:02.073271Z"
    }
   },
   "source": [
    "powietrze[seq(1, 31, by=5), ]"
   ],
   "outputs": [
    {
     "data": {
      "text/plain": [
       "  PM25  PM10  NO2   NO    NOx    CO   C6H6 data      \n",
       "1 11.76 25.04 44.57 38.83 104.11 0.60 0.47 2023-08-01\n",
       "2  7.33 11.05 21.68 19.17  51.08 0.51 0.35 2023-08-06\n",
       "3 14.11 25.50 46.44 29.56  91.77 0.56 0.48 2023-08-11\n",
       "4 22.84 39.57 51.76 30.82  98.99 0.68 0.52 2023-08-16\n",
       "5 28.46 44.70 46.71 25.49  85.82 0.70 0.48 2023-08-21\n",
       "6 15.80 26.66 39.78 23.25  75.45 0.60 0.39 2023-08-26\n",
       "7 11.84 20.14 31.63 24.70  69.46 0.44 0.35 2023-08-31"
      ]
     },
     "metadata": {},
     "output_type": "display_data"
    }
   ],
   "execution_count": 109
  },
  {
   "cell_type": "code",
   "metadata": {
    "vscode": {
     "languageId": "r"
    },
    "ExecuteTime": {
     "end_time": "2024-10-03T09:48:02.120430Z",
     "start_time": "2024-10-03T09:48:02.114260Z"
    }
   },
   "source": [
    "tail(powietrze)"
   ],
   "outputs": [
    {
     "data": {
      "text/plain": [
       "  PM25  PM10  NO2   NO    NOx    CO   C6H6 data      \n",
       "1 14.87 24.68 34.70 41.03  97.62 0.52 0.55 2023-09-25\n",
       "2 20.52 35.74 42.83 61.22 136.71 0.69 0.77 2023-09-26\n",
       "3 22.40 40.54 54.05 58.90 141.76 0.73 0.92 2023-09-27\n",
       "4 22.01 42.59 54.23 77.60 173.21 0.78 0.95 2023-09-28\n",
       "5 20.43 37.56 53.53 81.55 178.57 0.76 0.82 2023-09-29\n",
       "6 18.87 28.12 35.67 64.76 134.96 0.73 0.73 2023-09-30"
      ]
     },
     "metadata": {},
     "output_type": "display_data"
    }
   ],
   "execution_count": 110
  },
  {
   "cell_type": "code",
   "metadata": {
    "id": "ikLaNJVJfR19",
    "vscode": {
     "languageId": "r"
    },
    "ExecuteTime": {
     "end_time": "2024-10-03T09:48:02.155596Z",
     "start_time": "2024-10-03T09:48:02.148658Z"
    }
   },
   "source": [
    "# Sprawdź, czy zmienna `PM25` zawiera brakujące dane.\n",
    "\n",
    "any(is.na(powietrze$PM25))\n",
    "!all(!is.na(powietrze$PM25))"
   ],
   "outputs": [
    {
     "data": {
      "text/plain": [
       "[1] FALSE"
      ]
     },
     "metadata": {},
     "output_type": "display_data"
    },
    {
     "data": {
      "text/plain": [
       "[1] FALSE"
      ]
     },
     "metadata": {},
     "output_type": "display_data"
    }
   ],
   "execution_count": 111
  },
  {
   "cell_type": "code",
   "metadata": {
    "id": "YKcZqgv9fVbF",
    "vscode": {
     "languageId": "r"
    },
    "ExecuteTime": {
     "end_time": "2024-10-03T09:48:02.213546Z",
     "start_time": "2024-10-03T09:48:02.201561Z"
    }
   },
   "source": [
    "# Wyświetl wszystkie dane, dla których `PM10` przekracza wartość 20.\n",
    "# Zwróć uwagę, że funkcja `which()` sprawia, że nie wyświetlają się wiersze, dla których `PM10` przyjmuje wartość `NA`.\n",
    "\n",
    "powietrze[(powietrze$PM10 > 20),]"
   ],
   "outputs": [
    {
     "data": {
      "text/plain": [
       "   PM25  PM10  NO2   NO    NOx    CO   C6H6 data      \n",
       "1  11.76 25.04 44.57 38.83 104.11 0.60 0.47 2023-08-01\n",
       "2   8.38 22.75 50.06 36.20 107.94 0.63 0.48 2023-08-03\n",
       "3  10.00 24.70 47.40 38.62 106.62 0.61 0.47 2023-08-04\n",
       "4  11.70 20.69 40.60 24.98  78.89 0.50 0.36 2023-08-10\n",
       "5  14.11 25.50 46.44 29.56  91.77 0.56 0.48 2023-08-11\n",
       "6  15.21 25.27 46.76 23.23  82.36 0.58 0.46 2023-08-12\n",
       "7  15.60 25.22 39.52 25.12  79.68 0.61 0.49 2023-08-13\n",
       "8  16.94 30.36 48.56 26.48  89.20 0.61 0.42 2023-08-14\n",
       "9  20.64 33.34 37.08 20.39  68.35 0.62 0.51 2023-08-15\n",
       "10 22.84 39.57 51.76 30.82  98.99 0.68 0.52 2023-08-16\n",
       "11 18.80 34.17 45.54 28.41  89.10 0.60 0.53 2023-08-17\n",
       "12 17.13 31.02 43.39 28.32  88.69 0.59 0.47 2023-08-18\n",
       "13 18.93 28.18 34.96 21.90  68.56 0.60 0.39 2023-08-19\n",
       "14 21.84 31.13 32.15 16.01  56.69 0.59 0.37 2023-08-20\n",
       "15 28.46 44.70 46.71 25.49  85.82 0.70 0.48 2023-08-21\n",
       "16 17.43 31.93 53.86 26.97  95.22 0.60 0.57 2023-08-22\n",
       "17 25.27 37.15 42.59 20.65  75.60 0.59 0.46 2023-08-23\n",
       "18 18.18 30.22 51.88 23.24  87.51 0.59 0.49 2023-08-24\n",
       "19 23.05 42.98 54.96 32.09 104.21 0.69 0.82 2023-08-25\n",
       "20 15.80 26.66 39.78 23.25  75.45 0.60 0.39 2023-08-26\n",
       "21 13.89 20.74 31.65 17.87  59.06 0.58 0.39 2023-08-27\n",
       "22 12.51 20.93 33.74 28.63  79.54 0.58 0.38 2023-08-28\n",
       "23 15.03 24.92 35.63 34.48  88.49 0.62 0.48 2023-08-29\n",
       "24 13.00 20.34 24.91 24.24  65.40 0.51 0.40 2023-08-30\n",
       "25 11.84 20.14 31.63 24.70  69.46 0.44 0.35 2023-08-31\n",
       "26 12.33 24.75 40.06 29.19  84.80 0.48 0.40 2023-09-04\n",
       "27 13.65 24.45 51.08 48.98 126.15 0.60 0.70 2023-09-05\n",
       "28 16.19 29.37 54.47 51.79 133.87 0.64 0.82 2023-09-06\n",
       "29 21.18 37.08 58.63 58.48 145.75 0.70 0.99 2023-09-07\n",
       "30 25.77 40.78 60.34 64.14 158.68 0.72 1.09 2023-09-08\n",
       "31 26.55 36.32 53.00 42.51 118.19 0.68 0.91 2023-09-09\n",
       "32 27.07 35.78 48.39 36.50 104.34 0.71 0.84 2023-09-10\n",
       "33 20.21 34.22 48.63 34.36 101.31 0.58 0.59 2023-09-11\n",
       "34 26.47 42.52 52.46 34.60 103.28 0.65 0.63 2023-09-12\n",
       "35 28.10 47.05 52.71 30.89 100.06 0.61 0.59 2023-09-13\n",
       "36 18.15 26.19 37.75 31.75  86.42 0.55 1.08 2023-09-16\n",
       "37 15.68 29.02 50.08 59.76 141.71 0.66 0.77 2023-09-18\n",
       "38 14.03 22.52 39.49 46.11 110.21 0.55 0.45 2023-09-19\n",
       "39  9.70 22.92 53.74 66.64 155.92 0.67 0.90 2023-09-21\n",
       "40 13.72 30.92 52.37 49.10 125.62 0.62 0.69 2023-09-22\n",
       "41 14.87 24.68 34.70 41.03  97.62 0.52 0.55 2023-09-25\n",
       "42 20.52 35.74 42.83 61.22 136.71 0.69 0.77 2023-09-26\n",
       "43 22.40 40.54 54.05 58.90 141.76 0.73 0.92 2023-09-27\n",
       "44 22.01 42.59 54.23 77.60 173.21 0.78 0.95 2023-09-28\n",
       "45 20.43 37.56 53.53 81.55 178.57 0.76 0.82 2023-09-29\n",
       "46 18.87 28.12 35.67 64.76 134.96 0.73 0.73 2023-09-30"
      ]
     },
     "metadata": {},
     "output_type": "display_data"
    }
   ],
   "execution_count": 112
  },
  {
   "cell_type": "code",
   "metadata": {
    "vscode": {
     "languageId": "r"
    },
    "ExecuteTime": {
     "end_time": "2024-10-03T09:48:02.248243Z",
     "start_time": "2024-10-03T09:48:02.240849Z"
    }
   },
   "source": [
    "powietrze[which(powietrze$PM10 > 20),]"
   ],
   "outputs": [
    {
     "data": {
      "text/plain": [
       "   PM25  PM10  NO2   NO    NOx    CO   C6H6 data      \n",
       "1  11.76 25.04 44.57 38.83 104.11 0.60 0.47 2023-08-01\n",
       "2   8.38 22.75 50.06 36.20 107.94 0.63 0.48 2023-08-03\n",
       "3  10.00 24.70 47.40 38.62 106.62 0.61 0.47 2023-08-04\n",
       "4  11.70 20.69 40.60 24.98  78.89 0.50 0.36 2023-08-10\n",
       "5  14.11 25.50 46.44 29.56  91.77 0.56 0.48 2023-08-11\n",
       "6  15.21 25.27 46.76 23.23  82.36 0.58 0.46 2023-08-12\n",
       "7  15.60 25.22 39.52 25.12  79.68 0.61 0.49 2023-08-13\n",
       "8  16.94 30.36 48.56 26.48  89.20 0.61 0.42 2023-08-14\n",
       "9  20.64 33.34 37.08 20.39  68.35 0.62 0.51 2023-08-15\n",
       "10 22.84 39.57 51.76 30.82  98.99 0.68 0.52 2023-08-16\n",
       "11 18.80 34.17 45.54 28.41  89.10 0.60 0.53 2023-08-17\n",
       "12 17.13 31.02 43.39 28.32  88.69 0.59 0.47 2023-08-18\n",
       "13 18.93 28.18 34.96 21.90  68.56 0.60 0.39 2023-08-19\n",
       "14 21.84 31.13 32.15 16.01  56.69 0.59 0.37 2023-08-20\n",
       "15 28.46 44.70 46.71 25.49  85.82 0.70 0.48 2023-08-21\n",
       "16 17.43 31.93 53.86 26.97  95.22 0.60 0.57 2023-08-22\n",
       "17 25.27 37.15 42.59 20.65  75.60 0.59 0.46 2023-08-23\n",
       "18 18.18 30.22 51.88 23.24  87.51 0.59 0.49 2023-08-24\n",
       "19 23.05 42.98 54.96 32.09 104.21 0.69 0.82 2023-08-25\n",
       "20 15.80 26.66 39.78 23.25  75.45 0.60 0.39 2023-08-26\n",
       "21 13.89 20.74 31.65 17.87  59.06 0.58 0.39 2023-08-27\n",
       "22 12.51 20.93 33.74 28.63  79.54 0.58 0.38 2023-08-28\n",
       "23 15.03 24.92 35.63 34.48  88.49 0.62 0.48 2023-08-29\n",
       "24 13.00 20.34 24.91 24.24  65.40 0.51 0.40 2023-08-30\n",
       "25 11.84 20.14 31.63 24.70  69.46 0.44 0.35 2023-08-31\n",
       "26 12.33 24.75 40.06 29.19  84.80 0.48 0.40 2023-09-04\n",
       "27 13.65 24.45 51.08 48.98 126.15 0.60 0.70 2023-09-05\n",
       "28 16.19 29.37 54.47 51.79 133.87 0.64 0.82 2023-09-06\n",
       "29 21.18 37.08 58.63 58.48 145.75 0.70 0.99 2023-09-07\n",
       "30 25.77 40.78 60.34 64.14 158.68 0.72 1.09 2023-09-08\n",
       "31 26.55 36.32 53.00 42.51 118.19 0.68 0.91 2023-09-09\n",
       "32 27.07 35.78 48.39 36.50 104.34 0.71 0.84 2023-09-10\n",
       "33 20.21 34.22 48.63 34.36 101.31 0.58 0.59 2023-09-11\n",
       "34 26.47 42.52 52.46 34.60 103.28 0.65 0.63 2023-09-12\n",
       "35 28.10 47.05 52.71 30.89 100.06 0.61 0.59 2023-09-13\n",
       "36 18.15 26.19 37.75 31.75  86.42 0.55 1.08 2023-09-16\n",
       "37 15.68 29.02 50.08 59.76 141.71 0.66 0.77 2023-09-18\n",
       "38 14.03 22.52 39.49 46.11 110.21 0.55 0.45 2023-09-19\n",
       "39  9.70 22.92 53.74 66.64 155.92 0.67 0.90 2023-09-21\n",
       "40 13.72 30.92 52.37 49.10 125.62 0.62 0.69 2023-09-22\n",
       "41 14.87 24.68 34.70 41.03  97.62 0.52 0.55 2023-09-25\n",
       "42 20.52 35.74 42.83 61.22 136.71 0.69 0.77 2023-09-26\n",
       "43 22.40 40.54 54.05 58.90 141.76 0.73 0.92 2023-09-27\n",
       "44 22.01 42.59 54.23 77.60 173.21 0.78 0.95 2023-09-28\n",
       "45 20.43 37.56 53.53 81.55 178.57 0.76 0.82 2023-09-29\n",
       "46 18.87 28.12 35.67 64.76 134.96 0.73 0.73 2023-09-30"
      ]
     },
     "metadata": {},
     "output_type": "display_data"
    }
   ],
   "execution_count": 113
  },
  {
   "cell_type": "code",
   "metadata": {
    "id": "FkcNALDefb8F",
    "vscode": {
     "languageId": "r"
    },
    "ExecuteTime": {
     "end_time": "2024-10-03T09:48:02.293087Z",
     "start_time": "2024-10-03T09:48:02.285614Z"
    }
   },
   "source": [
    "# Wyświetl wszystkie dane, dla których `PM10` przekracza poziom 25 lub `PM25` jest poniżej poziomu 10. Zwróć uwagę na znak logiczny (`|` - _lub_, `&` - _i_).\n",
    "\n",
    "powietrze[which(powietrze$PM10 > 25 | powietrze$PM25 < 10),]"
   ],
   "outputs": [
    {
     "data": {
      "text/plain": [
       "   PM25  PM10  NO2   NO    NOx    CO   C6H6 data      \n",
       "1  11.76 25.04 44.57 38.83 104.11 0.60 0.47 2023-08-01\n",
       "2   8.30 18.44 36.25 22.17  70.24 0.52 0.34 2023-08-02\n",
       "3   8.38 22.75 50.06 36.20 107.94 0.63 0.48 2023-08-03\n",
       "4   7.33 11.05 21.68 19.17  51.08 0.51 0.35 2023-08-06\n",
       "5   4.99 12.08 21.20 17.95  48.71 0.42 0.20 2023-08-07\n",
       "6   6.00 14.38 30.77 19.87  62.57 0.43 0.27 2023-08-08\n",
       "7   6.67 15.62 32.27 27.74  74.78 0.46 0.28 2023-08-09\n",
       "8  14.11 25.50 46.44 29.56  91.77 0.56 0.48 2023-08-11\n",
       "9  15.21 25.27 46.76 23.23  82.36 0.58 0.46 2023-08-12\n",
       "10 15.60 25.22 39.52 25.12  79.68 0.61 0.49 2023-08-13\n",
       "11 16.94 30.36 48.56 26.48  89.20 0.61 0.42 2023-08-14\n",
       "12 20.64 33.34 37.08 20.39  68.35 0.62 0.51 2023-08-15\n",
       "13 22.84 39.57 51.76 30.82  98.99 0.68 0.52 2023-08-16\n",
       "14 18.80 34.17 45.54 28.41  89.10 0.60 0.53 2023-08-17\n",
       "15 17.13 31.02 43.39 28.32  88.69 0.59 0.47 2023-08-18\n",
       "16 18.93 28.18 34.96 21.90  68.56 0.60 0.39 2023-08-19\n",
       "17 21.84 31.13 32.15 16.01  56.69 0.59 0.37 2023-08-20\n",
       "18 28.46 44.70 46.71 25.49  85.82 0.70 0.48 2023-08-21\n",
       "19 17.43 31.93 53.86 26.97  95.22 0.60 0.57 2023-08-22\n",
       "20 25.27 37.15 42.59 20.65  75.60 0.59 0.46 2023-08-23\n",
       "21 18.18 30.22 51.88 23.24  87.51 0.59 0.49 2023-08-24\n",
       "22 23.05 42.98 54.96 32.09 104.21 0.69 0.82 2023-08-25\n",
       "23 15.80 26.66 39.78 23.25  75.45 0.60 0.39 2023-08-26\n",
       "24  8.70 13.84 35.58 27.32  75.95 0.55 0.48 2023-09-02\n",
       "25 16.19 29.37 54.47 51.79 133.87 0.64 0.82 2023-09-06\n",
       "26 21.18 37.08 58.63 58.48 145.75 0.70 0.99 2023-09-07\n",
       "27 25.77 40.78 60.34 64.14 158.68 0.72 1.09 2023-09-08\n",
       "28 26.55 36.32 53.00 42.51 118.19 0.68 0.91 2023-09-09\n",
       "29 27.07 35.78 48.39 36.50 104.34 0.71 0.84 2023-09-10\n",
       "30 20.21 34.22 48.63 34.36 101.31 0.58 0.59 2023-09-11\n",
       "31 26.47 42.52 52.46 34.60 103.28 0.65 0.63 2023-09-12\n",
       "32 28.10 47.05 52.71 30.89 100.06 0.61 0.59 2023-09-13\n",
       "33  8.87 14.67 38.97 25.20  77.62 0.46 0.31 2023-09-14\n",
       "34  8.78 16.76 46.00 42.12 110.58 0.50 0.52 2023-09-15\n",
       "35 18.15 26.19 37.75 31.75  86.42 0.55 1.08 2023-09-16\n",
       "36 15.68 29.02 50.08 59.76 141.71 0.66 0.77 2023-09-18\n",
       "37  7.64 17.78 39.02 58.05 128.04 0.60 0.49 2023-09-20\n",
       "38  9.70 22.92 53.74 66.64 155.92 0.67 0.90 2023-09-21\n",
       "39 13.72 30.92 52.37 49.10 125.62 0.62 0.69 2023-09-22\n",
       "40  7.47 11.70 34.59 35.11  87.50 3.04 0.39 2023-09-24\n",
       "41 20.52 35.74 42.83 61.22 136.71 0.69 0.77 2023-09-26\n",
       "42 22.40 40.54 54.05 58.90 141.76 0.73 0.92 2023-09-27\n",
       "43 22.01 42.59 54.23 77.60 173.21 0.78 0.95 2023-09-28\n",
       "44 20.43 37.56 53.53 81.55 178.57 0.76 0.82 2023-09-29\n",
       "45 18.87 28.12 35.67 64.76 134.96 0.73 0.73 2023-09-30"
      ]
     },
     "metadata": {},
     "output_type": "display_data"
    }
   ],
   "execution_count": 114
  },
  {
   "cell_type": "code",
   "metadata": {
    "id": "7E9i6WbBfgx-",
    "vscode": {
     "languageId": "r"
    },
    "ExecuteTime": {
     "end_time": "2024-10-03T09:48:02.341255Z",
     "start_time": "2024-10-03T09:48:02.330502Z"
    }
   },
   "source": [
    "# Przyporządkuj grupy do poszczególnych pomiarów:\n",
    "\n",
    "# `L` dla `PM25` < kwantyla rzędu 1/4\n",
    "# `M` dla `PM25` >= kwantyla rzędu 2/4\n",
    "# `H` dla `PM25` >= kwantyla rzędu 3/4\n",
    "\n",
    "powietrze[which(powietrze$PM25 < quantile(powietrze$PM25, na.rm=T, probs=0.25)),\n",
    "          \"poziom_PM25\"] <- \"L\"\n",
    "powietrze[which(powietrze$PM25 >= quantile(powietrze$PM25, na.rm=T, probs=0.25)\n",
    "                & powietrze$PM25 <= quantile(powietrze$PM25, na.rm=T, probs=0.75)),\n",
    "          \"poziom_PM25\"] <- \"M\"\n",
    "powietrze[which(powietrze$PM25 > quantile(powietrze$PM25, na.rm=T, probs=0.75)),\n",
    "          \"poziom_PM25\"] <- \"H\"\n",
    "\n",
    "head(powietrze)"
   ],
   "outputs": [
    {
     "data": {
      "text/plain": [
       "  PM25  PM10  NO2   NO    NOx    CO   C6H6 data       poziom_PM25\n",
       "1 11.76 25.04 44.57 38.83 104.11 0.60 0.47 2023-08-01 M          \n",
       "2  8.30 18.44 36.25 22.17  70.24 0.52 0.34 2023-08-02 L          \n",
       "3  8.38 22.75 50.06 36.20 107.94 0.63 0.48 2023-08-03 L          \n",
       "4 10.00 24.70 47.40 38.62 106.62 0.61 0.47 2023-08-04 L          \n",
       "5 11.30 18.47 36.00 26.02  75.90 0.60 0.39 2023-08-05 L          \n",
       "6  7.33 11.05 21.68 19.17  51.08 0.51 0.35 2023-08-06 L          "
      ]
     },
     "metadata": {},
     "output_type": "display_data"
    }
   ],
   "execution_count": 115
  },
  {
   "cell_type": "code",
   "metadata": {
    "id": "yWA7O-8LfnSH",
    "vscode": {
     "languageId": "r"
    },
    "ExecuteTime": {
     "end_time": "2024-10-03T09:48:02.381445Z",
     "start_time": "2024-10-03T09:48:02.372978Z"
    }
   },
   "source": [
    "# Podobnie przyporządkuj grupy ze względu na wartość `PM10`:\n",
    "\n",
    "powietrze[which(powietrze$PM10 < quantile(powietrze$PM10, na.rm=T, probs=0.25)),\n",
    "          \"poziom_PM10\"] <- \"L\"\n",
    "powietrze[which(powietrze$PM10 >= quantile(powietrze$PM10, na.rm=T, probs=0.25)\n",
    "                & powietrze$PM10 <= quantile(powietrze$PM10, na.rm=T, probs=0.75)),\n",
    "          \"poziom_PM10\"] <- \"M\"\n",
    "powietrze[which(powietrze$PM10 > quantile(powietrze$PM10, na.rm=T, probs=0.75)),\n",
    "          \"poziom_PM10\"] <- \"H\"\n",
    "head(powietrze)"
   ],
   "outputs": [
    {
     "data": {
      "text/plain": [
       "  PM25  PM10  NO2   NO    NOx    CO   C6H6 data       poziom_PM25 poziom_PM10\n",
       "1 11.76 25.04 44.57 38.83 104.11 0.60 0.47 2023-08-01 M           M          \n",
       "2  8.30 18.44 36.25 22.17  70.24 0.52 0.34 2023-08-02 L           L          \n",
       "3  8.38 22.75 50.06 36.20 107.94 0.63 0.48 2023-08-03 L           M          \n",
       "4 10.00 24.70 47.40 38.62 106.62 0.61 0.47 2023-08-04 L           M          \n",
       "5 11.30 18.47 36.00 26.02  75.90 0.60 0.39 2023-08-05 L           L          \n",
       "6  7.33 11.05 21.68 19.17  51.08 0.51 0.35 2023-08-06 L           L          "
      ]
     },
     "metadata": {},
     "output_type": "display_data"
    }
   ],
   "execution_count": 116
  },
  {
   "cell_type": "code",
   "metadata": {
    "id": "zDmTmJ8gfqy2",
    "vscode": {
     "languageId": "r"
    },
    "ExecuteTime": {
     "end_time": "2024-10-03T09:48:02.413682Z",
     "start_time": "2024-10-03T09:48:02.406120Z"
    }
   },
   "source": [
    "# Wyświetl liczebności grup.\n",
    "\n",
    "table(powietrze$poziom_PM25, powietrze$poziom_PM10)"
   ],
   "outputs": [
    {
     "data": {
      "text/plain": [
       "   \n",
       "     H  L  M\n",
       "  H 13  0  2\n",
       "  L  0 12  3\n",
       "  M  2  3 26"
      ]
     },
     "metadata": {},
     "output_type": "display_data"
    }
   ],
   "execution_count": 117
  },
  {
   "cell_type": "code",
   "metadata": {
    "id": "g-NPn9Hwft7E",
    "vscode": {
     "languageId": "r"
    },
    "ExecuteTime": {
     "end_time": "2024-10-03T09:48:02.456Z",
     "start_time": "2024-10-03T09:48:02.446522Z"
    }
   },
   "source": [
    "# Posortuj dane wartości `PM25` od największej do najmniejszej.\n",
    "\n",
    "sort(powietrze$PM25, decreasing=TRUE)"
   ],
   "outputs": [
    {
     "data": {
      "text/plain": [
       " [1] 28.46 28.10 27.07 26.55 26.47 25.77 25.27 23.05 22.84 22.40 22.01 21.84\n",
       "[13] 21.18 20.64 20.52 20.43 20.21 18.93 18.87 18.80 18.18 18.15 17.43 17.13\n",
       "[25] 16.94 16.19 15.80 15.68 15.60 15.21 15.03 14.87 14.11 14.03 13.89 13.72\n",
       "[37] 13.65 13.12 13.00 12.51 12.33 12.27 11.95 11.84 11.76 11.70 11.30 10.26\n",
       "[49] 10.00  9.70  8.87  8.78  8.70  8.38  8.30  7.64  7.47  7.33  6.67  6.00\n",
       "[61]  4.99"
      ]
     },
     "metadata": {},
     "output_type": "display_data"
    }
   ],
   "execution_count": 118
  },
  {
   "cell_type": "code",
   "metadata": {
    "id": "zgXA86VmfxQq",
    "vscode": {
     "languageId": "r"
    },
    "ExecuteTime": {
     "end_time": "2024-10-03T09:48:02.497745Z",
     "start_time": "2024-10-03T09:48:02.489051Z"
    }
   },
   "source": [
    "# Posortuj ramkę danych wg `PM25` od największej do najmniejszej wartości.\n",
    "\n",
    "powietrze[order(powietrze$PM25, decreasing = T),]"
   ],
   "outputs": [
    {
     "data": {
      "text/plain": [
       "   PM25  PM10  NO2   NO    NOx    CO   C6H6 data       poziom_PM25 poziom_PM10\n",
       "1  28.46 44.70 46.71 25.49  85.82 0.70 0.48 2023-08-21 H           H          \n",
       "2  28.10 47.05 52.71 30.89 100.06 0.61 0.59 2023-09-13 H           H          \n",
       "3  27.07 35.78 48.39 36.50 104.34 0.71 0.84 2023-09-10 H           H          \n",
       "4  26.55 36.32 53.00 42.51 118.19 0.68 0.91 2023-09-09 H           H          \n",
       "5  26.47 42.52 52.46 34.60 103.28 0.65 0.63 2023-09-12 H           H          \n",
       "6  25.77 40.78 60.34 64.14 158.68 0.72 1.09 2023-09-08 H           H          \n",
       "7  25.27 37.15 42.59 20.65  75.60 0.59 0.46 2023-08-23 H           H          \n",
       "8  23.05 42.98 54.96 32.09 104.21 0.69 0.82 2023-08-25 H           H          \n",
       "9  22.84 39.57 51.76 30.82  98.99 0.68 0.52 2023-08-16 H           H          \n",
       "10 22.40 40.54 54.05 58.90 141.76 0.73 0.92 2023-09-27 H           H          \n",
       "11 22.01 42.59 54.23 77.60 173.21 0.78 0.95 2023-09-28 H           H          \n",
       "12 21.84 31.13 32.15 16.01  56.69 0.59 0.37 2023-08-20 H           M          \n",
       "13 21.18 37.08 58.63 58.48 145.75 0.70 0.99 2023-09-07 H           H          \n",
       "14 20.64 33.34 37.08 20.39  68.35 0.62 0.51 2023-08-15 H           M          \n",
       "15 20.52 35.74 42.83 61.22 136.71 0.69 0.77 2023-09-26 H           H          \n",
       "16 20.43 37.56 53.53 81.55 178.57 0.76 0.82 2023-09-29 M           H          \n",
       "17 20.21 34.22 48.63 34.36 101.31 0.58 0.59 2023-09-11 M           H          \n",
       "18 18.93 28.18 34.96 21.90  68.56 0.60 0.39 2023-08-19 M           M          \n",
       "19 18.87 28.12 35.67 64.76 134.96 0.73 0.73 2023-09-30 M           M          \n",
       "20 18.80 34.17 45.54 28.41  89.10 0.60 0.53 2023-08-17 M           M          \n",
       "21 18.18 30.22 51.88 23.24  87.51 0.59 0.49 2023-08-24 M           M          \n",
       "22 18.15 26.19 37.75 31.75  86.42 0.55 1.08 2023-09-16 M           M          \n",
       "23 17.43 31.93 53.86 26.97  95.22 0.60 0.57 2023-08-22 M           M          \n",
       "24 17.13 31.02 43.39 28.32  88.69 0.59 0.47 2023-08-18 M           M          \n",
       "25 16.94 30.36 48.56 26.48  89.20 0.61 0.42 2023-08-14 M           M          \n",
       "26 16.19 29.37 54.47 51.79 133.87 0.64 0.82 2023-09-06 M           M          \n",
       "27 15.80 26.66 39.78 23.25  75.45 0.60 0.39 2023-08-26 M           M          \n",
       "28 15.68 29.02 50.08 59.76 141.71 0.66 0.77 2023-09-18 M           M          \n",
       "29 15.60 25.22 39.52 25.12  79.68 0.61 0.49 2023-08-13 M           M          \n",
       "30 15.21 25.27 46.76 23.23  82.36 0.58 0.46 2023-08-12 M           M          \n",
       "⋮  ⋮     ⋮     ⋮     ⋮     ⋮      ⋮    ⋮    ⋮          ⋮           ⋮          \n",
       "32 14.87 24.68 34.70 41.03  97.62 0.52 0.55 2023-09-25 M           M          \n",
       "33 14.11 25.50 46.44 29.56  91.77 0.56 0.48 2023-08-11 M           M          \n",
       "34 14.03 22.52 39.49 46.11 110.21 0.55 0.45 2023-09-19 M           M          \n",
       "35 13.89 20.74 31.65 17.87  59.06 0.58 0.39 2023-08-27 M           M          \n",
       "36 13.72 30.92 52.37 49.10 125.62 0.62 0.69 2023-09-22 M           M          \n",
       "37 13.65 24.45 51.08 48.98 126.15 0.60 0.70 2023-09-05 M           M          \n",
       "38 13.12 19.58 41.00 37.97  97.39 0.60 0.80 2023-09-17 M           L          \n",
       "39 13.00 20.34 24.91 24.24  65.40 0.51 0.40 2023-08-30 M           M          \n",
       "40 12.51 20.93 33.74 28.63  79.54 0.58 0.38 2023-08-28 M           M          \n",
       "41 12.33 24.75 40.06 29.19  84.80 0.48 0.40 2023-09-04 M           M          \n",
       "42 12.27 18.21 32.40 27.15  74.04 0.55 0.49 2023-09-03 M           L          \n",
       "43 11.95 18.27 34.15 36.54  90.16 0.53 0.42 2023-09-23 M           L          \n",
       "44 11.84 20.14 31.63 24.70  69.46 0.44 0.35 2023-08-31 M           M          \n",
       "45 11.76 25.04 44.57 38.83 104.11 0.60 0.47 2023-08-01 M           M          \n",
       "46 11.70 20.69 40.60 24.98  78.89 0.50 0.36 2023-08-10 M           M          \n",
       "47 11.30 18.47 36.00 26.02  75.90 0.60 0.39 2023-08-05 L           L          \n",
       "48 10.26 19.42 40.29 33.73  92.01 0.50 0.43 2023-09-01 L           L          \n",
       "49 10.00 24.70 47.40 38.62 106.62 0.61 0.47 2023-08-04 L           M          \n",
       "50  9.70 22.92 53.74 66.64 155.92 0.67 0.90 2023-09-21 L           M          \n",
       "51  8.87 14.67 38.97 25.20  77.62 0.46 0.31 2023-09-14 L           L          \n",
       "52  8.78 16.76 46.00 42.12 110.58 0.50 0.52 2023-09-15 L           L          \n",
       "53  8.70 13.84 35.58 27.32  75.95 0.55 0.48 2023-09-02 L           L          \n",
       "54  8.38 22.75 50.06 36.20 107.94 0.63 0.48 2023-08-03 L           M          \n",
       "55  8.30 18.44 36.25 22.17  70.24 0.52 0.34 2023-08-02 L           L          \n",
       "56  7.64 17.78 39.02 58.05 128.04 0.60 0.49 2023-09-20 L           L          \n",
       "57  7.47 11.70 34.59 35.11  87.50 3.04 0.39 2023-09-24 L           L          \n",
       "58  7.33 11.05 21.68 19.17  51.08 0.51 0.35 2023-08-06 L           L          \n",
       "59  6.67 15.62 32.27 27.74  74.78 0.46 0.28 2023-08-09 L           L          \n",
       "60  6.00 14.38 30.77 19.87  62.57 0.43 0.27 2023-08-08 L           L          \n",
       "61  4.99 12.08 21.20 17.95  48.71 0.42 0.20 2023-08-07 L           L          "
      ]
     },
     "metadata": {},
     "output_type": "display_data"
    }
   ],
   "execution_count": 119
  },
  {
   "cell_type": "markdown",
   "metadata": {
    "id": "cysBZuZ8f10E"
   },
   "source": [
    "Wykorzystaj pakiet `dplyr` oraz operator `%>%` i wykonaj następujące czynności:\n",
    "\n",
    "- ogranicz wartości do tych z miesiąca sierpnia,\n",
    "- ukryj kolumny `poziom_pm25` oraz `poziom_pm10`,\n",
    "- wyznacz dni tygodnia,\n",
    "- pogrupuj po dniu tygodnia\n",
    "- wyświetl zestawienia wartości średnich `PM25` oraz `PM10` dla każdego tygodnia,\n",
    "- posortuj zestawienie wg `PM25` od największej do najmniejszej wartości."
   ]
  },
  {
   "cell_type": "code",
   "metadata": {
    "id": "stHdUN_If4jk",
    "vscode": {
     "languageId": "r"
    },
    "ExecuteTime": {
     "end_time": "2024-10-03T09:48:02.550422Z",
     "start_time": "2024-10-03T09:48:02.525372Z"
    }
   },
   "source": [
    "library(dplyr)\n",
    "powietrze %>% #weź dane ze zbioru powietrze\n",
    "  filter(month(data) == 8) %>% #pozostaw tylko dane z sierpnia\n",
    "  select(-(poziom_PM25:poziom_PM10)) %>% #ukryj kolumny poziom_PM25 oraz poziom_PM10\n",
    "  mutate(dzien_tyg=weekdays(data)) %>% #wyznacz dni tygodnia\n",
    "  group_by(dzien_tyg) %>% #pogrupuj po dniu tygodnia\n",
    "  summarize(srednie_PM25 = mean(PM25), srednie_PM10 = mean(PM10)) %>% #wyświetl\n",
    "                                    #wartości średnie dla każdego dnia tygodnia\n",
    "  arrange(desc(srednie_PM25)) #posortuj malejąco wg PM25"
   ],
   "outputs": [
    {
     "data": {
      "text/plain": [
       "  dzien_tyg srednie_PM25 srednie_PM10\n",
       "1 Friday    16.0725      31.0500     \n",
       "2 Monday    15.7250      27.0175     \n",
       "3 Saturday  15.3100      24.6450     \n",
       "4 Wednesday 15.2160      26.2240     \n",
       "5 Sunday    14.6650      22.0350     \n",
       "6 Tuesday   14.1720      25.9220     \n",
       "7 Thursday  13.7800      25.5940     "
      ]
     },
     "metadata": {},
     "output_type": "display_data"
    }
   ],
   "execution_count": 120
  },
  {
   "cell_type": "code",
   "metadata": {
    "id": "S05ck7C8f7mF",
    "vscode": {
     "languageId": "r"
    },
    "ExecuteTime": {
     "end_time": "2024-10-03T09:48:02.636171Z",
     "start_time": "2024-10-03T09:48:02.574644Z"
    }
   },
   "source": [
    "# Wykorzystując bibliotekę `reshape2` zapisz pomiar każdej wartości w osobnym wierszu tabeli,\n",
    "# a następnie zamień tabelę, gdzie w jednym wierszu będą wyświetlone pomiary wszystkich wartości z 1 dnia.\n",
    "\n",
    "library(reshape2)\n",
    "powietrze_waska <- melt(powietrze, id=c(\"data\"),\n",
    "                        measure.vars=c(\"PM25\", \"PM10\", \"NO2\", \"NO\", \"NOx\", \"CO\",\"C6H6\"))\n",
    "powietrze_waska"
   ],
   "outputs": [
    {
     "name": "stderr",
     "output_type": "stream",
     "text": [
      "\n",
      "Attaching package: ‘reshape2’\n",
      "\n",
      "\n",
      "The following object is masked from ‘package:tidyr’:\n",
      "\n",
      "    smiths\n",
      "\n",
      "\n"
     ]
    },
    {
     "data": {
      "text/plain": [
       "    data       variable value\n",
       "1   2023-08-01 PM25     11.76\n",
       "2   2023-08-02 PM25      8.30\n",
       "3   2023-08-03 PM25      8.38\n",
       "4   2023-08-04 PM25     10.00\n",
       "5   2023-08-05 PM25     11.30\n",
       "6   2023-08-06 PM25      7.33\n",
       "7   2023-08-07 PM25      4.99\n",
       "8   2023-08-08 PM25      6.00\n",
       "9   2023-08-09 PM25      6.67\n",
       "10  2023-08-10 PM25     11.70\n",
       "11  2023-08-11 PM25     14.11\n",
       "12  2023-08-12 PM25     15.21\n",
       "13  2023-08-13 PM25     15.60\n",
       "14  2023-08-14 PM25     16.94\n",
       "15  2023-08-15 PM25     20.64\n",
       "16  2023-08-16 PM25     22.84\n",
       "17  2023-08-17 PM25     18.80\n",
       "18  2023-08-18 PM25     17.13\n",
       "19  2023-08-19 PM25     18.93\n",
       "20  2023-08-20 PM25     21.84\n",
       "21  2023-08-21 PM25     28.46\n",
       "22  2023-08-22 PM25     17.43\n",
       "23  2023-08-23 PM25     25.27\n",
       "24  2023-08-24 PM25     18.18\n",
       "25  2023-08-25 PM25     23.05\n",
       "26  2023-08-26 PM25     15.80\n",
       "27  2023-08-27 PM25     13.89\n",
       "28  2023-08-28 PM25     12.51\n",
       "29  2023-08-29 PM25     15.03\n",
       "30  2023-08-30 PM25     13.00\n",
       "⋮   ⋮          ⋮        ⋮    \n",
       "398 2023-09-01 C6H6     0.43 \n",
       "399 2023-09-02 C6H6     0.48 \n",
       "400 2023-09-03 C6H6     0.49 \n",
       "401 2023-09-04 C6H6     0.40 \n",
       "402 2023-09-05 C6H6     0.70 \n",
       "403 2023-09-06 C6H6     0.82 \n",
       "404 2023-09-07 C6H6     0.99 \n",
       "405 2023-09-08 C6H6     1.09 \n",
       "406 2023-09-09 C6H6     0.91 \n",
       "407 2023-09-10 C6H6     0.84 \n",
       "408 2023-09-11 C6H6     0.59 \n",
       "409 2023-09-12 C6H6     0.63 \n",
       "410 2023-09-13 C6H6     0.59 \n",
       "411 2023-09-14 C6H6     0.31 \n",
       "412 2023-09-15 C6H6     0.52 \n",
       "413 2023-09-16 C6H6     1.08 \n",
       "414 2023-09-17 C6H6     0.80 \n",
       "415 2023-09-18 C6H6     0.77 \n",
       "416 2023-09-19 C6H6     0.45 \n",
       "417 2023-09-20 C6H6     0.49 \n",
       "418 2023-09-21 C6H6     0.90 \n",
       "419 2023-09-22 C6H6     0.69 \n",
       "420 2023-09-23 C6H6     0.42 \n",
       "421 2023-09-24 C6H6     0.39 \n",
       "422 2023-09-25 C6H6     0.55 \n",
       "423 2023-09-26 C6H6     0.77 \n",
       "424 2023-09-27 C6H6     0.92 \n",
       "425 2023-09-28 C6H6     0.95 \n",
       "426 2023-09-29 C6H6     0.82 \n",
       "427 2023-09-30 C6H6     0.73 "
      ]
     },
     "metadata": {},
     "output_type": "display_data"
    }
   ],
   "execution_count": 121
  },
  {
   "cell_type": "code",
   "metadata": {
    "vscode": {
     "languageId": "r"
    },
    "ExecuteTime": {
     "end_time": "2024-10-03T09:48:02.683636Z",
     "start_time": "2024-10-03T09:48:02.672687Z"
    }
   },
   "source": [
    "dcast(powietrze_waska, data ~ variable)"
   ],
   "outputs": [
    {
     "data": {
      "text/plain": [
       "   data       PM25  PM10  NO2   NO    NOx    CO   C6H6\n",
       "1  2023-08-01 11.76 25.04 44.57 38.83 104.11 0.60 0.47\n",
       "2  2023-08-02  8.30 18.44 36.25 22.17  70.24 0.52 0.34\n",
       "3  2023-08-03  8.38 22.75 50.06 36.20 107.94 0.63 0.48\n",
       "4  2023-08-04 10.00 24.70 47.40 38.62 106.62 0.61 0.47\n",
       "5  2023-08-05 11.30 18.47 36.00 26.02  75.90 0.60 0.39\n",
       "6  2023-08-06  7.33 11.05 21.68 19.17  51.08 0.51 0.35\n",
       "7  2023-08-07  4.99 12.08 21.20 17.95  48.71 0.42 0.20\n",
       "8  2023-08-08  6.00 14.38 30.77 19.87  62.57 0.43 0.27\n",
       "9  2023-08-09  6.67 15.62 32.27 27.74  74.78 0.46 0.28\n",
       "10 2023-08-10 11.70 20.69 40.60 24.98  78.89 0.50 0.36\n",
       "11 2023-08-11 14.11 25.50 46.44 29.56  91.77 0.56 0.48\n",
       "12 2023-08-12 15.21 25.27 46.76 23.23  82.36 0.58 0.46\n",
       "13 2023-08-13 15.60 25.22 39.52 25.12  79.68 0.61 0.49\n",
       "14 2023-08-14 16.94 30.36 48.56 26.48  89.20 0.61 0.42\n",
       "15 2023-08-15 20.64 33.34 37.08 20.39  68.35 0.62 0.51\n",
       "16 2023-08-16 22.84 39.57 51.76 30.82  98.99 0.68 0.52\n",
       "17 2023-08-17 18.80 34.17 45.54 28.41  89.10 0.60 0.53\n",
       "18 2023-08-18 17.13 31.02 43.39 28.32  88.69 0.59 0.47\n",
       "19 2023-08-19 18.93 28.18 34.96 21.90  68.56 0.60 0.39\n",
       "20 2023-08-20 21.84 31.13 32.15 16.01  56.69 0.59 0.37\n",
       "21 2023-08-21 28.46 44.70 46.71 25.49  85.82 0.70 0.48\n",
       "22 2023-08-22 17.43 31.93 53.86 26.97  95.22 0.60 0.57\n",
       "23 2023-08-23 25.27 37.15 42.59 20.65  75.60 0.59 0.46\n",
       "24 2023-08-24 18.18 30.22 51.88 23.24  87.51 0.59 0.49\n",
       "25 2023-08-25 23.05 42.98 54.96 32.09 104.21 0.69 0.82\n",
       "26 2023-08-26 15.80 26.66 39.78 23.25  75.45 0.60 0.39\n",
       "27 2023-08-27 13.89 20.74 31.65 17.87  59.06 0.58 0.39\n",
       "28 2023-08-28 12.51 20.93 33.74 28.63  79.54 0.58 0.38\n",
       "29 2023-08-29 15.03 24.92 35.63 34.48  88.49 0.62 0.48\n",
       "30 2023-08-30 13.00 20.34 24.91 24.24  65.40 0.51 0.40\n",
       "⋮  ⋮          ⋮     ⋮     ⋮     ⋮     ⋮      ⋮    ⋮   \n",
       "32 2023-09-01 10.26 19.42 40.29 33.73  92.01 0.50 0.43\n",
       "33 2023-09-02  8.70 13.84 35.58 27.32  75.95 0.55 0.48\n",
       "34 2023-09-03 12.27 18.21 32.40 27.15  74.04 0.55 0.49\n",
       "35 2023-09-04 12.33 24.75 40.06 29.19  84.80 0.48 0.40\n",
       "36 2023-09-05 13.65 24.45 51.08 48.98 126.15 0.60 0.70\n",
       "37 2023-09-06 16.19 29.37 54.47 51.79 133.87 0.64 0.82\n",
       "38 2023-09-07 21.18 37.08 58.63 58.48 145.75 0.70 0.99\n",
       "39 2023-09-08 25.77 40.78 60.34 64.14 158.68 0.72 1.09\n",
       "40 2023-09-09 26.55 36.32 53.00 42.51 118.19 0.68 0.91\n",
       "41 2023-09-10 27.07 35.78 48.39 36.50 104.34 0.71 0.84\n",
       "42 2023-09-11 20.21 34.22 48.63 34.36 101.31 0.58 0.59\n",
       "43 2023-09-12 26.47 42.52 52.46 34.60 103.28 0.65 0.63\n",
       "44 2023-09-13 28.10 47.05 52.71 30.89 100.06 0.61 0.59\n",
       "45 2023-09-14  8.87 14.67 38.97 25.20  77.62 0.46 0.31\n",
       "46 2023-09-15  8.78 16.76 46.00 42.12 110.58 0.50 0.52\n",
       "47 2023-09-16 18.15 26.19 37.75 31.75  86.42 0.55 1.08\n",
       "48 2023-09-17 13.12 19.58 41.00 37.97  97.39 0.60 0.80\n",
       "49 2023-09-18 15.68 29.02 50.08 59.76 141.71 0.66 0.77\n",
       "50 2023-09-19 14.03 22.52 39.49 46.11 110.21 0.55 0.45\n",
       "51 2023-09-20  7.64 17.78 39.02 58.05 128.04 0.60 0.49\n",
       "52 2023-09-21  9.70 22.92 53.74 66.64 155.92 0.67 0.90\n",
       "53 2023-09-22 13.72 30.92 52.37 49.10 125.62 0.62 0.69\n",
       "54 2023-09-23 11.95 18.27 34.15 36.54  90.16 0.53 0.42\n",
       "55 2023-09-24  7.47 11.70 34.59 35.11  87.50 3.04 0.39\n",
       "56 2023-09-25 14.87 24.68 34.70 41.03  97.62 0.52 0.55\n",
       "57 2023-09-26 20.52 35.74 42.83 61.22 136.71 0.69 0.77\n",
       "58 2023-09-27 22.40 40.54 54.05 58.90 141.76 0.73 0.92\n",
       "59 2023-09-28 22.01 42.59 54.23 77.60 173.21 0.78 0.95\n",
       "60 2023-09-29 20.43 37.56 53.53 81.55 178.57 0.76 0.82\n",
       "61 2023-09-30 18.87 28.12 35.67 64.76 134.96 0.73 0.73"
      ]
     },
     "metadata": {},
     "output_type": "display_data"
    }
   ],
   "execution_count": 122
  },
  {
   "cell_type": "markdown",
   "metadata": {
    "id": "92PStB33gBLK"
   },
   "source": [
    "## Zadania"
   ]
  },
  {
   "cell_type": "markdown",
   "metadata": {},
   "source": [
    "1. Wczytaj dane pomiarowe z pliku `gios-pjp-data1.csv` i zapisz je jako obiekt `tibble`."
   ]
  },
  {
   "cell_type": "code",
   "metadata": {
    "vscode": {
     "languageId": "r"
    },
    "ExecuteTime": {
     "end_time": "2024-10-03T09:48:02.736355Z",
     "start_time": "2024-10-03T09:48:02.708089Z"
    }
   },
   "source": [
    "df <- read_csv(\"dane/gios-pjp-data1.csv\", show_col_types = FALSE)\n",
    "names(df)[2:8] <- c(\"PM25\", \"PM10\", \"NO2\", \"NO\", \"NOx\", \"CO\", \"C6H6\")\n",
    "df$date <- date(df$Data)\n",
    "df <- df[-1]\n",
    "head(df)"
   ],
   "outputs": [
    {
     "name": "stderr",
     "output_type": "stream",
     "text": [
      "Warning message:\n",
      "“\u001B[1m\u001B[22mOne or more parsing issues, call `problems()` on your data frame for details,\n",
      "e.g.:\n",
      "  dat <- vroom(...)\n",
      "  problems(dat)”\n"
     ]
    },
    {
     "data": {
      "text/plain": [
       "  PM25 PM10 NO2  NO   NOx   CO  C6H6 date      \n",
       "1 12.3 25.7 30.4 10.0  45.7 0.5 0.3  2023-08-01\n",
       "2 14.0 27.4 31.9 23.4  67.7 0.5 0.4  2023-08-01\n",
       "3 14.0 25.3 28.5 14.3  50.5 0.5 0.4  2023-08-01\n",
       "4 14.0 29.3 23.4 27.7  65.8 0.5 0.4  2023-08-01\n",
       "5 14.9 30.2 27.8 51.4 106.7 0.5 0.5  2023-08-01\n",
       "6 17.2 39.1 42.2 85.5 173.2 0.7 0.7  2023-08-01"
      ]
     },
     "metadata": {},
     "output_type": "display_data"
    }
   ],
   "execution_count": 123
  },
  {
   "cell_type": "code",
   "metadata": {
    "vscode": {
     "languageId": "r"
    },
    "ExecuteTime": {
     "end_time": "2024-10-03T09:48:02.801753Z",
     "start_time": "2024-10-03T09:48:02.782161Z"
    }
   },
   "source": [
    "tail(df)"
   ],
   "outputs": [
    {
     "data": {
      "text/plain": [
       "  PM25 PM10 NO2  NO   NOx   CO  C6H6 date      \n",
       "1  8.4 19.3 57.5 43.8 124.7 0.6 0.5  2023-08-31\n",
       "2 10.3 22.0 52.8 50.9 130.9 0.8 0.8  2023-08-31\n",
       "3 10.1 17.8 40.4 31.0  88.0 0.6 0.7  2023-08-31\n",
       "4  9.4 16.5 37.7 25.6  77.0 0.5 0.6  2023-08-31\n",
       "5 10.0 17.5 38.3 27.2  80.0 0.5 0.5  2023-08-31\n",
       "6   NA   NA   NA   NA    NA  NA  NA  2023-09-01"
      ]
     },
     "metadata": {},
     "output_type": "display_data"
    }
   ],
   "execution_count": 124
  },
  {
   "cell_type": "code",
   "metadata": {
    "vscode": {
     "languageId": "r"
    },
    "ExecuteTime": {
     "end_time": "2024-10-03T09:48:02.829746Z",
     "start_time": "2024-10-03T09:48:02.820923Z"
    }
   },
   "source": [
    "df <- df[-nrow(df), ]\n",
    "tail(df)"
   ],
   "outputs": [
    {
     "data": {
      "text/plain": [
       "  PM25 PM10 NO2  NO   NOx   CO  C6H6 date      \n",
       "1  7.9 16.2 42.2 23.2  77.7 0.5 0.4  2023-08-31\n",
       "2  8.4 19.3 57.5 43.8 124.7 0.6 0.5  2023-08-31\n",
       "3 10.3 22.0 52.8 50.9 130.9 0.8 0.8  2023-08-31\n",
       "4 10.1 17.8 40.4 31.0  88.0 0.6 0.7  2023-08-31\n",
       "5  9.4 16.5 37.7 25.6  77.0 0.5 0.6  2023-08-31\n",
       "6 10.0 17.5 38.3 27.2  80.0 0.5 0.5  2023-08-31"
      ]
     },
     "metadata": {},
     "output_type": "display_data"
    }
   ],
   "execution_count": 125
  },
  {
   "cell_type": "markdown",
   "metadata": {},
   "source": [
    "2. Utwórz nową ramkę danych, w której zapiszesz wartości średnie dobowe pomiarów."
   ]
  },
  {
   "cell_type": "code",
   "metadata": {
    "vscode": {
     "languageId": "r"
    },
    "ExecuteTime": {
     "end_time": "2024-10-03T09:48:02.875817Z",
     "start_time": "2024-10-03T09:48:02.859020Z"
    }
   },
   "source": [
    "# df.groupby(date).mean()\n",
    "df_means <- df %>%\n",
    "                group_by(date) %>%\n",
    "                summarise(across(everything(), \\(x) mean(x, na.rm=TRUE)))\n",
    "\n",
    "head(df_means)"
   ],
   "outputs": [
    {
     "data": {
      "text/plain": [
       "  date       PM25      PM10     NO2      NO       NOx       CO        C6H6     \n",
       "1 2023-08-01 11.760870 25.04348 44.57391 38.83478 104.10870 0.5956522 0.4652174\n",
       "2 2023-08-02  8.295833 18.43750 36.24583 22.17083  70.24167 0.5208333 0.3375000\n",
       "3 2023-08-03  8.383333 22.74583 50.06087 36.19583 107.93913 0.6347826 0.4782609\n",
       "4 2023-08-04 10.000000 24.69583 47.40000 38.62500 106.61667 0.6125000 0.4708333\n",
       "5 2023-08-05 11.295833 18.46667 36.00000 26.02500  75.90417 0.6041667 0.3863636\n",
       "6 2023-08-06  7.333333 11.04583 21.67917 19.16667  51.07500 0.5125000 0.3500000"
      ]
     },
     "metadata": {},
     "output_type": "display_data"
    }
   ],
   "execution_count": 126
  },
  {
   "cell_type": "markdown",
   "metadata": {},
   "source": [
    "3. Na nowych danych oblicz wartość średnią dla zmiennej NO2, wyłącznie dla wybranego dnia tygodnia."
   ]
  },
  {
   "cell_type": "code",
   "metadata": {
    "vscode": {
     "languageId": "r"
    },
    "ExecuteTime": {
     "end_time": "2024-10-03T09:48:02.955003Z",
     "start_time": "2024-10-03T09:48:02.946319Z"
    }
   },
   "source": [
    "dayoftheweek <- \"Wednesday\"\n",
    "df_means %>%\n",
    "   filter(weekdays(date) == dayoftheweek) %>%\n",
    "   summarize(mean(NO2))"
   ],
   "outputs": [
    {
     "data": {
      "text/plain": [
       "  mean(NO2)\n",
       "1 37.55682 "
      ]
     },
     "metadata": {},
     "output_type": "display_data"
    }
   ],
   "execution_count": 127
  },
  {
   "cell_type": "code",
   "metadata": {
    "vscode": {
     "languageId": "r"
    },
    "ExecuteTime": {
     "end_time": "2024-10-03T09:48:03.070065Z",
     "start_time": "2024-10-03T09:48:03.059470Z"
    }
   },
   "source": [
    "df_means$weekday <- weekdays(df_means$date)\n",
    "custom_key <- c(\"Monday\", \"Tuesday\", \"Wednesday\", \"Thursday\", \"Friday\", \"Saturday\", \"Sunday\")\n",
    "df_means %>%\n",
    "    group_by(weekday) %>%\n",
    "    summarise(mean(NO2)) %>%\n",
    "    arrange(match(weekday, custom_key)) "
   ],
   "outputs": [
    {
     "data": {
      "text/plain": [
       "  weekday   mean(NO2)\n",
       "1 Monday    37.55249 \n",
       "2 Tuesday   40.38199 \n",
       "3 Wednesday 37.55682 \n",
       "4 Thursday  43.94217 \n",
       "5 Friday    48.04778 \n",
       "6 Saturday  39.37604 \n",
       "7 Sunday    31.24810 "
      ]
     },
     "metadata": {},
     "output_type": "display_data"
    }
   ],
   "execution_count": 128
  },
  {
   "cell_type": "code",
   "metadata": {
    "vscode": {
     "languageId": "r"
    },
    "ExecuteTime": {
     "end_time": "2024-10-03T09:48:03.153426Z",
     "start_time": "2024-10-03T09:48:03.148525Z"
    }
   },
   "source": [
    "# EOF"
   ],
   "outputs": [],
   "execution_count": 129
  }
 ],
 "metadata": {
  "colab": {
   "provenance": []
  },
  "kernelspec": {
   "display_name": "R",
   "language": "R",
   "name": "ir"
  },
  "language_info": {
   "codemirror_mode": "r",
   "file_extension": ".r",
   "mimetype": "text/x-r-source",
   "name": "R",
   "pygments_lexer": "r",
   "version": "4.4.1"
  }
 },
 "nbformat": 4,
 "nbformat_minor": 4
}
