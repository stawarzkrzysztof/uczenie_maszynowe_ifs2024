{
 "cells": [
  {
   "cell_type": "markdown",
   "id": "119c6ee9",
   "metadata": {},
   "source": [
    "# Ulepszanie wydajności klasyfikatorów\n",
    "\n",
    "Wydajność modeli można zwiększać poprzez:\n",
    "\n",
    "- dostrajanie parametrów pojedynczego modelu w celu jego ulepszenia. Do automatycznego dostrajania parametrów modelu w R można użyć pakietu `caret`. Pełna lista metod (algorytmów uczenia maszynowego) i ich dostosowywalnych parametrów znajduje się na [stronie internetowej](http://topepo.github.io/caret/available-models.html).\n",
    "\n",
    "- łączenie ze sobą kilku słabych modeli w celu utworzenia lepszej jednostki. Jest to tak zwane uczenie zespołowe (ang. *ensemble learning*), któremu poświęcone są dzisiejsze ćwiczenia.\n",
    "\n",
    "## Metody zespołowe\n",
    "\n",
    "Podstawowe założenie: zaangażowanie zespołu różnych ekspertów (modeli) we wspólne rozwiązywanie problemu podniesie wydajność uczenia.\n",
    "\n",
    "### Bagging\n",
    "\n",
    "Jedna z najpopularniejszych technik uczenia zespołowego. Nazwa pochodzi od *bootstrap aggregating* - technika bagging wykorzystuje próbkowanie metodą bootstrap w funkcji alokacji do generowania danych przypisywanych do każdego z modeli w zespole. Zespoły w agregacji bootstrap zazwyczaj składają się z jednorodnych klasyfikatorów, które są trenowane równolegle i niezależnie od siebie.\n",
    "Wśród metod bagging jedną z najpopularniejszych są *lasy losowe* (ang. *random forest*), składające się z wielu klasyfikatorów drzew decyzyjnych. Funkcja alokacji lasów łączy próbkowanie metodą bootstrap z losowym wybieraniem cech do generowania danych przydzielanych każdemu z klasyfikatorów w zespole. Lasy losowe nadają się do obsługiwania bardzo szerokich zbiorów danych.\n",
    "\n",
    "### Boosting\n",
    "\n",
    "Zespoły Wzmacniające (ang. *boosting*) są również jednorodnymi zbiorami podstawowych modeli. W odróżnieniu od agregacji bootstrap, we wzmacnianiu podstawowe modele są trenowane sekwencyjnie. Każdy kolejny model w sekwencji próbuje osiągnąć większą wydajność od poprzedniego modelu, ucząc się na błędach poprzednika. Następnie przeprowadzane jest wtórne próbkowanie danych treningowych tak, że przykładom dla których były nieprawidłowe predykcje, otrzymują większą wagę.\n",
    "\n",
    "Proces wtórnego próbkowania, trenowania, oceniania i punktowania jest powtarzany do każdego modelu w sekwencji, dopóki wszystkie modele nie zostaną wytrenowane.\n",
    "\n",
    "### Stacking\n",
    "\n",
    "Stacking, czyli kontaminacja modeli, różni się od poprzednich dwóch tym, że zawiera tu zwykle różnorodne modele podstawowe. Przykładowo może składać się z modelu kNN, modelu regresji logistycznej oraz naiwnego modelu Bayesa. Kontaminacja modeli jest podobna do agregacji bootstrap, tyle że funkcja kombinacji jest tutaj niedeterministyczna (nie przebiega zgodnie z predefiniowanym wzorcem czy zbiorem reguł).\n",
    "\n",
    "Zazponaj się z materiałami zamieszczonymi na stronie [RPubs](https://rpubs.com/mmazurek/346331), sekcje:\n",
    "\n",
    "- Klasyfikatory złożone\n",
    "\n",
    "- Agregacja bootstrapowa (bagging - bootstrap aggregation)\n",
    "\n",
    "- Lasy losowe\n",
    "\n",
    "- Boosting\n",
    "  - Adaboost - adaptive boosting\n",
    "\n",
    "Następnie wykonaj poniższe zadania.\n",
    "\n",
    "## Zadania\n",
    "\n",
    "1.\tPobierz i wczytaj w RStudio plik z danymi `Movie_classification.csv`. Celem zadania jest przewidzenie, czy dany film otrzyma Oskara czy też nie (zmienna dychotomiczna `Start_Tech_Oskar`)."
   ]
  },
  {
   "cell_type": "code",
   "execution_count": 1,
   "id": "282de381",
   "metadata": {
    "vscode": {
     "languageId": "r"
    }
   },
   "outputs": [
    {
     "name": "stderr",
     "output_type": "stream",
     "text": [
      "── \u001b[1mAttaching core tidyverse packages\u001b[22m ──────────────────────── tidyverse 2.0.0 ──\n",
      "\u001b[32m✔\u001b[39m \u001b[34mdplyr    \u001b[39m 1.1.4     \u001b[32m✔\u001b[39m \u001b[34mreadr    \u001b[39m 2.1.5\n",
      "\u001b[32m✔\u001b[39m \u001b[34mforcats  \u001b[39m 1.0.0     \u001b[32m✔\u001b[39m \u001b[34mstringr  \u001b[39m 1.5.1\n",
      "\u001b[32m✔\u001b[39m \u001b[34mggplot2  \u001b[39m 3.5.1     \u001b[32m✔\u001b[39m \u001b[34mtibble   \u001b[39m 3.2.1\n",
      "\u001b[32m✔\u001b[39m \u001b[34mlubridate\u001b[39m 1.9.3     \u001b[32m✔\u001b[39m \u001b[34mtidyr    \u001b[39m 1.3.1\n",
      "\u001b[32m✔\u001b[39m \u001b[34mpurrr    \u001b[39m 1.0.2     \n",
      "── \u001b[1mConflicts\u001b[22m ────────────────────────────────────────── tidyverse_conflicts() ──\n",
      "\u001b[31m✖\u001b[39m \u001b[34mdplyr\u001b[39m::\u001b[32mfilter()\u001b[39m masks \u001b[34mstats\u001b[39m::filter()\n",
      "\u001b[31m✖\u001b[39m \u001b[34mdplyr\u001b[39m::\u001b[32mlag()\u001b[39m    masks \u001b[34mstats\u001b[39m::lag()\n",
      "\u001b[36mℹ\u001b[39m Use the conflicted package (\u001b[3m\u001b[34m<http://conflicted.r-lib.org/>\u001b[39m\u001b[23m) to force all conflicts to become errors\n"
     ]
    }
   ],
   "source": [
    "library(tidyverse)\n",
    "options(jupyter.rich_display = FALSE,\n",
    "        repr.plot.width = 15,\n",
    "        repr.plot.height = 8)"
   ]
  },
  {
   "cell_type": "code",
   "execution_count": 2,
   "id": "d7c5c42b",
   "metadata": {
    "vscode": {
     "languageId": "r"
    }
   },
   "outputs": [
    {
     "name": "stderr",
     "output_type": "stream",
     "text": [
      "\u001b[1mRows: \u001b[22m\u001b[34m506\u001b[39m \u001b[1mColumns: \u001b[22m\u001b[34m19\u001b[39m\n",
      "\u001b[36m──\u001b[39m \u001b[1mColumn specification\u001b[22m \u001b[36m────────────────────────────────────────────────────────\u001b[39m\n",
      "\u001b[1mDelimiter:\u001b[22m \",\"\n",
      "\u001b[31mchr\u001b[39m  (2): 3D_available, Genre\n",
      "\u001b[32mdbl\u001b[39m (17): Marketing expense, Production expense, Multiplex coverage, Budget,...\n",
      "\n",
      "\u001b[36mℹ\u001b[39m Use `spec()` to retrieve the full column specification for this data.\n",
      "\u001b[36mℹ\u001b[39m Specify the column types or set `show_col_types = FALSE` to quiet this message.\n"
     ]
    }
   ],
   "source": [
    "df <- read_csv(\"data/Movie_classification.csv\")\n",
    "names(df) <- gsub(\" \", \"_\", names(df))\n",
    "names(df)[names(df) == '3D_available'] <- 'is_3D_available'"
   ]
  },
  {
   "cell_type": "markdown",
   "id": "bedad5b3",
   "metadata": {},
   "source": [
    "2.\tPrzyglądnij się danym i przygotuj je do dalszej analizy:\n",
    "\n",
    " - braki danych zastąp wartością średnią dla danego atrybutu, \n",
    " - za pomocą funkcji `sample.split` (z pakietu `caTools`) oraz `subset` podziel dane na zbiór treningowy i testowy."
   ]
  },
  {
   "cell_type": "code",
   "execution_count": 3,
   "id": "13d143e5",
   "metadata": {
    "vscode": {
     "languageId": "r"
    }
   },
   "outputs": [
    {
     "data": {
      "text/plain": [
       " [1] \"Marketing_expense\"   \"Production_expense\"  \"Multiplex_coverage\" \n",
       " [4] \"Budget\"              \"Movie_length\"        \"Lead__Actor_Rating\" \n",
       " [7] \"Lead_Actress_rating\" \"Director_rating\"     \"Producer_rating\"    \n",
       "[10] \"Critic_rating\"       \"Trailer_views\"       \"is_3D_available\"    \n",
       "[13] \"Time_taken\"          \"Twitter_hastags\"     \"Genre\"              \n",
       "[16] \"Avg_age_actors\"      \"Num_multiplex\"       \"Collection\"         \n",
       "[19] \"Start_Tech_Oscar\"   "
      ]
     },
     "metadata": {},
     "output_type": "display_data"
    }
   ],
   "source": [
    "names(df)"
   ]
  },
  {
   "cell_type": "code",
   "execution_count": 4,
   "id": "171d5e6a",
   "metadata": {
    "vscode": {
     "languageId": "r"
    }
   },
   "outputs": [
    {
     "data": {
      "text/plain": [
       "[1] 506  19"
      ]
     },
     "metadata": {},
     "output_type": "display_data"
    }
   ],
   "source": [
    "dim(df)"
   ]
  },
  {
   "cell_type": "code",
   "execution_count": 5,
   "id": "01265b56",
   "metadata": {
    "vscode": {
     "languageId": "r"
    }
   },
   "outputs": [
    {
     "name": "stdout",
     "output_type": "stream",
     "text": [
      "Rows: 506\n",
      "Columns: 19\n",
      "$ Marketing_expense   \u001b[3m\u001b[90m<dbl>\u001b[39m\u001b[23m 20.1264, 20.5462, 20.5458, 20.6474, 21.3810, 20.59…\n",
      "$ Production_expense  \u001b[3m\u001b[90m<dbl>\u001b[39m\u001b[23m 59.62, 69.14, 69.14, 59.36, 59.36, 59.36, 70.74, 7…\n",
      "$ Multiplex_coverage  \u001b[3m\u001b[90m<dbl>\u001b[39m\u001b[23m 0.462, 0.531, 0.531, 0.542, 0.542, 0.542, 0.476, 0…\n",
      "$ Budget              \u001b[3m\u001b[90m<dbl>\u001b[39m\u001b[23m 36524.12, 35668.65, 39912.68, 38873.89, 39701.58, …\n",
      "$ Movie_length        \u001b[3m\u001b[90m<dbl>\u001b[39m\u001b[23m 138.7, 152.4, 134.6, 119.3, 127.7, 132.2, 140.1, 1…\n",
      "$ Lead__Actor_Rating  \u001b[3m\u001b[90m<dbl>\u001b[39m\u001b[23m 7.825, 7.505, 7.485, 6.895, 6.920, 6.890, 7.065, 6…\n",
      "$ Lead_Actress_rating \u001b[3m\u001b[90m<dbl>\u001b[39m\u001b[23m 8.095, 7.650, 7.570, 7.035, 7.070, 7.100, 7.265, 7…\n",
      "$ Director_rating     \u001b[3m\u001b[90m<dbl>\u001b[39m\u001b[23m 7.910, 7.440, 7.495, 6.920, 6.815, 6.885, 7.150, 6…\n",
      "$ Producer_rating     \u001b[3m\u001b[90m<dbl>\u001b[39m\u001b[23m 7.995, 7.470, 7.515, 7.020, 7.070, 7.005, 7.400, 7…\n",
      "$ Critic_rating       \u001b[3m\u001b[90m<dbl>\u001b[39m\u001b[23m 7.94, 7.44, 7.44, 8.26, 8.26, 7.26, 8.96, 7.96, 7.…\n",
      "$ Trailer_views       \u001b[3m\u001b[90m<dbl>\u001b[39m\u001b[23m 527367, 494055, 547051, 516279, 531448, 498425, 45…\n",
      "$ is_3D_available     \u001b[3m\u001b[90m<chr>\u001b[39m\u001b[23m \"YES\", \"NO\", \"NO\", \"YES\", \"NO\", \"YES\", \"YES\", \"NO\"…\n",
      "$ Time_taken          \u001b[3m\u001b[90m<dbl>\u001b[39m\u001b[23m 109.60, 146.64, 147.88, 185.36, 176.48, 143.48, 13…\n",
      "$ Twitter_hastags     \u001b[3m\u001b[90m<dbl>\u001b[39m\u001b[23m 223.840, 243.456, 2022.400, 225.344, 225.792, 284.…\n",
      "$ Genre               \u001b[3m\u001b[90m<chr>\u001b[39m\u001b[23m \"Thriller\", \"Drama\", \"Comedy\", \"Drama\", \"Drama\", \"…\n",
      "$ Avg_age_actors      \u001b[3m\u001b[90m<dbl>\u001b[39m\u001b[23m 23, 42, 38, 45, 55, 53, 41, 56, 55, 45, 29, 23, 57…\n",
      "$ Num_multiplex       \u001b[3m\u001b[90m<dbl>\u001b[39m\u001b[23m 494, 462, 458, 472, 395, 460, 522, 571, 564, 508, …\n",
      "$ Collection          \u001b[3m\u001b[90m<dbl>\u001b[39m\u001b[23m 48000, 43200, 69400, 66800, 72400, 57400, 45800, 4…\n",
      "$ Start_Tech_Oscar    \u001b[3m\u001b[90m<dbl>\u001b[39m\u001b[23m 1, 0, 1, 1, 1, 0, 0, 0, 1, 1, 0, 0, 0, 1, 1, 1, 1,…\n"
     ]
    }
   ],
   "source": [
    "glimpse(df)"
   ]
  },
  {
   "cell_type": "code",
   "execution_count": 6,
   "id": "8f147c96",
   "metadata": {
    "vscode": {
     "languageId": "r"
    }
   },
   "outputs": [
    {
     "data": {
      "text/plain": [
       " Marketing_expense Production_expense Multiplex_coverage     Budget     \n",
       " Min.   :  20.13   Min.   : 55.92     Min.   :0.1290     Min.   :19781  \n",
       " 1st Qu.:  21.64   1st Qu.: 65.38     1st Qu.:0.3760     1st Qu.:32694  \n",
       " Median :  25.13   Median : 74.38     Median :0.4620     Median :34488  \n",
       " Mean   :  92.27   Mean   : 77.27     Mean   :0.4453     Mean   :34911  \n",
       " 3rd Qu.:  93.54   3rd Qu.: 91.20     3rd Qu.:0.5510     3rd Qu.:36794  \n",
       " Max.   :1799.52   Max.   :110.48     Max.   :0.6150     Max.   :48773  \n",
       "                                                                        \n",
       "  Movie_length   Lead__Actor_Rating Lead_Actress_rating Director_rating\n",
       " Min.   : 76.4   Min.   :3.840      Min.   :4.035       Min.   :3.840  \n",
       " 1st Qu.:118.5   1st Qu.:7.316      1st Qu.:7.504       1st Qu.:7.296  \n",
       " Median :151.0   Median :8.307      Median :8.495       Median :8.312  \n",
       " Mean   :142.1   Mean   :8.014      Mean   :8.186       Mean   :8.020  \n",
       " 3rd Qu.:167.6   3rd Qu.:8.865      3rd Qu.:9.030       3rd Qu.:8.884  \n",
       " Max.   :173.5   Max.   :9.435      Max.   :9.540       Max.   :9.425  \n",
       "                                                                       \n",
       " Producer_rating Critic_rating   Trailer_views    is_3D_available   \n",
       " Min.   :4.030   Min.   :6.600   Min.   :212912   Length:506        \n",
       " 1st Qu.:7.508   1st Qu.:7.200   1st Qu.:409128   Class :character  \n",
       " Median :8.465   Median :7.960   Median :462460   Mode  :character  \n",
       " Mean   :8.191   Mean   :7.811   Mean   :449861                     \n",
       " 3rd Qu.:9.030   3rd Qu.:8.260   3rd Qu.:500248                     \n",
       " Max.   :9.635   Max.   :9.400   Max.   :567784                     \n",
       "                                                                    \n",
       "   Time_taken    Twitter_hastags     Genre           Avg_age_actors \n",
       " Min.   :  0.0   Min.   : 201.2   Length:506         Min.   : 3.00  \n",
       " 1st Qu.:132.3   1st Qu.: 223.8   Class :character   1st Qu.:28.00  \n",
       " Median :160.0   Median : 254.4   Mode  :character   Median :39.00  \n",
       " Mean   :157.4   Mean   : 260.8                      Mean   :39.18  \n",
       " 3rd Qu.:181.9   3rd Qu.: 283.4                      3rd Qu.:50.00  \n",
       " Max.   :217.5   Max.   :2022.4                      Max.   :60.00  \n",
       " NA's   :12                                                         \n",
       " Num_multiplex     Collection     Start_Tech_Oscar\n",
       " Min.   :333.0   Min.   : 10000   Min.   :0.0000  \n",
       " 1st Qu.:465.0   1st Qu.: 34050   1st Qu.:0.0000  \n",
       " Median :535.5   Median : 42400   Median :1.0000  \n",
       " Mean   :545.0   Mean   : 45058   Mean   :0.5455  \n",
       " 3rd Qu.:614.8   3rd Qu.: 50000   3rd Qu.:1.0000  \n",
       " Max.   :868.0   Max.   :100000   Max.   :1.0000  \n",
       "                                                  "
      ]
     },
     "metadata": {},
     "output_type": "display_data"
    }
   ],
   "source": [
    "summary(df)"
   ]
  },
  {
   "cell_type": "code",
   "execution_count": 7,
   "id": "9df49d5c",
   "metadata": {
    "vscode": {
     "languageId": "r"
    }
   },
   "outputs": [],
   "source": [
    "df <- df %>%\n",
    "  mutate(\n",
    "    Trailer_views = as.integer(Trailer_views),\n",
    "    is_3D_available = is_3D_available == \"YES\",\n",
    "    Genre = as.factor(Genre),\n",
    "    Avg_age_actors = as.integer(Avg_age_actors),\n",
    "    Num_multiplex = as.integer(Num_multiplex),\n",
    "    Collection = as.integer(Collection),\n",
    "    Start_Tech_Oscar = as.factor(Start_Tech_Oscar),\n",
    "  )"
   ]
  },
  {
   "cell_type": "code",
   "execution_count": 8,
   "id": "cb643ecf",
   "metadata": {
    "vscode": {
     "languageId": "r"
    }
   },
   "outputs": [
    {
     "data": {
      "text/plain": [
       "[1] 12"
      ]
     },
     "metadata": {},
     "output_type": "display_data"
    }
   ],
   "source": [
    "df %>%\n",
    "  filter(if_any(everything(), is.na)) %>%\n",
    "  nrow()"
   ]
  },
  {
   "cell_type": "code",
   "execution_count": 9,
   "id": "10365f6b",
   "metadata": {
    "vscode": {
     "languageId": "r"
    }
   },
   "outputs": [
    {
     "data": {
      "text/plain": [
       "  Marketing_expense  Production_expense  Multiplex_coverage              Budget \n",
       "                  0                   0                   0                   0 \n",
       "       Movie_length  Lead__Actor_Rating Lead_Actress_rating     Director_rating \n",
       "                  0                   0                   0                   0 \n",
       "    Producer_rating       Critic_rating       Trailer_views     is_3D_available \n",
       "                  0                   0                   0                   0 \n",
       "         Time_taken     Twitter_hastags               Genre      Avg_age_actors \n",
       "                 12                   0                   0                   0 \n",
       "      Num_multiplex          Collection    Start_Tech_Oscar \n",
       "                  0                   0                   0 "
      ]
     },
     "metadata": {},
     "output_type": "display_data"
    }
   ],
   "source": [
    "sapply(df, function(x) sum(length(which(is.na(x)))))"
   ]
  },
  {
   "cell_type": "code",
   "execution_count": 10,
   "id": "c42b3532",
   "metadata": {
    "vscode": {
     "languageId": "r"
    }
   },
   "outputs": [],
   "source": [
    "df[\"Time_taken\"][is.na(df[\"Time_taken\"])] <- as.integer(mean(df$Time_taken, na.rm = TRUE))"
   ]
  },
  {
   "cell_type": "code",
   "execution_count": 11,
   "id": "7ee81933",
   "metadata": {
    "vscode": {
     "languageId": "r"
    }
   },
   "outputs": [
    {
     "data": {
      "text/plain": [
       "[1] 0"
      ]
     },
     "metadata": {},
     "output_type": "display_data"
    }
   ],
   "source": [
    "df %>%\n",
    "  filter(if_any(everything(), is.na)) %>%\n",
    "  nrow()"
   ]
  },
  {
   "cell_type": "code",
   "execution_count": 12,
   "id": "705dbdaa",
   "metadata": {
    "vscode": {
     "languageId": "r"
    }
   },
   "outputs": [],
   "source": [
    "set.seed(2024)\n",
    "split <- rsample::initial_split(df, prop = 0.75)\n",
    "\n",
    "X_train <- rsample::training(split)\n",
    "X_test <- rsample::testing(split)\n",
    "\n",
    "y_train <- X_train$Start_Tech_Oscar\n",
    "y_test <- X_test$Start_Tech_Oscar"
   ]
  },
  {
   "cell_type": "code",
   "execution_count": 13,
   "id": "117cac66",
   "metadata": {
    "vscode": {
     "languageId": "r"
    }
   },
   "outputs": [
    {
     "data": {
      "text/plain": [
       "Start_Tech_Oscar\n",
       "        0         1 \n",
       "0.4545455 0.5454545 "
      ]
     },
     "metadata": {},
     "output_type": "display_data"
    }
   ],
   "source": [
    "prop.table(table(df[\"Start_Tech_Oscar\"]))"
   ]
  },
  {
   "cell_type": "code",
   "execution_count": 14,
   "id": "4f6c1946",
   "metadata": {
    "vscode": {
     "languageId": "r"
    }
   },
   "outputs": [
    {
     "data": {
      "text/plain": [
       "y_train\n",
       "        0         1 \n",
       "0.4511873 0.5488127 "
      ]
     },
     "metadata": {},
     "output_type": "display_data"
    }
   ],
   "source": [
    "prop.table(table(y_train))"
   ]
  },
  {
   "cell_type": "markdown",
   "id": "c9459ccf",
   "metadata": {},
   "source": [
    "3. Dokonaj klasyfikacji za pomocą trzech algorytmów złożonych: bagging, random forest oraz boosting (zbuduj modele na zbiorze treningowym)."
   ]
  },
  {
   "cell_type": "markdown",
   "id": "c5a38c74",
   "metadata": {},
   "source": [
    "*normal glm*"
   ]
  },
  {
   "cell_type": "code",
   "execution_count": 15,
   "id": "e4490708",
   "metadata": {
    "vscode": {
     "languageId": "r"
    }
   },
   "outputs": [
    {
     "name": "stderr",
     "output_type": "stream",
     "text": [
      "Loading required package: rpart\n",
      "\n",
      "Loading required package: caret\n",
      "\n",
      "Loading required package: lattice\n",
      "\n",
      "\n",
      "Attaching package: ‘caret’\n",
      "\n",
      "\n",
      "The following object is masked from ‘package:purrr’:\n",
      "\n",
      "    lift\n",
      "\n",
      "\n",
      "Loading required package: foreach\n",
      "\n",
      "\n",
      "Attaching package: ‘foreach’\n",
      "\n",
      "\n",
      "The following objects are masked from ‘package:purrr’:\n",
      "\n",
      "    accumulate, when\n",
      "\n",
      "\n",
      "Loading required package: doParallel\n",
      "\n",
      "Loading required package: iterators\n",
      "\n",
      "Loading required package: parallel\n",
      "\n"
     ]
    }
   ],
   "source": [
    "library(ROCR)\n",
    "library(adabag)\n",
    "library(ada)"
   ]
  },
  {
   "cell_type": "markdown",
   "id": "82250a9c",
   "metadata": {},
   "source": [
    "*zwykla regresja logistyczna*"
   ]
  },
  {
   "cell_type": "code",
   "execution_count": 16,
   "id": "76df25f2",
   "metadata": {
    "vscode": {
     "languageId": "r"
    }
   },
   "outputs": [
    {
     "data": {
      "image/png": "[encoded data removed]",
      "text/plain": [
       "plot without title"
      ]
     },
     "metadata": {
      "image/png": {
       "height": 480,
       "width": 900
      }
     },
     "output_type": "display_data"
    }
   ],
   "source": [
    "logistic_model <- glm(Start_Tech_Oscar ~ ., \n",
    "                      family = binomial, \n",
    "                      data = X_train)\n",
    "\n",
    "y_pred_proba <- predict(logistic_model, \n",
    "                  type = \"response\",  \n",
    "                  newdata = X_test)\n",
    "\n",
    "pred = prediction(y_pred_proba, y_test)\n",
    "perf <- performance(pred, \"tpr\", \"fpr\")\n",
    "plot(perf)"
   ]
  },
  {
   "cell_type": "code",
   "execution_count": 17,
   "id": "cd2225ae",
   "metadata": {
    "vscode": {
     "languageId": "r"
    }
   },
   "outputs": [
    {
     "name": "stdout",
     "output_type": "stream",
     "text": [
      "AUC"
     ]
    },
    {
     "data": {
      "text/plain": [
       "[1] 0.6964108"
      ]
     },
     "metadata": {},
     "output_type": "display_data"
    }
   ],
   "source": [
    "cat(\"AUC\")\n",
    "performance(pred, measure = \"auc\")@y.values[[1]]"
   ]
  },
  {
   "cell_type": "code",
   "execution_count": 18,
   "id": "633ffe2e",
   "metadata": {
    "vscode": {
     "languageId": "r"
    }
   },
   "outputs": [
    {
     "data": {
      "text/plain": [
       "Confusion Matrix and Statistics\n",
       "\n",
       "          Reference\n",
       "Prediction  0  1\n",
       "         0 33 18\n",
       "         1 26 50\n",
       "                                         \n",
       "               Accuracy : 0.6535         \n",
       "                 95% CI : (0.564, 0.7357)\n",
       "    No Information Rate : 0.5354         \n",
       "    P-Value [Acc > NIR] : 0.004634       \n",
       "                                         \n",
       "                  Kappa : 0.2973         \n",
       "                                         \n",
       " Mcnemar's Test P-Value : 0.291293       \n",
       "                                         \n",
       "            Sensitivity : 0.5593         \n",
       "            Specificity : 0.7353         \n",
       "         Pos Pred Value : 0.6471         \n",
       "         Neg Pred Value : 0.6579         \n",
       "             Prevalence : 0.4646         \n",
       "         Detection Rate : 0.2598         \n",
       "   Detection Prevalence : 0.4016         \n",
       "      Balanced Accuracy : 0.6473         \n",
       "                                         \n",
       "       'Positive' Class : 0              \n",
       "                                         "
      ]
     },
     "metadata": {},
     "output_type": "display_data"
    }
   ],
   "source": [
    "y_pred <- as.factor(as.vector(ifelse(y_pred_proba < 0.5, 0, 1)))\n",
    "caret::confusionMatrix(y_pred, y_test)"
   ]
  },
  {
   "cell_type": "markdown",
   "id": "7ac6bd75",
   "metadata": {
    "vscode": {
     "languageId": "r"
    }
   },
   "source": [
    "___\n",
    "*bagging*"
   ]
  },
  {
   "cell_type": "code",
   "execution_count": 19,
   "id": "ae284055",
   "metadata": {
    "vscode": {
     "languageId": "r"
    }
   },
   "outputs": [],
   "source": [
    "library(foreach)"
   ]
  },
  {
   "cell_type": "code",
   "execution_count": 20,
   "id": "4e461a6c",
   "metadata": {
    "vscode": {
     "languageId": "r"
    }
   },
   "outputs": [
    {
     "data": {
      "text/plain": [
       "[1] 0.6208661"
      ]
     },
     "metadata": {},
     "output_type": "display_data"
    }
   ],
   "source": [
    "# for loop doing k iterations\n",
    "iterations <- 100\n",
    "predictions <- foreach(i = 1:iterations) %do% {\n",
    "  \n",
    "    # train test split\n",
    "    split_bagg <- rsample::initial_split(df, prop = 0.75)\n",
    "\n",
    "    X_train_bagg <- rsample::training(split_bagg)\n",
    "    X_test_bagg <- rsample::testing(split_bagg)\n",
    "\n",
    "    y_train_bagg <- X_train_bagg$Start_Tech_Oscar\n",
    "    y_test_bagg <- X_test_bagg$Start_Tech_Oscar\n",
    "\n",
    "    # model creation\n",
    "    logistic_model_bagg <- glm(Start_Tech_Oscar ~ ., \n",
    "                      family = binomial, \n",
    "                      data = X_train_bagg)\n",
    "\n",
    "    # class prediction\n",
    "    y_pred_proba_bagg <- predict(logistic_model_bagg, \n",
    "                    type = \"response\",  \n",
    "                    newdata = X_test_bagg)\n",
    "    y_pred_bagg <- ifelse(y_pred_proba_bagg < 0.5, 0, 1)\n",
    "\n",
    "    # calculate accuracy\n",
    "    accuracy <- mean(y_pred_bagg == y_test_bagg)\n",
    "    if(iterations <= 25) print(glue::glue(\"{i} accuracy:{round(accuracy, 2)}\"))\n",
    "    result<-list(accuracy, logistic_model)\n",
    "    result\n",
    "}\n",
    "\n",
    "acc = lapply(predictions, function(l) l[[1]])\n",
    "acc_vector<-unlist(acc)\n",
    "mean(acc_vector)"
   ]
  },
  {
   "cell_type": "code",
   "execution_count": 21,
   "id": "3f4cb62c",
   "metadata": {
    "vscode": {
     "languageId": "r"
    }
   },
   "outputs": [
    {
     "data": {
      "text/plain": [
       "[1] 0.6535433"
      ]
     },
     "metadata": {},
     "output_type": "display_data"
    }
   ],
   "source": [
    "models = lapply(predictions, function(l) l[[2]])\n",
    "pred2 <- lapply(models, function(x) predict(x, type = \"response\",  newdata = X_test))\n",
    "pred_df <- data.frame(pred2)\n",
    "\n",
    "colnames(pred_df) <- paste('classifier_', 1:iterations)\n",
    "pred_matrix <- as.matrix(pred_df)\n",
    "\n",
    "class_matrix <- ifelse(pred_matrix< 0.5, 0, 1)\n",
    "final_pred <- ifelse(rowMeans(class_matrix) < 0.5, 0, 1)\n",
    "\n",
    "accuracy <- mean(final_pred == y_test)\n",
    "accuracy "
   ]
  },
  {
   "cell_type": "markdown",
   "id": "8ceda0ed",
   "metadata": {},
   "source": [
    "*wynik zblizony od rezultatu pojedynczej iteracji, moze cos zrobilem zle ale wydaje sie ze jest dobrze*"
   ]
  },
  {
   "cell_type": "code",
   "execution_count": 22,
   "id": "9971c708",
   "metadata": {
    "vscode": {
     "languageId": "r"
    }
   },
   "outputs": [
    {
     "data": {
      "image/png": "[encoded data removed]",
      "text/plain": [
       "plot without title"
      ]
     },
     "metadata": {
      "image/png": {
       "height": 480,
       "width": 900
      }
     },
     "output_type": "display_data"
    }
   ],
   "source": [
    "pred = prediction(rowMeans(class_matrix), y_test)\n",
    "perf <- performance(pred, \"tpr\", \"fpr\")\n",
    "plot(perf)"
   ]
  },
  {
   "cell_type": "code",
   "execution_count": 23,
   "id": "e8c13fac",
   "metadata": {
    "vscode": {
     "languageId": "r"
    }
   },
   "outputs": [
    {
     "name": "stdout",
     "output_type": "stream",
     "text": [
      "AUC:  0.6473081"
     ]
    }
   ],
   "source": [
    "AUCLog1=performance(pred, measure = \"auc\")@y.values[[1]]\n",
    "cat(\"AUC: \",AUCLog1)"
   ]
  },
  {
   "cell_type": "markdown",
   "id": "d881f07b",
   "metadata": {},
   "source": [
    "___\n",
    "*decision tree*"
   ]
  },
  {
   "cell_type": "code",
   "execution_count": 24,
   "id": "1338d120",
   "metadata": {
    "vscode": {
     "languageId": "r"
    }
   },
   "outputs": [
    {
     "name": "stderr",
     "output_type": "stream",
     "text": [
      "\n",
      "Attaching package: ‘ipred’\n",
      "\n",
      "\n",
      "The following object is masked from ‘package:adabag’:\n",
      "\n",
      "    bagging\n",
      "\n",
      "\n"
     ]
    }
   ],
   "source": [
    "library(ipred)  #bagging for classification trees \n",
    "library(rpart)"
   ]
  },
  {
   "cell_type": "code",
   "execution_count": 25,
   "id": "cefbf62d",
   "metadata": {
    "vscode": {
     "languageId": "r"
    }
   },
   "outputs": [],
   "source": [
    "set.seed(2024)\n",
    "tree_model_bagg <- bagging(Start_Tech_Oscar ~.,\n",
    "                           data=X_train,\n",
    "                           mfinal=15) \n"
   ]
  },
  {
   "cell_type": "code",
   "execution_count": 26,
   "id": "93bb7f99",
   "metadata": {
    "vscode": {
     "languageId": "r"
    }
   },
   "outputs": [],
   "source": [
    "y_pred <-predict(tree_model_bagg, X_test)"
   ]
  },
  {
   "cell_type": "code",
   "execution_count": 27,
   "id": "185370e3",
   "metadata": {
    "vscode": {
     "languageId": "r"
    }
   },
   "outputs": [],
   "source": [
    "library(e1071)\n",
    "library(caret)"
   ]
  },
  {
   "cell_type": "code",
   "execution_count": 28,
   "id": "a7139660",
   "metadata": {
    "vscode": {
     "languageId": "r"
    }
   },
   "outputs": [
    {
     "data": {
      "text/plain": [
       "  [1] 0 1 1 1 0 0 0 1 0 0 1 0 1 1 1 1 0 1 0 0 1 0 0 1 0 0 0 1 1 0 0 1 1 1 1 1 0\n",
       " [38] 0 0 0 0 0 0 1 1 1 1 0 1 0 0 0 0 0 1 1 0 0 1 1 0 1 1 1 1 1 0 0 0 0 0 0 1 1\n",
       " [75] 1 1 0 0 0 0 1 1 1 1 0 0 0 0 0 0 1 1 1 1 1 1 1 0 1 1 0 1 1 1 1 1 0 1 1 1 1\n",
       "[112] 1 0 0 1 1 0 1 1 0 1 1 1 0 0 1 0\n",
       "Levels: 0 1"
      ]
     },
     "metadata": {},
     "output_type": "display_data"
    }
   ],
   "source": [
    "y_test"
   ]
  },
  {
   "cell_type": "code",
   "execution_count": 29,
   "id": "b2966c23",
   "metadata": {
    "vscode": {
     "languageId": "r"
    }
   },
   "outputs": [
    {
     "data": {
      "text/plain": [
       "  [1] 0 1 1 1 1 1 1 1 1 0 1 0 1 1 1 1 1 0 0 0 0 1 1 0 0 0 0 0 0 1 0 0 1 1 1 0 0\n",
       " [38] 1 0 0 0 0 0 0 1 0 1 0 1 0 0 0 0 1 1 1 0 1 1 0 0 1 1 0 1 0 1 1 1 1 0 0 1 1\n",
       " [75] 0 1 0 1 0 0 0 0 0 1 0 0 0 1 1 1 0 1 1 1 1 1 1 0 0 1 0 0 0 0 0 0 0 1 1 1 1\n",
       "[112] 0 1 0 0 1 1 1 1 1 0 1 1 1 1 1 0\n",
       "Levels: 0 1"
      ]
     },
     "metadata": {},
     "output_type": "display_data"
    }
   ],
   "source": [
    "y_pred"
   ]
  },
  {
   "cell_type": "code",
   "execution_count": 30,
   "id": "28d2e491",
   "metadata": {
    "vscode": {
     "languageId": "r"
    }
   },
   "outputs": [
    {
     "data": {
      "text/plain": [
       "Confusion Matrix and Statistics\n",
       "\n",
       "          Reference\n",
       "Prediction  0  1\n",
       "         0 35 26\n",
       "         1 24 42\n",
       "                                          \n",
       "               Accuracy : 0.6063          \n",
       "                 95% CI : (0.5157, 0.6918)\n",
       "    No Information Rate : 0.5354          \n",
       "    P-Value [Acc > NIR] : 0.06472         \n",
       "                                          \n",
       "                  Kappa : 0.2104          \n",
       "                                          \n",
       " Mcnemar's Test P-Value : 0.88754         \n",
       "                                          \n",
       "            Sensitivity : 0.6176          \n",
       "            Specificity : 0.5932          \n",
       "         Pos Pred Value : 0.6364          \n",
       "         Neg Pred Value : 0.5738          \n",
       "             Prevalence : 0.5354          \n",
       "         Detection Rate : 0.3307          \n",
       "   Detection Prevalence : 0.5197          \n",
       "      Balanced Accuracy : 0.6054          \n",
       "                                          \n",
       "       'Positive' Class : 1               \n",
       "                                          "
      ]
     },
     "metadata": {},
     "output_type": "display_data"
    }
   ],
   "source": [
    "caret::confusionMatrix(y_pred, y_test, '1')"
   ]
  },
  {
   "cell_type": "markdown",
   "id": "1635a254",
   "metadata": {
    "vscode": {
     "languageId": "r"
    }
   },
   "source": [
    "___\n",
    "*random forest*"
   ]
  },
  {
   "cell_type": "code",
   "execution_count": 31,
   "id": "a8b434ad",
   "metadata": {
    "vscode": {
     "languageId": "r"
    }
   },
   "outputs": [
    {
     "name": "stderr",
     "output_type": "stream",
     "text": [
      "randomForest 4.7-1.2\n",
      "\n",
      "Type rfNews() to see new features/changes/bug fixes.\n",
      "\n",
      "\n",
      "Attaching package: ‘randomForest’\n",
      "\n",
      "\n",
      "The following object is masked from ‘package:dplyr’:\n",
      "\n",
      "    combine\n",
      "\n",
      "\n",
      "The following object is masked from ‘package:ggplot2’:\n",
      "\n",
      "    margin\n",
      "\n",
      "\n",
      "\n",
      "Attaching package: ‘rsample’\n",
      "\n",
      "\n",
      "The following object is masked from ‘package:e1071’:\n",
      "\n",
      "    permutations\n",
      "\n",
      "\n"
     ]
    }
   ],
   "source": [
    "library(randomForest)\n",
    "library(rsample)"
   ]
  },
  {
   "cell_type": "code",
   "execution_count": 32,
   "id": "b59fcb15",
   "metadata": {
    "vscode": {
     "languageId": "r"
    }
   },
   "outputs": [
    {
     "name": "stdout",
     "output_type": "stream",
     "text": [
      "Accuracy Random Forest: 0.5748 \n"
     ]
    }
   ],
   "source": [
    "set.seed(2024)\n",
    "\n",
    "# split\n",
    "split_rf <- rsample::initial_split(df, prop = 0.75)\n",
    "X_train_rf <- rsample::training(split_rf)\n",
    "X_test_rf <- rsample::testing(split_rf)\n",
    "\n",
    "y_train_rf <- X_train_rf$Start_Tech_Oscar\n",
    "y_test_rf <- X_test_rf$Start_Tech_Oscar\n",
    "\n",
    "X_train_rf_predictors <- X_train_rf[, !names(X_train_rf) %in% \"Start_Tech_Oscar\"]\n",
    "X_test_rf_predictors <- X_test_rf[, !names(X_test_rf) %in% \"Start_Tech_Oscar\"]\n",
    "\n",
    "# model\n",
    "rf_model <- randomForest(x = X_train_rf_predictors, \n",
    "                         y = as.factor(y_train_rf), \n",
    "                         ntree = 500, \n",
    "                         importance = TRUE)\n",
    "\n",
    "# pred\n",
    "y_pred_rf <- predict(rf_model, newdata = X_test_rf_predictors)\n",
    "\n",
    "# accuracy\n",
    "accuracy <- mean(y_pred_rf == y_test_rf)\n",
    "\n",
    "# Wyświetlenie wyniku\n",
    "cat(\"Accuracy Random Forest:\", round(accuracy, 4), \"\\n\")"
   ]
  },
  {
   "cell_type": "code",
   "execution_count": 33,
   "id": "2ca47406",
   "metadata": {
    "vscode": {
     "languageId": "r"
    }
   },
   "outputs": [
    {
     "name": "stdout",
     "output_type": "stream",
     "text": [
      "Rows: 506\n",
      "Columns: 19\n",
      "$ Marketing_expense   \u001b[3m\u001b[90m<dbl>\u001b[39m\u001b[23m 20.1264, 20.5462, 20.5458, 20.6474, 21.3810, 20.59…\n",
      "$ Production_expense  \u001b[3m\u001b[90m<dbl>\u001b[39m\u001b[23m 59.62, 69.14, 69.14, 59.36, 59.36, 59.36, 70.74, 7…\n",
      "$ Multiplex_coverage  \u001b[3m\u001b[90m<dbl>\u001b[39m\u001b[23m 0.462, 0.531, 0.531, 0.542, 0.542, 0.542, 0.476, 0…\n",
      "$ Budget              \u001b[3m\u001b[90m<dbl>\u001b[39m\u001b[23m 36524.12, 35668.65, 39912.68, 38873.89, 39701.58, …\n",
      "$ Movie_length        \u001b[3m\u001b[90m<dbl>\u001b[39m\u001b[23m 138.7, 152.4, 134.6, 119.3, 127.7, 132.2, 140.1, 1…\n",
      "$ Lead__Actor_Rating  \u001b[3m\u001b[90m<dbl>\u001b[39m\u001b[23m 7.825, 7.505, 7.485, 6.895, 6.920, 6.890, 7.065, 6…\n",
      "$ Lead_Actress_rating \u001b[3m\u001b[90m<dbl>\u001b[39m\u001b[23m 8.095, 7.650, 7.570, 7.035, 7.070, 7.100, 7.265, 7…\n",
      "$ Director_rating     \u001b[3m\u001b[90m<dbl>\u001b[39m\u001b[23m 7.910, 7.440, 7.495, 6.920, 6.815, 6.885, 7.150, 6…\n",
      "$ Producer_rating     \u001b[3m\u001b[90m<dbl>\u001b[39m\u001b[23m 7.995, 7.470, 7.515, 7.020, 7.070, 7.005, 7.400, 7…\n",
      "$ Critic_rating       \u001b[3m\u001b[90m<dbl>\u001b[39m\u001b[23m 7.94, 7.44, 7.44, 8.26, 8.26, 7.26, 8.96, 7.96, 7.…\n",
      "$ Trailer_views       \u001b[3m\u001b[90m<int>\u001b[39m\u001b[23m 527367, 494055, 547051, 516279, 531448, 498425, 45…\n",
      "$ is_3D_available     \u001b[3m\u001b[90m<lgl>\u001b[39m\u001b[23m TRUE, FALSE, FALSE, TRUE, FALSE, TRUE, TRUE, FALSE…\n",
      "$ Time_taken          \u001b[3m\u001b[90m<dbl>\u001b[39m\u001b[23m 109.60, 146.64, 147.88, 185.36, 176.48, 143.48, 13…\n",
      "$ Twitter_hastags     \u001b[3m\u001b[90m<dbl>\u001b[39m\u001b[23m 223.840, 243.456, 2022.400, 225.344, 225.792, 284.…\n",
      "$ Genre               \u001b[3m\u001b[90m<fct>\u001b[39m\u001b[23m Thriller, Drama, Comedy, Drama, Drama, Comedy, Thr…\n",
      "$ Avg_age_actors      \u001b[3m\u001b[90m<int>\u001b[39m\u001b[23m 23, 42, 38, 45, 55, 53, 41, 56, 55, 45, 29, 23, 57…\n",
      "$ Num_multiplex       \u001b[3m\u001b[90m<int>\u001b[39m\u001b[23m 494, 462, 458, 472, 395, 460, 522, 571, 564, 508, …\n",
      "$ Collection          \u001b[3m\u001b[90m<int>\u001b[39m\u001b[23m 48000, 43200, 69400, 66800, 72400, 57400, 45800, 4…\n",
      "$ Start_Tech_Oscar    \u001b[3m\u001b[90m<fct>\u001b[39m\u001b[23m 1, 0, 1, 1, 1, 0, 0, 0, 1, 1, 0, 0, 0, 1, 1, 1, 1,…\n"
     ]
    }
   ],
   "source": [
    "glimpse(df)"
   ]
  },
  {
   "cell_type": "code",
   "execution_count": 34,
   "id": "dcadacc9",
   "metadata": {
    "vscode": {
     "languageId": "r"
    }
   },
   "outputs": [
    {
     "name": "stderr",
     "output_type": "stream",
     "text": [
      "\n",
      "Attaching package: ‘xgboost’\n",
      "\n",
      "\n",
      "The following object is masked from ‘package:dplyr’:\n",
      "\n",
      "    slice\n",
      "\n",
      "\n"
     ]
    },
    {
     "name": "stdout",
     "output_type": "stream",
     "text": [
      "Accuracy Boosting: 0.6142 \n"
     ]
    }
   ],
   "source": [
    "library(xgboost)\n",
    "library(caret)\n",
    "\n",
    "set.seed(2024)\n",
    "\n",
    "# split\n",
    "split_boost <- rsample::initial_split(df, prop = 0.75)\n",
    "X_train_boost <- rsample::training(split_boost)\n",
    "X_test_boost <- rsample::testing(split_boost)\n",
    "\n",
    "y_train_boost <- as.numeric(X_train_boost$Start_Tech_Oscar) - 1\n",
    "y_test_boost <- as.numeric(X_test_boost$Start_Tech_Oscar) - 1\n",
    "\n",
    "# select\n",
    "X_train_boost_predictors <- X_train_boost %>% \n",
    "  select(-Start_Tech_Oscar)\n",
    "\n",
    "X_test_boost_predictors <- X_test_boost %>% \n",
    "  select(-Start_Tech_Oscar)\n",
    "\n",
    "# encode nonumerics\n",
    "dummyVars <- dummyVars(~ ., data = rbind(X_train_boost_predictors, X_test_boost_predictors))\n",
    "X_train_matrix <- predict(dummyVars, newdata = X_train_boost_predictors)\n",
    "X_test_matrix <- predict(dummyVars, newdata = X_test_boost_predictors)\n",
    "\n",
    "X_train_matrix <- as.matrix(X_train_matrix)\n",
    "X_test_matrix <- as.matrix(X_test_matrix)\n",
    "\n",
    "dtrain <- xgb.DMatrix(data = X_train_matrix, label = y_train_boost)\n",
    "dtest <- xgb.DMatrix(data = X_test_matrix, label = y_test_boost)\n",
    "\n",
    "# parameters\n",
    "params <- list(\n",
    "  booster = \"gbtree\",\n",
    "  objective = \"binary:logistic\",\n",
    "  eta = 0.1,\n",
    "  max_depth = 6,\n",
    "  eval_metric = \"auc\"\n",
    ")\n",
    "\n",
    "# model\n",
    "boost_model <- xgb.train(\n",
    "  params = params,\n",
    "  data = dtrain,\n",
    "  nrounds = 100,\n",
    "  verbose = FALSE\n",
    ")\n",
    "\n",
    "# prediction\n",
    "y_pred_proba_boost <- predict(boost_model, dtest)\n",
    "y_pred_boost <- ifelse(y_pred_proba_boost > 0.5, 1, 0)\n",
    "\n",
    "# accuracy\n",
    "accuracy <- mean(y_pred_boost == y_test_boost)\n",
    "cat(\"Accuracy Boosting:\", round(accuracy, 4), \"\\n\")"
   ]
  },
  {
   "cell_type": "markdown",
   "id": "355b18e9",
   "metadata": {},
   "source": [
    "4. Sprawdź jak dobrze utworzone modele radzą sobie z danymi testowymi (użyj funkcji `confusionMatrix` z pakietu `caret`). Jaki procent danych został poprawnie zaklasyfikowany? Który model okazał się w tym przypadku najlepszy?"
   ]
  },
  {
   "cell_type": "markdown",
   "id": "2f90fc95",
   "metadata": {
    "vscode": {
     "languageId": "r"
    }
   },
   "source": [
    "*zwykly model glm oraz ten zbaggowany maja najlepsze wyniki 65% dokladnosci, drzewa w tym wypadku nie poradzily sobie dobrze, ale moze warto jest pobawic sie paramterami bo byly odpalane na defaultowych*"
   ]
  },
  {
   "cell_type": "code",
   "execution_count": 35,
   "id": "111e9943",
   "metadata": {
    "vscode": {
     "languageId": "r"
    }
   },
   "outputs": [],
   "source": [
    "# EOF"
   ]
  }
 ],
 "metadata": {
  "jupytext": {
   "cell_metadata_filter": "-all",
   "main_language": "python",
   "notebook_metadata_filter": "-all"
  },
  "kernelspec": {
   "display_name": "R",
   "language": "R",
   "name": "ir"
  },
  "language_info": {
   "codemirror_mode": "r",
   "file_extension": ".r",
   "mimetype": "text/x-r-source",
   "name": "R",
   "pygments_lexer": "r",
   "version": "4.4.2"
  }
 },
 "nbformat": 4,
 "nbformat_minor": 5
}
