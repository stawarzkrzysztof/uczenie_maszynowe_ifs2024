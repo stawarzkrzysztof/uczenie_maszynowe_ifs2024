{
 "cells": [
  {
   "cell_type": "markdown",
   "id": "119c6ee9",
   "metadata": {},
   "source": [
    "# Ulepszanie wydajności klasyfikatorów\n",
    "\n",
    "Wydajność modeli można zwiększać poprzez:\n",
    "\n",
    "- dostrajanie parametrów pojedynczego modelu w celu jego ulepszenia. Do automatycznego dostrajania parametrów modelu w R można użyć pakietu `caret`. Pełna lista metod (algorytmów uczenia maszynowego) i ich dostosowywalnych parametrów znajduje się na [stronie internetowej](http://topepo.github.io/caret/available-models.html).\n",
    "\n",
    "- łączenie ze sobą kilku słabych modeli w celu utworzenia lepszej jednostki. Jest to tak zwane uczenie zespołowe (ang. *ensemble learning*), któremu poświęcone są dzisiejsze ćwiczenia.\n",
    "\n",
    "## Metody zespołowe\n",
    "\n",
    "Podstawowe założenie: zaangażowanie zespołu różnych ekspertów (modeli) we wspólne rozwiązywanie problemu podniesie wydajność uczenia.\n",
    "\n",
    "### Bagging\n",
    "\n",
    "Jedna z najpopularniejszych technik uczenia zespołowego. Nazwa pochodzi od *bootstrap aggregating* - technika bagging wykorzystuje próbkowanie metodą bootstrap w funkcji alokacji do generowania danych przypisywanych do każdego z modeli w zespole. Zespoły w agregacji bootstrap zazwyczaj składają się z jednorodnych klasyfikatorów, które są trenowane równolegle i niezależnie od siebie.\n",
    "Wśród metod bagging jedną z najpopularniejszych są *lasy losowe* (ang. *random forest*), składające się z wielu klasyfikatorów drzew decyzyjnych. Funkcja alokacji lasów łączy próbkowanie metodą bootstrap z losowym wybieraniem cech do generowania danych przydzielanych każdemu z klasyfikatorów w zespole. Lasy losowe nadają się do obsługiwania bardzo szerokich zbiorów danych.\n",
    "\n",
    "### Boosting\n",
    "\n",
    "Zespoły Wzmacniające (ang. *boosting*) są również jednorodnymi zbiorami podstawowych modeli. W odróżnieniu od agregacji bootstrap, we wzmacnianiu podstawowe modele są trenowane sekwencyjnie. Każdy kolejny model w sekwencji próbuje osiągnąć większą wydajność od poprzedniego modelu, ucząc się na błędach poprzednika. Następnie przeprowadzane jest wtórne próbkowanie danych treningowych tak, że przykładom dla których były nieprawidłowe predykcje, otrzymują większą wagę.\n",
    "\n",
    "Proces wtórnego próbkowania, trenowania, oceniania i punktowania jest powtarzany do każdego modelu w sekwencji, dopóki wszystkie modele nie zostaną wytrenowane.\n",
    "\n",
    "### Stacking\n",
    "\n",
    "Stacking, czyli kontaminacja modeli, różni się od poprzednich dwóch tym, że zawiera tu zwykle różnorodne modele podstawowe. Przykładowo może składać się z modelu kNN, modelu regresji logistycznej oraz naiwnego modelu Bayesa. Kontaminacja modeli jest podobna do agregacji bootstrap, tyle że funkcja kombinacji jest tutaj niedeterministyczna (nie przebiega zgodnie z predefiniowanym wzorcem czy zbiorem reguł).\n",
    "\n",
    "Zazponaj się z materiałami zamieszczonymi na stronie [RPubs](https://rpubs.com/mmazurek/346331), sekcje:\n",
    "\n",
    "- Klasyfikatory złożone\n",
    "\n",
    "- Agregacja bootstrapowa (bagging - bootstrap aggregation)\n",
    "\n",
    "- Lasy losowe\n",
    "\n",
    "- Boosting\n",
    "  - Adaboost - adaptive boosting\n",
    "\n",
    "Następnie wykonaj poniższe zadania.\n",
    "\n",
    "## Zadania\n",
    "\n",
    "1.\tPobierz i wczytaj w RStudio plik z danymi `Movie_classification.csv`. Celem zadania jest przewidzenie, czy dany film otrzyma Oskara czy też nie (zmienna dychotomiczna `Start_Tech_Oskar`)."
   ]
  },
  {
   "cell_type": "code",
   "execution_count": 1,
   "id": "282de381",
   "metadata": {
    "vscode": {
     "languageId": "r"
    }
   },
   "outputs": [
    {
     "name": "stderr",
     "output_type": "stream",
     "text": [
      "── \u001b[1mAttaching core tidyverse packages\u001b[22m ──────────────────────── tidyverse 2.0.0 ──\n",
      "\u001b[32m✔\u001b[39m \u001b[34mdplyr    \u001b[39m 1.1.4     \u001b[32m✔\u001b[39m \u001b[34mreadr    \u001b[39m 2.1.5\n",
      "\u001b[32m✔\u001b[39m \u001b[34mforcats  \u001b[39m 1.0.0     \u001b[32m✔\u001b[39m \u001b[34mstringr  \u001b[39m 1.5.1\n",
      "\u001b[32m✔\u001b[39m \u001b[34mggplot2  \u001b[39m 3.5.1     \u001b[32m✔\u001b[39m \u001b[34mtibble   \u001b[39m 3.2.1\n",
      "\u001b[32m✔\u001b[39m \u001b[34mlubridate\u001b[39m 1.9.3     \u001b[32m✔\u001b[39m \u001b[34mtidyr    \u001b[39m 1.3.1\n",
      "\u001b[32m✔\u001b[39m \u001b[34mpurrr    \u001b[39m 1.0.2     \n",
      "── \u001b[1mConflicts\u001b[22m ────────────────────────────────────────── tidyverse_conflicts() ──\n",
      "\u001b[31m✖\u001b[39m \u001b[34mdplyr\u001b[39m::\u001b[32mfilter()\u001b[39m masks \u001b[34mstats\u001b[39m::filter()\n",
      "\u001b[31m✖\u001b[39m \u001b[34mdplyr\u001b[39m::\u001b[32mlag()\u001b[39m    masks \u001b[34mstats\u001b[39m::lag()\n",
      "\u001b[36mℹ\u001b[39m Use the conflicted package (\u001b[3m\u001b[34m<http://conflicted.r-lib.org/>\u001b[39m\u001b[23m) to force all conflicts to become errors\n"
     ]
    }
   ],
   "source": [
    "library(tidyverse)\n",
    "options(jupyter.rich_display = FALSE,\n",
    "        repr.plot.width = 15,\n",
    "        repr.plot.height = 8)"
   ]
  },
  {
   "cell_type": "code",
   "execution_count": 24,
   "id": "d7c5c42b",
   "metadata": {
    "vscode": {
     "languageId": "r"
    }
   },
   "outputs": [
    {
     "name": "stderr",
     "output_type": "stream",
     "text": [
      "\u001b[1mRows: \u001b[22m\u001b[34m506\u001b[39m \u001b[1mColumns: \u001b[22m\u001b[34m19\u001b[39m\n",
      "\u001b[36m──\u001b[39m \u001b[1mColumn specification\u001b[22m \u001b[36m────────────────────────────────────────────────────────\u001b[39m\n",
      "\u001b[1mDelimiter:\u001b[22m \",\"\n",
      "\u001b[31mchr\u001b[39m  (2): 3D_available, Genre\n",
      "\u001b[32mdbl\u001b[39m (17): Marketing expense, Production expense, Multiplex coverage, Budget,...\n",
      "\n",
      "\u001b[36mℹ\u001b[39m Use `spec()` to retrieve the full column specification for this data.\n",
      "\u001b[36mℹ\u001b[39m Specify the column types or set `show_col_types = FALSE` to quiet this message.\n"
     ]
    }
   ],
   "source": [
    "df <- read_csv(\"data/Movie_classification.csv\")\n",
    "names(df) <- gsub(\" \", \"_\", names(df))\n",
    "names(df)[names(df) == '3D_available'] <- 'is_3D_available'"
   ]
  },
  {
   "cell_type": "markdown",
   "id": "bedad5b3",
   "metadata": {},
   "source": [
    "2.\tPrzyglądnij się danym i przygotuj je do dalszej analizy:\n",
    "\n",
    " - braki danych zastąp wartością średnią dla danego atrybutu, \n",
    " - za pomocą funkcji `sample.split` (z pakietu `caTools`) oraz `subset` podziel dane na zbiór treningowy i testowy."
   ]
  },
  {
   "cell_type": "code",
   "execution_count": 25,
   "id": "13d143e5",
   "metadata": {
    "vscode": {
     "languageId": "r"
    }
   },
   "outputs": [
    {
     "data": {
      "text/plain": [
       " [1] \"Marketing_expense\"   \"Production_expense\"  \"Multiplex_coverage\" \n",
       " [4] \"Budget\"              \"Movie_length\"        \"Lead__Actor_Rating\" \n",
       " [7] \"Lead_Actress_rating\" \"Director_rating\"     \"Producer_rating\"    \n",
       "[10] \"Critic_rating\"       \"Trailer_views\"       \"is_3D_available\"    \n",
       "[13] \"Time_taken\"          \"Twitter_hastags\"     \"Genre\"              \n",
       "[16] \"Avg_age_actors\"      \"Num_multiplex\"       \"Collection\"         \n",
       "[19] \"Start_Tech_Oscar\"   "
      ]
     },
     "metadata": {},
     "output_type": "display_data"
    }
   ],
   "source": [
    "names(df)"
   ]
  },
  {
   "cell_type": "code",
   "execution_count": 26,
   "id": "171d5e6a",
   "metadata": {
    "vscode": {
     "languageId": "r"
    }
   },
   "outputs": [
    {
     "data": {
      "text/plain": [
       "[1] 506  19"
      ]
     },
     "metadata": {},
     "output_type": "display_data"
    }
   ],
   "source": [
    "dim(df)"
   ]
  },
  {
   "cell_type": "code",
   "execution_count": 27,
   "id": "01265b56",
   "metadata": {
    "vscode": {
     "languageId": "r"
    }
   },
   "outputs": [
    {
     "name": "stdout",
     "output_type": "stream",
     "text": [
      "Rows: 506\n",
      "Columns: 19\n",
      "$ Marketing_expense   \u001b[3m\u001b[90m<dbl>\u001b[39m\u001b[23m 20.1264, 20.5462, 20.5458, 20.6474, 21.3810, 20.59…\n",
      "$ Production_expense  \u001b[3m\u001b[90m<dbl>\u001b[39m\u001b[23m 59.62, 69.14, 69.14, 59.36, 59.36, 59.36, 70.74, 7…\n",
      "$ Multiplex_coverage  \u001b[3m\u001b[90m<dbl>\u001b[39m\u001b[23m 0.462, 0.531, 0.531, 0.542, 0.542, 0.542, 0.476, 0…\n",
      "$ Budget              \u001b[3m\u001b[90m<dbl>\u001b[39m\u001b[23m 36524.12, 35668.65, 39912.68, 38873.89, 39701.58, …\n",
      "$ Movie_length        \u001b[3m\u001b[90m<dbl>\u001b[39m\u001b[23m 138.7, 152.4, 134.6, 119.3, 127.7, 132.2, 140.1, 1…\n",
      "$ Lead__Actor_Rating  \u001b[3m\u001b[90m<dbl>\u001b[39m\u001b[23m 7.825, 7.505, 7.485, 6.895, 6.920, 6.890, 7.065, 6…\n",
      "$ Lead_Actress_rating \u001b[3m\u001b[90m<dbl>\u001b[39m\u001b[23m 8.095, 7.650, 7.570, 7.035, 7.070, 7.100, 7.265, 7…\n",
      "$ Director_rating     \u001b[3m\u001b[90m<dbl>\u001b[39m\u001b[23m 7.910, 7.440, 7.495, 6.920, 6.815, 6.885, 7.150, 6…\n",
      "$ Producer_rating     \u001b[3m\u001b[90m<dbl>\u001b[39m\u001b[23m 7.995, 7.470, 7.515, 7.020, 7.070, 7.005, 7.400, 7…\n",
      "$ Critic_rating       \u001b[3m\u001b[90m<dbl>\u001b[39m\u001b[23m 7.94, 7.44, 7.44, 8.26, 8.26, 7.26, 8.96, 7.96, 7.…\n",
      "$ Trailer_views       \u001b[3m\u001b[90m<dbl>\u001b[39m\u001b[23m 527367, 494055, 547051, 516279, 531448, 498425, 45…\n",
      "$ is_3D_available     \u001b[3m\u001b[90m<chr>\u001b[39m\u001b[23m \"YES\", \"NO\", \"NO\", \"YES\", \"NO\", \"YES\", \"YES\", \"NO\"…\n",
      "$ Time_taken          \u001b[3m\u001b[90m<dbl>\u001b[39m\u001b[23m 109.60, 146.64, 147.88, 185.36, 176.48, 143.48, 13…\n",
      "$ Twitter_hastags     \u001b[3m\u001b[90m<dbl>\u001b[39m\u001b[23m 223.840, 243.456, 2022.400, 225.344, 225.792, 284.…\n",
      "$ Genre               \u001b[3m\u001b[90m<chr>\u001b[39m\u001b[23m \"Thriller\", \"Drama\", \"Comedy\", \"Drama\", \"Drama\", \"…\n",
      "$ Avg_age_actors      \u001b[3m\u001b[90m<dbl>\u001b[39m\u001b[23m 23, 42, 38, 45, 55, 53, 41, 56, 55, 45, 29, 23, 57…\n",
      "$ Num_multiplex       \u001b[3m\u001b[90m<dbl>\u001b[39m\u001b[23m 494, 462, 458, 472, 395, 460, 522, 571, 564, 508, …\n",
      "$ Collection          \u001b[3m\u001b[90m<dbl>\u001b[39m\u001b[23m 48000, 43200, 69400, 66800, 72400, 57400, 45800, 4…\n",
      "$ Start_Tech_Oscar    \u001b[3m\u001b[90m<dbl>\u001b[39m\u001b[23m 1, 0, 1, 1, 1, 0, 0, 0, 1, 1, 0, 0, 0, 1, 1, 1, 1,…\n"
     ]
    }
   ],
   "source": [
    "glimpse(df)"
   ]
  },
  {
   "cell_type": "code",
   "execution_count": 19,
   "id": "8f147c96",
   "metadata": {
    "vscode": {
     "languageId": "r"
    }
   },
   "outputs": [
    {
     "data": {
      "text/plain": [
       " Marketing_expense Production_expense Multiplex_coverage     Budget     \n",
       " Min.   :  20.13   Min.   : 55.92     Min.   :0.1290     Min.   :19781  \n",
       " 1st Qu.:  21.64   1st Qu.: 65.38     1st Qu.:0.3760     1st Qu.:32694  \n",
       " Median :  25.13   Median : 74.38     Median :0.4620     Median :34488  \n",
       " Mean   :  92.27   Mean   : 77.27     Mean   :0.4453     Mean   :34911  \n",
       " 3rd Qu.:  93.54   3rd Qu.: 91.20     3rd Qu.:0.5510     3rd Qu.:36794  \n",
       " Max.   :1799.52   Max.   :110.48     Max.   :0.6150     Max.   :48773  \n",
       "                                                                        \n",
       "  Movie_length   Lead__Actor_Rating Lead_Actress_rating Director_rating\n",
       " Min.   : 76.4   Min.   :3.840      Min.   :4.035       Min.   :3.840  \n",
       " 1st Qu.:118.5   1st Qu.:7.316      1st Qu.:7.504       1st Qu.:7.296  \n",
       " Median :151.0   Median :8.307      Median :8.495       Median :8.312  \n",
       " Mean   :142.1   Mean   :8.014      Mean   :8.186       Mean   :8.020  \n",
       " 3rd Qu.:167.6   3rd Qu.:8.865      3rd Qu.:9.030       3rd Qu.:8.884  \n",
       " Max.   :173.5   Max.   :9.435      Max.   :9.540       Max.   :9.425  \n",
       "                                                                       \n",
       " Producer_rating Critic_rating   Trailer_views    3D_available      \n",
       " Min.   :4.030   Min.   :6.600   Min.   :212912   Length:506        \n",
       " 1st Qu.:7.508   1st Qu.:7.200   1st Qu.:409128   Class :character  \n",
       " Median :8.465   Median :7.960   Median :462460   Mode  :character  \n",
       " Mean   :8.191   Mean   :7.811   Mean   :449861                     \n",
       " 3rd Qu.:9.030   3rd Qu.:8.260   3rd Qu.:500248                     \n",
       " Max.   :9.635   Max.   :9.400   Max.   :567784                     \n",
       "                                                                    \n",
       "   Time_taken    Twitter_hastags     Genre           Avg_age_actors \n",
       " Min.   :  0.0   Min.   : 201.2   Length:506         Min.   : 3.00  \n",
       " 1st Qu.:132.3   1st Qu.: 223.8   Class :character   1st Qu.:28.00  \n",
       " Median :160.0   Median : 254.4   Mode  :character   Median :39.00  \n",
       " Mean   :157.4   Mean   : 260.8                      Mean   :39.18  \n",
       " 3rd Qu.:181.9   3rd Qu.: 283.4                      3rd Qu.:50.00  \n",
       " Max.   :217.5   Max.   :2022.4                      Max.   :60.00  \n",
       " NA's   :12                                                         \n",
       " Num_multiplex     Collection     Start_Tech_Oscar\n",
       " Min.   :333.0   Min.   : 10000   Min.   :0.0000  \n",
       " 1st Qu.:465.0   1st Qu.: 34050   1st Qu.:0.0000  \n",
       " Median :535.5   Median : 42400   Median :1.0000  \n",
       " Mean   :545.0   Mean   : 45058   Mean   :0.5455  \n",
       " 3rd Qu.:614.8   3rd Qu.: 50000   3rd Qu.:1.0000  \n",
       " Max.   :868.0   Max.   :100000   Max.   :1.0000  \n",
       "                                                  "
      ]
     },
     "metadata": {},
     "output_type": "display_data"
    }
   ],
   "source": [
    "summary(df)"
   ]
  },
  {
   "cell_type": "code",
   "execution_count": 28,
   "id": "9df49d5c",
   "metadata": {
    "vscode": {
     "languageId": "r"
    }
   },
   "outputs": [],
   "source": [
    "df <- df %>%\n",
    "  mutate(\n",
    "    Trailer_views = as.integer(Trailer_views),\n",
    "    is_3D_available = is_3D_available == \"YES\",\n",
    "    Genre = as.factor(Genre),\n",
    "    Avg_age_actors = as.integer(Avg_age_actors),\n",
    "    Num_multiplex = as.integer(Num_multiplex),\n",
    "    Collection = as.integer(Collection),\n",
    "    Start_Tech_Oscar = as.factor(Start_Tech_Oscar),\n",
    "  )"
   ]
  },
  {
   "cell_type": "code",
   "execution_count": 29,
   "id": "cb643ecf",
   "metadata": {
    "vscode": {
     "languageId": "r"
    }
   },
   "outputs": [
    {
     "data": {
      "text/plain": [
       "[1] 12"
      ]
     },
     "metadata": {},
     "output_type": "display_data"
    }
   ],
   "source": [
    "df %>%\n",
    "  filter(if_any(everything(), is.na)) %>%\n",
    "  nrow()"
   ]
  },
  {
   "cell_type": "code",
   "execution_count": 30,
   "id": "10365f6b",
   "metadata": {
    "vscode": {
     "languageId": "r"
    }
   },
   "outputs": [
    {
     "data": {
      "text/plain": [
       "  Marketing_expense  Production_expense  Multiplex_coverage              Budget \n",
       "                  0                   0                   0                   0 \n",
       "       Movie_length  Lead__Actor_Rating Lead_Actress_rating     Director_rating \n",
       "                  0                   0                   0                   0 \n",
       "    Producer_rating       Critic_rating       Trailer_views     is_3D_available \n",
       "                  0                   0                   0                   0 \n",
       "         Time_taken     Twitter_hastags               Genre      Avg_age_actors \n",
       "                 12                   0                   0                   0 \n",
       "      Num_multiplex          Collection    Start_Tech_Oscar \n",
       "                  0                   0                   0 "
      ]
     },
     "metadata": {},
     "output_type": "display_data"
    }
   ],
   "source": [
    "sapply(df, function(x) sum(length(which(is.na(x)))))"
   ]
  },
  {
   "cell_type": "code",
   "execution_count": 31,
   "id": "c42b3532",
   "metadata": {
    "vscode": {
     "languageId": "r"
    }
   },
   "outputs": [],
   "source": [
    "df[\"Time_taken\"][is.na(df[\"Time_taken\"])] <- as.integer(mean(df$Time_taken, na.rm = TRUE))"
   ]
  },
  {
   "cell_type": "code",
   "execution_count": 32,
   "id": "7ee81933",
   "metadata": {
    "vscode": {
     "languageId": "r"
    }
   },
   "outputs": [
    {
     "data": {
      "text/plain": [
       "[1] 0"
      ]
     },
     "metadata": {},
     "output_type": "display_data"
    }
   ],
   "source": [
    "df %>%\n",
    "  filter(if_any(everything(), is.na)) %>%\n",
    "  nrow()"
   ]
  },
  {
   "cell_type": "markdown",
   "id": "c9459ccf",
   "metadata": {},
   "source": [
    "3. Dokonaj klasyfikacji za pomocą trzech algorytmów złożonych: bagging, random forest oraz boosting (zbuduj modele na zbiorze treningowym)."
   ]
  },
  {
   "cell_type": "code",
   "execution_count": null,
   "id": "76df25f2",
   "metadata": {
    "vscode": {
     "languageId": "r"
    }
   },
   "outputs": [],
   "source": []
  },
  {
   "cell_type": "markdown",
   "id": "355b18e9",
   "metadata": {},
   "source": [
    "4. Sprawdź jak dobrze utworzone modele radzą sobie z danymi testowymi (użyj funkcji `confusionMatrix` z pakietu `caret`). Jaki procent danych został poprawnie zaklasyfikowany? Który model okazał się w tym przypadku najlepszy?"
   ]
  },
  {
   "cell_type": "code",
   "execution_count": null,
   "id": "2f90fc95",
   "metadata": {
    "vscode": {
     "languageId": "r"
    }
   },
   "outputs": [],
   "source": []
  }
 ],
 "metadata": {
  "jupytext": {
   "cell_metadata_filter": "-all",
   "main_language": "python",
   "notebook_metadata_filter": "-all"
  },
  "kernelspec": {
   "display_name": "R",
   "language": "R",
   "name": "ir"
  },
  "language_info": {
   "codemirror_mode": "r",
   "file_extension": ".r",
   "mimetype": "text/x-r-source",
   "name": "R",
   "pygments_lexer": "r",
   "version": "4.4.2"
  }
 },
 "nbformat": 4,
 "nbformat_minor": 5
}
