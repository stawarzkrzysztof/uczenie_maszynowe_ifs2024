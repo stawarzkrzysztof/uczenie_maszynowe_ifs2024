{
 "cells": [
  {
   "cell_type": "code",
   "execution_count": 31,
   "metadata": {
    "vscode": {
     "languageId": "r"
    }
   },
   "outputs": [],
   "source": [
    "# Z poniższych zbiorów danych wybierz jeden i wykonaj na nim analizę: \n",
    "# - określ cel badania  \n",
    "# - uporządkuj dane  \n",
    "# - wykonaj wstępne przetwarzanie danych  \n",
    "# - podziel dane na zbiory treningowy i testowy  \n",
    "# - zbuduj model  \n",
    "# - oceń model (miary jakości, krzywa ROC, AUC)  \n",
    "  \n",
    "# Zbiory danych: \n",
    "# - klasyfikacja: cars (caret), segmentationData (caret), baseball (plyr)  \n",
    "# - grupowanie: storms (dplr), GermanCredit (caret), diabetes (mclust)  \n",
    "# - reguły asocjacji: mushroom (arules), Adult (arules)  \n",
    "\n",
    "library(tidyverse)\n",
    "options(jupyter.rich_display = FALSE,\n",
    "        repr.plot.width = 15,\n",
    "        repr.plot.height = 8)\n",
    "\n",
    "library(caret)\n",
    "data(cars)"
   ]
  },
  {
   "cell_type": "markdown",
   "metadata": {},
   "source": [
    "# 0. Cel badania  \n",
    "- wizualna eksploracja zbioru danych (poćwiczenie przeze mnie ggplota)  \n",
    "- chciałbym spróbowac zrobic tzw \"Sankey Diagram\", zobaczymy czy jak pokategoryzuje zmienne to cos wyjdzie dobrego z tego  \n",
    "- tbd"
   ]
  },
  {
   "cell_type": "markdown",
   "metadata": {},
   "source": [
    "# 1. Inspekcja"
   ]
  },
  {
   "cell_type": "code",
   "execution_count": 12,
   "metadata": {
    "vscode": {
     "languageId": "r"
    }
   },
   "outputs": [
    {
     "data": {
      "text/plain": [
       "[1] 804  18"
      ]
     },
     "metadata": {},
     "output_type": "display_data"
    }
   ],
   "source": [
    "dim(cars)"
   ]
  },
  {
   "cell_type": "code",
   "execution_count": 13,
   "metadata": {
    "vscode": {
     "languageId": "r"
    }
   },
   "outputs": [
    {
     "data": {
      "text/plain": [
       " [1] \"Price\"       \"Mileage\"     \"Cylinder\"    \"Doors\"       \"Cruise\"     \n",
       " [6] \"Sound\"       \"Leather\"     \"Buick\"       \"Cadillac\"    \"Chevy\"      \n",
       "[11] \"Pontiac\"     \"Saab\"        \"Saturn\"      \"convertible\" \"coupe\"      \n",
       "[16] \"hatchback\"   \"sedan\"       \"wagon\"      "
      ]
     },
     "metadata": {},
     "output_type": "display_data"
    }
   ],
   "source": [
    "names(cars)"
   ]
  },
  {
   "cell_type": "markdown",
   "metadata": {
    "vscode": {
     "languageId": "r"
    }
   },
   "source": [
    "odpowiedz z ChatuGPT, bo na necie nie moge znalezc w takim tempie odpowiedzi co oznaczaja te zmienne, a na autach się zupelnie nie znam\n",
    "\n",
    "1. **Price**: The price of the car (dependent variable for regression problems, typically in dollars).\n",
    "2. **Mileage**: The number of miles the car has been driven (independent variable, typically in thousands of miles).\n",
    "3. **Cylinder**: The number of engine cylinders (e.g., 4, 6, 8), which influences engine power and fuel efficiency.\n",
    "4. **Doors**: The number of doors on the car (e.g., 2 for a coupe, 4 for a sedan).\n",
    "5. **Cruise**: Indicates whether the car has cruise control (binary: 1 = Yes, 0 = No).\n",
    "6. **Sound**: Indicates whether the car has a premium sound system (binary: 1 = Yes, 0 = No).\n",
    "7. **Leather**: Indicates whether the car has leather seats (binary: 1 = Yes, 0 = No).\n",
    "8. **Buick**: Indicates if the car is a Buick (binary: 1 = Yes, 0 = No).\n",
    "9. **Cadillac**: Indicates if the car is a Cadillac (binary: 1 = Yes, 0 = No).\n",
    "10. **Chevy**: Indicates if the car is a Chevrolet (binary: 1 = Yes, 0 = No).\n",
    "11. **Pontiac**: Indicates if the car is a Pontiac (binary: 1 = Yes, 0 = No).\n",
    "12. **Saab**: Indicates if the car is a Saab (binary: 1 = Yes, 0 = No).\n",
    "13. **Saturn**: Indicates if the car is a Saturn (binary: 1 = Yes, 0 = No).\n",
    "14. **convertible**: Indicates if the car is a convertible (binary: 1 = Yes, 0 = No).\n",
    "15. **coupe**: Indicates if the car is a coupe (binary: 1 = Yes, 0 = No).\n",
    "16. **hatchback**: Indicates if the car is a hatchback (binary: 1 = Yes, 0 = No).\n",
    "17. **sedan**: Indicates if the car is a sedan (binary: 1 = Yes, 0 = No).\n",
    "18. **wagon**: Indicates if the car is a station wagon (binary: 1 = Yes, 0 = No)."
   ]
  },
  {
   "cell_type": "code",
   "execution_count": 9,
   "metadata": {
    "vscode": {
     "languageId": "r"
    }
   },
   "outputs": [
    {
     "name": "stdout",
     "output_type": "stream",
     "text": [
      "Rows: 804\n",
      "Columns: 18\n",
      "$ Price       \u001b[3m\u001b[90m<dbl>\u001b[39m\u001b[23m 22661.05, 21725.01, 29142.71, 30731.94, 33358.77, 30315.17…\n",
      "$ Mileage     \u001b[3m\u001b[90m<int>\u001b[39m\u001b[23m 20105, 13457, 31655, 22479, 17590, 23635, 17381, 27558, 25…\n",
      "$ Cylinder    \u001b[3m\u001b[90m<int>\u001b[39m\u001b[23m 6, 6, 4, 4, 4, 4, 4, 4, 4, 4, 4, 4, 4, 4, 4, 4, 4, 4, 4, 4…\n",
      "$ Doors       \u001b[3m\u001b[90m<int>\u001b[39m\u001b[23m 4, 2, 2, 2, 2, 2, 2, 2, 2, 4, 4, 4, 4, 4, 4, 4, 4, 4, 4, 4…\n",
      "$ Cruise      \u001b[3m\u001b[90m<int>\u001b[39m\u001b[23m 1, 1, 1, 1, 1, 1, 1, 1, 1, 1, 1, 1, 1, 1, 1, 1, 1, 1, 1, 1…\n",
      "$ Sound       \u001b[3m\u001b[90m<int>\u001b[39m\u001b[23m 0, 1, 1, 0, 1, 0, 1, 0, 0, 0, 1, 1, 1, 0, 1, 0, 1, 1, 1, 0…\n",
      "$ Leather     \u001b[3m\u001b[90m<int>\u001b[39m\u001b[23m 0, 0, 1, 0, 1, 0, 1, 1, 0, 1, 0, 1, 1, 0, 1, 1, 1, 1, 1, 1…\n",
      "$ Buick       \u001b[3m\u001b[90m<int>\u001b[39m\u001b[23m 1, 0, 0, 0, 0, 0, 0, 0, 0, 0, 0, 0, 0, 0, 0, 0, 0, 0, 0, 0…\n",
      "$ Cadillac    \u001b[3m\u001b[90m<int>\u001b[39m\u001b[23m 0, 0, 0, 0, 0, 0, 0, 0, 0, 0, 0, 0, 0, 0, 0, 0, 0, 0, 0, 0…\n",
      "$ Chevy       \u001b[3m\u001b[90m<int>\u001b[39m\u001b[23m 0, 1, 0, 0, 0, 0, 0, 0, 0, 0, 0, 0, 0, 0, 0, 0, 0, 0, 0, 0…\n",
      "$ Pontiac     \u001b[3m\u001b[90m<int>\u001b[39m\u001b[23m 0, 0, 0, 0, 0, 0, 0, 0, 0, 0, 0, 0, 0, 0, 0, 0, 0, 0, 0, 0…\n",
      "$ Saab        \u001b[3m\u001b[90m<int>\u001b[39m\u001b[23m 0, 0, 1, 1, 1, 1, 1, 1, 1, 1, 1, 1, 1, 1, 1, 1, 1, 1, 1, 1…\n",
      "$ Saturn      \u001b[3m\u001b[90m<int>\u001b[39m\u001b[23m 0, 0, 0, 0, 0, 0, 0, 0, 0, 0, 0, 0, 0, 0, 0, 0, 0, 0, 0, 0…\n",
      "$ convertible \u001b[3m\u001b[90m<int>\u001b[39m\u001b[23m 0, 0, 1, 1, 1, 1, 1, 1, 1, 0, 0, 0, 0, 0, 0, 0, 0, 0, 0, 0…\n",
      "$ coupe       \u001b[3m\u001b[90m<int>\u001b[39m\u001b[23m 0, 1, 0, 0, 0, 0, 0, 0, 0, 0, 0, 0, 0, 0, 0, 0, 0, 0, 0, 0…\n",
      "$ hatchback   \u001b[3m\u001b[90m<int>\u001b[39m\u001b[23m 0, 0, 0, 0, 0, 0, 0, 0, 0, 0, 0, 0, 0, 0, 0, 0, 0, 0, 0, 0…\n",
      "$ sedan       \u001b[3m\u001b[90m<int>\u001b[39m\u001b[23m 1, 0, 0, 0, 0, 0, 0, 0, 0, 1, 1, 1, 1, 1, 1, 1, 1, 1, 1, 1…\n",
      "$ wagon       \u001b[3m\u001b[90m<int>\u001b[39m\u001b[23m 0, 0, 0, 0, 0, 0, 0, 0, 0, 0, 0, 0, 0, 0, 0, 0, 0, 0, 0, 0…\n"
     ]
    }
   ],
   "source": [
    "glimpse(cars)"
   ]
  },
  {
   "cell_type": "code",
   "execution_count": 23,
   "metadata": {
    "vscode": {
     "languageId": "r"
    }
   },
   "outputs": [
    {
     "data": {
      "text/plain": [
       "[1] 0"
      ]
     },
     "metadata": {},
     "output_type": "display_data"
    }
   ],
   "source": [
    "sum(is.na(cars))"
   ]
  },
  {
   "cell_type": "code",
   "execution_count": 10,
   "metadata": {
    "vscode": {
     "languageId": "r"
    }
   },
   "outputs": [
    {
     "data": {
      "text/plain": [
       "     Price          Mileage         Cylinder         Doors      \n",
       " Min.   : 8639   Min.   :  266   Min.   :4.000   Min.   :2.000  \n",
       " 1st Qu.:14273   1st Qu.:14624   1st Qu.:4.000   1st Qu.:4.000  \n",
       " Median :18025   Median :20914   Median :6.000   Median :4.000  \n",
       " Mean   :21343   Mean   :19832   Mean   :5.269   Mean   :3.527  \n",
       " 3rd Qu.:26717   3rd Qu.:25213   3rd Qu.:6.000   3rd Qu.:4.000  \n",
       " Max.   :70755   Max.   :50387   Max.   :8.000   Max.   :4.000  \n",
       "     Cruise           Sound           Leather           Buick       \n",
       " Min.   :0.0000   Min.   :0.0000   Min.   :0.0000   Min.   :0.0000  \n",
       " 1st Qu.:1.0000   1st Qu.:0.0000   1st Qu.:0.0000   1st Qu.:0.0000  \n",
       " Median :1.0000   Median :1.0000   Median :1.0000   Median :0.0000  \n",
       " Mean   :0.7525   Mean   :0.6791   Mean   :0.7239   Mean   :0.0995  \n",
       " 3rd Qu.:1.0000   3rd Qu.:1.0000   3rd Qu.:1.0000   3rd Qu.:0.0000  \n",
       " Max.   :1.0000   Max.   :1.0000   Max.   :1.0000   Max.   :1.0000  \n",
       "    Cadillac          Chevy          Pontiac            Saab       \n",
       " Min.   :0.0000   Min.   :0.000   Min.   :0.0000   Min.   :0.0000  \n",
       " 1st Qu.:0.0000   1st Qu.:0.000   1st Qu.:0.0000   1st Qu.:0.0000  \n",
       " Median :0.0000   Median :0.000   Median :0.0000   Median :0.0000  \n",
       " Mean   :0.0995   Mean   :0.398   Mean   :0.1866   Mean   :0.1418  \n",
       " 3rd Qu.:0.0000   3rd Qu.:1.000   3rd Qu.:0.0000   3rd Qu.:0.0000  \n",
       " Max.   :1.0000   Max.   :1.000   Max.   :1.0000   Max.   :1.0000  \n",
       "     Saturn         convertible          coupe          hatchback      \n",
       " Min.   :0.00000   Min.   :0.00000   Min.   :0.0000   Min.   :0.00000  \n",
       " 1st Qu.:0.00000   1st Qu.:0.00000   1st Qu.:0.0000   1st Qu.:0.00000  \n",
       " Median :0.00000   Median :0.00000   Median :0.0000   Median :0.00000  \n",
       " Mean   :0.07463   Mean   :0.06219   Mean   :0.1741   Mean   :0.07463  \n",
       " 3rd Qu.:0.00000   3rd Qu.:0.00000   3rd Qu.:0.0000   3rd Qu.:0.00000  \n",
       " Max.   :1.00000   Max.   :1.00000   Max.   :1.0000   Max.   :1.00000  \n",
       "     sedan            wagon       \n",
       " Min.   :0.0000   Min.   :0.0000  \n",
       " 1st Qu.:0.0000   1st Qu.:0.0000  \n",
       " Median :1.0000   Median :0.0000  \n",
       " Mean   :0.6095   Mean   :0.0796  \n",
       " 3rd Qu.:1.0000   3rd Qu.:0.0000  \n",
       " Max.   :1.0000   Max.   :1.0000  "
      ]
     },
     "metadata": {},
     "output_type": "display_data"
    }
   ],
   "source": [
    "summary(cars)"
   ]
  },
  {
   "cell_type": "markdown",
   "metadata": {
    "vscode": {
     "languageId": "r"
    }
   },
   "source": [
    "widac, ze zmienne od trzeciej wzwyz sa binarne"
   ]
  },
  {
   "cell_type": "markdown",
   "metadata": {},
   "source": [
    "# 2. Zmiana zmiennych binarnych z typu `int` na `logical`"
   ]
  },
  {
   "cell_type": "code",
   "execution_count": 34,
   "metadata": {
    "vscode": {
     "languageId": "r"
    }
   },
   "outputs": [],
   "source": [
    "cars_with_bool_vars <- cars %>%\n",
    "    mutate(\n",
    "        Cruise = as.logical(Cruise),\n",
    "        Sound = as.logical(Sound),\n",
    "        Leather = as.logical(Leather),\n",
    "        Buick = as.logical(Buick),\n",
    "        Cadillac = as.logical(Cadillac),\n",
    "        Chevy = as.logical(Chevy),\n",
    "        Pontiac = as.logical(Pontiac),\n",
    "        Saab = as.logical(Saab),\n",
    "        Saturn = as.logical(Saturn),\n",
    "        convertible = as.logical(convertible),\n",
    "        coupe = as.logical(coupe),\n",
    "        hatchback = as.logical(hatchback),\n",
    "        sedan = as.logical(sedan),\n",
    "        wagon = as.logical(wagon) \n",
    "    )"
   ]
  },
  {
   "cell_type": "code",
   "execution_count": 35,
   "metadata": {
    "vscode": {
     "languageId": "r"
    }
   },
   "outputs": [
    {
     "name": "stdout",
     "output_type": "stream",
     "text": [
      "Rows: 804\n",
      "Columns: 18\n",
      "$ Price       \u001b[3m\u001b[90m<dbl>\u001b[39m\u001b[23m 22661.05, 21725.01, 29142.71, 30731.94, 33358.77, 30315.17…\n",
      "$ Mileage     \u001b[3m\u001b[90m<int>\u001b[39m\u001b[23m 20105, 13457, 31655, 22479, 17590, 23635, 17381, 27558, 25…\n",
      "$ Cylinder    \u001b[3m\u001b[90m<int>\u001b[39m\u001b[23m 6, 6, 4, 4, 4, 4, 4, 4, 4, 4, 4, 4, 4, 4, 4, 4, 4, 4, 4, 4…\n",
      "$ Doors       \u001b[3m\u001b[90m<int>\u001b[39m\u001b[23m 4, 2, 2, 2, 2, 2, 2, 2, 2, 4, 4, 4, 4, 4, 4, 4, 4, 4, 4, 4…\n",
      "$ Cruise      \u001b[3m\u001b[90m<lgl>\u001b[39m\u001b[23m TRUE, TRUE, TRUE, TRUE, TRUE, TRUE, TRUE, TRUE, TRUE, TRUE…\n",
      "$ Sound       \u001b[3m\u001b[90m<lgl>\u001b[39m\u001b[23m FALSE, TRUE, TRUE, FALSE, TRUE, FALSE, TRUE, FALSE, FALSE,…\n",
      "$ Leather     \u001b[3m\u001b[90m<lgl>\u001b[39m\u001b[23m FALSE, FALSE, TRUE, FALSE, TRUE, FALSE, TRUE, TRUE, FALSE,…\n",
      "$ Buick       \u001b[3m\u001b[90m<lgl>\u001b[39m\u001b[23m TRUE, FALSE, FALSE, FALSE, FALSE, FALSE, FALSE, FALSE, FAL…\n",
      "$ Cadillac    \u001b[3m\u001b[90m<lgl>\u001b[39m\u001b[23m FALSE, FALSE, FALSE, FALSE, FALSE, FALSE, FALSE, FALSE, FA…\n",
      "$ Chevy       \u001b[3m\u001b[90m<lgl>\u001b[39m\u001b[23m FALSE, TRUE, FALSE, FALSE, FALSE, FALSE, FALSE, FALSE, FAL…\n",
      "$ Pontiac     \u001b[3m\u001b[90m<lgl>\u001b[39m\u001b[23m FALSE, FALSE, FALSE, FALSE, FALSE, FALSE, FALSE, FALSE, FA…\n",
      "$ Saab        \u001b[3m\u001b[90m<lgl>\u001b[39m\u001b[23m FALSE, FALSE, TRUE, TRUE, TRUE, TRUE, TRUE, TRUE, TRUE, TR…\n",
      "$ Saturn      \u001b[3m\u001b[90m<lgl>\u001b[39m\u001b[23m FALSE, FALSE, FALSE, FALSE, FALSE, FALSE, FALSE, FALSE, FA…\n",
      "$ convertible \u001b[3m\u001b[90m<lgl>\u001b[39m\u001b[23m FALSE, FALSE, TRUE, TRUE, TRUE, TRUE, TRUE, TRUE, TRUE, FA…\n",
      "$ coupe       \u001b[3m\u001b[90m<lgl>\u001b[39m\u001b[23m FALSE, TRUE, FALSE, FALSE, FALSE, FALSE, FALSE, FALSE, FAL…\n",
      "$ hatchback   \u001b[3m\u001b[90m<lgl>\u001b[39m\u001b[23m FALSE, FALSE, FALSE, FALSE, FALSE, FALSE, FALSE, FALSE, FA…\n",
      "$ sedan       \u001b[3m\u001b[90m<lgl>\u001b[39m\u001b[23m TRUE, FALSE, FALSE, FALSE, FALSE, FALSE, FALSE, FALSE, FAL…\n",
      "$ wagon       \u001b[3m\u001b[90m<lgl>\u001b[39m\u001b[23m FALSE, FALSE, FALSE, FALSE, FALSE, FALSE, FALSE, FALSE, FA…\n"
     ]
    }
   ],
   "source": [
    "glimpse(cars_with_bool_vars)"
   ]
  },
  {
   "cell_type": "markdown",
   "metadata": {
    "vscode": {
     "languageId": "r"
    }
   },
   "source": [
    "# 3. Wizualna eksploracja"
   ]
  },
  {
   "cell_type": "markdown",
   "metadata": {
    "vscode": {
     "languageId": "r"
    }
   },
   "source": [
    "zanim cokolwiek wyswietle to chce zmienic ten dataset z one-hot-encoded wersji na wersje z kategoriami"
   ]
  },
  {
   "cell_type": "markdown",
   "metadata": {
    "vscode": {
     "languageId": "r"
    }
   },
   "source": [
    "sprawdzam najpierw, czy grupy zmiennych o ktorych mam podejrzenie, ze sie wykluczaja faktycznie to robia, czyli ze moge je zmergować do jednej kolumnt"
   ]
  },
  {
   "cell_type": "markdown",
   "metadata": {},
   "source": [
    "moj pomysl w skrocie: jesli zmienne sie wykluczaja, to znaczy, ze suma sum kolumn powinna wynosic tyle, ile jest wierszy"
   ]
  },
  {
   "cell_type": "code",
   "execution_count": 47,
   "metadata": {
    "vscode": {
     "languageId": "r"
    }
   },
   "outputs": [
    {
     "data": {
      "text/plain": [
       "   Buick Cadillac    Chevy  Pontiac     Saab   Saturn \n",
       "      80       80      320      150      114       60 "
      ]
     },
     "metadata": {},
     "output_type": "display_data"
    },
    {
     "data": {
      "text/plain": [
       "[1] 804"
      ]
     },
     "metadata": {},
     "output_type": "display_data"
    }
   ],
   "source": [
    "# marki aut\n",
    "colSums(cars[8:13])\n",
    "sum(colSums(cars[8:13]))"
   ]
  },
  {
   "cell_type": "markdown",
   "metadata": {},
   "source": [
    "marki sie wykluczaja"
   ]
  },
  {
   "cell_type": "code",
   "execution_count": 49,
   "metadata": {
    "vscode": {
     "languageId": "r"
    }
   },
   "outputs": [
    {
     "data": {
      "text/plain": [
       "convertible       coupe   hatchback       sedan       wagon \n",
       "         50         140          60         490          64 "
      ]
     },
     "metadata": {},
     "output_type": "display_data"
    },
    {
     "data": {
      "text/plain": [
       "[1] 804"
      ]
     },
     "metadata": {},
     "output_type": "display_data"
    }
   ],
   "source": [
    "# typy aut\n",
    "colSums(cars[14:18])\n",
    "sum(colSums(cars[14:18]))"
   ]
  },
  {
   "cell_type": "markdown",
   "metadata": {
    "vscode": {
     "languageId": "r"
    }
   },
   "source": [
    "typy aut tez sie wykluczaja"
   ]
  },
  {
   "cell_type": "code",
   "execution_count": 53,
   "metadata": {
    "vscode": {
     "languageId": "r"
    }
   },
   "outputs": [],
   "source": [
    "cars_with_merged_factors <- cars_with_bool_vars  %>%\n",
    "    mutate(\n",
    "        Brand = as.factor(ifelse(Buick == TRUE, \"Buick\",\n",
    "                ifelse(Cadillac == TRUE, \"Cadillac\",\n",
    "                ifelse(Chevy == TRUE, \"Chevy\",\n",
    "                ifelse(Pontiac == TRUE, \"Pontiac\",\n",
    "                ifelse(Saab == TRUE, \"Saab\", \"Saturn\")))))),\n",
    "        Type =  as.factor(ifelse(convertible == TRUE, \"convertible\",\n",
    "                ifelse(coupe == TRUE, \"coupe\",\n",
    "                ifelse(hatchback == TRUE, \"hatchback\",\n",
    "                ifelse(sedan == TRUE, \"sedan\", \"wagon\")))))\n",
    "    )  %>%\n",
    "    select(Price, Mileage, Cylinder, Doors, Cruise, Sound, Leather, Brand, Type)"
   ]
  },
  {
   "cell_type": "code",
   "execution_count": 54,
   "metadata": {
    "vscode": {
     "languageId": "r"
    }
   },
   "outputs": [
    {
     "name": "stdout",
     "output_type": "stream",
     "text": [
      "Rows: 804\n",
      "Columns: 9\n",
      "$ Price    \u001b[3m\u001b[90m<dbl>\u001b[39m\u001b[23m 22661.05, 21725.01, 29142.71, 30731.94, 33358.77, 30315.17, 3…\n",
      "$ Mileage  \u001b[3m\u001b[90m<int>\u001b[39m\u001b[23m 20105, 13457, 31655, 22479, 17590, 23635, 17381, 27558, 25049…\n",
      "$ Cylinder \u001b[3m\u001b[90m<int>\u001b[39m\u001b[23m 6, 6, 4, 4, 4, 4, 4, 4, 4, 4, 4, 4, 4, 4, 4, 4, 4, 4, 4, 4, 4…\n",
      "$ Doors    \u001b[3m\u001b[90m<int>\u001b[39m\u001b[23m 4, 2, 2, 2, 2, 2, 2, 2, 2, 4, 4, 4, 4, 4, 4, 4, 4, 4, 4, 4, 4…\n",
      "$ Cruise   \u001b[3m\u001b[90m<lgl>\u001b[39m\u001b[23m TRUE, TRUE, TRUE, TRUE, TRUE, TRUE, TRUE, TRUE, TRUE, TRUE, T…\n",
      "$ Sound    \u001b[3m\u001b[90m<lgl>\u001b[39m\u001b[23m FALSE, TRUE, TRUE, FALSE, TRUE, FALSE, TRUE, FALSE, FALSE, FA…\n",
      "$ Leather  \u001b[3m\u001b[90m<lgl>\u001b[39m\u001b[23m FALSE, FALSE, TRUE, FALSE, TRUE, FALSE, TRUE, TRUE, FALSE, TR…\n",
      "$ Brand    \u001b[3m\u001b[90m<fct>\u001b[39m\u001b[23m Buick, Chevy, Saab, Saab, Saab, Saab, Saab, Saab, Saab, Saab,…\n",
      "$ Type     \u001b[3m\u001b[90m<fct>\u001b[39m\u001b[23m sedan, coupe, convertible, convertible, convertible, converti…\n"
     ]
    }
   ],
   "source": [
    "glimpse(cars_with_merged_factors)"
   ]
  },
  {
   "cell_type": "markdown",
   "metadata": {},
   "source": [
    "## 3.1 Rozkłady zmiennych"
   ]
  }
 ],
 "metadata": {
  "kernelspec": {
   "display_name": "R",
   "language": "R",
   "name": "ir"
  },
  "language_info": {
   "codemirror_mode": "r",
   "file_extension": ".r",
   "mimetype": "text/x-r-source",
   "name": "R",
   "pygments_lexer": "r",
   "version": "4.4.2"
  }
 },
 "nbformat": 4,
 "nbformat_minor": 2
}
