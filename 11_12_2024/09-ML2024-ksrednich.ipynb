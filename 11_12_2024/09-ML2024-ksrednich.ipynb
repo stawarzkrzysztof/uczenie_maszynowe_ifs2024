{
 "cells": [
  {
   "cell_type": "markdown",
   "id": "74ccd754",
   "metadata": {},
   "source": [
    "# Grupowanie metodą k-średnich\n",
    "\n",
    "k-średnich jest metodą:\n",
    "\n",
    "- partycjonującą (granice każdego skupienia są niezależne od pozostałych)\n",
    "- na wyłączność (każdy element może należeć tylko do jednego skupienia)\n",
    "- kompletną (każdy element w zbiorze danych musi być przypisany do przynajmniej jednego skupienia).\n",
    "\n",
    "## Zadania\n",
    "\n",
    "1.\tWczytaj plik `college.csv`, a następnie podejrzyj zawartość ramki danych. Zbiór zawiera informacje o 1270 szkołach wyższych i uniwersytetach w Stanach Zjednoczonych."
   ]
  },
  {
   "cell_type": "code",
   "execution_count": 7,
   "id": "2471e202",
   "metadata": {
    "tags": [
     "remove_cell"
    ],
    "vscode": {
     "languageId": "r"
    }
   },
   "outputs": [],
   "source": [
    "library(tidyverse)\n",
    "options(jupyter.rich_display = FALSE,\n",
    "        repr.plot.width = 15,\n",
    "        repr.plot.height = 8)"
   ]
  },
  {
   "cell_type": "code",
   "execution_count": 8,
   "id": "fc7e1fe0",
   "metadata": {
    "vscode": {
     "languageId": "r"
    }
   },
   "outputs": [],
   "source": [
    "df <- read.csv(\"data/college.csv\")"
   ]
  },
  {
   "cell_type": "code",
   "execution_count": 9,
   "id": "c95f0a83",
   "metadata": {
    "vscode": {
     "languageId": "r"
    }
   },
   "outputs": [
    {
     "data": {
      "text/plain": [
       "  id     name                                city       state region\n",
       "1 102669 Alaska Pacific University           Anchorage  AK    West  \n",
       "2 101648 Marion Military Institute           Marion     AL    South \n",
       "3 100830 Auburn University at Montgomery     Montgomery AL    South \n",
       "4 101879 University of North Alabama         Florence   AL    South \n",
       "5 100858 Auburn University                   Auburn     AL    South \n",
       "6 100663 University of Alabama at Birmingham Birmingham AL    South \n",
       "  highest_degree control gender admission_rate sat_avg undergrads tuition\n",
       "1 Graduate       Private CoEd   0.4207         1054      275      19610  \n",
       "2 Associate      Public  CoEd   0.6139         1055      433       8778  \n",
       "3 Graduate       Public  CoEd   0.8017         1009     4304       9080  \n",
       "4 Graduate       Public  CoEd   0.6788         1029     5485       7412  \n",
       "5 Graduate       Public  CoEd   0.8347         1215    20514      10200  \n",
       "6 Graduate       Public  CoEd   0.8569         1107    11383       7510  \n",
       "  faculty_salary_avg loan_default_rate median_debt lon        lat     \n",
       "1 5804               0.077             23250.0     -149.90028 61.21806\n",
       "2 5916               0.136             11500.0      -87.31917 32.63235\n",
       "3 7255               0.106             21335.0      -86.29997 32.36681\n",
       "4 7424               0.111             21500.0      -87.67725 34.79981\n",
       "5 9487               0.045             21831.0      -85.48078 32.60986\n",
       "6 9957               0.062             21941.5      -86.80249 33.52066"
      ]
     },
     "metadata": {},
     "output_type": "display_data"
    }
   ],
   "source": [
    "head(df)"
   ]
  },
  {
   "cell_type": "code",
   "execution_count": 10,
   "id": "0ad49a84",
   "metadata": {
    "vscode": {
     "languageId": "r"
    }
   },
   "outputs": [
    {
     "data": {
      "text/plain": [
       " [1] \"id\"                 \"name\"               \"city\"              \n",
       " [4] \"state\"              \"region\"             \"highest_degree\"    \n",
       " [7] \"control\"            \"gender\"             \"admission_rate\"    \n",
       "[10] \"sat_avg\"            \"undergrads\"         \"tuition\"           \n",
       "[13] \"faculty_salary_avg\" \"loan_default_rate\"  \"median_debt\"       \n",
       "[16] \"lon\"                \"lat\"               "
      ]
     },
     "metadata": {},
     "output_type": "display_data"
    }
   ],
   "source": [
    "names(df)"
   ]
  },
  {
   "cell_type": "code",
   "execution_count": 11,
   "id": "596d51fb",
   "metadata": {
    "vscode": {
     "languageId": "r"
    }
   },
   "outputs": [
    {
     "data": {
      "text/plain": [
       "[1] 1270   17"
      ]
     },
     "metadata": {},
     "output_type": "display_data"
    }
   ],
   "source": [
    "dim(df)"
   ]
  },
  {
   "cell_type": "code",
   "execution_count": 12,
   "id": "4dabb2f7",
   "metadata": {
    "vscode": {
     "languageId": "r"
    }
   },
   "outputs": [
    {
     "name": "stdout",
     "output_type": "stream",
     "text": [
      "Rows: 1,270\n",
      "Columns: 17\n",
      "$ id                 \u001b[3m\u001b[90m<int>\u001b[39m\u001b[23m 102669, 101648, 100830, 101879, 100858, 100663, 101…\n",
      "$ name               \u001b[3m\u001b[90m<chr>\u001b[39m\u001b[23m \"Alaska Pacific University\", \"Marion Military Insti…\n",
      "$ city               \u001b[3m\u001b[90m<chr>\u001b[39m\u001b[23m \"Anchorage\", \"Marion\", \"Montgomery\", \"Florence\", \"A…\n",
      "$ state              \u001b[3m\u001b[90m<chr>\u001b[39m\u001b[23m \"AK\", \"AL\", \"AL\", \"AL\", \"AL\", \"AL\", \"AL\", \"AL\", \"AL…\n",
      "$ region             \u001b[3m\u001b[90m<chr>\u001b[39m\u001b[23m \"West\", \"South\", \"South\", \"South\", \"South\", \"South\"…\n",
      "$ highest_degree     \u001b[3m\u001b[90m<chr>\u001b[39m\u001b[23m \"Graduate\", \"Associate\", \"Graduate\", \"Graduate\", \"G…\n",
      "$ control            \u001b[3m\u001b[90m<chr>\u001b[39m\u001b[23m \"Private\", \"Public\", \"Public\", \"Public\", \"Public\", …\n",
      "$ gender             \u001b[3m\u001b[90m<chr>\u001b[39m\u001b[23m \"CoEd\", \"CoEd\", \"CoEd\", \"CoEd\", \"CoEd\", \"CoEd\", \"Co…\n",
      "$ admission_rate     \u001b[3m\u001b[90m<dbl>\u001b[39m\u001b[23m 0.4207, 0.6139, 0.8017, 0.6788, 0.8347, 0.8569, 0.8…\n",
      "$ sat_avg            \u001b[3m\u001b[90m<int>\u001b[39m\u001b[23m 1054, 1055, 1009, 1029, 1215, 1107, 1041, 1165, 107…\n",
      "$ undergrads         \u001b[3m\u001b[90m<int>\u001b[39m\u001b[23m 275, 433, 4304, 5485, 20514, 11383, 7060, 3033, 264…\n",
      "$ tuition            \u001b[3m\u001b[90m<int>\u001b[39m\u001b[23m 19610, 8778, 9080, 7412, 10200, 7510, 7092, 27324, …\n",
      "$ faculty_salary_avg \u001b[3m\u001b[90m<int>\u001b[39m\u001b[23m 5804, 5916, 7255, 7424, 9487, 9957, 6801, 8367, 743…\n",
      "$ loan_default_rate  \u001b[3m\u001b[90m<chr>\u001b[39m\u001b[23m \"0.077\", \"0.136\", \"0.106\", \"0.111\", \"0.045\", \"0.062…\n",
      "$ median_debt        \u001b[3m\u001b[90m<dbl>\u001b[39m\u001b[23m 23250.0, 11500.0, 21335.0, 21500.0, 21831.0, 21941.…\n",
      "$ lon                \u001b[3m\u001b[90m<dbl>\u001b[39m\u001b[23m -149.90028, -87.31917, -86.29997, -87.67725, -85.48…\n",
      "$ lat                \u001b[3m\u001b[90m<dbl>\u001b[39m\u001b[23m 61.21806, 32.63235, 32.36681, 34.79981, 32.60986, 3…\n"
     ]
    }
   ],
   "source": [
    "glimpse(df)"
   ]
  },
  {
   "cell_type": "code",
   "execution_count": null,
   "id": "30bc6325",
   "metadata": {
    "vscode": {
     "languageId": "r"
    }
   },
   "outputs": [],
   "source": [
    "# df <- df %>%\n",
    "#   mutate(\n",
    "#     Trailer_views = as.integer(Trailer_views),\n",
    "#     is_3D_available = is_3D_available == \"YES\",\n",
    "#     Genre = as.factor(Genre),\n",
    "#     Avg_age_actors = as.integer(Avg_age_actors),\n",
    "#     Num_multiplex = as.integer(Num_multiplex),\n",
    "#     Collection = as.integer(Collection),\n",
    "#     Start_Tech_Oscar = as.factor(Start_Tech_Oscar),\n",
    "#   )"
   ]
  },
  {
   "cell_type": "markdown",
   "id": "c8c58626",
   "metadata": {},
   "source": [
    "2. Utwórz nową ramkę danych, w której zamieścisz dane wyłącznie dla stanu Maryland (`state == MD`). Przekonwertuj nazwy każdej uczelni w etykiety wierszy (funkcja `column_to_rownames` - etykiety są potrzebne przy wizualizacji skupień). Następnie wyświetl statystyki podsumowujące dla cech `admission_rate` (odsetek przyjmowanych kandydatów) oraz `sat_avg` (średnia wyników egzaminów SAT)."
   ]
  },
  {
   "cell_type": "code",
   "execution_count": 37,
   "id": "46b9c0b8",
   "metadata": {
    "vscode": {
     "languageId": "r"
    }
   },
   "outputs": [],
   "source": [
    "df_md <- df %>%\n",
    "    filter(state == \"MD\") %>%\n",
    "    column_to_rownames(\"name\")"
   ]
  },
  {
   "cell_type": "code",
   "execution_count": 44,
   "id": "67b11287",
   "metadata": {
    "vscode": {
     "languageId": "r"
    }
   },
   "outputs": [
    {
     "data": {
      "text/plain": [
       " admission_rate      sat_avg    \n",
       " Min.   :0.1608   Min.   : 842  \n",
       " 1st Qu.:0.5181   1st Qu.: 900  \n",
       " Median :0.5961   Median :1048  \n",
       " Mean   :0.5886   Mean   :1062  \n",
       " 3rd Qu.:0.6606   3rd Qu.:1176  \n",
       " Max.   :0.8696   Max.   :1439  "
      ]
     },
     "metadata": {},
     "output_type": "display_data"
    }
   ],
   "source": [
    "summary(df_md[c(\"admission_rate\", \"sat_avg\")])"
   ]
  },
  {
   "cell_type": "markdown",
   "id": "672b330d",
   "metadata": {},
   "source": [
    "\n",
    "\n",
    "3. Znormalizuj dane dla wybranych w punkcie 2 cech metodą z-score (funkcja `scale()`). Następnie dla nowo utworzonego zbioru wyświetl i przeanalizuj statystyki podsumowujące."
   ]
  },
  {
   "cell_type": "code",
   "execution_count": 49,
   "id": "b4d784ab",
   "metadata": {
    "vscode": {
     "languageId": "r"
    }
   },
   "outputs": [],
   "source": [
    "df_md_num <- df_md %>%\n",
    "    select(where(is.numeric))"
   ]
  },
  {
   "cell_type": "code",
   "execution_count": null,
   "id": "beb70a3a",
   "metadata": {
    "vscode": {
     "languageId": "r"
    }
   },
   "outputs": [
    {
     "data": {
      "text/plain": [
       "[1] \"id\"                 \"admission_rate\"     \"sat_avg\"           \n",
       "[4] \"undergrads\"         \"tuition\"            \"faculty_salary_avg\"\n",
       "[7] \"median_debt\"        \"lon\"                \"lat\"               "
      ]
     },
     "metadata": {},
     "output_type": "display_data"
    }
   ],
   "source": [
    "names(df_md_num)"
   ]
  },
  {
   "cell_type": "code",
   "execution_count": 53,
   "id": "516b7ccb",
   "metadata": {
    "vscode": {
     "languageId": "r"
    }
   },
   "outputs": [],
   "source": [
    "df_md_num_scaled <- scale(df_md_num)"
   ]
  },
  {
   "cell_type": "code",
   "execution_count": 54,
   "id": "408c5618",
   "metadata": {
    "vscode": {
     "languageId": "r"
    }
   },
   "outputs": [
    {
     "data": {
      "text/plain": [
       "       id          admission_rate        sat_avg          undergrads      \n",
       " Min.   :-1.6452   Min.   :-2.77601   Min.   :-1.2512   Min.   :-0.72851  \n",
       " 1st Qu.:-0.9285   1st Qu.:-0.45725   1st Qu.:-0.9218   1st Qu.:-0.54251  \n",
       " Median : 0.1731   Median : 0.04895   Median :-0.0813   Median :-0.27779  \n",
       " Mean   : 0.0000   Mean   : 0.00000   Mean   : 0.0000   Mean   : 0.00000  \n",
       " 3rd Qu.: 0.7485   3rd Qu.: 0.46753   3rd Qu.: 0.6485   3rd Qu.: 0.01344  \n",
       " Max.   : 1.4198   Max.   : 1.82387   Max.   : 2.1393   Max.   : 3.15142  \n",
       "    tuition        faculty_salary_avg  median_debt           lon         \n",
       " Min.   :-0.9668   Min.   :-1.6626    Min.   :-1.9207   Min.   :-3.5130  \n",
       " 1st Qu.:-0.8762   1st Qu.:-0.5987    1st Qu.:-0.7640   1st Qu.:-0.1665  \n",
       " Median :-0.4924   Median :-0.3455    Median :-0.1784   Median : 0.2952  \n",
       " Mean   : 0.0000   Mean   : 0.0000    Mean   : 0.0000   Mean   : 0.0000  \n",
       " 3rd Qu.: 0.8710   3rd Qu.: 0.2089    3rd Qu.: 0.8541   3rd Qu.: 0.2952  \n",
       " Max.   : 1.7415   Max.   : 2.5986    Max.   : 1.8866   Max.   : 1.8075  \n",
       "      lat         \n",
       " Min.   :-2.4310  \n",
       " 1st Qu.:-0.4244  \n",
       " Median : 0.2985  \n",
       " Mean   : 0.0000  \n",
       " 3rd Qu.: 0.4360  \n",
       " Max.   : 1.3233  "
      ]
     },
     "metadata": {},
     "output_type": "display_data"
    }
   ],
   "source": [
    "summary(df_md_num_scaled)"
   ]
  },
  {
   "cell_type": "markdown",
   "id": "1f6c07e6",
   "metadata": {},
   "source": [
    "4. Pogrupuj dane metodą k-średnich (funkcja `kmeans()`. Pierwszy argument: dane, drugi - `centers` - liczba skupień, argument `nstart` - liczba konfiguracji do wypróbowania). Ustaw wartości `centers` na 3, zaś `nstart` na 25."
   ]
  },
  {
   "cell_type": "code",
   "execution_count": 56,
   "id": "f806a156",
   "metadata": {
    "vscode": {
     "languageId": "r"
    }
   },
   "outputs": [],
   "source": [
    "kmeans_model <- kmeans(df_md_num_scaled, centers = 3, nstart = 25)"
   ]
  },
  {
   "cell_type": "markdown",
   "id": "7e46197e",
   "metadata": {},
   "source": [
    "5. Atrybut `size` funkcji `kmeans` reprezentuje liczbę obserwacji w każdej grupie, natomiast atrybut `centers` podaje współrzędne centroid każdego skupienia. Ile obserwacji znajduje się w każdej z trzech grup i jakie są współrzędne ich centroid?"
   ]
  },
  {
   "cell_type": "code",
   "execution_count": 57,
   "id": "845bcf6a",
   "metadata": {
    "vscode": {
     "languageId": "r"
    }
   },
   "outputs": [
    {
     "data": {
      "text/plain": [
       "[1] 9 6 4"
      ]
     },
     "metadata": {},
     "output_type": "display_data"
    }
   ],
   "source": [
    "kmeans_model$size"
   ]
  },
  {
   "cell_type": "code",
   "execution_count": 58,
   "id": "4f3141a9",
   "metadata": {
    "vscode": {
     "languageId": "r"
    }
   },
   "outputs": [
    {
     "data": {
      "text/plain": [
       "  id         admission_rate sat_avg      undergrads tuition   \n",
       "1  0.7132741  0.5161299      0.007041032 -0.4246312  0.4634003\n",
       "2 -1.2658659 -0.2053411     -0.767555475 -0.3814482 -0.5882821\n",
       "3  0.2939322 -0.8532805      1.135490891  1.5275923 -0.1602274\n",
       "  faculty_salary_avg median_debt lon        lat       \n",
       "1 -0.2817820          0.7325281   0.2985534 -0.1642431\n",
       "2 -0.3176873         -0.2998342  -0.5582510  0.1255351\n",
       "3  1.1105404         -1.1984369   0.1656313  0.1812443"
      ]
     },
     "metadata": {},
     "output_type": "display_data"
    }
   ],
   "source": [
    "kmeans_model$centers"
   ]
  },
  {
   "cell_type": "markdown",
   "id": "307545bd",
   "metadata": {},
   "source": [
    "6. Zwizualizuj skupienia za pomocą funkcji `fviz_cluster()` z pakietu `factoextra`. Funkcja przyjmuje argumenty: wynik grupowania, dane, które posłużyły do utworzenia grup oraz `repel`, który pomaga w zorganizowaniu układu etykiet elementów w wizualizacji. Opisz jakie różnice między skupieniami można zaobserwować na podstawie wykresu."
   ]
  },
  {
   "cell_type": "code",
   "execution_count": 59,
   "id": "91925ab0",
   "metadata": {
    "tags": [
     "remove_cell"
    ],
    "vscode": {
     "languageId": "r"
    }
   },
   "outputs": [
    {
     "ename": "ERROR",
     "evalue": "Error in library(factoextra): there is no package called ‘factoextra’\n",
     "output_type": "error",
     "traceback": [
      "Error in library(factoextra): there is no package called ‘factoextra’\nTraceback:\n",
      "1. stop(packageNotFoundError(package, lib.loc, sys.call()))"
     ]
    }
   ],
   "source": [
    "library(factoextra)\n"
   ]
  },
  {
   "cell_type": "code",
   "execution_count": null,
   "id": "7b5bbdd3",
   "metadata": {
    "vscode": {
     "languageId": "r"
    }
   },
   "outputs": [
    {
     "name": "stderr",
     "output_type": "stream",
     "text": [
      "also installing the dependencies ‘Deriv’, ‘microbenchmark’, ‘doBy’, ‘SparseM’, ‘MatrixModels’, ‘minqa’, ‘nloptr’, ‘carData’, ‘Formula’, ‘pbkrtest’, ‘quantreg’, ‘lme4’, ‘crosstalk’, ‘estimability’, ‘mvtnorm’, ‘corrplot’, ‘viridis’, ‘car’, ‘DT’, ‘ellipse’, ‘emmeans’, ‘flashClust’, ‘leaps’, ‘multcompView’, ‘scatterplot3d’, ‘ggsci’, ‘cowplot’, ‘ggsignif’, ‘gridExtra’, ‘polynom’, ‘rstatix’, ‘abind’, ‘dendextend’, ‘FactoMineR’, ‘ggpubr’, ‘ggrepel’\n",
      "\n",
      "\n",
      "Warning message in install.packages(\"factoextra\"):\n",
      "“installation of package ‘nloptr’ had non-zero exit status”\n"
     ]
    }
   ],
   "source": [
    "install.packages(\"factoextra\")"
   ]
  },
  {
   "cell_type": "markdown",
   "id": "04666527",
   "metadata": {},
   "source": [
    "7. Oceń różnice między skupieniami w zakresie pozostałych atrybutów: ilość osób na studiach licencjackich (`undergrads`), czesne (`tuition`), spłacalność kredytu studenckiego (`loan_default_rate`), pensje pracowników wydziału (`faculty_salary_avg`) czy mediana kredytu absolwentów (`median_debt`). W tym celu należy najpierw przypisać etykiety grup do obserwacji w zbiorze. Następnie wybiera się atrybuty do porównania, grupując je według skupień i generuje średnie wartości dla każdego z wybranych atrybutów."
   ]
  },
  {
   "cell_type": "code",
   "execution_count": null,
   "id": "e413bd2b",
   "metadata": {
    "vscode": {
     "languageId": "r"
    }
   },
   "outputs": [],
   "source": []
  },
  {
   "cell_type": "markdown",
   "id": "24c89c8d",
   "metadata": {},
   "source": [
    "### Wybieranie odpowiedniej liczby skupień.\n",
    "\n",
    "D określenia optymalnej liczby skupień można wykorzystać funkcję `fviz_nbclust()` z pakietu `factoextra`. Jako trzeci argument (po zbiorze danych i metodzie grupowania) podaje się metodę oceniania:\n",
    "\n",
    "- `wss` -  na podstawie miary podobieństwa/ braku podobieństwa elementów w skupieniu WCSS (*Within Cluster Sum of Squares*) - suma kwadratów wewnątrz skupienia, czyli suma odległości między elementami w skupieniu i jego centroidą. Im mniejsza wartość WCSS, tym bardziej elementy w skupieniu są podobne do siebie. Wartość WCSS jest odwrotnie proporcjonalna do liczby `k`. Odpowiednią wartość `k` dobiera się na podstawie krzywej zależności liczby skupień od WCSS - jest to punkt zagięcia, poniżej którego dalszy wzrost `k` nie powoduje już istotnej zmiany WCSS (metoda \"łokcia\")."
   ]
  },
  {
   "cell_type": "code",
   "execution_count": null,
   "id": "8209c596",
   "metadata": {
    "vscode": {
     "languageId": "r"
    }
   },
   "outputs": [],
   "source": []
  },
  {
   "cell_type": "markdown",
   "id": "454c5bc8",
   "metadata": {},
   "source": [
    "- `silhouette` - metoda średniego zarysu - zarys elementu mierzy, jak bardzo element pasuje do innych elementów w tym samym skupieniu i jak mało pasuje do elementów w sąsiednich. Wartość zarysu bliska `1` oznacza, że element znajduje się w odpowiednim skupieniu, wartość `-1` - że znajduje się w nieodpowiednim skupieniu. Jeśli większość elementów ma wysoką wartość, konfiguracja zostaje uznana za odpowiednią."
   ]
  },
  {
   "cell_type": "code",
   "execution_count": null,
   "id": "f5e33f61",
   "metadata": {
    "vscode": {
     "languageId": "r"
    }
   },
   "outputs": [],
   "source": []
  },
  {
   "cell_type": "markdown",
   "id": "864bbf5d",
   "metadata": {},
   "source": [
    "- `gap_stat` - statystyka odstępu - porównuje różnice między skupieniami tworzonymi na podstawie danych obserwacji i skupieniami tworzonymi z losowo generowanego zbioru danych, nazywanego referencyjnym zbiorem danych. Dla danej wartości *k* statystyka odstępu jest różnicą w całkowitych sumach WCSS danych obserwacji i referencyjnego zbioru danych. Optymalna liczba skupień jest oznaczona przez wartość *k*, która prowadzi do uzyskania najwyższej statystyki odstępu."
   ]
  },
  {
   "cell_type": "code",
   "execution_count": null,
   "id": "eb5763d4",
   "metadata": {
    "vscode": {
     "languageId": "r"
    }
   },
   "outputs": [],
   "source": []
  },
  {
   "cell_type": "markdown",
   "id": "b8c6b463",
   "metadata": {},
   "source": [
    "8. Na podstawie wspomnianych metod dobierz odpowiednią liczbę skupień, a następnie przeprowadź i zwizualizuj grupowanie k-średnich dla wybranego *k*."
   ]
  },
  {
   "cell_type": "code",
   "execution_count": null,
   "id": "2386053d",
   "metadata": {
    "lines_to_next_cell": 0,
    "vscode": {
     "languageId": "r"
    }
   },
   "outputs": [],
   "source": []
  }
 ],
 "metadata": {
  "jupytext": {
   "cell_metadata_filter": "tags,-all",
   "main_language": "R",
   "notebook_metadata_filter": "-all"
  },
  "kernelspec": {
   "display_name": "R",
   "language": "R",
   "name": "ir"
  },
  "language_info": {
   "codemirror_mode": "r",
   "file_extension": ".r",
   "mimetype": "text/x-r-source",
   "name": "R",
   "pygments_lexer": "r",
   "version": "4.4.2"
  }
 },
 "nbformat": 4,
 "nbformat_minor": 5
}
