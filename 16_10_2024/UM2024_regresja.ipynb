{
 "cells": [
  {
   "cell_type": "markdown",
   "id": "7bfdbb11",
   "metadata": {},
   "source": [
    "# Regresja\n",
    "\n",
    "Dane wykorzystywane w pierwszej części ćwiczeń pochodzą z materiałów do książki: [F. Nwanganga, M. Chapple: Praktyczne uczenie maszynowe w języku R](\"https://www.wiley.com/en-ie/Practical+Machine+Learning+in+R-p-9781119591511\").\n",
    "\n",
    "## 1. Prosta regresja liniowa\n",
    "\n",
    "### Wczytanie danych\n",
    "\n",
    "Pobierz dane `bikes.csv` do swojego katalogu roboczego, a następnie wczytaj je. Użyj argumentu `col_types` żeby ustawić typ poszczególnych kolumn: `D` - data, `f` - faktor, `d` - double."
   ]
  },
  {
   "cell_type": "code",
   "execution_count": null,
   "id": "e0fc1897",
   "metadata": {
    "eval": false,
    "include": true,
    "lines_to_next_cell": 2,
    "vscode": {
     "languageId": "r"
    }
   },
   "outputs": [],
   "source": [
    "library(tidyverse)\n",
    "rowery <- read_csv(\"./bikes.csv\", col_types = \"Dffffddddd\")"
   ]
  },
  {
   "cell_type": "markdown",
   "id": "6126f2cc",
   "metadata": {
    "lines_to_next_cell": 0
   },
   "source": [
    "Wyświetl podgląd danych za pomocą funkcji `glimpse()`"
   ]
  },
  {
   "cell_type": "code",
   "execution_count": null,
   "id": "5a035885",
   "metadata": {
    "eval": false,
    "include": true,
    "lines_to_next_cell": 0,
    "vscode": {
     "languageId": "r"
    }
   },
   "outputs": [],
   "source": [
    "glimpse(rowery)"
   ]
  },
  {
   "cell_type": "markdown",
   "id": "fa27e031",
   "metadata": {},
   "source": [
    "Wyświetl i przeanalizuj statystyki opisowe danych `rowery`."
   ]
  },
  {
   "cell_type": "code",
   "execution_count": null,
   "id": "725c6df8",
   "metadata": {
    "eval": false,
    "include": true,
    "vscode": {
     "languageId": "r"
    }
   },
   "outputs": [],
   "source": [
    "summary(rowery)"
   ]
  },
  {
   "cell_type": "markdown",
   "id": "864ec8ca",
   "metadata": {
    "lines_to_next_cell": 0
   },
   "source": [
    "Narysuj wykresy punktowe porównujące `rentals` (liczbę wypożyczonych rowerów) do trzech innych zmiennych (`humidity`, `windspeed` oraz `temperature`). Co możesz powiedzieć na temat zależności między zmienną `rentals` a pozostałymi wybranymi zmiennymi na podstawie samych wykresów?"
   ]
  },
  {
   "cell_type": "code",
   "execution_count": null,
   "id": "4d5a8b1b",
   "metadata": {
    "eval": false,
    "include": true,
    "lines_to_next_cell": 0,
    "vscode": {
     "languageId": "r"
    }
   },
   "outputs": [],
   "source": [
    "#library(ggplot2)\n",
    "\n",
    "#df <- data.frame(x,y)\n",
    "humid <- ggplot(data=rowery, aes(x=humidity, y=rentals)) + geom_point()\n",
    "wind <-  ggplot(data=rowery, aes(x=windspeed, y=rentals)) + geom_point()\n",
    "temp <-  ggplot(data=rowery, aes(x=temperature, y=rentals)) + geom_point()\n",
    "\n",
    "library(gridExtra)\n",
    "grid.arrange(humid, wind, temp, nrow=1, ncol=3)"
   ]
  },
  {
   "cell_type": "markdown",
   "id": "5f108e60",
   "metadata": {},
   "source": [
    "### Korelacja"
   ]
  },
  {
   "cell_type": "markdown",
   "id": "f6895de0",
   "metadata": {
    "lines_to_next_cell": 0
   },
   "source": [
    "Oblicz współczynnik korelacji liniowej Pearsona pomiędzy zmiennymi `rentals` i `humidity`."
   ]
  },
  {
   "cell_type": "code",
   "execution_count": null,
   "id": "717480d2",
   "metadata": {
    "eval": false,
    "include": true,
    "vscode": {
     "languageId": "r"
    }
   },
   "outputs": [],
   "source": [
    "cov(rowery$rentals, rowery$humidity)\n",
    "\n",
    "sd(rowery$rentals)\n",
    "sd(rowery$humidity)\n",
    "\n",
    "pearson <- cov(rowery$rentals, rowery$humidity) / \n",
    "  (sd(rowery$rentals) * sd(rowery$humidity))\n",
    "\n",
    "pearson"
   ]
  },
  {
   "cell_type": "markdown",
   "id": "3325e81a",
   "metadata": {
    "lines_to_next_cell": 0
   },
   "source": [
    "Jaki wniosek można wyciągnąć na temat zależności pomiędzy badanymi zmiennymi na podstawie obliczonego współczynnika korelacji Pearsona?\n",
    "\n",
    "Oblicz współczynnik korelacji Pearsona między zmienną `rentals` a zmiennymi `temperature` oraz `windspeed`, wykorzystując funkcję `cor()`."
   ]
  },
  {
   "cell_type": "code",
   "execution_count": null,
   "id": "bd3c5828",
   "metadata": {
    "eval": false,
    "include": true,
    "lines_to_next_cell": 0,
    "vscode": {
     "languageId": "r"
    }
   },
   "outputs": [],
   "source": [
    "cor(rowery$temperature, rowery$rentals)\n",
    "cor(rowery$windspeed, rowery$rentals)"
   ]
  },
  {
   "cell_type": "markdown",
   "id": "fa0cec2e",
   "metadata": {},
   "source": [
    "Na podstawie obliczonych współczynników korelacji odpowiedz na pytania:\n",
    "\n",
    "- Czy istnieje jakaś zależność między liczbą wypożyczonych rowerów a pozostałymi zmiennymi?\n",
    "\n",
    "- Jeśli istnieje zależność, to jak silna?\n",
    "\n",
    "Oblicz tabelę współczynników korelacji dla  dla zmiennych liczbowych ze zbioru `rowery`. Następnie zwizualizuj korelacje za pomocą funkcji `corrplot`."
   ]
  },
  {
   "cell_type": "code",
   "execution_count": null,
   "id": "0f955602",
   "metadata": {
    "eval": false,
    "include": true,
    "vscode": {
     "languageId": "r"
    }
   },
   "outputs": [],
   "source": [
    "rowery_liczbowe <- rowery %>%\n",
    "  select(-(date:weather))\n",
    "\n",
    "rowery_korelacje <- cor(rowery_liczbowe)\n",
    "\n",
    "library(corrplot)\n",
    "corrplot(rowery_korelacje)"
   ]
  },
  {
   "cell_type": "markdown",
   "id": "8a419f6c",
   "metadata": {},
   "source": [
    "Ponieważ korelacja między A i B jest taka sama, jak pomiędzy B i A, możemy uprościć wizualizację, pokazując tylko współczynniki nad przekątną - służy do tego argument `type` funkcji `corrplot()`. Ponadto za pomocą argumentu `method` możemy wyświetlić wartości współczynników zamiast kółek."
   ]
  },
  {
   "cell_type": "code",
   "execution_count": null,
   "id": "a37b3449",
   "metadata": {
    "eval": false,
    "include": true,
    "lines_to_next_cell": 0,
    "vscode": {
     "languageId": "r"
    }
   },
   "outputs": [],
   "source": [
    "corrplot(rowery_korelacje, type = \"upper\", method = \"number\")"
   ]
  },
  {
   "cell_type": "markdown",
   "id": "e10d2b8a",
   "metadata": {},
   "source": [
    "### Współczynniki prostej regresji\n",
    "\n",
    "Ręcznie uzyskaj wartość współczynników `b0` i `b1`."
   ]
  },
  {
   "cell_type": "code",
   "execution_count": null,
   "id": "76df120b",
   "metadata": {
    "eval": false,
    "include": true,
    "vscode": {
     "languageId": "r"
    }
   },
   "outputs": [],
   "source": [
    "b1 <- cov(rowery$temperature, rowery$rentals) / var(rowery$temperature)\n",
    "b1\n",
    "\n",
    "b0 <- mean(rowery$rentals) - b1 * mean(rowery$temperature)\n",
    "b0"
   ]
  },
  {
   "cell_type": "markdown",
   "id": "d37ef498",
   "metadata": {},
   "source": [
    "### Model prostej regresji liniowej\n",
    "\n",
    "Zbuduj model liniowy dla pary zmiennych `rentals` oraz `temperature`."
   ]
  },
  {
   "cell_type": "code",
   "execution_count": null,
   "id": "25885d20",
   "metadata": {
    "eval": false,
    "include": true,
    "vscode": {
     "languageId": "r"
    }
   },
   "outputs": [],
   "source": [
    "rowery_model1 <- lm(data = rowery, rentals~temperature)\n",
    "rowery_model1"
   ]
  },
  {
   "cell_type": "markdown",
   "id": "0d3220e0",
   "metadata": {},
   "source": [
    "Wyświetl bardziej szczegółowe informacje o modelu za pomocą funkcji `summary()`."
   ]
  },
  {
   "cell_type": "code",
   "execution_count": null,
   "id": "497c537d",
   "metadata": {
    "eval": false,
    "include": true,
    "vscode": {
     "languageId": "r"
    }
   },
   "outputs": [],
   "source": [
    "summary(rowery_model1)"
   ]
  },
  {
   "cell_type": "markdown",
   "id": "bef0923d",
   "metadata": {},
   "source": [
    "Co oznaczają statystyki podsumowujące dla reszt (sekcja `Residuals`)?"
   ]
  },
  {
   "cell_type": "markdown",
   "id": "c808d439",
   "metadata": {},
   "source": [
    "## 2. Wielokrotna regresja liniowa\n",
    "\n",
    "Model uzyskany za pomocą pojedynczego predyktora (`temperature`) tłumaczył około 39% zmienności w zbiorze danych.  W kolejnym modelu uwzględnij dodatkowo zmienne `windspeed` oraz `humidity`."
   ]
  },
  {
   "cell_type": "code",
   "execution_count": null,
   "id": "b0fb4255",
   "metadata": {
    "eval": false,
    "include": true,
    "lines_to_next_cell": 0,
    "vscode": {
     "languageId": "r"
    }
   },
   "outputs": [],
   "source": [
    "rowery_model2 <- lm(data = rowery, rentals~humidity+windspeed+temperature)\n",
    "\n",
    "summary(rowery_model2)"
   ]
  },
  {
   "cell_type": "markdown",
   "id": "6559632d",
   "metadata": {},
   "source": [
    "Jak oceniasz nowo powstały model? \n",
    "\n",
    "Napisz równanie w jaki sposób `rentals` zależy od wybranych predyktorów.\n"
   ]
  },
  {
   "cell_type": "markdown",
   "id": "1ae2d9ab",
   "metadata": {},
   "source": [
    "## 3. Zadania\n",
    "\n",
    "1. Pobierz i wczytaj zbiór danych `Advertising.csv`.\n",
    "\n",
    "2. Odpowiedz na pytania: \n",
    "\n",
    "- czy istnieje zależność pomiędzy sprzedażą a budżetem reklamowym dla usług `TV`, `radio` oraz `newspaper`.\n",
    "- jeśli istnieje - jak silna jest ta zależność?\n",
    "- które media są powiązane ze sprzedażą?\n",
    "- jak duża jest zależność pomiędzy poszczególnymi mediami a sprzedażą?\n",
    "- czy zależność jest liniowa?"
   ]
  }
 ],
 "metadata": {
  "jupytext": {
   "cell_metadata_filter": "eval,include,-all",
   "main_language": "R",
   "notebook_metadata_filter": "-all"
  },
  "kernelspec": {
   "display_name": "R (RKernel)",
   "language": "R",
   "name": "rkernel"
  },
  "language_info": {
   "codemirror_mode": "R",
   "file_extension": ".R",
   "mimetype": "text/x-r-source",
   "name": "R",
   "pygments_lexer": "r",
   "version": "4.4.1"
  }
 },
 "nbformat": 4,
 "nbformat_minor": 5
}
