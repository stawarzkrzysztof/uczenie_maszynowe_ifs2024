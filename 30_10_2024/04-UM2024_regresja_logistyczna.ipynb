{
 "cells": [
  {
   "cell_type": "markdown",
   "id": "b4f5647b",
   "metadata": {},
   "source": [
    "# Regresja logistyczna\n",
    "\n",
    "Model regresji logistycznej w R buduje się za pomocą funkcji `glm()`, która służy do dopasowania uogólnionych modeli liniowych. Funkcja ta wyznacza m.in. oszacowania współczynników `b` oraz wylicza wartości reszt. W celu budowy modelu regresji logistycznej należy przy wywołaniu funkcji `glm()` podać argument `family = \"binomial\"` (rodzina rozkładów dwumianowych).\n",
    "\n",
    "Jako przykład wywołania funkcji `glm()` do budowy modelu regresji logistycznej wykorzystamy dane na temat cen domów z wykładu o regresji liniowej i wielorakiej (plik House-Price.csv). Aby samodzielnie przeanalizować przykład w RStudio, należy je najpierw poddać wstępnemu przetwarzaniu, podobnie jak na wykładzie). W najprostszym przypadku użyjemy tylko jednego predyktora: ceny (zmienna `price`) do przewidzenia czy dom zostanie sprzedany w przeciągu trzech miesięcy (zmienna `Sold`. Wartość 1 oznacza, że dom został sprzedany, 0 - nie sprzedany)."
   ]
  },
  {
   "cell_type": "code",
   "execution_count": null,
   "id": "c6af329d",
   "metadata": {
    "tags": [
     "remove_cell"
    ],
    "vscode": {
     "languageId": "r"
    }
   },
   "outputs": [],
   "source": [
    "library(readr)\n",
    "df <- read_csv(\"./dane/House-Price.csv\")\n",
    "df$avg_dist = (df$dist1+df$dist2+df$dist3+df$dist4)/4\n",
    "\n",
    "df2 <- df[,-6:-9]\n",
    "df <- df2\n",
    "rm(df2)\n",
    "\n",
    "df <-df[,-13]"
   ]
  },
  {
   "cell_type": "code",
   "execution_count": null,
   "id": "05c0adc9",
   "metadata": {
    "echo": true,
    "vscode": {
     "languageId": "r"
    }
   },
   "outputs": [],
   "source": [
    "glm.fit = glm(Sold~price, data = df, family = binomial)\n",
    "\n",
    "summary(glm.fit)"
   ]
  },
  {
   "cell_type": "markdown",
   "id": "ede2442d",
   "metadata": {},
   "source": [
    "W wyświetlonym podsumowaniu zostają przytoczone oceny współczynników dla kolejnych zmiennych objaśniających (w tym przypadku jedna zmienna `price`), odchylenia standardowe tych ocen, wartości statystyki testowej dla testu, w którym hipotezą zerową jest nieistotność danej zmiennej oraz p-wartość dla tego testu. Im p-wartość jest niższa, tym istotniejsza jest zmienna. Graficznie ta istotność jest przedstawiona gwiazdkami po prawej stronie. Wiersze tabeli odpowiadają zmiennym objaśniającym i wyrazowi wolnemu dopasowanego modelu.\n",
    "\n",
    "Możemy odwołać się do konkretnych właściwości utworzonego obiektu klasy `glm`: - tabela oszacowań współczynników modelu (dodatkowo funkcja `$coef` lub `$coefficients` na obiekcie `summary`):"
   ]
  },
  {
   "cell_type": "code",
   "execution_count": null,
   "id": "32ae7032",
   "metadata": {
    "eval": true,
    "include": true,
    "vscode": {
     "languageId": "r"
    }
   },
   "outputs": [],
   "source": [
    "glm.fit$coefficients\n",
    "\n",
    "summary(glm.fit)$coef"
   ]
  },
  {
   "cell_type": "markdown",
   "id": "f6f3004e",
   "metadata": {},
   "source": [
    "-   dopasowane przez model prawdopodobieństwa \"sukcesu\" dla każdej z prób - wartości dopasowane przez model przekształcone przez funkcję wiążącą:"
   ]
  },
  {
   "cell_type": "code",
   "execution_count": null,
   "id": "440db73d",
   "metadata": {
    "eval": false,
    "include": true,
    "vscode": {
     "languageId": "r"
    }
   },
   "outputs": [],
   "source": [
    "glm.fit$fitted.values"
   ]
  },
  {
   "cell_type": "markdown",
   "id": "25a1f8a8",
   "metadata": {},
   "source": [
    "-   reszty dla każdej z prób:"
   ]
  },
  {
   "cell_type": "code",
   "execution_count": null,
   "id": "46e3978f",
   "metadata": {
    "eval": false,
    "vscode": {
     "languageId": "r"
    }
   },
   "outputs": [],
   "source": [
    "glm.fit$residuals"
   ]
  },
  {
   "cell_type": "markdown",
   "id": "67951a06",
   "metadata": {},
   "source": [
    "-   rodzina rozkładów zmiennej objaśnianej oraz użyta funkcja wiążąca:"
   ]
  },
  {
   "cell_type": "code",
   "execution_count": null,
   "id": "39df85e4",
   "metadata": {
    "vscode": {
     "languageId": "r"
    }
   },
   "outputs": [],
   "source": [
    "glm.fit$family"
   ]
  },
  {
   "cell_type": "markdown",
   "id": "faa13e55",
   "metadata": {},
   "source": [
    "-   liczba wykonanych iteracji algorytmu:"
   ]
  },
  {
   "cell_type": "code",
   "execution_count": null,
   "id": "98578d24",
   "metadata": {
    "vscode": {
     "languageId": "r"
    }
   },
   "outputs": [],
   "source": [
    "glm.fit$iter"
   ]
  },
  {
   "cell_type": "markdown",
   "id": "3adfd2b0",
   "metadata": {},
   "source": [
    "-   czy algorytm zakończył iterowanie bo znalazł maksimum (wartość `TRUE`) czy dlatego że wykonał więcej iteracji niż założono (wartość `FALSE`):"
   ]
  },
  {
   "cell_type": "code",
   "execution_count": null,
   "id": "7f876293",
   "metadata": {
    "vscode": {
     "languageId": "r"
    }
   },
   "outputs": [],
   "source": [
    "glm.fit$converged"
   ]
  },
  {
   "cell_type": "markdown",
   "id": "4bd7a039",
   "metadata": {},
   "source": [
    "## Regresja logistyczna dla wielu zmiennych objaśniających"
   ]
  },
  {
   "cell_type": "code",
   "execution_count": null,
   "id": "6eaaaf1e",
   "metadata": {
    "vscode": {
     "languageId": "r"
    }
   },
   "outputs": [],
   "source": [
    "\n",
    "glm.fit = glm(Sold~., data = df, family = binomial)\n",
    "\n",
    "summary(glm.fit)"
   ]
  },
  {
   "cell_type": "markdown",
   "id": "9bb91af5",
   "metadata": {},
   "source": [
    "Na podstawie uzyskanych wyników możemy zbudować model końcowy (złożony ze zmiennych `price`, `air_qual`, `room_num`, `teachers`, `poor_prop`, `n_hos_beds` oraz `av_dist`). W celu wybrania najlepszego modelu możemy też skorzystać z funkcji `step()`."
   ]
  },
  {
   "cell_type": "code",
   "execution_count": null,
   "id": "534d83a8",
   "metadata": {
    "vscode": {
     "languageId": "r"
    }
   },
   "outputs": [],
   "source": [
    "model_koncowy <- glm(formula = Sold~price+air_qual+room_num+teachers+poor_prop+\n",
    "                       n_hos_beds+avg_dist, data = df, family = binomial)\n",
    "summary(model_koncowy)\n",
    "\n",
    "step(model_koncowy, direction = \"backward\")"
   ]
  },
  {
   "cell_type": "markdown",
   "id": "f948cc2d",
   "metadata": {},
   "source": [
    "Funkcja `vif` (z pakietu `car`) służy do zbadania współliniowości zmiennych:"
   ]
  },
  {
   "cell_type": "code",
   "execution_count": null,
   "id": "8de3121e",
   "metadata": {
    "vscode": {
     "languageId": "r"
    }
   },
   "outputs": [],
   "source": [
    "library(car)\n",
    "vif(model_koncowy)"
   ]
  },
  {
   "cell_type": "markdown",
   "id": "a73f11f0",
   "metadata": {},
   "source": [
    "Analizę końcowego modelu możemy wykonać za pomocą szans (ilorazu prawdopodobieństwa sukcesu do prawdopodobieństwa porażki)"
   ]
  },
  {
   "cell_type": "code",
   "execution_count": null,
   "id": "a858d05c",
   "metadata": {
    "vscode": {
     "languageId": "r"
    }
   },
   "outputs": [],
   "source": [
    "exp(coef(model_koncowy))"
   ]
  },
  {
   "cell_type": "markdown",
   "id": "0fddbf87",
   "metadata": {},
   "source": [
    "Szansa dla zmiennej `price` wynosi 0.76, co oznacza, że wraz ze wzrostem ceny o jedną jednostkę szansa na sprzedaż domu maleje o ok 24%. Natomiast wraz ze zwiększeniem się ilości nauczycieli przypadających na tysiąc mieszkańców o jeden (zmienna `teachers`), szansa sprzedania domu w tej okolicy wzrasta średnio o 35%.\n",
    "\n",
    "## Zadania\n",
    "\n",
    "1.  Wczytaj dane `lab4-dane.csv`. Zawierają one informacje na temat matek i ich dzieci, u których wykryto pewną rzadko występującą wadę wrodzoną (grupa badana) oraz zdrowych (grupa kontrolna)."
   ]
  },
  {
   "cell_type": "code",
   "execution_count": null,
   "id": "1c332687",
   "metadata": {
    "vscode": {
     "languageId": "r"
    }
   },
   "outputs": [],
   "source": [
    "# "
   ]
  },
  {
   "cell_type": "markdown",
   "id": "92a3b274",
   "metadata": {},
   "source": [
    "2.  Przeanalizuj dane oraz wyświetl podstawowe statystyki opisowe dla analizowanych zmiennych. Następnie narysuj histogramy dla zmiennych `Wiek` oraz `MasaUr`. Oceń rozkłady tych zmiennych."
   ]
  },
  {
   "cell_type": "code",
   "execution_count": null,
   "id": "b1ea6d86",
   "metadata": {
    "vscode": {
     "languageId": "r"
    }
   },
   "outputs": [],
   "source": [
    "#"
   ]
  },
  {
   "cell_type": "markdown",
   "id": "f0c4ad72",
   "metadata": {},
   "source": [
    "3.  Utwórz model regresji logistycznej by sprawdzić, które zmienne mogą wywierać istotny wpływ na występowanie wady. Następnie wybierz zmienne wpływowe i na ich podstawie utwórz model końcowy."
   ]
  },
  {
   "cell_type": "code",
   "execution_count": null,
   "id": "5de12992",
   "metadata": {
    "vscode": {
     "languageId": "r"
    }
   },
   "outputs": [],
   "source": [
    "#"
   ]
  },
  {
   "cell_type": "markdown",
   "id": "03365708",
   "metadata": {},
   "source": [
    "4.  Oblicz współczynnik VIF dla modelu końcowego i sprawdź, czy występuje współliniowość w danych (współliniowość możemy też analizować za pomocą wykresu korelacji)"
   ]
  },
  {
   "cell_type": "code",
   "execution_count": null,
   "id": "f196e0e6",
   "metadata": {
    "vscode": {
     "languageId": "r"
    }
   },
   "outputs": [],
   "source": [
    "#"
   ]
  },
  {
   "cell_type": "markdown",
   "id": "2534fba5",
   "metadata": {},
   "source": [
    "5.  Wykonaj analizę modelu końcowego za pomocą szans."
   ]
  },
  {
   "cell_type": "code",
   "execution_count": null,
   "id": "ec0dffde",
   "metadata": {
    "vscode": {
     "languageId": "r"
    }
   },
   "outputs": [],
   "source": [
    "#"
   ]
  }
 ],
 "metadata": {
  "jupytext": {
   "cell_metadata_filter": "eval,tags,echo,include,-all",
   "main_language": "R",
   "notebook_metadata_filter": "-all"
  },
  "kernelspec": {
   "display_name": "R (RKernel)",
   "language": "R",
   "name": "rkernel"
  },
  "language_info": {
   "name": "R"
  }
 },
 "nbformat": 4,
 "nbformat_minor": 5
}
