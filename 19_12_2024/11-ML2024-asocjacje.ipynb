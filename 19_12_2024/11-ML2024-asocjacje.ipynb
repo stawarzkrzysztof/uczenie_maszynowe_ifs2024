{
 "cells": [
  {
   "cell_type": "markdown",
   "id": "6522a149",
   "metadata": {
    "lines_to_next_cell": 0
   },
   "source": [
    "# Odkrywanie reguł asocjacyjnych\n",
    "\n",
    "Będziemy korzystać z implementacji algorytmu Apriori w pakiecie `arules`. Składnia tworzenia zbioru reguł za pomocą funkcji `apriori()` jest następująca:\n",
    "\n",
    "`apriori(data = mydata, parameter = list(support = 0.1, confidence = 0.8, minlen = 1))`\n",
    "\n",
    "gdzie:\n",
    "- `data` - macierz rozrzedzona z danymi transkacyjnymi\n",
    "- `support` - określa minimalne wymagane wsparcie reguły. Domyślnym ustawieniem jest `support = 0.1`, co oznacza, że aby wygenerować regułę dla zbioru Groceries, artykuł musi pojawić się w przynajmniej $0.1 \\cdot 9835 = 983.5$ transkacjach.\n",
    "-  `confidence` - określa minimalną wymaganą ufność reguły\n",
    "- `minlen` - określa minimalną wymaganą liczbę artykułów w regule\n",
    "\n",
    "Funkcja zwraca obiekt reguł przechowujący wszystkie reguły, które spełniają kryteria minimalne.\n",
    "\n",
    "Do ilustracji działania algorytmu użyjemy zbioru `Groceries` dostępnego w pakiecie `datasets`.\n",
    "\n",
    "Dla zobrazowania, na wykresie umieszczono 20 najczęściej kupowanych produktów."
   ]
  },
  {
   "cell_type": "code",
   "execution_count": null,
   "id": "fed111ec",
   "metadata": {
    "eval": false,
    "include": true,
    "message": false,
    "vscode": {
     "languageId": "r"
    }
   },
   "outputs": [],
   "source": [
    "library(arules)\n",
    "\n",
    "data(\"Groceries\")\n",
    "itemFrequencyPlot(Groceries,topN=20,type=\"absolute\", xlab = \"Często kupowane produkty\", \n",
    "                  ylab = \"Częstość\", col = \"Gray\", \n",
    "                  main = \"Lista 20 najpopularniejszych produktów\")"
   ]
  },
  {
   "cell_type": "markdown",
   "id": "9dbf5f12",
   "metadata": {},
   "source": [
    "## Zadania\n",
    "\n",
    "1. Utwórz zbiór reguł dla zbioru `Groceries`. Wsparcie ustaw na podstawie najmniejszej liczby transakcji wymaganej do tego, aby uznać wzorzec za interesujący, czyli np artykuły kupowane dwa razy dziennie (czyli 60 razy w danych z miesiąca), zatem wsparcie = 60/9835. Pozostałe wartości parametrów: ufność = 0.25 (reguła jest dołączana do wyników wtedy, kiedy działa w min 25% przypadków), minimalna liczba wymaganych artykułów = 2 (eliminujemy reguły zawierające mniej niż 2 elementy)."
   ]
  },
  {
   "cell_type": "code",
   "execution_count": null,
   "id": "b65cc078",
   "metadata": {
    "eval": false,
    "include": true,
    "vscode": {
     "languageId": "r"
    }
   },
   "outputs": [],
   "source": [
    "myrules <- apriori(#TODO )"
   ]
  },
  {
   "cell_type": "markdown",
   "id": "26830bd6",
   "metadata": {},
   "source": [
    "Aby sprawdzić do czego służą parametry wymienione w pierwszych wierszach wyników, wpisz w konsoli polecenie `?APparameter`.\n",
    "\n",
    "2. Wyświetl ogólny przegląd reguł asocjacyjnych za pomocą funkcji `summary()`. Rozmiar reguły obliczany jest jako suma lewej (`lhs`) i prawej (`rhs`) strony reguły."
   ]
  },
  {
   "cell_type": "code",
   "execution_count": null,
   "id": "f801f8fe",
   "metadata": {
    "vscode": {
     "languageId": "r"
    }
   },
   "outputs": [],
   "source": []
  },
  {
   "cell_type": "markdown",
   "id": "813116f2",
   "metadata": {},
   "source": [
    "Miary `count` (liczebności) oraz `coverage` (pokrycia) są blisko związane ze wsparciem i ufnością. Liczebność jest licznikiem miary wsparcia (liczba transakcji, które zawierały artykuł). Miara pokrycia reguły asocjacji jest wsparciem lewej strony reguły (pokrycie to szansa, że reguła dotyczy dowolnej, losowo wybranej transakcji w zbiorze danych). Miara `lift` (dźwignia) reguły określa, o ile bardziej prawdopodobny jest zakup artykułu lub zbioru artykułów w stosunku do jego typowego wskaźnika kupna, jeśli wiadomo, że kupiony został inny artykuł lub zbiór artykułów.\n",
    "\n",
    "3. Wyświetl pierwsze pięć reguł za pomocą funkcji `inspect()`."
   ]
  },
  {
   "cell_type": "code",
   "execution_count": null,
   "id": "c84c1634",
   "metadata": {
    "vscode": {
     "languageId": "r"
    }
   },
   "outputs": [],
   "source": []
  },
  {
   "cell_type": "markdown",
   "id": "289b921b",
   "metadata": {},
   "source": [
    "Odczytaj i opisz w komentarzu pierwszą regułę.\n",
    "\n",
    "## Sortowanie zbioru reguł asocjacyjnych\n",
    "\n",
    "W zależności od celów analizy koszyka, najużyteczniejszymi regułami mogą być te, które mają najwyższe wsparcie, ufność lub dźwignię. Kolejność reguł możemy zmienić, stosując pakiet `arules` w połączneniu z funkcją `sort()`.\n",
    "\n",
    "*Zadanie*\n",
    "4. Wyświetl pięć reguł najlepszych pod względem dźwigni i wypisz wnioski."
   ]
  },
  {
   "cell_type": "code",
   "execution_count": null,
   "id": "9645ed4f",
   "metadata": {
    "vscode": {
     "languageId": "r"
    }
   },
   "outputs": [],
   "source": []
  },
  {
   "cell_type": "markdown",
   "id": "a7672f5d",
   "metadata": {},
   "source": [
    "## Podzbiory reguł asocjacyjnych\n",
    "Do wyszukiwania podzbiorów transakcji, artykułów lub reguł służy funkcja `subset()`.\n",
    "\n",
    "*Zadanie*\n",
    "5. Znajdź reguły, w których występują owoce jagodowe i zapisz w obiekcie `berryrules`. Następnie zbadaj te reguły (funkcja `inspect()`) i wypisz wnioski "
   ]
  }
 ],
 "metadata": {
  "jupytext": {
   "cell_metadata_filter": "message,eval,include,-all",
   "main_language": "R",
   "notebook_metadata_filter": "-all"
  },
  "kernelspec": {
   "display_name": "R (RKernel)",
   "language": "R",
   "name": "rkernel"
  },
  "language_info": {
   "name": "R"
  }
 },
 "nbformat": 4,
 "nbformat_minor": 5
}
