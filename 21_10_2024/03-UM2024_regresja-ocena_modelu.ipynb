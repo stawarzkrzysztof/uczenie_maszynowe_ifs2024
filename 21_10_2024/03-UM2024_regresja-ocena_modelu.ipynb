{
 "cells": [
  {
   "cell_type": "markdown",
   "id": "be41c44d",
   "metadata": {},
   "source": [
    "# Ocenianie modelu regresji\n",
    "\n",
    "Ciąg dalszy ćwiczeń z poprzedniego laboratorium.\n",
    "\n",
    "## 1. Testy diagnostyczne reszt\n",
    "\n",
    "Aby model regresji liniowej był prawidłowy, reszty (różnice między wartościami przewidywanymi przez model a rzeczywistymi) muszą spełniać kilka kryteriów:\n",
    "\n",
    "- ich średnia wynosi zero,"
   ]
  },
  {
   "cell_type": "code",
   "execution_count": null,
   "id": "8603a6df",
   "metadata": {
    "eval": false,
    "include": true,
    "vscode": {
     "languageId": "r"
    }
   },
   "outputs": [],
   "source": [
    "mean(rowery_model2$residuals) # średnia jest bardzo bliska 0, więc kryterium jest spełnione"
   ]
  },
  {
   "cell_type": "markdown",
   "id": "48cb7c8e",
   "metadata": {},
   "source": [
    "- mają rozkład normalny,"
   ]
  },
  {
   "cell_type": "code",
   "execution_count": null,
   "id": "baca5a62",
   "metadata": {
    "eval": false,
    "include": true,
    "vscode": {
     "languageId": "r"
    }
   },
   "outputs": [],
   "source": [
    "library(olsrr)\n",
    "\n",
    "ols_plot_resid_hist(rowery_model2)\n",
    "ols_plot_resid_qq(rowery_model2)"
   ]
  },
  {
   "cell_type": "markdown",
   "id": "781c6485",
   "metadata": {},
   "source": [
    "- homoskedastyczność (wartości zmiennej niezależnej mają taką samą wariancję)"
   ]
  },
  {
   "cell_type": "code",
   "execution_count": null,
   "id": "62105b09",
   "metadata": {
    "eval": false,
    "include": true,
    "vscode": {
     "languageId": "r"
    }
   },
   "outputs": [],
   "source": [
    "ols_plot_resid_fit(rowery_model2)"
   ]
  },
  {
   "cell_type": "markdown",
   "id": "a562bf18",
   "metadata": {},
   "source": [
    "- nie są skorelowane"
   ]
  },
  {
   "cell_type": "code",
   "execution_count": null,
   "id": "955a11e1",
   "metadata": {
    "eval": false,
    "include": true,
    "lines_to_next_cell": 0,
    "vscode": {
     "languageId": "r"
    }
   },
   "outputs": [],
   "source": [
    "library(car)\n",
    "# Test Durbina-Watsona\n",
    "# 0 < DW < 2: dodatnia autokorelacja\n",
    "# DW = 2: zerowa autokorelacja\n",
    "# 2 < DW < 4: autokorelacja ujemna\n",
    "\n",
    "durbinWatsonTest(rowery_model2)"
   ]
  },
  {
   "cell_type": "markdown",
   "id": "29392155",
   "metadata": {},
   "source": [
    "## 2. Analiza punktów wpływowych\n",
    "\n",
    "Punkty wpływowe, to skrajne wartości zmiennych predyktorów, które mają znaczący wpływ na model regresji. W przypadku regresji wielokrotnej trudno jest znaleźć wartości odstające, które identyfikują punkty wpływowe. W tym celu stosuje się test statystyczny _odległość Cooka_."
   ]
  },
  {
   "cell_type": "code",
   "execution_count": null,
   "id": "aa6ab7f9",
   "metadata": {
    "eval": false,
    "include": true,
    "lines_to_next_cell": 0,
    "vscode": {
     "languageId": "r"
    }
   },
   "outputs": [],
   "source": [
    "library(olsrr)\n",
    "# Wykres odległości Cooka\n",
    "ols_plot_cooksd_chart(rowery_model2)\n",
    "\n",
    "# Wyświetlenie wartości odstających według malejącej odległości Cooka\n",
    "cooks_outliers <- ols_plot_cooksd_chart(rowery_model2, print_plot = FALSE)$outliers\n",
    "arrange(cooks_outliers, desc(cooks_distance))"
   ]
  },
  {
   "cell_type": "markdown",
   "id": "aefd6963",
   "metadata": {},
   "source": [
    "### Zadanie: \n",
    "\n",
    "1. Porównaj obserwację o najwyższej odległości Cooka z podsumowaniem statystycznym pozostałych danych.\n",
    "2. Zapisz indeksy 25 zidentyfikowanych punktów wpływowych w zmiennej `outlier_index`.\n",
    "3. Porównaj podsumowania statystyczne zidentyfikowanych punktów wpływowych z podsumowaniem reszty danych. Jakie obserwujesz różnice?\n",
    "4. Porównaj rozkład statystyczny oryginalnych danych z rozkładem statystycznym danych bez elementów odstających. Na tej podstawie zdecyduj, czy można usunąć z danych elementy odstające. Jeśli tak - zapisz kopię zbioru danych bez elementów odstających jako `rowery2`."
   ]
  },
  {
   "cell_type": "markdown",
   "id": "e34750bb",
   "metadata": {},
   "source": [
    "# Tu wpisz swoje rozwiązanie"
   ]
  },
  {
   "cell_type": "markdown",
   "id": "a3a8dfb0",
   "metadata": {},
   "source": [
    "## 3. Współliniowość\n",
    "\n",
    "Zjawisko współliniowości zachodzi wówczas, gdy zmienne predyktorów (dwie lub więcej) są ze sobą mocno skorelowane. W modelach regresji liniowej skutkuje to zawyżonymi błędami standardowymi i utrudnia oddzielenie wpływu poszczególnych predyktorów na odpowiedź.\n",
    "\n",
    "Do wykrywania współliniowości służy współczynnik inflacji wariancji VIF (ang. _Variance Inflation Factor_). $VIF = \\frac{1}{1 - R^2_k = \\frac{1}{Tolerance}}$, gdzie $R^2_k$ to współczynnik determinacji $R^2$ równania regresji, gdzie predyktor $k$ znajduje się po lewej stronie, a wszystkie pozostałe zmienne predyktorów po prawej.\n",
    "\n",
    "Przyjmuje się, że współliniowość istnieje wówczas, gdy $VIF > 5$ ($Tolerance < 0.2$).\n",
    "\n",
    "Oblicz współczynnik VIF dla zmiennych predyktorów modelu `rowery_model2`."
   ]
  },
  {
   "cell_type": "code",
   "execution_count": null,
   "id": "0f63bba9",
   "metadata": {
    "eval": false,
    "include": true,
    "vscode": {
     "languageId": "r"
    }
   },
   "outputs": [],
   "source": [
    "ols_vif_tol(rowery_model2)"
   ]
  },
  {
   "cell_type": "markdown",
   "id": "b35085e4",
   "metadata": {},
   "source": [
    "## 4. Ulepszanie modelu\n",
    "\n",
    "### Uwzględnienie relacji nieliniowych - regresja wielomianowa\n",
    "\n",
    "Wykres zależności zmiennej `rentals` od pozostałych predyktorów. Niebieska linia - dopasowanie regresji liniowej, czerwona - dopasowanie po wprowadzeniu predyktorów wielomianowych."
   ]
  },
  {
   "cell_type": "code",
   "execution_count": null,
   "id": "b185c1d9",
   "metadata": {
    "eval": false,
    "include": true,
    "vscode": {
     "languageId": "r"
    }
   },
   "outputs": [],
   "source": [
    "#library(ggplot2)\n",
    "\n",
    "#df <- data.frame(x,y)\n",
    "humid <- ggplot(data=rowery2, aes(x=humidity, y=rentals)) + geom_point() + \n",
    "  geom_smooth(method = 'lm', se = TRUE) +\n",
    "  geom_smooth(method = 'gam', colour = 'red')\n",
    "wind <-  ggplot(data=rowery2, aes(x=windspeed, y=rentals)) + geom_point() + \n",
    "  geom_smooth(method = 'lm', se = TRUE) +\n",
    "  geom_smooth(method = 'gam', colour = 'red')\n",
    "temp <-  ggplot(data=rowery2, aes(x=temperature, y=rentals)) + geom_point() + \n",
    "  geom_smooth(method = 'lm', se = TRUE) +\n",
    "  geom_smooth(method = 'gam', colour = 'red')\n",
    "\n",
    "library(gridExtra)\n",
    "grid.arrange(humid, wind, temp, nrow=1, ncol=3)"
   ]
  },
  {
   "cell_type": "markdown",
   "id": "eb11adae",
   "metadata": {},
   "source": [
    "Dodaj do modelu wersje predyktorów podniesionych do kwadratu:"
   ]
  },
  {
   "cell_type": "code",
   "execution_count": null,
   "id": "8cf86262",
   "metadata": {
    "eval": false,
    "include": true,
    "vscode": {
     "languageId": "r"
    }
   },
   "outputs": [],
   "source": [
    "# Dodanie nowych predyktorów\n",
    "rowery2 <- rowery2 %>%\n",
    "  mutate(humidity2 = humidity^2) %>%\n",
    "  mutate(windspeed2 = windspeed^2) %>%\n",
    "  mutate(temperature2 = temperature^2)\n",
    "\n",
    "# Utworzenie nowego modelu liniowego\n",
    "rowery_model3 <- lm(data = rowery2,\n",
    "                    rentals ~ humidity + windspeed + temperature +\n",
    "                      humidity2 + windspeed2 + temperature2)\n",
    "\n",
    "summary(rowery_model3)"
   ]
  },
  {
   "cell_type": "markdown",
   "id": "1098e0f2",
   "metadata": {},
   "source": [
    "Sprawdź, czy wszystkie predyktory są istotne. Jeśli nie - popraw model usuwając zmienne nieistotne. Porównaj dane diagnostyczne nowego modelu z danymi modelu poprzedniego. Co się zmieniło?\n",
    "\n",
    "### Uwzględnienie zmiennych kategorialnych\n",
    "\n",
    "Za pomocą funkcji `summary()` wyświetl podsumowanie dla zmiennych czynnikowych `season`, `holiday`, `weekday` oraz `weather`.\n",
    "\n",
    "Zamień wartości liczbowe reprezentujące wartości kategorialne na opisowe. Służy do tego funkcja `revalue()` z pakiety `plyr`."
   ]
  },
  {
   "cell_type": "code",
   "execution_count": null,
   "id": "48f373c5",
   "metadata": {
    "eval": false,
    "include": true,
    "vscode": {
     "languageId": "r"
    }
   },
   "outputs": [],
   "source": [
    "rowery2 <- rowery2 %>%\n",
    "  mutate(season = plyr::revalue(season, c(\"1\" = \"Zima\", \"2\" = \"Wiosna\",\n",
    "                                    \"3\" = \"Lato\", \"4\" = \"Jesien\"))) %>%\n",
    "  mutate(holiday = plyr::revalue(holiday, c(\"0\" = \"Nie\", \"1\" = \"Tak\"))) %>%\n",
    "  mutate(weekday = plyr::revalue(weekday, c(\"0\" = \"Niedziela\",\"1\" = \"Poniedzialek\", \n",
    "                                      \"2\" = \"Wtorek\", \"3\" = \"Sroda\", \"4\" = \"Czwartek\",\n",
    "                                      \"5\" = \"Piatek\", \"6\" = \"Sobota\"))) %>%\n",
    "  mutate(weather = plyr::revalue(weather, c(\"1\" = \"Ladna pogoda\", \"2\" = \"Lekkie opady\",\n",
    "                                      \"3\" = \"Obfite opady\")))"
   ]
  },
  {
   "cell_type": "markdown",
   "id": "5ff7de18",
   "metadata": {},
   "source": [
    "Utwórz kolejny model, uwzględniający wybraną zmienną kategorialną. Przeanalizuj podsumowanie modelu.\n",
    "\n",
    "### Interakcje między zmiennymi\n",
    "\n",
    "Zdarza się, że dwie zmienne mają łączny wpływ na odpowiedź. Na przykład interakcje mogą zachodzić między zmiennymi `weather` oraz `windspeed` lub między zmiennymi `weather` a `temperature`. Efekt interakcji można uwzględnić w modelu regresji przy użyciu operatora `*`. \n",
    "\n",
    "Utwórz nowy model regresji, uwzględniający interakcję `weather * windspeed`.\n",
    "\n",
    "### Wybieranie ważnych zmiennych\n",
    "\n",
    "W zbiorze danych `rowery2` dodaj trzy predyktory oparte na zmiennej `date`: \n",
    "\n",
    "- `dzien` - liczba dni, jakie upłynęły od dnia rozpoczęcia programu (różnica między zmienną `date` a minimalną wartością zmiennej `date`)\n",
    "\n",
    "- `miesiac`\n",
    "\n",
    "- `rok`."
   ]
  },
  {
   "cell_type": "code",
   "execution_count": null,
   "id": "dfa55770",
   "metadata": {
    "eval": false,
    "include": true,
    "vscode": {
     "languageId": "r"
    }
   },
   "outputs": [],
   "source": [
    "library(lubridate)\n",
    "\n",
    "rowery2 <- rowery2 %>%\n",
    "  mutate(dzien = as.numeric(date - min(date))) %>%\n",
    "  mutate(miesiac = as.factor(month(date))) %>%\n",
    "  mutate(rok = as.factor(year(date))) %>%\n",
    "  select(-date)"
   ]
  },
  {
   "cell_type": "markdown",
   "id": "dde9ad4a",
   "metadata": {},
   "source": [
    "Zastosuj funkcję `ols_step_both_p()` do selekcji zmiennych:"
   ]
  },
  {
   "cell_type": "code",
   "execution_count": null,
   "id": "b4d4a12f",
   "metadata": {
    "eval": false,
    "include": true,
    "vscode": {
     "languageId": "r"
    }
   },
   "outputs": [],
   "source": [
    "ols_step_both_p(\n",
    "  model = lm(\n",
    "    data = rowery2,\n",
    "    rentals ~ humidity + weekday + holiday + \n",
    "      temperature + humidity2 + temperature2 + season +\n",
    "      windspeed * weather + realfeel + dzien + miesiac + rok\n",
    "  ),\n",
    "  pent = 0.2, # wartość progowa p zmiennych uwzględnianych w modelu\n",
    "  prem = 0.01, # progowa wartość p zmiennych usuwanych z modelu\n",
    "  details = FALSE # flaga wskazująca jak dużo informacji wyświetlać\n",
    ")"
   ]
  },
  {
   "cell_type": "markdown",
   "id": "f3c4250c",
   "metadata": {},
   "source": [
    "Utwórz nowy model, wykorzystując zmienne wybrane podczas selekcji. Następnie ponownie sprawdź homoskedastyczność modelu."
   ]
  },
  {
   "cell_type": "markdown",
   "id": "be092630",
   "metadata": {},
   "source": [
    "# Tu wpisz swoje rozwiązanie"
   ]
  }
 ],
 "metadata": {
  "jupytext": {
   "cell_metadata_filter": "eval,include,-all",
   "main_language": "R",
   "notebook_metadata_filter": "-all"
  },
  "kernelspec": {
   "display_name": "R",
   "language": "R",
   "name": "ir"
  },
  "language_info": {
   "name": "R"
  }
 },
 "nbformat": 4,
 "nbformat_minor": 5
}
